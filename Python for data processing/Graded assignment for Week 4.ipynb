{
  "nbformat": 4,
  "nbformat_minor": 0,
  "metadata": {
    "@webio": {
      "lastCommId": null,
      "lastKernelId": null
    },
    "kernelspec": {
      "display_name": "Python 3",
      "language": "python",
      "name": "python3"
    },
    "language_info": {
      "codemirror_mode": {
        "name": "ipython",
        "version": 3
      },
      "file_extension": ".py",
      "mimetype": "text/x-python",
      "name": "python",
      "nbconvert_exporter": "python",
      "pygments_lexer": "ipython3",
      "version": "3.8.3"
    },
    "colab": {
      "name": "[Py4DP] [Lecture-4] Graded assignment.ipynb",
      "provenance": [],
      "collapsed_sections": [],
      "toc_visible": true
    }
  },
  "cells": [
    {
      "cell_type": "markdown",
      "metadata": {
        "id": "5bjdm6RYoBuJ"
      },
      "source": [
        "# Notes\n",
        "\n",
        "This assignment is devoted to `pandas`. It covers indexing and filtering, and some `groupby` and `join` operations. The assignment roughly corresponds to Week 4 and the beginning of Week 5 of the course.\n",
        "\n",
        "The main dataset you'll be using is [Titanic](https://www.kaggle.com/c/titanic). Please, note, that you must not rely on any specific location for the dataset, hence, any code like\n",
        "\n",
        "```python\n",
        "titanic_train = pd.read_csv(\"<location>/train.csv\")\n",
        "```\n",
        "\n",
        "will fail and your notebook won't be validated and graded. Inputs to the functions are described explicitly in each case, and that's the only thing you can rely on."
      ]
    },
    {
      "cell_type": "code",
      "metadata": {
        "ExecuteTime": {
          "end_time": "2019-12-12T07:42:25.600794Z",
          "start_time": "2019-12-12T07:42:25.049149Z"
        },
        "scrolled": true,
        "id": "-BVEDiTKoBuN",
        "colab": {
          "base_uri": "https://localhost:8080/"
        },
        "outputId": "de3eeab9-ed61-4e8d-80cc-2adcf2a85e21"
      },
      "source": [
        "%pylab inline\n",
        "plt.style.use(\"bmh\")"
      ],
      "execution_count": 1,
      "outputs": [
        {
          "output_type": "stream",
          "text": [
            "Populating the interactive namespace from numpy and matplotlib\n"
          ],
          "name": "stdout"
        }
      ]
    },
    {
      "cell_type": "code",
      "metadata": {
        "ExecuteTime": {
          "end_time": "2019-12-12T07:42:25.610011Z",
          "start_time": "2019-12-12T07:42:25.605263Z"
        },
        "id": "lkENnWUAoBuS"
      },
      "source": [
        "plt.rcParams[\"figure.figsize\"] = (6,6)"
      ],
      "execution_count": 2,
      "outputs": []
    },
    {
      "cell_type": "code",
      "metadata": {
        "ExecuteTime": {
          "end_time": "2019-12-12T07:42:26.294404Z",
          "start_time": "2019-12-12T07:42:25.864539Z"
        },
        "scrolled": true,
        "id": "naqGT0K_oBuW"
      },
      "source": [
        "import numpy as np\n",
        "import pandas as pd"
      ],
      "execution_count": 3,
      "outputs": []
    },
    {
      "cell_type": "code",
      "metadata": {
        "ExecuteTime": {
          "end_time": "2019-12-12T07:42:27.329433Z",
          "start_time": "2019-12-12T07:42:27.323905Z"
        },
        "tags": [
          "parameters"
        ],
        "id": "99NeIiuGoBuZ"
      },
      "source": [
        "STUDENT = \"\"\n",
        "ASSIGNMENT = 4\n",
        "TEST = False"
      ],
      "execution_count": 4,
      "outputs": []
    },
    {
      "cell_type": "code",
      "metadata": {
        "ExecuteTime": {
          "end_time": "2019-12-12T07:42:27.767876Z",
          "start_time": "2019-12-12T07:42:27.757195Z"
        },
        "id": "8IoYIpnroBue"
      },
      "source": [
        "if TEST:\n",
        "    import solutions\n",
        "    total_grade = 0\n",
        "    MAX_POINTS = 16"
      ],
      "execution_count": 5,
      "outputs": []
    },
    {
      "cell_type": "markdown",
      "metadata": {
        "id": "yoj3j2EnoBuj"
      },
      "source": [
        "# Indexing and filtering"
      ]
    },
    {
      "cell_type": "markdown",
      "metadata": {
        "id": "JSsCmZuIoBuk"
      },
      "source": [
        "### 1. Fixing age (1 point).\n",
        "\n",
        "There are several known mistakes in the Titanic dataset.\n",
        "\n",
        "Namely, [Julia Florence Siegel](https://www.encyclopedia-titanica.org/titanic-survivor/julia-florence-cavendish.html) (Mrs. Tyrell William Cavendish) is mistakenly marked as being 76 years old (the age she actually died, but many years after Titanic).\n",
        "\n",
        "You must **replace the corresponding age value in the dataframe with her actual age at the time** (25) and return the dataset. Input is **indexed** with `PassengerId` and is a **concatenation of train and test sets**. You must return a copy of the input dataframe, and not perform replacement in the original dataframe. Structure and indexing must be the same as in input."
      ]
    },
    {
      "cell_type": "code",
      "metadata": {
        "ExecuteTime": {
          "end_time": "2019-12-12T07:45:36.685351Z",
          "start_time": "2019-12-12T07:45:36.675825Z"
        },
        "id": "IkpkNdPEoBuk"
      },
      "source": [
        "def fix_age(df):\n",
        "    \"\"\"Fix age for Julia Florence Siegel.\"\"\"\n",
        "    df_copy = df.copy()\n",
        "    df_copy.loc[df_copy['Name'].str.contains(\"Julia Florence Siegel\"),'Age'] = 25\n",
        "   \n",
        "    return df_copy\n",
        "    "
      ],
      "execution_count": 7,
      "outputs": []
    },
    {
      "cell_type": "code",
      "metadata": {
        "id": "HstPByf7oBuo"
      },
      "source": [
        "PROBLEM_ID = 1\n",
        "\n",
        "if TEST:\n",
        "    total_grade += solutions.check(STUDENT, PROBLEM_ID, fix_age)\n"
      ],
      "execution_count": null,
      "outputs": []
    },
    {
      "cell_type": "markdown",
      "metadata": {
        "id": "t2-L9dMhoBus"
      },
      "source": [
        "### 2. Embarkment port distribution (1 point).\n",
        "\n",
        "You must find the value counts for embarkment port (`Embarked` column) for the passengers, who travelled in 3-d class, were male and between 20 and 30 years old (both inclusive). No need to treat missing values separately.\n",
        "\n",
        "Input is **indexed** with `PassengerId` and is a **concatenation of train and test sets**. You must return **series**, indexed with values from `Embarked`, according to `.value_counts()` method semantics:\n",
        "\n",
        "```\n",
        "S    <number of passengers in 3-d class, embarked at S, 20<=Age<=30>\n",
        "C    <...>\n",
        "Q    <...>\n",
        "Name: Embarked, dtype: int64\n",
        "```"
      ]
    },
    {
      "cell_type": "code",
      "metadata": {
        "ExecuteTime": {
          "end_time": "2019-12-12T08:09:19.622389Z",
          "start_time": "2019-12-12T08:09:19.617595Z"
        },
        "id": "2Dip9sjVoBus"
      },
      "source": [
        "def embarked_stats(df):\n",
        "    \"\"\"Calculate embarkment port statistics.\"\"\"\n",
        "    subset_df = df.loc[(df['Sex'] == \"male\") & (df['Age'] >= 20) & (df['Age'] <= 30) & (df['Pclass'] == 3)]\n",
        "    result = subset_df['Embarked'].value_counts()\n",
        "    return result"
      ],
      "execution_count": 9,
      "outputs": []
    },
    {
      "cell_type": "code",
      "metadata": {
        "ExecuteTime": {
          "end_time": "2019-11-13T23:25:50.106449Z",
          "start_time": "2019-11-13T23:25:50.095086Z"
        },
        "id": "UEYjVHzzoBuu"
      },
      "source": [
        "PROBLEM_ID = 2\n",
        "\n",
        "if TEST:\n",
        "    total_grade += solutions.check(STUDENT, PROBLEM_ID, embarked_stats)\n"
      ],
      "execution_count": 10,
      "outputs": []
    },
    {
      "cell_type": "markdown",
      "metadata": {
        "id": "eem48H_joBux"
      },
      "source": [
        "### 3. Fill missing age values (1 point).\n",
        "\n",
        "Some age values are missing in the Titanic dataset. You need to calculate average age over all passengers, and fill missing age values in `Age` column.\n",
        "\n",
        "Input is **indexed** with `PassengerId` and is a **concatenation of train and test sets**. Output must be a **new** dataframe with the same structure, but without missing values in `Age` column."
      ]
    },
    {
      "cell_type": "code",
      "metadata": {
        "ExecuteTime": {
          "end_time": "2019-11-25T08:26:56.688466Z",
          "start_time": "2019-11-25T08:26:56.684610Z"
        },
        "id": "YXscG_zToBuy"
      },
      "source": [
        "def fix_age(df):\n",
        "    \"\"\"Fix missing age values.\"\"\"\n",
        "    df_copy = df.copy()\n",
        "    df_copy['Age'].fillna((df_copy['Age'].mean()), inplace=True)\n",
        "    return df_copy"
      ],
      "execution_count": 16,
      "outputs": []
    },
    {
      "cell_type": "code",
      "metadata": {
        "ExecuteTime": {
          "end_time": "2019-11-25T10:03:45.213116Z",
          "start_time": "2019-11-25T10:03:45.199909Z"
        },
        "id": "qafh_AHXoBu0"
      },
      "source": [
        "PROBLEM_ID = 3\n",
        "\n",
        "if TEST:\n",
        "    total_grade += solutions.check(STUDENT, PROBLEM_ID, fix_age)\n"
      ],
      "execution_count": 17,
      "outputs": []
    },
    {
      "cell_type": "markdown",
      "metadata": {
        "id": "GeAez-t6oBu3"
      },
      "source": [
        "### 4. Child travelling alone (1 point).\n",
        "\n",
        "You must find a child (`Age<10`) on-board, who was travelling without siblings or parents and find a name of her nursemaid.\n",
        "\n",
        "Input is **indexed** with `PassengerId` and is a **concatenation of train and test sets**. Output must be a **tuple** of two strings, collected from `Name` column, with one being child's name and second being nursemaid's name. It's known, that there's **only one child** like this."
      ]
    },
    {
      "cell_type": "code",
      "metadata": {
        "ExecuteTime": {
          "end_time": "2019-11-13T23:15:11.348224Z",
          "start_time": "2019-11-13T23:15:11.334569Z"
        },
        "id": "cys2swhcoBu4"
      },
      "source": [
        "def get_nursemaid(df):\n",
        "    child = df[(df['Age'] < 10) & (df['SibSp'] == 0) & (df['Parch'] == 0)]\n",
        "    nursemaid = df[(df['Ticket']  == child.iloc[0]['Ticket']) & (df['Name']  != child.iloc[0]['Name'])]\n",
        "    return child.iloc[0]['Name'], nursemaid.iloc[0]['Name']"
      ],
      "execution_count": 19,
      "outputs": []
    },
    {
      "cell_type": "code",
      "metadata": {
        "ExecuteTime": {
          "end_time": "2019-11-13T23:25:50.106449Z",
          "start_time": "2019-11-13T23:25:50.095086Z"
        },
        "id": "ig0uqcHWoBu7"
      },
      "source": [
        "PROBLEM_ID = 4\n",
        "\n",
        "if TEST:\n",
        "    total_grade += solutions.check(STUDENT, PROBLEM_ID, get_nursemaid)\n"
      ],
      "execution_count": 20,
      "outputs": []
    },
    {
      "cell_type": "markdown",
      "metadata": {
        "id": "DZg56-WaoBu9"
      },
      "source": [
        "### 5. Port with the most children embarked (1 point).\n",
        "\n",
        "You must find, which port had the largest percentage of children (`Age<10`) embarked, i.e. number of children divided by total number of passengers embarked.\n",
        "\n",
        "Input is **indexed** with `PassengerId` and is a **concatenation of train and test sets**. Output must be a **single string** with port letter."
      ]
    },
    {
      "cell_type": "code",
      "metadata": {
        "ExecuteTime": {
          "end_time": "2019-11-25T08:26:56.688466Z",
          "start_time": "2019-11-25T08:26:56.684610Z"
        },
        "id": "uf_p0OgmoBu-"
      },
      "source": [
        "def get_port(df):\n",
        "  vals= df[df.Age<10]['Embarked'].value_counts() / df['Embarked'].value_counts()\n",
        "    \n",
        "  return vals.idxmax() "
      ],
      "execution_count": 23,
      "outputs": []
    },
    {
      "cell_type": "code",
      "metadata": {
        "ExecuteTime": {
          "end_time": "2019-11-25T08:27:11.838257Z",
          "start_time": "2019-11-25T08:27:11.720830Z"
        },
        "id": "FMBorpRkoBvA"
      },
      "source": [
        "PROBLEM_ID = 5\n",
        "\n",
        "if TEST:\n",
        "    total_grade += solutions.check(STUDENT, PROBLEM_ID, get_port)\n"
      ],
      "execution_count": 24,
      "outputs": []
    },
    {
      "cell_type": "markdown",
      "metadata": {
        "id": "Y6zP9qreoBvC"
      },
      "source": [
        "### 6. Passengers per ticket (2 points).\n",
        "\n",
        "Calculate average and maximum number of passengers per ticket.\n",
        "\n",
        "Input is **indexed** with `PassengerId` and is a **concatenation of train and test sets**. Output must be a **tuple** of two values - average and mean number of passengers per ticket."
      ]
    },
    {
      "cell_type": "code",
      "metadata": {
        "ExecuteTime": {
          "end_time": "2019-11-25T08:26:56.688466Z",
          "start_time": "2019-11-25T08:26:56.684610Z"
        },
        "id": "-3tpUsqioBvD"
      },
      "source": [
        "def get_ticket_stats(df):\n",
        "  \"\"\"Calculate passenger per ticket statistics.\"\"\"\n",
        "  tickets = df['Ticket'].value_counts()\n",
        "  return tickets.mean(), tickets.max()"
      ],
      "execution_count": 27,
      "outputs": []
    },
    {
      "cell_type": "code",
      "metadata": {
        "ExecuteTime": {
          "end_time": "2019-11-25T08:27:11.838257Z",
          "start_time": "2019-11-25T08:27:11.720830Z"
        },
        "id": "bU6M4d9PoBvG"
      },
      "source": [
        "PROBLEM_ID = 6\n",
        "\n",
        "if TEST:\n",
        "    total_grade += solutions.check(STUDENT, PROBLEM_ID, get_ticket_stats)\n"
      ],
      "execution_count": 28,
      "outputs": []
    },
    {
      "cell_type": "markdown",
      "metadata": {
        "id": "9mbxnS1YoBvI"
      },
      "source": [
        "### 7. Fare per passenger (3 points).\n",
        "\n",
        "For each individual ticket, you must calculate **fare per person for that ticket**, and then calculate averages for each class. Note, that you will need to apply `groupby` and you may consider using `.first()` of resulting `DataFrameGroupBy`. Also, caferully consider, in which order calculations are performed.\n",
        "\n",
        "Input is **indexed** with `PassengerId` and is a **concatenation of train and test sets**. Output must be `pd.Series` with three elements, indexed by class:\n",
        "\n",
        "```\n",
        "1    <average per person fare in class 1>\n",
        "2    <...>\n",
        "3    <...>\n",
        "Name: Pclass, dtype: float64\n",
        "```"
      ]
    },
    {
      "cell_type": "code",
      "metadata": {
        "id": "bflqAvxqoBvI"
      },
      "source": [
        "def get_fare_per_pass(df):\n",
        "    \"\"\"Calculate fare per passenger for different classes.\"\"\"\n",
        "        \n",
        "    sum_price = (df.Fare.groupby([df.Pclass, df.Ticket]).first()).groupby('Pclass').sum()\n",
        "    sum_count = df.groupby(['Pclass']).Fare.count()\n",
        "    return sum_price / sum_count"
      ],
      "execution_count": 32,
      "outputs": []
    },
    {
      "cell_type": "code",
      "metadata": {
        "ExecuteTime": {
          "end_time": "2019-11-25T08:27:11.838257Z",
          "start_time": "2019-11-25T08:27:11.720830Z"
        },
        "id": "uj5D2FesoBvK"
      },
      "source": [
        "PROBLEM_ID = 7\n",
        "\n",
        "if TEST:\n",
        "    total_grade += solutions.check(STUDENT, PROBLEM_ID, get_fare_per_pass)\n"
      ],
      "execution_count": 34,
      "outputs": []
    },
    {
      "cell_type": "markdown",
      "metadata": {
        "id": "VJ-gSULGoBvN"
      },
      "source": [
        "### 8. Fill missing age values (3 points).\n",
        "\n",
        "In problem 3 you filled missing age values with global average over all passengers. Now, you need to fill them **according to class and sex**. For example, for a female passenger from 2d class, missing age value must be filled with average age of females in 2d class.\n",
        "\n",
        "In this problem, you may need joins and `.apply()`, although there are several ways to get the same result.\n",
        "\n",
        "Input is **indexed** with `PassengerId` and is a **concatenation of train and test sets**. Output must be a **new** dataframe with the same structure as input, but without missing values in `Age` column."
      ]
    },
    {
      "cell_type": "code",
      "metadata": {
        "id": "00h6ucO_pSgd"
      },
      "source": [
        "def fix_age_groupped(df):\n",
        "    \"\"\"Fill missing age values.\"\"\"\n",
        "    df2=df.copy()\n",
        "    gr=df.groupby(['Pclass','Sex'])\n",
        "    values = gr.Age.mean()\n",
        "   \n",
        "    df2['Age']= gr['Age'].apply(lambda x: x.fillna(x.mean()))\n",
        "    \n",
        "    return df2"
      ],
      "execution_count": 36,
      "outputs": []
    },
    {
      "cell_type": "code",
      "metadata": {
        "ExecuteTime": {
          "end_time": "2019-11-25T08:27:11.838257Z",
          "start_time": "2019-11-25T08:27:11.720830Z"
        },
        "id": "d1q5EoTwoBvQ"
      },
      "source": [
        "PROBLEM_ID = 8\n",
        "\n",
        "if TEST:\n",
        "    total_grade += solutions.check(STUDENT, PROBLEM_ID, fix_age_groupped)\n"
      ],
      "execution_count": 37,
      "outputs": []
    },
    {
      "cell_type": "markdown",
      "metadata": {
        "id": "Hh8ODcZioBvU"
      },
      "source": [
        "### 9. Finding couples (3 points).\n",
        "\n",
        "Based on the code from Lecture 5, build a dataframe of couples. Filter it by survival status: select those couples, in which only one of spouses survived or none of two. Built survival statistics by class, i.e. ratio of the number couples with partial survival or couples which died together, divided by total number of couples in class. If the survival status of one or both of spouses is not known, it must be considered as `0`.\n",
        "\n",
        "Input is **indexed** with `PassengerId` and is a **concatenation of train and test sets**. Output must be `Series` with three elements indexed by values from `Pclass` column (see P7 as a reference)."
      ]
    },
    {
      "cell_type": "code",
      "metadata": {
        "ExecuteTime": {
          "end_time": "2019-11-25T08:26:56.688466Z",
          "start_time": "2019-11-25T08:26:56.684610Z"
        },
        "id": "zrj5g_vjoBvV"
      },
      "source": [
        "def find_couples(df):\n",
        "    \"\"\"Fill missing age values.\"\"\"\n",
        "    couples = df.copy()\n",
        "    family_names = (couples\n",
        "                .replace(re.compile(r'\\s+\\(.*\\)'), '')\n",
        "                .replace(re.compile(\"Mrs.\"), \"Mr.\"))[[\"Name\", \"Sex\",\"Survived\"]]\n",
        "    family_names = family_names[(family_names.Sex==\"female\") & family_names.Name.str.contains(\"Mr.\")]\n",
        "    couples = (couples.join(family_names\n",
        "                        .reset_index()\n",
        "                        .set_index(\"Name\")[[\"Survived\",\"PassengerId\"]], \n",
        "                        how=\"inner\", on=\"Name\", rsuffix=\"_Spouse\"))\n",
        "    couples.rename({\"PassengerId\":\"PassengerId_Spouse\"}, axis=1, inplace=True)\n",
        "    couples = couples[[\"Survived\", \"PassengerId_Spouse\", \"Survived_Spouse\",\"Pclass\"]]\n",
        "    couples.fillna(value = 0, inplace = True)\n",
        "    died = couples[(couples['Survived'] == 0) | (couples['Survived_Spouse'] == 0)]\n",
        "    died_grouped = died.groupby(\"Pclass\").size()\n",
        "    couples_grouped = couples.groupby(\"Pclass\").size()\n",
        "    return died_grouped / couples_grouped"
      ],
      "execution_count": 39,
      "outputs": []
    },
    {
      "cell_type": "code",
      "metadata": {
        "ExecuteTime": {
          "end_time": "2019-11-25T08:27:11.838257Z",
          "start_time": "2019-11-25T08:27:11.720830Z"
        },
        "id": "7UwVi2aroBvX"
      },
      "source": [
        "PROBLEM_ID = 9\n",
        "\n",
        "if TEST:\n",
        "    total_grade += solutions.check(STUDENT, PROBLEM_ID, find_couples)\n"
      ],
      "execution_count": 40,
      "outputs": []
    },
    {
      "cell_type": "code",
      "metadata": {
        "id": "FDj4DHpooBvZ"
      },
      "source": [
        "if TEST:\n",
        "    print(f\"{STUDENT}: {int(100 * total_grade / MAX_POINTS)}\")"
      ],
      "execution_count": null,
      "outputs": []
    }
  ]
}

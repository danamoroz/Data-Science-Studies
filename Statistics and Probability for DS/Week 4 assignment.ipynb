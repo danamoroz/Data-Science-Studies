{
  "nbformat": 4,
  "nbformat_minor": 0,
  "metadata": {
    "colab": {
      "name": "Dana and Nitzan home_assignment_4.ipynb",
      "provenance": [],
      "collapsed_sections": []
    },
    "kernelspec": {
      "name": "python3",
      "display_name": "Python 3"
    }
  },
  "cells": [
    {
      "cell_type": "markdown",
      "metadata": {
        "id": "Ihu4bNfPLlAV"
      },
      "source": [
        "",
        "\n",
        "This notebook consists of two tasks. \n",
        "\n",
        "You should read and run it and  fill all the parts containing the **TODO** words."
      ]
    },
    {
      "cell_type": "markdown",
      "metadata": {
        "id": "ENU7h1RT4TlG"
      },
      "source": [
        "# Task 1: What influences weight loss [40 points]\n",
        "\n",
        "In this section, you will investigate the factors influencing weight. In particular, we are interested whether amount of smoking now affects body weight after 10 years. The null hypothesis is that amount smoking does not affect it. \n",
        "\n",
        "We will explore the data from US [National Health and Nutrition Examination Survey Data I Epidemiologic Follow-up Study](https://wwwn.cdc.gov/nchs/nhanes/nhefs/default.aspx/). It includes data from persons 25-74 years of age who completed a medical examination in 1971. Follow-up examinations were carried out several years later to investigate the relationships between clinical, nutritional, and behavioral factors.\n",
        "\n",
        "We use a subset of data preprocessed for [Hernán MA, Robins JM (2020). Causal Inference: What If. Boca Raton: Chapman & Hall/CRC.](https://www.hsph.harvard.edu/miguel-hernan/causal-inference-book/). It includes only people who were smoking in 1971. A codebook describing the meaning of the variables is available as [an Excel table](https://cdn1.sph.harvard.edu/wp-content/uploads/sites/1268/2012/10/NHEFS_Codebook.xls).\n",
        "\n",
        "To test the null hypothesis about effect of smoking intensity on weight loss, you should train a regression model predicting weight in year 1982 (`wt82`) using number of cigarretes smoked per day in 1971 (`smokeintensity`) and control factors from year 1971 that might affect weight later, such as sex (`sex`), age `age`, and, obviously,  weight in 1971 (`wt71`), and test the significance of the coefficients for the variables of interest. \n",
        "\n",
        "You may use any other variables, but only if they are not \"from the future\" (observed later than 1971). \n",
        "\n",
        "If you intent to do feature engineering, such as nonlinear features or interactions, you may want to read [the statsmodels documentation about their formula language](https://www.statsmodels.org/stable/example_formulas.html)."
      ]
    },
    {
      "cell_type": "code",
      "metadata": {
        "id": "D_oFO9GqAyIP",
        "colab": {
          "base_uri": "https://localhost:8080/"
        },
        "outputId": "d239200f-7b1c-4513-da0c-b83500c8fb94"
      },
      "source": [
        "!wget https://cdn1.sph.harvard.edu/wp-content/uploads/sites/1268/2017/01/nhefs_excel.zip\n",
        "!unzip nhefs_excel.zip "
      ],
      "execution_count": 15,
      "outputs": [
        {
          "output_type": "stream",
          "text": [
            "--2020-11-23 19:27:25--  https://cdn1.sph.harvard.edu/wp-content/uploads/sites/1268/2017/01/nhefs_excel.zip\n",
            "Resolving cdn1.sph.harvard.edu (cdn1.sph.harvard.edu)... 13.225.150.69, 13.225.150.122, 13.225.150.98, ...\n",
            "Connecting to cdn1.sph.harvard.edu (cdn1.sph.harvard.edu)|13.225.150.69|:443... connected.\n",
            "HTTP request sent, awaiting response... 200 OK\n",
            "Length: 158798 (155K) [application/zip]\n",
            "Saving to: ‘nhefs_excel.zip.1’\n",
            "\n",
            "nhefs_excel.zip.1   100%[===================>] 155.08K   495KB/s    in 0.3s    \n",
            "\n",
            "2020-11-23 19:27:26 (495 KB/s) - ‘nhefs_excel.zip.1’ saved [158798/158798]\n",
            "\n",
            "Archive:  nhefs_excel.zip\n",
            "replace NHEFS.xls? [y]es, [n]o, [A]ll, [N]one, [r]ename: y\n",
            "  inflating: NHEFS.xls               \n"
          ],
          "name": "stdout"
        }
      ]
    },
    {
      "cell_type": "code",
      "metadata": {
        "id": "U8FWArlE5jXp"
      },
      "source": [
        "import pandas as pd\n",
        "import numpy as np\n",
        "import matplotlib.pyplot as plt\n",
        "import statsmodels.formula.api as smf\n",
        "import seaborn as sns\n",
        "from scipy import stats\n",
        "pd.options.mode.chained_assignment = None"
      ],
      "execution_count": 16,
      "outputs": []
    },
    {
      "cell_type": "code",
      "metadata": {
        "id": "3f2WPjSu2Q-I",
        "colab": {
          "base_uri": "https://localhost:8080/",
          "height": 410
        },
        "outputId": "64cfc7eb-d3e4-41b7-d114-60cae853be25"
      },
      "source": [
        "data = pd.read_excel('NHEFS.xls')\n",
        "print(data.shape)\n",
        "data.sample(10)"
      ],
      "execution_count": 17,
      "outputs": [
        {
          "output_type": "stream",
          "text": [
            "WARNING *** OLE2 inconsistency: SSCS size is 0 but SSAT size is non-zero\n",
            "(1629, 64)\n"
          ],
          "name": "stdout"
        },
        {
          "output_type": "execute_result",
          "data": {
            "text/html": [
              "<div>\n",
              "<style scoped>\n",
              "    .dataframe tbody tr th:only-of-type {\n",
              "        vertical-align: middle;\n",
              "    }\n",
              "\n",
              "    .dataframe tbody tr th {\n",
              "        vertical-align: top;\n",
              "    }\n",
              "\n",
              "    .dataframe thead th {\n",
              "        text-align: right;\n",
              "    }\n",
              "</style>\n",
              "<table border=\"1\" class=\"dataframe\">\n",
              "  <thead>\n",
              "    <tr style=\"text-align: right;\">\n",
              "      <th></th>\n",
              "      <th>seqn</th>\n",
              "      <th>qsmk</th>\n",
              "      <th>death</th>\n",
              "      <th>yrdth</th>\n",
              "      <th>modth</th>\n",
              "      <th>dadth</th>\n",
              "      <th>sbp</th>\n",
              "      <th>dbp</th>\n",
              "      <th>sex</th>\n",
              "      <th>age</th>\n",
              "      <th>race</th>\n",
              "      <th>income</th>\n",
              "      <th>marital</th>\n",
              "      <th>school</th>\n",
              "      <th>education</th>\n",
              "      <th>ht</th>\n",
              "      <th>wt71</th>\n",
              "      <th>wt82</th>\n",
              "      <th>wt82_71</th>\n",
              "      <th>birthplace</th>\n",
              "      <th>smokeintensity</th>\n",
              "      <th>smkintensity82_71</th>\n",
              "      <th>smokeyrs</th>\n",
              "      <th>asthma</th>\n",
              "      <th>bronch</th>\n",
              "      <th>tb</th>\n",
              "      <th>hf</th>\n",
              "      <th>hbp</th>\n",
              "      <th>pepticulcer</th>\n",
              "      <th>colitis</th>\n",
              "      <th>hepatitis</th>\n",
              "      <th>chroniccough</th>\n",
              "      <th>hayfever</th>\n",
              "      <th>diabetes</th>\n",
              "      <th>polio</th>\n",
              "      <th>tumor</th>\n",
              "      <th>nervousbreak</th>\n",
              "      <th>alcoholpy</th>\n",
              "      <th>alcoholfreq</th>\n",
              "      <th>alcoholtype</th>\n",
              "      <th>alcoholhowmuch</th>\n",
              "      <th>pica</th>\n",
              "      <th>headache</th>\n",
              "      <th>otherpain</th>\n",
              "      <th>weakheart</th>\n",
              "      <th>allergies</th>\n",
              "      <th>nerves</th>\n",
              "      <th>lackpep</th>\n",
              "      <th>hbpmed</th>\n",
              "      <th>boweltrouble</th>\n",
              "      <th>wtloss</th>\n",
              "      <th>infection</th>\n",
              "      <th>active</th>\n",
              "      <th>exercise</th>\n",
              "      <th>birthcontrol</th>\n",
              "      <th>pregnancies</th>\n",
              "      <th>cholesterol</th>\n",
              "      <th>hightax82</th>\n",
              "      <th>price71</th>\n",
              "      <th>price82</th>\n",
              "      <th>tax71</th>\n",
              "      <th>tax82</th>\n",
              "      <th>price71_82</th>\n",
              "      <th>tax71_82</th>\n",
              "    </tr>\n",
              "  </thead>\n",
              "  <tbody>\n",
              "    <tr>\n",
              "      <th>346</th>\n",
              "      <td>9051</td>\n",
              "      <td>0</td>\n",
              "      <td>0</td>\n",
              "      <td>NaN</td>\n",
              "      <td>NaN</td>\n",
              "      <td>NaN</td>\n",
              "      <td>128.0</td>\n",
              "      <td>66.0</td>\n",
              "      <td>1</td>\n",
              "      <td>26</td>\n",
              "      <td>1</td>\n",
              "      <td>18.0</td>\n",
              "      <td>2</td>\n",
              "      <td>12</td>\n",
              "      <td>3</td>\n",
              "      <td>166.78125</td>\n",
              "      <td>73.48</td>\n",
              "      <td>74.389149</td>\n",
              "      <td>0.909149</td>\n",
              "      <td>18.0</td>\n",
              "      <td>20</td>\n",
              "      <td>0</td>\n",
              "      <td>5</td>\n",
              "      <td>0</td>\n",
              "      <td>0</td>\n",
              "      <td>0</td>\n",
              "      <td>0</td>\n",
              "      <td>0</td>\n",
              "      <td>0</td>\n",
              "      <td>0</td>\n",
              "      <td>0</td>\n",
              "      <td>0</td>\n",
              "      <td>1</td>\n",
              "      <td>0</td>\n",
              "      <td>0</td>\n",
              "      <td>0</td>\n",
              "      <td>0</td>\n",
              "      <td>1</td>\n",
              "      <td>2</td>\n",
              "      <td>1</td>\n",
              "      <td>1.0</td>\n",
              "      <td>0</td>\n",
              "      <td>0</td>\n",
              "      <td>0</td>\n",
              "      <td>0</td>\n",
              "      <td>0</td>\n",
              "      <td>0</td>\n",
              "      <td>0</td>\n",
              "      <td>0</td>\n",
              "      <td>0</td>\n",
              "      <td>0</td>\n",
              "      <td>0</td>\n",
              "      <td>1</td>\n",
              "      <td>2</td>\n",
              "      <td>0</td>\n",
              "      <td>2.0</td>\n",
              "      <td>209.0</td>\n",
              "      <td>0.0</td>\n",
              "      <td>1.706299</td>\n",
              "      <td>1.665283</td>\n",
              "      <td>0.734985</td>\n",
              "      <td>0.406982</td>\n",
              "      <td>0.040894</td>\n",
              "      <td>0.327942</td>\n",
              "    </tr>\n",
              "    <tr>\n",
              "      <th>121</th>\n",
              "      <td>2955</td>\n",
              "      <td>0</td>\n",
              "      <td>0</td>\n",
              "      <td>NaN</td>\n",
              "      <td>NaN</td>\n",
              "      <td>NaN</td>\n",
              "      <td>100.0</td>\n",
              "      <td>68.0</td>\n",
              "      <td>1</td>\n",
              "      <td>37</td>\n",
              "      <td>0</td>\n",
              "      <td>19.0</td>\n",
              "      <td>2</td>\n",
              "      <td>12</td>\n",
              "      <td>3</td>\n",
              "      <td>164.00000</td>\n",
              "      <td>50.24</td>\n",
              "      <td>54.884677</td>\n",
              "      <td>4.644677</td>\n",
              "      <td>18.0</td>\n",
              "      <td>30</td>\n",
              "      <td>10</td>\n",
              "      <td>22</td>\n",
              "      <td>0</td>\n",
              "      <td>0</td>\n",
              "      <td>0</td>\n",
              "      <td>0</td>\n",
              "      <td>0</td>\n",
              "      <td>0</td>\n",
              "      <td>0</td>\n",
              "      <td>0</td>\n",
              "      <td>0</td>\n",
              "      <td>0</td>\n",
              "      <td>0</td>\n",
              "      <td>0</td>\n",
              "      <td>0</td>\n",
              "      <td>0</td>\n",
              "      <td>1</td>\n",
              "      <td>3</td>\n",
              "      <td>3</td>\n",
              "      <td>3.0</td>\n",
              "      <td>0</td>\n",
              "      <td>1</td>\n",
              "      <td>0</td>\n",
              "      <td>0</td>\n",
              "      <td>0</td>\n",
              "      <td>0</td>\n",
              "      <td>0</td>\n",
              "      <td>0</td>\n",
              "      <td>0</td>\n",
              "      <td>0</td>\n",
              "      <td>0</td>\n",
              "      <td>1</td>\n",
              "      <td>1</td>\n",
              "      <td>0</td>\n",
              "      <td>4.0</td>\n",
              "      <td>215.0</td>\n",
              "      <td>0.0</td>\n",
              "      <td>1.706299</td>\n",
              "      <td>1.665283</td>\n",
              "      <td>0.734985</td>\n",
              "      <td>0.406982</td>\n",
              "      <td>0.040894</td>\n",
              "      <td>0.327942</td>\n",
              "    </tr>\n",
              "    <tr>\n",
              "      <th>982</th>\n",
              "      <td>21392</td>\n",
              "      <td>0</td>\n",
              "      <td>0</td>\n",
              "      <td>NaN</td>\n",
              "      <td>NaN</td>\n",
              "      <td>NaN</td>\n",
              "      <td>87.0</td>\n",
              "      <td>63.0</td>\n",
              "      <td>1</td>\n",
              "      <td>29</td>\n",
              "      <td>0</td>\n",
              "      <td>21.0</td>\n",
              "      <td>2</td>\n",
              "      <td>12</td>\n",
              "      <td>3</td>\n",
              "      <td>159.09375</td>\n",
              "      <td>54.66</td>\n",
              "      <td>60.327785</td>\n",
              "      <td>5.667785</td>\n",
              "      <td>25.0</td>\n",
              "      <td>10</td>\n",
              "      <td>0</td>\n",
              "      <td>11</td>\n",
              "      <td>0</td>\n",
              "      <td>0</td>\n",
              "      <td>0</td>\n",
              "      <td>0</td>\n",
              "      <td>2</td>\n",
              "      <td>0</td>\n",
              "      <td>0</td>\n",
              "      <td>0</td>\n",
              "      <td>1</td>\n",
              "      <td>0</td>\n",
              "      <td>2</td>\n",
              "      <td>0</td>\n",
              "      <td>0</td>\n",
              "      <td>0</td>\n",
              "      <td>1</td>\n",
              "      <td>3</td>\n",
              "      <td>3</td>\n",
              "      <td>3.0</td>\n",
              "      <td>2</td>\n",
              "      <td>0</td>\n",
              "      <td>0</td>\n",
              "      <td>0</td>\n",
              "      <td>0</td>\n",
              "      <td>0</td>\n",
              "      <td>0</td>\n",
              "      <td>2</td>\n",
              "      <td>2</td>\n",
              "      <td>1</td>\n",
              "      <td>0</td>\n",
              "      <td>1</td>\n",
              "      <td>1</td>\n",
              "      <td>1</td>\n",
              "      <td>NaN</td>\n",
              "      <td>198.0</td>\n",
              "      <td>1.0</td>\n",
              "      <td>2.414551</td>\n",
              "      <td>1.951172</td>\n",
              "      <td>1.259766</td>\n",
              "      <td>0.637939</td>\n",
              "      <td>0.463562</td>\n",
              "      <td>0.621948</td>\n",
              "    </tr>\n",
              "    <tr>\n",
              "      <th>566</th>\n",
              "      <td>14096</td>\n",
              "      <td>1</td>\n",
              "      <td>0</td>\n",
              "      <td>NaN</td>\n",
              "      <td>NaN</td>\n",
              "      <td>NaN</td>\n",
              "      <td>102.0</td>\n",
              "      <td>64.0</td>\n",
              "      <td>1</td>\n",
              "      <td>44</td>\n",
              "      <td>0</td>\n",
              "      <td>19.0</td>\n",
              "      <td>2</td>\n",
              "      <td>2</td>\n",
              "      <td>1</td>\n",
              "      <td>171.09375</td>\n",
              "      <td>58.29</td>\n",
              "      <td>60.781378</td>\n",
              "      <td>2.491378</td>\n",
              "      <td>45.0</td>\n",
              "      <td>20</td>\n",
              "      <td>-20</td>\n",
              "      <td>27</td>\n",
              "      <td>0</td>\n",
              "      <td>1</td>\n",
              "      <td>0</td>\n",
              "      <td>0</td>\n",
              "      <td>1</td>\n",
              "      <td>0</td>\n",
              "      <td>0</td>\n",
              "      <td>0</td>\n",
              "      <td>0</td>\n",
              "      <td>0</td>\n",
              "      <td>0</td>\n",
              "      <td>0</td>\n",
              "      <td>0</td>\n",
              "      <td>0</td>\n",
              "      <td>1</td>\n",
              "      <td>3</td>\n",
              "      <td>4</td>\n",
              "      <td>NaN</td>\n",
              "      <td>0</td>\n",
              "      <td>1</td>\n",
              "      <td>1</td>\n",
              "      <td>0</td>\n",
              "      <td>0</td>\n",
              "      <td>1</td>\n",
              "      <td>0</td>\n",
              "      <td>1</td>\n",
              "      <td>0</td>\n",
              "      <td>0</td>\n",
              "      <td>0</td>\n",
              "      <td>1</td>\n",
              "      <td>2</td>\n",
              "      <td>1</td>\n",
              "      <td>2.0</td>\n",
              "      <td>245.0</td>\n",
              "      <td>0.0</td>\n",
              "      <td>1.790283</td>\n",
              "      <td>1.592773</td>\n",
              "      <td>0.734985</td>\n",
              "      <td>0.329956</td>\n",
              "      <td>0.197479</td>\n",
              "      <td>0.404968</td>\n",
              "    </tr>\n",
              "    <tr>\n",
              "      <th>557</th>\n",
              "      <td>14068</td>\n",
              "      <td>0</td>\n",
              "      <td>1</td>\n",
              "      <td>92.0</td>\n",
              "      <td>5.0</td>\n",
              "      <td>17.0</td>\n",
              "      <td>135.0</td>\n",
              "      <td>95.0</td>\n",
              "      <td>0</td>\n",
              "      <td>38</td>\n",
              "      <td>0</td>\n",
              "      <td>13.0</td>\n",
              "      <td>2</td>\n",
              "      <td>6</td>\n",
              "      <td>1</td>\n",
              "      <td>179.37500</td>\n",
              "      <td>77.22</td>\n",
              "      <td>78.925072</td>\n",
              "      <td>1.705072</td>\n",
              "      <td>47.0</td>\n",
              "      <td>40</td>\n",
              "      <td>20</td>\n",
              "      <td>22</td>\n",
              "      <td>0</td>\n",
              "      <td>0</td>\n",
              "      <td>0</td>\n",
              "      <td>0</td>\n",
              "      <td>0</td>\n",
              "      <td>0</td>\n",
              "      <td>0</td>\n",
              "      <td>0</td>\n",
              "      <td>0</td>\n",
              "      <td>0</td>\n",
              "      <td>0</td>\n",
              "      <td>0</td>\n",
              "      <td>0</td>\n",
              "      <td>1</td>\n",
              "      <td>0</td>\n",
              "      <td>4</td>\n",
              "      <td>4</td>\n",
              "      <td>NaN</td>\n",
              "      <td>0</td>\n",
              "      <td>1</td>\n",
              "      <td>1</td>\n",
              "      <td>0</td>\n",
              "      <td>0</td>\n",
              "      <td>1</td>\n",
              "      <td>0</td>\n",
              "      <td>0</td>\n",
              "      <td>1</td>\n",
              "      <td>0</td>\n",
              "      <td>1</td>\n",
              "      <td>1</td>\n",
              "      <td>2</td>\n",
              "      <td>2</td>\n",
              "      <td>NaN</td>\n",
              "      <td>270.0</td>\n",
              "      <td>0.0</td>\n",
              "      <td>2.183594</td>\n",
              "      <td>1.739990</td>\n",
              "      <td>1.102295</td>\n",
              "      <td>0.461975</td>\n",
              "      <td>0.443787</td>\n",
              "      <td>0.640381</td>\n",
              "    </tr>\n",
              "    <tr>\n",
              "      <th>1594</th>\n",
              "      <td>24847</td>\n",
              "      <td>0</td>\n",
              "      <td>0</td>\n",
              "      <td>NaN</td>\n",
              "      <td>NaN</td>\n",
              "      <td>NaN</td>\n",
              "      <td>136.0</td>\n",
              "      <td>90.0</td>\n",
              "      <td>1</td>\n",
              "      <td>42</td>\n",
              "      <td>0</td>\n",
              "      <td>21.0</td>\n",
              "      <td>4</td>\n",
              "      <td>17</td>\n",
              "      <td>5</td>\n",
              "      <td>169.28125</td>\n",
              "      <td>56.13</td>\n",
              "      <td>64.410117</td>\n",
              "      <td>8.280117</td>\n",
              "      <td>47.0</td>\n",
              "      <td>4</td>\n",
              "      <td>-1</td>\n",
              "      <td>22</td>\n",
              "      <td>0</td>\n",
              "      <td>0</td>\n",
              "      <td>1</td>\n",
              "      <td>0</td>\n",
              "      <td>2</td>\n",
              "      <td>0</td>\n",
              "      <td>0</td>\n",
              "      <td>0</td>\n",
              "      <td>0</td>\n",
              "      <td>0</td>\n",
              "      <td>2</td>\n",
              "      <td>0</td>\n",
              "      <td>0</td>\n",
              "      <td>0</td>\n",
              "      <td>1</td>\n",
              "      <td>0</td>\n",
              "      <td>2</td>\n",
              "      <td>2.0</td>\n",
              "      <td>2</td>\n",
              "      <td>1</td>\n",
              "      <td>1</td>\n",
              "      <td>0</td>\n",
              "      <td>0</td>\n",
              "      <td>1</td>\n",
              "      <td>0</td>\n",
              "      <td>2</td>\n",
              "      <td>2</td>\n",
              "      <td>0</td>\n",
              "      <td>0</td>\n",
              "      <td>1</td>\n",
              "      <td>0</td>\n",
              "      <td>1</td>\n",
              "      <td>1.0</td>\n",
              "      <td>202.0</td>\n",
              "      <td>0.0</td>\n",
              "      <td>2.183594</td>\n",
              "      <td>1.739990</td>\n",
              "      <td>1.102295</td>\n",
              "      <td>0.461975</td>\n",
              "      <td>0.443787</td>\n",
              "      <td>0.640381</td>\n",
              "    </tr>\n",
              "    <tr>\n",
              "      <th>493</th>\n",
              "      <td>12667</td>\n",
              "      <td>1</td>\n",
              "      <td>1</td>\n",
              "      <td>88.0</td>\n",
              "      <td>2.0</td>\n",
              "      <td>26.0</td>\n",
              "      <td>120.0</td>\n",
              "      <td>54.0</td>\n",
              "      <td>0</td>\n",
              "      <td>66</td>\n",
              "      <td>0</td>\n",
              "      <td>14.0</td>\n",
              "      <td>2</td>\n",
              "      <td>3</td>\n",
              "      <td>1</td>\n",
              "      <td>169.00000</td>\n",
              "      <td>68.38</td>\n",
              "      <td>72.121187</td>\n",
              "      <td>3.741187</td>\n",
              "      <td>47.0</td>\n",
              "      <td>40</td>\n",
              "      <td>-40</td>\n",
              "      <td>57</td>\n",
              "      <td>0</td>\n",
              "      <td>0</td>\n",
              "      <td>0</td>\n",
              "      <td>0</td>\n",
              "      <td>0</td>\n",
              "      <td>0</td>\n",
              "      <td>0</td>\n",
              "      <td>0</td>\n",
              "      <td>0</td>\n",
              "      <td>0</td>\n",
              "      <td>0</td>\n",
              "      <td>0</td>\n",
              "      <td>0</td>\n",
              "      <td>0</td>\n",
              "      <td>1</td>\n",
              "      <td>0</td>\n",
              "      <td>2</td>\n",
              "      <td>1.0</td>\n",
              "      <td>0</td>\n",
              "      <td>0</td>\n",
              "      <td>0</td>\n",
              "      <td>0</td>\n",
              "      <td>0</td>\n",
              "      <td>0</td>\n",
              "      <td>0</td>\n",
              "      <td>0</td>\n",
              "      <td>0</td>\n",
              "      <td>0</td>\n",
              "      <td>0</td>\n",
              "      <td>1</td>\n",
              "      <td>2</td>\n",
              "      <td>2</td>\n",
              "      <td>NaN</td>\n",
              "      <td>191.0</td>\n",
              "      <td>0.0</td>\n",
              "      <td>2.183594</td>\n",
              "      <td>1.739990</td>\n",
              "      <td>1.102295</td>\n",
              "      <td>0.461975</td>\n",
              "      <td>0.443787</td>\n",
              "      <td>0.640381</td>\n",
              "    </tr>\n",
              "    <tr>\n",
              "      <th>943</th>\n",
              "      <td>21233</td>\n",
              "      <td>0</td>\n",
              "      <td>0</td>\n",
              "      <td>NaN</td>\n",
              "      <td>NaN</td>\n",
              "      <td>NaN</td>\n",
              "      <td>107.0</td>\n",
              "      <td>71.0</td>\n",
              "      <td>0</td>\n",
              "      <td>37</td>\n",
              "      <td>0</td>\n",
              "      <td>18.0</td>\n",
              "      <td>2</td>\n",
              "      <td>10</td>\n",
              "      <td>2</td>\n",
              "      <td>174.09375</td>\n",
              "      <td>77.11</td>\n",
              "      <td>88.450512</td>\n",
              "      <td>11.340512</td>\n",
              "      <td>19.0</td>\n",
              "      <td>22</td>\n",
              "      <td>-12</td>\n",
              "      <td>17</td>\n",
              "      <td>0</td>\n",
              "      <td>0</td>\n",
              "      <td>0</td>\n",
              "      <td>0</td>\n",
              "      <td>2</td>\n",
              "      <td>0</td>\n",
              "      <td>0</td>\n",
              "      <td>0</td>\n",
              "      <td>0</td>\n",
              "      <td>0</td>\n",
              "      <td>2</td>\n",
              "      <td>0</td>\n",
              "      <td>0</td>\n",
              "      <td>0</td>\n",
              "      <td>1</td>\n",
              "      <td>3</td>\n",
              "      <td>4</td>\n",
              "      <td>NaN</td>\n",
              "      <td>2</td>\n",
              "      <td>1</td>\n",
              "      <td>0</td>\n",
              "      <td>0</td>\n",
              "      <td>0</td>\n",
              "      <td>0</td>\n",
              "      <td>0</td>\n",
              "      <td>2</td>\n",
              "      <td>2</td>\n",
              "      <td>0</td>\n",
              "      <td>0</td>\n",
              "      <td>0</td>\n",
              "      <td>2</td>\n",
              "      <td>2</td>\n",
              "      <td>NaN</td>\n",
              "      <td>233.0</td>\n",
              "      <td>0.0</td>\n",
              "      <td>2.199707</td>\n",
              "      <td>1.847900</td>\n",
              "      <td>1.102295</td>\n",
              "      <td>0.571899</td>\n",
              "      <td>0.351746</td>\n",
              "      <td>0.530396</td>\n",
              "    </tr>\n",
              "    <tr>\n",
              "      <th>1584</th>\n",
              "      <td>24820</td>\n",
              "      <td>0</td>\n",
              "      <td>0</td>\n",
              "      <td>NaN</td>\n",
              "      <td>NaN</td>\n",
              "      <td>NaN</td>\n",
              "      <td>110.0</td>\n",
              "      <td>80.0</td>\n",
              "      <td>1</td>\n",
              "      <td>33</td>\n",
              "      <td>0</td>\n",
              "      <td>20.0</td>\n",
              "      <td>2</td>\n",
              "      <td>12</td>\n",
              "      <td>3</td>\n",
              "      <td>159.37500</td>\n",
              "      <td>79.04</td>\n",
              "      <td>81.646627</td>\n",
              "      <td>2.606627</td>\n",
              "      <td>36.0</td>\n",
              "      <td>35</td>\n",
              "      <td>-5</td>\n",
              "      <td>17</td>\n",
              "      <td>0</td>\n",
              "      <td>0</td>\n",
              "      <td>0</td>\n",
              "      <td>0</td>\n",
              "      <td>2</td>\n",
              "      <td>0</td>\n",
              "      <td>0</td>\n",
              "      <td>0</td>\n",
              "      <td>0</td>\n",
              "      <td>0</td>\n",
              "      <td>2</td>\n",
              "      <td>0</td>\n",
              "      <td>0</td>\n",
              "      <td>0</td>\n",
              "      <td>1</td>\n",
              "      <td>2</td>\n",
              "      <td>3</td>\n",
              "      <td>4.0</td>\n",
              "      <td>2</td>\n",
              "      <td>1</td>\n",
              "      <td>1</td>\n",
              "      <td>0</td>\n",
              "      <td>0</td>\n",
              "      <td>0</td>\n",
              "      <td>0</td>\n",
              "      <td>2</td>\n",
              "      <td>2</td>\n",
              "      <td>0</td>\n",
              "      <td>0</td>\n",
              "      <td>0</td>\n",
              "      <td>1</td>\n",
              "      <td>0</td>\n",
              "      <td>3.0</td>\n",
              "      <td>177.0</td>\n",
              "      <td>0.0</td>\n",
              "      <td>2.241699</td>\n",
              "      <td>1.828125</td>\n",
              "      <td>1.049805</td>\n",
              "      <td>0.505981</td>\n",
              "      <td>0.413574</td>\n",
              "      <td>0.543945</td>\n",
              "    </tr>\n",
              "    <tr>\n",
              "      <th>913</th>\n",
              "      <td>21069</td>\n",
              "      <td>0</td>\n",
              "      <td>0</td>\n",
              "      <td>NaN</td>\n",
              "      <td>NaN</td>\n",
              "      <td>NaN</td>\n",
              "      <td>102.0</td>\n",
              "      <td>74.0</td>\n",
              "      <td>0</td>\n",
              "      <td>43</td>\n",
              "      <td>0</td>\n",
              "      <td>19.0</td>\n",
              "      <td>2</td>\n",
              "      <td>12</td>\n",
              "      <td>3</td>\n",
              "      <td>175.37500</td>\n",
              "      <td>57.61</td>\n",
              "      <td>56.245454</td>\n",
              "      <td>-1.364546</td>\n",
              "      <td>39.0</td>\n",
              "      <td>60</td>\n",
              "      <td>-40</td>\n",
              "      <td>23</td>\n",
              "      <td>0</td>\n",
              "      <td>0</td>\n",
              "      <td>0</td>\n",
              "      <td>0</td>\n",
              "      <td>2</td>\n",
              "      <td>0</td>\n",
              "      <td>0</td>\n",
              "      <td>0</td>\n",
              "      <td>1</td>\n",
              "      <td>0</td>\n",
              "      <td>2</td>\n",
              "      <td>0</td>\n",
              "      <td>0</td>\n",
              "      <td>0</td>\n",
              "      <td>1</td>\n",
              "      <td>0</td>\n",
              "      <td>1</td>\n",
              "      <td>6.0</td>\n",
              "      <td>2</td>\n",
              "      <td>0</td>\n",
              "      <td>0</td>\n",
              "      <td>0</td>\n",
              "      <td>0</td>\n",
              "      <td>0</td>\n",
              "      <td>1</td>\n",
              "      <td>2</td>\n",
              "      <td>2</td>\n",
              "      <td>0</td>\n",
              "      <td>0</td>\n",
              "      <td>0</td>\n",
              "      <td>2</td>\n",
              "      <td>2</td>\n",
              "      <td>NaN</td>\n",
              "      <td>194.0</td>\n",
              "      <td>0.0</td>\n",
              "      <td>2.015625</td>\n",
              "      <td>1.814941</td>\n",
              "      <td>0.944946</td>\n",
              "      <td>0.483948</td>\n",
              "      <td>0.200989</td>\n",
              "      <td>0.460999</td>\n",
              "    </tr>\n",
              "  </tbody>\n",
              "</table>\n",
              "</div>"
            ],
            "text/plain": [
              "       seqn  qsmk  death  yrdth  ...     tax71     tax82  price71_82  tax71_82\n",
              "346    9051     0      0    NaN  ...  0.734985  0.406982    0.040894  0.327942\n",
              "121    2955     0      0    NaN  ...  0.734985  0.406982    0.040894  0.327942\n",
              "982   21392     0      0    NaN  ...  1.259766  0.637939    0.463562  0.621948\n",
              "566   14096     1      0    NaN  ...  0.734985  0.329956    0.197479  0.404968\n",
              "557   14068     0      1   92.0  ...  1.102295  0.461975    0.443787  0.640381\n",
              "1594  24847     0      0    NaN  ...  1.102295  0.461975    0.443787  0.640381\n",
              "493   12667     1      1   88.0  ...  1.102295  0.461975    0.443787  0.640381\n",
              "943   21233     0      0    NaN  ...  1.102295  0.571899    0.351746  0.530396\n",
              "1584  24820     0      0    NaN  ...  1.049805  0.505981    0.413574  0.543945\n",
              "913   21069     0      0    NaN  ...  0.944946  0.483948    0.200989  0.460999\n",
              "\n",
              "[10 rows x 64 columns]"
            ]
          },
          "metadata": {
            "tags": []
          },
          "execution_count": 17
        }
      ]
    },
    {
      "cell_type": "code",
      "metadata": {
        "id": "hLSd38pE3yjC"
      },
      "source": [
        "non_missing = data[data.wt82.notnull()]"
      ],
      "execution_count": null,
      "outputs": []
    },
    {
      "cell_type": "markdown",
      "metadata": {
        "id": "WDipdvQPW7Yr"
      },
      "source": [
        "<b>TODO: Visualize and summarize the joint distribution of weight in 1982, weight in 1971, and smoking intensity in 1971. Comment on it. </b>"
      ]
    },
    {
      "cell_type": "code",
      "metadata": {
        "id": "ItR1YT9zW8g5",
        "colab": {
          "base_uri": "https://localhost:8080/",
          "height": 567
        },
        "outputId": "435abee0-b8d3-4f79-fc3b-fb542fd78a29"
      },
      "source": [
        "# TODO: your code here\n",
        "\n",
        "# Continue on next ccode cell\n",
        "variants = non_missing[['wt82','wt71','smokeintensity']]\n",
        "\n",
        "sns.pairplot(variants)\n",
        "plt.suptitle(\"Pair plots\", size = 20)\n",
        "plt.show"
      ],
      "execution_count": 18,
      "outputs": [
        {
          "output_type": "execute_result",
          "data": {
            "text/plain": [
              "<function matplotlib.pyplot.show>"
            ]
          },
          "metadata": {
            "tags": []
          },
          "execution_count": 18
        },
        {
          "output_type": "display_data",
          "data": {
            "image/png": "[encoded data removed]",
            "text/plain": [
              "<Figure size 540x540 with 12 Axes>"
            ]
          },
          "metadata": {
            "tags": [],
            "needs_background": "light"
          }
        }
      ]
    },
    {
      "cell_type": "code",
      "metadata": {
        "id": "ywZT1ZjBUKEM",
        "colab": {
          "base_uri": "https://localhost:8080/",
          "height": 404
        },
        "outputId": "cb8154e2-3198-4aea-f21e-dca00e5f5104"
      },
      "source": [
        "cor_matrix = variants.corr(method='pearson')\n",
        "print(\"Correlation matrix:\")\n",
        "print(cor_matrix)\n",
        "\n",
        "sns.heatmap(cor_matrix)\n",
        "plt.title(\"Pearson Correlation plot\")\n",
        "plt.show"
      ],
      "execution_count": 19,
      "outputs": [
        {
          "output_type": "stream",
          "text": [
            "Correlation matrix:\n",
            "                    wt82      wt71  smokeintensity\n",
            "wt82            1.000000  0.875975        0.109278\n",
            "wt71            0.875975  1.000000        0.100218\n",
            "smokeintensity  0.109278  0.100218        1.000000\n"
          ],
          "name": "stdout"
        },
        {
          "output_type": "execute_result",
          "data": {
            "text/plain": [
              "<function matplotlib.pyplot.show>"
            ]
          },
          "metadata": {
            "tags": []
          },
          "execution_count": 19
        },
        {
          "output_type": "display_data",
          "data": {
            "image/png": "[encoded data removed]",
            "text/plain": [
              "<Figure size 432x288 with 2 Axes>"
            ]
          },
          "metadata": {
            "tags": [],
            "needs_background": "light"
          }
        }
      ]
    },
    {
      "cell_type": "code",
      "metadata": {
        "id": "6oN8HYU9emQb",
        "colab": {
          "base_uri": "https://localhost:8080/",
          "height": 404
        },
        "outputId": "aa626537-048e-4cf3-b9db-7db796793fc7"
      },
      "source": [
        "cor_matrix_s = variants.corr(method='spearman')\n",
        "print(\"Spearman Correlation matrix:\")\n",
        "print(cor_matrix_s)\n",
        "\n",
        "sns.heatmap(cor_matrix_s)\n",
        "plt.title(\"Spearman Correlation plot\")\n",
        "plt.show"
      ],
      "execution_count": 21,
      "outputs": [
        {
          "output_type": "stream",
          "text": [
            "Spearman Correlation matrix:\n",
            "                    wt82      wt71  smokeintensity\n",
            "wt82            1.000000  0.873265        0.128101\n",
            "wt71            0.873265  1.000000        0.112369\n",
            "smokeintensity  0.128101  0.112369        1.000000\n"
          ],
          "name": "stdout"
        },
        {
          "output_type": "execute_result",
          "data": {
            "text/plain": [
              "<function matplotlib.pyplot.show>"
            ]
          },
          "metadata": {
            "tags": []
          },
          "execution_count": 21
        },
        {
          "output_type": "display_data",
          "data": {
            "image/png": "[encoded data removed]",
            "text/plain": [
              "<Figure size 432x288 with 2 Axes>"
            ]
          },
          "metadata": {
            "tags": [],
            "needs_background": "light"
          }
        }
      ]
    },
    {
      "cell_type": "markdown",
      "metadata": {
        "id": "ViANxdCxImnG"
      },
      "source": [
        "From the visualizations we notice a linear positive connection between 1971 and 1982 weights, the correlation is close to 0.9.\n",
        "\n",
        "However it seems that there is no connnection between smoke intensity and weights (both 1971 and 1982 data). The correlation is very close to 0.1.\n",
        "\n",
        "We will try to use somokeintensity squared value for finding a connction:"
      ]
    },
    {
      "cell_type": "code",
      "metadata": {
        "colab": {
          "base_uri": "https://localhost:8080/",
          "height": 469
        },
        "id": "UmAoARz0GfLA",
        "outputId": "2ca42763-5da1-4dc5-fdbf-924522087fb0"
      },
      "source": [
        "variants['square_smoke'] = np.power(variants.smokeintensity,2)\n",
        "\n",
        "cor_matrix = variants.corr(method='pearson')\n",
        "print(\"Correlation matrix:\")\n",
        "print(cor_matrix)\n",
        "\n",
        "sns.heatmap(cor_matrix)\n",
        "plt.title(\"Pearson Correlation plot\")\n",
        "plt.show"
      ],
      "execution_count": 22,
      "outputs": [
        {
          "output_type": "stream",
          "text": [
            "Correlation matrix:\n",
            "                    wt82      wt71  smokeintensity  square_smoke\n",
            "wt82            1.000000  0.875975        0.109278      0.098787\n",
            "wt71            0.875975  1.000000        0.100218      0.094059\n",
            "smokeintensity  0.109278  0.100218        1.000000      0.945871\n",
            "square_smoke    0.098787  0.094059        0.945871      1.000000\n"
          ],
          "name": "stdout"
        },
        {
          "output_type": "execute_result",
          "data": {
            "text/plain": [
              "<function matplotlib.pyplot.show>"
            ]
          },
          "metadata": {
            "tags": []
          },
          "execution_count": 22
        },
        {
          "output_type": "display_data",
          "data": {
            "image/png": "[encoded data removed]",
            "text/plain": [
              "<Figure size 432x288 with 2 Axes>"
            ]
          },
          "metadata": {
            "tags": [],
            "needs_background": "light"
          }
        }
      ]
    },
    {
      "cell_type": "markdown",
      "metadata": {
        "id": "dFNa6fu4GP4s"
      },
      "source": [
        "We didn't find a correlation.\n",
        "\n",
        "We will try to split smokeintensity to categories and check if there is a difference between 81 weights over different categories:"
      ]
    },
    {
      "cell_type": "code",
      "metadata": {
        "colab": {
          "base_uri": "https://localhost:8080/",
          "height": 423
        },
        "id": "_FhUMESJrT0Z",
        "outputId": "5843f931-833e-4442-84b7-1c6771183c17"
      },
      "source": [
        "non_missing['smoke'] = non_missing['smokeintensity'] // 20\n",
        "non_missing.loc[non_missing.smoke==4, 'smoke'] = 3\n",
        "\n",
        "print(non_missing.smokeintensity.groupby([non_missing.smoke]).agg(['min', 'max', 'count']))\n",
        "non_missing.boxplot(column='wt82', by='smoke', figsize=(4,4), widths=0.7)\n",
        "plt.title(None)\n",
        "plt.suptitle('Boxplot of 82 weight by smoke intensity')"
      ],
      "execution_count": 23,
      "outputs": [
        {
          "output_type": "stream",
          "text": [
            "       min  max  count\n",
            "smoke                 \n",
            "0        1   19    561\n",
            "1       20   36    793\n",
            "2       40   55    198\n",
            "3       60   80     14\n"
          ],
          "name": "stdout"
        },
        {
          "output_type": "execute_result",
          "data": {
            "text/plain": [
              "Text(0.5, 0.98, 'Boxplot of 82 weight by smoke intensity')"
            ]
          },
          "metadata": {
            "tags": []
          },
          "execution_count": 23
        },
        {
          "output_type": "display_data",
          "data": {
            "image/png": "[encoded data removed]",
            "text/plain": [
              "<Figure size 288x288 with 1 Axes>"
            ]
          },
          "metadata": {
            "tags": [],
            "needs_background": "light"
          }
        }
      ]
    },
    {
      "cell_type": "markdown",
      "metadata": {
        "id": "NZiZy48eJ2uF"
      },
      "source": [
        "The boxplot might show some relation - the median of the weight increases with the number of cigarettes per day (group 4 contained only 1 sample so we included it in group 3). However the variance and the many outliers imply that the connection is not so strait-forward, and also we were unable to spot it on the scatter chart."
      ]
    },
    {
      "cell_type": "markdown",
      "metadata": {
        "id": "g90VRByiVxCl"
      },
      "source": [
        "<b>TODO: improve the model below by including more and better factors in it</b>"
      ]
    },
    {
      "cell_type": "markdown",
      "metadata": {
        "id": "HR9sD_voK1aA"
      },
      "source": [
        "### Improving the model - step 1"
      ]
    },
    {
      "cell_type": "code",
      "metadata": {
        "id": "6dfGfsOA2SgY",
        "colab": {
          "base_uri": "https://localhost:8080/"
        },
        "outputId": "c117b8bb-7d7a-4430-da22-40bdbfd04d82"
      },
      "source": [
        "model0=smf.ols(data=non_missing, formula='wt82~stats.zscore(wt71)+C(colitis)+stats.zscore(ht)+stats.zscore(age)+C(diabetes)+C(active)*C(smoke)').fit()\n",
        "print('R2 for model: '+ str(model0.rsquared))  \n",
        "mse0= np.sum((model0.predict(non_missing)-non_missing['wt82'])**2)\n",
        "rmse0 = np.sqrt(mse0/ non_missing['wt82'].count())\n",
        "print('RMSE for extended model: '+str(rmse0))\n",
        "\n"
      ],
      "execution_count": 24,
      "outputs": [
        {
          "output_type": "stream",
          "text": [
            "R2 for model: 0.7878842746808744\n",
            "RMSE for extended model: 7.439377504005826\n"
          ],
          "name": "stdout"
        }
      ]
    },
    {
      "cell_type": "markdown",
      "metadata": {
        "id": "Ad8ZhCgyRtFG"
      },
      "source": [
        "We chose these factors by commiting a series of F-tests which shown that adding these factors improving the model relative to the model without them. This procedure will be demonstrated in step 2 and step 3 below and the interpetation will follow."
      ]
    },
    {
      "cell_type": "markdown",
      "metadata": {
        "id": "K1QnFdy0MMJX"
      },
      "source": [
        "###Improving the model - step 2\n",
        "Adding some alcohol"
      ]
    },
    {
      "cell_type": "code",
      "metadata": {
        "colab": {
          "base_uri": "https://localhost:8080/"
        },
        "id": "tNPJn7g3wWkk",
        "outputId": "984faf51-ba4d-4ec7-c6ce-3a2d58dc22fe"
      },
      "source": [
        "model1 = smf.ols(data=non_missing, formula='wt82~stats.zscore(wt71)+C(colitis)+stats.zscore(ht)+stats.zscore(age)+C(diabetes)+C(active)*C(smoke)+ alcoholhowmuch').fit()#age*C(income) \n",
        "\n",
        "model2=smf.ols(data=non_missing, formula='wt82~stats.zscore(wt71)+C(colitis)+stats.zscore(ht)+stats.zscore(age)+C(diabetes)+C(active)*C(smoke)').fit() # without alcoholhowmuch\n",
        "delta=model1.compare_f_test(model2)\n",
        "\n",
        "print('R2 for extended model: '+ str(model1.rsquared) +'   VS.   R2 for the smaller model: ' + str(model2.rsquared))\n",
        "print('p value of the F test for comparison of models: '+ str(delta[1]))\n",
        "mse1= np.sum((model1.predict(non_missing)-non_missing['wt82'])**2)\n",
        "rmse1 = np.sqrt(mse1/ non_missing['wt82'].count())\n",
        "mse2= np.sum((model2.predict(non_missing)-non_missing['wt82'])**2)\n",
        "rmse2 = np.sqrt(mse2/ non_missing['wt82'].count())\n",
        "print('RMSE for extended model: '+str(rmse1) +  ' VS. RMSE for smaller model: '+ str(rmse2))\n",
        "\n",
        "print(\"p value of the alcholohhowmuch coefficient :\" + str(model1.pvalues['alcoholhowmuch']))"
      ],
      "execution_count": 25,
      "outputs": [
        {
          "output_type": "stream",
          "text": [
            "R2 for extended model: 0.7980805859411111   VS.   R2 for the smaller model: 0.7878842746808744\n",
            "p value of the F test for comparison of models: 0.0058663207335278265\n",
            "RMSE for extended model: 6.234257566884043 VS. RMSE for smaller model: 7.439377504005826\n",
            "p value of the alcholohhowmuch coefficient :0.2483174742070793\n"
          ],
          "name": "stdout"
        }
      ]
    },
    {
      "cell_type": "markdown",
      "metadata": {
        "id": "70d71qX0Oyya"
      },
      "source": [
        "Adding 'alcoholhowmuch' seems to improve the model as implied by higher R squared and lower RMSE. It is also shown by the significant F-Test result.\n",
        "Nevertheless, p value of the coefficient is not signficant for some reason - it is hard to interpret"
      ]
    },
    {
      "cell_type": "markdown",
      "metadata": {
        "id": "iRF_sRFkMd_C"
      },
      "source": [
        "### Improving the model (?) - step 3 and summary"
      ]
    },
    {
      "cell_type": "code",
      "metadata": {
        "colab": {
          "base_uri": "https://localhost:8080/"
        },
        "id": "ODgW5Yq7Mkyl",
        "outputId": "212ce810-1f13-4710-b57c-3a09c54b8538"
      },
      "source": [
        "model1 = smf.ols(data=non_missing, formula='wt82~stats.zscore(wt71)+C(colitis)+stats.zscore(ht)+stats.zscore(age)+C(diabetes)+C(active)*C(smoke)+ alcoholhowmuch+stats.zscore(age)*C(income)').fit()# \n",
        "\n",
        "model2=smf.ols(data=non_missing, formula='wt82~stats.zscore(wt71)+C(colitis)+stats.zscore(ht)+stats.zscore(age)+C(diabetes)+C(active)*C(smoke)+alcoholhowmuch').fit() # without age*income\n",
        "delta=model1.compare_f_test(model2)\n",
        "print('R2 for extended model: '+ str(model1.rsquared) +'   VS.   R2 for the smaller model: ' + str(model2.rsquared))\n",
        "print('p value of the F test for comparison of models: '+ str(delta[1]))\n",
        "mse1= np.sum((model1.predict(non_missing)-non_missing['wt82'])**2)\n",
        "rmse1 = np.sqrt(mse1/ non_missing['wt82'].count())\n",
        "mse2= np.sum((model2.predict(non_missing)-non_missing['wt82'])**2)\n",
        "rmse2 = np.sqrt(mse2/ non_missing['wt82'].count())\n",
        "print('RMSE for extended model: '+str(rmse1) +  ' VS. RMSE for smaller model: '+ str(rmse2))\n",
        "\n",
        "\n"
      ],
      "execution_count": 26,
      "outputs": [
        {
          "output_type": "stream",
          "text": [
            "R2 for extended model: 0.8045496531167394   VS.   R2 for the smaller model: 0.7980805859411111\n",
            "p value of the F test for comparison of models: 0.07150879073168878\n",
            "RMSE for extended model: 5.992664799675646 VS. RMSE for smaller model: 6.234257566884043\n"
          ],
          "name": "stdout"
        }
      ]
    },
    {
      "cell_type": "markdown",
      "metadata": {
        "id": "bgyxUCzMXxkZ"
      },
      "source": [
        "Here we see that adding age*income adds to the R squared value and reduces RMSE. We can also see below that one levels of this factor has significant p value. However, surprisingly, F-Test shows no significant added value for adding this variable.  "
      ]
    },
    {
      "cell_type": "code",
      "metadata": {
        "colab": {
          "base_uri": "https://localhost:8080/"
        },
        "id": "7lkXVit5Xsb9",
        "outputId": "5f0f988b-0bed-4faa-d3e1-91a9e5079cc9"
      },
      "source": [
        "p_vals = model1.pvalues\n",
        " \n",
        "sig_p = p_vals[p_vals<0.05] \n",
        "coef = model1.params[sig_p.index] \n",
        "print(\"List of significant coefficients: \")\n",
        "print(coef)"
      ],
      "execution_count": 28,
      "outputs": [
        {
          "output_type": "stream",
          "text": [
            "List of significant coefficients: \n",
            "Intercept                              73.811654\n",
            "C(colitis)[T.1]                        -4.105485\n",
            "C(diabetes)[T.1]                       -7.795922\n",
            "C(active)[T.2]                         -3.352520\n",
            "C(active)[T.2]:C(smoke)[T.1]            5.169221\n",
            "C(active)[T.2]:C(smoke)[T.2]            5.324203\n",
            "stats.zscore(wt71)                     14.381198\n",
            "stats.zscore(ht)                        0.623101\n",
            "stats.zscore(age)                      -3.331453\n",
            "stats.zscore(age):C(income)[T.22.0]     3.282007\n",
            "dtype: float64\n"
          ],
          "name": "stdout"
        }
      ]
    },
    {
      "cell_type": "markdown",
      "metadata": {
        "id": "rOfI9GWc2xmd"
      },
      "source": [
        "### Interpretation\n",
        "Above listed the factors that proved to be related to weight in 1982 according to their significant p value. \n",
        "\n",
        "The factors that influence weight and thier influence according to their coefficients:\n",
        "\n",
        "\n",
        "*   The weight in 1971 - the higher the weight in 71' the higher in 82\n",
        "*   Age - it seems that we get thinner as we get older. Note that this effect is reversed when it comes to very rich people - they gain more weight as they become older (in comparison to poor people) as seen by the interation of Age and the last level of income.\n",
        "*   Height - Taller people in 71' weigh more in 82'\n",
        "*   Colitis & Diabetes -  Having either of them in 71' means less weight in 82'\n",
        "\n",
        "*   Day life Activity - Strangely we found that being inactive in daily life   associated with lower weight in 82' in comparison to being very active (Long live television:-)....maybe busy people eat junk food?). Note that it makes more sense in interaction with smoking - the combination of being non-active and smoke one or 2 packets a day raises the chance of being fatter. \n",
        "\n",
        "\n",
        "*   Alcohol consumption - The coefficient is not significant but as we have seen before (by the F test etc.) it seems to be a valid parmeter that adds to the model explantory power. Still it is hard to interpret the influence the amount of drinking in 71' on weight in 82'. It might be a suppressor variable which although it has no correlation with the dependent variable but it may be related somehow to another factor and by including it we increases the predictive power of that factor.\n",
        "\n",
        "\n",
        "\n",
        "\n",
        "\n",
        "\n",
        "\n",
        "\n",
        "\n",
        "\n",
        "\n",
        " \n",
        "\n",
        "\n",
        "Strength of influence:\n",
        "\n",
        "We scaled the numeric variables hence their coefficients are comperable and reflect the relative strenght of influence. We see that weight in 71' has the largest influence - much more than age which comes after. Height has somewhat very low impact but it may also be that as weight and height are highly correlated in the first place they explain the same variance so the impact of height is included already in the impact of weight.\n",
        "\n",
        " \n",
        "\n"
      ]
    },
    {
      "cell_type": "markdown",
      "metadata": {
        "id": "f2nELOqS3vhM"
      },
      "source": [
        "# Task 2: Credit scoring and comparing models [60 points]"
      ]
    },
    {
      "cell_type": "markdown",
      "metadata": {
        "id": "qb73qxhmHj9m"
      },
      "source": [
        "In this part, you should train a logistic regression to predict probability of not returning a loan by a bank client. \n",
        "\n",
        "This problem be focused not on explaining *why* some clients do not return the loan, but only on predicting *whether* they will return it (or, rather, with what probability they don't return). Therefore, we don't *have* to perform statistical tests for the model coefficients. However, these test might still be useful for finding the variables that are really useful for predicting the outcome. \n",
        "\n",
        "To validate the quality of prediction on the new data, we will split the data into the train and test parts. "
      ]
    },
    {
      "cell_type": "code",
      "metadata": {
        "id": "sqsopnb-CFTE",
        "colab": {
          "base_uri": "https://localhost:8080/",
          "height": 395
        },
        "outputId": "49f939ab-dd36-482f-9af2-bee099bf4a9f"
      },
      "source": [
        "credit_data = pd.read_csv('https://raw.githubusercontent.com/stedy/Machine-Learning-with-R-datasets/master/credit.csv')\n",
        "print(credit_data.shape)\n",
        "y = credit_data['default'] - 1  # get 1 for not returning loan, 0 for returning it\n",
        "print(y.mean())\n",
        "predictors = credit_data.drop('default', axis=1)\n",
        "predictors.sample(5)#.T"
      ],
      "execution_count": null,
      "outputs": [
        {
          "output_type": "stream",
          "text": [
            "(1000, 21)\n",
            "0.3\n"
          ],
          "name": "stdout"
        },
        {
          "output_type": "execute_result",
          "data": {
            "text/html": [
              "<div>\n",
              "<style scoped>\n",
              "    .dataframe tbody tr th:only-of-type {\n",
              "        vertical-align: middle;\n",
              "    }\n",
              "\n",
              "    .dataframe tbody tr th {\n",
              "        vertical-align: top;\n",
              "    }\n",
              "\n",
              "    .dataframe thead th {\n",
              "        text-align: right;\n",
              "    }\n",
              "</style>\n",
              "<table border=\"1\" class=\"dataframe\">\n",
              "  <thead>\n",
              "    <tr style=\"text-align: right;\">\n",
              "      <th></th>\n",
              "      <th>checking_balance</th>\n",
              "      <th>months_loan_duration</th>\n",
              "      <th>credit_history</th>\n",
              "      <th>purpose</th>\n",
              "      <th>amount</th>\n",
              "      <th>savings_balance</th>\n",
              "      <th>employment_length</th>\n",
              "      <th>installment_rate</th>\n",
              "      <th>personal_status</th>\n",
              "      <th>other_debtors</th>\n",
              "      <th>residence_history</th>\n",
              "      <th>property</th>\n",
              "      <th>age</th>\n",
              "      <th>installment_plan</th>\n",
              "      <th>housing</th>\n",
              "      <th>existing_credits</th>\n",
              "      <th>dependents</th>\n",
              "      <th>telephone</th>\n",
              "      <th>foreign_worker</th>\n",
              "      <th>job</th>\n",
              "    </tr>\n",
              "  </thead>\n",
              "  <tbody>\n",
              "    <tr>\n",
              "      <th>871</th>\n",
              "      <td>&gt; 200 DM</td>\n",
              "      <td>6</td>\n",
              "      <td>critical</td>\n",
              "      <td>car (new)</td>\n",
              "      <td>1343</td>\n",
              "      <td>&lt; 100 DM</td>\n",
              "      <td>&gt; 7 yrs</td>\n",
              "      <td>1</td>\n",
              "      <td>single male</td>\n",
              "      <td>none</td>\n",
              "      <td>4</td>\n",
              "      <td>real estate</td>\n",
              "      <td>46</td>\n",
              "      <td>none</td>\n",
              "      <td>own</td>\n",
              "      <td>2</td>\n",
              "      <td>2</td>\n",
              "      <td>none</td>\n",
              "      <td>no</td>\n",
              "      <td>skilled employee</td>\n",
              "    </tr>\n",
              "    <tr>\n",
              "      <th>236</th>\n",
              "      <td>1 - 200 DM</td>\n",
              "      <td>6</td>\n",
              "      <td>repaid</td>\n",
              "      <td>car (new)</td>\n",
              "      <td>14555</td>\n",
              "      <td>unknown</td>\n",
              "      <td>unemployed</td>\n",
              "      <td>1</td>\n",
              "      <td>single male</td>\n",
              "      <td>none</td>\n",
              "      <td>2</td>\n",
              "      <td>building society savings</td>\n",
              "      <td>23</td>\n",
              "      <td>none</td>\n",
              "      <td>own</td>\n",
              "      <td>1</td>\n",
              "      <td>1</td>\n",
              "      <td>yes</td>\n",
              "      <td>yes</td>\n",
              "      <td>unemployed non-resident</td>\n",
              "    </tr>\n",
              "    <tr>\n",
              "      <th>893</th>\n",
              "      <td>1 - 200 DM</td>\n",
              "      <td>36</td>\n",
              "      <td>critical</td>\n",
              "      <td>car (used)</td>\n",
              "      <td>5800</td>\n",
              "      <td>&lt; 100 DM</td>\n",
              "      <td>1 - 4 yrs</td>\n",
              "      <td>3</td>\n",
              "      <td>single male</td>\n",
              "      <td>none</td>\n",
              "      <td>4</td>\n",
              "      <td>other</td>\n",
              "      <td>34</td>\n",
              "      <td>none</td>\n",
              "      <td>own</td>\n",
              "      <td>2</td>\n",
              "      <td>1</td>\n",
              "      <td>yes</td>\n",
              "      <td>yes</td>\n",
              "      <td>skilled employee</td>\n",
              "    </tr>\n",
              "    <tr>\n",
              "      <th>297</th>\n",
              "      <td>unknown</td>\n",
              "      <td>10</td>\n",
              "      <td>repaid</td>\n",
              "      <td>car (new)</td>\n",
              "      <td>1287</td>\n",
              "      <td>unknown</td>\n",
              "      <td>&gt; 7 yrs</td>\n",
              "      <td>4</td>\n",
              "      <td>single male</td>\n",
              "      <td>co-applicant</td>\n",
              "      <td>2</td>\n",
              "      <td>building society savings</td>\n",
              "      <td>45</td>\n",
              "      <td>none</td>\n",
              "      <td>own</td>\n",
              "      <td>1</td>\n",
              "      <td>1</td>\n",
              "      <td>none</td>\n",
              "      <td>no</td>\n",
              "      <td>unskilled resident</td>\n",
              "    </tr>\n",
              "    <tr>\n",
              "      <th>6</th>\n",
              "      <td>unknown</td>\n",
              "      <td>24</td>\n",
              "      <td>repaid</td>\n",
              "      <td>furniture</td>\n",
              "      <td>2835</td>\n",
              "      <td>501 - 1000 DM</td>\n",
              "      <td>&gt; 7 yrs</td>\n",
              "      <td>3</td>\n",
              "      <td>single male</td>\n",
              "      <td>none</td>\n",
              "      <td>4</td>\n",
              "      <td>building society savings</td>\n",
              "      <td>53</td>\n",
              "      <td>none</td>\n",
              "      <td>own</td>\n",
              "      <td>1</td>\n",
              "      <td>1</td>\n",
              "      <td>none</td>\n",
              "      <td>yes</td>\n",
              "      <td>skilled employee</td>\n",
              "    </tr>\n",
              "  </tbody>\n",
              "</table>\n",
              "</div>"
            ],
            "text/plain": [
              "    checking_balance  ...                      job\n",
              "871         > 200 DM  ...         skilled employee\n",
              "236       1 - 200 DM  ...  unemployed non-resident\n",
              "893       1 - 200 DM  ...         skilled employee\n",
              "297          unknown  ...       unskilled resident\n",
              "6            unknown  ...         skilled employee\n",
              "\n",
              "[5 rows x 20 columns]"
            ]
          },
          "metadata": {
            "tags": []
          },
          "execution_count": 5
        }
      ]
    },
    {
      "cell_type": "markdown",
      "metadata": {
        "id": "3yer96KMJC9u"
      },
      "source": [
        "Some of the variables are categorical. To make all the data numerical, one may perform one-hot encoding of the categorical columns. "
      ]
    },
    {
      "cell_type": "code",
      "metadata": {
        "id": "Yh4MnsrNIiDa",
        "colab": {
          "base_uri": "https://localhost:8080/",
          "height": 178
        },
        "outputId": "f546f4cb-7cbf-493d-cf28-755b61e9ee53"
      },
      "source": [
        "X = pd.get_dummies(predictors, drop_first=False)\n",
        "X.sample(3)#.T.head(21)"
      ],
      "execution_count": null,
      "outputs": [
        {
          "output_type": "execute_result",
          "data": {
            "text/html": [
              "<div>\n",
              "<style scoped>\n",
              "    .dataframe tbody tr th:only-of-type {\n",
              "        vertical-align: middle;\n",
              "    }\n",
              "\n",
              "    .dataframe tbody tr th {\n",
              "        vertical-align: top;\n",
              "    }\n",
              "\n",
              "    .dataframe thead th {\n",
              "        text-align: right;\n",
              "    }\n",
              "</style>\n",
              "<table border=\"1\" class=\"dataframe\">\n",
              "  <thead>\n",
              "    <tr style=\"text-align: right;\">\n",
              "      <th></th>\n",
              "      <th>months_loan_duration</th>\n",
              "      <th>amount</th>\n",
              "      <th>installment_rate</th>\n",
              "      <th>residence_history</th>\n",
              "      <th>age</th>\n",
              "      <th>existing_credits</th>\n",
              "      <th>dependents</th>\n",
              "      <th>checking_balance_1 - 200 DM</th>\n",
              "      <th>checking_balance_&lt; 0 DM</th>\n",
              "      <th>checking_balance_&gt; 200 DM</th>\n",
              "      <th>checking_balance_unknown</th>\n",
              "      <th>credit_history_critical</th>\n",
              "      <th>credit_history_delayed</th>\n",
              "      <th>credit_history_fully repaid</th>\n",
              "      <th>credit_history_fully repaid this bank</th>\n",
              "      <th>credit_history_repaid</th>\n",
              "      <th>purpose_business</th>\n",
              "      <th>purpose_car (new)</th>\n",
              "      <th>purpose_car (used)</th>\n",
              "      <th>purpose_domestic appliances</th>\n",
              "      <th>purpose_education</th>\n",
              "      <th>purpose_furniture</th>\n",
              "      <th>purpose_others</th>\n",
              "      <th>purpose_radio/tv</th>\n",
              "      <th>purpose_repairs</th>\n",
              "      <th>purpose_retraining</th>\n",
              "      <th>savings_balance_101 - 500 DM</th>\n",
              "      <th>savings_balance_501 - 1000 DM</th>\n",
              "      <th>savings_balance_&lt; 100 DM</th>\n",
              "      <th>savings_balance_&gt; 1000 DM</th>\n",
              "      <th>savings_balance_unknown</th>\n",
              "      <th>employment_length_0 - 1 yrs</th>\n",
              "      <th>employment_length_1 - 4 yrs</th>\n",
              "      <th>employment_length_4 - 7 yrs</th>\n",
              "      <th>employment_length_&gt; 7 yrs</th>\n",
              "      <th>employment_length_unemployed</th>\n",
              "      <th>personal_status_divorced male</th>\n",
              "      <th>personal_status_female</th>\n",
              "      <th>personal_status_married male</th>\n",
              "      <th>personal_status_single male</th>\n",
              "      <th>other_debtors_co-applicant</th>\n",
              "      <th>other_debtors_guarantor</th>\n",
              "      <th>other_debtors_none</th>\n",
              "      <th>property_building society savings</th>\n",
              "      <th>property_other</th>\n",
              "      <th>property_real estate</th>\n",
              "      <th>property_unknown/none</th>\n",
              "      <th>installment_plan_bank</th>\n",
              "      <th>installment_plan_none</th>\n",
              "      <th>installment_plan_stores</th>\n",
              "      <th>housing_for free</th>\n",
              "      <th>housing_own</th>\n",
              "      <th>housing_rent</th>\n",
              "      <th>telephone_none</th>\n",
              "      <th>telephone_yes</th>\n",
              "      <th>foreign_worker_no</th>\n",
              "      <th>foreign_worker_yes</th>\n",
              "      <th>job_mangement self-employed</th>\n",
              "      <th>job_skilled employee</th>\n",
              "      <th>job_unemployed non-resident</th>\n",
              "      <th>job_unskilled resident</th>\n",
              "    </tr>\n",
              "  </thead>\n",
              "  <tbody>\n",
              "    <tr>\n",
              "      <th>212</th>\n",
              "      <td>27</td>\n",
              "      <td>5293</td>\n",
              "      <td>2</td>\n",
              "      <td>4</td>\n",
              "      <td>50</td>\n",
              "      <td>2</td>\n",
              "      <td>1</td>\n",
              "      <td>0</td>\n",
              "      <td>1</td>\n",
              "      <td>0</td>\n",
              "      <td>0</td>\n",
              "      <td>0</td>\n",
              "      <td>0</td>\n",
              "      <td>1</td>\n",
              "      <td>0</td>\n",
              "      <td>0</td>\n",
              "      <td>1</td>\n",
              "      <td>0</td>\n",
              "      <td>0</td>\n",
              "      <td>0</td>\n",
              "      <td>0</td>\n",
              "      <td>0</td>\n",
              "      <td>0</td>\n",
              "      <td>0</td>\n",
              "      <td>0</td>\n",
              "      <td>0</td>\n",
              "      <td>0</td>\n",
              "      <td>0</td>\n",
              "      <td>1</td>\n",
              "      <td>0</td>\n",
              "      <td>0</td>\n",
              "      <td>0</td>\n",
              "      <td>0</td>\n",
              "      <td>0</td>\n",
              "      <td>0</td>\n",
              "      <td>1</td>\n",
              "      <td>0</td>\n",
              "      <td>0</td>\n",
              "      <td>0</td>\n",
              "      <td>1</td>\n",
              "      <td>0</td>\n",
              "      <td>0</td>\n",
              "      <td>1</td>\n",
              "      <td>1</td>\n",
              "      <td>0</td>\n",
              "      <td>0</td>\n",
              "      <td>0</td>\n",
              "      <td>0</td>\n",
              "      <td>0</td>\n",
              "      <td>1</td>\n",
              "      <td>0</td>\n",
              "      <td>1</td>\n",
              "      <td>0</td>\n",
              "      <td>0</td>\n",
              "      <td>1</td>\n",
              "      <td>0</td>\n",
              "      <td>1</td>\n",
              "      <td>0</td>\n",
              "      <td>1</td>\n",
              "      <td>0</td>\n",
              "      <td>0</td>\n",
              "    </tr>\n",
              "    <tr>\n",
              "      <th>125</th>\n",
              "      <td>12</td>\n",
              "      <td>2121</td>\n",
              "      <td>4</td>\n",
              "      <td>2</td>\n",
              "      <td>30</td>\n",
              "      <td>2</td>\n",
              "      <td>1</td>\n",
              "      <td>0</td>\n",
              "      <td>1</td>\n",
              "      <td>0</td>\n",
              "      <td>0</td>\n",
              "      <td>1</td>\n",
              "      <td>0</td>\n",
              "      <td>0</td>\n",
              "      <td>0</td>\n",
              "      <td>0</td>\n",
              "      <td>0</td>\n",
              "      <td>1</td>\n",
              "      <td>0</td>\n",
              "      <td>0</td>\n",
              "      <td>0</td>\n",
              "      <td>0</td>\n",
              "      <td>0</td>\n",
              "      <td>0</td>\n",
              "      <td>0</td>\n",
              "      <td>0</td>\n",
              "      <td>0</td>\n",
              "      <td>0</td>\n",
              "      <td>1</td>\n",
              "      <td>0</td>\n",
              "      <td>0</td>\n",
              "      <td>0</td>\n",
              "      <td>1</td>\n",
              "      <td>0</td>\n",
              "      <td>0</td>\n",
              "      <td>0</td>\n",
              "      <td>0</td>\n",
              "      <td>0</td>\n",
              "      <td>0</td>\n",
              "      <td>1</td>\n",
              "      <td>0</td>\n",
              "      <td>0</td>\n",
              "      <td>1</td>\n",
              "      <td>1</td>\n",
              "      <td>0</td>\n",
              "      <td>0</td>\n",
              "      <td>0</td>\n",
              "      <td>0</td>\n",
              "      <td>1</td>\n",
              "      <td>0</td>\n",
              "      <td>0</td>\n",
              "      <td>1</td>\n",
              "      <td>0</td>\n",
              "      <td>1</td>\n",
              "      <td>0</td>\n",
              "      <td>0</td>\n",
              "      <td>1</td>\n",
              "      <td>0</td>\n",
              "      <td>1</td>\n",
              "      <td>0</td>\n",
              "      <td>0</td>\n",
              "    </tr>\n",
              "    <tr>\n",
              "      <th>762</th>\n",
              "      <td>12</td>\n",
              "      <td>2214</td>\n",
              "      <td>4</td>\n",
              "      <td>3</td>\n",
              "      <td>24</td>\n",
              "      <td>1</td>\n",
              "      <td>1</td>\n",
              "      <td>0</td>\n",
              "      <td>1</td>\n",
              "      <td>0</td>\n",
              "      <td>0</td>\n",
              "      <td>0</td>\n",
              "      <td>0</td>\n",
              "      <td>0</td>\n",
              "      <td>0</td>\n",
              "      <td>1</td>\n",
              "      <td>0</td>\n",
              "      <td>0</td>\n",
              "      <td>0</td>\n",
              "      <td>0</td>\n",
              "      <td>0</td>\n",
              "      <td>0</td>\n",
              "      <td>0</td>\n",
              "      <td>1</td>\n",
              "      <td>0</td>\n",
              "      <td>0</td>\n",
              "      <td>0</td>\n",
              "      <td>0</td>\n",
              "      <td>1</td>\n",
              "      <td>0</td>\n",
              "      <td>0</td>\n",
              "      <td>0</td>\n",
              "      <td>1</td>\n",
              "      <td>0</td>\n",
              "      <td>0</td>\n",
              "      <td>0</td>\n",
              "      <td>0</td>\n",
              "      <td>0</td>\n",
              "      <td>0</td>\n",
              "      <td>1</td>\n",
              "      <td>0</td>\n",
              "      <td>0</td>\n",
              "      <td>1</td>\n",
              "      <td>1</td>\n",
              "      <td>0</td>\n",
              "      <td>0</td>\n",
              "      <td>0</td>\n",
              "      <td>0</td>\n",
              "      <td>1</td>\n",
              "      <td>0</td>\n",
              "      <td>0</td>\n",
              "      <td>1</td>\n",
              "      <td>0</td>\n",
              "      <td>1</td>\n",
              "      <td>0</td>\n",
              "      <td>0</td>\n",
              "      <td>1</td>\n",
              "      <td>0</td>\n",
              "      <td>0</td>\n",
              "      <td>0</td>\n",
              "      <td>1</td>\n",
              "    </tr>\n",
              "  </tbody>\n",
              "</table>\n",
              "</div>"
            ],
            "text/plain": [
              "     months_loan_duration  ...  job_unskilled resident\n",
              "212                    27  ...                       0\n",
              "125                    12  ...                       0\n",
              "762                    12  ...                       1\n",
              "\n",
              "[3 rows x 61 columns]"
            ]
          },
          "metadata": {
            "tags": []
          },
          "execution_count": 6
        }
      ]
    },
    {
      "cell_type": "code",
      "metadata": {
        "id": "uX8mvt87MOPO"
      },
      "source": [
        "from sklearn.model_selection import train_test_split\n",
        "X_train, X_test, y_train, y_test = train_test_split(X, y, test_size=0.2, random_state=1)"
      ],
      "execution_count": null,
      "outputs": []
    },
    {
      "cell_type": "markdown",
      "metadata": {
        "id": "W8gv573YOZ5e"
      },
      "source": [
        "Here is the logistic regression model trained on all the variables. However, only for the numerical variables here the test for coefficient significance makes sense. \n",
        "\n",
        "**TODO: interpret the signs and significance of the numerical factors (the first 7, from `months_loan_duration` to `dependents`).**\n",
        "\n",
        "**Answer:**\n",
        "\n",
        "months_loan_duration: the coefficiant is significantly not zoro and positive, hence the higher the month loan duration the higher the probability of not returning the loan.\n",
        "\n",
        "amount: also, the coefficiant is significantly not zoro and positive, hence the higher the amount the higher the probability of not returning the loan.\n",
        "\n",
        "installment_rate: also, the coefficiant is significantly not zoro and positive, hence the higher the installmant rate the higher the probability of not returning the loan.\n",
        "\n",
        "residence_history: the coefficient is not significantly different from zero.\n",
        "\n",
        "age: the coefficient is not significantly different from zero.\n",
        "\n",
        "existing_credits: the coefficient is not significantly different from zero.\n",
        "\n",
        "dependents: the coefficient is not significantly different from zero.\n",
        "\n"
      ]
    },
    {
      "cell_type": "code",
      "metadata": {
        "id": "EO4FZ49tIQMI",
        "colab": {
          "base_uri": "https://localhost:8080/",
          "height": 1000
        },
        "outputId": "c3ffb012-abf2-4511-8f7f-a1c3e383df42"
      },
      "source": [
        "import statsmodels.api as sm\n",
        "full_model = sm.Logit(y_train, X_train).fit()\n",
        "full_model.summary()"
      ],
      "execution_count": null,
      "outputs": [
        {
          "output_type": "stream",
          "text": [
            "Optimization terminated successfully.\n",
            "         Current function value: 0.438871\n",
            "         Iterations 11\n"
          ],
          "name": "stdout"
        },
        {
          "output_type": "stream",
          "text": [
            "/usr/local/lib/python3.6/dist-packages/statsmodels/base/model.py:1286: RuntimeWarning: invalid value encountered in sqrt\n",
            "  bse_ = np.sqrt(np.diag(self.cov_params()))\n",
            "/usr/local/lib/python3.6/dist-packages/scipy/stats/_distn_infrastructure.py:903: RuntimeWarning: invalid value encountered in greater\n",
            "  return (a < x) & (x < b)\n",
            "/usr/local/lib/python3.6/dist-packages/scipy/stats/_distn_infrastructure.py:903: RuntimeWarning: invalid value encountered in less\n",
            "  return (a < x) & (x < b)\n",
            "/usr/local/lib/python3.6/dist-packages/scipy/stats/_distn_infrastructure.py:1912: RuntimeWarning: invalid value encountered in less_equal\n",
            "  cond2 = cond0 & (x <= _a)\n"
          ],
          "name": "stderr"
        },
        {
          "output_type": "execute_result",
          "data": {
            "text/html": [
              "<table class=\"simpletable\">\n",
              "<caption>Logit Regression Results</caption>\n",
              "<tr>\n",
              "  <th>Dep. Variable:</th>        <td>default</td>     <th>  No. Observations:  </th>  <td>   800</td>  \n",
              "</tr>\n",
              "<tr>\n",
              "  <th>Model:</th>                 <td>Logit</td>      <th>  Df Residuals:      </th>  <td>   751</td>  \n",
              "</tr>\n",
              "<tr>\n",
              "  <th>Method:</th>                 <td>MLE</td>       <th>  Df Model:          </th>  <td>    48</td>  \n",
              "</tr>\n",
              "<tr>\n",
              "  <th>Date:</th>            <td>Mon, 23 Nov 2020</td> <th>  Pseudo R-squ.:     </th>  <td>0.2828</td>  \n",
              "</tr>\n",
              "<tr>\n",
              "  <th>Time:</th>                <td>11:38:24</td>     <th>  Log-Likelihood:    </th> <td> -351.10</td> \n",
              "</tr>\n",
              "<tr>\n",
              "  <th>converged:</th>             <td>True</td>       <th>  LL-Null:           </th> <td> -489.54</td> \n",
              "</tr>\n",
              "<tr>\n",
              "  <th>Covariance Type:</th>     <td>nonrobust</td>    <th>  LLR p-value:       </th> <td>6.186e-34</td>\n",
              "</tr>\n",
              "</table>\n",
              "<table class=\"simpletable\">\n",
              "<tr>\n",
              "                    <td></td>                       <th>coef</th>     <th>std err</th>      <th>z</th>      <th>P>|z|</th>  <th>[0.025</th>    <th>0.975]</th>  \n",
              "</tr>\n",
              "<tr>\n",
              "  <th>months_loan_duration</th>                  <td>    0.0235</td> <td>    0.011</td> <td>    2.134</td> <td> 0.033</td> <td>    0.002</td> <td>    0.045</td>\n",
              "</tr>\n",
              "<tr>\n",
              "  <th>amount</th>                                <td>    0.0002</td> <td> 5.21e-05</td> <td>    3.310</td> <td> 0.001</td> <td> 7.04e-05</td> <td>    0.000</td>\n",
              "</tr>\n",
              "<tr>\n",
              "  <th>installment_rate</th>                      <td>    0.4333</td> <td>    0.101</td> <td>    4.298</td> <td> 0.000</td> <td>    0.236</td> <td>    0.631</td>\n",
              "</tr>\n",
              "<tr>\n",
              "  <th>residence_history</th>                     <td>    0.0825</td> <td>    0.099</td> <td>    0.834</td> <td> 0.404</td> <td>   -0.111</td> <td>    0.276</td>\n",
              "</tr>\n",
              "<tr>\n",
              "  <th>age</th>                                   <td>   -0.0176</td> <td>    0.010</td> <td>   -1.698</td> <td> 0.089</td> <td>   -0.038</td> <td>    0.003</td>\n",
              "</tr>\n",
              "<tr>\n",
              "  <th>existing_credits</th>                      <td>    0.2789</td> <td>    0.223</td> <td>    1.248</td> <td> 0.212</td> <td>   -0.159</td> <td>    0.717</td>\n",
              "</tr>\n",
              "<tr>\n",
              "  <th>dependents</th>                            <td>    0.3969</td> <td>    0.288</td> <td>    1.377</td> <td> 0.168</td> <td>   -0.168</td> <td>    0.962</td>\n",
              "</tr>\n",
              "<tr>\n",
              "  <th>checking_balance_1 - 200 DM</th>           <td>    1.9475</td> <td>      nan</td> <td>      nan</td> <td>   nan</td> <td>      nan</td> <td>      nan</td>\n",
              "</tr>\n",
              "<tr>\n",
              "  <th>checking_balance_< 0 DM</th>               <td>    2.4459</td> <td>      nan</td> <td>      nan</td> <td>   nan</td> <td>      nan</td> <td>      nan</td>\n",
              "</tr>\n",
              "<tr>\n",
              "  <th>checking_balance_> 200 DM</th>             <td>    1.6381</td> <td>      nan</td> <td>      nan</td> <td>   nan</td> <td>      nan</td> <td>      nan</td>\n",
              "</tr>\n",
              "<tr>\n",
              "  <th>checking_balance_unknown</th>              <td>    0.7431</td> <td>      nan</td> <td>      nan</td> <td>   nan</td> <td>      nan</td> <td>      nan</td>\n",
              "</tr>\n",
              "<tr>\n",
              "  <th>credit_history_critical</th>               <td>   -1.0341</td> <td> 9.68e+06</td> <td>-1.07e-07</td> <td> 1.000</td> <td> -1.9e+07</td> <td>  1.9e+07</td>\n",
              "</tr>\n",
              "<tr>\n",
              "  <th>credit_history_delayed</th>                <td>   -0.3071</td> <td> 9.63e+06</td> <td>-3.19e-08</td> <td> 1.000</td> <td>-1.89e+07</td> <td> 1.89e+07</td>\n",
              "</tr>\n",
              "<tr>\n",
              "  <th>credit_history_fully repaid</th>           <td>    0.7177</td> <td> 9.72e+06</td> <td> 7.38e-08</td> <td> 1.000</td> <td>-1.91e+07</td> <td> 1.91e+07</td>\n",
              "</tr>\n",
              "<tr>\n",
              "  <th>credit_history_fully repaid this bank</th> <td>    0.4653</td> <td> 9.47e+06</td> <td> 4.91e-08</td> <td> 1.000</td> <td>-1.86e+07</td> <td> 1.86e+07</td>\n",
              "</tr>\n",
              "<tr>\n",
              "  <th>credit_history_repaid</th>                 <td>    0.0859</td> <td> 9.34e+06</td> <td>  9.2e-09</td> <td> 1.000</td> <td>-1.83e+07</td> <td> 1.83e+07</td>\n",
              "</tr>\n",
              "<tr>\n",
              "  <th>purpose_business</th>                      <td>   -4.9123</td> <td>      nan</td> <td>      nan</td> <td>   nan</td> <td>      nan</td> <td>      nan</td>\n",
              "</tr>\n",
              "<tr>\n",
              "  <th>purpose_car (new)</th>                     <td>   -4.3837</td> <td>      nan</td> <td>      nan</td> <td>   nan</td> <td>      nan</td> <td>      nan</td>\n",
              "</tr>\n",
              "<tr>\n",
              "  <th>purpose_car (used)</th>                    <td>   -6.4910</td> <td>      nan</td> <td>      nan</td> <td>   nan</td> <td>      nan</td> <td>      nan</td>\n",
              "</tr>\n",
              "<tr>\n",
              "  <th>purpose_domestic appliances</th>           <td>   -4.8229</td> <td>      nan</td> <td>      nan</td> <td>   nan</td> <td>      nan</td> <td>      nan</td>\n",
              "</tr>\n",
              "<tr>\n",
              "  <th>purpose_education</th>                     <td>   -4.6316</td> <td>      nan</td> <td>      nan</td> <td>   nan</td> <td>      nan</td> <td>      nan</td>\n",
              "</tr>\n",
              "<tr>\n",
              "  <th>purpose_furniture</th>                     <td>   -5.2274</td> <td>      nan</td> <td>      nan</td> <td>   nan</td> <td>      nan</td> <td>      nan</td>\n",
              "</tr>\n",
              "<tr>\n",
              "  <th>purpose_others</th>                        <td>   -5.5257</td> <td>      nan</td> <td>      nan</td> <td>   nan</td> <td>      nan</td> <td>      nan</td>\n",
              "</tr>\n",
              "<tr>\n",
              "  <th>purpose_radio/tv</th>                      <td>   -5.3843</td> <td>      nan</td> <td>      nan</td> <td>   nan</td> <td>      nan</td> <td>      nan</td>\n",
              "</tr>\n",
              "<tr>\n",
              "  <th>purpose_repairs</th>                       <td>   -4.3203</td> <td>      nan</td> <td>      nan</td> <td>   nan</td> <td>      nan</td> <td>      nan</td>\n",
              "</tr>\n",
              "<tr>\n",
              "  <th>purpose_retraining</th>                    <td>   -6.2284</td> <td>      nan</td> <td>      nan</td> <td>   nan</td> <td>      nan</td> <td>      nan</td>\n",
              "</tr>\n",
              "<tr>\n",
              "  <th>savings_balance_101 - 500 DM</th>          <td>   -0.6316</td> <td> 7.45e+06</td> <td>-8.48e-08</td> <td> 1.000</td> <td>-1.46e+07</td> <td> 1.46e+07</td>\n",
              "</tr>\n",
              "<tr>\n",
              "  <th>savings_balance_501 - 1000 DM</th>         <td>   -0.4586</td> <td> 7.77e+06</td> <td> -5.9e-08</td> <td> 1.000</td> <td>-1.52e+07</td> <td> 1.52e+07</td>\n",
              "</tr>\n",
              "<tr>\n",
              "  <th>savings_balance_< 100 DM</th>              <td>   -0.2670</td> <td> 8.01e+06</td> <td>-3.34e-08</td> <td> 1.000</td> <td>-1.57e+07</td> <td> 1.57e+07</td>\n",
              "</tr>\n",
              "<tr>\n",
              "  <th>savings_balance_> 1000 DM</th>             <td>   -1.7403</td> <td> 7.81e+06</td> <td>-2.23e-07</td> <td> 1.000</td> <td>-1.53e+07</td> <td> 1.53e+07</td>\n",
              "</tr>\n",
              "<tr>\n",
              "  <th>savings_balance_unknown</th>               <td>   -1.1367</td> <td> 7.57e+06</td> <td> -1.5e-07</td> <td> 1.000</td> <td>-1.48e+07</td> <td> 1.48e+07</td>\n",
              "</tr>\n",
              "<tr>\n",
              "  <th>employment_length_0 - 1 yrs</th>           <td>    0.7809</td> <td>      nan</td> <td>      nan</td> <td>   nan</td> <td>      nan</td> <td>      nan</td>\n",
              "</tr>\n",
              "<tr>\n",
              "  <th>employment_length_1 - 4 yrs</th>           <td>    0.7002</td> <td>      nan</td> <td>      nan</td> <td>   nan</td> <td>      nan</td> <td>      nan</td>\n",
              "</tr>\n",
              "<tr>\n",
              "  <th>employment_length_4 - 7 yrs</th>           <td>   -0.0124</td> <td>      nan</td> <td>      nan</td> <td>   nan</td> <td>      nan</td> <td>      nan</td>\n",
              "</tr>\n",
              "<tr>\n",
              "  <th>employment_length_> 7 yrs</th>             <td>    0.5649</td> <td>      nan</td> <td>      nan</td> <td>   nan</td> <td>      nan</td> <td>      nan</td>\n",
              "</tr>\n",
              "<tr>\n",
              "  <th>employment_length_unemployed</th>          <td>    0.7103</td> <td>      nan</td> <td>      nan</td> <td>   nan</td> <td>      nan</td> <td>      nan</td>\n",
              "</tr>\n",
              "<tr>\n",
              "  <th>personal_status_divorced male</th>         <td>    1.0690</td> <td> 3.24e+06</td> <td>  3.3e-07</td> <td> 1.000</td> <td>-6.35e+06</td> <td> 6.35e+06</td>\n",
              "</tr>\n",
              "<tr>\n",
              "  <th>personal_status_female</th>                <td>    0.8384</td> <td> 2.53e+06</td> <td> 3.31e-07</td> <td> 1.000</td> <td>-4.97e+06</td> <td> 4.97e+06</td>\n",
              "</tr>\n",
              "<tr>\n",
              "  <th>personal_status_married male</th>          <td>    0.8763</td> <td> 4.16e+06</td> <td> 2.11e-07</td> <td> 1.000</td> <td>-8.16e+06</td> <td> 8.16e+06</td>\n",
              "</tr>\n",
              "<tr>\n",
              "  <th>personal_status_single male</th>           <td>    0.2950</td> <td> 3.61e+06</td> <td> 8.17e-08</td> <td> 1.000</td> <td>-7.08e+06</td> <td> 7.08e+06</td>\n",
              "</tr>\n",
              "<tr>\n",
              "  <th>other_debtors_co-applicant</th>            <td>    1.1447</td> <td> 3.71e+06</td> <td> 3.09e-07</td> <td> 1.000</td> <td>-7.27e+06</td> <td> 7.27e+06</td>\n",
              "</tr>\n",
              "<tr>\n",
              "  <th>other_debtors_guarantor</th>               <td>   -0.3495</td> <td> 3.98e+06</td> <td>-8.79e-08</td> <td> 1.000</td> <td>-7.79e+06</td> <td> 7.79e+06</td>\n",
              "</tr>\n",
              "<tr>\n",
              "  <th>other_debtors_none</th>                    <td>    0.4630</td> <td> 3.89e+06</td> <td> 1.19e-07</td> <td> 1.000</td> <td>-7.62e+06</td> <td> 7.62e+06</td>\n",
              "</tr>\n",
              "<tr>\n",
              "  <th>property_building society savings</th>     <td>    0.0046</td> <td> 5.66e+06</td> <td> 8.07e-10</td> <td> 1.000</td> <td>-1.11e+07</td> <td> 1.11e+07</td>\n",
              "</tr>\n",
              "<tr>\n",
              "  <th>property_other</th>                        <td>   -0.0891</td> <td> 5.66e+06</td> <td>-1.57e-08</td> <td> 1.000</td> <td>-1.11e+07</td> <td> 1.11e+07</td>\n",
              "</tr>\n",
              "<tr>\n",
              "  <th>property_real estate</th>                  <td>   -0.3027</td> <td> 5.35e+06</td> <td>-5.66e-08</td> <td> 1.000</td> <td>-1.05e+07</td> <td> 1.05e+07</td>\n",
              "</tr>\n",
              "<tr>\n",
              "  <th>property_unknown/none</th>                 <td>    0.3325</td> <td> 5.19e+06</td> <td> 6.41e-08</td> <td> 1.000</td> <td>-1.02e+07</td> <td> 1.02e+07</td>\n",
              "</tr>\n",
              "<tr>\n",
              "  <th>installment_plan_bank</th>                 <td>    0.2936</td> <td>      nan</td> <td>      nan</td> <td>   nan</td> <td>      nan</td> <td>      nan</td>\n",
              "</tr>\n",
              "<tr>\n",
              "  <th>installment_plan_none</th>                 <td>   -0.3194</td> <td>      nan</td> <td>      nan</td> <td>   nan</td> <td>      nan</td> <td>      nan</td>\n",
              "</tr>\n",
              "<tr>\n",
              "  <th>installment_plan_stores</th>               <td>    0.1967</td> <td>      nan</td> <td>      nan</td> <td>   nan</td> <td>      nan</td> <td>      nan</td>\n",
              "</tr>\n",
              "<tr>\n",
              "  <th>housing_for free</th>                      <td>   -0.5323</td> <td>      nan</td> <td>      nan</td> <td>   nan</td> <td>      nan</td> <td>      nan</td>\n",
              "</tr>\n",
              "<tr>\n",
              "  <th>housing_own</th>                           <td>   -0.4227</td> <td>      nan</td> <td>      nan</td> <td>   nan</td> <td>      nan</td> <td>      nan</td>\n",
              "</tr>\n",
              "<tr>\n",
              "  <th>housing_rent</th>                          <td>    0.0372</td> <td>      nan</td> <td>      nan</td> <td>   nan</td> <td>      nan</td> <td>      nan</td>\n",
              "</tr>\n",
              "<tr>\n",
              "  <th>telephone_none</th>                        <td>   -0.3777</td> <td> 4.95e+06</td> <td>-7.63e-08</td> <td> 1.000</td> <td>-9.71e+06</td> <td> 9.71e+06</td>\n",
              "</tr>\n",
              "<tr>\n",
              "  <th>telephone_yes</th>                         <td>   -0.8000</td> <td>  5.1e+06</td> <td>-1.57e-07</td> <td> 1.000</td> <td>   -1e+07</td> <td>    1e+07</td>\n",
              "</tr>\n",
              "<tr>\n",
              "  <th>foreign_worker_no</th>                     <td>   -1.2358</td> <td>      nan</td> <td>      nan</td> <td>   nan</td> <td>      nan</td> <td>      nan</td>\n",
              "</tr>\n",
              "<tr>\n",
              "  <th>foreign_worker_yes</th>                    <td>    0.0581</td> <td>      nan</td> <td>      nan</td> <td>   nan</td> <td>      nan</td> <td>      nan</td>\n",
              "</tr>\n",
              "<tr>\n",
              "  <th>job_mangement self-employed</th>           <td>   -0.1260</td> <td>      nan</td> <td>      nan</td> <td>   nan</td> <td>      nan</td> <td>      nan</td>\n",
              "</tr>\n",
              "<tr>\n",
              "  <th>job_skilled employee</th>                  <td>   -0.2005</td> <td>      nan</td> <td>      nan</td> <td>   nan</td> <td>      nan</td> <td>      nan</td>\n",
              "</tr>\n",
              "<tr>\n",
              "  <th>job_unemployed non-resident</th>           <td>   -0.6786</td> <td>      nan</td> <td>      nan</td> <td>   nan</td> <td>      nan</td> <td>      nan</td>\n",
              "</tr>\n",
              "<tr>\n",
              "  <th>job_unskilled resident</th>                <td>   -0.1724</td> <td>      nan</td> <td>      nan</td> <td>   nan</td> <td>      nan</td> <td>      nan</td>\n",
              "</tr>\n",
              "</table>"
            ],
            "text/plain": [
              "<class 'statsmodels.iolib.summary.Summary'>\n",
              "\"\"\"\n",
              "                           Logit Regression Results                           \n",
              "==============================================================================\n",
              "Dep. Variable:                default   No. Observations:                  800\n",
              "Model:                          Logit   Df Residuals:                      751\n",
              "Method:                           MLE   Df Model:                           48\n",
              "Date:                Mon, 23 Nov 2020   Pseudo R-squ.:                  0.2828\n",
              "Time:                        11:38:24   Log-Likelihood:                -351.10\n",
              "converged:                       True   LL-Null:                       -489.54\n",
              "Covariance Type:            nonrobust   LLR p-value:                 6.186e-34\n",
              "=========================================================================================================\n",
              "                                            coef    std err          z      P>|z|      [0.025      0.975]\n",
              "---------------------------------------------------------------------------------------------------------\n",
              "months_loan_duration                      0.0235      0.011      2.134      0.033       0.002       0.045\n",
              "amount                                    0.0002   5.21e-05      3.310      0.001    7.04e-05       0.000\n",
              "installment_rate                          0.4333      0.101      4.298      0.000       0.236       0.631\n",
              "residence_history                         0.0825      0.099      0.834      0.404      -0.111       0.276\n",
              "age                                      -0.0176      0.010     -1.698      0.089      -0.038       0.003\n",
              "existing_credits                          0.2789      0.223      1.248      0.212      -0.159       0.717\n",
              "dependents                                0.3969      0.288      1.377      0.168      -0.168       0.962\n",
              "checking_balance_1 - 200 DM               1.9475        nan        nan        nan         nan         nan\n",
              "checking_balance_< 0 DM                   2.4459        nan        nan        nan         nan         nan\n",
              "checking_balance_> 200 DM                 1.6381        nan        nan        nan         nan         nan\n",
              "checking_balance_unknown                  0.7431        nan        nan        nan         nan         nan\n",
              "credit_history_critical                  -1.0341   9.68e+06  -1.07e-07      1.000    -1.9e+07     1.9e+07\n",
              "credit_history_delayed                   -0.3071   9.63e+06  -3.19e-08      1.000   -1.89e+07    1.89e+07\n",
              "credit_history_fully repaid               0.7177   9.72e+06   7.38e-08      1.000   -1.91e+07    1.91e+07\n",
              "credit_history_fully repaid this bank     0.4653   9.47e+06   4.91e-08      1.000   -1.86e+07    1.86e+07\n",
              "credit_history_repaid                     0.0859   9.34e+06    9.2e-09      1.000   -1.83e+07    1.83e+07\n",
              "purpose_business                         -4.9123        nan        nan        nan         nan         nan\n",
              "purpose_car (new)                        -4.3837        nan        nan        nan         nan         nan\n",
              "purpose_car (used)                       -6.4910        nan        nan        nan         nan         nan\n",
              "purpose_domestic appliances              -4.8229        nan        nan        nan         nan         nan\n",
              "purpose_education                        -4.6316        nan        nan        nan         nan         nan\n",
              "purpose_furniture                        -5.2274        nan        nan        nan         nan         nan\n",
              "purpose_others                           -5.5257        nan        nan        nan         nan         nan\n",
              "purpose_radio/tv                         -5.3843        nan        nan        nan         nan         nan\n",
              "purpose_repairs                          -4.3203        nan        nan        nan         nan         nan\n",
              "purpose_retraining                       -6.2284        nan        nan        nan         nan         nan\n",
              "savings_balance_101 - 500 DM             -0.6316   7.45e+06  -8.48e-08      1.000   -1.46e+07    1.46e+07\n",
              "savings_balance_501 - 1000 DM            -0.4586   7.77e+06   -5.9e-08      1.000   -1.52e+07    1.52e+07\n",
              "savings_balance_< 100 DM                 -0.2670   8.01e+06  -3.34e-08      1.000   -1.57e+07    1.57e+07\n",
              "savings_balance_> 1000 DM                -1.7403   7.81e+06  -2.23e-07      1.000   -1.53e+07    1.53e+07\n",
              "savings_balance_unknown                  -1.1367   7.57e+06   -1.5e-07      1.000   -1.48e+07    1.48e+07\n",
              "employment_length_0 - 1 yrs               0.7809        nan        nan        nan         nan         nan\n",
              "employment_length_1 - 4 yrs               0.7002        nan        nan        nan         nan         nan\n",
              "employment_length_4 - 7 yrs              -0.0124        nan        nan        nan         nan         nan\n",
              "employment_length_> 7 yrs                 0.5649        nan        nan        nan         nan         nan\n",
              "employment_length_unemployed              0.7103        nan        nan        nan         nan         nan\n",
              "personal_status_divorced male             1.0690   3.24e+06    3.3e-07      1.000   -6.35e+06    6.35e+06\n",
              "personal_status_female                    0.8384   2.53e+06   3.31e-07      1.000   -4.97e+06    4.97e+06\n",
              "personal_status_married male              0.8763   4.16e+06   2.11e-07      1.000   -8.16e+06    8.16e+06\n",
              "personal_status_single male               0.2950   3.61e+06   8.17e-08      1.000   -7.08e+06    7.08e+06\n",
              "other_debtors_co-applicant                1.1447   3.71e+06   3.09e-07      1.000   -7.27e+06    7.27e+06\n",
              "other_debtors_guarantor                  -0.3495   3.98e+06  -8.79e-08      1.000   -7.79e+06    7.79e+06\n",
              "other_debtors_none                        0.4630   3.89e+06   1.19e-07      1.000   -7.62e+06    7.62e+06\n",
              "property_building society savings         0.0046   5.66e+06   8.07e-10      1.000   -1.11e+07    1.11e+07\n",
              "property_other                           -0.0891   5.66e+06  -1.57e-08      1.000   -1.11e+07    1.11e+07\n",
              "property_real estate                     -0.3027   5.35e+06  -5.66e-08      1.000   -1.05e+07    1.05e+07\n",
              "property_unknown/none                     0.3325   5.19e+06   6.41e-08      1.000   -1.02e+07    1.02e+07\n",
              "installment_plan_bank                     0.2936        nan        nan        nan         nan         nan\n",
              "installment_plan_none                    -0.3194        nan        nan        nan         nan         nan\n",
              "installment_plan_stores                   0.1967        nan        nan        nan         nan         nan\n",
              "housing_for free                         -0.5323        nan        nan        nan         nan         nan\n",
              "housing_own                              -0.4227        nan        nan        nan         nan         nan\n",
              "housing_rent                              0.0372        nan        nan        nan         nan         nan\n",
              "telephone_none                           -0.3777   4.95e+06  -7.63e-08      1.000   -9.71e+06    9.71e+06\n",
              "telephone_yes                            -0.8000    5.1e+06  -1.57e-07      1.000      -1e+07       1e+07\n",
              "foreign_worker_no                        -1.2358        nan        nan        nan         nan         nan\n",
              "foreign_worker_yes                        0.0581        nan        nan        nan         nan         nan\n",
              "job_mangement self-employed              -0.1260        nan        nan        nan         nan         nan\n",
              "job_skilled employee                     -0.2005        nan        nan        nan         nan         nan\n",
              "job_unemployed non-resident              -0.6786        nan        nan        nan         nan         nan\n",
              "job_unskilled resident                   -0.1724        nan        nan        nan         nan         nan\n",
              "=========================================================================================================\n",
              "\"\"\""
            ]
          },
          "metadata": {
            "tags": []
          },
          "execution_count": 8
        }
      ]
    },
    {
      "cell_type": "markdown",
      "metadata": {
        "id": "GWYem49LU6Fr"
      },
      "source": [
        "Quality of binary classification can be assessed with [ROC AUC score](https://developers.google.com/machine-learning/crash-course/classification/roc-and-auc). Here we calculate it for the training and testing data. "
      ]
    },
    {
      "cell_type": "code",
      "metadata": {
        "id": "eXIywyaqTnGG",
        "colab": {
          "base_uri": "https://localhost:8080/"
        },
        "outputId": "797b22a2-4d33-4153-93c7-096f09470969"
      },
      "source": [
        "from sklearn.metrics import roc_auc_score\n",
        "print('train ROC AUC: ', roc_auc_score(y_train, full_model.predict(X_train)))\n",
        "print('test  ROC AUC: ', roc_auc_score(y_test, full_model.predict(X_test)))"
      ],
      "execution_count": null,
      "outputs": [
        {
          "output_type": "stream",
          "text": [
            "train ROC AUC:  0.8434593487184436\n",
            "test  ROC AUC:  0.7700444764995792\n"
          ],
          "name": "stdout"
        }
      ]
    },
    {
      "cell_type": "markdown",
      "metadata": {
        "id": "JhUIvlglOLhe"
      },
      "source": [
        "For the categorical variables, their encoded values are linearly dependent, so there is no unique way to estimate the coefficients. We could fix this by dropping one category for each categorical variable, but then we still would need some way to test significance of all the other categories simultaneosly.\n",
        "\n",
        "One way to perform such a test is [likelihood ratio test](https://en.wikipedia.org/wiki/Likelihood-ratio_test). It is based on the [Wilk's theorem](https://en.wikipedia.org/wiki/Wilks%27_theorem): if one model is a restricted version of another model, and both have been trained with maximum likelihood method, and in fact the restricted version is the correct one, then the value $2 (LL_1 - LL_0)$ has asymptotic distribution $\\chi^2_k$, where $LL_1$ and $LL_0$ are log-likelihoods of the full and restricted models, and $k$ is the difference between them in degrees of freedom. \n",
        "\n",
        "In our case, the full model is trained above, and the restricted model below lacks coefficients for the `purpose_` variables. If the null hypothesis is true, and the restricted model is correct (which means that stated purpose of loan does not affect the probability of returning it), then the difference between the log likelihoods of two models will be not too large in comparison with typical walues of $\\chi^2_k$ distribution. Here $k$ equals number of excluded predictiors minus 1, because there has already been one linear dependence between these predictors. "
      ]
    },
    {
      "cell_type": "code",
      "metadata": {
        "id": "daoy3nASMeT6",
        "colab": {
          "base_uri": "https://localhost:8080/"
        },
        "outputId": "4c20b2eb-8a39-4e17-dd2f-5315c73dcbe8"
      },
      "source": [
        "excluded_columns = X_train.columns[X_train.columns.str.startswith('purpose_')]\n",
        "print(excluded_columns)\n",
        "change_in_dof = len(excluded_columns) - 1\n",
        "X_train_smaller = X_train.drop(excluded_columns, axis=1)\n",
        "\n",
        "smaller_model = sm.Logit(y_train, X_train_smaller).fit()\n",
        "print(smaller_model.llf) # log likelihood of it"
      ],
      "execution_count": null,
      "outputs": [
        {
          "output_type": "stream",
          "text": [
            "Index(['purpose_business', 'purpose_car (new)', 'purpose_car (used)',\n",
            "       'purpose_domestic appliances', 'purpose_education', 'purpose_furniture',\n",
            "       'purpose_others', 'purpose_radio/tv', 'purpose_repairs',\n",
            "       'purpose_retraining'],\n",
            "      dtype='object')\n",
            "Optimization terminated successfully.\n",
            "         Current function value: 0.460801\n",
            "         Iterations 28\n",
            "-368.64084732411493\n"
          ],
          "name": "stdout"
        }
      ]
    },
    {
      "cell_type": "markdown",
      "metadata": {
        "id": "iJ7fAO9rM0ww"
      },
      "source": [
        "<b>TODO: Perform the likelihood ratio test for the hypothesis that `smaller_model` is the true version of the `full_model`, i.e. that purpose does not affect probability of returning a loan. \n",
        "\n",
        "Use the `llf` property of both models to get their log likelihood. \n",
        "\n",
        "Calculate the $\\chi^2$ p-value for the test and interpret it.\n",
        "</b>\n"
      ]
    },
    {
      "cell_type": "code",
      "metadata": {
        "id": "UFIJ87rhNJi9",
        "colab": {
          "base_uri": "https://localhost:8080/"
        },
        "outputId": "343512b4-30f2-4e0f-a8ba-20c144772b2c"
      },
      "source": [
        "import scipy.stats\n",
        "test_statistic = 2*(full_model.llf-smaller_model.llf)\n",
        "print(test_statistic)\n",
        "p_value =1-scipy.stats.chi2.cdf(test_statistic, change_in_dof)\n",
        "print(p_value)\n",
        "\n",
        "if (p_value < 0.05):\n",
        "  print(\"We reject the hypothesis that smaller_model is the true version of the full_model.\")\n",
        "  print(\"Purpose does affect probability of returning a loan\")\n",
        "else:\n",
        "  print(\"We can not reject the hypothesis that smaller_model is the true version of the full_model.\")\n",
        "  print(\"We cannot reject that purpose does not affect probability of returning a loan\")"
      ],
      "execution_count": null,
      "outputs": [
        {
          "output_type": "stream",
          "text": [
            "35.08752951625627\n",
            "5.7501822564920424e-05\n",
            "We reject the hypothesis that smaller_model is the true version of the full_model.\n",
            "Purpose does affect probability of returning a loan\n"
          ],
          "name": "stdout"
        }
      ]
    },
    {
      "cell_type": "markdown",
      "metadata": {
        "id": "KBcH3r0GNej1"
      },
      "source": [
        "<b>TODO: Apply the same method of likelihood ratio test to the hypothesis that `employment_length` does not affect the probability of returning a loan. \n",
        "</b>\n"
      ]
    },
    {
      "cell_type": "code",
      "metadata": {
        "id": "BMXtR_6ETiP6",
        "colab": {
          "base_uri": "https://localhost:8080/"
        },
        "outputId": "44edd20c-a27f-4295-f25c-3dd291fe8209"
      },
      "source": [
        "excluded_columns = X_train.columns[X_train.columns.str.startswith('employment_')]\n",
        "\n",
        "change_in_dof = len(excluded_columns) - 1\n",
        "X_train_smaller = X_train.drop(excluded_columns, axis=1)\n",
        "smaller_model = sm.Logit(y_train, X_train_smaller).fit()\n",
        "test_statistic = 2*(full_model.llf-smaller_model.llf)\n",
        "print(test_statistic)\n",
        "p_value_emp =1-scipy.stats.chi2.cdf(test_statistic, change_in_dof)\n",
        "print(p_value_emp)\n",
        "\n",
        "if (p_value_emp < 0.05):\n",
        "  print(\"We reject the hypothesis that no_emp_model is the true version of the full_model.\")\n",
        "  print(\"Employment length does affect probability of returning a loan\")\n",
        "else:\n",
        "  print(\"We can not reject the hypothesis that no_emp_model is the true version of the full_model.\")\n",
        "  print(\"We cannot reject that employment length does not affect probability of returning a loan.\")"
      ],
      "execution_count": null,
      "outputs": [
        {
          "output_type": "stream",
          "text": [
            "Optimization terminated successfully.\n",
            "         Current function value: 0.443051\n",
            "         Iterations 19\n",
            "6.687720132726213\n",
            "0.1533401385453692\n",
            "We can not reject the hypothesis that no_emp_model is the true version of the full_model.\n",
            "We cannot reject that employment length does not affect probability of returning a loan.\n"
          ],
          "name": "stdout"
        }
      ]
    },
    {
      "cell_type": "markdown",
      "metadata": {
        "id": "l4Ls3Ni4bjcF"
      },
      "source": [
        "If one cannot reject the hypothesis that a variable does not affect the target, it seems reasonable to exclude the variable from the model and hope that the model performance does not fall much. This logic can be used to simplify the model by excluding the not-so-useful factors from it, and it is one of popular methods of feature selection. "
      ]
    },
    {
      "cell_type": "markdown",
      "metadata": {
        "id": "ed-FOBxmbyVx"
      },
      "source": [
        "<b>Todo: Train a model without all factors for which you accept the hypothesis that they don't affect the outcome:\n",
        "- create a list of factors that you intend to exclude\n",
        "- create new versions of `X_train` and `X_test` without these factors\n",
        "- train the simplified model on `X_train`\n",
        "- evaluate performance of the model with ROC AUC on the train and test sets and compare it with the performance of the whole model. Comment on it. \n",
        " </b>"
      ]
    },
    {
      "cell_type": "code",
      "metadata": {
        "id": "Dq6_Ss0_d7rh",
        "colab": {
          "base_uri": "https://localhost:8080/"
        },
        "outputId": "a7e9a4d4-396a-41e7-910b-bb6652519a68"
      },
      "source": [
        "# Prepare the list of factors we intend to exclude\n",
        "# Check the categorial variables in the same way we tested purpose and employment length\n",
        "# Remove numerical factors with high pvalues\n",
        "\n",
        "excluded_cols_pref =[]\n",
        "excluded_pref= ['checking_','credit_','savings_','housing_', 'foreign_','job_','property_','installment_plan', 'telephone_','other_','personal_']\n",
        "\n",
        "for prefix in excluded_pref:\n",
        "  excluded_columns = X_train.columns[X_train.columns.str.startswith(prefix)]\n",
        "  \n",
        "  change_in_dof = len(excluded_columns) - 1\n",
        "  X_train_smaller = X_train.drop(excluded_columns, axis=1)\n",
        "  smaller_model = sm.Logit(y_train, X_train_smaller).fit(maxiter=1000,disp=0)\n",
        "  test_statistic = 2*(full_model.llf-smaller_model.llf)\n",
        " \n",
        "  p_value =1-scipy.stats.chi2.cdf(test_statistic, change_in_dof)\n",
        "    \n",
        "  if (p_value>0.05):\n",
        "      excluded_cols_pref.append(prefix)\n",
        "\n",
        "excluded_cols_pref = excluded_cols_pref + ['employment_']\n",
        "ex_cat_num =len(excluded_cols_pref)\n",
        "excluded_cols_pref= excluded_cols_pref + ['age', 'existing_','residence_','dependents']#['employment_','housing_','job_','property_', 'telephone_','other_','personal_']\n",
        "\n",
        "excluded_columns_lst = [X_train.columns[X_train.columns.str.startswith(pref) ]for pref in excluded_cols_pref]\n",
        "\n",
        "excluded_columns=np.hstack(excluded_columns_lst)\n",
        "change_in_dof = len(excluded_columns) - ex_cat_num\n",
        "\n",
        "print(\"Factors that we intend to exclude:\")\n",
        "print(excluded_columns)"
      ],
      "execution_count": null,
      "outputs": [
        {
          "output_type": "stream",
          "text": [
            "Factors that we intend to exclude:\n",
            "['housing_for free' 'housing_own' 'housing_rent'\n",
            " 'job_mangement self-employed' 'job_skilled employee'\n",
            " 'job_unemployed non-resident' 'job_unskilled resident'\n",
            " 'property_building society savings' 'property_other'\n",
            " 'property_real estate' 'property_unknown/none' 'installment_plan_bank'\n",
            " 'installment_plan_none' 'installment_plan_stores' 'telephone_none'\n",
            " 'telephone_yes' 'other_debtors_co-applicant' 'other_debtors_guarantor'\n",
            " 'other_debtors_none' 'personal_status_divorced male'\n",
            " 'personal_status_female' 'personal_status_married male'\n",
            " 'personal_status_single male' 'employment_length_0 - 1 yrs'\n",
            " 'employment_length_1 - 4 yrs' 'employment_length_4 - 7 yrs'\n",
            " 'employment_length_> 7 yrs' 'employment_length_unemployed' 'age'\n",
            " 'existing_credits' 'residence_history' 'dependents']\n"
          ],
          "name": "stdout"
        }
      ]
    },
    {
      "cell_type": "code",
      "metadata": {
        "id": "3c3T8yUAeEJw",
        "colab": {
          "base_uri": "https://localhost:8080/"
        },
        "outputId": "7871fee6-acd0-4ad8-e965-cd2eb9db970d"
      },
      "source": [
        "# create new versions of X_train and X_test without these factors\n",
        "# train the simplified model on X_train\n",
        "\n",
        "X_train_smaller = X_train.drop(excluded_columns, axis=1)\n",
        " \n",
        "smaller_model = sm.Logit(y_train, X_train_smaller).fit(maxiter=1000)\n",
        "\n",
        "print(\"Checking the hypothesis that the restricted model is the same as the full one:\")\n",
        "test_statistic = 2*(full_model.llf-smaller_model.llf)\n",
        "print('test statistic: ', test_statistic)\n",
        "p_value =1-scipy.stats.chi2.cdf(test_statistic, change_in_dof)\n",
        "print('p value: ', p_value)\n"
      ],
      "execution_count": null,
      "outputs": [
        {
          "output_type": "stream",
          "text": [
            "Optimization terminated successfully.\n",
            "         Current function value: 0.467384\n",
            "         Iterations 7\n",
            "Checking the hypothesis that the restricted model is the same as the full one:\n",
            "test statistic:  45.619532392054\n",
            "p value:  0.004916843423657169\n"
          ],
          "name": "stdout"
        }
      ]
    },
    {
      "cell_type": "code",
      "metadata": {
        "colab": {
          "base_uri": "https://localhost:8080/"
        },
        "id": "OAVwQVbKArWx",
        "outputId": "38efc663-9f0d-41ea-bb8c-00ab0cab1d1c"
      },
      "source": [
        "from sklearn.metrics import roc_auc_score\n",
        "X_test_small=  X_test.drop(excluded_columns, axis=1)\n",
        "print('small model train ROC AUC: ', roc_auc_score(y_train, smaller_model.predict(X_train_smaller)))\n",
        "print('small model test  ROC AUC: ', roc_auc_score(y_test, smaller_model.predict(X_test_small)))\n",
        "\n",
        "print('full model train ROC AUC: ', roc_auc_score(y_train, full_model.predict(X_train)))\n",
        "print('full model test  ROC AUC: ', roc_auc_score(y_test, full_model.predict(X_test)))\n",
        "print('smaller train ROC AUC / full train ROC AUC: ',roc_auc_score(y_train, smaller_model.predict(X_train_smaller))/roc_auc_score(y_train, full_model.predict(X_train)))\n",
        "print('smaller test ROC AUC / full test ROC AUC: ',roc_auc_score(y_test, smaller_model.predict(X_test_small))/roc_auc_score(y_test, full_model.predict(X_test)))"
      ],
      "execution_count": null,
      "outputs": [
        {
          "output_type": "stream",
          "text": [
            "small model train ROC AUC:  0.8164549915008277\n",
            "small model test  ROC AUC:  0.7440798172857315\n",
            "full model train ROC AUC:  0.8434593487184436\n",
            "full model test  ROC AUC:  0.7700444764995792\n",
            "smaller train ROC AUC / full train ROC AUC:  0.9679838070931972\n",
            "smaller test ROC AUC / full test ROC AUC:  0.9662816109896973\n"
          ],
          "name": "stdout"
        }
      ]
    },
    {
      "cell_type": "markdown",
      "metadata": {
        "id": "i1Md1aBMW9cp"
      },
      "source": [
        "We see that removing the factors reduced the model performance by ~3.5%.\n",
        "\n",
        "Also, the p value incicated that at least some of the factors we removed may do affect the target variable in some way.\n",
        "\n",
        "In an ideal world we would not compare each factor to the full model seprately. But when we find we can remove a factor we will remove it from the model and the next factors removals will be compared to the model version without the factors we have already removed.\n",
        "\n",
        "For now, we will try to reduce less factors (22 instead of 29 as before) and see if we get better results:"
      ]
    },
    {
      "cell_type": "code",
      "metadata": {
        "colab": {
          "base_uri": "https://localhost:8080/"
        },
        "id": "FIaMpNTqAoPH",
        "outputId": "a869f37b-e9ee-40a4-f839-e4fab708d1df"
      },
      "source": [
        "# Prepare the list of factors we intend to exclude\n",
        "\n",
        "excluded_pref= ['housing_', 'job_','property_','telephone_','employment_']\n",
        "ex_cat_num =len(excluded_cols_pref)\n",
        "excluded_cols_pref= excluded_pref + ['age', 'existing_','residence_','dependents']\n",
        "\n",
        "excluded_columns_lst = [X_train.columns[X_train.columns.str.startswith(pref) ]for pref in excluded_cols_pref]\n",
        "\n",
        "excluded_columns=np.hstack(excluded_columns_lst)\n",
        "change_in_dof = len(excluded_columns) - ex_cat_num\n",
        "\n",
        "print(\"Factors that we intend to exclude:\")\n",
        "print(excluded_columns)"
      ],
      "execution_count": null,
      "outputs": [
        {
          "output_type": "stream",
          "text": [
            "Factors that we intend to exclude:\n",
            "['housing_for free' 'housing_own' 'housing_rent'\n",
            " 'job_mangement self-employed' 'job_skilled employee'\n",
            " 'job_unemployed non-resident' 'job_unskilled resident'\n",
            " 'property_building society savings' 'property_other'\n",
            " 'property_real estate' 'property_unknown/none' 'telephone_none'\n",
            " 'telephone_yes' 'employment_length_0 - 1 yrs'\n",
            " 'employment_length_1 - 4 yrs' 'employment_length_4 - 7 yrs'\n",
            " 'employment_length_> 7 yrs' 'employment_length_unemployed' 'age'\n",
            " 'existing_credits' 'residence_history' 'dependents']\n"
          ],
          "name": "stdout"
        }
      ]
    },
    {
      "cell_type": "code",
      "metadata": {
        "colab": {
          "base_uri": "https://localhost:8080/"
        },
        "id": "pnsHlD1gDPVg",
        "outputId": "3441cc95-60fa-4a57-99d1-2a1d3ba8ff6f"
      },
      "source": [
        "# create new versions of X_train and X_test without these factors\n",
        "# train the simplified model on X_train\n",
        "\n",
        "X_train_smaller = X_train.drop(excluded_columns, axis=1)\n",
        " \n",
        "smaller_model = sm.Logit(y_train, X_train_smaller).fit(maxiter=1000)\n",
        "\n",
        "print(\"Checking the hypothesis that the restricted model is the same as the full one:\")\n",
        "test_statistic = 2*(full_model.llf-smaller_model.llf)\n",
        "print('test statistic: ', test_statistic)\n",
        "p_value =1-scipy.stats.chi2.cdf(test_statistic, change_in_dof)\n",
        "print('p value: ', p_value)"
      ],
      "execution_count": null,
      "outputs": [
        {
          "output_type": "stream",
          "text": [
            "Optimization terminated successfully.\n",
            "         Current function value: 0.454344\n",
            "         Iterations 42\n",
            "Checking the hypothesis that the restricted model is the same as the full one:\n",
            "test statistic:  24.755446329823258\n",
            "p value:  0.0003789461602741184\n"
          ],
          "name": "stdout"
        }
      ]
    },
    {
      "cell_type": "code",
      "metadata": {
        "colab": {
          "base_uri": "https://localhost:8080/"
        },
        "id": "uRTxZ_QsDZNH",
        "outputId": "8a4225d0-c363-484f-c7c8-40ba335a92f9"
      },
      "source": [
        "from sklearn.metrics import roc_auc_score\n",
        "X_test_small=  X_test.drop(excluded_columns, axis=1)\n",
        "print('small model train ROC AUC: ', roc_auc_score(y_train, smaller_model.predict(X_train_smaller)))\n",
        "print('small model test  ROC AUC: ', roc_auc_score(y_test, smaller_model.predict(X_test_small)))\n",
        "\n",
        "print('full model train ROC AUC: ', roc_auc_score(y_train, full_model.predict(X_train)))\n",
        "print('full model test  ROC AUC: ', roc_auc_score(y_test, full_model.predict(X_test)))\n",
        "print('smaller train ROC AUC / full train ROC AUC: ',roc_auc_score(y_train, smaller_model.predict(X_train_smaller))/roc_auc_score(y_train, full_model.predict(X_train)))\n",
        "print('smaller test ROC AUC / full test ROC AUC: ',roc_auc_score(y_test, smaller_model.predict(X_test_small))/roc_auc_score(y_test, full_model.predict(X_test)))"
      ],
      "execution_count": null,
      "outputs": [
        {
          "output_type": "stream",
          "text": [
            "small model train ROC AUC:  0.830261507285535\n",
            "small model test  ROC AUC:  0.7776175021036182\n",
            "full model train ROC AUC:  0.8434593487184436\n",
            "full model test  ROC AUC:  0.7700444764995792\n",
            "smaller train ROC AUC / full train ROC AUC:  0.98435272375253\n",
            "smaller test ROC AUC / full test ROC AUC:  1.0098345301280052\n"
          ],
          "name": "stdout"
        }
      ]
    },
    {
      "cell_type": "markdown",
      "metadata": {
        "id": "lVvBun_bDll_"
      },
      "source": [
        "In this version of reduced model the p value indicates that it is the same as the full one.\n",
        "\n",
        "We also see that the decrease of ROC AUC train is smaller than before, and for ROC AUC we might even spot a minor improvement from the full model performance."
      ]
    }
  ]
}

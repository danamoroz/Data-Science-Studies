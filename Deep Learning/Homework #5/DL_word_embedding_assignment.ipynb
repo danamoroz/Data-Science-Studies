{
  "nbformat": 4,
  "nbformat_minor": 0,
  "metadata": {
    "kernelspec": {
      "display_name": "Python 3",
      "language": "python",
      "name": "python3"
    },
    "language_info": {
      "codemirror_mode": {
        "name": "ipython",
        "version": 3
      },
      "file_extension": ".py",
      "mimetype": "text/x-python",
      "name": "python",
      "nbconvert_exporter": "python",
      "pygments_lexer": "ipython3",
      "version": "3.7.0"
    },
    "colab": {
      "name": "DL_word_embedding_assignment_ED.ipynb",
      "provenance": [],
      "collapsed_sections": []
    },
    "accelerator": "GPU"
  },
  "cells": [
    {
      "cell_type": "markdown",
      "metadata": {
        "id": "ZpSwf1-heKnt"
      },
      "source": [
        "Dana Rozenblum & Efrat Magidov\n",
        "# Word Embedding - Home Assigment\n",
        "## Dr. Omri Allouche 2021. YData Deep Learning Course\n",
        "\n",
        "[Open in Google Colab](https://colab.research.google.com/github/omriallouche/ydata_deep_learning_2021/blob/master/assignments/word_vectors_text_classification/DL_word_embedding_assignment.ipynb)\n",
        "\n",
        "    \n",
        "In this exercise, you'll use word vectors trained on a corpus of lyrics of songs from MetroLyrics ([http://github.com/omriallouche/ydata_deep_learning_2021/blob/master/data/metrolyrics.parquet](/data/metrolyrics.parquet)).\n",
        "The dataset contains these fields for each song, in CSV format:\n",
        "1. index\n",
        "1. song\n",
        "1. year\n",
        "1. artist\n",
        "1. genre\n",
        "1. lyrics\n",
        "\n",
        "Before doing this exercise, we recommend that you go over the \"Bag of words meets bag of popcorn\" tutorial (https://www.kaggle.com/c/word2vec-nlp-tutorial)\n",
        "\n",
        "Other recommended resources:\n",
        "- https://rare-technologies.com/word2vec-tutorial/\n",
        "- https://www.kaggle.com/pierremegret/gensim-word2vec-tutorial"
      ]
    },
    {
      "cell_type": "markdown",
      "metadata": {
        "id": "3K0_HzSQeKn0"
      },
      "source": [
        "### Train word vectors\n",
        "Train word vectors using the Skipgram Word2vec algorithm and the gensim package.\n",
        "Make sure you perform the following:\n",
        "- Tokenize words\n",
        "- Lowercase all words\n",
        "- Remove punctuation marks\n",
        "- Remove rare words\n",
        "- Remove stopwords\n",
        "\n",
        "Use 300 as the dimension of the word vectors. Try different context sizes."
      ]
    },
    {
      "cell_type": "code",
      "metadata": {
        "colab": {
          "base_uri": "https://localhost:8080/"
        },
        "id": "gNW9zlTlDZVI",
        "outputId": "22768319-0368-46fa-ffa8-50dd4a412fbd"
      },
      "source": [
        "import pandas as pd\n",
        "import nltk\n",
        "nltk.download('stopwords')\n",
        "import re\n",
        "from gensim.models import word2vec\n",
        "from sklearn.cluster import KMeans\n",
        "import numpy as np"
      ],
      "execution_count": 6,
      "outputs": [
        {
          "output_type": "stream",
          "text": [
            "[nltk_data] Downloading package stopwords to /root/nltk_data...\n",
            "[nltk_data]   Unzipping corpora/stopwords.zip.\n"
          ],
          "name": "stdout"
        }
      ]
    },
    {
      "cell_type": "code",
      "metadata": {
        "id": "FP0R_GSLLsxc"
      },
      "source": [
        "# for cleaning text, removing stop words, and applying lemmatization and stemming\n",
        "\n",
        "'''\n",
        "Preprocess a string.\n",
        ":parameter\n",
        "    :param text: string - name of column containing text\n",
        "    :param lst_stopwords: list - list of stopwords to remove\n",
        "    :param flg_stemm: bool - whether stemming is to be applied\n",
        "    :param flg_lemm: bool - whether lemmitisation is to be applied\n",
        ":return\n",
        "    cleaned text\n",
        "'''\n",
        "def utils_preprocess_text(text, flg_stemm=False, flg_lemm=False, lst_stopwords=None):\n",
        "    ## clean (convert to lowercase and remove punctuations and characters and then strip)\n",
        "    text = re.sub(r'([^a-zA-Z0-9])', ' ', str(text).lower().strip())\n",
        "            \n",
        "    ## Tokenize (convert from string to list)\n",
        "    lst_text = text.split()\n",
        "    ## remove Stopwords\n",
        "    if lst_stopwords is not None:\n",
        "        lst_text = [word for word in lst_text if word not in \n",
        "                    lst_stopwords]\n",
        "                \n",
        "    ## Stemming (remove -ing, -ly, ...)\n",
        "    if flg_stemm == True:\n",
        "        ps = nltk.stem.porter.PorterStemmer()\n",
        "        lst_text = [ps.stem(word) for word in lst_text]\n",
        "                \n",
        "    ## Lemmatisation (convert the word into root word)\n",
        "    if flg_lemm == True:\n",
        "        lem = nltk.stem.wordnet.WordNetLemmatizer()\n",
        "        lst_text = [lem.lemmatize(word) for word in lst_text]\n",
        "            \n",
        "    ## back to string from list\n",
        "    text = \" \".join(lst_text)\n",
        "    return text"
      ],
      "execution_count": 9,
      "outputs": []
    },
    {
      "cell_type": "code",
      "metadata": {
        "id": "o1wa1HYOK3jt"
      },
      "source": [
        "# load file\n",
        "songs = pd.read_parquet(\"https://raw.githubusercontent.com/omriallouche/ydata_deep_learning_2021/master/data/metrolyrics.parquet\")\n",
        "\n",
        "# create a list of generic stop words for the English vocabulary \n",
        "lst_stopwords = nltk.corpus.stopwords.words(\"english\")\n",
        "\n",
        "# clean lyrics\n",
        "songs[\"clean_lyrics\"] = (songs[\"lyrics\"]).apply(lambda x: \n",
        "          utils_preprocess_text(x, flg_stemm=False, flg_lemm=False, \n",
        "          lst_stopwords=lst_stopwords))\n",
        "\n",
        "# create list of lists of unigrams\n",
        "corpus = songs[\"clean_lyrics\"]\n",
        "lst_corpus = []\n",
        "for string in corpus:\n",
        "    lst_words = string.split()\n",
        "    lst_grams = [\" \".join(lst_words[i:i+1]) for i in range(0, len(lst_words), 1)]\n",
        "    lst_corpus.append(lst_grams)\n",
        "\n",
        "# Set parameters values\n",
        "num_features = 300    # Word vector dimensionality                      \n",
        "min_word_count = 10   # Minimum word count                        "
      ],
      "execution_count": 10,
      "outputs": []
    },
    {
      "cell_type": "code",
      "metadata": {
        "id": "iAXY9cSKEnbb"
      },
      "source": [
        "# Train a model with context size of 5\n",
        "\n",
        "context = 5          # Context window size\n",
        "\n",
        "# Initialize and train the model (this will take some time)\n",
        "model_5 = word2vec.Word2Vec(lst_corpus, size=num_features, min_count = min_word_count, \\\n",
        "            window = context)"
      ],
      "execution_count": 11,
      "outputs": []
    },
    {
      "cell_type": "markdown",
      "metadata": {
        "id": "8E96ZzuuZbyo"
      },
      "source": [
        "This cell takes about 40 minutes run time, you may skip running it and look at the results we got in the saved notebook. In case you want to run it uncomment it."
      ]
    },
    {
      "cell_type": "code",
      "metadata": {
        "id": "03m_YmfVRYmb",
        "colab": {
          "base_uri": "https://localhost:8080/"
        },
        "outputId": "32323e70-7f51-4205-e112-f308bc160963"
      },
      "source": [
        "\"\"\"\n",
        "# evaluate the model by applying k-means on the word vectors\n",
        "\n",
        "word_vectors = model_5.wv.vectors\n",
        "num_clusters = 2000\n",
        "\n",
        "# Initalize a k-means object and use it to extract centroids\n",
        "kmeans_clustering = KMeans( n_clusters = num_clusters )\n",
        "idx = kmeans_clustering.fit_predict( word_vectors )\n",
        "\n",
        "# For the first 10 clusters\n",
        "for cluster in range(0,10):\n",
        "    print (\"\\nCluster %d\" % cluster)\n",
        "    print (np.array(model_5.wv.index2word)[idx == cluster])\n",
        "\"\"\""
      ],
      "execution_count": 17,
      "outputs": [
        {
          "output_type": "stream",
          "text": [
            "\n",
            "Cluster 0\n",
            "['kin' 'kelly' 'capital' 'ing' 'cking' 'tch' 'rated' 'ckin']\n",
            "\n",
            "Cluster 1\n",
            "['hesitation' 'reckon' 'planning' ... 'desiree' 'jackdaw' 'fbula']\n",
            "\n",
            "Cluster 2\n",
            "['rotten' 'parts' 'scar' 'crushed' 'dread' 'web' 'beaten' 'womb'\n",
            " 'swallowed' 'bled' 'carved' 'choking' 'stripped' 'shatter' 'scarred'\n",
            " 'venom' 'pulse' 'eaten' 'chained' 'crushing' 'bruised' 'carve' 'claws'\n",
            " 'shield' 'bleeds' 'thorn' 'drained' 'severed' 'organs' 'maggots'\n",
            " 'fragments' 'removed' 'debris' 'drenched' 'shreds']\n",
            "\n",
            "Cluster 3\n",
            "['firm' 'group' 'gutter' 'proper' 'peoples' 'rugged' 'mans' 'karma'\n",
            " 'worldwide' 'strictly' 'definitely' 'hottest' 'bruh' 'fakin' 'homeboys'\n",
            " 'motto' 'member' 'petty' 'celebrity' 'rhymin' 'juvenile' 'overseas'\n",
            " 'freestyle' 'loc' 'illegal' 'prolly' 'buildin' 'switched' 'stealin'\n",
            " 'payback' 'mtv' 'motherfucka' 'realer' 'certified' 'snitches' 'groupies'\n",
            " 'jason' 'motherfuck' 'direct' 'crook' 'jigga' 'flint' 'turf' 'lames'\n",
            " 'bendin' 'sicker' 'claimin' 'partners' 'crip' 'posed' 'blazed' 'cuff'\n",
            " 'witcha' 'trife' 'equipped' 'wannabe' 'clout' 'faggots' 'chump' 'starvin'\n",
            " 'jd' 'bloods' 'schemin' 'gassed' 'pimping' 'jokin' 'kobe' 'basketball'\n",
            " 'bosses' 'makaveli' 'hollerin' 'strugglin' 'dissin' 'obama' 'thugged'\n",
            " 'dawgs' 'tatted' 'federal' 'chumps' 'trickin' 'braggin' 'mobb' 'crips'\n",
            " 'snatchin' 'beefin' 'thorough' 'jacking' 'grimy' 'busters' 'dumpin' 'bot'\n",
            " 'brothas' 'corny' 'shorties' 'mothafuckas' 'pros' 'probation' 'mackin'\n",
            " 'pitchin' 'dats' 'sup' 'fullest' 'rookie' 'anotha' 'foo' 'steez' 'felony'\n",
            " 'finesse' 'gunnin' 'hustlas' 'asap' 'shoutout' 'youse' 'snitchin'\n",
            " 'scrilla' 'sprayin' 'muggin' 'ryde' 'wesson' 'dayton' 'slum' 'choosin'\n",
            " 'geah' 'fuckas' 'trappin' 'alotta' 'ryder' 'kuniva' 'youngin' 'jeezy'\n",
            " 'killaz' 'realist' 'testin' 'fetti' 'bigga' 'meetin' 'handlin' 'shyne'\n",
            " 'bluffin' 'skrilla' 'macks' 'starr' 'smackin' 'mvp' 'muthaphukkin' 'kkk'\n",
            " 'figga' 'califa']\n",
            "\n",
            "Cluster 4\n",
            "['shabba' 'panda' 'jumpman']\n",
            "\n",
            "Cluster 5\n",
            "['starting' 'sudden' 'center' 'blink' 'mars' 'dynamite' 'exit' 'tunnel'\n",
            " 'spotlight' 'sparks' 'satellite' 'sights' 'atmosphere' 'hypnotized'\n",
            " 'temperature' 'venus' 'headlights' 'outer' 'daze' 'trance' 'signal'\n",
            " 'lighting' 'peak' 'galaxy' 'planets' 'risin' 'solar' 'hazy' 'skyline'\n",
            " 'fireworks' 'daytime' 'bolt' 'flicker' 'satellites' 'airplanes' 'flashes'\n",
            " 'alight' 'aglow' 'align']\n",
            "\n",
            "Cluster 6\n",
            "['mal' 'hab' 'kann' 'wei' 'oder' 'bei' 'bis' 'nacht' 'aber' 'vor' 'weg'\n",
            " 'welt' 'dass' 'viel' 'macht' 'zum' 'durch' 'gibt' 'ganz' 'keine' 'euch'\n",
            " 'sch' 'einen' 'tr']\n",
            "\n",
            "Cluster 7\n",
            "['crooked' 'askin' 'blah' 'neighbors' 'yell' 'prayin' 'focused' 'tho'\n",
            " 'speakin' 'yelling' 'listenin' 'beggin' 'hearin' 'stressin' 'stutter'\n",
            " 'peepin']\n",
            "\n",
            "Cluster 8\n",
            "['tempo' 'fare' 'gi' 'tra' 'sto' 'via' 'pu' 'alla' 'sta' 'bella' 'ora'\n",
            " 'donna' 'tuo' 'mare' 'voglio' 'cuore' 'prima' 'bene' 'dal' 'niente' 'lei'\n",
            " 'adesso' 'dei' 'quello' 'fino' 'tua' 'vuoi' 'tutti' 'vorrei' 'notte'\n",
            " 'della' 'insieme' 'puoi' 'giorno' 'volta' 'forse' 'vivere' 'mentre']\n",
            "\n",
            "Cluster 9\n",
            "['hay' 'tan' 'ms' 'sol' 'ese' 'vamos' 'luna' 'mira' 'gusta' 'aqui'\n",
            " 'verdad' 'tienes' 'asi' 'fuego' 'paso' 'mucho' 'ana' 'quiere' 'duro'\n",
            " 'desde' 'manos' 'yankee' 'nena' 'fuera' 'tierra' 'coro' 'veces' 'loca'\n",
            " 'vuelve' 'calle' 'mientras' 'baila' 'bailando' 'bailar' 'mueve' 'sigue'\n",
            " 'llora']\n"
          ],
          "name": "stdout"
        }
      ]
    },
    {
      "cell_type": "code",
      "metadata": {
        "id": "MZySIB11RQMR"
      },
      "source": [
        "# Train a model with context size of 7\n",
        "\n",
        "context = 7          # Context window size\n",
        "\n",
        "# Initialize and train the model (this will take some time)\n",
        "model_7 = word2vec.Word2Vec(lst_corpus, size=num_features, min_count = min_word_count, \\\n",
        "            window = context)"
      ],
      "execution_count": null,
      "outputs": []
    },
    {
      "cell_type": "markdown",
      "metadata": {
        "id": "BcSUqONAaulA"
      },
      "source": [
        "This cell takes about 90 minutes run time, you may skip running it and look at the results we got in the saved notebook. In case you want to run it uncomment it."
      ]
    },
    {
      "cell_type": "code",
      "metadata": {
        "id": "qraKk73YAYjD",
        "colab": {
          "base_uri": "https://localhost:8080/"
        },
        "outputId": "478c35fe-d3f3-4421-cff4-d66ad1c5fd64"
      },
      "source": [
        "\"\"\"\n",
        "# evaluate the model by applying k-means on the word vectors\n",
        "\n",
        "word_vectors = model_7.wv.vectors\n",
        "num_clusters = 2000\n",
        "\n",
        "# Initalize a k-means object and use it to extract centroids\n",
        "kmeans_clustering = KMeans( n_clusters = num_clusters )\n",
        "idx = kmeans_clustering.fit_predict( word_vectors )\n",
        "\n",
        "# For the first 10 clusters\n",
        "for cluster in range(0,10):\n",
        "    print (\"\\nCluster %d\" % cluster)\n",
        "    print (np.array(model_7.wv.index2word)[idx == cluster])\n",
        "\"\"\""
      ],
      "execution_count": null,
      "outputs": [
        {
          "output_type": "stream",
          "text": [
            "\n",
            "Cluster 0\n",
            "['moan' 'bees' 'humming' 'whine' 'theme' 'playground' 'shouting' 'musical'\n",
            " 'sounding' 'warmer' 'moaning' 'cheers' 'stations' 'reads' 'poem' 'chime'\n",
            " 'siren' 'lamp' 'mount' 'melodies' 'chilly' 'swings' 'valentine' 'organ'\n",
            " 'poems' 'zion' 'chords' 'tuned' 'aloud' 'glistening' 'buzzing' 'irish'\n",
            " 'rendezvous' 'hummin' 'violin' 'barking' 'doves' 'glisten' 'tones'\n",
            " 'tossing' 'trumpet' 'january' 'timber' 'caffeine' 'chord' 'cyclone'\n",
            " 'caribbean' 'february' 'moans' 'harp' 'trumpets' 'sidewalks' 'whistling'\n",
            " 'soundtrack' 'serenade' 'wailing' 'strolling' 'prairie' 'bluebirds'\n",
            " 'howlin' 'rung' 'leaned' 'nursery' 'noises' 'cathedral' 'wraps' 'nile'\n",
            " 'glee' 'loudly' 'gabriel' 'hymn' 'brook' 'sandman' 'breezes' 'wills'\n",
            " 'rooftops' 'whistles' 'gliding' 'romancing' 'smoky' 'cheering' 'bough'\n",
            " 'cricket' 'drone' 'dreamy' 'marrakesh' 'blackbird' 'jericho' 'marionette'\n",
            " 'lullabies' 'acoustic' 'saloon' 'carol' 'orchestra' 'sighing' 'chimes'\n",
            " 'lilac' 'nightingale' 'aisles' 'coyote' 'snowing' 'wildflowers' 'geese'\n",
            " 'hummingbird' 'jingling' 'lark' 'violins' 'duet' 'crickets' 'caroling'\n",
            " 'rockies' 'tingling' 'anthems' 'whippoorwill' 'blaring' 'karaoke' 'strum'\n",
            " 'mandolin' 'jangle' 'clippety' 'treetops' 'bugle' 'fireside' 'calms'\n",
            " 'surfer' 'strumming' 'roundup' 'trestle' 'fife' 'songbird' 'muffled'\n",
            " 'hums' 'bards' 'roddy' 'longroad' 'strummin' 'gaily' 'fiddles' 'matton']\n",
            "\n",
            "Cluster 1\n",
            "['warn' 'loyal' 'karma' 'fabulous' 'buildin' 'meanwhile' 'untouchable'\n",
            " 'retire' 'claiming' 'estate' 'overdue' 'maniac' 'options' 'mayor'\n",
            " 'drastic' 'wrecked' 'lavish' 'pope' 'learnin' 'boast' 'invented'\n",
            " 'plotting' 'thugz' 'basics' 'campaign' 'iraq' 'findin' 'blessin'\n",
            " 'richest' 'robbing' 'amazin' 'reverend' 'brothas' 'freddy' 'aiming'\n",
            " 'cormega' 'shorties' 'bugging' 'heavily' 'krazy' 'fullest' 'anotha'\n",
            " 'provoke' 'active' 'gimmick' 'steez' 'riff' 'finesse' 'literally'\n",
            " 'flyest' 'gunnin' 'dap' 'getter' 'clair' 'crackers' 'underdog' 'pigeon'\n",
            " 'meanin' 'teams' 'codes' 'scrilla' 'ryde' 'bubblin' 'wut' 'snooze'\n",
            " 'representing' 'pusha' 'prodigy' 'slum' 'signing' 'homo' 'fuckas'\n",
            " 'alotta' 'ish' 'ruckus' 'bishop' 'hollering' 'fucken' 'parlay' 'comp'\n",
            " 'assholes' 'fbi' 'trues' 'hov' 'retaliate' 'dayz' 'income' 'dmc' 'mj'\n",
            " 'nig' 'info' 'youngin' 'realness' 'tradin' 'dusted' 'uncut' 'elementary'\n",
            " 'capo' 'murk' 'snitching' 'teachin' 'ducking' 'counterfeit' 'jeezy'\n",
            " 'redrum' 'educated' 'coughing' 'locc' 'bragging' 'debate' 'stalkin'\n",
            " 'camouflage' 'realist' 'militant' 'bigga' 'spinach' 'meetin'\n",
            " 'heavyweight' 'mixtapes' 'rally' 'gangs' 'millionaires' 'repping'\n",
            " 'bucked' 'officially' 'gorillas' 'addicts' 'pedigree' 'bugged' 'handlin'\n",
            " 'shyne' 'makers' 'bluffin' 'fakers' 'faker' 'merk' 'facebook' 'cypher'\n",
            " 'checkmate' 'crossin' 'sickest' 'monopoly' 'macks' 'cass' '150'\n",
            " 'automatics' 'comeback' 'robbers' 'heats' 'spaz' 'twat' 'alls'\n",
            " 'reminiscin' 'interviews' 'realistic' 'accidentally' 'tappin' 'benjamins'\n",
            " 'confusin' 'wif' 'jadakiss' 'barkin' 'blac' 'otha' 'delinquent' 'boxed'\n",
            " 'shitting' 'provin' 'zef' 'kamikaze' 'restin' 'mapped' 'stamina'\n",
            " 'coolest' 'starr' 'numba' 'smackin' 'brung' 'pj' 'conversate' 'choclair'\n",
            " 'graduate' 'witty' 'shakedown' 'mvp' 'gunning' 'organize' 'felon' 'befo'\n",
            " 'bogus' 'email' 'motivated' 'maneuver' 'snuffed' 'bs' 'phoney' 'gimmicks'\n",
            " 'spectacular' 'clapped' 'slingin' 'murderin' 'soccer' 'battlin' 'damnit'\n",
            " 'thugsta' 'squash' 'guessin' 'yeen' 'muthaphukkin' 'sposed' 'reps' 'a1'\n",
            " 'fags' 'computers' 'rulin' 'kkk' 'mutherfuckin' 'preachin' 'cons'\n",
            " 'chedda' 'plugged' 'sissy' 'hatas' 'upstate' 'clocking' 'enuff' 'surfin'\n",
            " 'whylin' 'defari' 'bluffing' 'qb' 'buff' 'controllin' 'godfather'\n",
            " 'shoestring' 'ambitious' 'mista' 'nationwide' 'housing' 'precinct'\n",
            " 'mercenary' 'mouthpiece' 'autographs' 'hitter' 'thugging' 'twista'\n",
            " 'amateur' 'firin' 'franchise' 'bombin' 'regulate' 'illuminati' 'millie'\n",
            " 'juggle' 'showbiz' 'bootleg' 'lyricist' 'biters' 'tah' 'artillery' 'rgf'\n",
            " 'niggah' 'bailin' 'celebratin' 'identical' 'vests' 'lennox' 'underrated'\n",
            " 'supa' 'backin' 'finga' 'grub' 'guerilla' 'surveillance' 'techs'\n",
            " 'crunchy' 'bankhead' 'matta' 'esco' 'spook' 'shag' 'jackers' 'jerkin'\n",
            " 'd12' 'sheek' 'manual' 'stats' 'seasoned' 'careers' 'google' 'locate'\n",
            " 'grimey' 'biggy' 'slanging' 'cenz' 'verbs' 'thugstas' 'fliest' 'prozac'\n",
            " 'motivate' 'authorities' 'credentials' 'pressin' 'scopin' 'dummies'\n",
            " 'scrubs' 'bullshittin' 'figga' 'swifty' 'ducked' 'violator' 'suge'\n",
            " 'alias' 'beefing' 'hotta' 'shitted' 'ninjas' 'lackin' 'deposit' 'majors'\n",
            " 'wiv' 'equipto' 'linin' 'bender' 'califa' 'crusher' 'mugs' 'feedback'\n",
            " 'anthrax' 'auntie' 'stabbin' 'priority' 'fagot' 'masta' 'mutherfucker'\n",
            " 'osama' '86' 'gunplay' 'phonies' 'cory' 'ugk' 'zonin' 'convicts'\n",
            " 'quittin' 'bodyguard' 'clownin' 'irs' 'terminator' 'loungin' 'spitter'\n",
            " 'livest' 'wodie' 'bucking' 'fearin' 'lynchin' 'chewy' 'blackball'\n",
            " 'mobbing' 'mavericks' 'undisputed' 'youngster' 'tussle' 'dru' 'rabies'\n",
            " 'handin' 'wylin' 'd4l' 'gizzle' 'rell' 'whooof' 'squadron' 'atcha'\n",
            " 'tightest' 'gansta' 'superb' 'triggas' '357' 'godzilla' 'gotsta'\n",
            " 'camoflauge' 'gunz' 'toolie' 'flacko' 'cpt' 'muthafuckers' 'stuffin'\n",
            " 'arsenal' 'affiliated' 'corleone' 'bodied' 'recruit' 'pimped' 'wannabes'\n",
            " 'flipper' 'brownsville' 'mothafucking' 'screwin' 'incorporated' 'bruiser'\n",
            " 'backstab' 'thugline' 'cel' 'str8' 'kosher' 'balmain' 'stuffing'\n",
            " 'hustled' 'dillinger' 'mutherfucking' 'crackheads' 'stankin' 'strikin'\n",
            " 'tecs' 'silkk' 'wanksta' 'queensbridge' 'homeboyz' 'yamborghini' 'mandem'\n",
            " 'bashing' 'abel' 'dons' 'vick' 'beepers' 'grillin' 'shocker' 'lacin'\n",
            " '2002' 'llello' 'politic' 'cocksucker' 'dumbass' 'instigator' 'bizkit'\n",
            " 'distribute' 'biggedy' 'siiiiiiide' 'rugers' 'unsigned' 'tuition'\n",
            " 'cliques' 'disrespectin' 'sweared' 'budda' 'bashin' 'nore' 'oscars'\n",
            " 'traffickin' 'rottweiler' 'whatz' 'trillest' 'lapd' 'extort' 'clappers'\n",
            " 'fukin' 'reala' 'jabber' 'doubtin' 'bootsee' 'certificate' 'rbg' '211'\n",
            " 'corruptor' 'fuckaz' 'duelin']\n",
            "\n",
            "Cluster 2\n",
            "['slave' 'fortune' 'honor' 'maker' 'humble' 'mourn' 'liberty' 'sealed'\n",
            " 'forgiven' 'heed' 'tempted' 'gladly' 'vow' 'trials' 'reward' 'possession'\n",
            " 'oath' 'vows' 'forsake' 'suffered' 'sacrificed' 'servant']\n",
            "\n",
            "Cluster 3\n",
            "['bid' 'nurse' 'handsome' 'cow' 'halfway' 'spy' 'lucy' 'upstairs'\n",
            " 'broadway' 'log' 'england' 'grove' 'reckon' 'introduced' 'prettiest'\n",
            " 'supper' 'picks' 'evenin' 'rooster' 'walker' 'gambler' 'puppy' 'jezebel'\n",
            " 'stumbled' 'favourite' 'honeymoon' 'maid' 'tramp' 'beatles' 'clyde'\n",
            " 'redneck' 'turkey' 'aisle' 'weekends' 'taller' 'restaurant' 'buddies'\n",
            " 'widow' 'granny' 'scarecrow' 'alaska' 'katie' 'daisy' 'waved' 'haired'\n",
            " 'stallion' 'cart' 'barbara' 'aunt' 'bumped' 'tent' 'senorita' 'cleaned'\n",
            " 'fanny' 'ramblin' 'prom' 'delta' 'kindly' 'reelin' 'marie' 'mummy'\n",
            " 'gully' 'downstairs' 'sandy' 'handy' 'lily' 'jailhouse' 'noah' 'dobro'\n",
            " 'ragged' 'lordy' 'daisies' 'backwoods' 'dandy' 'owns' 'hickory'\n",
            " 'balloons' 'buys' 'bowling' 'william' 'jose' 'homesick' 'whisky' 'spain'\n",
            " 'tammy' 'eskimo' 'merle' 'orphan' 'yelled' 'frisco' 'plow' 'gamblin'\n",
            " 'shouted' 'tarzan' 'mason' 'stocking' 'arkansas' 'tulsa' 'reno' 'denver'\n",
            " 'sundays' 'josephine' 'lucille' 'stockings' 'pappy' 'moanin' 'engineer'\n",
            " 'cows' 'british' 'beverly' 'rosie' 'baton' 'ranch' 'strait' 'margarita'\n",
            " 'shirley' 'tavern' 'nosed' 'kate' 'brenda' 'suzy' 'gals' 'spade' 'polly'\n",
            " 'supermarket' '65' 'homemade' 'seattle' 'oldest' 'stacy' 'sadie' 'hailie'\n",
            " 'possum' 'harmonica' 'spurs' 'magnolia' 'cleanin' 'golly' 'pier'\n",
            " 'cheyenne' 'squirrels' 'pub' 'birdie' 'tailgate' 'tonkin' 'catfish'\n",
            " 'annie' 'mow' 'raymond' 'pew' 'jasmine' 'haggard' 'barroom' 'illinois'\n",
            " 'fireman' 'connie' 'divorced' '66' 'hippies' 'hauled' 'footloose' 'wendy'\n",
            " 'weepin' 'girlie' 'shampoo' 'joseph' 'anne' 'andrew' 'parson'\n",
            " 'birmingham' 'legged' 'wildwood' 'boondocks' 'hollered' 'minnesota'\n",
            " 'newspaper' 'klux' 'maids' 'outskirts' 'indiana' 'idaho' '49' 'janelle'\n",
            " 'rye' 'homecoming' 'drawl' 'whistlin' 'walter' 'collins' 'minnie' 'bale'\n",
            " 'delia' 'picnic' 'tux' 'dooley' 'thanked' 'ferry' 'granddaddy' 'reuben'\n",
            " 'barrow' 'laredo' 'broncs' 'sighed' 'waylon' 'lively' 'courtin' 'clause'\n",
            " 'malone' 'nuggets' 'boxcar' 'paisley' 'cowgirls' 'eli' 'hawaiian'\n",
            " 'montgomery' 'cottage' 'dairy' 'wrangler' 'liga' 'tamales' 'cowgirl'\n",
            " 'barefootin' 'cedar' 'amanda' 'cajun' 'lovey' 'thompson' 'huck' 'bessie'\n",
            " 'monterey' 'nellie' 'opry' 'milwaukee' 'acre' 'bronc' 'diane' 'nevada'\n",
            " 'trucker' 'effed' 'cindy' 'steamboat' 'sullivan' 'rhinestone' 'honeycomb'\n",
            " 'riverboat' 'melinda' 'waa' 'looky' 'saro' 'georgy' 'weddin' 'dickory'\n",
            " 'bowls' 'saginaw' 'convoy' 'peggy' 'rambled' 'jed' 'harlan' 'buttered'\n",
            " 'miner' 'kiddies' 'lynn' 'spied' 'sled' 'shiloh' 'deere' 'grinned'\n",
            " 'patsy' 'picker' 'jinglin' 'dakota' 'canes' 'stetson' 'hup' 'texarkana'\n",
            " 'sloan' 'thunderbird' 'purty' 'vaughn' 'navajo' 'sweeeeatshirt' 'trucked'\n",
            " 'kaw' 'toddle' 'toyland' '3p' '42nd' 'carroll' 'publications' 'weevil']\n",
            "\n",
            "Cluster 4\n",
            "['losers' 'exchange' 'according' 'phrase' 'winners' 'random' 'peers'\n",
            " 'alike' 'childish' 'marriage' 'character' 'continues' 'blend' 'multiply'\n",
            " 'several' 'admire' 'report' 'standard' 'messages' 'territory' 'response'\n",
            " 'riddle' 'statement' 'losses' 'spoiled' 'therapy' 'operation'\n",
            " 'collection' 'attract' 'diary' 'term' 'larger' 'object' 'madman'\n",
            " 'suspect' 'training' 'combination' 'details' 'intended' 'workers'\n",
            " 'acknowledge' 'arrogant' 'appearance' 'added' 'hypocrites' 'outcast'\n",
            " 'offers' 'trends' 'agenda' 'attracted' 'proven' 'writes' 'dna' 'detail'\n",
            " 'magician' 'description' 'abortion' 'roles' 'humor' 'adapt' 'mock'\n",
            " 'traitor' 'scriptures' 'bargain' 'relations' 'inclined' 'recognized'\n",
            " 'economy' 'regard' 'resort' 'adding' 'confrontation' 'wages' 'experiment'\n",
            " 'bitten' 'fingerprints' 'debts' 'profits' 'lacking' 'aliens' 'privacy'\n",
            " 'oppose' 'anonymous' 'acted' 'comedy' 'puppets' 'network' 'basis'\n",
            " 'rebels' 'hitler' 'irrelevant' 'prescription' 'limited' 'norm' 'digest'\n",
            " 'policy' 'avoiding' 'various' 'phrases' 'multiple' 'citizen' 'motive'\n",
            " 'applied' 'mentioned' 'preparing' 'salary' 'instructions' 'compliments'\n",
            " 'crucial' 'studied' 'relation' 'completed' 'instance' 'solved' 'author'\n",
            " 'battling' 'profession' 'marvelous' 'shares' 'coincidence' 'comic'\n",
            " 'needy' 'labeled' 'methods' 'research' 'extension' 'flaw' 'feminine'\n",
            " 'including' 'homage' 'sacrifices' 'dismiss' 'countries' 'attractive'\n",
            " 'witnesses' 'survivin' 'sentences' 'friction' 'identify' 'translate'\n",
            " 'individuals' 'muslim' 'meditate' 'unemployed' 'novel' 'committing'\n",
            " 'convicted' 'casualty' 'decade' 'dotted' 'threaten' 'tribal'\n",
            " 'demonstrate' 'equally' 'theories' 'occur' 'verdict' 'offense' 'jews'\n",
            " 'queer' 'penalty' 'imitate' 'scripture' 'series' 'elevated' 'followers'\n",
            " 'catholic' '2010' 'gesture' 'procedure' 'craziest' 'conditions'\n",
            " 'developed' 'principle' 'engaged' 'equation' 'benefits' 'shocking'\n",
            " 'applaud' 'passive' 'statements' 'pawns' 'characters' 'directly' 'accuse'\n",
            " 'execute' 'opposites' 'punished' 'casual' 'americans' 'manipulate'\n",
            " 'fraction' 'gallery' 'invent' 'unstable' 'idiots' 'scandal' 'racial'\n",
            " 'invention' 'leisure' 'principles' 'retard' 'portion' 'traitors'\n",
            " 'slaughterhouse' 'equality' 'promote' 'detention' 'expressions' 'insult'\n",
            " 'jekyll' 'triangle' 'greek' 'progression' 'antidote' 'convincing'\n",
            " 'seduced' 'courageous' 'personally' 'assassination' 'exquisite'\n",
            " 'obstacle' 'domestic' 'aggravated' 'required' 'affects' 'scripts'\n",
            " 'subtract' 'valid' 'billions' 'ridicule' 'context' 'sabotage' 'continent'\n",
            " 'measured' 'evolve' 'develop' 'detour' 'recession' 'instruments' 'vexed'\n",
            " 'unlimited' 'adolescent' 'lecture' 'differences' 'devious' 'educate'\n",
            " 'primitive' 'alternative' 'defence' 'diseases' 'protest' 'engage'\n",
            " 'schizophrenic' 'prosper' 'camps' 'bids' 'products' 'climate' 'braille'\n",
            " 'opportunities' 'tremendous' 'connections' 'accomplish' 'review'\n",
            " 'incarcerated' 'uses' 'students' 'inherited' 'aspect' 'expansion'\n",
            " 'elders' 'economic' 'relatives' 'accusations' 'ism' 'unfortunately'\n",
            " 'calculated' 'collective' 'plots' 'download' 'barred' 'syndrome'\n",
            " 'mockery' 'financial' 'mathematics' 'picasso' 'demanded' 'reserved'\n",
            " 'detective' 'jigsaw' 'patients' 'physics' 'reduce' 'linked' 'dominant'\n",
            " 'repeatedly' 'hazardous' 'recreate' 'concepts' 'racism' 'explosive'\n",
            " 'suppress' 'attacking' 'effective' 'resentment' 'deltron' 'talented'\n",
            " 'activity' 'measures' 'ills' 'tragedies' 'jewish' 'behalf' 'cultures'\n",
            " 'testament' 'sexuality' 'vocabulary' 'restored' 'invaded' 'interests'\n",
            " 'preservation' 'specific' 'shakespeare' 'contribution' 'musicians'\n",
            " 'prisons' 'fund' 'scientific' 'abort' 'distort' 'fairly' 'accomplished'\n",
            " 'importance' 'proportion' 'lacks' 'objective' 'talents' 'dissect'\n",
            " 'development' 'resent' 'adversaries' 'unnecessary' 'tendencies'\n",
            " 'spineless' 'islam' 'biology' 'comments' 'relevant' 'concerns' 'brethren'\n",
            " 'addition' 'dense' 'indifferent' 'elevation' 'molded' 'deceptive'\n",
            " 'presented' 'decapitate' 'appointed' 'flavour' 'encouraged' 'contracts'\n",
            " 'irrational' 'evolving' 'molest' 'amateurs' 'commission' 'televised'\n",
            " 'verb' 'application' 'addictions' 'ethics' 'manipulation' 'habitat'\n",
            " 'reference' 'sided' 'impressive' 'intentionally' 'heritage'\n",
            " 'extermination' 'scientists' 'conduct' 'incest' 'brainless' 'marcy'\n",
            " 'germans' 'subliminally' 'degrade' 'abilities' 'gains' 'producing'\n",
            " 'monthly' 'valuable' 'majority' 'pseudo' 'epitome' 'psychology'\n",
            " 'informant' 'governments' 'robotic' 'aborted' 'treaty' 'nurture'\n",
            " 'composition' 'rhetoric' 'premeditated' 'graphic' 'cannibals'\n",
            " 'psychological' 'studies' 'endurance' 'dictate' 'belligerent'\n",
            " 'arrangements' 'coalition' 'obligation' 'institution' 'diluted'\n",
            " 'restitution' 'organization' 'unified' 'pension' 'votes' 'pupil'\n",
            " 'packaged' 'fascist' 'manufactured' 'criticism' 'mediocre' 'programs'\n",
            " 'depressive' 'dimensional' 'persecution' 'greatly' 'individuality'\n",
            " 'businessman' 'grants' 'policies' 'cloned' 'traits' 'interpretation'\n",
            " 'reinforce' 'incarceration' 'resources' 'inventions' 'caveman'\n",
            " 'conditioning' 'establish' 'materialistic' 'thriving' 'sculpture'\n",
            " 'literature' 'dissatisfied' 'segregation' 'guinea' 'dialect' 'artistic'\n",
            " 'spiritually' 'prominent' 'confirmation' 'dominance' 'cynic' 'cultural'\n",
            " 'prevention' 'oppressor' 'terrorism' 'sordid' 'industries' 'mimic'\n",
            " 'societies' 'flushing' 'analysis' 'consists' 'exploit' 'surgical'\n",
            " 'devised' 'personnel' 'oswald' 'mathematical' 'deviation' 'factions'\n",
            " 'accessory' 'preposterous' 'primary' 'intimidation' 'abuses' 'expertise'\n",
            " 'modified' 'minority' 'traditions' 'technician' 'thereof' 'explainin'\n",
            " 'subservient' 'germaniac' 'interpret' 'livestock' 'efficient' 'pathology'\n",
            " 'foremost' 'commanders' 'poetically' 'vacated' 'necrophile']\n",
            "\n",
            "Cluster 5\n",
            "['ist' 'wie' 'wenn' 'sind']\n",
            "\n",
            "Cluster 6\n",
            "['soy' 'esta' 'tengo' 'nada' 'estoy' 'hoy' 'este' 'tiempo' 'ahora' 'aqu'\n",
            " 'donde' 'ven' 'quien' 'coraz' 'contigo' 'aunque' 'vivir' 'conmigo']\n",
            "\n",
            "Cluster 7\n",
            "['wise' 'colder' 'younger' 'tries' 'bold' 'farther' 'tenderness' 'wiser'\n",
            " 'weaker']\n",
            "\n",
            "Cluster 8\n",
            "['hopin' 'neighbors' 'yell' 'prayin' 'laughin' 'fightin' 'listenin'\n",
            " 'hearin' 'smilin' 'ringin' 'stutter']\n",
            "\n",
            "Cluster 9\n",
            "['sa' 'ka' 'ang' 'ko' 'ng']\n"
          ],
          "name": "stdout"
        }
      ]
    },
    {
      "cell_type": "code",
      "metadata": {
        "id": "U_8LyMSXt_aD"
      },
      "source": [
        "# Train a model with context size of 10\n",
        "\n",
        "context = 10          # Context window size\n",
        "\n",
        "# Initialize and train the model (this will take some time)\n",
        "model_10 = word2vec.Word2Vec(lst_corpus, size=num_features, min_count = min_word_count, \\\n",
        "            window = context)"
      ],
      "execution_count": null,
      "outputs": []
    },
    {
      "cell_type": "markdown",
      "metadata": {
        "id": "lFehJEDObQYH"
      },
      "source": [
        "This cell takes about 140 minutes run time, you may skip running it and look at the results we got in the saved notebook. In case you want to run it uncomment it."
      ]
    },
    {
      "cell_type": "code",
      "metadata": {
        "id": "6CvCLPn4DwVr",
        "colab": {
          "base_uri": "https://localhost:8080/"
        },
        "outputId": "d3e17fbf-8b4d-4022-9457-04f4e95da0d2"
      },
      "source": [
        "\"\"\"\n",
        "# evaluate the model by applying k-means on the word vectors\n",
        "\n",
        "word_vectors = model_10.wv.vectors\n",
        "num_clusters = 2000\n",
        "\n",
        "# Initalize a k-means object and use it to extract centroids\n",
        "kmeans_clustering = KMeans( n_clusters = num_clusters )\n",
        "idx = kmeans_clustering.fit_predict( word_vectors )\n",
        "\n",
        "# For the first 10 clusters\n",
        "for cluster in range(0,10):\n",
        "    print (\"\\nCluster %d\" % cluster)\n",
        "    print (np.array(model_10.wv.index2word)[idx == cluster])\n",
        "\"\"\""
      ],
      "execution_count": null,
      "outputs": [
        {
          "output_type": "stream",
          "text": [
            "\n",
            "Cluster 0\n",
            "['kin' 'gee' 'fee' 'international' 'motto' 'celebrity' 'ing' 'shouts' '99'\n",
            " 'andre' 'bubba' 'marshall' 'ant' 'chino' 'grammy' 'veteran' 'mtv' 'fred'\n",
            " 'ricky' 'officer' 'joey' 'gotti' 'sonny' 'wiz' 'upgrade' 'scarface' '3rd'\n",
            " 'jigga' 'flint' 'cking' 'stan' 'biatch' 'ny' 'hahaha' 'champ' 'blazed'\n",
            " 'mayor' 'singers' 'harry' 'notorious' 'mase' 'hobby' '98' 'ts' 'kevin'\n",
            " 'jamaican' 'feat' 'aka' 'diggity' 'kobe' 'youngest' 'ganja' 'capri'\n",
            " 'dammit' 'turner' 'jon' 'obama' 'exclusive' 'yung' 'federal' 'ceo' 'fab'\n",
            " 'craig' 'noreaga' 'pos' 'midwest' 'carter' 'kenny' 'tab' 'fag' 'kennedy'\n",
            " 'ft' 'freddy' 'dc' 'keef' 'ness' 'xl' 'cormega' 'shorties' 'rodney' 'azz'\n",
            " 'nickatina' 'sup' 'cnn' 'twitter' 'clinton' 'aiyo' 'lp' 'parker' 'dunn'\n",
            " 'lloyd' 'manager' 'foo' 'inc' 'marquis' 'atl' 'afroman' 'shawn' 'greg'\n",
            " 'mario' '92' 'shoutout' 'snitchin' 'swisha' 'haircut' 'woof' 'warren'\n",
            " 'juggalo' 'holmes' 'nelly' 'beotch' 'theodore' 'pusha' 'trice' 'homo'\n",
            " 'blam' '97' 'geah' 'jammin' 'sy' 'franklin' 'mathers' 'dipset' 'gouda'\n",
            " 'raekwon' 'fbi' 'thriller' 'hov' 'dmc' 'doug' 'mj' 'vado' 'boppin'\n",
            " 'willis' 'khalifa' 'jeezy' 'finale' 'richie' 'dvd' 'marty' 'jada'\n",
            " 'courvoisier' 'huey' 'webby' 'spinach' 'whattup' 'manson' 'productions'\n",
            " 'punisher' 'kendrick' 'handlin' 'tay' '31' '87' 'hahahaha' 'riggity'\n",
            " 'shizzle' 'curry' 'grammar' 'sony' 'simpson' 'sellor' 'oliver' 'juelz'\n",
            " 'soulo' 'nerd' 'knahmsayin' 'juggalos' 'simmons' 'tunechi' 'murray'\n",
            " 'beatz' 'brr' 'dike' 'blocka' 'yella' 'manny' 'ferg' 'lieutenant' 'devin'\n",
            " 'muthaphukkin' 'a1' 'kkk' 'skillz' 'muhammad' 'foxx' 'garvey' 'mista'\n",
            " 'ack' 'chea' 'vallejo' 'madden' 'miggity' 'shag' 'maxine' 'sheek' '313'\n",
            " 'beastin' 'flamboyant' 'zoe' 'dray' 'hotline' 'homeys' 'nevehoe'\n",
            " 'boottee' 'nwa' 'paperchase' 'ynot' 'jt' 'vocab' 'jamrock' 'youknowhati'\n",
            " 'lynchin' 'muggs' 'dooom' 'steph' 'prendelo' 'nypd']\n",
            "\n",
            "Cluster 1\n",
            "['cruel' 'fail' 'compromise' 'deceive' 'honesty']\n",
            "\n",
            "Cluster 2\n",
            "['daylight']\n",
            "\n",
            "Cluster 3\n",
            "['radical' 'format' 'simon' 'weasel' 'bendin' 'ram' 'gorillaz' 'jook'\n",
            " 'performed' 'chitty' 'arab' 'insomnia' 'hoooo' 'partytime' 'bonheur'\n",
            " 'ahoi' 'convivi' 'sunglasses' 'stinks' 'stickabush' 'weaves' 'twirk'\n",
            " 'twerkin' 'blas' 'mendes' 'bilingual' 'knuck' 'daa' 'bio' 'gravedigger'\n",
            " 'envie' 'pucker' 'yon' 'irene' 'yngve' 'zl' 'rhumble' 'meen' 'tiimmy'\n",
            " 'mmh' 'acapella' 'gutfest' 'poping' 'badger' 'chicka' 'rockers'\n",
            " 'jennifer' 'tigg' 'bittys' 'havana' 'freeky' 'crusin' 'dripped' 'skrilla'\n",
            " 'zappa' 'heigh' 'comprendes' 'daha' 'nymphetamine' 'levant' 'ral' 'slurp'\n",
            " 'sweden' 'eeeeeee' 'begets' 'upload' 'oodles' 'alco' 'getm' 'beethoven'\n",
            " 'littlest' 'mayweather' 'pinne' 'voila' 'chikka' 'quartet' 'christmases'\n",
            " 'ayr' 'rew' 'brownie' 'mikael' 'redeeming' 'backflip' 'fudge' 'iddle'\n",
            " 'piccolo' 'halleluyah' 'awwright' 'vat' 'dynamo' 'stro' 'chiki' 'troie'\n",
            " 'ngiyakusaba' 'gitchi' 'laka' 'chiva' 'qoy' 'hist' 'starch' 'underwood'\n",
            " 'aya' 'soad' 'nadine' 'correndo' 'nyam' 'barabajagal' 'ffffff' 'azizi'\n",
            " 'chie' 'chucka' 'kedvesem' 'painkillers' 'awww' 'opin' 'moni' 'itsy'\n",
            " 'bitsy' 'shoeshine' 'purl' 'tush' 'uuu' 'wacky' 'slags' 'bossie'\n",
            " 'tererem' 'trudi' 'shoobeedoo' 'brigham' 'toots' 'crawly' 'alongwaytogo'\n",
            " 'pornograffitti' 'tutankhamen' 'cuiden' 'zang' 'nipping' 'bludfire'\n",
            " 'skanking' 'yle' 'dalilama' 'bangerz' 'calumny' 'nunna' 'nieko' 'slates'\n",
            " 'blokes' 'tigini' 'jookin' 'rooty' 'dirtv' 'tani' 'bawk' 'sext' 'rummy'\n",
            " 'automo' 'shiro' 'rockabye' 'reacharound' 'aquollah' 'enes' 'blouh']\n",
            "\n",
            "Cluster 4\n",
            "['normal' 'sort' 'scare' 'express' 'inspiration' 'phase' 'doubts' 'gotten'\n",
            " 'excuses' 'sincere' 'helps' 'wins' 'comprehend' 'perfectly' 'tend'\n",
            " 'timing' 'emotional' 'depends' 'disagree' 'amazed' 'denying' 'careless'\n",
            " 'difficult' 'rearrange' 'responsible' 'treating' 'absolutely' 'expected'\n",
            " 'alibi' 'believin' 'sentimental' 'anyhow' 'assume' 'counts' 'nothings'\n",
            " 'likely' 'expression' 'undo' 'badly' 'terms' 'apologies' 'theyre'\n",
            " 'pursue' 'frustrated' 'unbelievable' 'youd' 'intention' 'reminded'\n",
            " 'circumstance' 'naturally' 'repeating' 'pitiful' 'discovered'\n",
            " 'impression' 'motivation' 'confusing' 'desperately' 'complaining'\n",
            " 'caring' 'personality' 'hopefully' 'certainly' 'temporary' 'naive'\n",
            " 'listens' 'doesnt' 'confuse' 'choosing' 'unconditional' 'conversations'\n",
            " 'overwhelmed' 'pinch' 'otherwise' 'effort' 'explanation' 'amaze' 'tense'\n",
            " 'circumstances' 'criticize' 'unsaid' 'intuition' 'questioning' 'diary'\n",
            " 'worthwhile' 'amends' 'learnt' 'distraction' 'happier' 'sensitive'\n",
            " 'predict' 'mattered' 'noone' 'fantasize' 'assured' 'scares' 'separated'\n",
            " 'responsibility' 'shameless' 'deserves' 'existed' 'blaming' 'unfair'\n",
            " 'alibis' 'gratitude' 'judging' 'unpredictable' 'blamed' 'imagined'\n",
            " 'apology' 'pleasing' 'differently' 'repair' 'emily' 'humor' 'delirious'\n",
            " 'surprises' 'proves' 'touchy' 'unsure' 'fortunate' 'communicate'\n",
            " 'behaviour' 'affected' 'anyplace' 'disappointed' 'alyssa' 'overlooked'\n",
            " 'tolerate' 'intend' 'confide' 'commitment' 'interesting' 'learns'\n",
            " 'possibility' 'carefree' 'conceive' 'extraordinary' 'insecurities'\n",
            " 'explaining' 'occur' 'sympathize' 'reasoning' 'opposites' 'indecision'\n",
            " 'imperfections' 'sincerity' 'sustain' 'mistreated' 'differences'\n",
            " 'realised' 'eachother' 'previous']\n",
            "\n",
            "Cluster 5\n",
            "['thru' 'farther' 'stray' 'travelin' 'traveling' 'searched' 'narrow'\n",
            " 'traveled' 'yonder' 'toward' 'crossroads' 'winding' 'pearly' 'paved'\n",
            " 'wandered' 'drifted' 'travelled']\n",
            "\n",
            "Cluster 6\n",
            "['base' 'dot' 'post' 'charge' 'static' 'bombs' 'snitch' 'psycho' 'area'\n",
            " 'fox' 'chief' 'pigs' 'alert' 'lynch' 'pablo' 'choppers' 'tec' 'choppa'\n",
            " 'flatline' 'jacking']\n",
            "\n",
            "Cluster 7\n",
            "['everlasting' 'virgin' 'delight' 'cosmic' 'thus' 'vast' 'noel' 'ov'\n",
            " 'spells' 'goddess' 'raven' 'thine' 'nocturnal']\n",
            "\n",
            "Cluster 8\n",
            "['bin' 'tag' 'sag' 'mach' 'komm' 'ab' 'geh' 'warum' 'haben' 'jeden' 'egal'\n",
            " 'ren' 'meinen' 'diese' 'deinen' 'gro' 'nen' 'ob' 'muss' 'augen' 'einfach'\n",
            " 'hei' 'heute' 'meinem' 'morgen' 'kannst' 'sehen' 'meiner' 'angst' 'sp'\n",
            " 'selbst' 'gar' 'raus' 'vielleicht' 'licht' 'geld' 'einer' 'ende' 'rst'\n",
            " 'werden' 'keiner' 'tut' 'rt' 'einem' 'sonne' 'gehen' 'waren' 'niemals'\n",
            " 'stadt' 'seine' 'soll' 'haus' 'weiter' 'gl' 'zwei' 'ihre' 'viele' 'hoch'\n",
            " 'unter' 'bleibt' 'bitte' 'junge' 'deiner' 'leider' 'endlich' 'ihm'\n",
            " 'niemand' 'dieses' 'gesicht' 'bleiben' 'himmel' 'musik' 'unsere' 'sterne'\n",
            " 'vier' 'attackieren' 'tausend' 'mdchen' 'sehn' 'saufen' 'cro' 'achtung'\n",
            " 'nner' 'nf' 'macha' 'arbeit' 'ruhig' 'smu' 'nervt' 'heftig']\n",
            "\n",
            "Cluster 9\n",
            "['di']\n"
          ],
          "name": "stdout"
        }
      ]
    },
    {
      "cell_type": "markdown",
      "metadata": {
        "id": "ghyuQk1MJtAB"
      },
      "source": [
        "This is not an objectively measurable results but from the clusteres we viewd it seemes that context window of 5 acchieved the best clusters."
      ]
    },
    {
      "cell_type": "markdown",
      "metadata": {
        "id": "4JtwR9PxeKn2"
      },
      "source": [
        "### Review most similar words\n",
        "Get initial evaluation of the word vectors by analyzing the most similar words for a few interesting words in the text. \n",
        "\n",
        "Choose words yourself, and find the most similar words to them."
      ]
    },
    {
      "cell_type": "code",
      "metadata": {
        "id": "DkxBuMCWeKn2",
        "colab": {
          "base_uri": "https://localhost:8080/"
        },
        "outputId": "c0b53ba7-010d-42de-c057-ea1cd90ac28d"
      },
      "source": [
        "# context window of 5\n",
        "\n",
        "print(\"Most similar words to mirror:\")\n",
        "print(model_5.wv.most_similar('mirror')[:5])\n",
        "\n",
        "print(\"\\nMost similar words to satan:\")\n",
        "print(model_5.wv.most_similar('satan')[:5])\n",
        "\n",
        "print(\"\\nMost similar words to diamond:\")\n",
        "print(model_5.wv.most_similar('diamond')[:5])"
      ],
      "execution_count": null,
      "outputs": [
        {
          "output_type": "stream",
          "text": [
            "Most similar words to mirror:\n",
            "[('reflection', 0.7555069923400879), ('staring', 0.5845102071762085), ('clearer', 0.5752573609352112), ('rear', 0.5657057762145996), ('lens', 0.5607564449310303)]\n",
            "\n",
            "Most similar words to satan:\n",
            "[('unholy', 0.7625582218170166), ('servants', 0.6956019401550293), ('lucifer', 0.6908077001571655), ('sinners', 0.6833586096763611), ('worship', 0.6760253310203552)]\n",
            "\n",
            "Most similar words to diamond:\n",
            "[('rings', 0.7429622411727905), ('diamonds', 0.7175111770629883), ('pinky', 0.6558115482330322), ('gold', 0.6456952095031738), ('pearls', 0.6113399267196655)]\n"
          ],
          "name": "stdout"
        }
      ]
    },
    {
      "cell_type": "code",
      "metadata": {
        "colab": {
          "base_uri": "https://localhost:8080/"
        },
        "id": "vYigiA_jMQRt",
        "outputId": "4e3b73bb-88db-42fb-ef8b-603baac5be48"
      },
      "source": [
        "# context window of 7\n",
        "\n",
        "print(\"Most similar words to mirror:\")\n",
        "print(model_7.wv.most_similar('mirror')[:5])\n",
        "\n",
        "print(\"\\nMost similar words to satan:\")\n",
        "print(model_7.wv.most_similar('satan')[:5])\n",
        "\n",
        "print(\"\\nMost similar words to diamond:\")\n",
        "print(model_7.wv.most_similar('diamond')[:5])"
      ],
      "execution_count": null,
      "outputs": [
        {
          "output_type": "stream",
          "text": [
            "Most similar words to mirror:\n",
            "[('reflection', 0.7537358999252319), ('clearer', 0.6400866508483887), ('staring', 0.624579906463623), ('rear', 0.5485295057296753), ('stare', 0.5403313636779785)]\n",
            "\n",
            "Most similar words to satan:\n",
            "[('unholy', 0.770027220249176), ('sinners', 0.7215563058853149), ('lucifer', 0.7213795185089111), ('majesty', 0.6992426514625549), ('worship', 0.699133038520813)]\n",
            "\n",
            "Most similar words to diamond:\n",
            "[('diamonds', 0.7461169958114624), ('rings', 0.7418354153633118), ('pinky', 0.6669229865074158), ('pearls', 0.6374425292015076), ('gold', 0.6332827210426331)]\n"
          ],
          "name": "stdout"
        }
      ]
    },
    {
      "cell_type": "code",
      "metadata": {
        "colab": {
          "base_uri": "https://localhost:8080/"
        },
        "id": "gMsfn5_5Mq1F",
        "outputId": "acd8537f-0f27-40fd-f8b1-16238ab2b375"
      },
      "source": [
        "# context window of 10\n",
        "\n",
        "print(\"Most similar words to mirror:\")\n",
        "print(model_10.wv.most_similar('mirror')[:5])\n",
        "\n",
        "print(\"\\nMost similar words to satan:\")\n",
        "print(model_10.wv.most_similar('satan')[:5])\n",
        "\n",
        "print(\"\\nMost similar words to diamond:\")\n",
        "print(model_10.wv.most_similar('diamond')[:5])"
      ],
      "execution_count": null,
      "outputs": [
        {
          "output_type": "stream",
          "text": [
            "Most similar words to mirror:\n",
            "[('reflection', 0.7288041114807129), ('clearer', 0.6742430925369263), ('staring', 0.5935873985290527), ('images', 0.5353515148162842), ('view', 0.5290734171867371)]\n",
            "\n",
            "Most similar words to satan:\n",
            "[('unholy', 0.7811609506607056), ('sinners', 0.720561146736145), ('christians', 0.7191603779792786), ('christian', 0.6939611434936523), ('incarnate', 0.6932411789894104)]\n",
            "\n",
            "Most similar words to diamond:\n",
            "[('rings', 0.7272056341171265), ('diamonds', 0.7032471895217896), ('pinky', 0.6276512145996094), ('gold', 0.6078565120697021), ('pearls', 0.5925832986831665)]\n"
          ],
          "name": "stdout"
        }
      ]
    },
    {
      "cell_type": "markdown",
      "metadata": {
        "id": "-gzZB_YYOMHA"
      },
      "source": [
        "With this test it is hard do determine which context window performs better. For the word 'satan' it seems like we get the best results with 7, but for 'mirror' maybe with 10? All the results can actually make sense when thinking about song lyrics."
      ]
    },
    {
      "cell_type": "markdown",
      "metadata": {
        "id": "VU5BpzNieKn3"
      },
      "source": [
        "### Word Vectors Algebra\n",
        "We've seen in class examples of algebraic games on the word vectors (e.g. man - woman + king = queen ). \n",
        "\n",
        "Try a few vector algebra terms, and evaluate how well they work. Try to use the Cosine distance and compare it to the Euclidean distance."
      ]
    },
    {
      "cell_type": "code",
      "metadata": {
        "id": "AsAGADTKeKn3",
        "colab": {
          "base_uri": "https://localhost:8080/"
        },
        "outputId": "70c59ebc-25f8-4b77-c1a6-5a18ce5a7907"
      },
      "source": [
        "# Using the cosine distance (word2vec default)\n",
        "\n",
        "print(\"(king - man) + woman = ?\") \n",
        "result = model_5.wv.most_similar(positive=['woman', 'king'], negative=['man'], topn=1)\n",
        "print(result)\n",
        "\n",
        "print(\"\\npoor + money = ?\") \n",
        "result = model_5.wv.most_similar(positive=['poor', 'money'], topn=1)\n",
        "print(result)\n",
        "\n",
        "print(\"\\nhungry - food = ?\") \n",
        "result = model_5.wv.most_similar(positive=['hungry'],negative=['food'], topn=1)\n",
        "print(result)"
      ],
      "execution_count": null,
      "outputs": [
        {
          "output_type": "stream",
          "text": [
            "(king - man) + woman = ?\n",
            "[('queen', 0.6394755840301514)]\n",
            "\n",
            "poor + money = ?\n",
            "[('rich', 0.6774163246154785)]\n",
            "\n",
            "hungry - food = ?\n",
            "[('helpless', 0.40057373046875)]\n"
          ],
          "name": "stdout"
        }
      ]
    },
    {
      "cell_type": "code",
      "metadata": {
        "colab": {
          "base_uri": "https://localhost:8080/"
        },
        "id": "x-y4m-U4UrEo",
        "outputId": "c4b03153-f73f-49c0-d562-012a8a878be7"
      },
      "source": [
        "# Using the euclidean distance\n",
        "\n",
        "kmw_distances = []\n",
        "pm_distances = []\n",
        "hf_distances = []\n",
        "\n",
        "kmw = model_5.wv['king'] - model_5.wv['man'] + model_5.wv['woman']\n",
        "pm = model_5.wv['poor'] + model_5.wv['money']\n",
        "hf = model_5.wv['hungry'] - model_5.wv['food']\n",
        "\n",
        "for i, word_vec in enumerate(model_5.wv.vectors):\n",
        "    kmw_distances.append(np.linalg.norm(word_vec- kmw))\n",
        "    pm_distances.append(np.linalg.norm(word_vec- pm))\n",
        "    hf_distances.append(np.linalg.norm(word_vec- hf))\n",
        "\n",
        "\n",
        "print(\"(king - man) + woman = ?\") \n",
        "result = model_5.wv.most_similar(positive=[model_5.wv.vectors[kmw_distances.index(min(kmw_distances))]], topn=1)[0][0]\n",
        "print(result)\n",
        "\n",
        "print(\"\\npoor + money = ?\") \n",
        "result = model_5.wv.most_similar(positive=[model_5.wv.vectors[pm_distances.index(min(pm_distances))]], topn=1)[0][0]\n",
        "print(result)\n",
        "\n",
        "print(\"\\nhungry - food = ?\") \n",
        "result = model_5.wv.most_similar(positive=[model_5.wv.vectors[hf_distances.index(min(hf_distances))]], topn=1)[0][0]\n",
        "print(result)"
      ],
      "execution_count": null,
      "outputs": [
        {
          "output_type": "stream",
          "text": [
            "(king - man) + woman = ?\n",
            "king\n",
            "\n",
            "poor + money = ?\n",
            "money\n",
            "\n",
            "hungry - food = ?\n",
            "struggles\n"
          ],
          "name": "stdout"
        }
      ]
    },
    {
      "cell_type": "markdown",
      "metadata": {
        "id": "bo0ygXGGXVCf"
      },
      "source": [
        "We received better results using the cosine distance."
      ]
    },
    {
      "cell_type": "markdown",
      "metadata": {
        "id": "vNIBeu9FeKn4"
      },
      "source": [
        "## Sentiment Analysis\n",
        "Estimate sentiment of words using word vectors.  \n",
        "In this section, we'll use the SemEval-2015 English Twitter Sentiment Lexicon.  \n",
        "The lexicon was used as an official test set in the SemEval-2015 shared Task #10: Subtask E, and contains a polarity score for words in range -1 (negative) to 1 (positive) - http://saifmohammad.com/WebPages/SCL.html#OPP"
      ]
    },
    {
      "cell_type": "markdown",
      "metadata": {
        "id": "70CKwzM8eKn4"
      },
      "source": [
        "Build a regressor for the sentiment of a word given its word vector, in range -1 to 1. Split the data to a train and test sets, and report the model performance on both sets."
      ]
    },
    {
      "cell_type": "code",
      "metadata": {
        "id": "ERfU_vKuhVbf"
      },
      "source": [
        "from sklearn.model_selection import train_test_split, GridSearchCV\n",
        "import sklearn.metrics as metrics\n",
        "import xgboost as xgb"
      ],
      "execution_count": 22,
      "outputs": []
    },
    {
      "cell_type": "code",
      "metadata": {
        "id": "UrjcuwO5jALY"
      },
      "source": [
        "# For reporting regression results\n",
        "\n",
        "def regression_results(y_true, y_pred):\n",
        "\n",
        "    # Regression metrics\n",
        "    explained_variance=metrics.explained_variance_score(y_true, y_pred)\n",
        "    mean_absolute_error=metrics.mean_absolute_error(y_true, y_pred) \n",
        "    mse=metrics.mean_squared_error(y_true, y_pred) \n",
        "    median_absolute_error=metrics.median_absolute_error(y_true, y_pred)\n",
        "    r2=metrics.r2_score(y_true, y_pred)\n",
        "\n",
        "    print('explained_variance: ', round(explained_variance,4))    \n",
        "    print('r2: ', round(r2,4))\n",
        "    print('MAE: ', round(mean_absolute_error,4))\n",
        "    print('MSE: ', round(mse,4))\n",
        "    print('RMSE: ', round(np.sqrt(mse),4))"
      ],
      "execution_count": null,
      "outputs": []
    },
    {
      "cell_type": "code",
      "metadata": {
        "id": "F2f-E5Uzpva2"
      },
      "source": [
        "#XGBoost hyper-parameter tuning\n",
        "def hyperParameterTuning(X_train, y_train):\n",
        "    param_tuning = {\n",
        "        'learning_rate': [0.01, 0.1],\n",
        "        'max_depth': [3, 5, 7, 10],\n",
        "        'min_child_weight': [1, 3, 5],\n",
        "        'subsample': [0.5, 0.7],\n",
        "        'colsample_bytree': [0.5, 0.7],\n",
        "        'n_estimators' : [100, 200, 500],\n",
        "        'objective': ['reg:squarederror']\n",
        "    }\n",
        "\n",
        "    xgb_model = xgb.XGBRegressor()\n",
        "\n",
        "    gsearch = GridSearchCV(estimator = xgb_model,\n",
        "                           param_grid = param_tuning,                        \n",
        "                           cv = 5,\n",
        "                           n_jobs = -1,\n",
        "                           verbose = 1)\n",
        "\n",
        "    gsearch.fit(X_train,y_train)\n",
        "\n",
        "    return gsearch.best_params_"
      ],
      "execution_count": null,
      "outputs": []
    },
    {
      "cell_type": "code",
      "metadata": {
        "id": "CEq_pYvceKn4",
        "colab": {
          "base_uri": "https://localhost:8080/"
        },
        "outputId": "3557011c-17ba-49ab-d5ca-2c78f209ce68"
      },
      "source": [
        "# load data\n",
        "lexicon = pd.read_csv('SemEval2015-English-Twitter-Lexicon.txt', delimiter = \"\\t\", header=None)\n",
        "\n",
        "# clean\n",
        "lexicon[\"clean_words\"] = (lexicon[1]).apply(lambda x: \n",
        "          utils_preprocess_text(x, flg_stemm=False, flg_lemm=False, \n",
        "          lst_stopwords=None))\n",
        "\n",
        "# add word vectors\n",
        "lexicon['word_vec'] = lexicon['clean_words'].apply(lambda x: model_5.wv[x] if x in model_5.wv.vocab else None)\n",
        "\n",
        "# remove words without vectors\n",
        "lexicon.dropna(inplace=True)\n",
        "\n",
        "# rename columns\n",
        "lexicon.rename(columns = {0:'polarity', 1:'original_word'}, inplace = True)\n",
        "\n",
        "# create the data set\n",
        "word_vec_zip = zip(lexicon['polarity'], lexicon['word_vec'])\n",
        "word_vec_dict = dict(word_vec_zip)\n",
        "df_for_regression = pd.DataFrame.from_dict(word_vec_dict, orient='index')\n",
        "\n",
        "# spliting the dataset into training and test set\n",
        "X = df_for_regression.values\n",
        "y = df_for_regression.index\n",
        "X_train, X_test, y_train, y_test = train_test_split(X, y, test_size = 0.2)\n",
        "\n",
        "# Instantiate an XGBRegressor\n",
        "xgr = xgb.XGBRegressor()\n",
        "\n",
        "# Fit the classifier to the training set\n",
        "xgr.fit(X_train, y_train)"
      ],
      "execution_count": null,
      "outputs": [
        {
          "output_type": "stream",
          "text": [
            "[21:08:18] WARNING: /workspace/src/objective/regression_obj.cu:152: reg:linear is now deprecated in favor of reg:squarederror.\n"
          ],
          "name": "stdout"
        },
        {
          "output_type": "execute_result",
          "data": {
            "text/plain": [
              "XGBRegressor(base_score=0.5, booster='gbtree', colsample_bylevel=1,\n",
              "             colsample_bynode=1, colsample_bytree=1, gamma=0,\n",
              "             importance_type='gain', learning_rate=0.1, max_delta_step=0,\n",
              "             max_depth=3, min_child_weight=1, missing=None, n_estimators=100,\n",
              "             n_jobs=1, nthread=None, objective='reg:linear', random_state=0,\n",
              "             reg_alpha=0, reg_lambda=1, scale_pos_weight=1, seed=None,\n",
              "             silent=None, subsample=1, verbosity=1)"
            ]
          },
          "metadata": {
            "tags": []
          },
          "execution_count": 53
        }
      ]
    },
    {
      "cell_type": "code",
      "metadata": {
        "colab": {
          "base_uri": "https://localhost:8080/"
        },
        "id": "4a7i0HDXjOG-",
        "outputId": "52d5179b-db57-4e61-d33b-a634241788bb"
      },
      "source": [
        "# train set results\n",
        "\n",
        "y_pred = xgr.predict(X_train)\n",
        "regression_results(y_train, y_pred)"
      ],
      "execution_count": null,
      "outputs": [
        {
          "output_type": "stream",
          "text": [
            "explained_variance:  0.998\n",
            "r2:  0.998\n",
            "MAE:  0.0111\n",
            "MSE:  0.0007\n",
            "RMSE:  0.0258\n"
          ],
          "name": "stdout"
        }
      ]
    },
    {
      "cell_type": "code",
      "metadata": {
        "colab": {
          "base_uri": "https://localhost:8080/"
        },
        "id": "P3IdoXbIkCqd",
        "outputId": "543dbf2a-b6b1-43bb-d00e-2d6142007bf6"
      },
      "source": [
        "# test set results\n",
        "\n",
        "y_pred = xgr.predict(X_test)\n",
        "regression_results(y_test, y_pred)"
      ],
      "execution_count": null,
      "outputs": [
        {
          "output_type": "stream",
          "text": [
            "explained_variance:  0.3438\n",
            "r2:  0.3358\n",
            "MAE:  0.3543\n",
            "MSE:  0.2106\n",
            "RMSE:  0.459\n"
          ],
          "name": "stdout"
        }
      ]
    },
    {
      "cell_type": "markdown",
      "metadata": {
        "id": "DUL6PRrUohEC"
      },
      "source": [
        "We will try to optimize the XGBRegressor parameters:"
      ]
    },
    {
      "cell_type": "code",
      "metadata": {
        "colab": {
          "base_uri": "https://localhost:8080/"
        },
        "id": "E9QsFKK6qJUQ",
        "outputId": "da60f3fc-173e-4375-cc6e-54f150682088"
      },
      "source": [
        "# this cell takes about 10 minutes to run, if you skip it you can use best_params variable which appears commented in the next cell\n",
        "best_params = hyperParameterTuning(X_train, y_train)\n",
        "best_params"
      ],
      "execution_count": null,
      "outputs": [
        {
          "output_type": "stream",
          "text": [
            "Fitting 5 folds for each of 288 candidates, totalling 1440 fits\n"
          ],
          "name": "stdout"
        },
        {
          "output_type": "stream",
          "text": [
            "[Parallel(n_jobs=-1)]: Using backend LokyBackend with 2 concurrent workers.\n",
            "[Parallel(n_jobs=-1)]: Done  46 tasks      | elapsed:   10.4s\n",
            "[Parallel(n_jobs=-1)]: Done 196 tasks      | elapsed:   56.6s\n",
            "[Parallel(n_jobs=-1)]: Done 446 tasks      | elapsed:  2.3min\n",
            "[Parallel(n_jobs=-1)]: Done 796 tasks      | elapsed:  4.4min\n",
            "[Parallel(n_jobs=-1)]: Done 1246 tasks      | elapsed:  7.7min\n",
            "[Parallel(n_jobs=-1)]: Done 1440 out of 1440 | elapsed:  9.4min finished\n"
          ],
          "name": "stderr"
        },
        {
          "output_type": "execute_result",
          "data": {
            "text/plain": [
              "{'colsample_bytree': 0.7,\n",
              " 'learning_rate': 0.1,\n",
              " 'max_depth': 5,\n",
              " 'min_child_weight': 3,\n",
              " 'n_estimators': 500,\n",
              " 'objective': 'reg:squarederror',\n",
              " 'subsample': 0.7}"
            ]
          },
          "metadata": {
            "tags": []
          },
          "execution_count": 59
        }
      ]
    },
    {
      "cell_type": "code",
      "metadata": {
        "colab": {
          "base_uri": "https://localhost:8080/"
        },
        "id": "LXB_q12Av7f5",
        "outputId": "11e11764-8172-4d4e-d8d3-a22631053bc7"
      },
      "source": [
        "# Recheck test measures, uncomment best_params if you didn't run the previous cell\n",
        "\n",
        "# best_params = {'colsample_bytree': 0.7,\n",
        "#              'learning_rate': 0.1,\n",
        "#              'max_depth': 5,\n",
        "#              'min_child_weight': 3,\n",
        "#              'n_estimators': 500,\n",
        "#              'objective': 'reg:squarederror',\n",
        "#              'subsample': 0.7}\n",
        "\n",
        "tuned_xgb = xgb.XGBRegressor(**best_params)\n",
        "tuned_xgb.fit(X_train, y_train)\n",
        "y_pred = tuned_xgb.predict(X_test)\n",
        "regression_results(y_test, y_pred)"
      ],
      "execution_count": null,
      "outputs": [
        {
          "output_type": "stream",
          "text": [
            "explained_variance:  0.3434\n",
            "r2:  0.3378\n",
            "MAE:  0.3833\n",
            "MSE:  0.21\n",
            "RMSE:  0.4583\n"
          ],
          "name": "stdout"
        }
      ]
    },
    {
      "cell_type": "markdown",
      "metadata": {
        "id": "WD8aQ0EJ_c-R"
      },
      "source": [
        "For most of the runs, test MSE is a little lower now"
      ]
    },
    {
      "cell_type": "markdown",
      "metadata": {
        "id": "oRviFyVLeKn5"
      },
      "source": [
        "Use your trained model from the previous question to predict the sentiment score of words in the lyrics corpus that are not part of the original sentiment dataset. Review the words with the highest positive and negative sentiment. Do the results make sense?"
      ]
    },
    {
      "cell_type": "code",
      "metadata": {
        "id": "7LvA0MzNeKn5",
        "colab": {
          "base_uri": "https://localhost:8080/"
        },
        "outputId": "9dd91711-c6e2-4515-ba3c-373f75feb4c4"
      },
      "source": [
        "# combine words and their vectors\n",
        "source_words = pd.DataFrame(data=model_5.wv.index2word)\n",
        "source_words.columns = ['word']\n",
        "source_words['vector'] = source_words['word'].apply(lambda x: model_5.wv[x])\n",
        "\n",
        "# filter words that exist in the sentiment data\n",
        "words_filtered = source_words[~source_words.word.isin(lexicon.clean_words)]\n",
        "\n",
        "# arange the vectors as features\n",
        "word_vec_zip = zip(words_filtered['word'], words_filtered['vector'])\n",
        "word_vec_dict = dict(word_vec_zip)\n",
        "df2 = pd.DataFrame.from_dict(word_vec_dict, orient='index')\n",
        "X2 = df2.values\n",
        "\n",
        "# predict and print results\n",
        "y_pred2 = tuned_xgb.predict(X2)\n",
        "pred_sentiment = pd.DataFrame(y_pred2, df2.index, columns=['pred_sentiment'])\n",
        "pred_sentiment.sort_values(by=['pred_sentiment'], ascending=False,inplace=True)\n",
        "\n",
        "print(\"Words with highest positive sentiment:\")\n",
        "print(pred_sentiment.iloc[0:9,:])\n",
        "\n",
        "pred_sentiment.sort_values(by=['pred_sentiment'], ascending=True,inplace=True)\n",
        "\n",
        "print(\"\\nWords with highest negative sentiment:\")\n",
        "print(pred_sentiment.iloc[0:9,:])"
      ],
      "execution_count": null,
      "outputs": [
        {
          "output_type": "stream",
          "text": [
            "Words with highest positive sentiment:\n",
            "          pred_sentiment\n",
            "waadinka        0.961300\n",
            "pluto           0.960346\n",
            "ropa            0.921917\n",
            "halona          0.921380\n",
            "volare          0.908038\n",
            "eastern         0.905995\n",
            "soared          0.898138\n",
            "saturn          0.893545\n",
            "jun             0.878409\n",
            "\n",
            "Words with highest negative sentiment:\n",
            "             pred_sentiment\n",
            "submission        -1.056423\n",
            "illness           -0.939690\n",
            "breeding          -0.936446\n",
            "aborted           -0.929995\n",
            "dismembered       -0.907524\n",
            "loathing          -0.897917\n",
            "faceless          -0.879761\n",
            "digested          -0.870475\n",
            "surgical          -0.847290\n"
          ],
          "name": "stdout"
        }
      ]
    },
    {
      "cell_type": "markdown",
      "metadata": {
        "id": "qyvdhOF4txr9"
      },
      "source": [
        "Our results make sense only in the negative section, where we got words like \"submission\", \"illness\", \"loathing\", \"faceless\"."
      ]
    },
    {
      "cell_type": "markdown",
      "metadata": {
        "id": "LpAhpAroeKn5"
      },
      "source": [
        "### Visualize Word Vectors\n",
        "In this section, you'll plot words on a 2D grid based on their inner similarity. We'll use the tSNE transformation to reduce dimensions from 300 to 2. You can get sample code from https://www.kaggle.com/pierremegret/gensim-word2vec-tutorial or other tutorials online.\n",
        "\n",
        "Perform the following:\n",
        "- Keep only the 3,000 most frequent words (after removing stopwords)\n",
        "- For this list, compute for each word its relative abundance in each of the genres\n",
        "- Compute the ratio between the proportion of each word in each genre and the proportion of the word in the entire corpus (the background distribution)\n",
        "- Pick the top 50 words for each genre. These words give good indication for that genre. Join the words from all genres into a single list of top significant words. \n",
        "- Compute tSNE transformation to 2D for all words, based on their word vectors\n",
        "- Plot the list of the top significant words in 2D. Next to each word output its text. The color of each point should indicate the genre for which it is most significant.\n",
        "\n",
        "You might prefer to use a different number of points or a slightly different methodology for improved results.  \n",
        "Analyze the results."
      ]
    },
    {
      "cell_type": "code",
      "metadata": {
        "id": "S9VSzd7SnSwJ"
      },
      "source": [
        "from tqdm import tqdm\n",
        "from sklearn.manifold import TSNE\n",
        "import matplotlib.pyplot as plt\n",
        "% matplotlib inline\n",
        "import seaborn as sns"
      ],
      "execution_count": 27,
      "outputs": []
    },
    {
      "cell_type": "code",
      "metadata": {
        "id": "YjDAdpLdeKn5",
        "colab": {
          "base_uri": "https://localhost:8080/"
        },
        "outputId": "fdfeee3b-3fc9-4ab7-dd4a-6a127c0f6e6f"
      },
      "source": [
        "# Keep only the 3,000 most frequent words (after removing stopwords)\n",
        "most_freq_words = pd.DataFrame(index=model_5.wv.index2entity[:3000], columns=songs.genre.unique())\n",
        "\n",
        "# counting words, takes about 10 minutes\n",
        "for word in tqdm(most_freq_words.index, position=0, leave=True):\n",
        "    for col in most_freq_words.columns:\n",
        "        most_freq_words.loc[word, col] = songs[songs.genre== col].clean_lyrics.apply(lambda x: x.count(word)).sum()\n",
        "    most_freq_words.loc[word, 'total_freq'] = songs.clean_lyrics.apply(lambda x: x.count(word)).sum()"
      ],
      "execution_count": null,
      "outputs": [
        {
          "output_type": "stream",
          "text": [
            "100%|██████████| 3000/3000 [10:43<00:00,  4.66it/s]\n"
          ],
          "name": "stderr"
        }
      ]
    },
    {
      "cell_type": "code",
      "metadata": {
        "colab": {
          "base_uri": "https://localhost:8080/",
          "height": 606
        },
        "id": "YBhFYFSGqFvu",
        "outputId": "bff6b003-49fa-4618-a0f4-f0a83c60a496"
      },
      "source": [
        "# Compute the ratio between the proportion of each word in each genre and the proportion of the word in the entire corpus (the background distribution)\n",
        "most_freq_words['Pop_ratio'] = most_freq_words['Pop'] / most_freq_words['total_freq']\n",
        "most_freq_words['Hip-Hop_ratio'] = most_freq_words['Hip-Hop'] / most_freq_words['total_freq']\n",
        "most_freq_words['Rock_ratio'] = most_freq_words['Rock'] / most_freq_words['total_freq']\n",
        "most_freq_words['Country_ratio'] = most_freq_words['Country'] / most_freq_words['total_freq']\n",
        "most_freq_words['Metal_ratio'] = most_freq_words['Metal'] / most_freq_words['total_freq']\n",
        "\n",
        "# cahnge dtype to numeric\n",
        "most_freq_words = most_freq_words.apply(pd.to_numeric, errors='coerce', axis=1)\n",
        "\n",
        "# Pick the top 50 words for each genre\n",
        "top_pop = most_freq_words.nlargest(40, 'Pop_ratio')\n",
        "top_hiphop = most_freq_words.nlargest(40, 'Hip-Hop_ratio')\n",
        "top_rock = most_freq_words.nlargest(40, 'Rock_ratio')\n",
        "top_country = most_freq_words.nlargest(40, 'Country_ratio')\n",
        "top_metal = most_freq_words.nlargest(40, 'Metal_ratio')\n",
        "\n",
        "# Join the words from all genres into a single list of top significant words\n",
        "top_words = top_pop.index.to_list() + top_hiphop.index.to_list() + top_rock.index.to_list() + top_country.index.to_list() + top_metal.index.to_list()\n",
        "\n",
        "# remove duplicates\n",
        "top_words = list( dict.fromkeys(top_words) )\n",
        "\n",
        "# combine words and their vectors\n",
        "df_top = pd.DataFrame(data=top_words)\n",
        "df_top.columns = ['word']\n",
        "df_top['vector'] = df_top['word'].apply(lambda x: model_5.wv[x])\n",
        "\n",
        "# arange the vectors as features\n",
        "top_vec_zip = zip(df_top['word'], df_top['vector'])\n",
        "top_vec_dict = dict(top_vec_zip)\n",
        "df_top = pd.DataFrame.from_dict(top_vec_dict, orient='index')\n",
        "\n",
        "# Compute tSNE transformation to 2D for all words, based on their word vectors\n",
        "tsne = TSNE(n_components = 2)\n",
        "tsne_df = pd.DataFrame(tsne.fit_transform(df_top.values), columns=['x','y'])\n",
        "tsne_df['word'] = top_words\n",
        "\n",
        "# create labels based on top genre\n",
        "labels = most_freq_words.loc[top_words,:].iloc[:,6:11].idxmax(axis=1).values\n",
        "tsne_df['top_genre'] = labels\n",
        "tsne_df['top_genre'] = tsne_df['top_genre'].str.replace(\"_ratio\", \"\")\n",
        "\n",
        "# Plot the list of the top significant words in 2D. Next to each word output its text. The color of each point should indicate the genre for which it is most significant.\n",
        "plt.figure(figsize=(20,10))\n",
        "sns.scatterplot(x=tsne_df.x, y=tsne_df.y, hue=tsne_df.top_genre)\n",
        "\n",
        "for i in range(tsne_df.shape[0]):\n",
        "    plt.text(x=tsne_df.x[i],y=tsne_df.y[i]-0.03,s=tsne_df.word[i])\n",
        "\n",
        "plt.show()"
      ],
      "execution_count": null,
      "outputs": [
        {
          "output_type": "display_data",
          "data": {
            "image/png": "[encoded data removed]",
            "text/plain": [
              "<Figure size 1440x720 with 1 Axes>"
            ]
          },
          "metadata": {
            "tags": [],
            "needs_background": "light"
          }
        }
      ]
    },
    {
      "cell_type": "markdown",
      "metadata": {
        "id": "4J7OfLAc3bdj"
      },
      "source": [
        "From our results we see that all genres are pretty distinguish. Pop lyrics are most unique (probably because the most frequent words are in spanish). Hip hop is well separated as well and after that Metal. Rock is close to Metal and sometimes mixes with Country."
      ]
    },
    {
      "cell_type": "markdown",
      "metadata": {
        "id": "Ds7K-R5leKn6"
      },
      "source": [
        "## Text Classification\n",
        "In this section, you'll build a text classifier, determining the genre of a song based on its lyrics."
      ]
    },
    {
      "cell_type": "markdown",
      "metadata": {
        "id": "a33CTYAleKn6"
      },
      "source": [
        "### Text classification using Bag-of-Words\n",
        "Build a Naive Bayes classifier based on the bag of Words.  \n",
        "You will need to divide your dataset into a train and test sets."
      ]
    },
    {
      "cell_type": "code",
      "metadata": {
        "id": "HTA5IXQoILVr"
      },
      "source": [
        "from sklearn.naive_bayes import MultinomialNB\n",
        "from sklearn.feature_extraction.text import CountVectorizer\n",
        "from sklearn.pipeline import make_pipeline\n",
        "from sklearn.metrics import plot_confusion_matrix, classification_report"
      ],
      "execution_count": 41,
      "outputs": []
    },
    {
      "cell_type": "code",
      "metadata": {
        "id": "DB5MWxVTeKn6",
        "colab": {
          "base_uri": "https://localhost:8080/"
        },
        "outputId": "4fd9119d-b9ca-4a78-e1d0-e53e4afc686c"
      },
      "source": [
        "# create train and test datasets\n",
        "X_nb = songs[\"clean_lyrics\"]\n",
        "y_nb = songs[\"genre\"]\n",
        "X_train_nb, X_test_nb, y_train_nb, y_test_nb = train_test_split(X_nb, y_nb, test_size = 0.2)\n",
        "\n",
        "# Build a Naive Bayes classifier based on the bag of Words\n",
        "nb_clf = MultinomialNB()\n",
        "count_vect = CountVectorizer()\n",
        "nb_pipe = make_pipeline(count_vect, nb_clf)\n",
        "nb_pipe.fit(X_train_nb, y_train_nb)"
      ],
      "execution_count": 22,
      "outputs": [
        {
          "output_type": "execute_result",
          "data": {
            "text/plain": [
              "Pipeline(memory=None,\n",
              "         steps=[('countvectorizer',\n",
              "                 CountVectorizer(analyzer='word', binary=False,\n",
              "                                 decode_error='strict',\n",
              "                                 dtype=<class 'numpy.int64'>, encoding='utf-8',\n",
              "                                 input='content', lowercase=True, max_df=1.0,\n",
              "                                 max_features=None, min_df=1,\n",
              "                                 ngram_range=(1, 1), preprocessor=None,\n",
              "                                 stop_words=None, strip_accents=None,\n",
              "                                 token_pattern='(?u)\\\\b\\\\w\\\\w+\\\\b',\n",
              "                                 tokenizer=None, vocabulary=None)),\n",
              "                ('multinomialnb',\n",
              "                 MultinomialNB(alpha=1.0, class_prior=None, fit_prior=True))],\n",
              "         verbose=False)"
            ]
          },
          "metadata": {
            "tags": []
          },
          "execution_count": 22
        }
      ]
    },
    {
      "cell_type": "markdown",
      "metadata": {
        "id": "jiTiMZKKeKn6"
      },
      "source": [
        "Show the confusion matrix."
      ]
    },
    {
      "cell_type": "code",
      "metadata": {
        "id": "Vg6MFfsleKn7",
        "colab": {
          "base_uri": "https://localhost:8080/",
          "height": 297
        },
        "outputId": "9dc7aa0d-8329-4c79-ec04-054e488b42c2"
      },
      "source": [
        "plot_confusion_matrix(nb_pipe, X_test_nb, y_test_nb,\n",
        "                                 cmap=plt.cm.Blues,\n",
        "                                 normalize='true')"
      ],
      "execution_count": 20,
      "outputs": [
        {
          "output_type": "execute_result",
          "data": {
            "text/plain": [
              "<sklearn.metrics._plot.confusion_matrix.ConfusionMatrixDisplay at 0x7f9c1bcc3410>"
            ]
          },
          "metadata": {
            "tags": []
          },
          "execution_count": 20
        },
        {
          "output_type": "display_data",
          "data": {
            "image/png": "[encoded data removed]",
            "text/plain": [
              "<Figure size 432x288 with 2 Axes>"
            ]
          },
          "metadata": {
            "tags": [],
            "needs_background": "light"
          }
        }
      ]
    },
    {
      "cell_type": "markdown",
      "metadata": {
        "id": "3zY89BlceKn7"
      },
      "source": [
        "Show the classification report - precision, recall, f1 for each class."
      ]
    },
    {
      "cell_type": "code",
      "metadata": {
        "id": "MpOuIo3FeKn7",
        "colab": {
          "base_uri": "https://localhost:8080/"
        },
        "outputId": "eaebce96-7d1f-45fb-9b54-0218abc17c1a"
      },
      "source": [
        "nb_pred = nb_pipe.predict(X_test_nb)\n",
        "print(classification_report(y_test_nb, nb_pred))"
      ],
      "execution_count": 25,
      "outputs": [
        {
          "output_type": "stream",
          "text": [
            "              precision    recall  f1-score   support\n",
            "\n",
            "     Country       0.52      0.79      0.63      1649\n",
            "     Hip-Hop       0.76      0.79      0.77      1883\n",
            "       Metal       0.72      0.72      0.72      1846\n",
            "         Pop       0.57      0.33      0.42      2226\n",
            "        Rock       0.46      0.46      0.46      2392\n",
            "\n",
            "    accuracy                           0.60      9996\n",
            "   macro avg       0.61      0.62      0.60      9996\n",
            "weighted avg       0.60      0.60      0.59      9996\n",
            "\n"
          ],
          "name": "stdout"
        }
      ]
    },
    {
      "cell_type": "markdown",
      "metadata": {
        "id": "5w1yPwEbKTJ9"
      },
      "source": [
        "The naive approach that only count words get accuracy of about 60%."
      ]
    },
    {
      "cell_type": "markdown",
      "metadata": {
        "id": "4B0SYwPleKn7"
      },
      "source": [
        "### Text classification using Word Vectors\n",
        "#### Average word vectors\n",
        "Do the same, using a classifier that averages the word vectors of words in the document."
      ]
    },
    {
      "cell_type": "code",
      "metadata": {
        "id": "T6SND2GuT2l0"
      },
      "source": [
        "from sklearn.ensemble import RandomForestClassifier"
      ],
      "execution_count": 24,
      "outputs": []
    },
    {
      "cell_type": "code",
      "metadata": {
        "id": "r6nvI8CXeKn7",
        "colab": {
          "base_uri": "https://localhost:8080/"
        },
        "outputId": "d6f1a124-2b8e-49a6-9a04-6dd8840c6362"
      },
      "source": [
        "# get average vector for each song\n",
        "word_vecs_avg = np.zeros((songs.shape[0], 300))\n",
        "\n",
        "# we add words relativaly to number of times they appear in the song, we could remove duplicates instead which would lead to different results\n",
        "for i, song in tqdm(enumerate(songs.clean_lyrics), position=0, leave=True):\n",
        "    splits = song.split()\n",
        "    word_vecs_sum = np.zeros((300,))\n",
        "    count = 0;\n",
        "\n",
        "    for word in splits:\n",
        "        if (word in model_5.wv.vocab):\n",
        "          word_vecs_sum += model_5.wv[word]\n",
        "          count = count + 1\n",
        "\n",
        "    word_vecs_avg[i] = word_vecs_sum / count"
      ],
      "execution_count": 18,
      "outputs": [
        {
          "output_type": "stream",
          "text": [
            "49976it [00:24, 2041.89it/s]\n"
          ],
          "name": "stderr"
        }
      ]
    },
    {
      "cell_type": "code",
      "metadata": {
        "colab": {
          "base_uri": "https://localhost:8080/",
          "height": 297
        },
        "id": "EM3v1XR1Sq2u",
        "outputId": "85967029-e33f-43fd-a3ec-6ece7c02e6df"
      },
      "source": [
        "# split to train and test\n",
        "X_train_avg, X_test_avg, y_train_avg, y_test_avg = train_test_split(word_vecs_avg, y_nb, test_size = 0.2)\n",
        "\n",
        "# fit random forest\n",
        "forest = RandomForestClassifier()\n",
        "forest.fit(X_train_avg, y_train_avg)\n",
        "\n",
        "# Confusion matrix\n",
        "plot_confusion_matrix(forest, X_test_avg, y_test_avg,\n",
        "                                 cmap=plt.cm.Blues,\n",
        "                                 normalize='true')"
      ],
      "execution_count": 47,
      "outputs": [
        {
          "output_type": "execute_result",
          "data": {
            "text/plain": [
              "<sklearn.metrics._plot.confusion_matrix.ConfusionMatrixDisplay at 0x7f9c48366dd0>"
            ]
          },
          "metadata": {
            "tags": []
          },
          "execution_count": 47
        },
        {
          "output_type": "display_data",
          "data": {
            "image/png": "[encoded data removed]",
            "text/plain": [
              "<Figure size 432x288 with 2 Axes>"
            ]
          },
          "metadata": {
            "tags": [],
            "needs_background": "light"
          }
        }
      ]
    },
    {
      "cell_type": "code",
      "metadata": {
        "colab": {
          "base_uri": "https://localhost:8080/"
        },
        "id": "2s8LUiAzWDi5",
        "outputId": "a0426254-37c5-4d4f-d796-c5035e5d3e4c"
      },
      "source": [
        "# classification report\n",
        "forest_pred = forest.predict(X_test_avg)\n",
        "print(classification_report(y_test_avg, forest_pred))"
      ],
      "execution_count": 48,
      "outputs": [
        {
          "output_type": "stream",
          "text": [
            "              precision    recall  f1-score   support\n",
            "\n",
            "     Country       0.61      0.59      0.60      1675\n",
            "     Hip-Hop       0.83      0.79      0.81      1986\n",
            "       Metal       0.75      0.70      0.72      1865\n",
            "         Pop       0.50      0.50      0.50      2143\n",
            "        Rock       0.43      0.48      0.45      2327\n",
            "\n",
            "    accuracy                           0.61      9996\n",
            "   macro avg       0.62      0.61      0.62      9996\n",
            "weighted avg       0.61      0.61      0.61      9996\n",
            "\n"
          ],
          "name": "stdout"
        }
      ]
    },
    {
      "cell_type": "markdown",
      "metadata": {
        "id": "DmE2VLjhVdTI"
      },
      "source": [
        "Averaging the song words to get a word that describe it and predict its genre performed worse."
      ]
    },
    {
      "cell_type": "markdown",
      "metadata": {
        "id": "slsxS3gveKn8"
      },
      "source": [
        "#### TfIdf Weighting\n",
        "Do the same, using a classifier that averages the word vectors of words in the document, weighting each word by its TfIdf.\n"
      ]
    },
    {
      "cell_type": "code",
      "metadata": {
        "id": "-FGqp9y1YsOR"
      },
      "source": [
        "from sklearn.feature_extraction.text import TfidfVectorizer"
      ],
      "execution_count": 50,
      "outputs": []
    },
    {
      "cell_type": "code",
      "metadata": {
        "id": "GmafLWrbeKn8",
        "colab": {
          "base_uri": "https://localhost:8080/"
        },
        "outputId": "a916487a-d0e7-45db-c4f2-1b90347b9506"
      },
      "source": [
        "# calculate tfidfs\n",
        "tf = TfidfVectorizer()\n",
        "tfidf_matrix =  tf.fit_transform(X_nb)\n",
        "index_value = {i[1]:i[0] for i in tf.vocabulary_.items()}\n",
        "fully_indexed = []\n",
        "\n",
        "for row in tfidf_matrix:\n",
        "    fully_indexed.append({index_value[column]:value for (column,value) in zip(row.indices,row.data)})\n",
        "\n",
        "# Add avg vectors weighting each word by its TfIdf\n",
        "for i, song in tqdm(enumerate(songs.clean_lyrics), position=0, leave=True):\n",
        "    words = song.split()\n",
        "    words = list( dict.fromkeys(words) ) # remove duplicates, adding each word once\n",
        "    word_vecs_sum = np.zeros((300,))\n",
        "    \n",
        "    for word in words:\n",
        "        if (word in model_5.wv.vocab) & (word in fully_indexed[i]):\n",
        "          word_vecs_sum += model_5.wv[word] * fully_indexed[i][word]\n",
        "          \n",
        "    word_vecs_avg[i] = word_vecs_sum"
      ],
      "execution_count": 73,
      "outputs": [
        {
          "output_type": "stream",
          "text": [
            "49976it [00:40, 1236.87it/s]\n"
          ],
          "name": "stderr"
        }
      ]
    },
    {
      "cell_type": "code",
      "metadata": {
        "colab": {
          "base_uri": "https://localhost:8080/",
          "height": 297
        },
        "id": "49_C00L9eHbI",
        "outputId": "63133e52-1fe1-45b8-93d8-928597268e78"
      },
      "source": [
        "# split to train and test\n",
        "X_train_tfidf, X_test_tfidf, y_train_tfidf, y_test_tfidf = train_test_split(word_vecs_avg, y_nb, test_size = 0.2)\n",
        "\n",
        "# fit random forest\n",
        "forest = RandomForestClassifier()\n",
        "forest.fit(X_train_tfidf, y_train_tfidf)\n",
        "\n",
        "# Confusion matrix\n",
        "plot_confusion_matrix(forest, X_test_tfidf, y_test_tfidf,\n",
        "                                 cmap=plt.cm.Blues,\n",
        "                                 normalize='true')        "
      ],
      "execution_count": 25,
      "outputs": [
        {
          "output_type": "execute_result",
          "data": {
            "text/plain": [
              "<sklearn.metrics._plot.confusion_matrix.ConfusionMatrixDisplay at 0x7f57fa8f7d50>"
            ]
          },
          "metadata": {
            "tags": []
          },
          "execution_count": 25
        },
        {
          "output_type": "display_data",
          "data": {
            "image/png": "[encoded data removed]",
            "text/plain": [
              "<Figure size 432x288 with 2 Axes>"
            ]
          },
          "metadata": {
            "tags": [],
            "needs_background": "light"
          }
        }
      ]
    },
    {
      "cell_type": "code",
      "metadata": {
        "colab": {
          "base_uri": "https://localhost:8080/"
        },
        "id": "VjRmv7h_nv7W",
        "outputId": "92bcd686-2c7f-411e-8492-88bdaf9975fd"
      },
      "source": [
        "# classification report\n",
        "tfidf_pred = forest.predict(X_test_tfidf)\n",
        "print(classification_report(y_test_tfidf, tfidf_pred))"
      ],
      "execution_count": 75,
      "outputs": [
        {
          "output_type": "stream",
          "text": [
            "              precision    recall  f1-score   support\n",
            "\n",
            "     Country       0.62      0.59      0.60      1670\n",
            "     Hip-Hop       0.86      0.78      0.82      1956\n",
            "       Metal       0.74      0.71      0.72      1809\n",
            "         Pop       0.51      0.50      0.50      2182\n",
            "        Rock       0.44      0.51      0.47      2379\n",
            "\n",
            "    accuracy                           0.61      9996\n",
            "   macro avg       0.63      0.62      0.62      9996\n",
            "weighted avg       0.62      0.61      0.61      9996\n",
            "\n"
          ],
          "name": "stdout"
        }
      ]
    },
    {
      "cell_type": "markdown",
      "metadata": {
        "id": "91tz0TwnoCOJ"
      },
      "source": [
        "Results are quiet similar to using the average with taking account words with number of apperance that we performed in the previous task."
      ]
    },
    {
      "cell_type": "markdown",
      "metadata": {
        "id": "Cky6OZFteKn8"
      },
      "source": [
        "### Text classification using ConvNet\n",
        "Do the same, using a ConvNet.  \n",
        "The ConvNet should get as input a 2D matrix where each column is an embedding vector of a single word, and words are in order. Use zero padding so that all matrices have a similar length.  \n",
        "Some songs might be very long. Trim them so you keep a maximum of 128 words (after cleaning stop words and rare words).  \n",
        "Initialize the embedding layer using the word vectors that you've trained before, but allow them to change during training.  \n",
        "\n",
        "Extra: Try training the ConvNet with 2 slight modifications:\n",
        "1. freezing the the weights trained using Word2vec (preventing it from updating)\n",
        "1. random initialization of the embedding layer"
      ]
    },
    {
      "cell_type": "markdown",
      "metadata": {
        "id": "Pfr7n_pqeKn9"
      },
      "source": [
        "You are encouraged to try this question on your own.  \n",
        "\n",
        "You might prefer to get ideas from the paper \"Convolutional Neural Networks for Sentence Classification\" (Kim 2014, [link](https://arxiv.org/abs/1408.5882)).\n",
        "\n",
        "There are several implementations of the paper code in PyTorch online (see for example [this repo](https://github.com/prakashpandey9/Text-Classification-Pytorch) for a PyTorch implementation of CNN and other architectures for text classification). If you get stuck, they might provide you with a reference for your own code."
      ]
    },
    {
      "cell_type": "markdown",
      "metadata": {
        "id": "SRjbbn_wFQIA"
      },
      "source": [
        "### Note ###\n",
        "We created another implemetation to this question, where instead of using the embedded layer the input is the embedded word. vectors for each song.\n",
        "\n",
        "We focused on this solution where the input contains the word indexes for each song and the predifined embeddings are sent to the embedded layer since the input of the other solution cosumed a large amount of RAM and caused crushes of the notebook.\n",
        "\n",
        "We included that solution in a different notebook that we submitted as well."
      ]
    },
    {
      "cell_type": "code",
      "metadata": {
        "id": "ShncWIxBzoAZ"
      },
      "source": [
        "import torch\n",
        "import torch.nn as nn\n",
        "import torch.optim as optim\n",
        "from torch.utils.data import TensorDataset, RandomSampler, DataLoader, SequentialSampler\n",
        "import time\n",
        "import torch.nn.functional as F\n",
        "import copy\n",
        "from torch.optim import lr_scheduler\n",
        "import itertools"
      ],
      "execution_count": 14,
      "outputs": []
    },
    {
      "cell_type": "code",
      "metadata": {
        "colab": {
          "base_uri": "https://localhost:8080/"
        },
        "id": "GuSNy0AEv6Vn",
        "outputId": "8680ab2c-51ae-4443-d499-cc1ac12287ae"
      },
      "source": [
        "# Use cuda if present\n",
        "device = torch.device(\"cuda\" if torch.cuda.is_available() else \"cpu\")\n",
        "print(\"Device available for running: \")\n",
        "print(device)"
      ],
      "execution_count": 17,
      "outputs": [
        {
          "output_type": "stream",
          "text": [
            "Device available for running: \n",
            "cuda\n"
          ],
          "name": "stdout"
        }
      ]
    },
    {
      "cell_type": "code",
      "metadata": {
        "id": "PPmkl29mN5tf"
      },
      "source": [
        "# a row for each song where each column is a word index, in order and without rare words\n",
        "def get_song_vec_mat(tokenized_lyrics):\n",
        "    songs_embeddings = torch.zeros((songs.shape[0], 128))\n",
        "\n",
        "    for song_ind, song in tqdm(enumerate(tokenized_lyrics), position=0, leave=True):\n",
        "        words_list = song.split()\n",
        "        padded_X = np.zeros(128)\n",
        "        i = 0\n",
        "\n",
        "        for word in words_list:\n",
        "          if i > 127:\n",
        "            break\n",
        "\n",
        "          if word in model_5.wv.vocab:\n",
        "              padded_X[i] = model_5.wv.vocab[word].index\n",
        "              i += 1\n",
        "\n",
        "        songs_embeddings[song_ind,:] += padded_X\n",
        "\n",
        "    return songs_embeddings"
      ],
      "execution_count": 25,
      "outputs": []
    },
    {
      "cell_type": "code",
      "metadata": {
        "colab": {
          "base_uri": "https://localhost:8080/"
        },
        "id": "RL4bdAi9PE9Z",
        "outputId": "4fec45a3-de97-4721-c599-e510b17fa4eb"
      },
      "source": [
        "# create songs matrix\n",
        "songs_mat = get_song_vec_mat(songs[\"clean_lyrics\"])\n",
        "songs_mat = songs_mat.long()"
      ],
      "execution_count": 28,
      "outputs": [
        {
          "output_type": "stream",
          "text": [
            "49976it [00:23, 2091.49it/s]\n"
          ],
          "name": "stderr"
        }
      ]
    },
    {
      "cell_type": "code",
      "metadata": {
        "id": "-qzo48P5UMYB"
      },
      "source": [
        "# Convert train and validation sets to torch.Tensors and load them to DataLoader\n",
        "\n",
        "def data_loader(train_inputs, val_inputs, train_labels, val_labels, batch_size=50):\n",
        "    \n",
        "    # Convert data type to torch.Tensor\n",
        "    train_inputs, val_inputs, train_labels, val_labels =\\\n",
        "    tuple(torch.tensor(data) for data in\n",
        "          [train_inputs, val_inputs, train_labels, val_labels])\n",
        "    train_labels = train_labels.long()\n",
        "    val_labels = val_labels.long()\n",
        "\n",
        "    # Specify batch_size\n",
        "    batch_size = 50\n",
        "\n",
        "    # Create DataLoader for training data\n",
        "    train_data = TensorDataset(train_inputs, train_labels)\n",
        "    train_sampler = RandomSampler(train_data)\n",
        "    train_dataloader = DataLoader(train_data, sampler=train_sampler, batch_size=batch_size)\n",
        "\n",
        "    # Create DataLoader for validation data\n",
        "    val_data = TensorDataset(val_inputs, val_labels)\n",
        "    val_sampler = SequentialSampler(val_data)\n",
        "    val_dataloader = DataLoader(val_data, sampler=val_sampler, batch_size=batch_size)\n",
        "\n",
        "    return train_dataloader, val_dataloader"
      ],
      "execution_count": 30,
      "outputs": []
    },
    {
      "cell_type": "code",
      "metadata": {
        "colab": {
          "base_uri": "https://localhost:8080/"
        },
        "id": "36MuRj_NQqRH",
        "outputId": "09e7a09b-9571-42b1-cfc1-0e3e3980ef47"
      },
      "source": [
        "# create labels and split to train and test\n",
        "labels = pd.Categorical(songs.genre.values).codes\n",
        "labels_names = ['Country', 'Hip-Hop', 'Metal', 'Pop', 'Rock']\n",
        "X_net_train, X_net_test, y_net_train, y_net_test = train_test_split(songs_mat, labels, test_size = 0.2)\n",
        "\n",
        "# Load data to PyTorch DataLoader\n",
        "train_dataloader, val_dataloader = \\\n",
        "data_loader(X_net_train, X_net_test, y_net_train, y_net_test, batch_size=50)"
      ],
      "execution_count": 31,
      "outputs": [
        {
          "output_type": "stream",
          "text": [
            "/usr/local/lib/python3.7/dist-packages/ipykernel_launcher.py:6: UserWarning: To copy construct from a tensor, it is recommended to use sourceTensor.clone().detach() or sourceTensor.clone().detach().requires_grad_(True), rather than torch.tensor(sourceTensor).\n",
            "  \n"
          ],
          "name": "stderr"
        }
      ]
    },
    {
      "cell_type": "code",
      "metadata": {
        "id": "-JckKM_yaNpn"
      },
      "source": [
        "# CNN network for text classification\n",
        "\n",
        "class CNN_NLP(nn.Module):\n",
        "    \n",
        "    def __init__(self,\n",
        "                 pretrained_embedding=None,\n",
        "                 freeze_embedding=False,\n",
        "                 vocab_size=None,\n",
        "                 embed_dim=300,\n",
        "                 filter_sizes=[3, 4, 5],\n",
        "                 num_filters=[100, 100, 100],\n",
        "                 num_classes=5,\n",
        "                 dropout=0.5):\n",
        "\n",
        "        super(CNN_NLP, self).__init__()\n",
        "        \n",
        "        # Embedding layer\n",
        "        if pretrained_embedding is not None:\n",
        "            self.vocab_size, self.embed_dim = pretrained_embedding.shape\n",
        "            \n",
        "            self.embedding = nn.Embedding.from_pretrained(pretrained_embedding,\n",
        "                                                          freeze=freeze_embedding)\n",
        "            \n",
        "        else:\n",
        "            self.embed_dim = embed_dim\n",
        "            self.embedding = nn.Embedding(num_embeddings=vocab_size,\n",
        "                                          embedding_dim=self.embed_dim,\n",
        "                                          padding_idx=0,\n",
        "                                          max_norm=5.0)\n",
        "        # Conv Network\n",
        "        self.conv1d_list = nn.ModuleList([\n",
        "            nn.Conv1d(in_channels=self.embed_dim,\n",
        "                      out_channels=num_filters[i],\n",
        "                      kernel_size=filter_sizes[i])\n",
        "            for i in range(len(filter_sizes))\n",
        "        ])\n",
        "        \n",
        "        # Fully-connected layer and Dropout\n",
        "        self.fc = nn.Linear(np.sum(num_filters), num_classes)\n",
        "        self.dropout = nn.Dropout(p=dropout)\n",
        "\n",
        "    def forward(self, input_ids):\n",
        "\n",
        "        # Get embeddings from `input_ids`. Output shape: (b, max_len, embed_dim)\n",
        "        x_embed = self.embedding(input_ids).float()\n",
        "\n",
        "        # Permute `x_embed` to match input shape requirement of `nn.Conv1d`.\n",
        "        # Output shape: (b, embed_dim, max_len)\n",
        "        x_reshaped = x_embed.permute(0, 2, 1)\n",
        "\n",
        "        # Apply CNN and ReLU. Output shape: (b, num_filters[i], L_out)\n",
        "        x_conv_list = [F.relu(conv1d(x_reshaped)) for conv1d in self.conv1d_list]\n",
        "\n",
        "        # Max pooling. Output shape: (b, num_filters[i], 1)\n",
        "        x_pool_list = [F.max_pool1d(x_conv, kernel_size=x_conv.shape[2])\n",
        "            for x_conv in x_conv_list]\n",
        "        \n",
        "        # Concatenate x_pool_list to feed the fully connected layer.\n",
        "        # Output shape: (b, sum(num_filters))\n",
        "        x_fc = torch.cat([x_pool.squeeze(dim=2) for x_pool in x_pool_list],\n",
        "                         dim=1)\n",
        "        \n",
        "        # Compute logits. Output shape: (b, n_classes)\n",
        "        logits = self.fc(self.dropout(x_fc))\n",
        "\n",
        "        return logits"
      ],
      "execution_count": 15,
      "outputs": []
    },
    {
      "cell_type": "code",
      "metadata": {
        "id": "TJ4dgUghReAH"
      },
      "source": [
        "# Instantiate a CNN model and an optimizer\n",
        "\n",
        "def initilize_model(pretrained_embedding=None,\n",
        "                    freeze_embedding=False,\n",
        "                    vocab_size=None,\n",
        "                    embed_dim=300,\n",
        "                    filter_sizes=[3, 4, 5],\n",
        "                    num_filters=[100, 100, 100],\n",
        "                    num_classes=5,\n",
        "                    dropout=0.5,\n",
        "                    learning_rate=0.01):\n",
        "\n",
        "    assert (len(filter_sizes) == len(num_filters)), \"filter_sizes and \\\n",
        "    num_filters need to be of the same length.\"\n",
        "\n",
        "    # Instantiate CNN model\n",
        "    cnn_model = CNN_NLP(pretrained_embedding=pretrained_embedding,\n",
        "                        freeze_embedding=freeze_embedding,\n",
        "                        vocab_size=vocab_size,\n",
        "                        embed_dim=embed_dim,\n",
        "                        filter_sizes=filter_sizes,\n",
        "                        num_filters=num_filters,\n",
        "                        num_classes=num_classes,\n",
        "                        dropout=dropout)\n",
        "    \n",
        "    # Send model to `device` (GPU/CPU)\n",
        "    cnn_model.to(device)\n",
        "\n",
        "    # Instantiate Adadelta optimizer\n",
        "    optimizer = optim.Adadelta(cnn_model.parameters(),\n",
        "                               lr=learning_rate,\n",
        "                               rho=0.95)\n",
        "\n",
        "    return cnn_model, optimizer"
      ],
      "execution_count": 3,
      "outputs": []
    },
    {
      "cell_type": "code",
      "metadata": {
        "id": "M4oSH_HJz52Y"
      },
      "source": [
        "# Specify loss function\n",
        "loss_fn = nn.CrossEntropyLoss()\n",
        "\n",
        "# train the model\n",
        "def train(model, optimizer, train_dataloader, val_dataloader=None, epochs=10):\n",
        "    \n",
        "    # Tracking best validation accuracy\n",
        "    best_accuracy = 0\n",
        "\n",
        "    # Start training loop\n",
        "    print(\"Start training...\\n\")\n",
        "    print(f\"{'Epoch':^7} | {'Train Loss':^12} | {'Val Loss':^10} | {\\\n",
        "    'Val Acc':^9} | {'Elapsed':^9}\")\n",
        "    print(\"-\"*60)\n",
        "\n",
        "    for epoch_i in range(epochs):\n",
        "        \n",
        "        #               Training\n",
        "        \n",
        "        # Tracking time and loss\n",
        "        t0_epoch = time.time()\n",
        "        total_loss = 0\n",
        "\n",
        "        # Put the model into the training mode\n",
        "        model.train()\n",
        "\n",
        "        for step, batch in enumerate(train_dataloader):\n",
        "            # Load batch to GPU\n",
        "            b_input_ids, b_labels = tuple(t.to(device) for t in batch)\n",
        "\n",
        "            # Zero out any previously calculated gradients\n",
        "            model.zero_grad()\n",
        "\n",
        "            # Perform a forward pass. This will return logits.\n",
        "            logits = model(b_input_ids)\n",
        "            # Compute loss and accumulate the loss values\n",
        "            loss = loss_fn(logits, b_labels)\n",
        "            total_loss += loss.item()\n",
        "\n",
        "            # Perform a backward pass to calculate gradients\n",
        "            loss.backward()\n",
        "\n",
        "            # Update parameters\n",
        "            optimizer.step()\n",
        "\n",
        "        # Calculate the average loss over the entire training data\n",
        "        avg_train_loss = total_loss / len(train_dataloader)\n",
        "\n",
        "        \n",
        "        #               Evaluation\n",
        "        \n",
        "        if val_dataloader is not None:\n",
        "            # After the completion of each training epoch, measure the model's\n",
        "            # performance on our validation set.\n",
        "            val_loss, val_accuracy = evaluate(model, val_dataloader)\n",
        "\n",
        "            # Track the best accuracy\n",
        "            if val_accuracy > best_accuracy:\n",
        "                best_accuracy = val_accuracy\n",
        "                \n",
        "                # deepcopy the model\n",
        "                best_model_wts = copy.deepcopy(model.state_dict())\n",
        "\n",
        "            # Print performance over the entire training data\n",
        "            time_elapsed = time.time() - t0_epoch\n",
        "            print(f\"{epoch_i + 1:^7} | {avg_train_loss:^12.6f} | {\\\n",
        "            val_loss:^10.6f} | {val_accuracy:^9.2f} | {time_elapsed:^9.2f}\")\n",
        "            \n",
        "    print(\"\\n\")\n",
        "    print(f\"Training complete! Best accuracy: {best_accuracy:.2f}%.\")\n",
        "    \n",
        "    # load best model weights\n",
        "    model.load_state_dict(best_model_wts)\n",
        "    return model"
      ],
      "execution_count": 19,
      "outputs": []
    },
    {
      "cell_type": "code",
      "metadata": {
        "id": "5h2szTME16-s"
      },
      "source": [
        "# measure the model performance on the val set after each epoch\n",
        "\n",
        "def evaluate(model, val_dataloader):\n",
        "    \n",
        "    # Put the model into the evaluation mode. The dropout layers are disabled\n",
        "    # during the test time.\n",
        "    model.eval()\n",
        "\n",
        "    # Tracking variables\n",
        "    val_accuracy = []\n",
        "    val_loss = []\n",
        "\n",
        "    # For each batch in our validation set...\n",
        "    for batch in val_dataloader:\n",
        "        # Load batch to GPU\n",
        "        b_input_ids, b_labels = tuple(t.to(device) for t in batch)\n",
        "\n",
        "        # Compute logits\n",
        "        with torch.no_grad():\n",
        "            logits = model(b_input_ids)\n",
        "\n",
        "        # Compute loss\n",
        "        loss = loss_fn(logits, b_labels)\n",
        "        val_loss.append(loss.item())\n",
        "\n",
        "        # Get the predictions\n",
        "        preds = torch.argmax(logits, dim=1).flatten()\n",
        "\n",
        "        # Calculate the accuracy rate\n",
        "        accuracy = (preds == b_labels).cpu().numpy().mean() * 100\n",
        "        val_accuracy.append(accuracy)\n",
        "\n",
        "    # Compute the average accuracy and loss over the validation set.\n",
        "    val_loss = np.mean(val_loss)\n",
        "    val_accuracy = np.mean(val_accuracy)\n",
        "\n",
        "    return val_loss, val_accuracy"
      ],
      "execution_count": 33,
      "outputs": []
    },
    {
      "cell_type": "code",
      "metadata": {
        "colab": {
          "base_uri": "https://localhost:8080/"
        },
        "id": "_jrEviYy3axY",
        "outputId": "dfb1d6af-3dc2-4883-b5d6-503cba1c43be"
      },
      "source": [
        "# train a network with initialize the embedding layer using the word vectors that was trained before, but allow them to change during training\n",
        "\n",
        "cnn_non_static, optimizer = initilize_model(pretrained_embedding=torch.tensor(model_5.wv.vectors).float(),\n",
        "                                            freeze_embedding=False,\n",
        "                                            learning_rate=0.25,\n",
        "                                            dropout=0.5)\n",
        "best_model = train(cnn_non_static, optimizer, train_dataloader, val_dataloader, epochs=20)"
      ],
      "execution_count": 46,
      "outputs": [
        {
          "output_type": "stream",
          "text": [
            "Start training...\n",
            "\n",
            " Epoch  |  Train Loss  |  Val Loss  |  Val Acc  |  Elapsed \n",
            "------------------------------------------------------------\n",
            "   1    |   1.089622   |  0.982737  |   60.79   |  376.90  \n",
            "   2    |   0.990079   |  0.970967  |   60.16   |  377.16  \n",
            "   3    |   0.947163   |  0.926758  |   62.62   |  376.59  \n",
            "   4    |   0.914504   |  0.936248  |   62.12   |  375.75  \n",
            "   5    |   0.876746   |  0.931542  |   62.70   |  375.45  \n",
            "   6    |   0.845450   |  0.931560  |   62.58   |  375.87  \n",
            "   7    |   0.819012   |  0.941145  |   62.60   |  375.93  \n",
            "   8    |   0.781683   |  0.947093  |   62.10   |  376.15  \n",
            "   9    |   0.750875   |  0.948202  |   62.73   |  376.34  \n",
            "  10    |   0.717152   |  0.952152  |   62.91   |  375.76  \n",
            "  11    |   0.690436   |  0.983118  |   62.44   |  376.82  \n",
            "  12    |   0.664049   |  0.991507  |   62.60   |  376.56  \n",
            "  13    |   0.631284   |  1.012903  |   62.66   |  377.46  \n",
            "  14    |   0.607383   |  1.034709  |   62.32   |  378.35  \n",
            "  15    |   0.581785   |  1.033919  |   62.34   |  378.60  \n",
            "  16    |   0.557056   |  1.054475  |   62.37   |  379.26  \n",
            "  17    |   0.539647   |  1.075277  |   62.26   |  377.91  \n",
            "  18    |   0.518339   |  1.103089  |   61.60   |  378.42  \n",
            "  19    |   0.501166   |  1.099648  |   62.05   |  378.66  \n",
            "  20    |   0.482530   |  1.135563  |   62.11   |  378.73  \n",
            "\n",
            "\n",
            "Training complete! Best accuracy: 62.91%.\n"
          ],
          "name": "stdout"
        }
      ]
    },
    {
      "cell_type": "code",
      "metadata": {
        "id": "JgtHSWCBcf_M"
      },
      "source": [
        "def plot_confusion_matrix_net(cm, classes, title='Confusion matrix', cmap=plt.cm.Blues):\n",
        "    plt.figure(figsize=(10,10))\n",
        "    plt.imshow(cm, interpolation='nearest', cmap=cmap)\n",
        "    plt.title(title)\n",
        "    plt.colorbar()\n",
        "    tick_marks = np.arange(len(classes))\n",
        "    plt.xticks(tick_marks, classes, rotation=-45)\n",
        "    plt.yticks(tick_marks, classes)\n",
        "\n",
        "    fmt = '.0f'\n",
        "    thresh = cm.max() / 2.\n",
        "    for i, j in itertools.product(range(cm.shape[0]), range(cm.shape[1])):\n",
        "        plt.text(j, i, format(cm[i, j], fmt), horizontalalignment=\"center\", color=\"white\" if cm[i, j] > thresh else \"black\")\n",
        "\n",
        "    plt.tight_layout()\n",
        "    plt.ylabel('True label')\n",
        "    plt.xlabel('Predicted label')"
      ],
      "execution_count": 36,
      "outputs": []
    },
    {
      "cell_type": "code",
      "metadata": {
        "colab": {
          "base_uri": "https://localhost:8080/",
          "height": 729
        },
        "id": "LI-pTuW89qt_",
        "outputId": "87286475-18d3-4d0b-874d-76a0f9ff8e20"
      },
      "source": [
        "confusion_matrix = torch.zeros(5, 5)\n",
        "\n",
        "with torch.no_grad():\n",
        "    for i, (inputs, classes) in enumerate(val_dataloader):\n",
        "        inputs = inputs.to(device)\n",
        "        classes = classes.to(device)\n",
        "        outputs = best_model(inputs)\n",
        "        _, preds = torch.max(outputs, 1)\n",
        "        for t, p in zip(classes.view(-1), preds.view(-1)):\n",
        "                confusion_matrix[t.long(), p.long()] += 1\n",
        "\n",
        "plot_confusion_matrix_net(cm=confusion_matrix,classes=labels_names)"
      ],
      "execution_count": 49,
      "outputs": [
        {
          "output_type": "display_data",
          "data": {
            "image/png": "[encoded data removed]",
            "text/plain": [
              "<Figure size 720x720 with 2 Axes>"
            ]
          },
          "metadata": {
            "tags": [],
            "needs_background": "light"
          }
        }
      ]
    },
    {
      "cell_type": "code",
      "metadata": {
        "id": "FVgOkyarz1h_"
      },
      "source": [
        "def get_predictions(model, data_loader):\n",
        "    model.eval()\n",
        "    predictions = []\n",
        "    real_values = []\n",
        "  \n",
        "    with torch.no_grad():\n",
        "    \n",
        "        for inputs, labels in data_loader:\n",
        "            inputs = inputs.to(device)\n",
        "            labels = labels.to(device)\n",
        "            outputs = model(inputs)\n",
        "            _, preds = torch.max(outputs, 1)\n",
        "            predictions.extend(preds)\n",
        "            real_values.extend(labels)\n",
        "  \n",
        "    predictions = torch.as_tensor(predictions).cpu()\n",
        "    real_values = torch.as_tensor(real_values).cpu()\n",
        "    return predictions, real_values"
      ],
      "execution_count": 39,
      "outputs": []
    },
    {
      "cell_type": "code",
      "metadata": {
        "colab": {
          "base_uri": "https://localhost:8080/"
        },
        "id": "cWQOsuWP-68-",
        "outputId": "2a430707-8317-418b-8ff4-18d0df228b06"
      },
      "source": [
        "y_cnn_pred, y_cnn_test = get_predictions(best_model, val_dataloader)\n",
        "print(classification_report(y_cnn_test, y_cnn_pred, target_names=labels_names))"
      ],
      "execution_count": 53,
      "outputs": [
        {
          "output_type": "stream",
          "text": [
            "              precision    recall  f1-score   support\n",
            "\n",
            "     Country       0.64      0.65      0.64      1599\n",
            "     Hip-Hop       0.85      0.82      0.83      1924\n",
            "       Metal       0.70      0.76      0.73      1886\n",
            "         Pop       0.58      0.47      0.52      2212\n",
            "        Rock       0.45      0.51      0.48      2375\n",
            "\n",
            "    accuracy                           0.63      9996\n",
            "   macro avg       0.64      0.64      0.64      9996\n",
            "weighted avg       0.63      0.63      0.63      9996\n",
            "\n"
          ],
          "name": "stdout"
        }
      ]
    },
    {
      "cell_type": "markdown",
      "metadata": {
        "id": "IRvT4NJKtiq7"
      },
      "source": [
        "Extra: Try training the ConvNet with 2 slight modifications:\n",
        "\n",
        "1. freezing the the weights trained using Word2vec (preventing it from updating)"
      ]
    },
    {
      "cell_type": "code",
      "metadata": {
        "colab": {
          "base_uri": "https://localhost:8080/"
        },
        "id": "akNMQ4o8tfEi",
        "outputId": "a7841a38-a25b-464c-fd60-7436dbaf15c1"
      },
      "source": [
        "cnn_static, optimizer = initilize_model(pretrained_embedding=torch.tensor(model_5.wv.vectors).float(),\n",
        "                                            freeze_embedding=True,\n",
        "                                            learning_rate=0.25,\n",
        "                                            dropout=0.5)\n",
        "best_static = train(cnn_static, optimizer, train_dataloader, val_dataloader, epochs=20)"
      ],
      "execution_count": 54,
      "outputs": [
        {
          "output_type": "stream",
          "text": [
            "Start training...\n",
            "\n",
            " Epoch  |  Train Loss  |  Val Loss  |  Val Acc  |  Elapsed \n",
            "------------------------------------------------------------\n",
            "   1    |   1.089374   |  0.977707  |   60.05   |  213.58  \n",
            "   2    |   0.994092   |  0.942089  |   62.15   |  213.52  \n",
            "   3    |   0.948796   |  0.953646  |   60.78   |  213.02  \n",
            "   4    |   0.915143   |  0.924551  |   62.28   |  212.89  \n",
            "   5    |   0.883623   |  0.929938  |   63.12   |  213.00  \n",
            "   6    |   0.851984   |  0.961159  |   61.27   |  212.68  \n",
            "   7    |   0.820945   |  0.947043  |   62.06   |  212.80  \n",
            "   8    |   0.792604   |  0.945626  |   62.73   |  213.25  \n",
            "   9    |   0.762041   |  0.954601  |   62.88   |  212.92  \n",
            "  10    |   0.731272   |  0.993275  |   60.85   |  212.92  \n",
            "  11    |   0.703181   |  0.973278  |   62.24   |  213.09  \n",
            "  12    |   0.676421   |  1.004196  |   61.68   |  212.88  \n",
            "  13    |   0.658651   |  1.002459  |   61.51   |  212.97  \n",
            "  14    |   0.628794   |  1.014005  |   62.01   |  213.42  \n",
            "  15    |   0.612882   |  1.045176  |   61.69   |  214.37  \n",
            "  16    |   0.588348   |  1.053534  |   61.44   |  213.55  \n",
            "  17    |   0.575626   |  1.084008  |   61.32   |  212.95  \n",
            "  18    |   0.551647   |  1.081622  |   61.80   |  213.05  \n",
            "  19    |   0.536321   |  1.102718  |   61.61   |  213.19  \n",
            "  20    |   0.521929   |  1.114140  |   61.07   |  213.10  \n",
            "\n",
            "\n",
            "Training complete! Best accuracy: 63.12%.\n"
          ],
          "name": "stdout"
        }
      ]
    },
    {
      "cell_type": "code",
      "metadata": {
        "colab": {
          "base_uri": "https://localhost:8080/",
          "height": 729
        },
        "id": "7W02x4EDKJHh",
        "outputId": "1c7ae369-5314-4b03-f127-641d02ba64b0"
      },
      "source": [
        "confusion_matrix = torch.zeros(5, 5)\n",
        "\n",
        "with torch.no_grad():\n",
        "    for i, (inputs, classes) in enumerate(val_dataloader):\n",
        "        inputs = inputs.to(device)\n",
        "        classes = classes.to(device)\n",
        "        outputs = best_static(inputs)\n",
        "        _, preds = torch.max(outputs, 1)\n",
        "        for t, p in zip(classes.view(-1), preds.view(-1)):\n",
        "                confusion_matrix[t.long(), p.long()] += 1\n",
        "\n",
        "plot_confusion_matrix_net(cm=confusion_matrix,classes=labels_names)"
      ],
      "execution_count": 55,
      "outputs": [
        {
          "output_type": "display_data",
          "data": {
            "image/png": "[encoded data removed]",
            "text/plain": [
              "<Figure size 720x720 with 2 Axes>"
            ]
          },
          "metadata": {
            "tags": [],
            "needs_background": "light"
          }
        }
      ]
    },
    {
      "cell_type": "code",
      "metadata": {
        "colab": {
          "base_uri": "https://localhost:8080/"
        },
        "id": "RxI90f4rKWvL",
        "outputId": "2d8817f2-ac91-47a2-abbb-4e49ac62e079"
      },
      "source": [
        "y_cnn_pred, y_cnn_test = get_predictions(best_static, val_dataloader)\n",
        "print(classification_report(y_cnn_test, y_cnn_pred, target_names=labels_names))"
      ],
      "execution_count": 56,
      "outputs": [
        {
          "output_type": "stream",
          "text": [
            "              precision    recall  f1-score   support\n",
            "\n",
            "     Country       0.68      0.58      0.63      1599\n",
            "     Hip-Hop       0.86      0.79      0.82      1924\n",
            "       Metal       0.67      0.79      0.72      1886\n",
            "         Pop       0.56      0.54      0.55      2212\n",
            "        Rock       0.47      0.49      0.48      2375\n",
            "\n",
            "    accuracy                           0.63      9996\n",
            "   macro avg       0.65      0.64      0.64      9996\n",
            "weighted avg       0.64      0.63      0.63      9996\n",
            "\n"
          ],
          "name": "stdout"
        }
      ]
    },
    {
      "cell_type": "markdown",
      "metadata": {
        "id": "XhidQ9gwK_Jo"
      },
      "source": [
        "2. random initialization of the embedding layer"
      ]
    },
    {
      "cell_type": "code",
      "metadata": {
        "colab": {
          "base_uri": "https://localhost:8080/"
        },
        "id": "8pLaFeu3LWMQ",
        "outputId": "6c65ff55-57e9-4a33-e7e6-0439125c8c6e"
      },
      "source": [
        "cnn_random, optimizer = initilize_model(vocab_size=len(model_5.wv.vocab),learning_rate=0.25,\n",
        "                                            dropout=0.5)\n",
        "best_random = train(cnn_random, optimizer, train_dataloader, val_dataloader, epochs=20)"
      ],
      "execution_count": 34,
      "outputs": [
        {
          "output_type": "stream",
          "text": [
            "Start training...\n",
            "\n",
            " Epoch  |  Train Loss  |  Val Loss  |  Val Acc  |  Elapsed \n",
            "------------------------------------------------------------\n",
            "   1    |   1.305103   |  1.106304  |   54.46   |   10.29  \n",
            "   2    |   1.111621   |  1.035176  |   58.97   |   10.20  \n",
            "   3    |   1.025801   |  1.006164  |   59.49   |   10.27  \n",
            "   4    |   0.960064   |  0.990274  |   59.86   |   10.30  \n",
            "   5    |   0.894579   |  0.974939  |   61.33   |   10.31  \n",
            "   6    |   0.831193   |  0.963219  |   61.73   |   10.34  \n",
            "   7    |   0.761158   |  0.966549  |   61.75   |   10.36  \n",
            "   8    |   0.706179   |  0.965466  |   62.40   |   10.41  \n",
            "   9    |   0.639026   |  0.984815  |   62.11   |   10.42  \n",
            "  10    |   0.576692   |  0.996485  |   62.31   |   10.41  \n",
            "  11    |   0.527471   |  1.017461  |   61.79   |   10.43  \n",
            "  12    |   0.483162   |  1.043539  |   61.84   |   10.44  \n",
            "  13    |   0.432462   |  1.072247  |   61.77   |   10.45  \n",
            "  14    |   0.403974   |  1.089512  |   62.04   |   10.50  \n",
            "  15    |   0.360191   |  1.113750  |   61.73   |   10.54  \n",
            "  16    |   0.332694   |  1.137470  |   61.83   |   10.58  \n",
            "  17    |   0.314124   |  1.171076  |   61.67   |   10.57  \n",
            "  18    |   0.285793   |  1.195799  |   61.70   |   10.56  \n",
            "  19    |   0.266141   |  1.227904  |   61.24   |   10.56  \n",
            "  20    |   0.248533   |  1.258847  |   61.68   |   10.58  \n",
            "\n",
            "\n",
            "Training complete! Best accuracy: 62.40%.\n"
          ],
          "name": "stdout"
        }
      ]
    },
    {
      "cell_type": "code",
      "metadata": {
        "colab": {
          "base_uri": "https://localhost:8080/",
          "height": 729
        },
        "id": "r23T7RNgVTz9",
        "outputId": "6b7ef283-5c8c-48f3-c68a-cd1cca765216"
      },
      "source": [
        "confusion_matrix = torch.zeros(5, 5)\n",
        "\n",
        "with torch.no_grad():\n",
        "    for i, (inputs, classes) in enumerate(val_dataloader):\n",
        "        inputs = inputs.to(device)\n",
        "        classes = classes.to(device)\n",
        "        outputs = best_random(inputs)\n",
        "        _, preds = torch.max(outputs, 1)\n",
        "        for t, p in zip(classes.view(-1), preds.view(-1)):\n",
        "                confusion_matrix[t.long(), p.long()] += 1\n",
        "\n",
        "plot_confusion_matrix_net(cm=confusion_matrix,classes=labels_names)"
      ],
      "execution_count": 37,
      "outputs": [
        {
          "output_type": "display_data",
          "data": {
            "image/png": "[encoded data removed]",
            "text/plain": [
              "<Figure size 720x720 with 2 Axes>"
            ]
          },
          "metadata": {
            "tags": [],
            "needs_background": "light"
          }
        }
      ]
    },
    {
      "cell_type": "code",
      "metadata": {
        "colab": {
          "base_uri": "https://localhost:8080/"
        },
        "id": "RIfoqEQ-Vnej",
        "outputId": "b73f9bab-ce58-41ff-81d7-8c25c0866ba6"
      },
      "source": [
        "y_cnn_pred, y_cnn_test = get_predictions(best_random, val_dataloader)\n",
        "print(classification_report(y_cnn_test, y_cnn_pred, target_names=labels_names))"
      ],
      "execution_count": 42,
      "outputs": [
        {
          "output_type": "stream",
          "text": [
            "              precision    recall  f1-score   support\n",
            "\n",
            "     Country       0.62      0.65      0.64      1628\n",
            "     Hip-Hop       0.85      0.79      0.81      2013\n",
            "       Metal       0.70      0.71      0.71      1842\n",
            "         Pop       0.53      0.51      0.52      2181\n",
            "        Rock       0.47      0.50      0.49      2332\n",
            "\n",
            "    accuracy                           0.62      9996\n",
            "   macro avg       0.64      0.63      0.63      9996\n",
            "weighted avg       0.63      0.62      0.63      9996\n",
            "\n"
          ],
          "name": "stdout"
        }
      ]
    },
    {
      "cell_type": "markdown",
      "metadata": {
        "id": "dRi3eRmeWXQM"
      },
      "source": [
        "Results are pretty similar for the 3 embedding options. It does seem that the model get more fitted to the train data when initializing random weights."
      ]
    }
  ]
}
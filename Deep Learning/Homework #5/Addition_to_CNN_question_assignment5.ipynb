{
  "nbformat": 4,
  "nbformat_minor": 0,
  "metadata": {
    "colab": {
      "name": "Addition_to_CNN_question_assignment5.ipynb",
      "provenance": [],
      "collapsed_sections": []
    },
    "kernelspec": {
      "name": "python3",
      "display_name": "Python 3"
    },
    "language_info": {
      "name": "python"
    }
  },
  "cells": [
    {
      "cell_type": "markdown",
      "metadata": {
        "id": "HJoBm0_ocf84"
      },
      "source": [
        "Dana Rozenblum & Efrat Magidov"
      ]
    },
    {
      "cell_type": "markdown",
      "metadata": {
        "id": "rksSHm8ucsWT"
      },
      "source": [
        "In the main notebook we implemtnted the text classifier network with an embedded layer. However, at start we thought that the intention was to include the word2vec vectors of each word for each song as part of the input instead.\n",
        "\n",
        "We include here this type of solution. The size of the input led to crushes of the notebooks so here we didn't continue to finalize the solution (like the rare words removal from the input we performed in the main notebook), improve the network (the results of the implenetation in the main notebook are better) or try the extra modifications."
      ]
    },
    {
      "cell_type": "code",
      "metadata": {
        "id": "Qb1-BUBqk1bb"
      },
      "source": [
        "import pandas as pd\n",
        "import nltk\n",
        "from nltk.corpus import stopwords\n",
        "import torch\n",
        "from tqdm import tqdm\n",
        "import numpy as np\n",
        "from gensim.models import Word2Vec\n",
        "from sklearn.model_selection import train_test_split\n",
        "from torch.utils.data import Subset, DataLoader\n",
        "from torch import nn\n",
        "from torch import optim\n",
        "from torch.optim import lr_scheduler\n",
        "import time\n",
        "import copy\n",
        "import torch.nn.functional as F\n",
        "from sklearn.metrics import classification_report\n",
        "import itertools\n",
        "import matplotlib.pyplot as plt\n",
        "% matplotlib inline"
      ],
      "execution_count": 61,
      "outputs": []
    },
    {
      "cell_type": "code",
      "metadata": {
        "colab": {
          "base_uri": "https://localhost:8080/"
        },
        "id": "FUFvSoEcleVK",
        "outputId": "1f16efe3-8073-4549-e683-9e044b864f82"
      },
      "source": [
        "nltk.download('punkt')\n",
        "nltk.download('stopwords')"
      ],
      "execution_count": 2,
      "outputs": [
        {
          "output_type": "stream",
          "text": [
            "[nltk_data] Downloading package punkt to /root/nltk_data...\n",
            "[nltk_data]   Package punkt is already up-to-date!\n",
            "[nltk_data] Downloading package stopwords to /root/nltk_data...\n",
            "[nltk_data]   Package stopwords is already up-to-date!\n"
          ],
          "name": "stdout"
        },
        {
          "output_type": "execute_result",
          "data": {
            "text/plain": [
              "True"
            ]
          },
          "metadata": {
            "tags": []
          },
          "execution_count": 2
        }
      ]
    },
    {
      "cell_type": "code",
      "metadata": {
        "id": "s_SKWL-JjAe3"
      },
      "source": [
        "df = pd.read_parquet(\"https://raw.githubusercontent.com/omriallouche/ydata_deep_learning_2021/master/data/metrolyrics.parquet\")\n",
        "\n",
        "# lower_case\n",
        "df['lyrics_lower'] = df['lyrics'].apply(lambda x: x.lower())\n",
        "\n",
        "# remove punctuation\n",
        "df['lyrics_no_punct'] = df['lyrics_lower'].str.replace('[^\\w\\s]','')\n",
        "\n",
        "# remove new lines\n",
        "df['lyrics_no_punct_no_n'] = df['lyrics_no_punct'].replace(r'\\n',' ', regex=True) \n",
        "\n",
        "# tokenization\n",
        "df['tokenized_clean_lyrics'] = df['lyrics_no_punct_no_n'].apply(lambda x: nltk.word_tokenize(x))\n",
        "\n",
        "# remove stop words\n",
        "stop = stopwords.words('english')\n",
        "df['tokenized_clean_lyrics'] = df['tokenized_clean_lyrics'].apply(lambda x: [item for item in x if item not in stop])\n",
        "\n",
        "df['clean_lyrics'] = df['tokenized_clean_lyrics'].apply(lambda x: \" \".join(x) )"
      ],
      "execution_count": 3,
      "outputs": []
    },
    {
      "cell_type": "code",
      "metadata": {
        "id": "F8KaZYLUonmd"
      },
      "source": [
        "sent_corpus = df['tokenized_clean_lyrics']\n",
        "\n",
        "w2v_model_context5 = Word2Vec(sentences=sent_corpus, size=300, min_count=20, workers=4, window=5)\n",
        "\n",
        "model = w2v_model_context5"
      ],
      "execution_count": 10,
      "outputs": []
    },
    {
      "cell_type": "code",
      "metadata": {
        "id": "oONVLT7KcVcL"
      },
      "source": [
        "def get_song_vec_mat(tokenized_lyrics):\n",
        "    songs_embeddings = torch.zeros((df.shape[0], 300, 128))\n",
        "    for song_ind, song in tqdm(enumerate(tokenized_lyrics), position=0, leave=True):\n",
        "        words_list = list(set(song))[:128]\n",
        "        word_vecs= np.zeros((300,128))\n",
        "        for word_ind, word in enumerate(words_list):\n",
        "            if word in model.wv.vocab:\n",
        "                songs_embeddings[song_ind,:,word_ind] += model.wv[word]\n",
        "    return songs_embeddings"
      ],
      "execution_count": 4,
      "outputs": []
    },
    {
      "cell_type": "code",
      "metadata": {
        "colab": {
          "base_uri": "https://localhost:8080/"
        },
        "id": "vedmvpx0ilnE",
        "outputId": "bab270d4-06fe-486d-892f-494f288cbbed"
      },
      "source": [
        "songs_embeddings = get_song_vec_mat(df.tokenized_clean_lyrics.values)"
      ],
      "execution_count": 11,
      "outputs": [
        {
          "output_type": "stream",
          "text": [
            "49976it [17:32, 47.48it/s]\n"
          ],
          "name": "stderr"
        }
      ]
    },
    {
      "cell_type": "code",
      "metadata": {
        "id": "JiOqjkHYuTj0"
      },
      "source": [
        "def train_val_dataset(dataset, val_split=0.2):\n",
        "    train_idx, val_idx = train_test_split(list(range(len(dataset))), test_size=val_split, random_state=42)\n",
        "    datasets = {}\n",
        "    label = {}\n",
        "    datasets['train'] = Subset(dataset, train_idx)\n",
        "    datasets['val'] = Subset(dataset, val_idx)\n",
        "    return datasets"
      ],
      "execution_count": 12,
      "outputs": []
    },
    {
      "cell_type": "code",
      "metadata": {
        "id": "229JYmXMugHv"
      },
      "source": [
        "class Dataset(torch.utils.data.Dataset):\n",
        "  'Characterizes a dataset for PyTorch'\n",
        "  def __init__(self, samples, labels):\n",
        "        'Initialization'\n",
        "        self.labels = labels\n",
        "        self.samples = samples\n",
        "\n",
        "  def __len__(self):\n",
        "        'Denotes the total number of samples'\n",
        "        return len(self.samples)\n",
        "\n",
        "  def __getitem__(self, index):\n",
        "        'Generates one sample of data'\n",
        "        # Select sample\n",
        "        # Load data and get label\n",
        "        X = self.samples[index]\n",
        "        y = self.labels[index]\n",
        "\n",
        "        return X, y"
      ],
      "execution_count": 13,
      "outputs": []
    },
    {
      "cell_type": "code",
      "metadata": {
        "colab": {
          "base_uri": "https://localhost:8080/"
        },
        "id": "hvQzFgGzus4V",
        "outputId": "02790633-d5dc-4f04-ab4c-38ab9eb225ba"
      },
      "source": [
        "# CUDA for PyTorch\n",
        "use_cuda = torch.cuda.is_available()\n",
        "device = torch.device(\"cuda:0\" if use_cuda else \"cpu\")\n",
        "torch.backends.cudnn.benchmark = True\n",
        "\n",
        "# Parameters\n",
        "params = {'batch_size': 50,\n",
        "          'shuffle': True,\n",
        "          'num_workers': 4}\n",
        "max_epochs = 20\n",
        "\n",
        "# Datasets\n",
        "data = songs_embeddings\n",
        "labels = pd.Categorical(df.genre.values).codes\n",
        "labels_names = ['Country', 'Hip-Hop', 'Metal', 'Pop', 'Rock']\n",
        "\n",
        "# train-val split\n",
        "datasets = train_val_dataset(songs_embeddings)\n",
        "label = train_val_dataset(labels)\n",
        "\n",
        "# Generators\n",
        "training_set = Dataset(datasets['train'], label['train'])\n",
        "training_generator = DataLoader(training_set, **params)\n",
        "\n",
        "validation_set = Dataset(datasets['val'], label['val'])\n",
        "validation_generator = DataLoader(validation_set, **params)"
      ],
      "execution_count": 49,
      "outputs": [
        {
          "output_type": "stream",
          "text": [
            "/usr/local/lib/python3.7/dist-packages/torch/utils/data/dataloader.py:477: UserWarning: This DataLoader will create 4 worker processes in total. Our suggested max number of worker in current system is 2, which is smaller than what this DataLoader is going to create. Please be aware that excessive worker creation might get DataLoader running slow or even freeze, lower the worker number to avoid potential slowness/freeze if necessary.\n",
            "  cpuset_checked))\n"
          ],
          "name": "stderr"
        }
      ]
    },
    {
      "cell_type": "code",
      "metadata": {
        "colab": {
          "base_uri": "https://localhost:8080/"
        },
        "id": "Ilm6msEyvsho",
        "outputId": "9c6386f7-4b8a-4758-adc4-61ccd6a53462"
      },
      "source": [
        "dataset_sizes = {'train': len(training_set), 'val': len(validation_set)}\n",
        "print('dataset_sizes: ', dataset_sizes)"
      ],
      "execution_count": 50,
      "outputs": [
        {
          "output_type": "stream",
          "text": [
            "dataset_sizes:  {'train': 39980, 'val': 9996}\n"
          ],
          "name": "stdout"
        }
      ]
    },
    {
      "cell_type": "code",
      "metadata": {
        "colab": {
          "base_uri": "https://localhost:8080/"
        },
        "id": "BwPw6nBLv0D7",
        "outputId": "eecdf485-5788-495e-c650-6f90be85342a"
      },
      "source": [
        "songs, labels = next(iter(validation_generator))"
      ],
      "execution_count": 51,
      "outputs": [
        {
          "output_type": "stream",
          "text": [
            "/usr/local/lib/python3.7/dist-packages/torch/utils/data/dataloader.py:477: UserWarning: This DataLoader will create 4 worker processes in total. Our suggested max number of worker in current system is 2, which is smaller than what this DataLoader is going to create. Please be aware that excessive worker creation might get DataLoader running slow or even freeze, lower the worker number to avoid potential slowness/freeze if necessary.\n",
            "  cpuset_checked))\n"
          ],
          "name": "stderr"
        }
      ]
    },
    {
      "cell_type": "code",
      "metadata": {
        "id": "p4Iyhz6hv2iL"
      },
      "source": [
        "dataloaders={'train': training_generator,\n",
        "             'val': validation_generator}"
      ],
      "execution_count": 52,
      "outputs": []
    },
    {
      "cell_type": "code",
      "metadata": {
        "colab": {
          "base_uri": "https://localhost:8080/"
        },
        "id": "1wu1mLsPv8Ve",
        "outputId": "597a22c0-8645-4aad-f821-91ba704ba0af"
      },
      "source": [
        "NUM_WORDS = 128\n",
        "NUM_FILTERS = 10\n",
        "NUM_CLASSES = 5\n",
        "\n",
        "class CnnTextClassifier(nn.Module):\n",
        "    def __init__(self, num_classes, window_sizes=(1,2,3,5)):\n",
        "        super(CnnTextClassifier, self).__init__()\n",
        "\n",
        "        self.convs = nn.ModuleList([\n",
        "                                   nn.Conv2d(1, NUM_FILTERS, [window_size, NUM_WORDS], padding=(window_size - 1, 0))\n",
        "                                   for window_size in window_sizes\n",
        "        ])\n",
        "\n",
        "        self.fc = nn.Linear(NUM_FILTERS * len(window_sizes), num_classes)\n",
        "\n",
        "    def forward(self, x):\n",
        "        # Apply a convolution + max_pool layer for each window size\n",
        "        x = torch.unsqueeze(x, 1)\n",
        "        xs = []\n",
        "        for conv in self.convs:\n",
        "            x2 = torch.tanh(conv(x))\n",
        "            x2 = torch.squeeze(x2, -1)\n",
        "            x2 = F.max_pool1d(x2, x2.size(2))\n",
        "            xs.append(x2)\n",
        "        x = torch.cat(xs, 2)\n",
        "\n",
        "        # FC\n",
        "        x = x.view(x.size(0), -1)\n",
        "        logits = self.fc(x)\n",
        "\n",
        "        probs = F.softmax(logits, dim = 1)\n",
        "\n",
        "        return probs\n",
        "\n",
        "    def num_flat_features(self, x):\n",
        "        size = x.size()[1:]  # all dimensions except the batch dimension\n",
        "        num_features = 1\n",
        "        for s in size:\n",
        "            num_features *= s\n",
        "        return num_features\n",
        "\n",
        "net = CnnTextClassifier(NUM_CLASSES)\n",
        "print(net)"
      ],
      "execution_count": 53,
      "outputs": [
        {
          "output_type": "stream",
          "text": [
            "CnnTextClassifier(\n",
            "  (convs): ModuleList(\n",
            "    (0): Conv2d(1, 10, kernel_size=[1, 128], stride=(1, 1))\n",
            "    (1): Conv2d(1, 10, kernel_size=[2, 128], stride=(1, 1), padding=(1, 0))\n",
            "    (2): Conv2d(1, 10, kernel_size=[3, 128], stride=(1, 1), padding=(2, 0))\n",
            "    (3): Conv2d(1, 10, kernel_size=[5, 128], stride=(1, 1), padding=(4, 0))\n",
            "  )\n",
            "  (fc): Linear(in_features=40, out_features=5, bias=True)\n",
            ")\n"
          ],
          "name": "stdout"
        }
      ]
    },
    {
      "cell_type": "code",
      "metadata": {
        "id": "9_IfHZUgwq2H"
      },
      "source": [
        "def train_model(model, dataloaders, criterion, optimizer, scheduler, num_epochs=25):\n",
        "    since = time.time()\n",
        "\n",
        "    # Init variables that will save info about the best model\n",
        "    best_model_wts = copy.deepcopy(model.state_dict())\n",
        "    best_acc = 0.0\n",
        "\n",
        "    for epoch in range(num_epochs):\n",
        "        print('Epoch {}/{}'.format(epoch, num_epochs - 1))\n",
        "        print('-' * 10)\n",
        "\n",
        "        # Each epoch has a training and validation phase\n",
        "        for phase in ['train', 'val']:\n",
        "            if phase == 'train':\n",
        "                # Set model to training mode. \n",
        "                model.train()  \n",
        "            else:\n",
        "                # Set model to evaluate mode. In evaluate mode, we don't perform backprop and don't need to keep the gradients\n",
        "                model.eval()   \n",
        "\n",
        "            running_loss = 0.0\n",
        "            running_corrects = 0\n",
        "\n",
        "            # Iterate over data\n",
        "            for inputs, labels in dataloaders[phase]:\n",
        "                # Prepare the inputs for GPU/CPU\n",
        "                inputs = inputs.to(device)\n",
        "                labels = labels.to(device)\n",
        "\n",
        "                # zero the parameter gradients\n",
        "                optimizer.zero_grad()\n",
        "\n",
        "                # ===== forward pass ======\n",
        "                with torch.set_grad_enabled(phase=='train'):\n",
        "                    # If we're in train mode, we'll track the gradients to allow back-propagation\n",
        "                    outputs = model(inputs) # apply the model to the inputs. The output is the softmax probability of each class\n",
        "                    _, preds = torch.max(outputs, 1) # \n",
        "                    loss = criterion(outputs, labels.long())\n",
        "\n",
        "                    # ==== backward pass + optimizer step ====\n",
        "                    # This runs only in the training phase\n",
        "                    if phase == 'train':\n",
        "                        loss.backward() # Perform a step in the opposite direction of the gradient\n",
        "                        optimizer.step() # Adapt the optimizer\n",
        "\n",
        "                # Collect statistics\n",
        "                running_loss += loss.item() * inputs.size(0)\n",
        "                running_corrects += torch.sum(preds == labels.data)\n",
        "                \n",
        "            if phase == 'train':\n",
        "                # Adjust the learning rate based on the scheduler\n",
        "                scheduler.step()  \n",
        "\n",
        "            epoch_loss = running_loss / dataset_sizes[phase]\n",
        "            epoch_acc = running_corrects.double() / dataset_sizes[phase]\n",
        "\n",
        "            print(f'{phase} Loss: {epoch_loss:.4f} Acc: {epoch_acc:.4f}')\n",
        "\n",
        "            # Keep the results of the best model so far\n",
        "            if phase == 'val' and epoch_acc > best_acc:\n",
        "                best_acc = epoch_acc\n",
        "                # deepcopy the model\n",
        "                best_model_wts = copy.deepcopy(model.state_dict())\n",
        "\n",
        "        print()\n",
        "\n",
        "    time_elapsed = time.time() - since\n",
        "    print(f'Training complete in {(time_elapsed // 60):.0f}m {(time_elapsed % 60):.0f}s')\n",
        "    print(f'Best val Acc: {best_acc:4f}')\n",
        "\n",
        "    # load best model weights\n",
        "    model.load_state_dict(best_model_wts)\n",
        "    return model"
      ],
      "execution_count": 54,
      "outputs": []
    },
    {
      "cell_type": "code",
      "metadata": {
        "id": "BKfmlDhawtOS"
      },
      "source": [
        "net = net.to(device)\n",
        "optimizer = optim.Adam(net.parameters())\n",
        "criterion = nn.CrossEntropyLoss()\n",
        "exp_lr_scheduler = lr_scheduler.StepLR(optimizer, step_size=7, gamma=0.1)"
      ],
      "execution_count": 55,
      "outputs": []
    },
    {
      "cell_type": "code",
      "metadata": {
        "colab": {
          "base_uri": "https://localhost:8080/"
        },
        "id": "VaBnlmfVxIQ8",
        "outputId": "aa28bd1e-82a7-41d5-894b-e919155ed0af"
      },
      "source": [
        "model = train_model(net, \n",
        "                    dataloaders,\n",
        "                       criterion, \n",
        "                       optimizer, \n",
        "                       exp_lr_scheduler,\n",
        "                       num_epochs=max_epochs)"
      ],
      "execution_count": 56,
      "outputs": [
        {
          "output_type": "stream",
          "text": [
            "Epoch 0/19\n",
            "----------\n"
          ],
          "name": "stdout"
        },
        {
          "output_type": "stream",
          "text": [
            "/usr/local/lib/python3.7/dist-packages/torch/utils/data/dataloader.py:477: UserWarning: This DataLoader will create 4 worker processes in total. Our suggested max number of worker in current system is 2, which is smaller than what this DataLoader is going to create. Please be aware that excessive worker creation might get DataLoader running slow or even freeze, lower the worker number to avoid potential slowness/freeze if necessary.\n",
            "  cpuset_checked))\n"
          ],
          "name": "stderr"
        },
        {
          "output_type": "stream",
          "text": [
            "train Loss: 1.4997 Acc: 0.3791\n",
            "val Loss: 1.4745 Acc: 0.4003\n",
            "\n",
            "Epoch 1/19\n",
            "----------\n",
            "train Loss: 1.4591 Acc: 0.4336\n",
            "val Loss: 1.4562 Acc: 0.4352\n",
            "\n",
            "Epoch 2/19\n",
            "----------\n",
            "train Loss: 1.4428 Acc: 0.4516\n",
            "val Loss: 1.4427 Acc: 0.4467\n",
            "\n",
            "Epoch 3/19\n",
            "----------\n",
            "train Loss: 1.4295 Acc: 0.4647\n",
            "val Loss: 1.4348 Acc: 0.4527\n",
            "\n",
            "Epoch 4/19\n",
            "----------\n",
            "train Loss: 1.4187 Acc: 0.4767\n",
            "val Loss: 1.4341 Acc: 0.4533\n",
            "\n",
            "Epoch 5/19\n",
            "----------\n",
            "train Loss: 1.4093 Acc: 0.4863\n",
            "val Loss: 1.4294 Acc: 0.4571\n",
            "\n",
            "Epoch 6/19\n",
            "----------\n",
            "train Loss: 1.4012 Acc: 0.4963\n",
            "val Loss: 1.4233 Acc: 0.4649\n",
            "\n",
            "Epoch 7/19\n",
            "----------\n",
            "train Loss: 1.3844 Acc: 0.5206\n",
            "val Loss: 1.4180 Acc: 0.4699\n",
            "\n",
            "Epoch 8/19\n",
            "----------\n",
            "train Loss: 1.3801 Acc: 0.5274\n",
            "val Loss: 1.4177 Acc: 0.4696\n",
            "\n",
            "Epoch 9/19\n",
            "----------\n",
            "train Loss: 1.3773 Acc: 0.5307\n",
            "val Loss: 1.4172 Acc: 0.4712\n",
            "\n",
            "Epoch 10/19\n",
            "----------\n",
            "train Loss: 1.3750 Acc: 0.5352\n",
            "val Loss: 1.4172 Acc: 0.4696\n",
            "\n",
            "Epoch 11/19\n",
            "----------\n",
            "train Loss: 1.3730 Acc: 0.5367\n",
            "val Loss: 1.4163 Acc: 0.4723\n",
            "\n",
            "Epoch 12/19\n",
            "----------\n",
            "train Loss: 1.3713 Acc: 0.5393\n",
            "val Loss: 1.4166 Acc: 0.4712\n",
            "\n",
            "Epoch 13/19\n",
            "----------\n",
            "train Loss: 1.3696 Acc: 0.5413\n",
            "val Loss: 1.4162 Acc: 0.4716\n",
            "\n",
            "Epoch 14/19\n",
            "----------\n",
            "train Loss: 1.3664 Acc: 0.5464\n",
            "val Loss: 1.4159 Acc: 0.4729\n",
            "\n",
            "Epoch 15/19\n",
            "----------\n",
            "train Loss: 1.3662 Acc: 0.5462\n",
            "val Loss: 1.4158 Acc: 0.4733\n",
            "\n",
            "Epoch 16/19\n",
            "----------\n",
            "train Loss: 1.3660 Acc: 0.5466\n",
            "val Loss: 1.4158 Acc: 0.4728\n",
            "\n",
            "Epoch 17/19\n",
            "----------\n",
            "train Loss: 1.3658 Acc: 0.5467\n",
            "val Loss: 1.4158 Acc: 0.4725\n",
            "\n",
            "Epoch 18/19\n",
            "----------\n",
            "train Loss: 1.3656 Acc: 0.5463\n",
            "val Loss: 1.4159 Acc: 0.4722\n",
            "\n",
            "Epoch 19/19\n",
            "----------\n",
            "train Loss: 1.3654 Acc: 0.5470\n",
            "val Loss: 1.4158 Acc: 0.4733\n",
            "\n",
            "Training complete in 89m 5s\n",
            "Best val Acc: 0.473289\n"
          ],
          "name": "stdout"
        }
      ]
    },
    {
      "cell_type": "code",
      "metadata": {
        "id": "HCGAwgf6HMuT"
      },
      "source": [
        "def get_predictions(model, data_loader):\n",
        "    model.eval()\n",
        "    predictions = []\n",
        "    real_values = []\n",
        "  \n",
        "    with torch.no_grad():\n",
        "    \n",
        "        for inputs, labels in data_loader:\n",
        "            inputs = inputs.to(device)\n",
        "            labels = labels.to(device)\n",
        "            outputs = net(inputs)\n",
        "            _, preds = torch.max(outputs, 1)\n",
        "            predictions.extend(preds)\n",
        "            real_values.extend(labels)\n",
        "  \n",
        "    predictions = torch.as_tensor(predictions).cpu()\n",
        "    real_values = torch.as_tensor(real_values).cpu()\n",
        "    return predictions, real_values"
      ],
      "execution_count": 58,
      "outputs": []
    },
    {
      "cell_type": "code",
      "metadata": {
        "colab": {
          "base_uri": "https://localhost:8080/"
        },
        "id": "nJDbZJU4HSbU",
        "outputId": "eb562fbf-d2cf-4532-8d0e-051a6271a576"
      },
      "source": [
        "y_pred, y_test = get_predictions(net, dataloaders['val'])\n",
        "print(classification_report(y_test, y_pred, target_names=labels_names))"
      ],
      "execution_count": 59,
      "outputs": [
        {
          "output_type": "stream",
          "text": [
            "/usr/local/lib/python3.7/dist-packages/torch/utils/data/dataloader.py:477: UserWarning: This DataLoader will create 4 worker processes in total. Our suggested max number of worker in current system is 2, which is smaller than what this DataLoader is going to create. Please be aware that excessive worker creation might get DataLoader running slow or even freeze, lower the worker number to avoid potential slowness/freeze if necessary.\n",
            "  cpuset_checked))\n"
          ],
          "name": "stderr"
        },
        {
          "output_type": "stream",
          "text": [
            "              precision    recall  f1-score   support\n",
            "\n",
            "     Country       0.37      0.09      0.15      1656\n",
            "     Hip-Hop       0.72      0.77      0.74      1917\n",
            "       Metal       0.51      0.60      0.55      1828\n",
            "         Pop       0.42      0.42      0.42      2214\n",
            "        Rock       0.34      0.45      0.39      2381\n",
            "\n",
            "    accuracy                           0.47      9996\n",
            "   macro avg       0.47      0.47      0.45      9996\n",
            "weighted avg       0.47      0.47      0.45      9996\n",
            "\n"
          ],
          "name": "stdout"
        }
      ]
    },
    {
      "cell_type": "code",
      "metadata": {
        "id": "2fMkqbhYH7wj"
      },
      "source": [
        "def plot_confusion_matrix_net(cm, classes, title='Confusion matrix', cmap=plt.cm.Blues):\n",
        "    plt.figure(figsize=(10,10))\n",
        "    plt.imshow(cm, interpolation='nearest', cmap=cmap)\n",
        "    plt.title(title)\n",
        "    plt.colorbar()\n",
        "    tick_marks = np.arange(len(classes))\n",
        "    plt.xticks(tick_marks, classes, rotation=-45)\n",
        "    plt.yticks(tick_marks, classes)\n",
        "\n",
        "    fmt = '.0f'\n",
        "    thresh = cm.max() / 2.\n",
        "    for i, j in itertools.product(range(cm.shape[0]), range(cm.shape[1])):\n",
        "        plt.text(j, i, format(cm[i, j], fmt), horizontalalignment=\"center\", color=\"white\" if cm[i, j] > thresh else \"black\")\n",
        "\n",
        "    plt.tight_layout()\n",
        "    plt.ylabel('True label')\n",
        "    plt.xlabel('Predicted label')"
      ],
      "execution_count": 62,
      "outputs": []
    },
    {
      "cell_type": "code",
      "metadata": {
        "colab": {
          "base_uri": "https://localhost:8080/",
          "height": 784
        },
        "id": "M4SPuDvBH80G",
        "outputId": "e53dfe0c-0d22-4c24-8277-9ebb3bfe1c9f"
      },
      "source": [
        "confusion_matrix = torch.zeros(NUM_CLASSES, NUM_CLASSES)\n",
        "with torch.no_grad():\n",
        "    for i, (inputs, classes) in enumerate(dataloaders['val']):\n",
        "        inputs = inputs.to(device)\n",
        "        classes = classes.to(device)\n",
        "        outputs = net(inputs)\n",
        "        _, preds = torch.max(outputs, 1)\n",
        "        for t, p in zip(classes.view(-1), preds.view(-1)):\n",
        "                confusion_matrix[t.long(), p.long()] += 1\n",
        "\n",
        "plot_confusion_matrix_net(cm=confusion_matrix,classes=labels_names)"
      ],
      "execution_count": 63,
      "outputs": [
        {
          "output_type": "stream",
          "text": [
            "/usr/local/lib/python3.7/dist-packages/torch/utils/data/dataloader.py:477: UserWarning: This DataLoader will create 4 worker processes in total. Our suggested max number of worker in current system is 2, which is smaller than what this DataLoader is going to create. Please be aware that excessive worker creation might get DataLoader running slow or even freeze, lower the worker number to avoid potential slowness/freeze if necessary.\n",
            "  cpuset_checked))\n"
          ],
          "name": "stderr"
        },
        {
          "output_type": "display_data",
          "data": {
            "image/png": "[encoded data removed]",
            "text/plain": [
              "<Figure size 720x720 with 2 Axes>"
            ]
          },
          "metadata": {
            "tags": [],
            "needs_background": "light"
          }
        }
      ]
    }
  ]
}
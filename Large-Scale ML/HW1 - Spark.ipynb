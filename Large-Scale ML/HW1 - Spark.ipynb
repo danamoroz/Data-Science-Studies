{
 "cells": [
  {
   "cell_type": "code",
   "execution_count": 1,
   "metadata": {
    "id": "u0Tv3jKe4syG"
   },
   "outputs": [],
   "source": [
    "# Dana Rozenblum & Efrat Magidov\n",
    "\n",
    "# Checklist:\n",
    "# AWS emr-5.29.0\n",
    "# MASTER r5d.2xlarge 1x, no EBS\n",
    "# CORE r5d.2xlarge 2x, no EBS\n",
    "# Custom bootstrap action: s3://ydatazian/bootstrap.sh\n",
    "# Allow ssh in master node security group"
   ]
  },
  {
   "cell_type": "code",
   "execution_count": 2,
   "metadata": {
    "id": "CGHGHkqE4rJw",
    "scrolled": false
   },
   "outputs": [],
   "source": [
    "import tqdm.notebook as tqdm\n",
    "import numpy as np\n",
    "import scipy\n",
    "import sklearn"
   ]
  },
  {
   "cell_type": "markdown",
   "metadata": {
    "id": "3duPlU1fjxPz"
   },
   "source": [
    "# Spark"
   ]
  },
  {
   "cell_type": "code",
   "execution_count": 3,
   "metadata": {
    "id": "u566smRWkDOS"
   },
   "outputs": [
    {
     "name": "stdout",
     "output_type": "stream",
     "text": [
      "NameNode: http://ec2-44-192-126-69.compute-1.amazonaws.com:50070\n",
      "YARN: http://ec2-44-192-126-69.compute-1.amazonaws.com:8088\n",
      "Spark UI: http://ec2-44-192-126-69.compute-1.amazonaws.com:20888/proxy/application_1622111155906_0002\n"
     ]
    }
   ],
   "source": [
    "# connect, context, session\n",
    "\n",
    "import findspark\n",
    "findspark.init()\n",
    "\n",
    "import spark_utils\n",
    "from pyspark import SparkContext, SparkConf\n",
    "from pyspark.sql import SparkSession\n",
    "sc = SparkContext(\"yarn\", \"My App\", conf=spark_utils.get_spark_conf())\n",
    "\n",
    "spark_utils.print_ui_links()\n"
   ]
  },
  {
   "cell_type": "code",
   "execution_count": 4,
   "metadata": {
    "id": "BxHvUF7qpEHO"
   },
   "outputs": [],
   "source": [
    "se = SparkSession(sc)"
   ]
  },
  {
   "cell_type": "markdown",
   "metadata": {
    "id": "c1NJypwklF_Z"
   },
   "source": [
    "## Outbrain click prediction dataseet"
   ]
  },
  {
   "cell_type": "markdown",
   "metadata": {
    "id": "twX4Yeez5Loj"
   },
   "source": [
    "https://www.kaggle.com/c/outbrain-click-prediction/data"
   ]
  },
  {
   "cell_type": "markdown",
   "metadata": {
    "id": "lXkum5Ay5DID"
   },
   "source": [
    "### AWS S3"
   ]
  },
  {
   "cell_type": "code",
   "execution_count": 5,
   "metadata": {
    "id": "j4FsSCqe5CvG"
   },
   "outputs": [
    {
     "name": "stdout",
     "output_type": "stream",
     "text": [
      "                           PRE week1/\r\n",
      "2021-05-21 04:09:44       1874 bootstrap.sh\r\n",
      "2021-05-13 21:20:22  176843889 clicks_test.parquet\r\n",
      "2021-05-13 21:20:22  495815517 clicks_train.parquet\r\n",
      "2021-05-13 21:21:58   34267065 documents_categories.parquet\r\n",
      "2021-05-13 21:21:58  206455957 documents_entities.parquet\r\n",
      "2021-05-13 21:21:58   23859965 documents_meta.parquet\r\n",
      "2021-05-13 21:21:58  187410196 documents_topics.parquet\r\n",
      "2021-05-13 21:21:58  734643471 events.parquet\r\n",
      "2021-05-13 21:56:44 50764611872 page_views.parquet\r\n",
      "2021-05-13 21:21:58  248421413 page_views_sample.parquet\r\n",
      "2021-05-13 21:21:59    5116927 promoted_content.parquet\r\n",
      "2021-05-13 21:21:58  273136709 sample_submission.csv\r\n"
     ]
    }
   ],
   "source": [
    "! aws s3 ls s3://ydatazian"
   ]
  },
  {
   "cell_type": "code",
   "execution_count": 6,
   "metadata": {
    "id": "lUkB7pVjmnAB"
   },
   "outputs": [
    {
     "data": {
      "application/vnd.jupyter.widget-view+json": {
       "model_id": "3d9b600d8fe54a15b58a309530ad3d9a",
       "version_major": 2,
       "version_minor": 0
      },
      "text/plain": [
       "  0%|          | 0/10 [00:00<?, ?it/s]"
      ]
     },
     "metadata": {},
     "output_type": "display_data"
    },
    {
     "name": "stdout",
     "output_type": "stream",
     "text": [
      "clicks_test\n",
      "+----------+------+\n",
      "|display_id| ad_id|\n",
      "+----------+------+\n",
      "|  16874594| 66758|\n",
      "|  16874594|150083|\n",
      "|  16874594|162754|\n",
      "+----------+------+\n",
      "\n",
      "clicks_train\n",
      "+----------+------+-------+\n",
      "|display_id| ad_id|clicked|\n",
      "+----------+------+-------+\n",
      "|         1| 42337|      0|\n",
      "|         1|139684|      0|\n",
      "|         1|144739|      1|\n",
      "+----------+------+-------+\n",
      "\n",
      "documents_categories\n",
      "+-----------+-----------+----------------+\n",
      "|document_id|category_id|confidence_level|\n",
      "+-----------+-----------+----------------+\n",
      "|    1595802|       1611|            0.92|\n",
      "|    1595802|       1610|            0.07|\n",
      "|    1524246|       1807|            0.92|\n",
      "+-----------+-----------+----------------+\n",
      "\n",
      "documents_entities\n",
      "+-----------+--------------------+-----------------+\n",
      "|document_id|           entity_id| confidence_level|\n",
      "+-----------+--------------------+-----------------+\n",
      "|    1524246|f9eec25663db4cd83...|0.672865314504701|\n",
      "|    1524246|55ebcfbdaff1d6f60...|0.399113728441297|\n",
      "|    1524246|839907a972930b17b...|0.392095749652966|\n",
      "+-----------+--------------------+-----------------+\n",
      "\n",
      "documents_meta\n",
      "+-----------+---------+------------+-------------------+\n",
      "|document_id|source_id|publisher_id|       publish_time|\n",
      "+-----------+---------+------------+-------------------+\n",
      "|    1595802|        1|         603|2016-06-05 00:00:00|\n",
      "|    1524246|        1|         603|2016-05-26 11:00:00|\n",
      "|    1617787|        1|         603|2016-05-27 00:00:00|\n",
      "+-----------+---------+------------+-------------------+\n",
      "\n",
      "documents_topics\n",
      "+-----------+--------+------------------+\n",
      "|document_id|topic_id|  confidence_level|\n",
      "+-----------+--------+------------------+\n",
      "|    1595802|     140|0.0731131601068925|\n",
      "|    1595802|      16|0.0594164867373976|\n",
      "|    1595802|     143|0.0454207537554526|\n",
      "+-----------+--------+------------------+\n",
      "\n",
      "events\n",
      "+----------+--------------+-----------+---------+--------+------------+\n",
      "|display_id|          uuid|document_id|timestamp|platform|geo_location|\n",
      "+----------+--------------+-----------+---------+--------+------------+\n",
      "|         1|cb8c55702adb93|     379743|       61|       3|   US>SC>519|\n",
      "|         2|79a85fa78311b9|    1794259|       81|       2|   US>CA>807|\n",
      "|         3|822932ce3d8757|    1179111|      182|       2|   US>MI>505|\n",
      "+----------+--------------+-----------+---------+--------+------------+\n",
      "\n",
      "page_views\n",
      "+--------------+-----------+---------+--------+------------+--------------+\n",
      "|          uuid|document_id|timestamp|platform|geo_location|traffic_source|\n",
      "+--------------+-----------+---------+--------+------------+--------------+\n",
      "|1fd5f051fba643|        120| 31905835|       1|          RS|             2|\n",
      "|8557aa9004be3b|        120| 32053104|       1|       VN>44|             2|\n",
      "|c351b277a358f0|        120| 54013023|       1|       KR>12|             1|\n",
      "+--------------+-----------+---------+--------+------------+--------------+\n",
      "\n",
      "page_views_sample\n",
      "+--------------+-----------+---------+--------+------------+--------------+\n",
      "|          uuid|document_id|timestamp|platform|geo_location|traffic_source|\n",
      "+--------------+-----------+---------+--------+------------+--------------+\n",
      "|1fd5f051fba643|        120| 31905835|       1|          RS|             2|\n",
      "|8557aa9004be3b|        120| 32053104|       1|       VN>44|             2|\n",
      "|c351b277a358f0|        120| 54013023|       1|       KR>12|             1|\n",
      "+--------------+-----------+---------+--------+------------+--------------+\n",
      "\n",
      "promoted_content\n",
      "+-----+-----------+-----------+-------------+\n",
      "|ad_id|document_id|campaign_id|advertiser_id|\n",
      "+-----+-----------+-----------+-------------+\n",
      "|    1|       6614|          1|            7|\n",
      "|    2|     471467|          2|            7|\n",
      "|    3|       7692|          3|            7|\n",
      "+-----+-----------+-----------+-------------+\n",
      "\n"
     ]
    }
   ],
   "source": [
    "from IPython.display import display\n",
    "tables = [\"clicks_test\",\n",
    "          \"clicks_train\", \n",
    "          \"documents_categories\",\n",
    "          \"documents_entities\",\n",
    "          \"documents_meta\",\n",
    "          \"documents_topics\", \n",
    "          \"events\",\n",
    "          \"page_views\",\n",
    "          \"page_views_sample\",\n",
    "          \"promoted_content\"]\n",
    "for name in tqdm.tqdm(tables):\n",
    "    df = se.read.parquet(\"s3://ydatazian/{}.parquet\".format(name))\n",
    "    df.registerTempTable(name)\n",
    "    print(name)\n",
    "    df.limit(3).show()"
   ]
  },
  {
   "cell_type": "code",
   "execution_count": 7,
   "metadata": {
    "id": "dyN3IF_LmnCZ",
    "scrolled": true
   },
   "outputs": [
    {
     "name": "stdout",
     "output_type": "stream",
     "text": [
      "DataFrame[uuid: string, document_id: string, timestamp: string, platform: string, geo_location: string, traffic_source: string]\n",
      "+--------------+-----------+---------+--------+------------+--------------+\n",
      "|          uuid|document_id|timestamp|platform|geo_location|traffic_source|\n",
      "+--------------+-----------+---------+--------+------------+--------------+\n",
      "|1fd5f051fba643|        120| 31905835|       1|          RS|             2|\n",
      "|8557aa9004be3b|        120| 32053104|       1|       VN>44|             2|\n",
      "|c351b277a358f0|        120| 54013023|       1|       KR>12|             1|\n",
      "|8205775c5387f9|        120| 44196592|       1|       IN>16|             2|\n",
      "|9cb0ccd8458371|        120| 65817371|       1|   US>CA>807|             2|\n",
      "+--------------+-----------+---------+--------+------------+--------------+\n",
      "only showing top 5 rows\n",
      "\n"
     ]
    }
   ],
   "source": [
    "page_views = se.table(\"page_views\")\n",
    "print(page_views)\n",
    "page_views.show(5)"
   ]
  },
  {
   "cell_type": "markdown",
   "metadata": {
    "id": "hK93Ci6Rj51c"
   },
   "source": [
    "## HW"
   ]
  },
  {
   "cell_type": "markdown",
   "metadata": {
    "id": "7Jf8VBI-j530"
   },
   "source": [
    "Dataset: outbrain click prediction\n",
    "\n",
    "Tasks:\n",
    "using Spark RDD, DataFrame API and Python, complete following tasks:\n",
    "\n",
    "**1 (1 point)**. Find 10 most visited document_ids in page_views log\n",
    "\n",
    "**2 (1 point)**. Find out how many users have at least two different traffic_sources in their page_views log\n",
    "\n",
    "**3* (1 additional point)**. Find 10 most visited topic_ids in page_views log (use documents_topics table)"
   ]
  },
  {
   "cell_type": "code",
   "execution_count": 8,
   "metadata": {
    "id": "ZqXylvo5kJa-"
   },
   "outputs": [
    {
     "name": "stdout",
     "output_type": "stream",
     "text": [
      "+-----------+--------+\n",
      "|document_id|   count|\n",
      "+-----------+--------+\n",
      "|    1179111|26688981|\n",
      "|     394689|10454691|\n",
      "|       2191| 5044391|\n",
      "|       7054| 4996916|\n",
      "|      38922| 4930261|\n",
      "|    1154100| 4610780|\n",
      "|     357569| 4046253|\n",
      "|    1827718| 3046274|\n",
      "|        234| 2359994|\n",
      "|     467462| 2328065|\n",
      "+-----------+--------+\n",
      "\n"
     ]
    }
   ],
   "source": [
    "# 1 (1 point). Find 10 most visited document_ids in page_views log\n",
    "\n",
    "page_views_df = se.read.parquet(\"s3://ydatazian/{}.parquet\".format(\"page_views\"))\n",
    "\n",
    "(\n",
    "    page_views_df\n",
    "      .groupby('document_id')\n",
    "      .count()\n",
    "      .orderBy('count', ascending=False)\n",
    "      .select(['document_id', 'count'])\n",
    "      .limit(10)\n",
    "      .show()\n",
    ")"
   ]
  },
  {
   "cell_type": "code",
   "execution_count": 11,
   "metadata": {},
   "outputs": [
    {
     "data": {
      "text/plain": [
       "93342305"
      ]
     },
     "execution_count": 11,
     "metadata": {},
     "output_type": "execute_result"
    }
   ],
   "source": [
    "# 2 (1 point). Find out how many users have at least two different traffic_sources in their page_views log\n",
    "\n",
    "from pyspark.sql import functions as F\n",
    "\n",
    "different = (\n",
    "    page_views_df\n",
    "      .groupby('uuid')\n",
    "      .agg(F.countDistinct(\"traffic_source\").alias('count'))\n",
    "      .filter('count > 1')\n",
    ")\n",
    "different.count()"
   ]
  },
  {
   "cell_type": "code",
   "execution_count": 12,
   "metadata": {},
   "outputs": [
    {
     "name": "stdout",
     "output_type": "stream",
     "text": [
      "+--------+---------+\n",
      "|topic_id|    count|\n",
      "+--------+---------+\n",
      "|      16|226580657|\n",
      "|     140|175020525|\n",
      "|      20|171010359|\n",
      "|     143|153101583|\n",
      "|     136|137553975|\n",
      "|     216|109567943|\n",
      "|       8|105683622|\n",
      "|     160| 99645579|\n",
      "|     181| 98421838|\n",
      "|      97| 90551102|\n",
      "+--------+---------+\n",
      "\n"
     ]
    }
   ],
   "source": [
    "# 3* (1 additional point). Find 10 most visited topic_ids in page_views log (use documents_topics table)\n",
    "\n",
    "documents_topics_df = se.read.parquet(\"s3://ydatazian/{}.parquet\".format(\"documents_topics\"))\n",
    "\n",
    "(\n",
    "    page_views_df\n",
    "      .join(documents_topics_df, page_views_df.document_id == documents_topics_df.document_id)\n",
    "      .groupby(documents_topics_df.topic_id)\n",
    "      .count()\n",
    "      .orderBy('count', ascending=False)\n",
    "      .select(['topic_id', 'count'])\n",
    "      .limit(10)\n",
    "      .show()\n",
    ")"
   ]
  }
 ],
 "metadata": {
  "colab": {
   "collapsed_sections": [],
   "name": "spark_seminar (1).ipynb",
   "provenance": []
  },
  "kernelspec": {
   "display_name": "Python 3",
   "language": "python",
   "name": "python3"
  },
  "language_info": {
   "codemirror_mode": {
    "name": "ipython",
    "version": 3
   },
   "file_extension": ".py",
   "mimetype": "text/x-python",
   "name": "python",
   "nbconvert_exporter": "python",
   "pygments_lexer": "ipython3",
   "version": "3.8.3"
  }
 },
 "nbformat": 4,
 "nbformat_minor": 1
}

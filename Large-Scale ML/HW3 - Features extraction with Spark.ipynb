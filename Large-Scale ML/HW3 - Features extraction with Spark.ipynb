{
 "cells": [
  {
   "cell_type": "code",
   "execution_count": 1,
   "metadata": {},
   "outputs": [],
   "source": [
    "# Dana Rozenblum & Efrat Magidov\n",
    "\n",
    "# Checklist:\n",
    "# AWS emr-5.29.0\n",
    "# MASTER r5d.8xlarge 1x, no EBS\n",
    "# CORE r5d.8xlarge 4x, no EBS\n",
    "# Custom bootstrap action: s3://ydatazian/bootstrap.sh\n",
    "# Allow ssh in master node security group"
   ]
  },
  {
   "cell_type": "code",
   "execution_count": 1,
   "metadata": {},
   "outputs": [],
   "source": [
    "import tqdm.notebook as tqdm\n",
    "import numpy as np\n",
    "import scipy\n",
    "import sklearn\n",
    "import matplotlib.pyplot as plt"
   ]
  },
  {
   "cell_type": "markdown",
   "metadata": {},
   "source": [
    "# SparkSession\n",
    "\n",
    "https://spark.apache.org/docs/2.4.4/api/python/pyspark.html\n",
    "\n",
    "https://spark.apache.org/docs/2.4.4/api/python/pyspark.sql.html"
   ]
  },
  {
   "cell_type": "code",
   "execution_count": 2,
   "metadata": {
    "scrolled": true
   },
   "outputs": [
    {
     "name": "stdout",
     "output_type": "stream",
     "text": [
      "NameNode: http://ec2-3-236-176-16.compute-1.amazonaws.com:50070\n",
      "YARN: http://ec2-3-236-176-16.compute-1.amazonaws.com:8088\n",
      "Spark UI: http://ec2-3-236-176-16.compute-1.amazonaws.com:20888/proxy/application_1624340242866_0001\n"
     ]
    }
   ],
   "source": [
    "import findspark\n",
    "findspark.init()\n",
    "\n",
    "import spark_utils\n",
    "from pyspark import SparkContext, SparkConf\n",
    "from pyspark.sql import SparkSession\n",
    "sc = SparkContext(\"yarn\", \"My App\", conf=spark_utils.get_spark_conf())\n",
    "se = SparkSession(sc)\n",
    "spark_utils.print_ui_links()"
   ]
  },
  {
   "cell_type": "markdown",
   "metadata": {},
   "source": [
    "# Register all tables for sql queries"
   ]
  },
  {
   "cell_type": "code",
   "execution_count": 3,
   "metadata": {},
   "outputs": [
    {
     "data": {
      "application/vnd.jupyter.widget-view+json": {
       "model_id": "494deeba467d4a3f8f62cdb5de3d560b",
       "version_major": 2,
       "version_minor": 0
      },
      "text/plain": [
       "  0%|          | 0/10 [00:00<?, ?it/s]"
      ]
     },
     "metadata": {},
     "output_type": "display_data"
    },
    {
     "name": "stdout",
     "output_type": "stream",
     "text": [
      "clicks_test\n"
     ]
    },
    {
     "data": {
      "text/html": [
       "<div>\n",
       "<style scoped>\n",
       "    .dataframe tbody tr th:only-of-type {\n",
       "        vertical-align: middle;\n",
       "    }\n",
       "\n",
       "    .dataframe tbody tr th {\n",
       "        vertical-align: top;\n",
       "    }\n",
       "\n",
       "    .dataframe thead th {\n",
       "        text-align: right;\n",
       "    }\n",
       "</style>\n",
       "<table border=\"1\" class=\"dataframe\">\n",
       "  <thead>\n",
       "    <tr style=\"text-align: right;\">\n",
       "      <th></th>\n",
       "      <th>display_id</th>\n",
       "      <th>ad_id</th>\n",
       "    </tr>\n",
       "  </thead>\n",
       "  <tbody>\n",
       "    <tr>\n",
       "      <th>0</th>\n",
       "      <td>16874594</td>\n",
       "      <td>66758</td>\n",
       "    </tr>\n",
       "    <tr>\n",
       "      <th>1</th>\n",
       "      <td>16874594</td>\n",
       "      <td>150083</td>\n",
       "    </tr>\n",
       "    <tr>\n",
       "      <th>2</th>\n",
       "      <td>16874594</td>\n",
       "      <td>162754</td>\n",
       "    </tr>\n",
       "  </tbody>\n",
       "</table>\n",
       "</div>"
      ],
      "text/plain": [
       "  display_id   ad_id\n",
       "0   16874594   66758\n",
       "1   16874594  150083\n",
       "2   16874594  162754"
      ]
     },
     "metadata": {},
     "output_type": "display_data"
    },
    {
     "name": "stdout",
     "output_type": "stream",
     "text": [
      "clicks_train\n"
     ]
    },
    {
     "data": {
      "text/html": [
       "<div>\n",
       "<style scoped>\n",
       "    .dataframe tbody tr th:only-of-type {\n",
       "        vertical-align: middle;\n",
       "    }\n",
       "\n",
       "    .dataframe tbody tr th {\n",
       "        vertical-align: top;\n",
       "    }\n",
       "\n",
       "    .dataframe thead th {\n",
       "        text-align: right;\n",
       "    }\n",
       "</style>\n",
       "<table border=\"1\" class=\"dataframe\">\n",
       "  <thead>\n",
       "    <tr style=\"text-align: right;\">\n",
       "      <th></th>\n",
       "      <th>display_id</th>\n",
       "      <th>ad_id</th>\n",
       "      <th>clicked</th>\n",
       "    </tr>\n",
       "  </thead>\n",
       "  <tbody>\n",
       "    <tr>\n",
       "      <th>0</th>\n",
       "      <td>1</td>\n",
       "      <td>42337</td>\n",
       "      <td>0</td>\n",
       "    </tr>\n",
       "    <tr>\n",
       "      <th>1</th>\n",
       "      <td>1</td>\n",
       "      <td>139684</td>\n",
       "      <td>0</td>\n",
       "    </tr>\n",
       "    <tr>\n",
       "      <th>2</th>\n",
       "      <td>1</td>\n",
       "      <td>144739</td>\n",
       "      <td>1</td>\n",
       "    </tr>\n",
       "  </tbody>\n",
       "</table>\n",
       "</div>"
      ],
      "text/plain": [
       "  display_id   ad_id clicked\n",
       "0          1   42337       0\n",
       "1          1  139684       0\n",
       "2          1  144739       1"
      ]
     },
     "metadata": {},
     "output_type": "display_data"
    },
    {
     "name": "stdout",
     "output_type": "stream",
     "text": [
      "documents_categories\n"
     ]
    },
    {
     "data": {
      "text/html": [
       "<div>\n",
       "<style scoped>\n",
       "    .dataframe tbody tr th:only-of-type {\n",
       "        vertical-align: middle;\n",
       "    }\n",
       "\n",
       "    .dataframe tbody tr th {\n",
       "        vertical-align: top;\n",
       "    }\n",
       "\n",
       "    .dataframe thead th {\n",
       "        text-align: right;\n",
       "    }\n",
       "</style>\n",
       "<table border=\"1\" class=\"dataframe\">\n",
       "  <thead>\n",
       "    <tr style=\"text-align: right;\">\n",
       "      <th></th>\n",
       "      <th>document_id</th>\n",
       "      <th>category_id</th>\n",
       "      <th>confidence_level</th>\n",
       "    </tr>\n",
       "  </thead>\n",
       "  <tbody>\n",
       "    <tr>\n",
       "      <th>0</th>\n",
       "      <td>1595802</td>\n",
       "      <td>1611</td>\n",
       "      <td>0.92</td>\n",
       "    </tr>\n",
       "    <tr>\n",
       "      <th>1</th>\n",
       "      <td>1595802</td>\n",
       "      <td>1610</td>\n",
       "      <td>0.07</td>\n",
       "    </tr>\n",
       "    <tr>\n",
       "      <th>2</th>\n",
       "      <td>1524246</td>\n",
       "      <td>1807</td>\n",
       "      <td>0.92</td>\n",
       "    </tr>\n",
       "  </tbody>\n",
       "</table>\n",
       "</div>"
      ],
      "text/plain": [
       "  document_id category_id confidence_level\n",
       "0     1595802        1611             0.92\n",
       "1     1595802        1610             0.07\n",
       "2     1524246        1807             0.92"
      ]
     },
     "metadata": {},
     "output_type": "display_data"
    },
    {
     "name": "stdout",
     "output_type": "stream",
     "text": [
      "documents_entities\n"
     ]
    },
    {
     "data": {
      "text/html": [
       "<div>\n",
       "<style scoped>\n",
       "    .dataframe tbody tr th:only-of-type {\n",
       "        vertical-align: middle;\n",
       "    }\n",
       "\n",
       "    .dataframe tbody tr th {\n",
       "        vertical-align: top;\n",
       "    }\n",
       "\n",
       "    .dataframe thead th {\n",
       "        text-align: right;\n",
       "    }\n",
       "</style>\n",
       "<table border=\"1\" class=\"dataframe\">\n",
       "  <thead>\n",
       "    <tr style=\"text-align: right;\">\n",
       "      <th></th>\n",
       "      <th>document_id</th>\n",
       "      <th>entity_id</th>\n",
       "      <th>confidence_level</th>\n",
       "    </tr>\n",
       "  </thead>\n",
       "  <tbody>\n",
       "    <tr>\n",
       "      <th>0</th>\n",
       "      <td>1524246</td>\n",
       "      <td>f9eec25663db4cd83183f5c805186f16</td>\n",
       "      <td>0.672865314504701</td>\n",
       "    </tr>\n",
       "    <tr>\n",
       "      <th>1</th>\n",
       "      <td>1524246</td>\n",
       "      <td>55ebcfbdaff1d6f60b3907151f38527a</td>\n",
       "      <td>0.399113728441297</td>\n",
       "    </tr>\n",
       "    <tr>\n",
       "      <th>2</th>\n",
       "      <td>1524246</td>\n",
       "      <td>839907a972930b17b125eb0247898412</td>\n",
       "      <td>0.392095749652966</td>\n",
       "    </tr>\n",
       "  </tbody>\n",
       "</table>\n",
       "</div>"
      ],
      "text/plain": [
       "  document_id                         entity_id   confidence_level\n",
       "0     1524246  f9eec25663db4cd83183f5c805186f16  0.672865314504701\n",
       "1     1524246  55ebcfbdaff1d6f60b3907151f38527a  0.399113728441297\n",
       "2     1524246  839907a972930b17b125eb0247898412  0.392095749652966"
      ]
     },
     "metadata": {},
     "output_type": "display_data"
    },
    {
     "name": "stdout",
     "output_type": "stream",
     "text": [
      "documents_meta\n"
     ]
    },
    {
     "data": {
      "text/html": [
       "<div>\n",
       "<style scoped>\n",
       "    .dataframe tbody tr th:only-of-type {\n",
       "        vertical-align: middle;\n",
       "    }\n",
       "\n",
       "    .dataframe tbody tr th {\n",
       "        vertical-align: top;\n",
       "    }\n",
       "\n",
       "    .dataframe thead th {\n",
       "        text-align: right;\n",
       "    }\n",
       "</style>\n",
       "<table border=\"1\" class=\"dataframe\">\n",
       "  <thead>\n",
       "    <tr style=\"text-align: right;\">\n",
       "      <th></th>\n",
       "      <th>document_id</th>\n",
       "      <th>source_id</th>\n",
       "      <th>publisher_id</th>\n",
       "      <th>publish_time</th>\n",
       "    </tr>\n",
       "  </thead>\n",
       "  <tbody>\n",
       "    <tr>\n",
       "      <th>0</th>\n",
       "      <td>1595802</td>\n",
       "      <td>1</td>\n",
       "      <td>603</td>\n",
       "      <td>2016-06-05 00:00:00</td>\n",
       "    </tr>\n",
       "    <tr>\n",
       "      <th>1</th>\n",
       "      <td>1524246</td>\n",
       "      <td>1</td>\n",
       "      <td>603</td>\n",
       "      <td>2016-05-26 11:00:00</td>\n",
       "    </tr>\n",
       "    <tr>\n",
       "      <th>2</th>\n",
       "      <td>1617787</td>\n",
       "      <td>1</td>\n",
       "      <td>603</td>\n",
       "      <td>2016-05-27 00:00:00</td>\n",
       "    </tr>\n",
       "  </tbody>\n",
       "</table>\n",
       "</div>"
      ],
      "text/plain": [
       "  document_id source_id publisher_id         publish_time\n",
       "0     1595802         1          603  2016-06-05 00:00:00\n",
       "1     1524246         1          603  2016-05-26 11:00:00\n",
       "2     1617787         1          603  2016-05-27 00:00:00"
      ]
     },
     "metadata": {},
     "output_type": "display_data"
    },
    {
     "name": "stdout",
     "output_type": "stream",
     "text": [
      "documents_topics\n"
     ]
    },
    {
     "data": {
      "text/html": [
       "<div>\n",
       "<style scoped>\n",
       "    .dataframe tbody tr th:only-of-type {\n",
       "        vertical-align: middle;\n",
       "    }\n",
       "\n",
       "    .dataframe tbody tr th {\n",
       "        vertical-align: top;\n",
       "    }\n",
       "\n",
       "    .dataframe thead th {\n",
       "        text-align: right;\n",
       "    }\n",
       "</style>\n",
       "<table border=\"1\" class=\"dataframe\">\n",
       "  <thead>\n",
       "    <tr style=\"text-align: right;\">\n",
       "      <th></th>\n",
       "      <th>document_id</th>\n",
       "      <th>topic_id</th>\n",
       "      <th>confidence_level</th>\n",
       "    </tr>\n",
       "  </thead>\n",
       "  <tbody>\n",
       "    <tr>\n",
       "      <th>0</th>\n",
       "      <td>1595802</td>\n",
       "      <td>140</td>\n",
       "      <td>0.0731131601068925</td>\n",
       "    </tr>\n",
       "    <tr>\n",
       "      <th>1</th>\n",
       "      <td>1595802</td>\n",
       "      <td>16</td>\n",
       "      <td>0.0594164867373976</td>\n",
       "    </tr>\n",
       "    <tr>\n",
       "      <th>2</th>\n",
       "      <td>1595802</td>\n",
       "      <td>143</td>\n",
       "      <td>0.0454207537554526</td>\n",
       "    </tr>\n",
       "  </tbody>\n",
       "</table>\n",
       "</div>"
      ],
      "text/plain": [
       "  document_id topic_id    confidence_level\n",
       "0     1595802      140  0.0731131601068925\n",
       "1     1595802       16  0.0594164867373976\n",
       "2     1595802      143  0.0454207537554526"
      ]
     },
     "metadata": {},
     "output_type": "display_data"
    },
    {
     "name": "stdout",
     "output_type": "stream",
     "text": [
      "events\n"
     ]
    },
    {
     "data": {
      "text/html": [
       "<div>\n",
       "<style scoped>\n",
       "    .dataframe tbody tr th:only-of-type {\n",
       "        vertical-align: middle;\n",
       "    }\n",
       "\n",
       "    .dataframe tbody tr th {\n",
       "        vertical-align: top;\n",
       "    }\n",
       "\n",
       "    .dataframe thead th {\n",
       "        text-align: right;\n",
       "    }\n",
       "</style>\n",
       "<table border=\"1\" class=\"dataframe\">\n",
       "  <thead>\n",
       "    <tr style=\"text-align: right;\">\n",
       "      <th></th>\n",
       "      <th>display_id</th>\n",
       "      <th>uuid</th>\n",
       "      <th>document_id</th>\n",
       "      <th>timestamp</th>\n",
       "      <th>platform</th>\n",
       "      <th>geo_location</th>\n",
       "    </tr>\n",
       "  </thead>\n",
       "  <tbody>\n",
       "    <tr>\n",
       "      <th>0</th>\n",
       "      <td>1</td>\n",
       "      <td>cb8c55702adb93</td>\n",
       "      <td>379743</td>\n",
       "      <td>61</td>\n",
       "      <td>3</td>\n",
       "      <td>US&gt;SC&gt;519</td>\n",
       "    </tr>\n",
       "    <tr>\n",
       "      <th>1</th>\n",
       "      <td>2</td>\n",
       "      <td>79a85fa78311b9</td>\n",
       "      <td>1794259</td>\n",
       "      <td>81</td>\n",
       "      <td>2</td>\n",
       "      <td>US&gt;CA&gt;807</td>\n",
       "    </tr>\n",
       "    <tr>\n",
       "      <th>2</th>\n",
       "      <td>3</td>\n",
       "      <td>822932ce3d8757</td>\n",
       "      <td>1179111</td>\n",
       "      <td>182</td>\n",
       "      <td>2</td>\n",
       "      <td>US&gt;MI&gt;505</td>\n",
       "    </tr>\n",
       "  </tbody>\n",
       "</table>\n",
       "</div>"
      ],
      "text/plain": [
       "  display_id            uuid document_id timestamp platform geo_location\n",
       "0          1  cb8c55702adb93      379743        61        3    US>SC>519\n",
       "1          2  79a85fa78311b9     1794259        81        2    US>CA>807\n",
       "2          3  822932ce3d8757     1179111       182        2    US>MI>505"
      ]
     },
     "metadata": {},
     "output_type": "display_data"
    },
    {
     "name": "stdout",
     "output_type": "stream",
     "text": [
      "page_views\n"
     ]
    },
    {
     "data": {
      "text/html": [
       "<div>\n",
       "<style scoped>\n",
       "    .dataframe tbody tr th:only-of-type {\n",
       "        vertical-align: middle;\n",
       "    }\n",
       "\n",
       "    .dataframe tbody tr th {\n",
       "        vertical-align: top;\n",
       "    }\n",
       "\n",
       "    .dataframe thead th {\n",
       "        text-align: right;\n",
       "    }\n",
       "</style>\n",
       "<table border=\"1\" class=\"dataframe\">\n",
       "  <thead>\n",
       "    <tr style=\"text-align: right;\">\n",
       "      <th></th>\n",
       "      <th>uuid</th>\n",
       "      <th>document_id</th>\n",
       "      <th>timestamp</th>\n",
       "      <th>platform</th>\n",
       "      <th>geo_location</th>\n",
       "      <th>traffic_source</th>\n",
       "    </tr>\n",
       "  </thead>\n",
       "  <tbody>\n",
       "    <tr>\n",
       "      <th>0</th>\n",
       "      <td>1fd5f051fba643</td>\n",
       "      <td>120</td>\n",
       "      <td>31905835</td>\n",
       "      <td>1</td>\n",
       "      <td>RS</td>\n",
       "      <td>2</td>\n",
       "    </tr>\n",
       "    <tr>\n",
       "      <th>1</th>\n",
       "      <td>8557aa9004be3b</td>\n",
       "      <td>120</td>\n",
       "      <td>32053104</td>\n",
       "      <td>1</td>\n",
       "      <td>VN&gt;44</td>\n",
       "      <td>2</td>\n",
       "    </tr>\n",
       "    <tr>\n",
       "      <th>2</th>\n",
       "      <td>c351b277a358f0</td>\n",
       "      <td>120</td>\n",
       "      <td>54013023</td>\n",
       "      <td>1</td>\n",
       "      <td>KR&gt;12</td>\n",
       "      <td>1</td>\n",
       "    </tr>\n",
       "  </tbody>\n",
       "</table>\n",
       "</div>"
      ],
      "text/plain": [
       "             uuid document_id timestamp platform geo_location traffic_source\n",
       "0  1fd5f051fba643         120  31905835        1           RS              2\n",
       "1  8557aa9004be3b         120  32053104        1        VN>44              2\n",
       "2  c351b277a358f0         120  54013023        1        KR>12              1"
      ]
     },
     "metadata": {},
     "output_type": "display_data"
    },
    {
     "name": "stdout",
     "output_type": "stream",
     "text": [
      "page_views_sample\n"
     ]
    },
    {
     "data": {
      "text/html": [
       "<div>\n",
       "<style scoped>\n",
       "    .dataframe tbody tr th:only-of-type {\n",
       "        vertical-align: middle;\n",
       "    }\n",
       "\n",
       "    .dataframe tbody tr th {\n",
       "        vertical-align: top;\n",
       "    }\n",
       "\n",
       "    .dataframe thead th {\n",
       "        text-align: right;\n",
       "    }\n",
       "</style>\n",
       "<table border=\"1\" class=\"dataframe\">\n",
       "  <thead>\n",
       "    <tr style=\"text-align: right;\">\n",
       "      <th></th>\n",
       "      <th>uuid</th>\n",
       "      <th>document_id</th>\n",
       "      <th>timestamp</th>\n",
       "      <th>platform</th>\n",
       "      <th>geo_location</th>\n",
       "      <th>traffic_source</th>\n",
       "    </tr>\n",
       "  </thead>\n",
       "  <tbody>\n",
       "    <tr>\n",
       "      <th>0</th>\n",
       "      <td>1fd5f051fba643</td>\n",
       "      <td>120</td>\n",
       "      <td>31905835</td>\n",
       "      <td>1</td>\n",
       "      <td>RS</td>\n",
       "      <td>2</td>\n",
       "    </tr>\n",
       "    <tr>\n",
       "      <th>1</th>\n",
       "      <td>8557aa9004be3b</td>\n",
       "      <td>120</td>\n",
       "      <td>32053104</td>\n",
       "      <td>1</td>\n",
       "      <td>VN&gt;44</td>\n",
       "      <td>2</td>\n",
       "    </tr>\n",
       "    <tr>\n",
       "      <th>2</th>\n",
       "      <td>c351b277a358f0</td>\n",
       "      <td>120</td>\n",
       "      <td>54013023</td>\n",
       "      <td>1</td>\n",
       "      <td>KR&gt;12</td>\n",
       "      <td>1</td>\n",
       "    </tr>\n",
       "  </tbody>\n",
       "</table>\n",
       "</div>"
      ],
      "text/plain": [
       "             uuid document_id timestamp platform geo_location traffic_source\n",
       "0  1fd5f051fba643         120  31905835        1           RS              2\n",
       "1  8557aa9004be3b         120  32053104        1        VN>44              2\n",
       "2  c351b277a358f0         120  54013023        1        KR>12              1"
      ]
     },
     "metadata": {},
     "output_type": "display_data"
    },
    {
     "name": "stdout",
     "output_type": "stream",
     "text": [
      "promoted_content\n"
     ]
    },
    {
     "data": {
      "text/html": [
       "<div>\n",
       "<style scoped>\n",
       "    .dataframe tbody tr th:only-of-type {\n",
       "        vertical-align: middle;\n",
       "    }\n",
       "\n",
       "    .dataframe tbody tr th {\n",
       "        vertical-align: top;\n",
       "    }\n",
       "\n",
       "    .dataframe thead th {\n",
       "        text-align: right;\n",
       "    }\n",
       "</style>\n",
       "<table border=\"1\" class=\"dataframe\">\n",
       "  <thead>\n",
       "    <tr style=\"text-align: right;\">\n",
       "      <th></th>\n",
       "      <th>ad_id</th>\n",
       "      <th>document_id</th>\n",
       "      <th>campaign_id</th>\n",
       "      <th>advertiser_id</th>\n",
       "    </tr>\n",
       "  </thead>\n",
       "  <tbody>\n",
       "    <tr>\n",
       "      <th>0</th>\n",
       "      <td>1</td>\n",
       "      <td>6614</td>\n",
       "      <td>1</td>\n",
       "      <td>7</td>\n",
       "    </tr>\n",
       "    <tr>\n",
       "      <th>1</th>\n",
       "      <td>2</td>\n",
       "      <td>471467</td>\n",
       "      <td>2</td>\n",
       "      <td>7</td>\n",
       "    </tr>\n",
       "    <tr>\n",
       "      <th>2</th>\n",
       "      <td>3</td>\n",
       "      <td>7692</td>\n",
       "      <td>3</td>\n",
       "      <td>7</td>\n",
       "    </tr>\n",
       "  </tbody>\n",
       "</table>\n",
       "</div>"
      ],
      "text/plain": [
       "  ad_id document_id campaign_id advertiser_id\n",
       "0     1        6614           1             7\n",
       "1     2      471467           2             7\n",
       "2     3        7692           3             7"
      ]
     },
     "metadata": {},
     "output_type": "display_data"
    }
   ],
   "source": [
    "from IPython.display import display\n",
    "tables = [\"clicks_test\", \"clicks_train\", \n",
    "          \"documents_categories\", \"documents_entities\", \"documents_meta\", \"documents_topics\", \n",
    "          \"events\", \"page_views\", \"page_views_sample\", \"promoted_content\"]\n",
    "for name in tqdm.tqdm(tables):\n",
    "    df = se.read.parquet(\"s3://ydatazian/{}.parquet\".format(name))\n",
    "    df.registerTempTable(name)\n",
    "    print(name)\n",
    "    display(df.limit(3).toPandas())"
   ]
  },
  {
   "cell_type": "markdown",
   "metadata": {},
   "source": [
    "# Prepare dataset for VW\n",
    "\n",
    "We will predict a *click* based on:\n",
    "- ad_id\n",
    "- document_id\n",
    "- campaign_id\n",
    "- advertiser_id"
   ]
  },
  {
   "cell_type": "code",
   "execution_count": 4,
   "metadata": {},
   "outputs": [
    {
     "name": "stdout",
     "output_type": "stream",
     "text": [
      "CPU times: user 8.34 ms, sys: 1.08 ms, total: 9.42 ms\n",
      "Wall time: 54.2 s\n"
     ]
    }
   ],
   "source": [
    "%%time\n",
    "se.sql(\"\"\"\n",
    "select \n",
    "    clicks_train.clicked,\n",
    "    clicks_train.display_id,\n",
    "    clicks_train.ad_id,\n",
    "    promoted_content.document_id,\n",
    "    promoted_content.campaign_id,\n",
    "    promoted_content.advertiser_id\n",
    "from clicks_train join promoted_content on clicks_train.ad_id = promoted_content.ad_id\n",
    "\"\"\").write.parquet(\"/train_features.parquet\", mode='overwrite')"
   ]
  },
  {
   "cell_type": "code",
   "execution_count": 5,
   "metadata": {},
   "outputs": [
    {
     "name": "stdout",
     "output_type": "stream",
     "text": [
      "+-------+----------+------+-----------+-----------+-------------+\n",
      "|clicked|display_id| ad_id|document_id|campaign_id|advertiser_id|\n",
      "+-------+----------+------+-----------+-----------+-------------+\n",
      "|      0|         1| 42337|     938164|       5969|         1499|\n",
      "|      0|         1|139684|    1085937|      17527|         2563|\n",
      "|      1|         1|144739|    1337362|      18488|         2909|\n",
      "|      0|         1|156824|     992370|       7283|         1919|\n",
      "|      0|         1|279295|    1670176|      27524|         1820|\n",
      "+-------+----------+------+-----------+-----------+-------------+\n",
      "only showing top 5 rows\n",
      "\n"
     ]
    }
   ],
   "source": [
    "se.read.parquet(\"/train_features.parquet\").show(5)"
   ]
  },
  {
   "cell_type": "code",
   "execution_count": 6,
   "metadata": {},
   "outputs": [
    {
     "name": "stdout",
     "output_type": "stream",
     "text": [
      "Row(clicked='0', display_id='1', ad_id='42337', document_id='938164', campaign_id='5969', advertiser_id='1499')\n",
      "-1 1_42337| display_id_1 ad_id_42337 document_id_938164 campaign_id_5969 advertiser_id_1499\n"
     ]
    }
   ],
   "source": [
    "# Format: [Label] [Importance] [Base] [Tag]|Namespace Features |Namespace Features ... |Namespace Features\n",
    "# https://github.com/VowpalWabbit/vowpal_wabbit/wiki/Input-format\n",
    "def vw_row_mapper(row):\n",
    "    clicked = None\n",
    "    features = []\n",
    "    for k, v in row.asDict().items():\n",
    "        if k == 'clicked':\n",
    "            clicked = '1' if v == '1' else '-1'\n",
    "        else:\n",
    "            features.append(k + \"_\" + v)\n",
    "    tag = row.display_id + \"_\" + row.ad_id\n",
    "    return \"{} {}| {}\".format(clicked, tag, \" \".join(features))\n",
    "\n",
    "r = se.read.parquet(\"/train_features.parquet\").take(1)[0]\n",
    "print(r)\n",
    "print(vw_row_mapper(r))"
   ]
  },
  {
   "cell_type": "code",
   "execution_count": 7,
   "metadata": {},
   "outputs": [
    {
     "name": "stdout",
     "output_type": "stream",
     "text": [
      "rm: `/train_features.txt': No such file or directory\n",
      "CPU times: user 64.4 ms, sys: 25 ms, total: 89.4 ms\n",
      "Wall time: 3min 39s\n"
     ]
    }
   ],
   "source": [
    "%%time\n",
    "! hdfs dfs -rm -r /train_features.txt\n",
    "(\n",
    "    se.read.parquet(\"/train_features.parquet\")\n",
    "    .rdd\n",
    "    .map(vw_row_mapper)\n",
    "    .saveAsTextFile(\"/train_features.txt\")\n",
    ")"
   ]
  },
  {
   "cell_type": "code",
   "execution_count": 8,
   "metadata": {},
   "outputs": [
    {
     "name": "stdout",
     "output_type": "stream",
     "text": [
      "rm: cannot remove ‘/mnt/train.txt’: No such file or directory\n",
      "-1 1_42337| display_id_1 ad_id_42337 document_id_938164 campaign_id_5969 advertiser_id_1499\n",
      "-1 1_139684| display_id_1 ad_id_139684 document_id_1085937 campaign_id_17527 advertiser_id_2563\n",
      "1 1_144739| display_id_1 ad_id_144739 document_id_1337362 campaign_id_18488 advertiser_id_2909\n",
      "-1 1_156824| display_id_1 ad_id_156824 document_id_992370 campaign_id_7283 advertiser_id_1919\n",
      "-1 1_279295| display_id_1 ad_id_279295 document_id_1670176 campaign_id_27524 advertiser_id_1820\n"
     ]
    }
   ],
   "source": [
    "# copy file to local master node\n",
    "! rm /mnt/train.txt\n",
    "! hdfs dfs -getmerge /train_features.txt /mnt/train.txt\n",
    "# preview local file\n",
    "! head -n 5 /mnt/train.txt"
   ]
  },
  {
   "cell_type": "markdown",
   "metadata": {},
   "source": [
    "# Train VW\n",
    "https://vowpalwabbit.org/tutorials/getting_started.html\n",
    "\n",
    "https://github.com/JohnLangford/vowpal_wabbit/wiki/Command-line-arguments"
   ]
  },
  {
   "cell_type": "code",
   "execution_count": 9,
   "metadata": {},
   "outputs": [
    {
     "name": "stdout",
     "output_type": "stream",
     "text": [
      "final_regressor = model\n",
      "Enabling FTRL based optimization\n",
      "Algorithm used: Proximal-FTRL\n",
      "ftrl_alpha = 0.005\n",
      "ftrl_beta = 0.1\n",
      "Num weight bits = 24\n",
      "learning rate = 0.5\n",
      "initial_t = 0\n",
      "power_t = 0.5\n",
      "creating cache_file = /mnt/train.txt.cache\n",
      "Reading datafile = /mnt/train.txt\n",
      "num sources = 1\n",
      "average  since         example        example  current  current  current\n",
      "loss     last          counter         weight    label  predict features\n",
      "0.460142 0.460142      8000000      8000000.0  -1.0000  -1.2983        6\n",
      "0.456159 0.452175     16000000     16000000.0  -1.0000  -1.4733        6\n",
      "0.453326 0.447661     24000000     24000000.0  -1.0000  -2.3174        6\n",
      "0.452628 0.450533     32000000     32000000.0   1.0000  -0.5719        6\n",
      "0.452887 0.453924     40000000     40000000.0  -1.0000  -1.2648        6\n",
      "0.452010 0.447625     48000000     48000000.0  -1.0000  -2.6227        6\n",
      "0.451328 0.447232     56000000     56000000.0  -1.0000  -3.4451        6\n",
      "0.450649 0.445902     64000000     64000000.0  -1.0000  -1.3654        6\n",
      "0.450373 0.448160     72000000     72000000.0  -1.0000  -1.4113        6\n",
      "0.449983 0.446471     80000000     80000000.0   1.0000  -1.4889        6\n",
      "\n",
      "finished run\n",
      "number of examples = 87141731\n",
      "weighted example sum = 87141731.000000\n",
      "weighted label sum = -53392545.000000\n",
      "average loss = 0.450146\n",
      "best constant = -1.426495\n",
      "best constant's loss = 0.491466\n",
      "total feature number = 522850386\n"
     ]
    }
   ],
   "source": [
    "! ./vw -d /mnt/train.txt -b 24 -c -k --ftrl --passes 1 -f model --holdout_off --loss_function logistic --random_seed 42 --progress 8000000"
   ]
  },
  {
   "cell_type": "code",
   "execution_count": 10,
   "metadata": {},
   "outputs": [
    {
     "name": "stdout",
     "output_type": "stream",
     "text": [
      "only testing\n",
      "predictions = /mnt/predictions.txt\n",
      "Enabling FTRL based optimization\n",
      "Algorithm used: Proximal-FTRL\n",
      "ftrl_alpha = 0.005\n",
      "ftrl_beta = 0.1\n",
      "Num weight bits = 24\n",
      "learning rate = 0.5\n",
      "initial_t = 0\n",
      "power_t = 0.5\n",
      "using no cache\n",
      "Reading datafile = /mnt/test.txt\n",
      "num sources = 1\n",
      "average  since         example        example  current  current  current\n",
      "loss     last          counter         weight    label  predict features\n",
      "warning: ? is not a good float, replacing with 0\n",
      "warning: ? is not a good float, replacing with 0\n",
      "\n",
      "finished run\n",
      "number of examples = 2\n",
      "weighted example sum = 2.000000\n",
      "weighted label sum = 0.000000\n",
      "average loss = 5.674418\n",
      "total feature number = 10\n",
      "0.319263 tag1\n",
      "0.036173 tag2\n"
     ]
    }
   ],
   "source": [
    "# make prediction with VW\n",
    "! echo \"? tag1| ad_id_144739 document_id_1337362 campaign_id_18488 advertiser_id_2909\" > /mnt/test.txt\n",
    "! echo \"? tag2| ad_id_156824 document_id_992370 campaign_id_7283 advertiser_id_1919\" >> /mnt/test.txt\n",
    "! ./vw -d /mnt/test.txt -i model -t -k -p /mnt/predictions.txt --progress 1000000 --link=logistic\n",
    "# predicted probabilities of \"1\" class\n",
    "! cat /mnt/predictions.txt"
   ]
  },
  {
   "cell_type": "markdown",
   "metadata": {},
   "source": [
    "# Homework 2: Baseline model\n",
    "\n",
    "Train a baseline model (**any model** you can think of, not necessarily VW) using the following features (features will bring you **0.5 points each**, you can think of your own features, **maximum 8 points** for this task):\n",
    "- **clicked**\n",
    "- geo_location features (country, state, dma)\n",
    "- day_of_week (from timestamp, use *date.isoweekday()*)\n",
    "- ad_id\n",
    "- campaign_id\n",
    "- advertiser_id\n",
    "- ad_document_id\n",
    "- display_document_id\n",
    "- platform\n",
    "\n",
    "Make submission to Kaggle to know your leaderboard score\n",
    "\n",
    "If you want to create a dev set, make a 90%/10% split of training data by display_id"
   ]
  },
  {
   "cell_type": "code",
   "execution_count": 115,
   "metadata": {},
   "outputs": [],
   "source": [
    "from pyspark.sql.functions import split, date_format, from_unixtime, unix_timestamp, col\n",
    "from pyspark.sql.types import StringType"
   ]
  },
  {
   "cell_type": "code",
   "execution_count": 109,
   "metadata": {},
   "outputs": [],
   "source": [
    "# Compute top category\n",
    "\n",
    "top_cat = se.sql(\"\"\"\n",
    "select \n",
    "    documents_categories.document_id,\n",
    "    category_id\n",
    "from documents_categories\n",
    "join (select document_id, \n",
    "        max(confidence_level) max_conf\n",
    "        from documents_categories\n",
    "        group by document_id) max_cat on documents_categories.document_id = max_cat.document_id\n",
    "                                        and documents_categories.confidence_level = max_cat.max_conf\n",
    "\n",
    "\"\"\")\n",
    "top_cat.registerTempTable(\"top_cat\")\n",
    "\n",
    "top_cat_no_duplicates = se.sql(\"\"\"\n",
    "select \n",
    "    document_id,\n",
    "    first(category_id) category_id\n",
    "from top_cat\n",
    "group by document_id\n",
    "\"\"\")\n",
    "top_cat_no_duplicates.registerTempTable(\"top_cat_final\")"
   ]
  },
  {
   "cell_type": "code",
   "execution_count": 110,
   "metadata": {},
   "outputs": [],
   "source": [
    "# Compute top topic\n",
    "\n",
    "top_topic = se.sql(\"\"\"\n",
    "select \n",
    "    documents_topics.document_id,\n",
    "    topic_id\n",
    "from documents_topics\n",
    "join (select document_id, \n",
    "        max(confidence_level) max_conf\n",
    "        from documents_topics\n",
    "        group by document_id) max_topic on documents_topics.document_id = max_topic.document_id\n",
    "                                        and documents_topics.confidence_level = max_topic.max_conf\n",
    "\n",
    "\"\"\")\n",
    "top_topic.registerTempTable(\"top_topic\")\n",
    "\n",
    "top_topic_no_duplicates = se.sql(\"\"\"\n",
    "select \n",
    "    document_id,\n",
    "    first(topic_id) topic_id\n",
    "from top_topic\n",
    "group by document_id\n",
    "\"\"\")\n",
    "top_topic_no_duplicates.registerTempTable(\"top_topic_final\")"
   ]
  },
  {
   "cell_type": "code",
   "execution_count": 133,
   "metadata": {},
   "outputs": [],
   "source": [
    "# Compute top entity\n",
    "\n",
    "top_entity = se.sql(\"\"\"\n",
    "select \n",
    "    documents_entities.document_id,\n",
    "    entity_id\n",
    "from documents_entities\n",
    "join (select document_id, \n",
    "        max(confidence_level) max_conf\n",
    "        from documents_entities\n",
    "        group by document_id) max_entity on documents_entities.document_id = max_entity.document_id\n",
    "                                        and documents_entities.confidence_level = max_entity.max_conf\n",
    "\n",
    "\"\"\")\n",
    "top_entity.registerTempTable(\"top_entity\")\n",
    "\n",
    "top_entity_no_duplicates = se.sql(\"\"\"\n",
    "select \n",
    "    document_id,\n",
    "    first(entity_id) entity_id\n",
    "from top_entity\n",
    "group by document_id\n",
    "\"\"\")\n",
    "top_entity_no_duplicates.registerTempTable(\"top_entity_final\")"
   ]
  },
  {
   "cell_type": "code",
   "execution_count": 150,
   "metadata": {},
   "outputs": [],
   "source": [
    "# Initial dataset\n",
    "\n",
    "dataset = se.sql(\"\"\"\n",
    "select \n",
    "    clicks_train.clicked,\n",
    "    clicks_train.display_id,\n",
    "    events.geo_location,\n",
    "    events.timestamp,\n",
    "    clicks_train.ad_id,\n",
    "    promoted_content.campaign_id,\n",
    "    promoted_content.advertiser_id,\n",
    "    promoted_content.document_id ad_document_id,\n",
    "    events.platform,\n",
    "    events.uuid,\n",
    "    events.document_id display_document_id,\n",
    "    documents_meta.publisher_id,\n",
    "    documents_meta.publish_time,\n",
    "    top_cat_final.category_id,\n",
    "    top_topic_final.topic_id,\n",
    "    top_entity_final.entity_id\n",
    "from clicks_train\n",
    "join events on clicks_train.display_id = events.display_id\n",
    "join promoted_content on clicks_train.ad_id = promoted_content.ad_id\n",
    "join documents_meta on events.document_id = documents_meta.document_id\n",
    "left join top_cat_final on events.document_id = top_cat_final.document_id\n",
    "left join top_topic_final on events.document_id = top_topic_final.document_id\n",
    "left join top_entity_final on events.document_id = top_entity_final.document_id\n",
    "\"\"\")"
   ]
  },
  {
   "cell_type": "code",
   "execution_count": 151,
   "metadata": {},
   "outputs": [],
   "source": [
    "# Split geo location to country, state and dma\n",
    "\n",
    "split_col = split(dataset['geo_location'], '>')\n",
    "dataset = dataset.withColumn('country',split_col.getItem(0))\n",
    "dataset = dataset.withColumn('state',split_col.getItem(1))\n",
    "dataset = dataset.withColumn('dma',split_col.getItem(2))\n",
    "dataset = dataset.drop('geo_location')"
   ]
  },
  {
   "cell_type": "code",
   "execution_count": 152,
   "metadata": {},
   "outputs": [],
   "source": [
    "# Add day of week & hour\n",
    "\n",
    "date_time = from_unixtime(dataset['timestamp'])\n",
    "dataset = dataset.withColumn('day_of_week',date_format(date_time, 'u'))\n",
    "dataset = dataset.withColumn('hour',date_format(date_time, 'H'))"
   ]
  },
  {
   "cell_type": "code",
   "execution_count": 153,
   "metadata": {},
   "outputs": [],
   "source": [
    "# Convert publish time to unixtime\n",
    "\n",
    "unix_time = unix_timestamp(dataset['publish_time'])\n",
    "dataset = dataset.withColumn('publish_time',unix_time)\n",
    "dataset = dataset.withColumn(\"publish_time\",col(\"publish_time\").cast(StringType()))"
   ]
  },
  {
   "cell_type": "code",
   "execution_count": 154,
   "metadata": {},
   "outputs": [],
   "source": [
    "# Fill nulls\n",
    "\n",
    "dataset = dataset.fillna('0')"
   ]
  },
  {
   "cell_type": "code",
   "execution_count": 155,
   "metadata": {},
   "outputs": [
    {
     "name": "stdout",
     "output_type": "stream",
     "text": [
      "root\n",
      " |-- clicked: string (nullable = false)\n",
      " |-- display_id: string (nullable = false)\n",
      " |-- timestamp: string (nullable = false)\n",
      " |-- ad_id: string (nullable = false)\n",
      " |-- campaign_id: string (nullable = false)\n",
      " |-- advertiser_id: string (nullable = false)\n",
      " |-- ad_document_id: string (nullable = false)\n",
      " |-- platform: string (nullable = false)\n",
      " |-- uuid: string (nullable = false)\n",
      " |-- display_document_id: string (nullable = false)\n",
      " |-- publisher_id: string (nullable = false)\n",
      " |-- publish_time: string (nullable = false)\n",
      " |-- category_id: string (nullable = false)\n",
      " |-- topic_id: string (nullable = false)\n",
      " |-- entity_id: string (nullable = false)\n",
      " |-- country: string (nullable = false)\n",
      " |-- state: string (nullable = false)\n",
      " |-- dma: string (nullable = false)\n",
      " |-- day_of_week: string (nullable = false)\n",
      " |-- hour: string (nullable = false)\n",
      "\n"
     ]
    }
   ],
   "source": [
    "dataset.printSchema()"
   ]
  },
  {
   "cell_type": "code",
   "execution_count": 156,
   "metadata": {},
   "outputs": [
    {
     "name": "stdout",
     "output_type": "stream",
     "text": [
      "CPU times: user 25 ms, sys: 4.91 ms, total: 29.9 ms\n",
      "Wall time: 4min 39s\n"
     ]
    }
   ],
   "source": [
    "%%time\n",
    "dataset.write.parquet(\"/train_features.parquet\", mode='overwrite')"
   ]
  },
  {
   "cell_type": "code",
   "execution_count": 157,
   "metadata": {},
   "outputs": [
    {
     "name": "stdout",
     "output_type": "stream",
     "text": [
      "+-------+----------+---------+------+-----------+-------------+--------------+--------+--------------+-------------------+------------+------------+-----------+--------+---------+-------+-----+---+-----------+----+\n",
      "|clicked|display_id|timestamp| ad_id|campaign_id|advertiser_id|ad_document_id|platform|          uuid|display_document_id|publisher_id|publish_time|category_id|topic_id|entity_id|country|state|dma|day_of_week|hour|\n",
      "+-------+----------+---------+------+-----------+-------------+--------------+--------+--------------+-------------------+------------+------------+-----------+--------+---------+-------+-----+---+-----------+----+\n",
      "|      0|  12873428|848711482|131051|      16261|         2594|       1260918|       3|53b567c20a8eb2|            1000240|         522|  1450771200|       1505|     138|        0|     GB|    0|  0|          6|   1|\n",
      "|      1|  12873428|848711482|134263|      16162|          185|       1300757|       3|53b567c20a8eb2|            1000240|         522|  1450771200|       1505|     138|        0|     GB|    0|  0|          6|   1|\n",
      "|      0|  12873428|848711482|160698|      16162|          185|       1400277|       3|53b567c20a8eb2|            1000240|         522|  1450771200|       1505|     138|        0|     GB|    0|  0|          6|   1|\n",
      "|      0|  12873428|848711482|406558|      30823|         3728|        777739|       3|53b567c20a8eb2|            1000240|         522|  1450771200|       1505|     138|        0|     GB|    0|  0|          6|   1|\n",
      "|      0|  12873428|848711482|466073|      31899|         1108|       2288665|       3|53b567c20a8eb2|            1000240|         522|  1450771200|       1505|     138|        0|     GB|    0|  0|          6|   1|\n",
      "+-------+----------+---------+------+-----------+-------------+--------------+--------+--------------+-------------------+------------+------------+-----------+--------+---------+-------+-----+---+-----------+----+\n",
      "only showing top 5 rows\n",
      "\n"
     ]
    }
   ],
   "source": [
    "se.read.parquet(\"/train_features.parquet\").show(5)"
   ]
  },
  {
   "cell_type": "code",
   "execution_count": 158,
   "metadata": {},
   "outputs": [
    {
     "name": "stdout",
     "output_type": "stream",
     "text": [
      "Row(clicked='0', display_id='12873428', timestamp='848711482', ad_id='131051', campaign_id='16261', advertiser_id='2594', ad_document_id='1260918', platform='3', uuid='53b567c20a8eb2', display_document_id='1000240', publisher_id='522', publish_time='1450771200', category_id='1505', topic_id='138', entity_id='0', country='GB', state='0', dma='0', day_of_week='6', hour='1')\n",
      "-1 12873428_131051| display_id_12873428 timestamp_848711482 ad_id_131051 campaign_id_16261 advertiser_id_2594 ad_document_id_1260918 platform_3 uuid_53b567c20a8eb2 display_document_id_1000240 publisher_id_522 publish_time_1450771200 category_id_1505 topic_id_138 entity_id_0 country_GB state_0 dma_0 day_of_week_6 hour_1\n"
     ]
    }
   ],
   "source": [
    "r = se.read.parquet(\"/train_features.parquet\").take(1)[0]\n",
    "print(r)\n",
    "print(vw_row_mapper(r))"
   ]
  },
  {
   "cell_type": "code",
   "execution_count": 159,
   "metadata": {},
   "outputs": [
    {
     "name": "stdout",
     "output_type": "stream",
     "text": [
      "Deleted /train_features.txt\n",
      "CPU times: user 114 ms, sys: 17.3 ms, total: 131 ms\n",
      "Wall time: 6min 18s\n"
     ]
    }
   ],
   "source": [
    "%%time\n",
    "! hdfs dfs -rm -r /train_features.txt\n",
    "(\n",
    "    se.read.parquet(\"/train_features.parquet\")\n",
    "    .rdd\n",
    "    .map(vw_row_mapper)\n",
    "    .saveAsTextFile(\"/train_features.txt\")\n",
    ")"
   ]
  },
  {
   "cell_type": "code",
   "execution_count": 160,
   "metadata": {},
   "outputs": [
    {
     "name": "stdout",
     "output_type": "stream",
     "text": [
      "-1 12873428_131051| display_id_12873428 timestamp_848711482 ad_id_131051 campaign_id_16261 advertiser_id_2594 ad_document_id_1260918 platform_3 uuid_53b567c20a8eb2 display_document_id_1000240 publisher_id_522 publish_time_1450771200 category_id_1505 topic_id_138 entity_id_0 country_GB state_0 dma_0 day_of_week_6 hour_1\r\n",
      "1 12873428_134263| display_id_12873428 timestamp_848711482 ad_id_134263 campaign_id_16162 advertiser_id_185 ad_document_id_1300757 platform_3 uuid_53b567c20a8eb2 display_document_id_1000240 publisher_id_522 publish_time_1450771200 category_id_1505 topic_id_138 entity_id_0 country_GB state_0 dma_0 day_of_week_6 hour_1\r\n",
      "-1 12873428_160698| display_id_12873428 timestamp_848711482 ad_id_160698 campaign_id_16162 advertiser_id_185 ad_document_id_1400277 platform_3 uuid_53b567c20a8eb2 display_document_id_1000240 publisher_id_522 publish_time_1450771200 category_id_1505 topic_id_138 entity_id_0 country_GB state_0 dma_0 day_of_week_6 hour_1\r\n",
      "-1 12873428_406558| display_id_12873428 timestamp_848711482 ad_id_406558 campaign_id_30823 advertiser_id_3728 ad_document_id_777739 platform_3 uuid_53b567c20a8eb2 display_document_id_1000240 publisher_id_522 publish_time_1450771200 category_id_1505 topic_id_138 entity_id_0 country_GB state_0 dma_0 day_of_week_6 hour_1\r\n",
      "-1 12873428_466073| display_id_12873428 timestamp_848711482 ad_id_466073 campaign_id_31899 advertiser_id_1108 ad_document_id_2288665 platform_3 uuid_53b567c20a8eb2 display_document_id_1000240 publisher_id_522 publish_time_1450771200 category_id_1505 topic_id_138 entity_id_0 country_GB state_0 dma_0 day_of_week_6 hour_1\r\n"
     ]
    }
   ],
   "source": [
    "# copy file to local master node\n",
    "! rm /mnt/train.txt\n",
    "! hdfs dfs -getmerge /train_features.txt /mnt/train.txt\n",
    "# preview local file\n",
    "! head -n 5 /mnt/train.txt"
   ]
  },
  {
   "cell_type": "code",
   "execution_count": 161,
   "metadata": {},
   "outputs": [
    {
     "name": "stdout",
     "output_type": "stream",
     "text": [
      "final_regressor = model\n",
      "Enabling FTRL based optimization\n",
      "Algorithm used: Proximal-FTRL\n",
      "ftrl_alpha = 0.005\n",
      "ftrl_beta = 0.1\n",
      "Num weight bits = 24\n",
      "learning rate = 0.5\n",
      "initial_t = 0\n",
      "power_t = 0.5\n",
      "creating cache_file = /mnt/train.txt.cache\n",
      "Reading datafile = /mnt/train.txt\n",
      "num sources = 1\n",
      "average  since         example        example  current  current  current\n",
      "loss     last          counter         weight    label  predict features\n",
      "0.456714 0.456714      8000000      8000000.0  -1.0000  -0.7078       20\n",
      "0.451234 0.445753     16000000     16000000.0  -1.0000  -1.9923       20\n",
      "0.450919 0.450289     24000000     24000000.0  -1.0000  -1.5590       20\n",
      "0.447493 0.437217     32000000     32000000.0  -1.0000  -0.4229       20\n",
      "0.446630 0.443175     40000000     40000000.0   1.0000  -0.2916       20\n",
      "0.446722 0.447186     48000000     48000000.0  -1.0000  -1.6682       20\n",
      "0.445380 0.437330     56000000     56000000.0  -1.0000  -2.0483       20\n",
      "0.444175 0.435736     64000000     64000000.0  -1.0000  -2.0235       20\n",
      "0.442019 0.424770     72000000     72000000.0  -1.0000  -2.1789       20\n",
      "0.441639 0.438217     80000000     80000000.0  -1.0000  -2.0425       20\n",
      "\n",
      "finished run\n",
      "number of examples = 87141731\n",
      "weighted example sum = 87141731.000000\n",
      "weighted label sum = -53392545.000000\n",
      "average loss = 0.441699\n",
      "best constant = -1.426495\n",
      "best constant's loss = 0.491466\n",
      "total feature number = 1742834620\n"
     ]
    }
   ],
   "source": [
    "! ./vw -d /mnt/train.txt -b 24 -c -k --ftrl --passes 1 -f model --holdout_off --loss_function logistic --random_seed 42 --progress 8000000"
   ]
  },
  {
   "cell_type": "markdown",
   "metadata": {},
   "source": [
    "# Submitting to Kaggle\n",
    "\n",
    "Obtain Kaggle API token: https://github.com/Kaggle/kaggle-api#api-credentials\n",
    "\n",
    "Making a submission: https://github.com/Kaggle/kaggle-api#submit-to-a-competition"
   ]
  },
  {
   "cell_type": "code",
   "execution_count": 182,
   "metadata": {},
   "outputs": [
    {
     "name": "stdout",
     "output_type": "stream",
     "text": [
      "mkdir: cannot create directory ‘/home/hadoop/.kaggle’: File exists\n",
      "{\"username\":\"danarozenblum\",\"key\":\"26053ae789e80ea95fef21790387768d\"}\n"
     ]
    }
   ],
   "source": [
    "! mkdir ~/.kaggle\n",
    "! touch ~/.kaggle/kaggle.json\n",
    "! echo '{\"username\":\"danarozenblum\",\"key\":\"key\"}' > ~/.kaggle/kaggle.json\n",
    "! cat ~/.kaggle/kaggle.json\n",
    "! chmod 600 /home/hadoop/.kaggle/kaggle.json"
   ]
  },
  {
   "cell_type": "code",
   "execution_count": 178,
   "metadata": {},
   "outputs": [
    {
     "name": "stdout",
     "output_type": "stream",
     "text": [
      "download: s3://ydatazian/sample_submission.csv to ./sample_submission.csv\n"
     ]
    }
   ],
   "source": [
    "! aws s3 cp s3://ydatazian/sample_submission.csv ."
   ]
  },
  {
   "cell_type": "code",
   "execution_count": 179,
   "metadata": {},
   "outputs": [
    {
     "name": "stdout",
     "output_type": "stream",
     "text": [
      "display_id,ad_id\r\n",
      "16874594,66758 150083 162754 170392 172888 180797\r\n",
      "16874595,8846 30609 143982\r\n",
      "16874596,11430 57197 132820 153260 173005 288385 289122 289915\r\n",
      "16874597,137858 143981 155945 180965 182039 285834 305790 308836\r\n"
     ]
    }
   ],
   "source": [
    "# https://www.kaggle.com/c/outbrain-click-prediction/overview/evaluation\n",
    "# For each display_id in the test set, you must predict a space-delimited list of ad_ids, \n",
    "# ordered by decreasing likelihood of being clicked.\n",
    "! head -n 5 ./sample_submission.csv"
   ]
  },
  {
   "cell_type": "code",
   "execution_count": 175,
   "metadata": {},
   "outputs": [],
   "source": [
    "# Create test dataset\n",
    "\n",
    "# Initial dataset\n",
    "dataset_test = se.sql(\"\"\"\n",
    "select\n",
    "    \"0\" as clicked,\n",
    "    clicks_test.display_id,\n",
    "    events.geo_location,\n",
    "    events.timestamp,\n",
    "    clicks_test.ad_id,\n",
    "    promoted_content.campaign_id,\n",
    "    promoted_content.advertiser_id,\n",
    "    promoted_content.document_id ad_document_id,\n",
    "    events.platform,\n",
    "    events.uuid,\n",
    "    events.document_id display_document_id,\n",
    "    documents_meta.publisher_id,\n",
    "    documents_meta.publish_time,\n",
    "    top_cat_final.category_id,\n",
    "    top_topic_final.topic_id,\n",
    "    top_entity_final.entity_id\n",
    "from clicks_test\n",
    "join events on clicks_test.display_id = events.display_id\n",
    "join promoted_content on clicks_test.ad_id = promoted_content.ad_id\n",
    "join documents_meta on events.document_id = documents_meta.document_id\n",
    "left join top_cat_final on events.document_id = top_cat_final.document_id\n",
    "left join top_topic_final on events.document_id = top_topic_final.document_id\n",
    "left join top_entity_final on events.document_id = top_entity_final.document_id\n",
    "\"\"\")\n",
    "\n",
    "# Split geo location to country, state and dma\n",
    "split_col = split(dataset_test['geo_location'], '>')\n",
    "dataset_test = dataset_test.withColumn('country',split_col.getItem(0))\n",
    "dataset_test = dataset_test.withColumn('state',split_col.getItem(1))\n",
    "dataset_test = dataset_test.withColumn('dma',split_col.getItem(2))\n",
    "dataset_test = dataset_test.drop('geo_location')\n",
    "\n",
    "# Add day of week & hour\n",
    "date_time = from_unixtime(dataset_test['timestamp'])\n",
    "dataset_test = dataset_test.withColumn('day_of_week',date_format(date_time, 'u'))\n",
    "dataset_test = dataset_test.withColumn('hour',date_format(date_time, 'H'))\n",
    "\n",
    "# Convert publish time to unixtime\n",
    "unix_time = unix_timestamp(dataset_test['publish_time'])\n",
    "dataset_test = dataset_test.withColumn('publish_time',unix_time)\n",
    "dataset_test = dataset_test.withColumn(\"publish_time\",col(\"publish_time\").cast(StringType()))\n",
    "\n",
    "# Fill nulls\n",
    "dataset_test = dataset_test.fillna('0')"
   ]
  },
  {
   "cell_type": "code",
   "execution_count": 180,
   "metadata": {},
   "outputs": [
    {
     "name": "stdout",
     "output_type": "stream",
     "text": [
      "CPU times: user 8.78 ms, sys: 7.4 ms, total: 16.2 ms\n",
      "Wall time: 2min 18s\n"
     ]
    }
   ],
   "source": [
    "%%time\n",
    "dataset_test.write.parquet(\"/test_features.parquet\", mode='overwrite')"
   ]
  },
  {
   "cell_type": "code",
   "execution_count": 183,
   "metadata": {},
   "outputs": [
    {
     "name": "stdout",
     "output_type": "stream",
     "text": [
      "Deleted /test_features.txt\n",
      "CPU times: user 66 ms, sys: 15.4 ms, total: 81.5 ms\n",
      "Wall time: 2min 28s\n"
     ]
    }
   ],
   "source": [
    "%%time\n",
    "! hdfs dfs -rm -r /test_features.txt\n",
    "(\n",
    "    se.read.parquet(\"/test_features.parquet\")\n",
    "    .rdd\n",
    "    .map(vw_row_mapper)\n",
    "    .saveAsTextFile(\"/test_features.txt\")\n",
    ")"
   ]
  },
  {
   "cell_type": "code",
   "execution_count": 184,
   "metadata": {},
   "outputs": [
    {
     "name": "stdout",
     "output_type": "stream",
     "text": [
      "-1 20285030_68743| display_id_20285030 timestamp_1154557712 ad_id_68743 campaign_id_5043 advertiser_id_1726 ad_document_id_874654 platform_1 uuid_f3e881f6f85843 display_document_id_1000495 publisher_id_9 publish_time_1450774800 category_id_1607 topic_id_174 entity_id_cf466fba71c45fffb360f9654866b8e2 country_NL state_11 dma_0 day_of_week_3 hour_22\r\n",
      "-1 20285030_141476| display_id_20285030 timestamp_1154557712 ad_id_141476 campaign_id_18112 advertiser_id_2198 ad_document_id_1325589 platform_1 uuid_f3e881f6f85843 display_document_id_1000495 publisher_id_9 publish_time_1450774800 category_id_1607 topic_id_174 entity_id_cf466fba71c45fffb360f9654866b8e2 country_NL state_11 dma_0 day_of_week_3 hour_22\r\n",
      "-1 20285030_204432| display_id_20285030 timestamp_1154557712 ad_id_204432 campaign_id_6825 advertiser_id_1726 ad_document_id_1518899 platform_1 uuid_f3e881f6f85843 display_document_id_1000495 publisher_id_9 publish_time_1450774800 category_id_1607 topic_id_174 entity_id_cf466fba71c45fffb360f9654866b8e2 country_NL state_11 dma_0 day_of_week_3 hour_22\r\n",
      "-1 20285030_243487| display_id_20285030 timestamp_1154557712 ad_id_243487 campaign_id_25946 advertiser_id_1746 ad_document_id_1603509 platform_1 uuid_f3e881f6f85843 display_document_id_1000495 publisher_id_9 publish_time_1450774800 category_id_1607 topic_id_174 entity_id_cf466fba71c45fffb360f9654866b8e2 country_NL state_11 dma_0 day_of_week_3 hour_22\r\n",
      "-1 20285030_243505| display_id_20285030 timestamp_1154557712 ad_id_243505 campaign_id_25949 advertiser_id_1746 ad_document_id_1603543 platform_1 uuid_f3e881f6f85843 display_document_id_1000495 publisher_id_9 publish_time_1450774800 category_id_1607 topic_id_174 entity_id_cf466fba71c45fffb360f9654866b8e2 country_NL state_11 dma_0 day_of_week_3 hour_22\r\n"
     ]
    }
   ],
   "source": [
    "# copy file to local master node\n",
    "! rm /mnt/test.txt\n",
    "! hdfs dfs -getmerge /test_features.txt /mnt/test.txt\n",
    "# preview local file\n",
    "! head -n 5 /mnt/test.txt"
   ]
  },
  {
   "cell_type": "code",
   "execution_count": 185,
   "metadata": {
    "scrolled": true
   },
   "outputs": [
    {
     "name": "stdout",
     "output_type": "stream",
     "text": [
      "only testing\n",
      "predictions = /mnt/predictions.txt\n",
      "Enabling FTRL based optimization\n",
      "Algorithm used: Proximal-FTRL\n",
      "ftrl_alpha = 0.005\n",
      "ftrl_beta = 0.1\n",
      "Num weight bits = 24\n",
      "learning rate = 0.5\n",
      "initial_t = 0\n",
      "power_t = 0.5\n",
      "using no cache\n",
      "Reading datafile = /mnt/test.txt\n",
      "num sources = 1\n",
      "average  since         example        example  current  current  current\n",
      "loss     last          counter         weight    label  predict features\n",
      "0.822554 0.822554      1000000      1000000.0  -1.0000   0.1332       20\n",
      "0.890899 0.959245      2000000      2000000.0  -1.0000   0.2587       20\n",
      "0.937992 1.032177      3000000      3000000.0  -1.0000   0.2321       20\n",
      "0.980220 1.106906      4000000      4000000.0  -1.0000   0.3498       20\n",
      "1.102726 1.592748      5000000      5000000.0  -1.0000   0.2016       20\n",
      "1.112239 1.159807      6000000      6000000.0  -1.0000   0.2019       20\n",
      "1.098408 1.015421      7000000      7000000.0  -1.0000   0.1613       20\n",
      "1.114053 1.223562      8000000      8000000.0  -1.0000   0.1979       20\n",
      "1.100982 0.996414      9000000      9000000.0  -1.0000   0.3518       20\n",
      "1.091079 1.001954     10000000     10000000.0  -1.0000   0.0618       20\n",
      "1.087679 1.053676     11000000     11000000.0  -1.0000   0.3837       20\n",
      "1.079844 0.993660     12000000     12000000.0  -1.0000   0.1021       20\n",
      "1.071573 0.972331     13000000     13000000.0  -1.0000   0.1820       20\n",
      "1.069427 1.041523     14000000     14000000.0  -1.0000   0.4001       20\n",
      "1.063364 0.978480     15000000     15000000.0  -1.0000   0.1249       20\n",
      "1.062931 1.056443     16000000     16000000.0  -1.0000   0.0931       20\n",
      "1.063830 1.078216     17000000     17000000.0  -1.0000   0.1049       20\n",
      "1.064690 1.079302     18000000     18000000.0  -1.0000   0.0538       20\n",
      "1.060850 0.991735     19000000     19000000.0  -1.0000   0.2653       20\n",
      "1.059422 1.032284     20000000     20000000.0  -1.0000   0.1523       20\n",
      "1.057871 1.026849     21000000     21000000.0  -1.0000   0.1809       20\n",
      "1.058288 1.067058     22000000     22000000.0  -1.0000   0.1561       20\n",
      "1.056052 1.006859     23000000     23000000.0  -1.0000   0.0723       20\n",
      "1.054980 1.030311     24000000     24000000.0  -1.0000   0.2278       20\n",
      "1.052532 0.993778     25000000     25000000.0  -1.0000   0.2423       20\n",
      "1.051618 1.028784     26000000     26000000.0  -1.0000   0.3148       20\n",
      "1.050616 1.024557     27000000     27000000.0  -1.0000   0.1583       20\n",
      "1.050379 1.043976     28000000     28000000.0  -1.0000   0.2501       20\n",
      "1.051848 1.092974     29000000     29000000.0  -1.0000   0.0643       20\n",
      "1.052254 1.064036     30000000     30000000.0  -1.0000   0.2128       20\n",
      "1.051628 1.032861     31000000     31000000.0  -1.0000   0.1831       20\n",
      "1.051661 1.052679     32000000     32000000.0  -1.0000   0.2770       20\n",
      "\n",
      "finished run\n",
      "number of examples = 32225162\n",
      "weighted example sum = 32225162.000000\n",
      "weighted label sum = -32225162.000000\n",
      "average loss = 1.051341\n",
      "best constant = -1.000000\n",
      "best constant's loss = 0.000000\n",
      "total feature number = 644503240\n",
      "0.135344 20285030_68743\n",
      "0.117328 20285030_141476\n",
      "0.213365 20285030_204432\n",
      "0.163385 20285030_243487\n",
      "0.170820 20285030_243505\n"
     ]
    }
   ],
   "source": [
    "! ./vw -d /mnt/test.txt -i model -t -k -p /mnt/predictions.txt --progress 1000000 --link=logistic\n",
    "# predicted probabilities of \"1\" class\n",
    "! head -n 5 /mnt/predictions.txt"
   ]
  },
  {
   "cell_type": "code",
   "execution_count": 186,
   "metadata": {},
   "outputs": [
    {
     "name": "stdout",
     "output_type": "stream",
     "text": [
      "32225162 /mnt/predictions.txt\r\n"
     ]
    }
   ],
   "source": [
    "! wc -l /mnt/predictions.txt"
   ]
  },
  {
   "cell_type": "code",
   "execution_count": 187,
   "metadata": {},
   "outputs": [
    {
     "data": {
      "application/vnd.jupyter.widget-view+json": {
       "model_id": "e0c2eb01427547318547b43ef721a42b",
       "version_major": 2,
       "version_minor": 0
      },
      "text/plain": [
       "0it [00:00, ?it/s]"
      ]
     },
     "metadata": {},
     "output_type": "display_data"
    }
   ],
   "source": [
    "from collections import defaultdict\n",
    "scores_by_display_id = defaultdict(dict)\n",
    "for line in tqdm.tqdm(open('/mnt/predictions.txt')):\n",
    "    score, tag = line.strip().split(\" \")\n",
    "    score = float(score)\n",
    "    display_id, ad_id = tag.split(\"_\")\n",
    "    scores_by_display_id[display_id][ad_id] = score"
   ]
  },
  {
   "cell_type": "code",
   "execution_count": 188,
   "metadata": {},
   "outputs": [
    {
     "data": {
      "application/vnd.jupyter.widget-view+json": {
       "model_id": "6323e13dc7dc4e48a5ea203aa564951c",
       "version_major": 2,
       "version_minor": 0
      },
      "text/plain": [
       "  0%|          | 0/6245533 [00:00<?, ?it/s]"
      ]
     },
     "metadata": {},
     "output_type": "display_data"
    }
   ],
   "source": [
    "with open(\"submission.txt\", \"w\") as f:\n",
    "    f.write(\"display_id,ad_id\\n\")\n",
    "    for k, vs in tqdm.tqdm_notebook(scores_by_display_id.items()):\n",
    "        f.write(\"{},{}\\n\".format(\n",
    "            k, \n",
    "            \" \".join([v[0] for v in sorted(vs.items(), key=lambda x: -x[1])])\n",
    "        ))"
   ]
  },
  {
   "cell_type": "code",
   "execution_count": 191,
   "metadata": {},
   "outputs": [
    {
     "name": "stdout",
     "output_type": "stream",
     "text": [
      "100%|████████████████████████████████████████| 260M/260M [00:03<00:00, 78.0MB/s]\n",
      "Successfully submitted to Outbrain Click Prediction"
     ]
    }
   ],
   "source": [
    "! kaggle competitions submit -f submission.txt outbrain-click-prediction -m \"baseline\""
   ]
  },
  {
   "cell_type": "code",
   "execution_count": null,
   "metadata": {},
   "outputs": [],
   "source": [
    "# Private Score 0.64034\n",
    "# Public Score 0.64004"
   ]
  }
 ],
 "metadata": {
  "kernelspec": {
   "display_name": "Python 3",
   "language": "python",
   "name": "python3"
  },
  "language_info": {
   "codemirror_mode": {
    "name": "ipython",
    "version": 3
   },
   "file_extension": ".py",
   "mimetype": "text/x-python",
   "name": "python",
   "nbconvert_exporter": "python",
   "pygments_lexer": "ipython3",
   "version": "3.8.3"
  }
 },
 "nbformat": 4,
 "nbformat_minor": 4
}

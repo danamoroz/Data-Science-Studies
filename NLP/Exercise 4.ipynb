{
  "nbformat": 4,
  "nbformat_minor": 0,
  "metadata": {
    "colab": {
      "name": "HW4_2021_ED.ipynb",
      "provenance": [],
      "collapsed_sections": []
    },
    "kernelspec": {
      "display_name": "Python 3",
      "name": "python3"
    },
    "widgets": {
      "application/vnd.jupyter.widget-state+json": {
        "04c5ade47e664c7e98b56a8ad311438b": {
          "model_module": "@jupyter-widgets/controls",
          "model_name": "HBoxModel",
          "state": {
            "_view_name": "HBoxView",
            "_dom_classes": [],
            "_model_name": "HBoxModel",
            "_view_module": "@jupyter-widgets/controls",
            "_model_module_version": "1.5.0",
            "_view_count": null,
            "_view_module_version": "1.5.0",
            "box_style": "",
            "layout": "IPY_MODEL_2b8b91ac804c44e6a7f9e39a1136786e",
            "_model_module": "@jupyter-widgets/controls",
            "children": [
              "IPY_MODEL_1baaa1f35c5f4d8885ba4e5d648dc540",
              "IPY_MODEL_bcf5d4720f0e4052a6c01ceb01ea4bcf"
            ]
          }
        },
        "2b8b91ac804c44e6a7f9e39a1136786e": {
          "model_module": "@jupyter-widgets/base",
          "model_name": "LayoutModel",
          "state": {
            "_view_name": "LayoutView",
            "grid_template_rows": null,
            "right": null,
            "justify_content": null,
            "_view_module": "@jupyter-widgets/base",
            "overflow": null,
            "_model_module_version": "1.2.0",
            "_view_count": null,
            "flex_flow": null,
            "width": null,
            "min_width": null,
            "border": null,
            "align_items": null,
            "bottom": null,
            "_model_module": "@jupyter-widgets/base",
            "top": null,
            "grid_column": null,
            "overflow_y": null,
            "overflow_x": null,
            "grid_auto_flow": null,
            "grid_area": null,
            "grid_template_columns": null,
            "flex": null,
            "_model_name": "LayoutModel",
            "justify_items": null,
            "grid_row": null,
            "max_height": null,
            "align_content": null,
            "visibility": null,
            "align_self": null,
            "height": null,
            "min_height": null,
            "padding": null,
            "grid_auto_rows": null,
            "grid_gap": null,
            "max_width": null,
            "order": null,
            "_view_module_version": "1.2.0",
            "grid_template_areas": null,
            "object_position": null,
            "object_fit": null,
            "grid_auto_columns": null,
            "margin": null,
            "display": null,
            "left": null
          }
        },
        "1baaa1f35c5f4d8885ba4e5d648dc540": {
          "model_module": "@jupyter-widgets/controls",
          "model_name": "FloatProgressModel",
          "state": {
            "_view_name": "ProgressView",
            "style": "IPY_MODEL_598068423bb646dc95cbc20258e044ed",
            "_dom_classes": [],
            "description": "100%",
            "_model_name": "FloatProgressModel",
            "bar_style": "success",
            "max": 83426730,
            "_view_module": "@jupyter-widgets/controls",
            "_model_module_version": "1.5.0",
            "value": 83426730,
            "_view_count": null,
            "_view_module_version": "1.5.0",
            "orientation": "horizontal",
            "min": 0,
            "description_tooltip": null,
            "_model_module": "@jupyter-widgets/controls",
            "layout": "IPY_MODEL_23e6e87e590a4b0fbf3cf98e71b99d08"
          }
        },
        "bcf5d4720f0e4052a6c01ceb01ea4bcf": {
          "model_module": "@jupyter-widgets/controls",
          "model_name": "HTMLModel",
          "state": {
            "_view_name": "HTMLView",
            "style": "IPY_MODEL_6053918a8b9544acac3df3a3cc1eb44e",
            "_dom_classes": [],
            "description": "",
            "_model_name": "HTMLModel",
            "placeholder": "​",
            "_view_module": "@jupyter-widgets/controls",
            "_model_module_version": "1.5.0",
            "value": " 83.4M/83.4M [00:11&lt;00:00, 6.99MB/s]",
            "_view_count": null,
            "_view_module_version": "1.5.0",
            "description_tooltip": null,
            "_model_module": "@jupyter-widgets/controls",
            "layout": "IPY_MODEL_ffdfe2b4af2f42eab81a64740559777d"
          }
        },
        "598068423bb646dc95cbc20258e044ed": {
          "model_module": "@jupyter-widgets/controls",
          "model_name": "ProgressStyleModel",
          "state": {
            "_view_name": "StyleView",
            "_model_name": "ProgressStyleModel",
            "description_width": "initial",
            "_view_module": "@jupyter-widgets/base",
            "_model_module_version": "1.5.0",
            "_view_count": null,
            "_view_module_version": "1.2.0",
            "bar_color": null,
            "_model_module": "@jupyter-widgets/controls"
          }
        },
        "23e6e87e590a4b0fbf3cf98e71b99d08": {
          "model_module": "@jupyter-widgets/base",
          "model_name": "LayoutModel",
          "state": {
            "_view_name": "LayoutView",
            "grid_template_rows": null,
            "right": null,
            "justify_content": null,
            "_view_module": "@jupyter-widgets/base",
            "overflow": null,
            "_model_module_version": "1.2.0",
            "_view_count": null,
            "flex_flow": null,
            "width": null,
            "min_width": null,
            "border": null,
            "align_items": null,
            "bottom": null,
            "_model_module": "@jupyter-widgets/base",
            "top": null,
            "grid_column": null,
            "overflow_y": null,
            "overflow_x": null,
            "grid_auto_flow": null,
            "grid_area": null,
            "grid_template_columns": null,
            "flex": null,
            "_model_name": "LayoutModel",
            "justify_items": null,
            "grid_row": null,
            "max_height": null,
            "align_content": null,
            "visibility": null,
            "align_self": null,
            "height": null,
            "min_height": null,
            "padding": null,
            "grid_auto_rows": null,
            "grid_gap": null,
            "max_width": null,
            "order": null,
            "_view_module_version": "1.2.0",
            "grid_template_areas": null,
            "object_position": null,
            "object_fit": null,
            "grid_auto_columns": null,
            "margin": null,
            "display": null,
            "left": null
          }
        },
        "6053918a8b9544acac3df3a3cc1eb44e": {
          "model_module": "@jupyter-widgets/controls",
          "model_name": "DescriptionStyleModel",
          "state": {
            "_view_name": "StyleView",
            "_model_name": "DescriptionStyleModel",
            "description_width": "",
            "_view_module": "@jupyter-widgets/base",
            "_model_module_version": "1.5.0",
            "_view_count": null,
            "_view_module_version": "1.2.0",
            "_model_module": "@jupyter-widgets/controls"
          }
        },
        "ffdfe2b4af2f42eab81a64740559777d": {
          "model_module": "@jupyter-widgets/base",
          "model_name": "LayoutModel",
          "state": {
            "_view_name": "LayoutView",
            "grid_template_rows": null,
            "right": null,
            "justify_content": null,
            "_view_module": "@jupyter-widgets/base",
            "overflow": null,
            "_model_module_version": "1.2.0",
            "_view_count": null,
            "flex_flow": null,
            "width": null,
            "min_width": null,
            "border": null,
            "align_items": null,
            "bottom": null,
            "_model_module": "@jupyter-widgets/base",
            "top": null,
            "grid_column": null,
            "overflow_y": null,
            "overflow_x": null,
            "grid_auto_flow": null,
            "grid_area": null,
            "grid_template_columns": null,
            "flex": null,
            "_model_name": "LayoutModel",
            "justify_items": null,
            "grid_row": null,
            "max_height": null,
            "align_content": null,
            "visibility": null,
            "align_self": null,
            "height": null,
            "min_height": null,
            "padding": null,
            "grid_auto_rows": null,
            "grid_gap": null,
            "max_width": null,
            "order": null,
            "_view_module_version": "1.2.0",
            "grid_template_areas": null,
            "object_position": null,
            "object_fit": null,
            "grid_auto_columns": null,
            "margin": null,
            "display": null,
            "left": null
          }
        },
        "6b9b8711ad4c4fcbb2f7628e0afe20b8": {
          "model_module": "@jupyter-widgets/controls",
          "model_name": "HBoxModel",
          "state": {
            "_view_name": "HBoxView",
            "_dom_classes": [],
            "_model_name": "HBoxModel",
            "_view_module": "@jupyter-widgets/controls",
            "_model_module_version": "1.5.0",
            "_view_count": null,
            "_view_module_version": "1.5.0",
            "box_style": "",
            "layout": "IPY_MODEL_d5b454b4c0db468c98ef269900c6c2ad",
            "_model_module": "@jupyter-widgets/controls",
            "children": [
              "IPY_MODEL_7feae6ccdcba4be19bd68f7f1cf8dc90",
              "IPY_MODEL_fb92b8328b2d421194cceb45820c1c8f"
            ]
          }
        },
        "d5b454b4c0db468c98ef269900c6c2ad": {
          "model_module": "@jupyter-widgets/base",
          "model_name": "LayoutModel",
          "state": {
            "_view_name": "LayoutView",
            "grid_template_rows": null,
            "right": null,
            "justify_content": null,
            "_view_module": "@jupyter-widgets/base",
            "overflow": null,
            "_model_module_version": "1.2.0",
            "_view_count": null,
            "flex_flow": null,
            "width": null,
            "min_width": null,
            "border": null,
            "align_items": null,
            "bottom": null,
            "_model_module": "@jupyter-widgets/base",
            "top": null,
            "grid_column": null,
            "overflow_y": null,
            "overflow_x": null,
            "grid_auto_flow": null,
            "grid_area": null,
            "grid_template_columns": null,
            "flex": null,
            "_model_name": "LayoutModel",
            "justify_items": null,
            "grid_row": null,
            "max_height": null,
            "align_content": null,
            "visibility": null,
            "align_self": null,
            "height": null,
            "min_height": null,
            "padding": null,
            "grid_auto_rows": null,
            "grid_gap": null,
            "max_width": null,
            "order": null,
            "_view_module_version": "1.2.0",
            "grid_template_areas": null,
            "object_position": null,
            "object_fit": null,
            "grid_auto_columns": null,
            "margin": null,
            "display": null,
            "left": null
          }
        },
        "7feae6ccdcba4be19bd68f7f1cf8dc90": {
          "model_module": "@jupyter-widgets/controls",
          "model_name": "FloatProgressModel",
          "state": {
            "_view_name": "ProgressView",
            "style": "IPY_MODEL_9b0f063f8ee94c29ad827b926b50cf06",
            "_dom_classes": [],
            "description": "Batches: 100%",
            "_model_name": "FloatProgressModel",
            "bar_style": "success",
            "max": 1418,
            "_view_module": "@jupyter-widgets/controls",
            "_model_module_version": "1.5.0",
            "value": 1418,
            "_view_count": null,
            "_view_module_version": "1.5.0",
            "orientation": "horizontal",
            "min": 0,
            "description_tooltip": null,
            "_model_module": "@jupyter-widgets/controls",
            "layout": "IPY_MODEL_173cd48f2a0b4aa5bbe9c5d7b04efa8b"
          }
        },
        "fb92b8328b2d421194cceb45820c1c8f": {
          "model_module": "@jupyter-widgets/controls",
          "model_name": "HTMLModel",
          "state": {
            "_view_name": "HTMLView",
            "style": "IPY_MODEL_c524c87c7b2a4e76b68dc86598f45132",
            "_dom_classes": [],
            "description": "",
            "_model_name": "HTMLModel",
            "placeholder": "​",
            "_view_module": "@jupyter-widgets/controls",
            "_model_module_version": "1.5.0",
            "value": " 1418/1418 [00:17&lt;00:00, 80.14it/s]",
            "_view_count": null,
            "_view_module_version": "1.5.0",
            "description_tooltip": null,
            "_model_module": "@jupyter-widgets/controls",
            "layout": "IPY_MODEL_0cb9a9c2bfa84503bd47661c81b6e324"
          }
        },
        "9b0f063f8ee94c29ad827b926b50cf06": {
          "model_module": "@jupyter-widgets/controls",
          "model_name": "ProgressStyleModel",
          "state": {
            "_view_name": "StyleView",
            "_model_name": "ProgressStyleModel",
            "description_width": "initial",
            "_view_module": "@jupyter-widgets/base",
            "_model_module_version": "1.5.0",
            "_view_count": null,
            "_view_module_version": "1.2.0",
            "bar_color": null,
            "_model_module": "@jupyter-widgets/controls"
          }
        },
        "173cd48f2a0b4aa5bbe9c5d7b04efa8b": {
          "model_module": "@jupyter-widgets/base",
          "model_name": "LayoutModel",
          "state": {
            "_view_name": "LayoutView",
            "grid_template_rows": null,
            "right": null,
            "justify_content": null,
            "_view_module": "@jupyter-widgets/base",
            "overflow": null,
            "_model_module_version": "1.2.0",
            "_view_count": null,
            "flex_flow": null,
            "width": null,
            "min_width": null,
            "border": null,
            "align_items": null,
            "bottom": null,
            "_model_module": "@jupyter-widgets/base",
            "top": null,
            "grid_column": null,
            "overflow_y": null,
            "overflow_x": null,
            "grid_auto_flow": null,
            "grid_area": null,
            "grid_template_columns": null,
            "flex": null,
            "_model_name": "LayoutModel",
            "justify_items": null,
            "grid_row": null,
            "max_height": null,
            "align_content": null,
            "visibility": null,
            "align_self": null,
            "height": null,
            "min_height": null,
            "padding": null,
            "grid_auto_rows": null,
            "grid_gap": null,
            "max_width": null,
            "order": null,
            "_view_module_version": "1.2.0",
            "grid_template_areas": null,
            "object_position": null,
            "object_fit": null,
            "grid_auto_columns": null,
            "margin": null,
            "display": null,
            "left": null
          }
        },
        "c524c87c7b2a4e76b68dc86598f45132": {
          "model_module": "@jupyter-widgets/controls",
          "model_name": "DescriptionStyleModel",
          "state": {
            "_view_name": "StyleView",
            "_model_name": "DescriptionStyleModel",
            "description_width": "",
            "_view_module": "@jupyter-widgets/base",
            "_model_module_version": "1.5.0",
            "_view_count": null,
            "_view_module_version": "1.2.0",
            "_model_module": "@jupyter-widgets/controls"
          }
        },
        "0cb9a9c2bfa84503bd47661c81b6e324": {
          "model_module": "@jupyter-widgets/base",
          "model_name": "LayoutModel",
          "state": {
            "_view_name": "LayoutView",
            "grid_template_rows": null,
            "right": null,
            "justify_content": null,
            "_view_module": "@jupyter-widgets/base",
            "overflow": null,
            "_model_module_version": "1.2.0",
            "_view_count": null,
            "flex_flow": null,
            "width": null,
            "min_width": null,
            "border": null,
            "align_items": null,
            "bottom": null,
            "_model_module": "@jupyter-widgets/base",
            "top": null,
            "grid_column": null,
            "overflow_y": null,
            "overflow_x": null,
            "grid_auto_flow": null,
            "grid_area": null,
            "grid_template_columns": null,
            "flex": null,
            "_model_name": "LayoutModel",
            "justify_items": null,
            "grid_row": null,
            "max_height": null,
            "align_content": null,
            "visibility": null,
            "align_self": null,
            "height": null,
            "min_height": null,
            "padding": null,
            "grid_auto_rows": null,
            "grid_gap": null,
            "max_width": null,
            "order": null,
            "_view_module_version": "1.2.0",
            "grid_template_areas": null,
            "object_position": null,
            "object_fit": null,
            "grid_auto_columns": null,
            "margin": null,
            "display": null,
            "left": null
          }
        },
        "9afe2bbb89a5425ca5ed913df0e33081": {
          "model_module": "@jupyter-widgets/controls",
          "model_name": "HBoxModel",
          "state": {
            "_view_name": "HBoxView",
            "_dom_classes": [],
            "_model_name": "HBoxModel",
            "_view_module": "@jupyter-widgets/controls",
            "_model_module_version": "1.5.0",
            "_view_count": null,
            "_view_module_version": "1.5.0",
            "box_style": "",
            "layout": "IPY_MODEL_bc1d22972c0446f1b1abeb8f487d2d99",
            "_model_module": "@jupyter-widgets/controls",
            "children": [
              "IPY_MODEL_f38d01bd212e425cb0bfb95684631bf2",
              "IPY_MODEL_8be84fd59e4a47cca8d28d6896ed06ac"
            ]
          }
        },
        "bc1d22972c0446f1b1abeb8f487d2d99": {
          "model_module": "@jupyter-widgets/base",
          "model_name": "LayoutModel",
          "state": {
            "_view_name": "LayoutView",
            "grid_template_rows": null,
            "right": null,
            "justify_content": null,
            "_view_module": "@jupyter-widgets/base",
            "overflow": null,
            "_model_module_version": "1.2.0",
            "_view_count": null,
            "flex_flow": null,
            "width": null,
            "min_width": null,
            "border": null,
            "align_items": null,
            "bottom": null,
            "_model_module": "@jupyter-widgets/base",
            "top": null,
            "grid_column": null,
            "overflow_y": null,
            "overflow_x": null,
            "grid_auto_flow": null,
            "grid_area": null,
            "grid_template_columns": null,
            "flex": null,
            "_model_name": "LayoutModel",
            "justify_items": null,
            "grid_row": null,
            "max_height": null,
            "align_content": null,
            "visibility": null,
            "align_self": null,
            "height": null,
            "min_height": null,
            "padding": null,
            "grid_auto_rows": null,
            "grid_gap": null,
            "max_width": null,
            "order": null,
            "_view_module_version": "1.2.0",
            "grid_template_areas": null,
            "object_position": null,
            "object_fit": null,
            "grid_auto_columns": null,
            "margin": null,
            "display": null,
            "left": null
          }
        },
        "f38d01bd212e425cb0bfb95684631bf2": {
          "model_module": "@jupyter-widgets/controls",
          "model_name": "FloatProgressModel",
          "state": {
            "_view_name": "ProgressView",
            "style": "IPY_MODEL_ed2d8a2d357b4eafa16b4dcf85f48637",
            "_dom_classes": [],
            "description": "Batches: 100%",
            "_model_name": "FloatProgressModel",
            "bar_style": "success",
            "max": 1418,
            "_view_module": "@jupyter-widgets/controls",
            "_model_module_version": "1.5.0",
            "value": 1418,
            "_view_count": null,
            "_view_module_version": "1.5.0",
            "orientation": "horizontal",
            "min": 0,
            "description_tooltip": null,
            "_model_module": "@jupyter-widgets/controls",
            "layout": "IPY_MODEL_9a53c74865594a0db51751c3e1ea0848"
          }
        },
        "8be84fd59e4a47cca8d28d6896ed06ac": {
          "model_module": "@jupyter-widgets/controls",
          "model_name": "HTMLModel",
          "state": {
            "_view_name": "HTMLView",
            "style": "IPY_MODEL_03e440acc1f14f69929cf194e34e8467",
            "_dom_classes": [],
            "description": "",
            "_model_name": "HTMLModel",
            "placeholder": "​",
            "_view_module": "@jupyter-widgets/controls",
            "_model_module_version": "1.5.0",
            "value": " 1418/1418 [23:42&lt;00:00,  1.00s/it]",
            "_view_count": null,
            "_view_module_version": "1.5.0",
            "description_tooltip": null,
            "_model_module": "@jupyter-widgets/controls",
            "layout": "IPY_MODEL_3364ce1dad744af1b78305058c87b913"
          }
        },
        "ed2d8a2d357b4eafa16b4dcf85f48637": {
          "model_module": "@jupyter-widgets/controls",
          "model_name": "ProgressStyleModel",
          "state": {
            "_view_name": "StyleView",
            "_model_name": "ProgressStyleModel",
            "description_width": "initial",
            "_view_module": "@jupyter-widgets/base",
            "_model_module_version": "1.5.0",
            "_view_count": null,
            "_view_module_version": "1.2.0",
            "bar_color": null,
            "_model_module": "@jupyter-widgets/controls"
          }
        },
        "9a53c74865594a0db51751c3e1ea0848": {
          "model_module": "@jupyter-widgets/base",
          "model_name": "LayoutModel",
          "state": {
            "_view_name": "LayoutView",
            "grid_template_rows": null,
            "right": null,
            "justify_content": null,
            "_view_module": "@jupyter-widgets/base",
            "overflow": null,
            "_model_module_version": "1.2.0",
            "_view_count": null,
            "flex_flow": null,
            "width": null,
            "min_width": null,
            "border": null,
            "align_items": null,
            "bottom": null,
            "_model_module": "@jupyter-widgets/base",
            "top": null,
            "grid_column": null,
            "overflow_y": null,
            "overflow_x": null,
            "grid_auto_flow": null,
            "grid_area": null,
            "grid_template_columns": null,
            "flex": null,
            "_model_name": "LayoutModel",
            "justify_items": null,
            "grid_row": null,
            "max_height": null,
            "align_content": null,
            "visibility": null,
            "align_self": null,
            "height": null,
            "min_height": null,
            "padding": null,
            "grid_auto_rows": null,
            "grid_gap": null,
            "max_width": null,
            "order": null,
            "_view_module_version": "1.2.0",
            "grid_template_areas": null,
            "object_position": null,
            "object_fit": null,
            "grid_auto_columns": null,
            "margin": null,
            "display": null,
            "left": null
          }
        },
        "03e440acc1f14f69929cf194e34e8467": {
          "model_module": "@jupyter-widgets/controls",
          "model_name": "DescriptionStyleModel",
          "state": {
            "_view_name": "StyleView",
            "_model_name": "DescriptionStyleModel",
            "description_width": "",
            "_view_module": "@jupyter-widgets/base",
            "_model_module_version": "1.5.0",
            "_view_count": null,
            "_view_module_version": "1.2.0",
            "_model_module": "@jupyter-widgets/controls"
          }
        },
        "3364ce1dad744af1b78305058c87b913": {
          "model_module": "@jupyter-widgets/base",
          "model_name": "LayoutModel",
          "state": {
            "_view_name": "LayoutView",
            "grid_template_rows": null,
            "right": null,
            "justify_content": null,
            "_view_module": "@jupyter-widgets/base",
            "overflow": null,
            "_model_module_version": "1.2.0",
            "_view_count": null,
            "flex_flow": null,
            "width": null,
            "min_width": null,
            "border": null,
            "align_items": null,
            "bottom": null,
            "_model_module": "@jupyter-widgets/base",
            "top": null,
            "grid_column": null,
            "overflow_y": null,
            "overflow_x": null,
            "grid_auto_flow": null,
            "grid_area": null,
            "grid_template_columns": null,
            "flex": null,
            "_model_name": "LayoutModel",
            "justify_items": null,
            "grid_row": null,
            "max_height": null,
            "align_content": null,
            "visibility": null,
            "align_self": null,
            "height": null,
            "min_height": null,
            "padding": null,
            "grid_auto_rows": null,
            "grid_gap": null,
            "max_width": null,
            "order": null,
            "_view_module_version": "1.2.0",
            "grid_template_areas": null,
            "object_position": null,
            "object_fit": null,
            "grid_auto_columns": null,
            "margin": null,
            "display": null,
            "left": null
          }
        },
        "da7fcba722a847439a0df77b430341a3": {
          "model_module": "@jupyter-widgets/controls",
          "model_name": "HBoxModel",
          "state": {
            "_view_name": "HBoxView",
            "_dom_classes": [],
            "_model_name": "HBoxModel",
            "_view_module": "@jupyter-widgets/controls",
            "_model_module_version": "1.5.0",
            "_view_count": null,
            "_view_module_version": "1.5.0",
            "box_style": "",
            "layout": "IPY_MODEL_47474b641239496ea837402a4d7516e0",
            "_model_module": "@jupyter-widgets/controls",
            "children": [
              "IPY_MODEL_ddccf1f653c14d5a9286d80458660fc1",
              "IPY_MODEL_f6770a6766d44738ab3c1b69446c87be"
            ]
          }
        },
        "47474b641239496ea837402a4d7516e0": {
          "model_module": "@jupyter-widgets/base",
          "model_name": "LayoutModel",
          "state": {
            "_view_name": "LayoutView",
            "grid_template_rows": null,
            "right": null,
            "justify_content": null,
            "_view_module": "@jupyter-widgets/base",
            "overflow": null,
            "_model_module_version": "1.2.0",
            "_view_count": null,
            "flex_flow": null,
            "width": null,
            "min_width": null,
            "border": null,
            "align_items": null,
            "bottom": null,
            "_model_module": "@jupyter-widgets/base",
            "top": null,
            "grid_column": null,
            "overflow_y": null,
            "overflow_x": null,
            "grid_auto_flow": null,
            "grid_area": null,
            "grid_template_columns": null,
            "flex": null,
            "_model_name": "LayoutModel",
            "justify_items": null,
            "grid_row": null,
            "max_height": null,
            "align_content": null,
            "visibility": null,
            "align_self": null,
            "height": null,
            "min_height": null,
            "padding": null,
            "grid_auto_rows": null,
            "grid_gap": null,
            "max_width": null,
            "order": null,
            "_view_module_version": "1.2.0",
            "grid_template_areas": null,
            "object_position": null,
            "object_fit": null,
            "grid_auto_columns": null,
            "margin": null,
            "display": null,
            "left": null
          }
        },
        "ddccf1f653c14d5a9286d80458660fc1": {
          "model_module": "@jupyter-widgets/controls",
          "model_name": "FloatProgressModel",
          "state": {
            "_view_name": "ProgressView",
            "style": "IPY_MODEL_9bce77bd9e1a4d44a6f4efbcfae09460",
            "_dom_classes": [],
            "description": "Batches: 100%",
            "_model_name": "FloatProgressModel",
            "bar_style": "success",
            "max": 1418,
            "_view_module": "@jupyter-widgets/controls",
            "_model_module_version": "1.5.0",
            "value": 1418,
            "_view_count": null,
            "_view_module_version": "1.5.0",
            "orientation": "horizontal",
            "min": 0,
            "description_tooltip": null,
            "_model_module": "@jupyter-widgets/controls",
            "layout": "IPY_MODEL_600789cdfb564c76a4e37a6c24fcaee7"
          }
        },
        "f6770a6766d44738ab3c1b69446c87be": {
          "model_module": "@jupyter-widgets/controls",
          "model_name": "HTMLModel",
          "state": {
            "_view_name": "HTMLView",
            "style": "IPY_MODEL_1c0a6d633cb141619205123b64c95d9a",
            "_dom_classes": [],
            "description": "",
            "_model_name": "HTMLModel",
            "placeholder": "​",
            "_view_module": "@jupyter-widgets/controls",
            "_model_module_version": "1.5.0",
            "value": " 1418/1418 [26:04&lt;00:00,  1.10s/it]",
            "_view_count": null,
            "_view_module_version": "1.5.0",
            "description_tooltip": null,
            "_model_module": "@jupyter-widgets/controls",
            "layout": "IPY_MODEL_854d57786a294978982f406417d7a878"
          }
        },
        "9bce77bd9e1a4d44a6f4efbcfae09460": {
          "model_module": "@jupyter-widgets/controls",
          "model_name": "ProgressStyleModel",
          "state": {
            "_view_name": "StyleView",
            "_model_name": "ProgressStyleModel",
            "description_width": "initial",
            "_view_module": "@jupyter-widgets/base",
            "_model_module_version": "1.5.0",
            "_view_count": null,
            "_view_module_version": "1.2.0",
            "bar_color": null,
            "_model_module": "@jupyter-widgets/controls"
          }
        },
        "600789cdfb564c76a4e37a6c24fcaee7": {
          "model_module": "@jupyter-widgets/base",
          "model_name": "LayoutModel",
          "state": {
            "_view_name": "LayoutView",
            "grid_template_rows": null,
            "right": null,
            "justify_content": null,
            "_view_module": "@jupyter-widgets/base",
            "overflow": null,
            "_model_module_version": "1.2.0",
            "_view_count": null,
            "flex_flow": null,
            "width": null,
            "min_width": null,
            "border": null,
            "align_items": null,
            "bottom": null,
            "_model_module": "@jupyter-widgets/base",
            "top": null,
            "grid_column": null,
            "overflow_y": null,
            "overflow_x": null,
            "grid_auto_flow": null,
            "grid_area": null,
            "grid_template_columns": null,
            "flex": null,
            "_model_name": "LayoutModel",
            "justify_items": null,
            "grid_row": null,
            "max_height": null,
            "align_content": null,
            "visibility": null,
            "align_self": null,
            "height": null,
            "min_height": null,
            "padding": null,
            "grid_auto_rows": null,
            "grid_gap": null,
            "max_width": null,
            "order": null,
            "_view_module_version": "1.2.0",
            "grid_template_areas": null,
            "object_position": null,
            "object_fit": null,
            "grid_auto_columns": null,
            "margin": null,
            "display": null,
            "left": null
          }
        },
        "1c0a6d633cb141619205123b64c95d9a": {
          "model_module": "@jupyter-widgets/controls",
          "model_name": "DescriptionStyleModel",
          "state": {
            "_view_name": "StyleView",
            "_model_name": "DescriptionStyleModel",
            "description_width": "",
            "_view_module": "@jupyter-widgets/base",
            "_model_module_version": "1.5.0",
            "_view_count": null,
            "_view_module_version": "1.2.0",
            "_model_module": "@jupyter-widgets/controls"
          }
        },
        "854d57786a294978982f406417d7a878": {
          "model_module": "@jupyter-widgets/base",
          "model_name": "LayoutModel",
          "state": {
            "_view_name": "LayoutView",
            "grid_template_rows": null,
            "right": null,
            "justify_content": null,
            "_view_module": "@jupyter-widgets/base",
            "overflow": null,
            "_model_module_version": "1.2.0",
            "_view_count": null,
            "flex_flow": null,
            "width": null,
            "min_width": null,
            "border": null,
            "align_items": null,
            "bottom": null,
            "_model_module": "@jupyter-widgets/base",
            "top": null,
            "grid_column": null,
            "overflow_y": null,
            "overflow_x": null,
            "grid_auto_flow": null,
            "grid_area": null,
            "grid_template_columns": null,
            "flex": null,
            "_model_name": "LayoutModel",
            "justify_items": null,
            "grid_row": null,
            "max_height": null,
            "align_content": null,
            "visibility": null,
            "align_self": null,
            "height": null,
            "min_height": null,
            "padding": null,
            "grid_auto_rows": null,
            "grid_gap": null,
            "max_width": null,
            "order": null,
            "_view_module_version": "1.2.0",
            "grid_template_areas": null,
            "object_position": null,
            "object_fit": null,
            "grid_auto_columns": null,
            "margin": null,
            "display": null,
            "left": null
          }
        },
        "9576ee6890ad422f93e8d89b01177b46": {
          "model_module": "@jupyter-widgets/controls",
          "model_name": "HBoxModel",
          "state": {
            "_view_name": "HBoxView",
            "_dom_classes": [],
            "_model_name": "HBoxModel",
            "_view_module": "@jupyter-widgets/controls",
            "_model_module_version": "1.5.0",
            "_view_count": null,
            "_view_module_version": "1.5.0",
            "box_style": "",
            "layout": "IPY_MODEL_c80d9f0397cb4278a98a4122b28334ea",
            "_model_module": "@jupyter-widgets/controls",
            "children": [
              "IPY_MODEL_9dc768d312264296a347052fc44262fa",
              "IPY_MODEL_cb8a6a651d194c1eb951f38618602273"
            ]
          }
        },
        "c80d9f0397cb4278a98a4122b28334ea": {
          "model_module": "@jupyter-widgets/base",
          "model_name": "LayoutModel",
          "state": {
            "_view_name": "LayoutView",
            "grid_template_rows": null,
            "right": null,
            "justify_content": null,
            "_view_module": "@jupyter-widgets/base",
            "overflow": null,
            "_model_module_version": "1.2.0",
            "_view_count": null,
            "flex_flow": null,
            "width": null,
            "min_width": null,
            "border": null,
            "align_items": null,
            "bottom": null,
            "_model_module": "@jupyter-widgets/base",
            "top": null,
            "grid_column": null,
            "overflow_y": null,
            "overflow_x": null,
            "grid_auto_flow": null,
            "grid_area": null,
            "grid_template_columns": null,
            "flex": null,
            "_model_name": "LayoutModel",
            "justify_items": null,
            "grid_row": null,
            "max_height": null,
            "align_content": null,
            "visibility": null,
            "align_self": null,
            "height": null,
            "min_height": null,
            "padding": null,
            "grid_auto_rows": null,
            "grid_gap": null,
            "max_width": null,
            "order": null,
            "_view_module_version": "1.2.0",
            "grid_template_areas": null,
            "object_position": null,
            "object_fit": null,
            "grid_auto_columns": null,
            "margin": null,
            "display": null,
            "left": null
          }
        },
        "9dc768d312264296a347052fc44262fa": {
          "model_module": "@jupyter-widgets/controls",
          "model_name": "FloatProgressModel",
          "state": {
            "_view_name": "ProgressView",
            "style": "IPY_MODEL_d661d7897ddf477da4ef48dee32fb5db",
            "_dom_classes": [],
            "description": "Batches: 100%",
            "_model_name": "FloatProgressModel",
            "bar_style": "success",
            "max": 1418,
            "_view_module": "@jupyter-widgets/controls",
            "_model_module_version": "1.5.0",
            "value": 1418,
            "_view_count": null,
            "_view_module_version": "1.5.0",
            "orientation": "horizontal",
            "min": 0,
            "description_tooltip": null,
            "_model_module": "@jupyter-widgets/controls",
            "layout": "IPY_MODEL_dac94bc2f09044c098aa1316cfff2ca1"
          }
        },
        "cb8a6a651d194c1eb951f38618602273": {
          "model_module": "@jupyter-widgets/controls",
          "model_name": "HTMLModel",
          "state": {
            "_view_name": "HTMLView",
            "style": "IPY_MODEL_f228e93c582040ba8d72c9e0e25de807",
            "_dom_classes": [],
            "description": "",
            "_model_name": "HTMLModel",
            "placeholder": "​",
            "_view_module": "@jupyter-widgets/controls",
            "_model_module_version": "1.5.0",
            "value": " 1418/1418 [00:29&lt;00:00, 47.73it/s]",
            "_view_count": null,
            "_view_module_version": "1.5.0",
            "description_tooltip": null,
            "_model_module": "@jupyter-widgets/controls",
            "layout": "IPY_MODEL_b4803fa668674330a765fc4301841ada"
          }
        },
        "d661d7897ddf477da4ef48dee32fb5db": {
          "model_module": "@jupyter-widgets/controls",
          "model_name": "ProgressStyleModel",
          "state": {
            "_view_name": "StyleView",
            "_model_name": "ProgressStyleModel",
            "description_width": "initial",
            "_view_module": "@jupyter-widgets/base",
            "_model_module_version": "1.5.0",
            "_view_count": null,
            "_view_module_version": "1.2.0",
            "bar_color": null,
            "_model_module": "@jupyter-widgets/controls"
          }
        },
        "dac94bc2f09044c098aa1316cfff2ca1": {
          "model_module": "@jupyter-widgets/base",
          "model_name": "LayoutModel",
          "state": {
            "_view_name": "LayoutView",
            "grid_template_rows": null,
            "right": null,
            "justify_content": null,
            "_view_module": "@jupyter-widgets/base",
            "overflow": null,
            "_model_module_version": "1.2.0",
            "_view_count": null,
            "flex_flow": null,
            "width": null,
            "min_width": null,
            "border": null,
            "align_items": null,
            "bottom": null,
            "_model_module": "@jupyter-widgets/base",
            "top": null,
            "grid_column": null,
            "overflow_y": null,
            "overflow_x": null,
            "grid_auto_flow": null,
            "grid_area": null,
            "grid_template_columns": null,
            "flex": null,
            "_model_name": "LayoutModel",
            "justify_items": null,
            "grid_row": null,
            "max_height": null,
            "align_content": null,
            "visibility": null,
            "align_self": null,
            "height": null,
            "min_height": null,
            "padding": null,
            "grid_auto_rows": null,
            "grid_gap": null,
            "max_width": null,
            "order": null,
            "_view_module_version": "1.2.0",
            "grid_template_areas": null,
            "object_position": null,
            "object_fit": null,
            "grid_auto_columns": null,
            "margin": null,
            "display": null,
            "left": null
          }
        },
        "f228e93c582040ba8d72c9e0e25de807": {
          "model_module": "@jupyter-widgets/controls",
          "model_name": "DescriptionStyleModel",
          "state": {
            "_view_name": "StyleView",
            "_model_name": "DescriptionStyleModel",
            "description_width": "",
            "_view_module": "@jupyter-widgets/base",
            "_model_module_version": "1.5.0",
            "_view_count": null,
            "_view_module_version": "1.2.0",
            "_model_module": "@jupyter-widgets/controls"
          }
        },
        "b4803fa668674330a765fc4301841ada": {
          "model_module": "@jupyter-widgets/base",
          "model_name": "LayoutModel",
          "state": {
            "_view_name": "LayoutView",
            "grid_template_rows": null,
            "right": null,
            "justify_content": null,
            "_view_module": "@jupyter-widgets/base",
            "overflow": null,
            "_model_module_version": "1.2.0",
            "_view_count": null,
            "flex_flow": null,
            "width": null,
            "min_width": null,
            "border": null,
            "align_items": null,
            "bottom": null,
            "_model_module": "@jupyter-widgets/base",
            "top": null,
            "grid_column": null,
            "overflow_y": null,
            "overflow_x": null,
            "grid_auto_flow": null,
            "grid_area": null,
            "grid_template_columns": null,
            "flex": null,
            "_model_name": "LayoutModel",
            "justify_items": null,
            "grid_row": null,
            "max_height": null,
            "align_content": null,
            "visibility": null,
            "align_self": null,
            "height": null,
            "min_height": null,
            "padding": null,
            "grid_auto_rows": null,
            "grid_gap": null,
            "max_width": null,
            "order": null,
            "_view_module_version": "1.2.0",
            "grid_template_areas": null,
            "object_position": null,
            "object_fit": null,
            "grid_auto_columns": null,
            "margin": null,
            "display": null,
            "left": null
          }
        },
        "85dd781b8be446dfa4f8841bc9595125": {
          "model_module": "@jupyter-widgets/controls",
          "model_name": "HBoxModel",
          "state": {
            "_view_name": "HBoxView",
            "_dom_classes": [],
            "_model_name": "HBoxModel",
            "_view_module": "@jupyter-widgets/controls",
            "_model_module_version": "1.5.0",
            "_view_count": null,
            "_view_module_version": "1.5.0",
            "box_style": "",
            "layout": "IPY_MODEL_5e7642ba0b0441c2ab69e2e787d03d25",
            "_model_module": "@jupyter-widgets/controls",
            "children": [
              "IPY_MODEL_b8d6ac02df184233a51e6e554d2f2c93",
              "IPY_MODEL_5c9eed546c7c486ebb9cbb3b50ad6d2c"
            ]
          }
        },
        "5e7642ba0b0441c2ab69e2e787d03d25": {
          "model_module": "@jupyter-widgets/base",
          "model_name": "LayoutModel",
          "state": {
            "_view_name": "LayoutView",
            "grid_template_rows": null,
            "right": null,
            "justify_content": null,
            "_view_module": "@jupyter-widgets/base",
            "overflow": null,
            "_model_module_version": "1.2.0",
            "_view_count": null,
            "flex_flow": null,
            "width": null,
            "min_width": null,
            "border": null,
            "align_items": null,
            "bottom": null,
            "_model_module": "@jupyter-widgets/base",
            "top": null,
            "grid_column": null,
            "overflow_y": null,
            "overflow_x": null,
            "grid_auto_flow": null,
            "grid_area": null,
            "grid_template_columns": null,
            "flex": null,
            "_model_name": "LayoutModel",
            "justify_items": null,
            "grid_row": null,
            "max_height": null,
            "align_content": null,
            "visibility": null,
            "align_self": null,
            "height": null,
            "min_height": null,
            "padding": null,
            "grid_auto_rows": null,
            "grid_gap": null,
            "max_width": null,
            "order": null,
            "_view_module_version": "1.2.0",
            "grid_template_areas": null,
            "object_position": null,
            "object_fit": null,
            "grid_auto_columns": null,
            "margin": null,
            "display": null,
            "left": null
          }
        },
        "b8d6ac02df184233a51e6e554d2f2c93": {
          "model_module": "@jupyter-widgets/controls",
          "model_name": "FloatProgressModel",
          "state": {
            "_view_name": "ProgressView",
            "style": "IPY_MODEL_5a86f27160fa40f7b2ecefcb5d6d3f9d",
            "_dom_classes": [],
            "description": "Batches: 100%",
            "_model_name": "FloatProgressModel",
            "bar_style": "success",
            "max": 1418,
            "_view_module": "@jupyter-widgets/controls",
            "_model_module_version": "1.5.0",
            "value": 1418,
            "_view_count": null,
            "_view_module_version": "1.5.0",
            "orientation": "horizontal",
            "min": 0,
            "description_tooltip": null,
            "_model_module": "@jupyter-widgets/controls",
            "layout": "IPY_MODEL_10b393ef63054100be1fac2ab0961d2a"
          }
        },
        "5c9eed546c7c486ebb9cbb3b50ad6d2c": {
          "model_module": "@jupyter-widgets/controls",
          "model_name": "HTMLModel",
          "state": {
            "_view_name": "HTMLView",
            "style": "IPY_MODEL_381f6d438d4647368124b38e5277f6bc",
            "_dom_classes": [],
            "description": "",
            "_model_name": "HTMLModel",
            "placeholder": "​",
            "_view_module": "@jupyter-widgets/controls",
            "_model_module_version": "1.5.0",
            "value": " 1418/1418 [28:35&lt;00:00,  1.21s/it]",
            "_view_count": null,
            "_view_module_version": "1.5.0",
            "description_tooltip": null,
            "_model_module": "@jupyter-widgets/controls",
            "layout": "IPY_MODEL_dbcbc6f758f64f5b962321c10b7d82eb"
          }
        },
        "5a86f27160fa40f7b2ecefcb5d6d3f9d": {
          "model_module": "@jupyter-widgets/controls",
          "model_name": "ProgressStyleModel",
          "state": {
            "_view_name": "StyleView",
            "_model_name": "ProgressStyleModel",
            "description_width": "initial",
            "_view_module": "@jupyter-widgets/base",
            "_model_module_version": "1.5.0",
            "_view_count": null,
            "_view_module_version": "1.2.0",
            "bar_color": null,
            "_model_module": "@jupyter-widgets/controls"
          }
        },
        "10b393ef63054100be1fac2ab0961d2a": {
          "model_module": "@jupyter-widgets/base",
          "model_name": "LayoutModel",
          "state": {
            "_view_name": "LayoutView",
            "grid_template_rows": null,
            "right": null,
            "justify_content": null,
            "_view_module": "@jupyter-widgets/base",
            "overflow": null,
            "_model_module_version": "1.2.0",
            "_view_count": null,
            "flex_flow": null,
            "width": null,
            "min_width": null,
            "border": null,
            "align_items": null,
            "bottom": null,
            "_model_module": "@jupyter-widgets/base",
            "top": null,
            "grid_column": null,
            "overflow_y": null,
            "overflow_x": null,
            "grid_auto_flow": null,
            "grid_area": null,
            "grid_template_columns": null,
            "flex": null,
            "_model_name": "LayoutModel",
            "justify_items": null,
            "grid_row": null,
            "max_height": null,
            "align_content": null,
            "visibility": null,
            "align_self": null,
            "height": null,
            "min_height": null,
            "padding": null,
            "grid_auto_rows": null,
            "grid_gap": null,
            "max_width": null,
            "order": null,
            "_view_module_version": "1.2.0",
            "grid_template_areas": null,
            "object_position": null,
            "object_fit": null,
            "grid_auto_columns": null,
            "margin": null,
            "display": null,
            "left": null
          }
        },
        "381f6d438d4647368124b38e5277f6bc": {
          "model_module": "@jupyter-widgets/controls",
          "model_name": "DescriptionStyleModel",
          "state": {
            "_view_name": "StyleView",
            "_model_name": "DescriptionStyleModel",
            "description_width": "",
            "_view_module": "@jupyter-widgets/base",
            "_model_module_version": "1.5.0",
            "_view_count": null,
            "_view_module_version": "1.2.0",
            "_model_module": "@jupyter-widgets/controls"
          }
        },
        "dbcbc6f758f64f5b962321c10b7d82eb": {
          "model_module": "@jupyter-widgets/base",
          "model_name": "LayoutModel",
          "state": {
            "_view_name": "LayoutView",
            "grid_template_rows": null,
            "right": null,
            "justify_content": null,
            "_view_module": "@jupyter-widgets/base",
            "overflow": null,
            "_model_module_version": "1.2.0",
            "_view_count": null,
            "flex_flow": null,
            "width": null,
            "min_width": null,
            "border": null,
            "align_items": null,
            "bottom": null,
            "_model_module": "@jupyter-widgets/base",
            "top": null,
            "grid_column": null,
            "overflow_y": null,
            "overflow_x": null,
            "grid_auto_flow": null,
            "grid_area": null,
            "grid_template_columns": null,
            "flex": null,
            "_model_name": "LayoutModel",
            "justify_items": null,
            "grid_row": null,
            "max_height": null,
            "align_content": null,
            "visibility": null,
            "align_self": null,
            "height": null,
            "min_height": null,
            "padding": null,
            "grid_auto_rows": null,
            "grid_gap": null,
            "max_width": null,
            "order": null,
            "_view_module_version": "1.2.0",
            "grid_template_areas": null,
            "object_position": null,
            "object_fit": null,
            "grid_auto_columns": null,
            "margin": null,
            "display": null,
            "left": null
          }
        },
        "3994e7e53fd24a5f842bbac302d42a30": {
          "model_module": "@jupyter-widgets/controls",
          "model_name": "HBoxModel",
          "state": {
            "_view_name": "HBoxView",
            "_dom_classes": [],
            "_model_name": "HBoxModel",
            "_view_module": "@jupyter-widgets/controls",
            "_model_module_version": "1.5.0",
            "_view_count": null,
            "_view_module_version": "1.5.0",
            "box_style": "",
            "layout": "IPY_MODEL_f527ff1e42c94d72bc96cce0e991996b",
            "_model_module": "@jupyter-widgets/controls",
            "children": [
              "IPY_MODEL_db7e0a31f97d4d3f8c4b979b5172baf1",
              "IPY_MODEL_7da7a38fd1554c19ac83400aed4992c3"
            ]
          }
        },
        "f527ff1e42c94d72bc96cce0e991996b": {
          "model_module": "@jupyter-widgets/base",
          "model_name": "LayoutModel",
          "state": {
            "_view_name": "LayoutView",
            "grid_template_rows": null,
            "right": null,
            "justify_content": null,
            "_view_module": "@jupyter-widgets/base",
            "overflow": null,
            "_model_module_version": "1.2.0",
            "_view_count": null,
            "flex_flow": null,
            "width": null,
            "min_width": null,
            "border": null,
            "align_items": null,
            "bottom": null,
            "_model_module": "@jupyter-widgets/base",
            "top": null,
            "grid_column": null,
            "overflow_y": null,
            "overflow_x": null,
            "grid_auto_flow": null,
            "grid_area": null,
            "grid_template_columns": null,
            "flex": null,
            "_model_name": "LayoutModel",
            "justify_items": null,
            "grid_row": null,
            "max_height": null,
            "align_content": null,
            "visibility": null,
            "align_self": null,
            "height": null,
            "min_height": null,
            "padding": null,
            "grid_auto_rows": null,
            "grid_gap": null,
            "max_width": null,
            "order": null,
            "_view_module_version": "1.2.0",
            "grid_template_areas": null,
            "object_position": null,
            "object_fit": null,
            "grid_auto_columns": null,
            "margin": null,
            "display": null,
            "left": null
          }
        },
        "db7e0a31f97d4d3f8c4b979b5172baf1": {
          "model_module": "@jupyter-widgets/controls",
          "model_name": "FloatProgressModel",
          "state": {
            "_view_name": "ProgressView",
            "style": "IPY_MODEL_72cb26959de6408a9255239f5b7bc5aa",
            "_dom_classes": [],
            "description": "Batches: 100%",
            "_model_name": "FloatProgressModel",
            "bar_style": "success",
            "max": 1418,
            "_view_module": "@jupyter-widgets/controls",
            "_model_module_version": "1.5.0",
            "value": 1418,
            "_view_count": null,
            "_view_module_version": "1.5.0",
            "orientation": "horizontal",
            "min": 0,
            "description_tooltip": null,
            "_model_module": "@jupyter-widgets/controls",
            "layout": "IPY_MODEL_5814bb7997c64e48bb69f9510aae7b4b"
          }
        },
        "7da7a38fd1554c19ac83400aed4992c3": {
          "model_module": "@jupyter-widgets/controls",
          "model_name": "HTMLModel",
          "state": {
            "_view_name": "HTMLView",
            "style": "IPY_MODEL_d78fb282bf82428aaa77f7a4830b1437",
            "_dom_classes": [],
            "description": "",
            "_model_name": "HTMLModel",
            "placeholder": "​",
            "_view_module": "@jupyter-widgets/controls",
            "_model_module_version": "1.5.0",
            "value": " 1418/1418 [00:16&lt;00:00, 87.88it/s]",
            "_view_count": null,
            "_view_module_version": "1.5.0",
            "description_tooltip": null,
            "_model_module": "@jupyter-widgets/controls",
            "layout": "IPY_MODEL_c50c9a15a2d64e3796488be0dfc4328b"
          }
        },
        "72cb26959de6408a9255239f5b7bc5aa": {
          "model_module": "@jupyter-widgets/controls",
          "model_name": "ProgressStyleModel",
          "state": {
            "_view_name": "StyleView",
            "_model_name": "ProgressStyleModel",
            "description_width": "initial",
            "_view_module": "@jupyter-widgets/base",
            "_model_module_version": "1.5.0",
            "_view_count": null,
            "_view_module_version": "1.2.0",
            "bar_color": null,
            "_model_module": "@jupyter-widgets/controls"
          }
        },
        "5814bb7997c64e48bb69f9510aae7b4b": {
          "model_module": "@jupyter-widgets/base",
          "model_name": "LayoutModel",
          "state": {
            "_view_name": "LayoutView",
            "grid_template_rows": null,
            "right": null,
            "justify_content": null,
            "_view_module": "@jupyter-widgets/base",
            "overflow": null,
            "_model_module_version": "1.2.0",
            "_view_count": null,
            "flex_flow": null,
            "width": null,
            "min_width": null,
            "border": null,
            "align_items": null,
            "bottom": null,
            "_model_module": "@jupyter-widgets/base",
            "top": null,
            "grid_column": null,
            "overflow_y": null,
            "overflow_x": null,
            "grid_auto_flow": null,
            "grid_area": null,
            "grid_template_columns": null,
            "flex": null,
            "_model_name": "LayoutModel",
            "justify_items": null,
            "grid_row": null,
            "max_height": null,
            "align_content": null,
            "visibility": null,
            "align_self": null,
            "height": null,
            "min_height": null,
            "padding": null,
            "grid_auto_rows": null,
            "grid_gap": null,
            "max_width": null,
            "order": null,
            "_view_module_version": "1.2.0",
            "grid_template_areas": null,
            "object_position": null,
            "object_fit": null,
            "grid_auto_columns": null,
            "margin": null,
            "display": null,
            "left": null
          }
        },
        "d78fb282bf82428aaa77f7a4830b1437": {
          "model_module": "@jupyter-widgets/controls",
          "model_name": "DescriptionStyleModel",
          "state": {
            "_view_name": "StyleView",
            "_model_name": "DescriptionStyleModel",
            "description_width": "",
            "_view_module": "@jupyter-widgets/base",
            "_model_module_version": "1.5.0",
            "_view_count": null,
            "_view_module_version": "1.2.0",
            "_model_module": "@jupyter-widgets/controls"
          }
        },
        "c50c9a15a2d64e3796488be0dfc4328b": {
          "model_module": "@jupyter-widgets/base",
          "model_name": "LayoutModel",
          "state": {
            "_view_name": "LayoutView",
            "grid_template_rows": null,
            "right": null,
            "justify_content": null,
            "_view_module": "@jupyter-widgets/base",
            "overflow": null,
            "_model_module_version": "1.2.0",
            "_view_count": null,
            "flex_flow": null,
            "width": null,
            "min_width": null,
            "border": null,
            "align_items": null,
            "bottom": null,
            "_model_module": "@jupyter-widgets/base",
            "top": null,
            "grid_column": null,
            "overflow_y": null,
            "overflow_x": null,
            "grid_auto_flow": null,
            "grid_area": null,
            "grid_template_columns": null,
            "flex": null,
            "_model_name": "LayoutModel",
            "justify_items": null,
            "grid_row": null,
            "max_height": null,
            "align_content": null,
            "visibility": null,
            "align_self": null,
            "height": null,
            "min_height": null,
            "padding": null,
            "grid_auto_rows": null,
            "grid_gap": null,
            "max_width": null,
            "order": null,
            "_view_module_version": "1.2.0",
            "grid_template_areas": null,
            "object_position": null,
            "object_fit": null,
            "grid_auto_columns": null,
            "margin": null,
            "display": null,
            "left": null
          }
        }
      }
    },
    "accelerator": "GPU"
  },
  "cells": [
    {
      "cell_type": "markdown",
      "metadata": {
        "id": "AXHLDxJdRzBi"
      },
      "source": [
        "\n",
        "# BertTopic\n",
        "\n",
        "In this tutorial we will be using a package called BERTopic. Which utilize BERT for topic modelling. Those of you who are interested to know how it works are encouraged to read the following [link](https://maartengr.github.io/BERTopic/tutorial/algorithm/algorithm.html) \n",
        "\n",
        "\n"
      ]
    },
    {
      "cell_type": "markdown",
      "metadata": {
        "id": "OeFueQ8xP_7E"
      },
      "source": [
        "# Installing BERTopic\n",
        "\n",
        "We start by installing BERTopic from PyPi:"
      ]
    },
    {
      "cell_type": "code",
      "metadata": {
        "id": "SNa-KtKDRnus"
      },
      "source": [
        "%%capture\n",
        "!pip install -q bertopic"
      ],
      "execution_count": null,
      "outputs": []
    },
    {
      "cell_type": "markdown",
      "metadata": {
        "id": "yeg8RIjrQFkE"
      },
      "source": [
        "## Restart the Notebook\n",
        "After installing BERTopic, some packages that were already loaded were updated and in order to correctly use them, we should now restart the notebook.\n",
        "\n",
        "From the Menu:\n",
        "\n",
        "Runtime → Restart Runtime"
      ]
    },
    {
      "cell_type": "markdown",
      "metadata": {
        "id": "Y3VGFZ1USMTu"
      },
      "source": [
        "# **Data**\n",
        "For this tutorial, we will be needing to extract all Trump's Tweet from his @realDonalTrump account. We will be removing all retweet and focus on his original tweets. \n"
      ]
    },
    {
      "cell_type": "code",
      "metadata": {
        "id": "JJij3WP6SEQD"
      },
      "source": [
        "import re\n",
        "import pandas as pd\n",
        "from datetime import datetime\n",
        "\n",
        "# Load data\n",
        "trump = pd.read_csv('https://drive.google.com/uc?export=download&id=1xRKHaP-QwACMydlDnyFPEaFdtskJuBa6')\n",
        "\n",
        "# Filter\n",
        "trump.text = trump.apply(lambda row: re.sub(r\"http\\S+\", \"\", row.text).lower(), 1)\n",
        "trump.text = trump.apply(lambda row: \" \".join(filter(lambda x:x[0]!=\"@\", row.text.split())), 1)\n",
        "trump.text = trump.apply(lambda row: \" \".join(re.sub(\"[^a-zA-Z]+\", \" \", row.text).split()), 1)\n",
        "trump = trump.loc[(trump.isRetweet == \"f\") & (trump.text != \"\"), :]\n",
        "timestamps = trump.date.to_list()\n",
        "tweets = trump.text.to_list()"
      ],
      "execution_count": 1,
      "outputs": []
    },
    {
      "cell_type": "code",
      "metadata": {
        "colab": {
          "base_uri": "https://localhost:8080/",
          "height": 35
        },
        "id": "LO0rha3T1U-y",
        "outputId": "736a3d75-9d81-49c8-a075-ff1f66a2dee1"
      },
      "source": [
        "tweets[0]"
      ],
      "execution_count": 2,
      "outputs": [
        {
          "output_type": "execute_result",
          "data": {
            "application/vnd.google.colaboratory.intrinsic+json": {
              "type": "string"
            },
            "text/plain": [
              "'republicans and democrats have both created our economic problems'"
            ]
          },
          "metadata": {
            "tags": []
          },
          "execution_count": 2
        }
      ]
    },
    {
      "cell_type": "markdown",
      "metadata": {
        "id": "iNoAyX1CSHRh"
      },
      "source": [
        "## Basic Topic Model\n"
      ]
    },
    {
      "cell_type": "code",
      "metadata": {
        "colab": {
          "base_uri": "https://localhost:8080/",
          "height": 185,
          "referenced_widgets": [
            "04c5ade47e664c7e98b56a8ad311438b",
            "2b8b91ac804c44e6a7f9e39a1136786e",
            "1baaa1f35c5f4d8885ba4e5d648dc540",
            "bcf5d4720f0e4052a6c01ceb01ea4bcf",
            "598068423bb646dc95cbc20258e044ed",
            "23e6e87e590a4b0fbf3cf98e71b99d08",
            "6053918a8b9544acac3df3a3cc1eb44e",
            "ffdfe2b4af2f42eab81a64740559777d",
            "6b9b8711ad4c4fcbb2f7628e0afe20b8",
            "d5b454b4c0db468c98ef269900c6c2ad",
            "7feae6ccdcba4be19bd68f7f1cf8dc90",
            "fb92b8328b2d421194cceb45820c1c8f",
            "9b0f063f8ee94c29ad827b926b50cf06",
            "173cd48f2a0b4aa5bbe9c5d7b04efa8b",
            "c524c87c7b2a4e76b68dc86598f45132",
            "0cb9a9c2bfa84503bd47661c81b6e324"
          ]
        },
        "id": "TfhfzqkoSJ1I",
        "outputId": "b5c7a70d-cbd1-4fbb-915e-66aa187dc3d0"
      },
      "source": [
        "from bertopic import BERTopic\n",
        "topic_model = BERTopic(nr_topics=100 ,verbose=True)\n",
        "topics, _ = topic_model.fit_transform(tweets)"
      ],
      "execution_count": 3,
      "outputs": [
        {
          "output_type": "display_data",
          "data": {
            "application/vnd.jupyter.widget-view+json": {
              "model_id": "04c5ade47e664c7e98b56a8ad311438b",
              "version_minor": 0,
              "version_major": 2
            },
            "text/plain": [
              "HBox(children=(FloatProgress(value=0.0, max=83426730.0), HTML(value='')))"
            ]
          },
          "metadata": {
            "tags": []
          }
        },
        {
          "output_type": "stream",
          "text": [
            "\n"
          ],
          "name": "stdout"
        },
        {
          "output_type": "display_data",
          "data": {
            "application/vnd.jupyter.widget-view+json": {
              "model_id": "6b9b8711ad4c4fcbb2f7628e0afe20b8",
              "version_minor": 0,
              "version_major": 2
            },
            "text/plain": [
              "HBox(children=(FloatProgress(value=0.0, description='Batches', max=1418.0, style=ProgressStyle(description_wid…"
            ]
          },
          "metadata": {
            "tags": []
          }
        },
        {
          "output_type": "stream",
          "text": [
            "2021-06-20 09:36:29,704 - BERTopic - Transformed documents to Embeddings\n"
          ],
          "name": "stderr"
        },
        {
          "output_type": "stream",
          "text": [
            "\n"
          ],
          "name": "stdout"
        },
        {
          "output_type": "stream",
          "text": [
            "2021-06-20 09:37:24,455 - BERTopic - Reduced dimensionality with UMAP\n",
            "2021-06-20 09:37:28,608 - BERTopic - Clustered UMAP embeddings with HDBSCAN\n",
            "2021-06-20 09:37:49,924 - BERTopic - Reduced number of topics from 591 to 101\n"
          ],
          "name": "stderr"
        }
      ]
    },
    {
      "cell_type": "markdown",
      "metadata": {
        "id": "qG_floTfDk-E"
      },
      "source": [
        "The topics variable  is the assignment of the tweets to the corresponding 100 clusters please note that tweets with a value of -1 are unassigned to any cluster."
      ]
    },
    {
      "cell_type": "code",
      "metadata": {
        "id": "XRDd46dwGES0",
        "colab": {
          "base_uri": "https://localhost:8080/"
        },
        "outputId": "536ed16c-c5ee-4706-aa2a-5cb23366ad62"
      },
      "source": [
        "print(topics)\n",
        "print(len(tweets))\n",
        "print(len(topics))"
      ],
      "execution_count": 4,
      "outputs": [
        {
          "output_type": "stream",
          "text": [
            "[52, -1, 5, 87, 81, -1, 5, 2, 55, 25, 49, 5, -1, 80, 5, -1, -1, 86, 5, 86, 5, -1, 35, 90, 32, -1, 19, -1, 87, -1, 36, 10, 5, 5, 5, 86, -1, 98, -1, 17, -1, 32, 5, -1, -1, -1, 17, 5, 89, 23, -1, 14, 5, 5, -1, 85, -1, 5, -1, 5, 89, 63, 24, -1, 5, -1, 17, 5, -1, 58, 5, 17, 24, 83, 5, 5, 5, 14, 33, 47, 17, -1, -1, 22, 36, 5, 46, 5, -1, 5, -1, -1, 5, 87, 40, 47, -1, -1, -1, 18, -1, 35, -1, -1, -1, 40, 5, 81, -1, -1, 59, 85, 5, 5, 52, 5, -1, 5, 5, 59, 5, 20, 5, 5, 24, 56, 21, -1, 86, 5, 38, -1, 3, -1, -1, 5, 54, -1, 5, 49, 58, -1, 5, -1, -1, -1, 24, -1, -1, -1, 5, 17, 5, 5, 5, 5, -1, 71, -1, 5, 74, 5, 5, -1, -1, 61, 5, 68, 89, -1, 68, -1, 86, 11, 5, 5, 5, 5, 5, -1, 40, 5, -1, -1, 84, 6, 5, 5, -1, 17, 32, 6, -1, 5, 32, -1, -1, 86, 19, 6, -1, -1, 44, -1, -1, -1, 5, 24, -1, 5, -1, -1, 74, 21, -1, 33, 84, 73, 70, 32, -1, 54, 5, 17, 20, 5, 5, 58, 24, 26, -1, -1, -1, 12, -1, 5, -1, 6, -1, 8, 26, 26, 14, 11, 6, 55, 15, 24, -1, -1, 24, 84, 5, 5, 76, -1, -1, 89, -1, 85, 15, 85, 15, 85, 5, -1, 79, 79, -1, -1, 26, 26, 18, -1, 32, -1, 38, -1, 5, 64, -1, 5, -1, -1, -1, 20, 84, 22, -1, -1, 5, -1, -1, -1, 5, -1, 36, -1, 5, 73, 20, -1, 33, 5, 17, 76, -1, 5, 6, 44, 58, 5, 5, 5, -1, 5, 49, 5, 5, 20, -1, 85, 5, 5, 5, -1, 4, 86, 5, 17, 5, -1, 35, -1, 5, 10, 64, 85, 5, 5, 63, 21, 74, -1, -1, 5, 44, 5, 19, -1, 40, 5, -1, 5, -1, 44, 36, 5, -1, -1, 17, -1, 29, -1, 5, -1, 5, 44, 56, -1, 81, -1, 35, -1, 5, 5, -1, 5, 58, 5, 63, 72, 86, 24, 74, 35, 5, 76, -1, 5, -1, -1, 5, -1, 5, 5, -1, 68, 48, 57, 47, 83, -1, 5, 36, 5, 87, -1, 5, 33, 3, 10, 5, 5, 68, -1, 25, -1, -1, 47, 79, 6, -1, -1, 74, 18, 88, 11, 5, -1, -1, 5, 64, 18, -1, 22, 36, -1, 79, 74, -1, 74, 85, 52, 58, 24, 58, 13, 8, -1, 89, 5, 53, 5, -1, -1, -1, -1, -1, -1, -1, 64, -1, 66, -1, 5, -1, -1, 86, -1, 5, 5, -1, -1, 44, 11, 24, 54, -1, -1, -1, -1, 13, 5, 86, -1, 89, -1, 5, 24, -1, -1, 59, -1, -1, 11, 19, 59, -1, 5, 21, 17, 17, 5, 5, 17, 33, 33, -1, 5, -1, 5, -1, 36, 24, 86, 5, -1, -1, 38, 20, 87, 5, -1, 5, 6, 45, 5, -1, -1, 52, 85, 24, -1, 24, 25, 10, 5, 79, 5, -1, 71, 24, 25, -1, -1, 85, 6, -1, 6, 5, 6, -1, 21, 37, -1, 22, 6, -1, 5, 5, -1, 5, -1, 5, 5, 5, -1, 5, 88, -1, 5, 52, -1, 5, 52, 5, -1, -1, -1, 58, 73, 73, 71, -1, 45, 52, 59, 5, 33, -1, 35, 6, -1, 5, 59, 5, 85, -1, -1, 24, 16, 49, 88, -1, 40, -1, 5, -1, 18, 5, 85, -1, 72, 5, 3, -1, 26, -1, -1, 35, 24, -1, 11, 54, 24, 26, 59, 41, -1, 17, 6, -1, -1, 5, 5, 24, 58, 18, 5, 17, 33, -1, -1, 5, 5, 6, -1, 54, -1, 11, -1, -1, 60, 6, 59, 45, 5, 70, -1, 70, 10, -1, -1, -1, -1, 31, -1, -1, 63, 49, 37, 49, -1, -1, 24, -1, -1, 5, -1, 5, 25, 75, -1, 73, -1, -1, 81, 85, -1, -1, 19, 56, 24, -1, 10, 73, 5, 18, 86, 90, -1, 6, -1, -1, 38, -1, 0, -1, -1, 5, 80, 6, 80, 21, 94, 35, 79, -1, 5, 24, -1, 66, 97, 40, -1, 97, 70, -1, -1, 17, 18, 0, 74, 24, 5, 68, 79, 16, -1, -1, -1, -1, -1, 36, -1, 4, 58, 58, -1, 19, 13, 31, 40, 20, 76, -1, 36, 5, -1, -1, 74, 35, 5, 20, -1, 5, -1, 11, -1, 5, -1, 5, 24, -1, 86, 5, 54, -1, 84, 5, 4, 5, 24, -1, 5, 24, 2, 5, -1, -1, 24, 33, -1, 52, 5, 52, 45, 0, -1, 85, 74, 24, 33, 0, 24, -1, -1, -1, -1, 11, 24, -1, 85, 0, -1, 52, 17, -1, -1, 52, 58, 24, 32, 58, 5, 33, 84, -1, 21, 24, 5, 13, -1, -1, 54, 88, 61, 81, 5, 49, 26, -1, 26, -1, 17, 5, 71, 49, 88, -1, -1, -1, 5, 14, 5, 5, 85, -1, 24, 5, -1, 31, 84, -1, 5, -1, 89, 5, -1, 85, 44, 5, 5, 5, 5, 5, 2, -1, 52, 5, 5, 5, -1, 17, 6, -1, -1, 20, 5, 5, 9, -1, -1, -1, 83, -1, 5, 84, 5, 89, 74, 24, 3, -1, 97, 76, -1, 89, -1, -1, 55, 84, -1, -1, -1, 5, 5, 13, -1, -1, 5, 37, -1, 42, 17, 17, -1, 43, 20, -1, -1, 18, 18, 26, 18, 20, -1, 18, -1, 26, 26, 5, 26, -1, 18, -1, -1, -1, -1, 24, -1, 5, 20, 24, -1, 5, -1, -1, 17, 20, -1, 5, 24, -1, 84, -1, -1, 5, 24, 19, -1, 86, 86, 24, -1, -1, 44, 31, 72, 24, -1, 40, -1, 24, -1, -1, -1, 20, 85, 17, 0, 84, 44, 5, 3, 24, 5, 24, -1, 24, 24, 2, 30, 5, 5, -1, -1, -1, 20, 0, 0, -1, 5, 5, 26, 5, -1, 24, 17, 13, 31, 11, -1, 5, 5, -1, 0, 33, 85, 31, -1, 5, 25, -1, 56, -1, 89, 85, 20, 84, 68, 85, 49, 5, 5, 24, -1, 5, 5, -1, -1, 84, 17, 5, 52, 27, 24, 24, 30, 24, -1, 5, -1, 24, -1, 58, 29, 33, 11, -1, 54, 5, 52, 24, -1, 94, -1, 5, -1, -1, 5, 89, -1, 40, 5, 84, 44, 24, 32, 24, -1, -1, 24, -1, 17, -1, -1, -1, 69, -1, 56, 52, 56, 5, -1, 35, -1, 84, 19, 58, 56, 5, -1, 24, 24, -1, 43, 85, 20, 5, 0, 85, 17, -1, 17, -1, 43, 84, 24, -1, 85, -1, 86, -1, 0, -1, 0, 5, -1, 5, -1, 17, -1, 17, -1, 38, 19, 30, 74, 30, 5, -1, 22, -1, 35, 45, 89, -1, -1, 4, 18, -1, 11, -1, -1, 19, 95, 19, -1, -1, 41, -1, 73, 17, -1, -1, 5, 24, -1, -1, 85, -1, 70, -1, -1, -1, -1, 20, 58, 86, -1, 24, 61, 31, 24, 24, -1, 82, -1, 82, 5, -1, 2, -1, 31, 33, 27, 5, 33, 17, 17, 37, 5, 58, -1, -1, -1, 5, 5, 59, 5, -1, 35, 47, 44, 20, 5, 2, 36, 86, 5, 36, 5, -1, 19, 5, 5, 5, 40, 36, 33, 5, 2, 52, 20, 24, -1, 5, 25, -1, 5, -1, 75, -1, -1, -1, 20, 5, 46, -1, -1, 41, -1, 68, 20, 0, 32, 11, -1, -1, -1, 59, 85, -1, 24, -1, 20, 5, 0, 2, 35, 86, 5, 4, 24, 3, 5, 5, 37, 90, 5, -1, -1, -1, 4, -1, 14, 58, -1, 4, 17, 17, -1, 5, 5, -1, -1, 5, -1, 68, 5, 24, -1, -1, 68, 68, 5, 5, 5, 5, -1, -1, 5, -1, -1, 86, 5, 20, 5, -1, 24, -1, -1, 5, 5, 5, -1, 5, 27, 52, 52, 17, -1, 5, 35, -1, 5, -1, 17, -1, 17, 5, 26, 18, -1, 98, -1, 2, 5, -1, 5, -1, 5, -1, 5, -1, 17, -1, 5, 5, 64, 59, -1, 5, 70, 5, 5, 88, -1, 4, -1, -1, -1, -1, 87, -1, 12, 44, 70, -1, 10, -1, 85, -1, -1, 3, 19, 17, 5, 5, 5, 3, 3, -1, 33, 5, 5, 21, -1, -1, -1, -1, -1, -1, -1, -1, 17, 17, 5, 5, 5, -1, 11, -1, -1, 92, 5, 5, -1, 0, 87, 4, 44, 33, 19, 8, 4, 19, 19, 29, -1, 57, 44, -1, -1, -1, 49, 87, 74, 45, 8, 33, -1, 0, 97, -1, -1, 89, 74, 33, 90, 27, 53, 33, 33, 25, 19, -1, 81, 88, 4, -1, 33, 87, -1, 6, -1, 37, 40, 75, 84, 47, 69, 2, 83, 5, 75, 19, 18, 33, -1, -1, 75, 69, 69, -1, -1, 13, -1, 69, 32, 40, 92, 61, 44, 33, 25, 23, 46, 22, 52, 40, 10, -1, 72, -1, 19, 40, 49, 69, 52, 69, 23, 97, 87, 36, 83, 25, 6, 6, -1, 6, 31, 44, 6, -1, -1, 19, -1, 70, -1, 0, 70, 43, 70, -1, -1, -1, -1, 36, 82, 24, 54, 16, -1, 54, 26, 26, 26, 18, 26, 24, 30, -1, 24, 84, 61, -1, 26, -1, -1, 65, 11, -1, 20, -1, 4, 20, -1, 23, 76, 13, 33, 68, -1, 32, 35, -1, -1, -1, 6, 46, 21, -1, -1, 52, 22, 37, -1, -1, 60, 25, 46, -1, 18, 17, -1, 84, 24, 5, 85, -1, -1, -1, 4, 17, -1, 6, -1, 26, 88, -1, 6, 33, -1, -1, 23, -1, -1, 61, 50, -1, 84, -1, 30, -1, 64, -1, -1, 54, 30, -1, 80, -1, 24, 17, 96, -1, -1, -1, -1, 25, 47, 82, 49, -1, 4, 12, 68, -1, -1, 60, -1, 2, -1, -1, -1, 82, 73, -1, 93, 0, 0, 0, 93, -1, 44, -1, 95, -1, 18, 10, 11, -1, -1, 80, 57, 7, 51, 58, 19, 33, 58, 10, 83, 33, 54, -1, 16, 28, 4, -1, 6, 98, 78, -1, 35, -1, -1, -1, 12, -1, -1, 21, 19, 30, 36, -1, 25, 49, 12, 35, 30, 98, 36, 86, 58, 12, 75, 85, -1, -1, -1, 37, 82, 3, 88, 3, -1, -1, 49, 46, 12, 34, 24, 43, 54, 25, 52, 2, 6, 46, 25, -1, -1, 5, -1, 19, 79, 11, -1, 2, -1, -1, 0, -1, 19, 84, 20, 24, -1, -1, 79, -1, 6, -1, -1, -1, -1, 46, 46, 6, -1, 22, 46, -1, -1, -1, 22, 61, -1, 30, 37, 23, -1, 46, 6, 46, 2, -1, 61, 56, 4, -1, 12, 25, -1, 12, -1, 17, -1, -1, 31, 18, -1, 37, 85, 37, 31, 0, 49, 49, 64, 47, 82, -1, 49, 70, 37, -1, 58, -1, 10, 1, -1, -1, 30, 13, 52, 54, -1, 25, -1, -1, 3, -1, 88, 22, -1, -1, -1, 60, 79, 6, -1, -1, -1, 87, 31, -1, -1, -1, 22, 47, -1, 17, 96, 58, -1, 86, -1, -1, 4, -1, 24, -1, 85, -1, 10, 69, -1, 25, 4, 21, 85, 24, 86, 32, -1, 9, 24, -1, 24, 6, 85, 63, 19, 71, 88, -1, 32, 81, -1, 31, 44, -1, -1, 0, -1, -1, -1, -1, -1, 32, 44, 97, -1, 41, -1, -1, 32, 0, -1, -1, -1, 79, 6, 79, -1, 93, -1, -1, 85, -1, 17, 23, -1, 83, -1, 46, -1, 24, 65, 32, -1, 35, -1, -1, -1, -1, -1, 18, 0, -1, 46, 73, -1, 88, 73, -1, -1, 18, -1, 19, -1, -1, -1, 88, 6, 26, 29, 6, -1, 88, -1, -1, 36, 19, 6, 12, 12, 12, 6, 26, -1, -1, 18, -1, 26, -1, -1, -1, 25, 58, 79, 26, 11, 36, 97, -1, 68, -1, -1, 36, 35, 23, 17, -1, 8, 6, 24, -1, 19, -1, 24, -1, -1, -1, 3, 54, 75, 98, -1, -1, 12, 8, -1, -1, -1, 18, -1, -1, -1, 34, -1, 36, -1, 81, 37, 6, 11, 16, 11, 17, 12, 84, 35, 46, 35, -1, 31, 31, -1, 60, 0, 46, 76, 37, -1, 41, 31, 12, -1, 52, 13, 87, 37, -1, -1, 19, -1, -1, -1, 11, 23, 24, -1, 19, 90, -1, 24, -1, 24, 5, -1, 78, -1, -1, -1, 12, -1, 17, -1, -1, -1, -1, 44, -1, 24, 32, 31, -1, -1, -1, -1, 2, -1, -1, 3, -1, -1, 35, 29, 31, 58, 0, -1, -1, 45, 2, 63, 27, -1, 26, -1, 35, 0, 43, 6, 8, -1, 25, 46, -1, 19, -1, 0, -1, -1, 29, 96, -1, -1, -1, 46, -1, 8, -1, -1, 54, 83, 5, 17, 20, 12, -1, -1, -1, -1, 41, -1, 17, 83, 0, 12, -1, 6, 12, 16, 18, 36, -1, 19, 17, -1, 9, -1, -1, -1, -1, -1, -1, 19, 17, 82, -1, -1, 54, -1, 92, -1, -1, 68, -1, 68, -1, 13, 46, -1, 13, -1, -1, 18, 35, 24, -1, 35, 5, -1, 89, -1, 76, 33, 2, 40, 58, 36, -1, 82, -1, -1, -1, 69, 26, -1, 75, 26, 92, -1, 35, 30, 26, 85, -1, 35, 8, 64, 26, 30, 85, 37, 4, 84, 86, 84, 93, -1, 26, -1, 27, 15, 92, -1, 45, -1, 63, 46, 58, 26, 26, 12, 26, -1, -1, 64, 92, -1, 3, 5, 64, 20, -1, -1, -1, 79, -1, 46, 26, 46, 26, 26, -1, -1, -1, -1, -1, -1, -1, 16, -1, 26, 46, 18, 6, 83, 68, -1, -1, 24, 49, 26, -1, 17, -1, -1, -1, -1, -1, 17, 46, 92, 27, 86, -1, -1, 63, -1, 76, -1, -1, 32, 35, 86, 58, -1, 48, -1, 40, 35, -1, 47, 49, 63, -1, 86, -1, -1, -1, -1, 8, 4, 13, 89, -1, 37, 34, 17, 10, -1, 34, -1, 32, -1, -1, 52, -1, 36, 79, 66, -1, 25, -1, 40, 17, -1, 0, 16, -1, 46, -1, 18, 65, -1, -1, 83, -1, 82, 17, 58, -1, 15, 20, -1, -1, -1, 88, 8, 35, 31, 35, 36, 49, 46, 42, 46, 8, 35, -1, 46, 92, 96, 46, -1, 28, 92, -1, -1, -1, 18, 35, 22, -1, 2, 46, 24, -1, -1, -1, -1, 44, 22, -1, 22, -1, -1, 88, 35, 35, 53, 49, 36, 17, 0, -1, 58, -1, -1, -1, 22, -1, 3, 71, 5, -1, 46, 58, 17, -1, -1, -1, 94, 85, -1, -1, -1, 17, -1, 68, -1, 17, 19, 86, -1, -1, 21, 35, 46, 69, -1, 86, 72, -1, -1, 8, 19, -1, -1, 79, 5, 27, 79, 54, 8, -1, -1, 6, -1, 8, 6, 81, 88, 46, -1, -1, -1, 46, 4, 19, -1, -1, -1, -1, 40, 47, 46, 76, 6, 19, 58, -1, 85, 11, -1, 43, -1, 54, 8, 0, 33, -1, 17, 12, 68, -1, -1, 36, 33, 37, 32, -1, 34, 24, 71, 81, -1, -1, 52, 6, -1, 98, 14, 32, 12, 4, -1, 35, 21, -1, 73, 64, 84, 82, -1, -1, 26, 19, 0, 32, 88, 58, 47, -1, 66, 19, 8, -1, -1, 12, -1, 32, 44, 6, -1, -1, 14, -1, -1, 85, -1, -1, 71, -1, 64, -1, -1, 36, -1, -1, -1, 47, 20, 46, 35, 31, 88, -1, -1, 35, -1, -1, 49, 8, 88, -1, 26, 26, 23, 46, 26, -1, -1, 2, -1, -1, -1, -1, 46, -1, 45, 46, 46, 81, 4, 81, -1, -1, 19, -1, -1, 59, -1, 32, 86, -1, -1, -1, 31, -1, 10, -1, 46, 32, -1, -1, 46, -1, 25, 8, -1, -1, 69, 84, 35, -1, 2, -1, -1, -1, 44, 75, -1, 16, -1, 25, 17, 85, -1, 4, 52, -1, -1, 58, -1, -1, -1, -1, 5, -1, -1, 72, 17, -1, -1, 18, -1, -1, 10, -1, -1, -1, 4, 72, -1, 36, 85, -1, -1, -1, -1, 58, 81, 54, -1, 12, -1, -1, -1, -1, -1, 20, 79, 37, -1, -1, 35, 22, 12, -1, 24, 98, 98, 16, 13, -1, 44, 42, -1, 17, -1, -1, -1, -1, -1, -1, -1, -1, 0, 42, 9, 2, 43, 69, 52, -1, -1, -1, 16, -1, 5, -1, -1, 44, -1, 46, 31, -1, 3, -1, 36, -1, 24, -1, -1, 46, -1, -1, -1, 96, 46, 21, 46, -1, -1, -1, 54, 44, -1, 76, 46, 46, 46, -1, 35, -1, 31, 46, -1, 2, 31, -1, 8, 36, -1, 22, 52, 58, -1, 46, 46, 11, 31, 26, 58, 3, 17, 20, -1, -1, 15, -1, 13, 68, -1, 11, 86, 44, 17, 94, 94, 31, 13, 46, 30, -1, 80, -1, 86, 36, 40, -1, 5, -1, 88, 69, -1, 88, 26, 26, 12, 70, 40, 11, -1, -1, 4, 4, 85, 31, 68, 36, -1, 94, 4, -1, -1, -1, 18, 12, 12, 22, 58, 5, 6, 34, 17, 26, -1, -1, 44, 12, -1, 49, 26, 24, 64, 28, 5, -1, -1, -1, 18, -1, -1, -1, -1, -1, 25, -1, 44, 68, 26, -1, 12, 13, -1, 68, 12, 12, -1, 46, 41, 40, 12, 12, 12, -1, 8, 12, 12, 12, 0, 96, 12, 78, -1, 52, -1, 8, -1, -1, 6, -1, -1, 2, -1, 65, 12, 0, -1, -1, -1, 16, 18, 5, -1, 94, -1, 4, -1, 78, -1, 33, 35, -1, 30, -1, 19, -1, -1, -1, 3, 61, -1, 10, 35, -1, 32, 85, -1, -1, 14, -1, 6, 32, 2, 55, -1, -1, 18, 55, 20, 9, 88, -1, 25, 8, 18, 18, -1, 18, -1, 32, 12, -1, -1, -1, -1, -1, 32, 11, 24, -1, -1, -1, -1, 68, 40, 37, -1, 68, 17, -1, 11, 22, 52, -1, 27, -1, 83, 4, -1, 18, 0, 58, 79, 87, 30, 6, 79, 26, -1, 82, -1, 82, -1, 79, 20, 96, 24, 26, 79, 2, 70, -1, 26, -1, 43, -1, -1, 97, -1, -1, 30, 40, 40, 63, 49, 26, -1, 19, -1, 86, 90, 18, 29, 18, 54, 20, 18, 43, 35, 20, -1, 17, 17, 2, 36, 76, -1, -1, 93, 76, -1, 32, -1, 20, 46, 86, 8, -1, 78, 20, -1, -1, 40, 39, -1, -1, -1, 76, 10, 88, 6, 68, 20, 25, 0, 58, 68, -1, -1, -1, -1, 44, -1, 12, 64, 52, 4, -1, 24, -1, 2, -1, -1, 79, 79, 68, -1, 79, 49, -1, 2, -1, -1, 79, -1, 17, -1, 45, 12, 63, 26, -1, -1, 21, -1, -1, 19, -1, 12, -1, 6, 59, 5, -1, 12, 12, -1, 35, 13, -1, -1, -1, 6, 12, 85, -1, 46, -1, 81, 12, 12, 58, 32, -1, 79, -1, 25, 12, 12, 12, -1, -1, -1, 82, -1, 46, 12, 12, 35, 37, 31, -1, 68, 17, 79, 12, 12, -1, -1, 31, -1, 12, -1, 25, 33, 83, -1, 72, 71, 19, 44, 12, 92, -1, 26, -1, 73, 12, 12, -1, 26, -1, -1, -1, 12, 12, -1, -1, -1, 46, 68, 4, -1, -1, -1, 26, 5, -1, 0, 72, 76, 46, 76, 61, -1, 75, -1, -1, 20, -1, 61, -1, 5, 75, -1, 5, 79, 24, -1, 18, 25, 30, 59, -1, -1, -1, 97, 5, 65, 6, -1, -1, 2, 26, -1, 13, -1, 3, 71, -1, -1, -1, 9, -1, 82, 21, 71, -1, 35, -1, 5, 1, -1, 61, -1, -1, -1, 4, 17, 36, 58, 35, -1, 21, 5, -1, 4, -1, 46, -1, 61, -1, 22, -1, -1, -1, 35, 46, 25, 34, -1, -1, -1, 8, 88, -1, -1, 46, 8, 8, -1, 46, 8, -1, 29, -1, 35, -1, 5, 26, 14, 69, 46, -1, -1, -1, 59, 24, -1, 21, 24, 26, -1, -1, -1, -1, 26, 26, -1, 18, 41, 36, 34, -1, 94, 29, -1, 97, -1, 71, 36, 74, 25, -1, 5, 94, -1, -1, -1, 24, -1, -1, 5, 35, 6, -1, -1, -1, -1, 20, 43, -1, -1, -1, 10, -1, -1, 71, 79, 46, -1, -1, 79, 19, 45, 5, 5, 5, 47, 5, -1, 42, -1, 44, 86, 6, 11, 13, 30, 38, -1, 10, 86, -1, 5, -1, 81, -1, 9, -1, -1, 13, 20, -1, 46, 69, 26, 26, -1, 22, -1, -1, 79, 71, -1, 40, -1, 40, 65, -1, 38, 20, 17, 0, -1, 5, -1, 79, -1, 54, 58, 18, -1, 97, 88, -1, -1, 19, 30, 0, -1, 43, -1, -1, 13, -1, 26, 72, 30, 40, 8, 24, 26, 26, -1, 0, -1, 26, 18, 24, 24, -1, 26, 15, 82, 82, 24, 38, -1, -1, 50, -1, 88, 36, -1, -1, 24, 5, 24, 31, -1, -1, 41, 36, -1, -1, 30, -1, 17, 19, 13, 17, 34, 5, -1, -1, -1, -1, 5, -1, 55, -1, -1, -1, 40, 4, -1, 68, -1, 20, 72, 6, 5, 17, 5, 55, -1, 24, -1, 17, 18, 56, 5, 25, -1, 32, -1, -1, -1, 46, 81, 21, 56, -1, -1, 59, 3, 58, -1, 5, 5, 16, -1, -1, 26, -1, 26, 52, -1, 32, 17, 20, -1, 20, 20, -1, 26, 24, -1, 69, 78, -1, -1, -1, 26, -1, 68, -1, 4, 12, 12, 17, 26, -1, 35, 40, 12, 12, -1, -1, 26, -1, -1, 79, 40, -1, 73, -1, 12, 12, -1, -1, 85, 17, 2, 19, 34, 11, 12, 12, 12, 34, 24, 71, 69, 17, -1, 12, 6, 26, -1, 83, 36, -1, 20, 24, -1, 0, -1, -1, -1, 0, -1, 2, 33, 73, 34, 24, 9, -1, -1, -1, 46, -1, -1, 22, 20, -1, 20, 34, 5, 6, 4, 49, 8, 42, -1, 6, 20, -1, 11, -1, 64, 31, 31, 46, 26, 26, 17, 59, -1, 85, 83, 36, 26, 2, -1, -1, 70, 61, 36, 19, 72, -1, -1, 22, 59, 64, -1, -1, 26, -1, -1, 76, 12, 2, 4, -1, 5, 79, 74, -1, 36, -1, -1, -1, -1, 49, 40, 46, -1, 25, -1, -1, 26, 40, 46, -1, 25, 52, 49, 26, 26, 47, 17, -1, 69, -1, 18, 26, -1, 17, 40, -1, 26, -1, -1, -1, 79, -1, 17, 46, 49, 58, 58, 89, 58, 26, -1, 4, 83, 17, 24, 49, 14, 5, -1, 17, 37, -1, -1, 16, 52, 86, -1, -1, 13, 1, -1, -1, 5, 5, -1, 58, 24, 46, 52, -1, -1, 19, 46, -1, 19, 19, -1, -1, 27, -1, -1, 46, -1, 46, 46, 46, 46, 71, 8, 46, 71, 26, -1, 26, 26, 65, -1, 56, 46, 46, 0, 9, 24, 24, 35, -1, 6, -1, -1, -1, 97, 31, -1, 46, -1, 88, 23, 88, 0, -1, 69, -1, -1, -1, 20, 50, 59, -1, -1, -1, 36, 4, 35, 38, -1, -1, -1, 36, -1, 20, 47, 79, -1, -1, 58, 4, -1, 6, 32, 4, 46, -1, -1, 24, -1, -1, -1, 24, 15, 88, -1, -1, -1, 30, 64, 16, 21, -1, 2, 5, -1, 79, -1, -1, 12, -1, -1, -1, 6, 32, -1, -1, 21, 79, 76, -1, -1, -1, 13, -1, 76, 3, -1, 32, -1, -1, -1, 70, -1, 2, -1, -1, 13, -1, -1, -1, 69, -1, 24, 4, 22, 38, 2, 12, 35, -1, -1, 58, 32, -1, -1, -1, -1, 3, 79, 36, -1, -1, -1, 52, 17, 16, 45, 95, 37, 8, 0, 79, -1, -1, 13, 58, 36, 10, 13, -1, 11, -1, 54, 98, 86, 5, 58, 98, 36, 16, 2, 0, -1, 0, 72, 89, 19, 17, -1, -1, 28, -1, 19, -1, -1, -1, -1, 84, 76, 22, -1, 6, 19, 79, -1, -1, 28, 24, 25, 88, 31, 52, -1, -1, 0, 54, 33, 13, 85, -1, 17, -1, 6, 17, 60, 17, 18, 24, -1, -1, -1, 63, -1, -1, 6, -1, 94, -1, -1, -1, -1, 79, -1, 13, 92, -1, 17, 16, -1, 19, 19, -1, 6, 20, 76, -1, -1, 29, 24, 17, 16, 79, 17, 16, 22, 6, -1, 0, 20, -1, -1, 8, -1, 64, -1, 49, 12, 79, -1, 82, -1, 43, 34, -1, 86, -1, 36, -1, 23, 31, -1, -1, -1, 84, -1, -1, 80, 32, 5, 84, 24, -1, 21, 24, -1, 5, -1, -1, -1, 24, 17, -1, 44, 0, -1, 24, 86, -1, 6, 88, 79, 79, 4, -1, -1, 2, 24, 80, -1, -1, -1, 44, 79, 17, 66, 49, 5, -1, -1, 21, 94, -1, 60, 18, -1, 94, 58, 22, -1, 86, -1, -1, -1, 64, 17, -1, -1, -1, -1, 85, -1, -1, 68, -1, 0, 37, -1, 13, -1, -1, -1, 19, 85, -1, 5, 58, -1, -1, 32, 98, -1, 0, -1, 82, -1, 21, 12, 87, -1, 42, 17, 6, 6, 76, -1, 5, -1, 79, 17, 40, -1, 42, 61, -1, -1, 55, 18, -1, 42, 6, -1, -1, 0, -1, 79, 12, -1, 82, 18, 54, 54, 5, 5, 42, 26, 88, 24, -1, 5, 58, 3, 3, 12, 50, 33, -1, 88, 88, 43, 21, 41, 21, -1, -1, 29, 24, 43, 8, -1, -1, -1, 70, -1, 88, 49, -1, -1, -1, 24, -1, 46, -1, -1, -1, 34, -1, -1, 0, 92, 58, 71, 24, -1, 2, 69, -1, 17, -1, -1, 37, 43, 24, 23, -1, 20, 36, 79, -1, 82, 46, 46, 46, 82, -1, -1, 82, -1, 82, -1, 60, 82, 24, -1, -1, 20, 10, -1, 43, 20, -1, 11, 22, -1, -1, -1, 24, 11, 11, 25, -1, 24, 86, -1, -1, 72, 26, 78, 83, 92, 85, 24, -1, 0, 46, -1, -1, -1, 24, -1, 36, -1, 20, 11, 69, -1, -1, 8, 28, -1, -1, -1, 44, -1, -1, 13, 8, 32, 19, 0, -1, -1, -1, 50, -1, 32, 35, 5, 35, -1, -1, 68, 6, 0, 22, 43, -1, 43, 32, 47, 8, 49, -1, -1, -1, -1, 85, 4, 68, 22, 79, 26, -1, 94, 4, 26, 86, -1, -1, -1, -1, 85, 26, -1, -1, 4, 22, 52, 5, 5, 18, 56, -1, -1, 64, 5, 86, 22, 27, 74, 35, 8, 3, 61, 94, 94, -1, 23, 23, -1, 86, 35, -1, -1, 43, -1, -1, 11, -1, 19, 86, -1, 86, -1, -1, 76, 42, -1, -1, 71, 21, -1, -1, 68, 85, 11, -1, -1, 18, 26, 4, 11, 5, -1, 33, 24, 26, 87, 36, 2, 8, 26, 26, 53, 58, -1, 73, -1, -1, 73, 26, 78, 24, -1, 0, 26, -1, -1, -1, 0, -1, -1, 22, 79, 6, -1, 92, -1, 37, -1, 13, 26, 26, 12, -1, 11, -1, 17, 12, -1, 46, 5, -1, 31, 5, -1, -1, 83, 64, 79, -1, -1, 13, -1, -1, 59, 17, 22, -1, -1, 11, 58, 61, -1, 22, 13, -1, -1, 5, 74, 6, 22, -1, -1, 22, 19, -1, 92, 24, 13, 71, -1, 36, 36, -1, 18, -1, 72, 4, 4, -1, -1, -1, -1, 13, 11, -1, 14, 8, 42, 6, -1, 58, -1, 24, -1, -1, -1, 70, -1, 12, 12, 8, 81, -1, 3, 23, 98, -1, -1, 49, -1, 20, -1, 5, -1, -1, 56, 56, -1, 49, -1, -1, 79, 13, 30, -1, -1, -1, -1, 32, 35, 4, -1, 32, 27, -1, -1, 26, 71, 49, 83, -1, 35, 49, 11, -1, -1, -1, -1, -1, 26, 79, 24, 40, 10, 18, -1, 26, -1, -1, 21, -1, 17, -1, -1, -1, -1, 30, -1, -1, 33, 38, 81, 88, 13, 85, 47, 79, -1, 85, -1, 12, 4, 32, -1, 49, 40, 30, 5, 68, 24, 90, 5, 4, 81, 24, 10, 69, 6, -1, 36, -1, 10, 35, 35, 34, -1, 59, 5, 16, -1, 79, -1, 32, -1, 19, -1, 81, 32, -1, 70, 30, 6, 58, 79, 46, -1, 21, -1, 12, 32, 19, -1, 31, 30, 6, -1, 2, 4, 58, 92, 6, 56, -1, -1, 5, 17, 0, -1, 32, 36, 58, 55, 55, 0, 32, 50, 2, 44, -1, -1, -1, 58, 8, 73, 69, -1, 22, -1, -1, 58, 8, -1, -1, 82, 22, 79, -1, 53, 26, 79, 5, -1, 37, 73, 63, -1, -1, 24, -1, -1, 86, -1, 22, -1, -1, -1, -1, 6, -1, -1, 28, 43, 58, 19, 17, -1, 58, 58, -1, 20, 69, -1, -1, -1, 3, 24, -1, -1, 11, 5, 24, -1, 5, -1, 10, 45, -1, -1, -1, 63, -1, 13, 3, 58, -1, 14, -1, -1, 5, 46, 35, 20, -1, 35, -1, 85, -1, -1, 46, 13, 13, -1, -1, 64, -1, 26, 26, 26, 20, -1, 40, -1, -1, 72, 52, -1, 58, 58, -1, -1, -1, 85, 96, 19, -1, -1, 2, 75, 24, 19, -1, 6, 85, -1, 16, 10, 79, -1, 3, -1, -1, 2, 46, -1, -1, -1, -1, -1, 22, 32, -1, 0, -1, 66, 70, 43, -1, -1, 55, 22, -1, 31, 60, 55, -1, 71, 19, 79, -1, 17, 46, 32, -1, 64, 0, -1, 17, -1, -1, 35, 49, 11, 6, 46, 5, -1, -1, 34, 68, 90, 60, 0, 37, -1, 24, -1, 13, 72, -1, 24, 32, -1, 12, 43, 24, 98, 61, 45, -1, -1, 0, 19, 45, 58, -1, 62, 68, -1, 75, -1, 4, 22, 34, 6, 17, 24, -1, -1, 68, -1, -1, 37, -1, -1, 24, 58, 52, 8, 0, -1, -1, 58, 18, 5, 17, 42, -1, -1, -1, 26, 5, 36, -1, -1, -1, 24, 92, 36, 68, -1, 29, -1, 65, 24, 68, -1, 37, -1, 4, 86, 36, 25, 12, -1, 72, 13, 43, -1, 68, 69, 73, 26, 26, 5, 4, 44, 24, 24, 0, 47, 38, 40, 6, -1, 28, 10, -1, 10, -1, -1, -1, 36, 40, -1, -1, 0, 66, -1, 37, 16, -1, 32, -1, 13, 86, 22, -1, -1, 17, 17, -1, 26, -1, -1, -1, 29, 24, 4, 32, 32, -1, -1, 28, 8, -1, 23, 28, 13, 19, 69, 58, 54, 9, -1, 26, 98, 28, 0, 10, 58, 68, -1, -1, 21, 22, 44, 52, -1, 10, 46, 58, 36, 58, 17, 27, -1, 85, 33, 13, 6, -1, -1, 45, -1, 70, 68, -1, -1, 17, 72, 4, 12, -1, -1, 19, 3, 35, 17, 8, -1, -1, 35, 71, -1, 24, 58, 76, 24, 30, 24, -1, 24, -1, -1, 18, -1, -1, -1, -1, -1, 19, -1, -1, -1, -1, 82, 32, -1, 32, 86, -1, -1, 11, 5, -1, 86, -1, -1, -1, -1, 34, -1, -1, -1, 98, -1, -1, -1, -1, 9, -1, 45, 53, -1, 68, -1, -1, -1, -1, -1, -1, 24, 58, 12, 5, -1, -1, -1, 8, -1, -1, 49, 98, -1, 40, -1, 41, -1, -1, -1, -1, -1, 24, 90, -1, -1, 71, 17, -1, 10, 5, 24, 33, -1, 35, -1, 73, 5, 94, 30, -1, 68, 68, 24, 59, 60, -1, -1, 60, 26, -1, 73, 49, -1, -1, 1, 26, -1, -1, -1, -1, 24, 69, -1, 31, -1, 26, 6, -1, 26, 26, -1, -1, 26, 35, 26, 0, 18, 19, 25, -1, 17, -1, -1, 73, -1, 24, 36, -1, 18, -1, 53, 11, 16, 19, 19, -1, 24, -1, -1, 2, 73, 5, 22, 58, 32, 79, -1, -1, 79, 58, 17, 32, -1, 35, 79, 68, 70, -1, 24, 58, 24, 58, -1, -1, 4, 79, 10, 58, 4, -1, 54, -1, -1, -1, 40, 12, 26, 17, 54, -1, 68, 17, -1, 6, 21, -1, -1, -1, 10, -1, 5, -1, 37, -1, 31, 35, 64, 58, 6, -1, 11, 5, -1, -1, 68, 10, -1, 24, -1, 14, -1, 58, 11, -1, 58, -1, -1, 58, -1, -1, 18, -1, 34, -1, -1, -1, 2, -1, -1, 11, 18, -1, -1, 3, 49, 25, 68, 49, -1, 18, 12, 19, -1, 8, 40, -1, -1, 36, -1, 18, -1, 79, -1, 19, -1, -1, -1, 6, -1, -1, -1, 5, -1, 25, -1, 79, 24, -1, -1, -1, 86, -1, 36, -1, 18, 11, 27, -1, 79, -1, 24, 21, 70, 4, -1, 11, 27, 86, 51, 54, 76, 11, 90, 88, 85, -1, 11, 11, 13, 76, -1, 54, -1, 74, 50, 72, 32, 74, 35, 54, 27, -1, 74, 54, 3, -1, 5, -1, 74, 68, -1, 76, 24, -1, -1, 5, 16, 45, 40, -1, -1, -1, -1, -1, -1, 97, 19, 36, -1, 76, -1, 88, 81, -1, 59, -1, 68, 37, -1, 32, -1, 24, 6, -1, -1, 92, 32, 32, 83, 44, -1, -1, -1, 79, 22, -1, -1, 24, 24, 58, 87, -1, -1, 37, -1, 11, 97, 60, 5, -1, 6, 45, 37, -1, 19, 73, 86, 34, 3, 83, -1, 32, 0, -1, 13, 52, 50, 71, -1, 84, 31, 70, 88, 8, -1, -1, -1, 24, -1, -1, 44, -1, 8, 26, 73, 20, -1, -1, -1, -1, 17, -1, -1, 25, -1, 30, -1, 24, -1, 79, 26, -1, -1, 18, 30, 38, -1, -1, 18, 26, -1, 8, 26, 73, -1, 26, 22, -1, 69, -1, -1, 26, -1, 79, 25, 22, 17, 17, 24, 43, 30, 6, 5, 73, 31, -1, 2, 72, -1, -1, 58, 43, 4, -1, 24, 69, 26, 22, -1, -1, 8, 0, -1, 32, 28, 22, -1, 5, 3, 32, 31, 87, 19, -1, -1, -1, -1, 4, 5, 32, -1, 0, -1, 20, 5, 95, -1, 45, -1, -1, -1, 97, 10, 37, -1, 85, 20, 79, -1, 18, 88, 0, 44, 11, 5, -1, -1, 86, 5, 5, 66, 96, -1, -1, -1, 16, 5, 61, -1, 17, -1, -1, -1, 43, 79, 5, 83, 16, 33, 79, -1, 19, 3, 0, 0, 10, -1, -1, -1, 19, 81, 23, -1, 5, 35, 4, 33, -1, -1, -1, 19, 12, 17, -1, 6, 97, 92, 58, 35, -1, 79, -1, 35, 35, 59, -1, 33, -1, 26, 79, 6, -1, -1, -1, 8, 5, -1, 8, 35, 42, -1, 85, 21, -1, 80, 58, -1, 58, 10, -1, 68, -1, 54, 24, 3, 3, -1, 68, 54, -1, 3, 22, 22, -1, 54, 18, 18, 36, -1, 26, 26, 18, 18, 26, -1, 10, 26, 18, -1, -1, 5, 60, -1, 54, 11, 26, -1, 26, 17, 85, -1, 84, 24, -1, -1, 22, 17, -1, 17, -1, -1, 13, 24, 33, 26, 12, -1, 12, 12, 8, 12, 12, 55, 12, 68, 97, 55, -1, 12, 12, 3, 3, 17, 97, 8, -1, 16, 26, -1, -1, -1, 71, 79, 24, 58, 20, -1, -1, 72, 26, -1, -1, -1, 11, 76, 36, 4, 81, 36, 74, 26, 60, 8, 24, 17, 58, -1, 5, -1, -1, -1, -1, 60, 17, 21, 3, -1, 2, -1, 64, 20, 17, 24, 86, -1, 24, 56, -1, 26, -1, 6, 18, 94, 18, 32, -1, -1, -1, 8, 2, -1, 73, 16, 35, -1, 32, -1, -1, -1, 94, 17, 26, -1, 4, 47, 3, 73, 95, -1, -1, 35, -1, 5, 32, 79, -1, -1, 64, 44, 13, -1, 0, -1, 17, 24, 13, 5, 41, -1, -1, -1, -1, -1, 40, 76, -1, -1, 33, 5, 52, 56, 88, -1, -1, -1, 88, 64, -1, 58, -1, 88, -1, 83, 22, -1, -1, 57, 6, 7, -1, 48, -1, -1, 9, 3, -1, -1, 1, -1, 14, -1, 11, -1, 11, -1, -1, -1, 90, -1, 99, 99, 14, 11, -1, -1, 22, 37, 27, -1, 23, -1, -1, 19, 38, -1, -1, -1, -1, -1, -1, 93, -1, -1, -1, -1, -1, -1, 23, -1, -1, -1, -1, -1, -1, 63, 7, -1, 7, 14, 4, 47, 16, 16, 1, 1, 1, 37, 7, 7, -1, -1, 7, 16, -1, 14, 7, -1, 7, -1, 7, 7, 7, 39, 7, 15, 7, -1, 7, 7, 7, 7, 18, 7, 45, 7, 7, -1, 18, 1, 1, -1, -1, 15, 99, 99, 99, 99, 7, -1, 1, -1, -1, -1, -1, -1, 4, 99, 11, 99, 1, 1, -1, 7, 7, -1, 23, -1, -1, 7, 16, -1, 15, -1, -1, 45, -1, 18, 34, -1, 1, 0, 37, 99, 15, -1, 16, 16, -1, 16, 61, -1, -1, 15, 7, 11, -1, -1, 7, 11, 7, 99, 99, -1, 99, 99, 99, 18, 18, 18, 64, 99, 18, -1, -1, 15, 71, -1, 15, 1, 1, 22, -1, 18, -1, 7, 7, 7, 1, 7, 7, -1, 7, 7, 12, 18, -1, 14, 25, 15, 18, 4, 7, -1, 2, -1, -1, -1, 9, -1, 0, 9, 66, 28, -1, 9, 31, -1, 1, 1, 2, 2, 12, 9, 28, 5, 12, -1, 9, 28, 84, 54, 40, 47, 9, 16, -1, 37, -1, 9, 3, -1, -1, 9, 16, -1, 84, -1, 9, 47, 28, -1, -1, 74, -1, -1, 34, 54, 2, 9, 9, -1, 3, 28, 60, 60, 2, 84, 2, -1, 2, -1, -1, 80, 76, 22, -1, 73, -1, -1, 2, -1, -1, -1, 70, 82, 22, 22, 22, 28, 82, -1, 58, 22, 9, -1, 16, -1, -1, -1, 70, 95, -1, -1, -1, -1, 22, 54, 22, -1, 60, 22, -1, 34, 34, 22, 57, 16, 16, 28, -1, -1, -1, 16, 16, -1, 63, 60, 16, 26, 22, -1, 22, -1, 16, -1, -1, 22, 1, 22, 22, -1, -1, -1, 16, -1, -1, 16, -1, 16, 60, 16, -1, 16, 16, 22, 16, 79, 60, -1, -1, 50, -1, 94, -1, -1, 5, -1, -1, -1, 1, -1, 2, 2, -1, -1, 22, 75, -1, -1, 14, 84, 31, -1, 64, 2, 32, 75, 2, 40, 11, 28, 45, -1, 2, 31, 16, 82, 82, -1, 75, -1, 22, -1, 55, -1, 9, 82, -1, 3, 82, 24, 1, 59, 2, 28, 2, -1, -1, 16, 55, -1, -1, -1, 2, -1, 3, -1, -1, 38, 3, 2, -1, 82, 28, -1, 75, 84, 28, -1, 39, -1, -1, -1, -1, 16, 28, 3, -1, 5, 28, 82, 14, 12, 88, -1, 61, 55, 55, -1, 54, -1, 24, 31, 28, -1, 16, -1, -1, 2, -1, 82, -1, 16, -1, 84, 28, 75, 55, 9, -1, -1, 13, -1, 2, 40, 55, 13, 34, 3, -1, 16, 55, -1, -1, 28, -1, 9, 2, 54, 16, 28, -1, -1, -1, -1, 2, -1, -1, -1, 31, 55, -1, 13, 82, 9, 31, 2, -1, -1, 54, -1, 84, -1, 35, -1, 70, 41, 83, -1, 18, 2, 74, -1, -1, -1, 9, 75, 2, -1, 82, -1, 82, 28, 2, 59, 74, 22, 16, 2, 18, 4, 4, -1, 2, 2, 4, -1, 2, 60, -1, 10, -1, 54, 31, -1, -1, 83, -1, 9, -1, 11, 13, 56, -1, 28, 54, 21, 68, -1, 7, -1, -1, 36, 14, -1, 62, -1, -1, 36, 75, -1, -1, 69, -1, -1, 24, 16, 36, 54, -1, 82, 31, 2, 16, -1, 66, -1, -1, -1, 2, -1, 3, 16, 63, 84, 56, -1, 16, -1, 16, -1, -1, 3, 84, 2, -1, -1, 28, 15, 54, 83, 2, 2, 14, 55, 3, 13, -1, -1, -1, -1, 54, -1, 14, -1, 62, -1, -1, 75, -1, 75, 84, 28, -1, 0, 24, 54, 26, -1, -1, -1, 91, 24, 15, 54, 74, 5, 54, -1, 99, 31, 82, -1, 54, -1, 54, -1, 82, 2, -1, -1, 55, 9, 75, 13, -1, 24, 84, 56, -1, 24, 27, -1, 55, -1, 55, 22, 2, 55, 3, -1, 55, 84, -1, 82, 55, 55, -1, 39, 28, 38, -1, 2, 28, 13, 55, 2, 55, 55, 55, -1, 13, 3, 4, 55, 2, 2, -1, 9, 7, -1, -1, 9, 16, 32, -1, 88, 28, -1, 2, -1, -1, 15, 88, -1, 2, 9, -1, -1, 92, -1, 16, 16, 31, 84, -1, 55, -1, 72, -1, -1, 16, 3, 10, 3, -1, 2, 28, -1, -1, -1, -1, 60, -1, -1, 2, -1, -1, -1, -1, 28, -1, -1, 54, 21, -1, 28, -1, 22, -1, 66, 18, 34, 4, -1, -1, 41, 22, 18, 54, 2, 28, 16, -1, -1, -1, 28, -1, -1, 84, 22, 28, 24, 3, 2, 92, -1, 75, 34, 2, 3, 2, -1, -1, 11, 54, 28, 90, 22, 54, 1, 1, 55, 69, -1, 28, -1, 38, -1, -1, 1, 11, 3, 3, -1, 34, -1, -1, -1, -1, -1, 1, -1, 1, 0, -1, 5, 99, 15, 99, 99, 99, -1, -1, -1, -1, 14, 4, 14, -1, 61, 99, 0, -1, 7, 77, 99, -1, 15, 65, 7, 14, -1, 7, -1, 14, 4, 7, 10, 10, 4, 10, 15, 7, 14, -1, 45, -1, -1, 7, 0, 7, 90, 21, 16, -1, 73, 4, 59, 15, -1, -1, -1, 4, 7, 77, 1, 4, 7, 4, -1, 7, 7, 4, 4, 7, 4, 4, 4, -1, -1, -1, -1, 90, 4, -1, -1, 14, 7, -1, -1, 18, 84, 2, -1, 0, -1, -1, -1, 4, 4, 41, 41, 45, -1, 54, 22, 39, 98, 54, 4, -1, -1, 19, -1, 62, -1, -1, -1, 4, 23, 4, 38, 19, 0, 45, 11, 23, 18, -1, -1, -1, 38, -1, 52, 62, 30, -1, -1, 51, -1, -1, 16, 47, -1, 44, 33, 0, 12, 99, 0, 81, -1, 19, 99, 47, 81, 1, 36, 13, 28, -1, 81, -1, 23, 38, -1, 44, -1, -1, 10, 23, 25, 18, 37, 32, 65, 22, -1, 0, 7, 99, 99, 99, 2, 4, -1, 36, 99, 41, -1, -1, -1, 23, -1, 33, 0, 99, 99, 36, 23, -1, 36, 44, 22, 99, -1, 36, 0, -1, -1, 4, 99, 99, -1, 99, 99, 99, 36, 36, 10, 72, 99, 99, 99, 99, -1, 4, -1, -1, 99, 4, 99, 72, -1, 99, 69, 72, -1, 4, 72, 51, 28, 28, 28, 28, 25, -1, 73, 39, 42, 25, -1, -1, 55, 99, -1, 39, 4, 47, 15, 35, -1, 62, -1, 52, 47, 12, -1, -1, 13, 55, 28, -1, 99, 37, 62, -1, -1, -1, 34, -1, 34, 2, 15, 19, 38, 47, 51, -1, 10, 41, 25, 28, -1, -1, -1, 92, 34, 37, 94, 2, 2, 2, -1, -1, -1, -1, 15, 0, 0, -1, 12, -1, -1, 5, 99, 75, -1, 62, -1, 38, 25, 77, -1, 0, -1, 51, -1, -1, 0, -1, -1, -1, 19, 44, -1, 27, -1, -1, -1, 3, 11, 44, 0, 7, 29, 0, 7, 7, -1, 7, 51, 7, -1, -1, 51, 51, 41, 94, 33, -1, 19, 81, 25, 99, -1, -1, 9, 4, 52, 33, 33, 93, 15, 51, 51, -1, 23, -1, -1, -1, -1, 37, -1, 38, -1, 34, -1, -1, -1, 0, -1, 19, 4, 4, 19, 47, -1, -1, 0, 19, 19, 90, 62, -1, 15, -1, 93, 0, 0, -1, 4, -1, 51, -1, 93, 4, 38, 47, 0, 1, 30, 91, 11, 11, -1, -1, 25, -1, -1, -1, -1, 81, 4, 0, 33, 37, 0, 15, 45, 7, 35, 6, 93, -1, -1, 44, 41, 47, 62, 25, -1, -1, 10, -1, 88, -1, -1, 50, 1, -1, 15, -1, -1, 35, 81, -1, 95, -1, 15, 0, 59, -1, 4, -1, 0, 41, -1, -1, 15, -1, 68, 62, 40, 11, -1, 14, 84, 84, -1, 44, 0, 0, 51, 51, 1, 51, -1, -1, 0, 23, -1, 38, 7, 10, 13, 39, 15, 63, -1, 47, 65, -1, -1, 34, 1, -1, 2, -1, 30, 38, 23, -1, 41, 0, 81, 33, 10, 11, 37, 4, 45, 4, -1, -1, 10, -1, -1, 51, 55, 2, 12, 4, 4, -1, 47, 1, 44, 93, 16, 4, 51, 41, 13, 27, -1, 13, 61, -1, -1, 51, -1, -1, 47, -1, 47, 80, -1, -1, 47, -1, 99, 23, -1, 45, 2, 0, -1, -1, -1, 37, 13, 13, -1, 1, 11, 0, 0, 44, 0, 44, 33, 19, -1, -1, -1, 2, 31, 54, 23, 95, 95, 51, 34, 10, 62, 23, -1, -1, -1, 37, -1, -1, -1, 34, 44, 47, 28, 34, 2, 10, 38, 45, 47, 64, -1, 95, 59, 12, -1, -1, 68, -1, -1, 52, 12, 18, -1, 2, -1, -1, -1, -1, 37, -1, -1, -1, 55, 4, 0, 44, -1, 0, 0, 11, 44, 4, 6, 2, -1, 10, -1, 69, 15, 15, 44, 13, 44, 30, 34, 81, 38, 4, 0, 12, -1, 22, -1, 1, 30, -1, 30, 39, -1, 92, -1, -1, -1, 52, 4, 38, 39, -1, -1, 4, -1, -1, -1, 28, -1, -1, -1, 51, 51, -1, 64, -1, -1, 70, 93, -1, 5, 61, 59, 40, 59, 15, -1, -1, 22, 63, 22, 59, 40, -1, -1, -1, 95, 84, 84, 72, 93, -1, 20, -1, -1, -1, 80, -1, -1, 38, -1, -1, -1, -1, 90, 32, -1, 90, 2, 4, -1, 2, -1, 12, -1, 13, 32, -1, 11, 43, 15, 0, -1, 65, 74, 95, 97, -1, -1, 2, -1, 2, 88, -1, 84, 65, -1, 40, 83, 13, 13, 35, 59, -1, 70, 59, 5, 32, -1, 6, -1, -1, -1, 3, -1, 5, 13, 13, 5, -1, 13, 22, -1, -1, -1, -1, -1, -1, -1, 95, -1, 95, 25, 92, 9, 69, 2, 80, 5, 5, -1, -1, 3, 69, -1, 74, 40, 2, -1, 4, 28, 0, 92, -1, 7, 36, 54, 80, -1, -1, 74, 14, 9, -1, 2, 38, -1, 66, -1, -1, -1, -1, -1, 27, -1, 52, -1, 80, 19, 44, 72, 2, 7, -1, -1, -1, 5, 16, -1, 2, 40, 40, 74, -1, -1, -1, 52, 27, 0, 10, -1, 3, -1, 74, -1, 66, 5, -1, 84, -1, -1, 1, 80, -1, -1, 56, -1, 30, -1, 62, 79, 33, 40, -1, 15, 11, 25, -1, -1, 75, -1, -1, 84, 79, 72, -1, 0, -1, 2, 2, -1, -1, 30, 0, 6, -1, -1, 9, 92, 45, -1, -1, -1, -1, 2, -1, -1, -1, 17, 2, 40, 17, 45, 13, 0, 80, -1, 45, 45, -1, 37, 11, 12, -1, 5, 45, 10, 22, -1, 80, -1, 16, -1, 51, -1, 99, 16, -1, -1, 45, 45, -1, -1, 32, -1, 88, -1, 28, 1, -1, 92, -1, -1, 45, 41, -1, 45, 16, 1, -1, -1, 0, 1, 54, -1, 1, 51, 45, 80, -1, 51, 51, 1, 51, 1, 17, -1, 80, 92, 80, 45, -1, -1, -1, 4, -1, 80, -1, -1, -1, -1, 65, 7, -1, -1, 7, -1, -1, 45, 45, 45, 45, -1, -1, -1, -1, 45, -1, -1, 0, -1, -1, -1, -1, -1, -1, -1, 45, 45, 45, 44, -1, -1, 44, 90, 4, 95, 93, -1, 36, 36, 41, 23, -1, 45, -1, 41, -1, 36, 80, 45, -1, 9, 65, -1, 45, -1, -1, 45, -1, 51, 2, 11, -1, -1, 45, -1, 11, 45, 67, -1, 72, -1, -1, 99, 99, -1, 59, 45, -1, -1, -1, -1, -1, -1, -1, 92, 45, -1, 45, 59, 45, -1, -1, 68, 68, 32, 40, -1, -1, 13, 95, -1, -1, 73, -1, -1, -1, -1, 10, 59, 2, -1, -1, 16, -1, -1, -1, 29, 7, -1, -1, 2, -1, 60, 87, -1, -1, -1, 60, 54, -1, 9, 10, -1, 55, -1, -1, 1, 6, 38, 60, 82, -1, -1, -1, -1, 10, 0, 51, 60, -1, 84, -1, -1, 11, -1, 37, 1, -1, -1, 28, -1, 36, 36, 36, -1, -1, -1, 10, 11, -1, -1, -1, -1, 55, 11, 60, -1, 52, 75, -1, 7, -1, -1, 10, 75, -1, -1, 86, 0, 39, -1, -1, 52, -1, 95, 64, -1, 11, -1, 81, 10, -1, -1, 11, 83, 40, -1, 23, 4, 10, 45, 4, 31, -1, 65, 2, -1, 3, 27, 2, -1, 62, -1, 0, 11, 11, -1, 0, 93, -1, 36, 0, 28, 14, 80, -1, 4, -1, -1, 75, 59, 28, -1, 91, -1, -1, 54, -1, -1, 92, -1, 72, -1, -1, -1, -1, -1, 60, 20, -1, 11, 95, 11, 80, -1, -1, 80, -1, 51, 51, 40, 51, 51, 11, -1, 0, 11, 59, -1, -1, 80, 80, -1, -1, -1, 80, 11, -1, -1, -1, -1, 2, 80, 55, -1, -1, -1, 45, 80, -1, 84, 75, 60, -1, 82, 36, 55, -1, 25, -1, 14, -1, 92, 23, 5, 55, -1, 24, -1, -1, 60, 80, 0, -1, 28, 0, -1, -1, 62, 80, -1, 60, 90, 80, 11, 47, 66, 7, 60, 28, -1, 60, 92, 2, 2, 11, 14, 80, 92, 0, -1, -1, 0, 11, -1, 80, 60, 0, -1, -1, 11, -1, -1, 11, 11, -1, 51, 11, 11, 17, 11, 80, -1, -1, 37, -1, -1, 80, 60, -1, -1, -1, 62, -1, 37, -1, 32, -1, -1, -1, -1, 3, 51, 51, 62, -1, -1, -1, 24, 24, -1, 13, 60, 18, 75, 80, 45, 38, -1, 60, 55, 55, -1, -1, 18, 11, 11, 29, 7, 93, 34, 11, 9, 19, 45, 1, -1, -1, -1, 60, -1, -1, 11, -1, 64, 80, 4, 5, -1, -1, -1, 5, 80, 80, -1, -1, 60, 72, -1, -1, -1, -1, 84, 60, 75, -1, -1, -1, 11, 16, 84, 84, 96, 95, 11, -1, -1, 60, 28, 75, 56, -1, 60, -1, 27, 5, 2, 16, 17, 60, 14, 37, -1, 80, -1, 18, 4, 12, 28, -1, 80, 23, 87, 11, -1, 62, -1, 47, 59, 60, -1, -1, 65, 19, 51, 16, 37, 40, 3, 55, 2, 13, -1, 19, 19, 0, 52, -1, 80, 60, 16, 11, 11, -1, -1, -1, 13, -1, -1, 6, 79, 3, 47, -1, 14, -1, 55, -1, 2, 9, 60, 55, 62, -1, 60, 92, -1, -1, 28, 55, 56, 40, -1, 9, 94, -1, 1, -1, 35, -1, 38, 24, 9, 49, -1, 5, 16, 55, 41, 3, 32, 41, 12, -1, 47, -1, -1, 15, 10, -1, -1, 9, 41, -1, 94, 25, -1, 92, 2, 3, 0, -1, 40, 68, 35, 13, 9, -1, 41, -1, -1, -1, 44, 19, 45, 19, 15, -1, -1, -1, -1, -1, 2, 2, -1, 45, 19, 2, -1, -1, -1, 55, -1, 16, 58, -1, 80, 33, -1, 51, -1, -1, 41, -1, 14, -1, 45, 6, -1, 7, -1, 79, 2, -1, 16, 62, -1, 41, -1, 44, 0, -1, -1, 55, -1, -1, 60, -1, -1, 28, -1, 12, 55, 2, -1, 62, 62, 62, 80, 35, -1, 92, -1, -1, -1, -1, 36, 14, -1, 23, 3, 68, 80, -1, -1, 18, 11, -1, 2, 55, 41, 4, 23, -1, -1, -1, 72, 36, 25, -1, -1, 91, 80, -1, 54, 2, 51, -1, 16, -1, 84, -1, 28, -1, 11, 62, -1, -1, 9, 55, 28, 51, -1, -1, 6, 82, -1, -1, 72, 16, 2, -1, -1, 28, -1, 14, 25, 2, -1, -1, 12, 25, 87, 7, -1, 80, -1, 80, 2, -1, 12, -1, 74, -1, 55, 2, 31, -1, 44, -1, -1, 4, -1, 4, 11, 80, 16, 38, 44, 23, 4, -1, 38, -1, -1, 91, 28, -1, 80, -1, 6, 55, 14, -1, 55, 55, 55, 55, -1, 38, -1, -1, -1, 80, -1, -1, -1, 52, 28, 55, -1, 82, 61, 80, 9, -1, -1, 9, 55, 55, -1, -1, 4, 9, -1, 55, 55, 55, -1, 13, 35, 13, -1, -1, -1, 2, 92, 9, -1, 94, 61, -1, -1, -1, -1, -1, -1, 40, -1, -1, 71, 38, 14, 25, 14, 12, -1, -1, 75, -1, 75, 75, 75, 17, 35, -1, -1, 5, 28, 28, 5, 2, -1, 75, 75, 73, 2, -1, -1, -1, 34, 7, 25, 65, -1, 91, 28, -1, 8, 32, 18, 28, 52, -1, -1, -1, 55, -1, -1, -1, 2, -1, 28, 84, -1, -1, 5, 64, 20, -1, -1, 23, -1, -1, 18, 80, -1, -1, 2, 84, 2, 82, -1, 53, -1, -1, -1, 84, -1, -1, 6, 72, 15, -1, -1, -1, -1, 9, 9, -1, -1, 84, -1, -1, 2, 6, -1, -1, 75, 2, -1, 16, 18, -1, 2, 38, 80, -1, -1, -1, 41, -1, -1, -1, -1, 5, -1, 2, -1, 16, -1, -1, -1, 2, 61, 70, 38, -1, -1, -1, 43, 4, 94, -1, -1, -1, -1, -1, -1, -1, 51, -1, -1, 30, -1, -1, 73, 28, 17, 14, 64, -1, 52, -1, 96, 55, 23, -1, 45, 15, -1, -1, 17, -1, 36, 10, -1, 51, 64, 3, 3, 14, 6, -1, -1, 24, 2, -1, -1, 22, 11, 2, -1, 43, 84, 43, 91, -1, 13, -1, 22, 80, 62, -1, 12, 40, -1, -1, -1, 2, 2, -1, -1, 82, 16, -1, 77, -1, 95, 23, 9, 75, -1, -1, 84, 33, 52, 14, -1, -1, 2, 2, 2, 2, -1, 5, -1, -1, -1, 16, -1, -1, 92, 92, -1, 51, 51, 85, 82, -1, 18, 80, 14, 14, 3, -1, -1, 33, 82, -1, -1, -1, -1, 44, -1, 80, 65, 18, 26, -1, 18, -1, 30, 15, 65, 99, -1, -1, -1, 37, -1, 3, 51, 51, 31, 2, 2, 37, -1, -1, -1, 12, 14, 14, 16, 14, 37, 28, 28, -1, 3, -1, -1, 2, 3, -1, 83, 16, 37, 4, -1, 34, 1, 14, -1, -1, -1, 2, -1, 20, 38, 3, -1, -1, 3, 2, 38, 28, -1, -1, -1, 62, 38, 0, 39, 24, 2, 75, 25, 2, 2, -1, 0, 16, -1, -1, -1, 36, -1, 17, 6, 2, -1, -1, -1, -1, 28, -1, 54, 2, 12, 75, 96, 2, -1, -1, -1, -1, 75, 28, 54, 31, -1, -1, -1, -1, -1, 38, -1, 37, 2, 37, 37, 18, 75, 75, 2, 55, -1, -1, 75, 92, 10, -1, -1, 2, 75, -1, -1, 28, 58, -1, 26, 36, 3, -1, 37, 37, -1, -1, -1, -1, 42, 5, 11, 55, -1, 96, 74, 18, 16, -1, 28, 3, 51, -1, -1, 55, -1, -1, 25, 55, -1, -1, 80, 66, -1, 31, 28, 20, -1, 28, 2, 28, 3, -1, 75, 12, 38, -1, 74, 2, 31, -1, 54, 2, 28, 17, 38, 56, 92, 84, 28, -1, -1, -1, 3, -1, 75, 16, 14, 38, 2, 36, 92, 17, 4, 92, -1, 45, 28, -1, -1, -1, 38, 74, 21, 16, -1, -1, -1, -1, 93, -1, 47, -1, 54, 92, 13, 38, -1, 38, 38, -1, -1, -1, -1, -1, 3, 3, 3, 20, -1, -1, 92, 92, -1, -1, -1, 20, -1, 2, -1, 38, -1, 40, 45, 43, 5, 10, -1, -1, -1, 11, -1, 38, -1, -1, 26, 20, -1, 92, 54, 75, 92, 80, 37, 13, 62, -1, -1, -1, 41, -1, -1, -1, -1, -1, -1, -1, 16, 37, -1, 15, 15, -1, -1, 25, 75, 1, 6, 75, -1, -1, 92, 15, -1, -1, 30, -1, -1, -1, 65, -1, -1, 52, 23, -1, -1, -1, -1, -1, -1, 3, -1, 82, 28, 65, 12, 47, -1, 49, 3, -1, -1, 59, 11, 45, 3, 4, 2, 16, 14, -1, 51, -1, 3, 45, -1, 20, -1, 20, 20, -1, 51, 3, 3, 3, -1, 3, 20, 77, 25, -1, 31, -1, -1, 75, -1, 2, 55, -1, -1, 60, 38, 3, -1, 55, 55, 14, -1, 2, 35, -1, -1, 32, 3, 37, -1, 25, -1, -1, 1, 69, -1, 20, -1, 24, -1, -1, 12, -1, 77, 43, -1, 52, -1, -1, 2, -1, 39, 14, 0, -1, 2, -1, -1, -1, -1, -1, 37, 5, -1, 51, -1, 86, 47, 52, 12, 28, 2, -1, -1, 59, 30, 16, 24, -1, 5, 25, 82, 31, 3, 1, -1, -1, -1, -1, -1, -1, -1, -1, 68, 14, -1, 45, 2, -1, -1, -1, 99, 99, -1, 99, -1, -1, -1, -1, 75, 40, -1, 1, -1, 28, -1, 5, 30, 0, -1, -1, 2, 99, 6, -1, 18, -1, 37, 3, 2, -1, 13, 56, -1, 1, -1, 16, 2, 75, -1, 96, 16, 99, -1, 14, -1, 99, -1, 99, 1, 75, -1, -1, 45, -1, 6, 45, -1, 99, -1, -1, 1, 2, -1, -1, 80, 75, 14, -1, -1, -1, 31, -1, -1, 4, -1, 2, 34, 34, 38, -1, -1, 45, -1, 66, -1, -1, -1, 28, 2, 65, 38, 75, 0, 38, -1, 72, 80, -1, -1, -1, -1, 28, -1, 28, -1, 72, -1, -1, 25, -1, 4, -1, -1, -1, 84, -1, -1, -1, -1, 3, -1, 59, 39, -1, -1, 13, -1, -1, -1, -1, -1, 46, 2, -1, 14, -1, -1, 77, -1, 38, 13, 38, -1, -1, 25, 28, 11, 11, 77, -1, 21, 38, 40, 28, 18, -1, 79, -1, 69, 28, -1, -1, -1, -1, 10, -1, 82, 96, 28, 75, -1, 31, -1, 16, 16, 28, 3, 9, -1, 2, -1, -1, -1, 2, 36, 62, -1, -1, 51, 51, 31, -1, 1, 75, -1, 7, 87, 51, -1, -1, 4, 55, 2, 95, -1, -1, 84, 24, 16, 16, 11, 14, 5, 77, 39, 22, 18, -1, 41, -1, 12, 2, 9, 16, 31, -1, 11, -1, -1, -1, -1, -1, -1, 70, 95, 77, -1, -1, 45, 45, 77, 77, -1, 77, 34, 59, -1, 77, 34, -1, 59, -1, 59, 34, -1, -1, -1, 40, 40, 31, 75, 75, 11, 11, 87, 15, -1, 37, -1, 2, 16, 75, 31, 2, 41, -1, -1, 2, -1, -1, 16, 2, 13, 28, 45, -1, 10, 9, 54, 11, -1, 76, -1, 45, 28, 2, 29, -1, -1, 95, 16, -1, -1, 51, 75, 28, 41, 57, -1, -1, -1, 53, 3, 15, 84, 12, -1, -1, 2, -1, 2, 3, 37, 38, -1, -1, 84, -1, 33, -1, 2, -1, -1, 51, -1, 15, 1, 1, -1, -1, -1, 77, -1, -1, 1, 38, 1, 50, -1, 28, -1, -1, 54, 12, -1, 4, 16, 36, -1, -1, 3, -1, -1, 8, 31, 54, -1, 90, 2, -1, 57, -1, 57, 68, -1, 14, 90, -1, -1, 99, 17, -1, 15, 28, 54, -1, -1, 15, 2, 17, 51, 7, 87, -1, 18, 20, 3, -1, -1, -1, 2, 0, 41, 2, -1, -1, 31, 14, 2, 14, -1, 92, -1, -1, 22, -1, 36, 77, 15, 99, 74, -1, 31, -1, -1, 55, 2, 2, 39, 30, 55, 84, -1, 77, 87, 22, 35, 18, -1, 13, 2, -1, 16, 16, 12, 84, 14, 20, 82, -1, -1, 59, 57, 2, 41, 28, 3, 12, -1, -1, 16, -1, 23, 2, 5, -1, -1, 43, 87, 7, -1, 84, 3, 54, 14, -1, -1, 2, -1, -1, 34, 13, 7, 17, 69, -1, 84, 24, 31, 51, 35, 43, 3, -1, 37, 16, -1, 11, 2, 9, 81, -1, 1, 55, 40, 16, 11, -1, -1, -1, -1, 2, 84, 21, 12, 3, -1, -1, -1, 16, 14, -1, 2, 39, -1, -1, 28, 2, 87, 7, 20, -1, 47, 2, -1, 55, 3, 66, -1, 16, -1, -1, 15, -1, 32, 26, 30, 20, 95, 28, 71, -1, -1, 84, 64, 95, 7, 57, 9, 40, -1, -1, 54, 84, 14, 45, 84, -1, 57, -1, 24, -1, 51, -1, 13, 25, -1, 3, -1, -1, 28, -1, -1, 84, 5, -1, -1, 84, -1, 16, 16, 1, 0, -1, -1, -1, -1, -1, 9, 2, 84, -1, -1, -1, -1, -1, 7, 87, -1, -1, 28, -1, 16, 30, 0, 2, 58, -1, 57, 84, -1, 84, 37, 23, 16, -1, 86, 2, 2, 28, -1, 55, -1, 2, -1, 82, 84, 28, -1, 61, -1, 28, -1, -1, 2, 75, -1, -1, 2, -1, 84, -1, 9, 84, -1, -1, -1, 2, 2, 33, 84, 3, 72, 31, 84, -1, 54, 16, -1, -1, 84, 51, 35, 9, 54, 6, 2, -1, -1, -1, -1, -1, 16, 82, 87, 1, -1, -1, -1, 4, 2, 54, 84, -1, -1, -1, -1, 84, 86, 2, 39, 27, -1, 12, -1, -1, 75, 98, 16, 6, 2, -1, 84, 66, 12, 28, 28, 84, 57, -1, -1, 2, -1, 7, 58, 13, 28, -1, -1, 31, -1, 2, 1, 2, 45, -1, -1, 4, 63, 41, -1, -1, 2, -1, 54, 82, 90, -1, -1, -1, 12, 41, -1, 7, -1, 2, 2, -1, -1, 82, -1, 2, 16, 0, 55, -1, 84, -1, 2, -1, -1, -1, 54, 2, 34, 59, 28, 16, 18, 3, 45, 12, 4, 4, 2, 28, 16, 58, 35, 12, 41, 3, 41, 31, 36, 16, -1, 95, -1, 3, 16, -1, 41, -1, -1, 39, 91, 2, 1, 28, -1, 2, -1, 3, 11, 38, 54, 81, 87, -1, 94, 46, 16, 38, -1, -1, 25, 2, 4, 36, -1, 5, 2, -1, 75, 84, -1, 75, 18, 16, 2, -1, 75, -1, -1, 2, -1, -1, -1, -1, 75, 53, 58, 16, 16, -1, -1, -1, -1, -1, 10, 10, -1, -1, 28, 74, 2, 33, 2, 87, 16, 16, 6, 37, 6, 12, 31, 55, 98, 3, 3, 58, 16, 19, 16, 66, -1, 1, 55, 12, 5, 18, 2, 5, -1, 28, -1, -1, 16, -1, -1, -1, 84, 80, 14, -1, -1, -1, 54, -1, 70, 2, 16, 36, -1, 40, 12, -1, 80, -1, 54, 10, -1, -1, 51, -1, -1, -1, 28, 34, 84, 82, -1, 28, 2, -1, 30, -1, 2, -1, 80, -1, 13, 40, 3, 28, -1, 12, 97, 83, -1, 2, -1, 12, 40, 2, -1, 28, 64, -1, -1, -1, -1, 28, 95, -1, -1, -1, 9, -1, 39, -1, -1, -1, 82, 9, 99, -1, 1, -1, -1, 58, 84, 9, 27, 60, 52, 52, -1, -1, 16, 3, 13, -1, 84, 75, -1, 28, -1, 13, -1, -1, 2, -1, -1, 28, 2, 7, -1, -1, -1, 7, 82, -1, -1, 7, -1, 9, -1, 61, 2, -1, -1, 37, 45, -1, -1, -1, -1, -1, 28, 5, -1, -1, 16, -1, 4, -1, -1, 22, -1, 4, 40, 40, 39, -1, -1, 10, 33, 37, 39, -1, -1, 13, 40, 83, -1, 40, 40, 40, 7, 30, 4, 13, -1, 41, 40, -1, -1, -1, 41, -1, 47, -1, 47, 13, 13, 59, 11, -1, 41, -1, -1, 28, 47, -1, 39, -1, 23, 10, -1, -1, -1, 28, -1, 39, 39, 41, 47, -1, -1, -1, 41, -1, -1, 1, 0, 95, 47, 16, 69, 30, -1, 81, 8, 87, -1, 9, -1, -1, 22, 59, -1, 59, 10, -1, -1, -1, 91, 77, 30, 4, 39, -1, -1, 79, 1, -1, 3, -1, 52, -1, 3, -1, 47, 1, 15, 3, -1, 94, 3, 3, 39, 30, 82, 28, -1, -1, -1, -1, -1, 66, 80, 7, -1, 91, -1, -1, -1, 59, -1, 91, -1, 91, -1, -1, 1, -1, 3, 91, -1, -1, 52, -1, 62, -1, -1, 55, -1, 3, -1, -1, 28, 1, -1, -1, -1, 51, 13, 80, 12, -1, 94, 21, 94, 59, 29, -1, 62, -1, 40, 40, 2, -1, 91, 40, 91, 41, 36, 13, -1, -1, 3, 3, 3, 51, 36, 51, -1, 21, -1, 51, -1, 13, -1, 52, 38, 91, 30, 59, -1, 80, 0, 92, 21, 40, -1, 1, 47, 11, -1, 36, 32, 10, 30, 30, 3, 92, -1, 55, -1, 1, 11, 71, 52, -1, 29, -1, 62, -1, 13, 12, 94, 22, -1, -1, -1, 20, 21, -1, -1, -1, -1, -1, 7, 31, 36, 51, 23, 51, -1, -1, 3, 36, 11, -1, 87, 94, 38, 13, 51, -1, 90, 22, 86, 87, 3, -1, 15, 36, 0, -1, -1, -1, 12, 62, -1, -1, -1, -1, 52, 25, 99, -1, 13, 0, 91, 3, 3, -1, -1, 1, 1, -1, 19, 40, 37, 19, 6, 0, 40, 51, 13, 13, 13, 11, 15, 28, 51, 51, 51, 2, 40, -1, -1, 62, -1, -1, 94, -1, 10, 40, -1, 18, 2, 3, 0, -1, 0, 1, 19, 0, 19, 11, 41, 93, 10, 4, 6, 36, -1, 36, -1, -1, 27, 25, -1, 87, 34, 0, 1, 19, -1, 94, 3, -1, 39, 1, -1, 19, 38, 40, -1, -1, 25, 25, 3, 41, 4, -1, 30, 25, 91, 91, 91, -1, 91, 51, 3, 51, 51, 40, 51, 51, 51, 51, 51, 1, 51, 51, 51, 10, 59, 55, 55, 91, 12, 30, 51, 51, 51, 51, 51, 47, -1, -1, -1, 3, 82, 47, -1, 47, 3, 82, 84, 64, -1, -1, 47, 91, 0, 11, -1, 51, 0, 4, -1, 3, -1, 39, 91, -1, 51, 1, 3, 3, -1, 51, -1, 30, 57, 80, 45, -1, 34, 80, -1, -1, 39, 41, 20, -1, 83, 34, 82, 25, 25, 82, 40, 82, 0, -1, 55, -1, 82, 40, 3, -1, 40, -1, 69, -1, 39, 39, 47, 3, 3, 36, -1, -1, -1, 20, 6, 17, -1, 69, 69, 3, 4, 1, 15, 9, 41, -1, 87, 36, 19, 9, 94, -1, 3, 28, 75, 0, 0, 72, 19, 40, -1, 3, 22, 44, 11, 19, 99, 9, 11, -1, -1, 65, 3, 3, 0, 11, 20, 13, 4, 1, -1, 23, -1, -1, -1, 18, 20, 91, 33, 20, -1, -1, 1, -1, -1, 30, 20, -1, 20, -1, -1, -1, -1, -1, -1, 20, 20, 11, -1, 25, 15, 43, 99, 52, -1, 4, -1, -1, 3, 80, 7, -1, -1, -1, -1, 18, 67, 36, -1, -1, -1, 99, 16, 45, -1, 44, -1, -1, -1, 7, 13, -1, 77, 3, -1, -1, 18, 3, 3, -1, 3, 3, 37, 19, 3, 51, 3, 87, 1, -1, 99, 99, 19, 23, -1, -1, 23, -1, 62, 29, -1, -1, -1, 90, 61, -1, 13, -1, 3, 3, -1, -1, 20, 25, 3, 4, 82, 0, -1, 29, -1, 21, -1, -1, -1, 91, 37, 39, 41, 41, 3, -1, 22, -1, -1, 3, 3, 47, -1, 41, -1, -1, -1, 3, 3, 3, -1, 95, 3, 3, -1, 22, 39, -1, 94, 0, 13, 52, 19, 19, -1, 63, 39, 81, -1, 10, 91, -1, 58, 3, 96, 57, 3, 3, 28, -1, 3, 6, 6, -1, 59, 3, -1, 67, 67, -1, 3, 59, 63, 10, 59, 28, 3, 3, 52, -1, 11, -1, 0, 51, 0, 67, 48, -1, 94, -1, 10, -1, -1, -1, 63, 10, 3, 99, -1, 1, 13, 0, 44, -1, -1, -1, 0, 0, -1, -1, -1, 3, 3, 1, 37, 45, 19, 1, 61, 3, 94, 39, 1, -1, 37, 38, -1, -1, -1, 21, 52, 2, 3, 3, 9, 22, -1, 3, 59, 15, 6, 12, 3, 71, 3, 91, -1, -1, 93, 51, 51, 15, 52, 71, 26, -1, -1, 71, -1, 3, -1, -1, 3, 71, -1, 3, 3, 1, 1, 47, -1, 44, 91, 67, -1, 3, -1, 0, 56, 59, 34, 12, 67, 22, 1, 93, -1, 53, 48, -1, 91, 0, 11, -1, -1, 87, -1, -1, -1, 48, 59, 74, 59, 67, -1, 18, 67, 25, -1, -1, 29, -1, 4, -1, -1, -1, 71, 80, 71, 71, 45, 51, -1, 19, 3, -1, 10, -1, 48, 67, 40, -1, 39, -1, 67, -1, 3, 94, 68, -1, -1, -1, -1, -1, 38, 39, -1, -1, 0, 39, -1, 64, 39, 3, 11, -1, 72, 55, -1, 24, 1, 71, 3, -1, -1, 39, 1, 3, -1, -1, -1, 45, -1, 91, -1, 21, -1, 16, 15, 40, 90, 15, 0, 0, -1, 36, 45, 0, 1, 95, 0, 0, 51, 7, 45, -1, 3, 48, -1, 23, 11, -1, 27, 59, -1, -1, 1, -1, -1, 36, 99, -1, 16, 62, 6, -1, -1, 3, -1, -1, 36, -1, 36, 3, 6, 3, 3, 93, 72, 11, 6, 67, 6, 6, 3, 67, 59, 93, 72, 32, 99, -1, -1, 72, -1, -1, -1, -1, 11, -1, -1, 36, 34, -1, -1, -1, 6, 34, 2, 55, -1, 6, -1, 34, -1, 99, 99, 19, 19, 4, 0, 3, -1, 3, 23, -1, -1, 7, 65, -1, 27, -1, 4, 0, -1, 16, -1, 65, -1, 65, -1, 65, -1, -1, 54, 79, -1, -1, -1, 4, 84, 30, 39, -1, 39, 6, -1, -1, -1, -1, 56, 15, 0, 4, 0, 19, 19, 1, 15, -1, 18, -1, 36, 15, -1, 7, 58, 19, -1, -1, 47, 94, 11, 11, 4, -1, 10, 23, -1, 36, 0, 19, 64, -1, 4, 41, -1, -1, 10, 1, 11, 81, -1, -1, -1, -1, 18, 38, -1, 19, -1, 3, 3, 36, 19, -1, -1, 44, 2, 90, -1, 87, 6, -1, -1, 51, 79, -1, -1, 40, 1, -1, -1, 10, 67, 59, 67, 6, -1, -1, 48, 16, 19, 37, 16, 1, 1, -1, -1, -1, 48, -1, -1, 4, 0, -1, 44, -1, 10, -1, 14, 16, 1, -1, 28, 28, 3, 45, 15, 19, 19, -1, 11, 59, -1, 14, -1, -1, -1, -1, 39, 1, 30, -1, 17, 17, -1, -1, -1, 99, 4, -1, -1, -1, 51, 51, 9, 13, 2, 81, -1, -1, 94, 0, 0, 19, -1, -1, 55, 11, 40, -1, -1, 12, -1, -1, 80, 26, 1, -1, 29, 35, -1, 35, -1, 27, 48, 15, -1, 58, 27, -1, 94, -1, -1, 82, 20, 23, 6, 62, 3, 3, -1, 0, 40, 22, 51, 10, 41, -1, 3, 0, 51, 39, 37, 3, 95, -1, 3, -1, 35, -1, -1, -1, 94, 12, 4, 44, -1, -1, 13, 38, -1, -1, -1, -1, -1, 67, 3, 88, 11, 39, -1, 3, 82, 82, 14, 6, 39, -1, 41, -1, -1, 3, 23, 10, 35, -1, 3, 0, -1, 18, -1, -1, 0, -1, 87, 1, 3, 41, -1, 35, -1, 13, 28, -1, 0, -1, -1, -1, 47, 1, 34, 31, 3, -1, 0, 19, -1, 79, -1, -1, 3, 3, -1, 48, -1, -1, -1, -1, -1, 59, -1, 13, -1, 12, -1, -1, -1, 24, 34, 13, 3, 3, 3, 3, 13, 1, 41, -1, 89, 48, 41, 0, -1, 33, 1, -1, -1, 41, 11, 11, -1, 15, -1, 15, 94, -1, 3, 3, -1, 26, 47, 1, 41, 13, 22, 47, -1, 12, 3, -1, 65, 3, -1, -1, -1, 20, 10, 3, -1, -1, 14, -1, 52, 94, -1, 3, 3, 13, 37, 61, 7, 19, -1, 59, 0, -1, 65, 84, -1, 75, 70, 3, 11, -1, 11, -1, -1, 7, 62, 6, 10, 6, 26, 63, -1, -1, 1, 93, -1, -1, 13, -1, -1, 0, 13, 4, 32, -1, -1, 47, -1, 1, -1, -1, -1, 22, 80, -1, -1, -1, 3, 9, 10, -1, 94, 7, 14, 36, -1, 37, -1, 27, 91, 5, 1, 75, 81, 3, 3, 15, 13, -1, -1, 18, 52, -1, -1, -1, -1, -1, 34, -1, -1, -1, 13, 82, -1, 1, 13, 4, 4, 25, 4, -1, 6, 6, 4, 4, 4, -1, 0, 1, 30, 98, 37, 69, 1, -1, 67, 0, 6, 6, 6, 3, 30, 94, 39, 10, 12, 45, 87, 3, 65, 88, -1, -1, 13, 11, -1, 11, 41, 13, -1, -1, 43, -1, 66, 39, 93, -1, -1, 10, 1, 3, 86, 47, -1, -1, 3, 37, 18, 11, -1, -1, -1, 62, 14, 12, -1, 12, -1, -1, 67, 7, 3, 10, -1, 94, -1, -1, -1, -1, -1, -1, 1, 36, 23, 19, 0, 10, 15, 0, 0, -1, -1, 80, 59, 15, 42, -1, 55, 45, -1, 4, 81, 37, 4, -1, 9, -1, 59, -1, -1, -1, -1, 16, -1, 3, -1, -1, -1, 15, -1, -1, 95, 51, 45, -1, -1, -1, -1, -1, 59, -1, 41, -1, 84, 87, -1, -1, -1, -1, 1, 11, 1, 79, -1, 43, 10, 6, 6, 1, -1, 10, 67, 10, 6, -1, -1, -1, 13, 65, 6, 6, -1, 89, -1, 59, -1, 94, 59, 6, 59, 6, -1, -1, 10, 43, 43, -1, -1, 9, -1, -1, 23, -1, -1, -1, -1, 43, 38, -1, -1, -1, -1, 80, -1, 61, -1, 22, -1, 65, -1, 40, 19, -1, -1, 47, -1, 18, -1, -1, 9, 16, -1, 59, 9, 1, 68, -1, -1, 29, 67, 7, -1, 21, 87, -1, -1, -1, -1, -1, 12, -1, -1, -1, 13, 9, 27, 39, -1, -1, 93, 28, 13, -1, 28, 25, 40, 75, 9, 61, 9, 18, 1, 94, 38, -1, 9, -1, 0, -1, -1, -1, -1, -1, -1, -1, 25, -1, 15, 67, 91, 91, -1, -1, -1, -1, -1, -1, 29, -1, -1, -1, -1, 45, -1, -1, 48, 29, -1, -1, 11, 87, 91, 91, -1, -1, 91, -1, 4, 70, -1, 91, 0, 4, 91, 22, -1, 70, 38, 13, 9, 13, 40, -1, -1, 9, 93, -1, -1, 42, 80, -1, 9, -1, -1, -1, 9, -1, 9, 74, -1, 80, -1, -1, 45, 30, 34, 24, -1, 43, 75, -1, 9, -1, -1, 67, 19, -1, 51, -1, -1, -1, -1, 51, 51, 43, 51, 9, 52, 9, 10, 10, 18, 9, -1, -1, 13, -1, -1, -1, -1, 9, -1, -1, 53, 44, 19, -1, 40, -1, -1, -1, 38, 38, 65, -1, 65, 6, -1, 79, -1, -1, -1, -1, -1, -1, -1, -1, -1, 0, 63, 3, 18, -1, -1, 6, 0, 87, 94, -1, -1, 22, -1, 9, 9, -1, -1, -1, 9, -1, -1, 29, 68, 4, 10, 3, 11, 0, 9, 94, 45, -1, 32, 30, 80, 55, -1, 76, 55, 9, 13, 1, 79, 3, 65, -1, 48, -1, 15, 59, -1, -1, 7, 29, -1, 10, -1, 4, 67, 10, -1, 9, 0, -1, -1, 63, 80, 9, 55, -1, 48, 9, -1, -1, -1, 40, 58, -1, 23, 80, -1, 91, 47, 19, 38, 80, 80, 65, -1, 80, 19, 80, 23, 13, 2, -1, -1, -1, 9, -1, -1, 9, -1, 55, 67, 33, 71, -1, -1, 9, 9, -1, 70, 47, 11, 91, 41, 65, -1, -1, 87, -1, 40, -1, -1, -1, 1, -1, -1, 72, 25, 44, 6, 13, 93, -1, -1, 91, 91, -1, -1, 15, 1, 38, 44, 0, 32, 9, 76, 53, 1, -1, 0, -1, -1, 11, 22, -1, 52, 13, 55, 9, -1, -1, -1, -1, -1, 55, 9, -1, -1, 41, -1, 13, -1, 59, 40, -1, -1, 44, 52, 55, 0, 23, 14, 4, 47, 44, -1, -1, -1, 16, -1, -1, -1, 76, -1, 23, -1, 20, 14, 4, 55, 30, 11, 25, 23, 13, 9, 23, 0, -1, 22, 1, 17, -1, -1, 6, -1, 6, -1, 6, 4, 0, 74, 6, 6, 6, 19, 6, 20, -1, 4, 65, 15, 6, 6, 6, 6, 0, -1, -1, 6, -1, 20, -1, -1, 24, 44, -1, -1, 22, 20, 6, 6, 6, 6, 19, 0, 6, -1, 54, -1, 20, 6, -1, -1, 91, 38, 47, -1, 7, -1, 10, 1, -1, 0, 1, -1, -1, 38, 38, -1, 65, 0, 0, 0, -1, 0, 47, 53, 0, -1, -1, 15, 99, 25, 45, 93, 23, 13, -1, -1, 7, 41, -1, 13, -1, 84, 69, 39, -1, 48, -1, 8, -1, -1, 35, 47, 11, 3, 51, 0, 0, 13, -1, 41, 55, 12, -1, 81, -1, 51, 10, -1, 69, 94, -1, -1, -1, 15, 13, 13, 13, -1, 13, 6, -1, -1, 13, 81, 81, 4, -1, 69, -1, 3, 10, 0, -1, 34, -1, 95, 1, 69, -1, -1, 19, 59, 0, 4, 0, 40, 33, 0, -1, 90, -1, 55, 1, -1, -1, 44, 83, -1, -1, 36, 9, -1, -1, -1, -1, 24, 15, 94, 63, -1, 63, -1, -1, -1, 0, -1, -1, 1, 63, -1, 25, 59, -1, 99, 38, -1, 13, 39, 41, -1, -1, -1, 67, 67, 12, 51, -1, -1, 10, 53, 55, -1, -1, 70, -1, -1, -1, 21, -1, 0, -1, 0, -1, 11, 4, 0, 84, 22, -1, 81, 0, 38, 24, -1, 22, -1, -1, 0, 3, -1, 27, -1, 4, 4, 4, 64, 0, 0, 0, 11, -1, -1, 11, 4, 13, -1, 41, 37, 30, 94, 23, 10, 3, 65, 27, 69, -1, 81, -1, 81, 8, -1, 29, 11, -1, -1, -1, 3, 70, -1, 4, 93, -1, 37, 12, 1, 29, 91, 0, -1, -1, 59, 7, 0, -1, -1, -1, 29, -1, 44, 38, 38, -1, 65, -1, -1, -1, -1, 10, 38, 6, -1, -1, -1, 93, -1, 15, -1, 13, 8, -1, -1, -1, -1, -1, -1, -1, 29, -1, -1, -1, 38, -1, 4, 1, 94, -1, 27, 0, 4, -1, 10, 19, -1, 1, 91, 67, 1, -1, -1, -1, -1, 10, 15, -1, -1, -1, 0, 10, 90, 28, 90, 4, -1, 4, 59, 14, -1, 73, -1, 10, 91, -1, 15, 51, 51, 3, 51, -1, -1, 65, -1, -1, -1, -1, 79, 0, 1, 1, -1, 12, -1, -1, -1, -1, -1, 6, 51, 43, 51, 51, 27, 0, 0, -1, -1, 47, 51, 51, 17, -1, 10, -1, 94, -1, 11, 7, 1, 11, 23, -1, 59, 19, -1, -1, 41, 0, -1, 19, 23, 64, -1, -1, 36, 25, 90, 0, 19, 65, 1, -1, 1, -1, 47, -1, 0, 1, 62, 11, 4, 4, 45, 1, 23, 47, 13, 22, 41, 11, 0, -1, 41, 0, 11, 11, 25, -1, 11, 38, -1, 19, -1, 34, 4, 16, 81, 81, -1, 12, 12, -1, 0, 41, -1, 0, 91, 11, 10, 41, -1, -1, 52, -1, 25, 41, 39, 79, 45, 18, 11, 22, -1, 19, 0, 62, 1, 7, -1, 47, 4, 4, 14, 15, 12, 3, -1, -1, 91, 4, 15, -1, 27, -1, 13, 43, -1, 21, 91, -1, -1, 13, 59, 19, 1, 11, 19, 23, -1, 10, 63, -1, -1, 11, -1, -1, 21, 43, -1, 2, -1, 21, 38, 16, 13, 93, -1, 4, 4, -1, -1, -1, -1, 81, 11, 1, 18, 47, 1, 0, -1, 19, 4, 67, 10, 11, -1, -1, -1, -1, 40, 3, -1, -1, -1, 45, 15, -1, -1, 18, 49, -1, 65, 65, 25, -1, 41, 62, 81, 41, 41, -1, 40, 25, 13, 22, 0, -1, 34, 34, 41, 34, 34, 0, -1, 91, 52, 4, -1, 1, 52, 0, 47, 14, -1, 37, 11, 0, 59, 23, 0, -1, -1, -1, 29, 44, -1, 22, 48, 7, 2, 7, 25, -1, 4, -1, 80, 39, -1, -1, -1, 0, -1, -1, -1, 7, -1, -1, -1, 11, -1, 15, 7, 21, 7, -1, 71, 65, 23, -1, 21, 94, 67, -1, 20, 84, 56, -1, 86, 59, -1, 62, 83, 86, 15, 11, 90, -1, 1, -1, -1, 30, 12, 19, -1, 1, -1, -1, -1, 30, -1, 4, -1, 44, 57, 12, -1, -1, -1, -1, 0, -1, -1, 11, -1, 93, 4, -1, 75, -1, 39, -1, 29, -1, 4, -1, 65, -1, 4, -1, -1, 51, 0, 0, -1, -1, 30, -1, -1, -1, 22, 94, 37, 48, -1, 53, 28, 1, -1, 51, 2, 7, 93, 51, -1, -1, 14, 51, 44, -1, 93, -1, -1, 44, 48, -1, 28, 65, -1, -1, -1, -1, -1, 44, 5, -1, 27, -1, 11, 81, 62, -1, 0, -1, -1, 7, -1, 59, 19, 27, -1, -1, -1, 26, 94, -1, 44, -1, -1, 15, 10, 1, 81, 15, 16, -1, 10, -1, -1, -1, -1, -1, 10, -1, 59, 12, 1, 27, -1, 59, -1, 19, -1, -1, 44, 37, -1, -1, 15, -1, -1, 65, 10, 76, 7, -1, -1, -1, 37, 65, 28, 1, 59, 47, 2, 0, 47, -1, 11, 11, 33, 78, -1, 13, 44, 9, 9, 2, 4, -1, -1, 97, -1, 91, 72, 0, -1, -1, -1, 7, -1, 65, 91, 67, -1, -1, 67, 93, -1, 7, 7, 59, 41, -1, 3, -1, 65, 0, 0, -1, 0, -1, 86, -1, 15, 59, 38, 75, 13, 22, 13, -1, 10, 10, 10, 40, 40, -1, -1, 10, 72, 0, -1, 22, 27, 0, -1, 31, -1, 15, 3, -1, 91, 64, 36, 3, 76, -1, 41, -1, 36, 40, -1, 1, 36, 36, 36, -1, 1, 83, 99, 41, 20, 55, 25, -1, -1, 44, 0, 15, 65, 19, 10, 11, 45, 0, 64, 36, 23, 0, 45, 22, -1, -1, 22, 4, -1, -1, 38, -1, 13, 47, 15, 0, 41, -1, 36, 11, 37, 0, -1, 15, 36, 22, 11, -1, 10, 72, 38, -1, 38, -1, 4, 37, 0, -1, 11, -1, 91, 0, 74, 52, 32, 44, 23, 4, 10, 52, 4, 21, 41, 39, 84, 41, 0, 0, 19, 19, 23, 20, -1, 4, -1, -1, 77, 10, -1, 18, 37, 87, -1, -1, 12, 94, 11, 3, 2, 65, 10, 10, 7, 20, 44, 59, -1, 22, 62, -1, -1, 39, 59, -1, -1, -1, -1, 4, -1, 87, -1, -1, -1, -1, -1, 93, 93, 16, -1, -1, -1, 81, -1, 0, -1, 45, -1, 59, 95, -1, 10, -1, 95, 6, 10, 21, 21, 99, 47, -1, 21, -1, 23, 43, 21, 87, -1, 21, -1, -1, -1, 99, 99, -1, 96, -1, 67, -1, -1, -1, 0, 0, 7, -1, 14, 0, -1, 0, 4, -1, -1, 4, 44, 53, -1, 33, 51, 15, -1, -1, 74, 0, -1, -1, 0, 0, 20, -1, 15, 1, -1, 12, 30, 19, 47, 4, -1, -1, -1, 27, 47, 59, 21, 67, -1, 11, 21, 40, 3, 3, -1, 52, 1, 47, 76, -1, 11, -1, 18, 68, 0, 11, 38, 1, -1, 22, 65, 0, -1, 0, 0, -1, -1, -1, 10, -1, 67, -1, 22, 47, 44, 91, 4, 9, 27, 58, -1, -1, 9, -1, -1, 65, 17, -1, -1, 58, -1, -1, 58, -1, 52, -1, -1, 10, -1, 1, -1, 65, -1, 45, -1, 19, -1, -1, -1, 0, -1, -1, -1, 1, 48, 15, -1, 7, 19, 0, 15, 0, 18, 19, 13, 0, 94, 44, 15, 0, 15, 11, 44, 0, 13, 22, 7, 59, 55, 0, 51, -1, 75, -1, 19, 89, 28, 93, 29, 61, 37, -1, 0, 11, -1, -1, -1, -1, 53, -1, -1, -1, 3, 53, 15, 15, 1, 29, -1, 45, 27, -1, -1, 13, -1, 38, -1, 23, 15, 25, 33, 51, 54, 34, 81, -1, 48, -1, -1, 56, 1, -1, 81, -1, -1, 11, 56, -1, -1, -1, -1, -1, 94, -1, 57, 51, 95, 19, -1, 55, 41, -1, 95, -1, 4, -1, 38, -1, -1, 20, 93, 39, -1, -1, -1, 62, 15, 30, 1, 31, 94, 40, -1, -1, 0, -1, -1, -1, 30, 15, -1, -1, 7, 3, -1, 48, -1, -1, 0, -1, -1, 10, 28, -1, -1, 4, 4, -1, -1, 41, -1, -1, 40, 74, 28, -1, 38, 16, -1, -1, 41, 38, -1, 11, -1, 24, -1, 21, -1, -1, 19, -1, -1, 25, -1, 13, -1, 21, 37, 55, -1, -1, -1, -1, 0, -1, 24, 21, -1, 1, 28, -1, 93, 56, 28, 19, -1, 95, 56, -1, -1, 28, 56, 56, -1, 95, 75, 30, -1, -1, 30, 11, 28, 1, 69, 48, -1, 44, 4, 19, -1, 93, -1, 4, 12, -1, 12, -1, 18, 23, 0, 28, 95, 48, 19, 59, -1, -1, 31, -1, -1, -1, -1, 38, -1, -1, 65, 11, -1, 37, 51, -1, 1, 51, -1, 21, -1, 2, 87, -1, -1, 63, 21, -1, -1, 21, 94, -1, 65, 72, 0, 65, 52, 13, 80, -1, -1, 76, -1, -1, 12, -1, -1, 65, 2, 80, 94, 1, 30, 12, 19, 4, 11, 23, -1, 95, 38, 4, 15, 33, -1, 99, 33, 4, 79, -1, 59, 91, -1, 10, 21, 2, -1, 91, 62, 0, -1, 37, 41, -1, 14, 17, 84, 76, -1, -1, 19, 14, -1, 19, 23, -1, 0, 11, 4, 15, -1, 2, 21, 43, -1, 1, 15, 1, 47, 6, 6, 96, 65, -1, 4, 45, -1, -1, -1, 4, 99, 68, -1, -1, 23, -1, 43, 0, 23, 4, 0, -1, 39, -1, 37, 59, -1, -1, -1, -1, 41, 34, -1, -1, 3, 38, 10, -1, -1, -1, -1, -1, 25, 80, 19, -1, 18, -1, 40, 51, 1, 7, 19, -1, 7, 62, 30, 37, 59, -1, -1, 30, 99, 59, -1, -1, 4, -1, 1, 39, 41, 21, 21, 21, -1, 12, 95, 10, 52, -1, -1, 95, -1, 59, -1, 25, 25, -1, 91, -1, 49, 69, 69, -1, -1, 65, -1, 59, 9, 38, 9, -1, -1, -1, 39, -1, -1, -1, 11, 0, -1, 99, 21, 81, -1, 99, 91, 1, 0, 12, 84, -1, 47, -1, 47, 12, 47, 72, 47, -1, -1, 63, -1, 47, 8, 38, -1, 44, 1, -1, 48, -1, 72, -1, 11, 38, 2, -1, -1, -1, -1, 60, -1, 3, -1, -1, -1, -1, -1, 53, 93, 65, 38, -1, 65, -1, 38, 51, 21, 2, 15, 69, 99, -1, 44, -1, -1, 38, 99, 11, -1, -1, 19, 19, -1, -1, -1, 18, -1, 37, 15, -1, 25, 10, 4, 10, 10, 13, 18, 2, 65, 15, -1, -1, 19, 19, -1, 91, 37, 4, -1, 2, -1, -1, -1, 15, 41, 64, 67, 29, 74, 64, 29, 91, 36, 91, -1, -1, -1, 0, 15, -1, 12, 36, 12, -1, -1, 91, 91, 1, -1, 51, 11, 40, 15, 45, 25, 38, 47, 19, 19, -1, 44, -1, 11, 81, 73, 11, 11, 7, -1, 3, -1, 69, 11, -1, 58, -1, -1, 7, 38, 15, -1, 69, -1, -1, 19, 29, -1, 15, -1, 76, 15, 9, 15, 47, -1, 41, 69, -1, 33, -1, -1, -1, 30, 25, -1, 4, 69, 28, 33, -1, 19, 63, 0, 91, 4, 19, 1, -1, -1, 76, 9, 2, 1, 39, -1, -1, -1, 19, -1, -1, -1, 59, 15, -1, 1, -1, -1, -1, 41, 91, -1, -1, 23, 1, -1, 1, -1, 54, 63, -1, 18, 11, 38, 39, 31, 18, 38, -1, 39, 13, 35, 51, 38, 30, 25, 2, 67, 2, 28, 19, 36, 0, 19, 23, 91, 0, 56, 7, -1, 93, -1, 56, 91, 0, -1, 81, -1, -1, -1, 7, 4, -1, -1, -1, -1, 94, 0, -1, 4, 0, 23, 38, 63, 81, 52, 2, 3, 25, 9, 76, -1, 19, 52, 4, -1, 1, 15, 0, 7, -1, -1, 47, 93, -1, 22, 59, -1, 59, 0, 33, -1, -1, 4, -1, -1, 36, 54, -1, 4, -1, -1, 0, -1, -1, -1, 0, -1, 0, 69, 75, 51, 76, 51, -1, -1, -1, 93, -1, -1, 7, 21, 13, 7, 20, -1, 12, 20, -1, 7, 19, 67, -1, -1, 0, 45, -1, -1, 51, 12, -1, 15, -1, 40, 25, -1, 64, -1, 63, 63, 48, 53, -1, 33, 59, -1, -1, 93, 83, 40, -1, 38, -1, -1, 93, 83, 40, -1, -1, 56, 77, -1, 38, 75, 93, -1, 4, 59, -1, -1, 93, 38, 67, 10, 38, -1, 0, 22, 12, -1, -1, 29, -1, -1, 0, -1, 38, -1, 28, 93, -1, 93, 87, 38, -1, -1, -1, -1, -1, -1, -1, 20, -1, -1, -1, 72, 38, -1, -1, 63, 38, 62, 40, -1, 7, 38, -1, 38, 41, -1, 38, -1, 13, 7, 15, 30, -1, 38, 4, -1, -1, 27, -1, -1, -1, 93, -1, -1, 20, 4, 59, -1, -1, 61, 36, 94, -1, 37, -1, 4, 25, -1, -1, 28, -1, 28, -1, -1, 20, -1, -1, 94, -1, 65, 61, -1, 0, 0, 36, -1, 20, 52, 19, 44, 63, 40, 5, -1, 0, 36, -1, 72, 93, 20, -1, 93, -1, -1, -1, 20, 20, 20, -1, 20, -1, 81, 39, 1, 4, -1, 65, 47, 51, -1, 51, 1, 48, 93, 51, -1, 25, 53, -1, 44, 51, 25, -1, 51, 15, -1, 51, 38, 51, 51, -1, 93, 36, 89, -1, -1, -1, -1, 4, -1, 36, -1, 14, 73, 13, 6, 20, -1, 36, 36, 36, -1, 4, 62, -1, -1, 9, 10, 4, -1, -1, -1, 57, -1, 4, 7, -1, -1, -1, 0, 19, 3, -1, 37, 25, 0, 0, 81, 37, -1, 18, 1, -1, 90, 45, -1, 90, -1, 7, 37, 59, 29, 90, -1, 0, -1, 0, 7, 37, 7, -1, 53, 90, 80, -1, 7, 34, 4, 62, 7, 14, 7, -1, 25, 41, 7, -1, -1, -1, 57, 69, 69, 6, -1, 4, -1, 7, -1, -1, 9, -1, -1, -1, 69, -1, 69, -1, 4, 20, 1, -1, -1, 48, 76, -1, -1, 48, -1, -1, 90, -1, 25, -1, -1, 47, -1, 3, -1, -1, -1, 41, 6, 52, 40, 23, 0, -1, -1, -1, 44, 0, 0, -1, -1, -1, 20, 25, -1, -1, -1, -1, 93, 4, 4, -1, 18, 13, -1, 91, 25, 24, -1, 37, 15, 40, 15, 0, -1, -1, 18, -1, 7, -1, -1, -1, 65, 18, 87, 7, 38, -1, -1, 7, -1, 7, 7, 0, 39, 15, -1, -1, -1, -1, 22, 22, -1, -1, 44, 0, -1, -1, -1, 7, 57, 95, 53, -1, 93, 56, 52, 37, -1, 7, 6, 13, 12, 93, 81, -1, -1, 25, 25, 30, -1, -1, -1, 7, -1, 7, 0, 11, -1, -1, 4, 59, -1, -1, 23, 9, 45, 18, 69, -1, -1, -1, -1, -1, 28, -1, 81, -1, 4, 25, 28, -1, 94, 25, -1, 20, -1, -1, -1, 94, 45, 9, 2, 45, -1, -1, -1, 63, 1, 45, 45, 0, 1, 28, 45, 25, 25, 45, -1, 93, -1, -1, 25, -1, -1, 45, 3, -1, -1, 44, -1, -1, 52, -1, 4, 59, 60, -1, 6, 20, 20, 33, -1, 69, 59, 72, 41, -1, 30, 3, -1, 45, 87, 40, -1, 69, 69, 69, 57, -1, 3, -1, 14, -1, -1, -1, 77, 7, 52, -1, -1, -1, 25, 25, 25, -1, -1, -1, 20, 77, -1, 65, 88, -1, 67, 25, -1, -1, 90, -1, 18, -1, -1, -1, -1, -1, 18, 44, 0, 33, 11, -1, 6, 7, -1, -1, -1, 20, 10, 37, -1, -1, -1, 4, -1, 62, 48, 4, -1, -1, 36, -1, -1, 32, 69, 69, -1, -1, 52, 7, -1, -1, 3, -1, 14, -1, 15, 51, 51, -1, 44, 40, 12, 88, -1, -1, 1, -1, -1, -1, 91, -1, 67, 53, -1, -1, 7, 53, 39, 14, 90, -1, -1, -1, 38, 59, -1, -1, 5, -1, 37, -1, -1, 93, 37, 7, -1, 51, -1, -1, 93, 38, -1, 51, 47, -1, 5, -1, -1, -1, 19, 6, -1, -1, -1, 51, -1, 0, 0, 23, -1, -1, 13, 38, -1, 7, -1, 23, -1, -1, 16, -1, 4, 32, 7, 57, 57, 57, 57, -1, 57, 57, 41, 57, 11, 57, 57, 57, 57, 57, 18, 4, 57, 91, 7, -1, 90, -1, 90, 0, -1, 0, 7, -1, 14, 1, 18, -1, 91, 7, -1, 91, 12, -1, -1, 2, -1, -1, 59, 36, -1, -1, -1, 1, 83, -1, -1, -1, 90, -1, -1, -1, -1, 59, 62, 14, 69, 81, 69, 81, -1, 81, 44, -1, 15, 0, 40, -1, -1, -1, 44, -1, 6, 77, -1, 39, -1, 20, -1, -1, 14, -1, 77, 39, 76, 3, 3, 19, 40, 4, -1, -1, 2, -1, 65, 65, -1, 25, 28, 80, 93, -1, 93, 93, 95, 94, 21, 48, 93, 10, 0, 0, -1, -1, 93, 4, -1, -1, -1, 87, -1, 47, -1, 67, -1, 33, 23, 4, 51, 51, -1, 61, 79, 79, 0, -1, 29, 36, -1, 16, -1, 9, 3, -1, 4, 25, 15, 63, -1, 17, 29, 59, 6, 2, 91, -1, 59, 38, 13, 93, -1, 69, -1, 36, 69, 69, 11, 69, -1, 25, -1, 57, 40, -1, 14, 13, 7, 0, 59, -1, 25, 69, -1, 69, 17, -1, 12, 25, 93, 51, 2, 40, 48, 51, 2, 69, 57, -1, -1, 65, 69, 36, -1, 77, 29, 40, -1, 51, 9, -1, 0, 25, -1, 91, 17, 9, -1, 47, -1, 17, -1, 11, 45, -1, -1, 38, 38, 15, -1, 59, 33, 91, 91, -1, -1, -1, 0, 91, 9, -1, 93, 91, 57, 57, -1, 22, 57, -1, 57, 57, 57, -1, 57, 57, 57, 7, 38, 57, -1, 57, 17, 17, 7, 65, -1, -1, 9, 17, -1, -1, 69, 7, 7, -1, 11, -1, -1, 17, 17, 6, 91, 20, 69, 49, 93, -1, -1, 91, 0, 11, -1, 7, 37, 93, 93, -1, -1, 91, 0, -1, -1, 59, -1, -1, 93, -1, 27, -1, 59, -1, 93, -1, -1, -1, 17, 17, 65, 17, -1, -1, -1, -1, 69, -1, 20, -1, 87, -1, -1, 41, 65, -1, 1, 45, 23, -1, 39, 3, 19, -1, 1, -1, -1, 1, -1, 70, -1, -1, 48, 15, -1, 0, -1, 11, 30, 67, 4, -1, -1, -1, 23, 67, -1, -1, -1, 15, -1, 11, 11, 0, -1, -1, -1, 9, 2, 68, 0, 37, 33, -1, 0, -1, 19, 0, 13, 0, -1, -1, 56, -1, 60, 56, 62, 68, 19, 0, 19, 65, 40, 1, 34, 15, 51, 15, 0, 84, -1, -1, -1, 7, -1, -1, 4, 18, 36, -1, 0, 88, 72, 6, 59, -1, 12, -1, 77, -1, 3, -1, -1, 0, 11, 18, 91, 57, 57, 57, 57, 57, 57, 57, 57, 57, 57, 57, 11, -1, 57, 57, 57, 11, 57, 7, -1, -1, -1, 10, -1, 14, 7, 83, 7, -1, -1, 42, -1, 7, 38, 7, 11, 10, -1, -1, -1, -1, 23, 80, 16, -1, -1, 65, 51, -1, -1, 7, -1, 16, -1, 65, 42, 42, 2, -1, 94, 11, 2, -1, 44, -1, 7, 90, -1, -1, -1, 90, -1, 15, 21, 53, -1, 2, 44, -1, 3, 0, 51, 44, 4, 51, 44, -1, -1, 94, 10, 42, 42, 42, -1, -1, 1, 38, 51, 7, 1, 51, -1, 80, 42, -1, 22, -1, -1, -1, 42, -1, 99, 23, 19, 0, 23, -1, 10, 42, 49, -1, 77, -1, -1, 37, 47, -1, 13, 76, 36, 44, 0, 44, -1, -1, 91, -1, 7, 56, 65, 56, 11, -1, 11, 1, 4, 79, 37, 36, 0, -1, -1, 65, -1, -1, 30, -1, -1, 42, 19, 0, 0, 0, -1, -1, 36, -1, 90, 7, 14, 14, 37, 0, 14, 0, 45, 16, 14, 14, 14, 0, -1, 14, 14, -1, 18, 14, 14, 14, 37, 14, 14, 14, 14, 14, 37, 7, 14, 14, 14, 23, 2, 4, 0, 59, -1, 15, -1, 41, 2, 76, -1, -1, -1, 16, 18, 47, 18, 57, 57, 57, 57, -1, 57, 57, -1, -1, 7, -1, -1, 53, 67, 13, 7, -1, -1, 7, 7, -1, 91, -1, 14, -1, 13, -1, -1, -1, 45, 62, -1, 4, 42, 42, 42, -1, 14, 11, 15, -1, 16, 30, 57, -1, 7, 4, 0, 19, 23, 4, -1, -1, 81, 41, 4, 13, 77, 77, -1, 75, 17, 17, 14, 14, -1, 75, -1, -1, 56, 42, 59, -1, -1, 30, 62, -1, 41, 15, 14, 62, -1, 7, 34, 34, 39, -1, 55, 2, -1, 3, 14, -1, 51, 13, 38, 11, 90, 7, 40, 6, 39, 3, 42, 72, -1, 92, -1, 14, 2, 42, 98, 38, -1, 41, 94, 32, -1, 7, 11, 11, 61, 9, -1, 50, 50, -1, 4, -1, -1, 37, -1, 16, 7, 9, 51, 9, 3, 64, 23, -1, 7, 0, -1, -1, 59, 0, 59, -1, -1, 77, 57, 57, 90, 57, 77, 77, 77, 57, 57, -1, -1, -1, 57, 6, 90, -1, 4, 57, 6, 57, 57, 6, 1, 1, 57, 57, 4, 67, 7, 7, 47, 2, -1, 2, -1, 2, 40, -1, 67, 42, 42, -1, -1, 38, -1, 38, 38, 19, 36, 22, 47, 39, 39, 94, 77, 38, 41, 38, -1, -1, -1, 22, 90, 30, 66, -1, 90, -1, 36, 90, -1, -1, 31, -1, 41, 25, 0, 38, 23, 34, -1, -1, 48, 29, -1, -1, 90, 65, -1, 65, 39, -1, -1, 36, -1, -1, 62, -1, 16, 65, 65, 54, 65, 16, 65, -1, 14, -1, -1, 53, -1, 51, 65, 65, 65, -1, -1, 65, 65, 48, 65, 65, 65, 65, -1, 65, 27, -1, 65, -1, 10, 65, -1, 65, 65, 48, -1, 51, 51, 0, 95, 57, 51, 65, 51, 51, 51, -1, 23, 0, -1, 23, 45, -1, 51, 6, 14, -1, -1, 25, 0, 19, 23, 4, -1, -1, -1, 66, 16, -1, 51, -1, 91, -1, -1, 7, 7, -1, 15, 10, 40, -1, 40, -1, -1, -1, -1, 51, 14, 51, 9, -1, 15, 23, 19, 51, 51, 15, 63, 40, -1, -1, 94, 2, 2, 2, 2, -1, 23, -1, 19, 4, 25, 3, -1, 44, 90, -1, 4, 19, 18, 81, 14, 40, 40, 40, -1, 14, -1, 57, 57, 57, 57, 57, 57, 57, -1, 18, -1, 57, -1, 63, 57, -1, -1, 57, 57, 28, 7, 1, 4, -1, -1, 59, 7, 7, -1, 38, -1, -1, 23, 33, -1, 62, -1, 38, 48, 65, -1, 1, 80, -1, 14, 40, -1, -1, -1, -1, 44, 44, -1, 25, 19, 13, 19, -1, -1, 93, 41, 41, 11, -1, 52, 77, 3, -1, 56, -1, -1, -1, 14, 34, 40, 37, 11, 7, -1, 7, -1, 28, 28, 28, 28, 28, 28, -1, 4, 37, 0, 47, 23, 4, 0, 81, -1, 91, -1, 0, 6, 14, 47, 26, -1, -1, 4, -1, -1, 62, 93, -1, 19, 38, -1, -1, 7, -1, -1, 15, 6, 23, 0, -1, 44, -1, -1, 19, -1, -1, 25, -1, 19, 63, 81, -1, 41, -1, 37, 41, -1, 4, 9, 76, 3, 94, -1, 49, -1, 0, 25, -1, 77, 70, 18, 11, -1, 3, -1, 87, -1, -1, -1, -1, -1, -1, 14, 29, -1, -1, -1, 35, -1, 0, 0, 56, -1, -1, 0, 39, 44, 65, 28, 29, 9, 9, -1, 65, -1, 56, -1, 7, 1, 0, -1, -1, 89, 0, -1, 52, -1, 19, 11, -1, 4, 0, -1, 93, -1, 7, 56, -1, 93, 6, -1, -1, -1, 65, 65, -1, 8, 93, -1, 76, -1, 29, -1, -1, 51, 84, 51, 1, -1, -1, 95, 14, 16, 7, 1, 65, 14, 57, 57, -1, 63, 63, 57, 57, 63, 57, 57, -1, 57, 57, 1, 63, 57, 63, -1, -1, -1, -1, -1, -1, -1, 29, 1, -1, 7, 81, 32, -1, -1, 32, 7, -1, 73, -1, 0, -1, 4, 68, -1, -1, 6, 14, -1, 14, 76, 14, 23, -1, 14, -1, -1, 6, -1, 14, -1, 37, 68, -1, 13, -1, -1, -1, -1, -1, -1, 14, 23, -1, 77, 65, -1, 0, 25, -1, 44, -1, -1, -1, -1, 19, -1, -1, 37, -1, 7, 23, 41, 41, -1, -1, -1, 22, 11, -1, -1, 14, 14, 23, -1, -1, -1, 81, 0, -1, 23, 61, 38, 38, 10, 0, 11, 0, 38, -1, 65, 18, -1, 10, 55, 25, -1, 37, 14, 37, 18, 77, 14, -1, -1, 11, 65, -1, 37, -1, 75, -1, -1, 10, -1, 12, -1, 57, -1, 37, 4, -1, 37, 63, 77, 63, 63, 63, -1, -1, -1, 63, -1, 37, -1, 99, 27, 63, 45, -1, -1, 62, -1, 15, 42, 41, 41, 14, 2, 23, -1, 39, -1, 77, 41, -1, 23, 4, 44, 81, -1, -1, -1, 10, -1, 77, 11, 14, 15, -1, -1, 10, 57, -1, 41, 0, 11, -1, 25, -1, -1, -1, 23, 22, -1, 11, 0, 67, -1, -1, -1, -1, 4, 25, 19, 81, 23, -1, -1, 77, 14, 30, -1, 7, -1, 38, 12, 33, 23, 14, -1, -1, 0, -1, 10, 30, 47, -1, -1, 41, 33, 34, -1, 0, -1, 30, 11, -1, -1, 47, 81, 77, 77, 77, 41, 19, 2, 1, -1, 57, 12, -1, 0, -1, 63, 95, 0, 57, 57, 6, 11, -1, 57, 57, 63, 57, 42, 27, 18, 57, 57, -1, 7, 7, 10, 7, 0, 14, -1, -1, -1, 6, 36, 25, 36, 59, 7, 67, -1, 0, -1, -1, 81, -1, -1, -1, 0, 38, 4, 0, 77, -1, -1, -1, 25, 4, 6, 57, -1, 91, 91, 30, 0, 0, 65, 11, 32, 95, 7, -1, 4, -1, 56, 81, -1, -1, -1, 4, 62, 80, 61, 62, 9, -1, 27, 14, 7, 4, 39, 1, 7, 32, 7, 7, 7, 25, 70, 70, 70, -1, 20, -1, 4, -1, 0, 18, 19, -1, 2, -1, 19, 81, -1, 13, 10, 80, 23, 62, 77, 14, 7, 7, -1, 13, -1, 4, 4, 0, 19, -1, 52, 44, -1, 44, 38, 4, -1, 44, 47, 47, 62, -1, -1, 65, 65, 29, 65, 7, -1, 38, 41, 52, 0, 28, 41, -1, 0, 0, 44, 23, 63, 4, 0, 11, 11, 38, 0, -1, 2, -1, -1, -1, 14, 30, 68, 51, 0, 1, -1, -1, 1, 4, 0, 62, -1, -1, 36, 7, -1, -1, -1, -1, -1, -1, -1, -1, 37, 25, 7, 18, 44, 4, 81, 81, 4, 0, 73, 0, 64, 7, 38, 14, 15, 11, 65, 53, -1, 7, -1, -1, 59, 41, -1, 27, -1, -1, -1, -1, -1, -1, 62, 7, 0, -1, -1, 90, 10, -1, -1, 51, 38, 11, -1, -1, -1, 72, -1, -1, 25, 62, 13, 41, 62, -1, 14, -1, 14, 14, 91, -1, -1, -1, 10, -1, 33, -1, 14, 14, -1, 41, 0, 0, 0, 0, 11, 64, 63, 2, 0, 4, -1, 0, 25, 14, 2, 51, 2, -1, -1, -1, 54, -1, 13, 14, 13, -1, -1, 0, 11, 0, 23, 4, 33, -1, -1, -1, -1, 28, 28, -1, -1, 23, 0, 11, 4, 4, 18, 6, 62, 11, 0, 4, 0, 10, 62, 4, 18, 38, -1, 81, -1, 13, 25, -1, 62, 62, 25, 0, 30, -1, 91, 36, -1, 0, -1, 1, 35, 35, 87, 44, 29, 11, 0, -1, 0, 4, 23, 81, 29, -1, 0, 18, 19, 0, 0, 40, -1, 35, -1, 14, -1, -1, -1, -1, -1, 62, 4, 1, 17, 41, 41, 2, 99, 10, -1, -1, -1, 23, -1, 50, -1, -1, 0, 36, -1, 0, 0, 0, 0, 0, 0, 7, 0, 6, 25, 7, 7, 13, 13, 0, 10, 0, 72, 93, 0, 54, -1, -1, -1, -1, 62, 15, 18, -1, 62, -1, -1, 20, 91, -1, 25, -1, -1, 0, -1, 25, 41, 1, 81, 38, 41, 0, 4, 0, 0, 41, 41, 1, 0, 0, 72, -1, 67, -1, 14, 2, 35, 20, -1, 39, -1, -1, 89, -1, -1, -1, 11, 89, -1, -1, -1, 0, -1, 0, 0, 0, 56, 84, 0, 0, 11, 93, 60, 59, -1, -1, 81, 98, -1, 34, -1, 14, -1, 81, 4, 4, -1, -1, 44, 49, 41, -1, 25, -1, 19, -1, 36, 39, -1, 18, 0, -1, 52, 4, 25, 47, 25, 0, 0, 41, 11, 39, 44, 44, 16, 13, 25, -1, 15, -1, 76, 55, 44, -1, 25, -1, -1, 23, 23, 81, 76, -1, 4, 62, 34, 4, 34, -1, -1, -1, 40, 25, 16, 4, -1, 4, 16, -1, 44, 23, 25, 0, -1, 0, 10, 81, 0, 4, 39, 25, 0, 11, 44, 37, 0, 4, 34, 41, 47, 1, 4, -1, -1, 87, 41, 41, 22, -1, 28, 0, 23, 10, 11, 3, -1, 44, 0, 62, -1, 87, 0, 4, -1, 0, 11, 4, 4, -1, 95, 76, -1, 49, 49, -1, 0, 33, -1, 23, 11, 81, 81, 81, 0, 0, -1, 41, 38, 72, 23, -1, 25, -1, 23, 81, 0, 0, 0, 0, 81, 0, 11, 39, -1, 4, 0, 4, 44, 0, -1, -1, 44, -1, 35, 23, -1, 23, 33, 23, 81, -1, 20, -1, 60, -1, 12, -1, 45, 4, 39, 41, 41, -1, -1, -1, 15, 30, 38, -1, -1, 18, -1, -1, -1, 5, 54, 3, 65, 20, 80, 4, -1, 10, 62, 10, 12, 80, 14, 29, 10, 14, 10, -1, 80, 59, -1, 23, -1, -1, -1, 25, 25, 0, 11, 23, -1, -1, 19, -1, 38, 4, -1, 81, 40, 41, 0, 87, 23, 39, 65, 65, 93, 65, 65, -1, 2, 23, 44, 0, -1, -1, 0, 54, 2, 60, 88, 11, -1, 34, -1, 62, 47, 11, 34, 0, 25, -1, -1, -1, 45, 23, -1, 4, 0, 44, 44, 0, -1, 0, 14, 49, -1, 0, 23, 4, 81, 13, -1, 10, 10, 27, -1, 81, 44, 0, 4, 0, -1, 41, 0, 0, -1, -1, 0, 63, 15, 16, -1, 1, 75, 11, 4, -1, 25, 81, 25, 0, -1, 3, 16, 55, -1, 81, 0, 20, 1, 5, 38, 25, 0, -1, 36, 38, 4, 10, 0, -1, 0, 25, 23, -1, -1, 34, 19, 33, 87, 14, 1, -1, -1, -1, 50, -1, 4, 41, 22, -1, 0, 93, 10, 44, 0, 18, 19, -1, 0, 0, -1, 35, 68, 62, 20, -1, 20, -1, 81, 18, 11, 0, -1, 38, 4, 33, -1, 0, 0, 0, 23, 34, -1, 4, -1, 11, 94, -1, 39, -1, -1, -1, 84, 84, 41, 0, -1, -1, 8, 2, -1, 2, 4, -1, 35, -1, 36, 52, 0, 4, 64, 19, 4, 44, 4, 18, -1, 20, 20, 19, 25, -1, 14, 0, 39, 45, -1, -1, -1, 34, 4, 0, 23, -1, -1, 4, 79, 79, 81, 4, 75, -1, 77, -1, -1, -1, 98, 4, 27, 1, 44, -1, -1, 20, -1, 38, 10, 12, 90, -1, 0, 52, -1, -1, 18, 15, 87, 41, 63, 31, -1, -1, 81, -1, 38, 12, 44, 27, 52, 0, 44, 4, 19, -1, 44, 23, 0, -1, -1, 13, 45, 65, 11, -1, 1, 41, -1, 44, 44, 55, -1, 11, -1, 4, 62, -1, -1, 10, 41, 50, -1, -1, 25, 0, 23, -1, 44, 18, 14, -1, 4, 0, 14, 25, 15, 52, 4, 44, -1, 37, -1, 40, 3, 47, 62, 15, 11, 2, -1, 12, 81, 14, 23, -1, 45, 33, -1, -1, 15, 11, -1, -1, -1, -1, 35, -1, 51, 81, 4, 25, 44, 10, 23, -1, -1, 80, 3, 82, -1, 40, 51, -1, 44, 38, 44, 44, 52, -1, 6, -1, -1, 30, -1, -1, 47, 33, -1, -1, -1, 0, -1, 52, 44, 4, -1, 11, -1, 0, 36, -1, 25, 23, 36, 12, 3, 2, -1, -1, -1, 62, 41, 41, 0, 40, 51, 0, 51, -1, 11, 4, -1, -1, 51, -1, -1, 51, 4, -1, -1, 29, 51, -1, -1, 7, -1, 57, 91, 45, 4, 54, 19, 38, 20, 0, -1, 51, 44, 0, 23, 23, 4, 0, 2, 3, -1, 9, 4, -1, 5, 53, 62, -1, -1, 34, -1, 13, -1, -1, 47, -1, 55, -1, 29, -1, -1, -1, -1, 0, 18, 41, 38, 57, 44, 81, 25, -1, 16, 44, -1, -1, 44, -1, -1, -1, 52, 23, 81, 4, 81, -1, 4, -1, -1, -1, -1, 52, 37, 4, 4, 4, 11, -1, -1, -1, 35, 28, -1, -1, -1, 99, 6, -1, 15, -1, 16, 63, 53, -1, 83, 47, 41, -1, 0, 41, -1, 79, 25, 52, -1, 81, 0, 25, 62, -1, 4, 0, 93, 0, 57, -1, 72, 72, -1, 72, -1, -1, 63, 29, 29, 29, 4, 18, -1, 30, 11, 88, 29, 29, -1, -1, 20, -1, -1, -1, -1, 63, 63, 16, -1, 7, 29, 29, 29, 36, 6, 19, 19, -1, 11, 19, 19, 63, 19, 95, -1, -1, 4, 30, 4, 4, 0, 2, 11, -1, 29, 55, -1, 84, 5, 35, 25, 62, 29, -1, 28, 4, 15, 2, 2, 20, 29, 2, 25, 25, 0, -1, 40, 4, 0, 55, 9, -1, -1, 14, 18, 40, 9, 54, 58, -1, 45, -1, 62, 54, 28, 80, 62, 29, 6, -1, -1, 21, -1, 93, -1, -1, 25, 25, 59, 28, 19, 94, 19, 23, 19, 0, 44, 0, 45, -1, 55, 4, 9, 47, -1, 62, 41, 20, 20, -1, 34, -1, 0, 19, 0, 11, 4, 0, -1, 44, 23, 0, 81, 0, 0, -1, 0, 44, 19, 14, 25, 0, 0, 81, 0, 0, 0, -1, 0, 4, -1, -1, 4, 38, 19, 81, 19, 0, 38, 0, 0, -1, 13, 66, 20, 38, 0, 0, 0, 23, 23, 64, 0, 25, 27, 44, 23, 44, 0, 44, -1, 0, 72, 19, 0, 41, -1, -1, 10, -1, 41, 62, 99, 23, 19, 19, -1, -1, 98, 2, 0, -1, 6, -1, 52, 0, 4, 4, 52, 0, -1, 45, 45, -1, 45, 20, 52, 27, 44, 45, 11, 0, 6, 0, -1, 63, 47, 18, 4, 93, 10, -1, 52, 47, -1, -1, 0, 0, 14, 18, -1, -1, 14, -1, 44, 33, 18, 44, 41, 0, 13, 19, 25, 4, -1, 99, 44, 99, 94, 0, 23, 4, 19, 19, 0, 45, -1, -1, 4, 37, 15, 15, 45, 11, 4, 44, 0, 44, 11, 23, 34, 2, 0, 44, -1, 23, 0, -1, 98, -1, -1, 47, 47, -1, 16, 23, 33, 19, -1, -1, 4, 62, 39, 87, 47, -1, 52, 41, 4, -1, 63, 52, 44, 19, 44, 44, -1, -1, 30, 23, -1, -1, 28, 52, 44, 81, -1, 80, 23, 27, 0, 4, 10, 1, -1, -1, 28, -1, 28, 18, -1, 0, 0, -1, 0, 4, 33, -1, 57, -1, 4, 22, -1, -1, 93, 44, 4, -1, 66, -1, 4, 44, -1, 6, -1, 35, 81, 37, -1, 1, 20, -1, 54, 27, -1, 3, -1, -1, -1, 83, -1, -1, -1, -1, 16, -1, -1, -1, 29, 35, -1, -1, 12, 34, 67, -1, 48, 4, -1, -1, 41, 41, 10, 40, -1, -1, 40, -1, -1, 37, 10, 7, 57, -1, 18, -1, 93, -1, -1, 7, 11, -1, 74, 41, -1, -1, -1, 1, 28, 13, -1, 22, -1, -1, -1, 10, 48, -1, 7, 81, 45, -1, -1, 33, -1, -1, 47, 79, -1, -1, -1, -1, 67, -1, 87, -1, -1, -1, 29, -1, 77, 27, 60, -1, -1, 26, 47, -1, 14, -1, -1, 12, 29, -1, -1, 1, 63, 47, -1, 48, 27, -1, 14, 47, 47, -1, -1, 47, 47, 47, 15, 47, 47, -1, -1, -1, -1, 14, 77, 27, 47, 47, 47, -1, 47, -1, 47, 47, 48, -1, 48, 67, 47, -1, 94, 1, -1, -1, 53, -1, 40, -1, -1, 48, 48, 48, -1, -1, -1, -1, -1, -1, 47, -1, -1, 77, -1, 40, 7, -1, 7, 93, 62, 22, -1, -1, 7, -1, -1, 67, 74, 65, 15, 40, 41, 29, -1, 34, 34, 39, -1, 77, -1, 1, 1, 39, -1, 39, -1, -1, 59, -1, 62, -1, -1, -1, -1, -1, 15, -1, -1, 57, -1, 10, -1, 45, 10, -1, -1, 7, 41, 48, -1, 48, 67, 4, -1, 83, -1, 55, -1, -1, 41, 66, -1, -1, -1, -1, -1, 76, -1, 23, 44, -1, 20, 20, -1, -1, -1, -1, -1, 1, -1, -1, -1, 16, 62, -1, -1, 16, 47, 14, 51, 37, -1, 48, -1, 1, 67, 8, -1, 20, 2, 27, -1, -1, 20, 15, -1, 15, 1, -1, -1, -1, 25, 83, 1, -1, 76, 71, 10, -1, -1, 14, 63, 30, 41, -1, 27, -1, -1, 27, -1, 27, -1, 3, -1, 1, 72, -1, -1, -1, 7, 14, -1, -1, 11, 67, 83, 48, -1, -1, -1, 23, -1, 29, 0, -1, -1, 63, -1, -1, -1, -1, 87, 63, -1, -1, 1, -1, -1, 77, 1, 12, -1, 25, -1, -1, 1, -1, -1, -1, 59, -1, 64, 2, -1, -1, -1, -1, -1, -1, -1, -1, 48, -1, 29, -1, -1, 9, 27, 37, -1, -1, -1, 9, -1, 4, 2, -1, 18, -1, -1, 41, -1, -1, 41, 3, 14, -1, -1, -1, 39, 39, 39, 15, 1, 7, -1, 7, -1, -1, 1, 9, -1, 27, 34, 34, 34, -1, 3, 14, 14, -1, -1, 48, 27, -1, -1, 74, 37, -1, 29, 59, 14, 87, -1, 74, 27, 77, 84, -1, 23, -1, 67, 31, 10, -1, 87, -1, 22, 27, 62, -1, -1, 15, 1, 66, -1, -1, -1, -1, 27, 3, -1, -1, 38, 38, 13, -1, 74, 3, -1, -1, 3, 3, 20, -1, -1, -1, 15, 38, 77, 25, 7, -1, 45, -1, 77, 10, -1, -1, 30, 95, -1, 13, -1, -1, -1, -1, 95, 4, 10, 27, 95, 10, -1, 30, 30, -1, 82, 25, -1, -1, 7, 1, -1, 1, -1, 68, 1, 36, 87, -1, 62, 48, -1, -1, -1, 90, 39, 77, 77, 77, 27, -1, 7, 7, 7, 62, 14, 30, -1, 77, -1, -1, 91, 29, 67, 91, 77, 39, 39, -1, 38, 25, 3, 14, -1, -1, -1, 27, -1, 20, -1, -1, 63, 7, -1, 22, -1, 63, 28, 9, -1, 1, 68, 7, -1, -1, -1, 30, 7, 87, 67, -1, 29, -1, 67, -1, 48, 31, 27, -1, 27, 10, -1, -1, -1, -1, 95, 7, 7, -1, -1, -1, 16, -1, -1, -1, 7, 27, 27, 7, 22, -1, -1, -1, 77, 91, 15, -1, 10, -1, -1, -1, -1, -1, 47, 77, 77, 27, 48, 76, 32, 28, 14, 14, -1, 39, 30, -1, 36, -1, -1, 67, -1, -1, 90, 38, -1, 7, -1, 7, -1, -1, -1, 93, 83, -1, -1, 32, 77, 3, 13, 1, -1, -1, 62, -1, 41, -1, -1, 95, 32, 95, -1, 80, 14, -1, -1, -1, 29, -1, -1, 29, 27, 15, -1, -1, 87, -1, -1, 1, -1, 1, -1, -1, -1, 31, -1, 48, 29, 84, 27, -1, 62, -1, -1, 84, -1, 0, 40, 29, 48, -1, 83, -1, 67, 56, -1, -1, -1, -1, -1, 51, -1, -1, 38, 47, -1, 47, 39, 27, -1, 19, -1, -1, 27, -1, 10, 47, 63, -1, 29, 87, 23, -1, -1, -1, 15, -1, 48, 74, 67, 53, 48, 87, 38, 63, 38, 1, -1, 1, 1, 13, 1, -1, 13, 13, 2, 43, 20, 13, 27, 80, -1, -1, 82, 9, -1, 76, -1, -1, -1, 98, 98, 47, 7, 98, 62, -1, 59, -1, -1, -1, -1, -1, -1, 87, -1, -1, 48, -1, -1, -1, -1, -1, -1, -1, -1, 10, 30, -1, 23, 48, -1, -1, -1, -1, 22, -1, 25, 10, -1, -1, 29, -1, 38, 1, 53, -1, 91, 13, 13, -1, -1, -1, -1, -1, 10, -1, -1, 27, -1, -1, -1, 15, 29, 4, 48, 7, 15, 15, 68, 1, -1, -1, 1, 11, -1, -1, 39, 41, -1, -1, 1, 1, 76, -1, 93, 1, 34, 15, 15, -1, -1, -1, -1, -1, 3, 3, 12, 38, 57, 40, 0, -1, 80, -1, 91, 83, -1, 12, -1, -1, 40, 39, 25, 3, 63, -1, 3, 76, 41, 3, 1, 37, 45, 3, -1, 0, 2, 64, 3, 76, -1, -1, -1, 67, 67, 87, 10, -1, -1, -1, 10, 40, -1, 12, -1, -1, 3, 0, 14, -1, 15, 44, -1, 15, -1, -1, -1, 14, -1, 39, 39, 39, -1, 86, 86, 68, -1, 1, 14, -1, -1, 4, -1, 3, 33, -1, 61, -1, 52, 3, 14, 61, 7, -1, -1, 0, 61, 11, 29, 64, 17, 47, 41, 1, 27, 1, 1, 1, 1, -1, 1, 53, 27, 11, 27, 27, -1, -1, 8, -1, 39, -1, 53, -1, 0, -1, 94, 63, 31, 18, -1, -1, 1, 27, 42, -1, 48, 87, -1, 1, 27, -1, -1, -1, -1, -1, 1, -1, 66, -1, -1, 27, -1, -1, -1, -1, -1, -1, 9, -1, 22, -1, 9, 9, 9, 15, -1, 1, -1, 4, -1, 38, 38, -1, 91, 27, -1, 4, 89, -1, -1, -1, 87, 23, 30, 4, -1, -1, -1, -1, -1, 11, 11, -1, -1, 72, 95, -1, 48, 16, 53, -1, 63, 67, -1, -1, 23, -1, 53, 3, -1, -1, -1, -1, 19, 52, -1, 81, 52, -1, 5, 13, 3, -1, 3, 66, -1, 37, 27, 54, 67, 48, 27, -1, -1, 29, -1, 67, -1, -1, 53, 67, 76, 5, 88, 3, -1, 1, 5, -1, -1, 11, 23, 20, 37, 33, 77, -1, -1, 80, -1, -1, -1, 32, 27, 77, 7, 77, -1, 74, 22, 37, 55, -1, -1, -1, 7, 29, 7, -1, 77, 7, 48, 7, -1, -1, 83, 62, -1, 7, 76, -1, 74, -1, 47, 62, 68, 62, 7, 15, -1, -1, -1, -1, -1, 64, 22, -1, -1, -1, 55, 55, -1, 91, -1, -1, -1, 87, -1, 62, 90, -1, 39, -1, -1, -1, 10, -1, -1, -1, 1, -1, 76, -1, -1, 48, 27, 80, -1, -1, -1, -1, -1, -1, -1, -1, -1, -1, 15, -1, 15, -1, -1, -1, -1, -1, 30, 59, -1, -1, -1, 0, -1, 99, -1, 8, -1, -1, -1, 48, 29, 27, 27, 74, -1, -1, 64, 9, -1, 80, 63, -1, 64, -1, -1, 64, -1, 17, -1, 43, -1, 52, 22, 1, -1, -1, -1, 94, 47, 58, 11, -1, -1, 1, 3, 76, 0, -1, 15, 9, 91, 29, -1, -1, 9, -1, -1, 63, 59, 15, -1, -1, 1, 39, -1, 17, 80, -1, 17, -1, 17, 16, 1, 1, -1, 40, -1, -1, -1, -1, -1, -1, -1, 27, -1, -1, 67, -1, -1, 21, -1, 52, 16, 21, 21, -1, -1, -1, -1, 10, -1, 17, 14, 41, -1, 3, 17, -1, 17, 55, -1, 1, 3, 93, 37, -1, 41, 30, 1, 1, 79, -1, 72, -1, -1, 61, 44, 10, -1, -1, 81, 10, 10, 44, -1, 56, -1, -1, 0, -1, 48, -1, 67, 17, -1, 48, -1, 26, 54, -1, 12, 17, 10, -1, -1, -1, -1, 17, -1, -1, 76, 50, -1, 17, 53, 62, 48, -1, -1, 97, 17, 15, -1, 17, 17, 17, 17, 3, 12, 15, 47, -1, 18, 80, -1, 37, 53, -1, 10, -1, -1, -1, 18, 18, 34, 17, -1, -1, 76, 17, -1, 6, 22, 14, -1, 36, -1, 13, -1, -1, 9, 17, -1, 67, 48, -1, 17, -1, 9, 34, 17, 17, -1, -1, 53, -1, 20, 62, -1, -1, -1, -1, -1, -1, 10, 12, -1, 27, -1, 1, 67, -1, 64, 63, 27, 68, -1, 1, 55, 24, -1, -1, 80, -1, -1, -1, 80, -1, -1, 27, 17, -1, 17, 17, 17, -1, -1, -1, -1, 53, -1, -1, -1, -1, -1, -1, -1, 13, -1, 17, 17, -1, 17, 14, 76, 17, 18, -1, 6, -1, -1, 36, 81, 59, 44, 48, 67, 47, -1, -1, 7, 83, 11, 17, 68, -1, 17, -1, 10, 10, 17, -1, -1, -1, 72, -1, 16, -1, 17, -1, 29, -1, -1, 17, 17, 65, 27, 10, 33, 63, 60, 63, -1, -1, 17, 17, 38, 94, -1, -1, 28, -1, 9, -1, -1, -1, -1, 27, 17, 17, 20, -1, -1, 27, 76, 28, 76, -1, -1, 22, 27, -1, -1, -1, 18, -1, 2, -1, 28, 1, 40, -1, -1, -1, 1, -1, 2, 25, 21, -1, 9, 26, 28, 28, 2, 27, -1, 29, -1, -1, 17, -1, 0, 26, 0, -1, -1, 67, 17, 17, 17, 17, 1, 16, 9, -1, -1, 17, -1, -1, -1, 1, 67, -1, 48, 48, 67, 27, 54, -1, -1, 67, -1, 1, 63, -1, -1, -1, 39, -1, -1, 94, -1, 27, 3, -1, -1, 1, -1, 25, 26, 3, -1, 26, 28, 10, 51, 17, -1, 6, 6, 20, 3, 14, 17, 17, 17, 85, 41, 17, 17, 9, -1, -1, 2, -1, 17, 17, 17, -1, -1, -1, 51, 17, 17, -1, 17, 2, 67, 80, -1, -1, 48, 27, 63, -1, 1, -1, 48, 27, 17, 17, 17, 53, 48, 15, 27, 9, -1, 2, 90, -1, -1, 39, -1, 17, 41, 9, 3, -1, 15, 1, -1, 16, -1, -1, 80, -1, -1, 1, 80, -1, -1, -1, 14, -1, 0, -1, -1, -1, 48, 29, 29, 10, 67, -1, -1, 17, 4, 81, 81, -1, -1, 66, 11, 14, 55, 17, -1, 22, 26, 1, 1, 0, 26, 80, 26, 26, 27, -1, 67, 17, 17, -1, 17, 17, -1, 17, 17, -1, -1, 27, -1, -1, -1, -1, 29, 13, -1, -1, -1, -1, -1, 17, 25, -1, 15, 17, 17, 17, 30, 30, 17, 39, 33, 7, -1, 53, -1, 1, 9, -1, -1, -1, 51, -1, -1, 17, 27, 9, -1, -1, 59, -1, -1, 19, -1, 53, 17, 27, -1, -1, 19, 17, 51, 48, -1, 48, 17, 17, 10, 17, 80, -1, -1, 55, 9, -1, 41, 0, 89, -1, -1, -1, 1, -1, 1, 76, 9, 3, 3, 76, -1, -1, 37, 38, 4, -1, -1, -1, -1, 37, 91, 11, -1, -1, -1, -1, -1, 13, 51, -1, 0, -1, 93, -1, 52, 40, -1, 87, 14, 48, 1, -1, 91, 17, -1, 64, 1, 38, 1, -1, 1, 1, 10, 59, -1, 15, 12, 91, -1, -1, 4, -1, -1, -1, -1, 38, -1, 33, 48, 29, 25, -1, -1, -1, 1, -1, 15, 15, -1, 15, -1, 67, 94, 48, 23, 48, 48, -1, -1, 48, 59, -1, 7, 48, 80, 79, 94, 1, 3, 55, 1, -1, 15, -1, 48, -1, 41, 4, -1, -1, 9, 29, -1, 9, 9, -1, 12, -1, -1, 33, -1, -1, -1, 63, 0, 4, 67, 93, 0, 53, 15, 13, 41, -1, 26, 26, 24, -1, 9, 17, 1, 26, -1, 91, 64, -1, 13, 9, -1, 10, 1, 37, 51, 15, 94, -1, 80, -1, -1, -1, -1, -1, 47, 10, 1, 4, 15, 99, 14, -1, 14, -1, 9, 9, -1, -1, 1, 64, 40, 25, 26, 25, -1, 26, -1, -1, 44, 44, 87, -1, 16, -1, 25, -1, 26, -1, -1, -1, 10, 26, 26, 25, -1, 16, -1, -1, 4, 38, -1, 26, 26, 26, -1, 70, 26, 2, -1, 26, 16, -1, 44, 26, -1, 17, -1, -1, -1, -1, -1, -1, 14, 29, 17, 39, 41, 41, 12, 17, 12, 12, 41, -1, 5, 9, 91, 99, -1, 23, 48, 0, -1, 67, 48, 67, -1, -1, -1, -1, -1, 12, -1, 52, 41, -1, -1, 21, -1, 27, 9, 48, -1, 38, 48, -1, -1, -1, -1, 27, -1, 3, 76, 1, -1, 16, -1, 15, -1, 48, 16, -1, 11, 12, 20, -1, 9, 56, 63, 66, 13, -1, 28, 55, 34, -1, -1, 55, 44, 25, -1, -1, -1, -1, -1, 55, -1, 47, 4, -1, 14, 1, 58, 12, 48, -1, -1, 27, 44, 87, 51, 40, -1, 9, 3, 90, 1, 99, 19, -1, 7, 91, 90, -1, 59, -1, -1, -1, 75, 7, 76, -1, 7, -1, 18, 7, 27, 16, -1, -1, 18, 14, -1, -1, 0, -1, -1, 18, 7, 18, -1, -1, -1, -1, -1, -1, -1, -1, -1, -1, 41, 94, -1, -1, 12, 27, 12, -1, 0, -1, -1, -1, -1, -1, 1, -1, 12, 24, 80, 17, 17, 1, -1, -1, -1, 3, 2, 64, 23, 1, 63, 12, 15, 7, 15, -1, 18, 13, 35, 9, 2, -1, 1, -1, 38, -1, 62, -1, 22, 15, 39, 39, 39, -1, 39, -1, 7, -1, -1, 33, 83, -1, 1, -1, 17, 4, 63, -1, 17, -1, 14, 39, 41, -1, -1, -1, 14, 16, -1, -1, 65, 7, -1, 1, -1, 77, 14, -1, -1, -1, 4, -1, -1, 23, -1, -1, 59, 1, -1, 62, 48, 4, 9, 48, 1, 44, 48, -1, 41, -1, -1, -1, -1, 64, -1, 67, 55, 55, -1, -1, 12, 4, 18, 13, 60, -1, 76, -1, -1, 74, 48, -1, -1, -1, -1, 99, 65, 18, -1, 38, 28, -1, 18, -1, 39, -1, 53, -1, -1, -1, 90, -1, -1, 76, 62, -1, 0, 1, -1, -1, -1, 1, 50, 26, 3, 39, 11, -1, 62, 62, -1, 62, 27, -1, 62, 62, 62, 62, 72, 62, -1, 66, -1, 45, -1, -1, 62, 62, 44, -1, 62, 87, -1, 20, 8, 98, -1, -1, -1, 98, 60, 48, 93, -1, -1, 66, -1, -1, 52, 14, 40, -1, -1, 99, 15, 1, 63, 15, 1, -1, -1, 1, -1, -1, 15, 91, -1, 30, 1, 1, 1, -1, 63, -1, 91, -1, 48, 13, 81, 1, 1, -1, -1, 14, 9, -1, 9, 48, -1, 29, 27, 63, 81, 34, 34, 34, -1, -1, 80, -1, 15, -1, 1, 1, 1, -1, 41, -1, 15, 11, 11, 15, -1, 1, 27, 1, 12, -1, 63, 1, -1, 4, -1, 83, 1, 38, -1, 41, -1, -1, -1, -1, -1, -1, 58, 63, -1, 1, -1, 25, 41, 63, 52, 23, -1, -1, -1, 68, -1, 1, -1, -1, 63, 74, 0, 11, -1, -1, 38, 65, -1, 59, 31, 52, -1, -1, 13, -1, 20, -1, -1, 80, -1, -1, 38, 7, 32, 40, 91, 17, 17, 59, -1, 27, 15, -1, 6, 79, -1, -1, -1, -1, 87, 10, 3, 11, -1, -1, 27, -1, 11, -1, -1, 94, 39, 0, -1, 1, -1, 39, 39, -1, 93, 25, 4, 41, 27, 0, -1, -1, 45, -1, -1, 46, 47, 41, 17, -1, 91, 17, 17, 17, -1, 1, -1, 27, -1, 17, 17, 17, 41, 41, -1, -1, 1, 9, 9, -1, 74, 93, -1, -1, 17, 44, -1, -1, 59, 17, 17, 48, -1, 44, -1, 17, 4, 52, 3, -1, 9, 17, 51, 51, 13, -1, -1, -1, 0, 17, -1, -1, -1, -1, -1, 17, 91, -1, -1, 0, -1, -1, 84, -1, -1, -1, 45, 12, -1, 1, 61, -1, 91, 4, -1, 29, 91, -1, 91, 48, -1, 53, 10, 41, -1, 39, -1, -1, 12, 9, 51, 51, 1, -1, -1, 1, -1, 1, 0, 1, -1, 94, 37, -1, 61, 35, -1, 45, 75, 76, 15, -1, -1, -1, -1, 22, 63, -1, 15, 1, 1, 15, 37, 11, -1, -1, -1, 15, 15, 80, -1, -1, -1, -1, 56, -1, -1, -1, 89, 40, -1, -1, -1, -1, -1, 1, -1, 37, -1, 15, -1, 29, 13, -1, -1, 7, 15, 91, -1, 94, 1, 1, 1, -1, 15, -1, -1, 27, -1, -1, 22, 52, -1, 1, 9, -1, -1, -1, 76, 45, -1, -1, 1, 41, -1, -1, -1, -1, 12, 0, -1, -1, 17, 50, -1, 12, -1, 17, -1, 15, 25, 58, 37, 4, 25, -1, 58, -1, 0, -1, 3, -1, -1, 41, 37, 80, 43, -1, -1, 43, 62, 45, 80, -1, 94, -1, 91, -1, 1, -1, -1, -1, -1, 0, 1, 10, 4, -1, 80, 67, -1, 52, -1, 15, 94, 1, -1, -1, 81, -1, 7, 52, -1, -1, -1, -1, -1, 1, -1, 63, 58, -1, 1, 52, 3, 10, 76, 76, 53, -1, -1, -1, 41, 27, 48, 29, -1, -1, 27, -1, -1, -1, 1, 11, 4, -1, 1, -1, 26, 26, 12, 40, -1, -1, 11, 15, 15, -1, -1, -1, 29, 81, -1, 12, -1, -1, 80, 21, 21, 25, -1, 44, 40, 40, 40, 40, 15, -1, 70, 40, 12, -1, -1, -1, 63, 48, -1, 48, 27, 42, 7, 48, -1, -1, -1, 4, -1, -1, -1, 12, -1, -1, 25, -1, -1, -1, -1, 1, 1, 56, 56, 56, 1, 15, -1, -1, 81, 95, 15, 95, 1, 95, -1, 45, 56, 11, -1, 94, 63, 1, 56, 56, 95, 64, 74, 1, 41, 64, 16, -1, 56, 1, 51, -1, -1, 69, -1, 80, -1, -1, -1, 29, -1, -1, 67, -1, -1, 56, 81, -1, 81, 48, 38, 15, -1, -1, -1, -1, -1, -1, 15, -1, 11, 45, 0, -1, 45, -1, 56, -1, 90, -1, 86, -1, -1, -1, -1, 53, -1, -1, -1, 1, 1, 39, 1, 15, 91, -1, 63, -1, 24, -1, -1, 3, -1, -1, 90, 93, 41, -1, 3, 3, 28, -1, 1, 22, 33, -1, 15, 15, 1, -1, -1, 15, 48, -1, 34, -1, 9, -1, 9, -1, -1, -1, 5, -1, -1, -1, 67, 9, 9, -1, -1, 41, 94, 1, -1, -1, -1, 41, 22, 1, 14, 66, -1, -1, -1, 41, 10, 63, 86, -1, 39, 1, 60, 39, -1, 22, -1, 1, 37, -1, 1, -1, 10, -1, 1, 23, 1, 1, 39, 39, 39, -1, -1, 48, 51, 1, 94, -1, 39, -1, 30, 94, 1, 1, -1, -1, 63, -1, 48, 7, 67, 1, -1, 22, 65, 15, 1, 38, 8, -1, -1, -1, -1, -1, -1, -1, 80, -1, 39, -1, 96, -1, -1, -1, 41, -1, -1, -1, -1, 35, 66, 13, 91, 10, 9, 21, 21, 38, 68, 15, 66, -1, 4, 76, 9, 7, 48, 52, -1, -1, -1, 59, 29, 56, -1, -1, 1, -1, -1, 1, 47, -1, 1, 8, -1, 37, -1, -1, -1, -1, 39, -1, -1, -1, -1, 28, 4, -1, -1, -1, -1, 90, -1, -1, 62, -1, -1, 63, 11, 56, 12, 11, 3, -1, 16, -1, 4, 6, 40, 55, 25, 15, 11, -1, 4, -1, 37, -1, -1, -1, 48, -1, -1, 0, 39, -1, 22, -1, 38, 67, 93, 71, 0, 59, 63, 69, -1, -1, -1, 63, -1, 29, 1, -1, -1, -1, -1, -1, 59, 1, 23, -1, -1, 90, 64, 1, 1, 1, 1, 16, 1, 37, -1, -1, 16, 1, 1, 53, -1, 16, 13, -1, -1, 1, 65, 1, 48, 1, -1, -1, -1, 56, -1, 14, 1, 38, 10, -1, -1, -1, -1, 1, -1, -1, 1, -1, 1, 1, 1, -1, -1, -1, -1, -1, -1, 33, 52, 39, 1, -1, -1, -1, 1, 56, -1, 9, 52, -1, 9, 13, 30, 1, -1, -1, 8, -1, 7, 59, 13, 7, -1, 1, -1, 81, 48, 10, -1, 1, 13, 58, 30, -1, 12, 1, 1, 1, 1, -1, 16, 1, 15, -1, 31, -1, 32, 14, 1, -1, 38, -1, -1, 76, 29, -1, -1, -1, 1, 4, -1, 68, -1, -1, 1, 1, -1, 1, 1, -1, 1, 31, -1, 1, 35, -1, 13, 27, 62, 90, -1, -1, 48, -1, -1, -1, -1, 16, -1, -1, -1, 16, 16, 1, 90, -1, -1, -1, 11, 48, -1, 48, 3, 27, -1, -1, -1, -1, 39, 10, 84, 27, 10, -1, 23, -1, 67, 10, -1, 1, 1, 1, 1, -1, 4, -1, -1, -1, 1, 1, 93, 1, -1, -1, 22, -1, -1, -1, 9, 15, 23, -1, 52, -1, 15, -1, 37, 10, -1, 15, -1, -1, 67, -1, 0, 0, 8, 0, 48, 15, 52, 10, 79, 67, -1, -1, 22, -1, 0, 15, 37, -1, -1, -1, 15, -1, -1, -1, -1, -1, -1, -1, -1, 10, -1, -1, -1, -1, -1, -1, -1, 10, -1, -1, -1, 10, -1, 10, 15, -1, 95, 10, -1, -1, 15, 11, 38, 47, 33, -1, 47, 47, 47, 47, -1, -1, -1, 15, 10, 47, -1, -1, 79, -1, 10, -1, 15, -1, 10, -1, 47, 47, -1, -1, -1, -1, 40, 47, -1, 15, 9, -1, -1, 9, 47, 1, -1, 1, 22, 47, 47, 47, 1, 1, 1, -1, 1, 1, -1, 1, 1, 1, 27, -1, -1, 64, -1, 10, -1, 1, 1, 1, -1, 1, 63, 80, 2, 1, 1, 1, 1, 1, 1, -1, 1, -1, 1, 1, -1, 8, 1, 98, 83, 14, 47, 48, 1, 1, 1, -1, 1, 1, 1, 1, -1, 1, 79, 1, -1, -1, 1, -1, 23, -1, -1, -1, 1, 79, -1, -1, 9, 9, -1, 10, -1, 9, 29, 27, 99, 99, -1, 21, -1, 35, 15, 22, -1, -1, -1, 63, -1, -1, 9, -1, 9, -1, -1, -1, 48, 29, 48, -1, -1, -1, -1, 1, 9, -1, 60, -1, -1, -1, 1, -1, -1, -1, -1, -1, -1, 1, 1, -1, -1, 23, 67, -1, 14, -1, 61, -1, -1, 34, 34, 23, -1, -1, -1, -1, -1, -1, 38, 87, -1, 99, 40, 99, -1, -1, -1, -1, -1, 67, 9, 2, -1, -1, 13, -1, -1, -1, -1, 2, 15, -1, 99, 99, 37, 25, 99, 34, 67, 61, 90, 99, 80, 94, 43, 38, 1, 22, -1, 21, -1, -1, 21, 11, 91, -1, -1, 44, -1, 38, 52, 64, 55, 2, 1, 67, 99, -1, -1, 10, -1, -1, 46, 3, 36, -1, 36, -1, 9, -1, 39, -1, -1, 61, 35, -1, 19, 67, 52, 3, -1, 84, -1, -1, 52, -1, -1, 55, 21, 43, 21, 63, -1, 74, 90, 42, -1, -1, 39, -1, -1, -1, 29, 95, -1, 25, -1, 37, -1, -1, 27, 29, 60, -1, 1, -1, -1, -1, -1, -1, -1, -1, 91, -1, 29, 27, -1, 23, 23, -1, -1, 36, 10, 21, 27, 80, -1, -1, -1, 9, 67, -1, -1, -1, 21, 48, 89, 1, -1, 1, 0, 87, 1, 70, 18, -1, 21, -1, 58, 34, 13, -1, -1, 10, -1, -1, -1, 48, -1, -1, 21, 43, 41, -1, 41, 10, 94, 58, 12, -1, 74, -1, 4, 21, -1, -1, -1, 25, 52, -1, 1, 72, 48, 7, -1, -1, -1, 12, -1, -1, 10, 74, 3, -1, 87, 22, -1, -1, 21, -1, 37, 61, -1, 1, 3, -1, -1, 84, 61, 14, 51, 37, -1, 11, 55, 55, -1, 40, 11, -1, -1, -1, -1, 22, 4, 1, 15, 1, -1, -1, 4, 55, 22, 29, 10, 23, -1, 15, -1, 39, -1, 15, 11, -1, 2, -1, 63, -1, -1, -1, -1, 39, 39, -1, 55, 15, -1, -1, -1, -1, 38, 41, -1, -1, 55, 87, -1, 13, 55, -1, -1, 15, 53, 59, 1, 67, 27, 25, -1, 56, 74, 13, -1, 48, -1, -1, -1, -1, 48, -1, -1, -1, -1, -1, 15, 25, 23, -1, -1, 33, -1, -1, -1, -1, 41, 22, 41, 13, 41, 22, 52, 41, -1, -1, 55, 1, -1, -1, 15, -1, -1, 15, -1, -1, -1, 1, 30, 0, -1, 94, -1, -1, -1, 10, 34, 95, 51, 45, -1, 3, 11, 15, -1, -1, -1, 25, -1, 48, 44, 25, -1, -1, -1, -1, 44, -1, 65, 25, 41, -1, -1, 41, 41, 39, 40, 15, 40, -1, 11, 42, 10, 43, 20, 29, -1, -1, 91, -1, 99, -1, 13, -1, 20, 41, 83, 56, 48, 29, -1, 94, 10, 3, 75, 10, -1, 1, -1, 75, 29, -1, -1, -1, -1, 44, 48, -1, -1, 59, -1, 27, -1, -1, -1, 94, -1, -1, -1, 4, -1, 10, 10, 0, -1, -1, 72, -1, -1, -1, 78, -1, -1, -1, -1, 6, -1, -1, -1, 39, -1, 36, -1, -1, -1, 10, 70, 15, 15, -1, -1, 7, -1, -1, -1, -1, 48, -1, 41, -1, 6, -1, 1, 61, -1, 14, 11, 15, -1, 37, -1, -1, -1, -1, 15, 39, -1, 75, -1, 34, 34, -1, -1, 38, 36, 2, 3, -1, 36, 46, 15, 51, 48, 80, 48, 58, -1, -1, -1, 15, -1, -1, -1, -1, -1, -1, 51, -1, 6, -1, 29, 10, -1, 29, 59, 4, -1, 1, -1, 15, 47, -1, -1, -1, -1, -1, -1, -1, -1, 38, 94, 0, -1, 3, -1, 43, 1, -1, 10, 0, 39, 80, 38, 80, 51, -1, 39, 1, 39, 34, 10, -1, -1, 41, 63, 27, 63, 42, 15, 67, 28, 28, 14, -1, 10, 52, 3, 15, -1, 7, 63, 67, -1, 15, 22, -1, 42, -1, 28, -1, -1, 6, 59, -1, 41, 13, 3, 59, -1, 28, 22, 51, -1, 63, 86, -1, 9, 79, -1, 10, -1, 77, 28, 43, -1, 53, -1, -1, -1, -1, 56, 28, -1, -1, 25, -1, -1, -1, -1, 8, -1, -1, 77, 28, 15, 68, -1, -1, 0, 3, 12, 33, 37, -1, 41, -1, 1, 28, -1, 94, 28, 0, -1, 28, -1, -1, 12, -1, 9, 76, 84, 43, 43, 28, -1, 15, 62, 55, 63, -1, 13, 7, -1, -1, 62, 0, 0, 18, -1, -1, -1, -1, -1, 2, -1, 47, 21, -1, 47, 12, -1, -1, 31, 28, 47, 23, -1, -1, -1, 41, 28, 28, 28, -1, 28, -1, 3, -1, 1, 28, -1, 41, -1, -1, -1, 13, 51, 91, 7, 47, 43, 93, 91, -1, 43, 21, 28, 28, 47, 21, 1, 1, -1, 28, -1, 21, 29, -1, -1, 28, 15, 7, 18, 84, 3, 15, 82, -1, -1, -1, 28, -1, -1, 7, 20, 4, 25, 14, 22, -1, 28, 18, 38, 28, 43, 14, -1, -1, -1, 28, 25, -1, 28, 34, -1, -1, -1, 28, 28, 1, 91, 39, 39, 39, 15, -1, 11, 3, -1, 11, 19, 7, -1, -1, 21, -1, 34, 51, 58, -1, -1, -1, -1, -1, -1, 3, 20, 51, 51, -1, 22, 51, -1, -1, -1, -1, 3, 12, 16, -1, -1, -1, -1, 0, 25, 51, 51, 0, 37, 14, -1, -1, 62, -1, -1, 93, -1, -1, -1, 11, -1, 25, 1, -1, 13, 28, 63, 62, 1, -1, 11, -1, 34, -1, 37, 90, 39, 39, 41, 1, 39, -1, -1, 1, -1, 41, 41, 52, 7, -1, -1, 10, 25, -1, 13, -1, -1, 48, 67, 48, -1, -1, 71, 30, 12, 22, -1, 17, -1, -1, -1, -1, -1, -1, 14, 22, 30, 17, -1, -1, 22, 22, 30, -1, -1, -1, -1, 23, -1, 41, -1, -1, -1, 15, -1, -1, -1, -1, -1, 15, 67, -1, 1, 18, 0, 29, -1, 14, -1, 80, 24, 7, 38, 38, 1, 4, 31, 64, -1, 2, 81, -1, -1, -1, 56, 54, 94, -1, -1, -1, 67, -1, 48, -1, -1, 41, -1, -1, 29, 10, -1, -1, 70, -1, -1, 72, 15, -1, 64, -1, 27, 63, -1, 3, 65, -1, -1, 15, -1, 39, 7, 23, 6, 37, 44, 52, 47, -1, 91, -1, -1, 7, 25, -1, -1, 39, 39, 39, 1, 11, 91, 40, -1, 91, 14, 13, -1, 1, -1, -1, 67, 27, 1, 1, 1, 15, 1, 40, -1, 40, -1, 81, 51, -1, 51, 51, 51, -1, -1, 4, -1, 70, 70, -1, 68, 57, 23, -1, 53, -1, 22, 3, 34, 17, 1, 48, -1, 77, 59, 22, 29, 67, -1, -1, -1, 3, -1, -1, -1, -1, 44, 7, 7, 7, 7, 7, -1, 17, 39, 22, 1, -1, 39, 39, 39, 22, -1, 51, 38, -1, -1, 18, -1, -1, 1, -1, 22, 17, -1, -1, -1, -1, -1, 17, -1, -1, 74, 41, -1, 39, 25, -1, -1, 18, 0, -1, 81, 39, 81, 67, -1, 18, -1, -1, -1, 9, 15, -1, 34, -1, 29, 10, -1, 7, -1, 67, -1, 7, -1, 1, -1, 39, -1, 25, 25, 25, 25, -1, -1, -1, -1, -1, 80, 52, 22, -1, 48, 62, -1, -1, 4, 59, 1, 1, 77, 4, -1, 4, -1, 43, -1, -1, -1, 43, -1, 38, 25, 43, 43, 80, 2, -1, 13, -1, -1, 64, 15, 9, -1, 67, 43, 53, -1, 51, 51, -1, 13, 51, -1, 51, 4, 38, 34, 91, 34, 39, -1, 14, 91, 15, 22, 11, -1, 52, -1, -1, 94, -1, 43, -1, 48, 43, 48, 77, 23, 43, 48, -1, -1, 45, -1, 77, 38, 23, 0, 15, 12, 63, 21, -1, -1, 79, 29, -1, -1, -1, 1, 13, 43, 43, -1, 0, -1, 94, 20, -1, 93, 13, -1, 38, -1, 20, 99, -1, 99, -1, 1, 1, -1, 13, 20, 20, 20, 1, -1, 1, 93, -1, 22, 11, -1, 33, -1, 3, 1, -1, -1, 25, 48, -1, 7, -1, 30, -1, 32, 70, 30, 0, -1, 11, 30, -1, 15, 30, 29, 87, -1, -1, 11, -1, -1, -1, -1, 29, 4, 4, -1, 1, -1, 94, -1, 10, 1, 52, -1, 1, -1, 55, -1, 81, 39, 41, -1, -1, -1, 43, 43, 40, 43, 59, 14, -1, 53, 62, -1, 30, -1, -1, -1, -1, 62, 59, -1, 62, 62, 48, 62, -1, 62, 62, -1, 62, -1, 62, 62, 48, -1, 53, 62, 62, 40, 3, -1, 62, 93, 62, 93, 62, 83, 62, 62, 62, 62, -1, 62, 59, 62, 62, 62, 62, 62, 62, 62, 62, 29, 62, 45, -1, 59, -1, -1, -1, 36, 38, -1, -1, -1, 15, 48, 2, 89, 67, 2, 62, -1, -1, 13, 43, 92, -1, 20, -1, 27, -1, 65, 13, 64, 41, 40, -1, -1, 41, 41, 41, 41, 67, -1, -1, -1, 39, -1, 1, -1, -1, -1, -1, 81, 41, 41, 1, -1, 15, 39, 39, 39, 39, 91, -1, 4, -1, 1, -1, -1, -1, 9, -1, 10, 39, 39, 39, 83, 43, -1, 0, 43, -1, 93, 53, 68, -1, -1, 48, 7, 48, -1, 8, -1, 15, -1, -1, -1, -1, -1, 10, -1, -1, 23, -1, 23, 25, -1, -1, -1, -1, -1, -1, -1, 67, -1, 48, -1, 7, -1, -1, -1, 27, -1, -1, 59, 7, -1, 48, -1, -1, 15, -1, 52, -1, 26, -1, -1, -1, 6, -1, -1, -1, 6, 35, -1, 35, -1, -1, 22, -1, 63, 26, 26, 15, 81, 15, 72, -1, -1, 3, 40, 22, -1, 66, -1, 13, -1, 91, -1, 93, -1, -1, -1, 6, 6, -1, 40, -1, 40, -1, 40, -1, 40, 0, -1, -1, 22, 51, -1, 51, -1, -1, 74, -1, -1, 13, 64, 70, 12, -1, 38, 41, -1, 25, 67, 41, 25, -1, 7, -1, 30, -1, -1, -1, 1, 77, -1, 11, 1, 51, -1, 15, 25, -1, -1, -1, -1, 48, -1, 63, 62, 38, 41, 40, 15, 14, 51, -1, -1, 25, -1, 3, -1, -1, -1, -1, 15, -1, -1, -1, 1, -1, 79, 14, -1, 43, -1, 15, 25, 0, 5, 63, 30, 1, 94, 95, -1, 34, 94, -1, -1, -1, 3, -1, 40, 39, 84, -1, 75, 15, 12, 94, 25, 51, 1, 23, -1, 30, 40, -1, 11, 91, 26, -1, 25, 1, -1, -1, 37, -1, 20, -1, 37, 20, -1, -1, -1, -1, 94, -1, -1, 37, -1, 29, 22, -1, -1, -1, 94, -1, -1, 14, -1, 38, 10, 47, 94, 76, -1, 3, 1, -1, 6, 40, 63, -1, 8, 63, 4, 52, -1, -1, 65, 68, 1, -1, 3, 94, 59, -1, 84, 34, -1, 3, -1, -1, 90, -1, -1, 40, 40, -1, 40, -1, 39, 11, 3, 4, 1, 12, 4, 4, 25, 39, 41, 41, -1, 0, 11, 13, 40, 40, 4, 40, 59, -1, -1, -1, 51, 62, 1, -1, -1, 11, 94, -1, -1, 94, 47, -1, -1, -1, -1, 52, 2, -1, 41, 13, 61, 79, 69, 15, 0, -1, 10, 37, -1, 33, 38, -1, -1, 29, -1, 33, 79, 48, -1, -1, 74, 48, -1, 18, 22, -1, -1, 94, 63, 0, 41, 1, -1, 79, 41, -1, 37, 52, 46, 6, -1, -1, 6, 6, 12, -1, 83, 34, 90, 12, -1, 79, 82, 20, 47, -1, 22, -1, -1, 11, -1, -1, 91, 67, -1, -1, -1, 1, 93, -1, 11, 42, -1, -1, 87, 1, -1, 10, -1, 10, -1, 39, -1, -1, 67, -1, 35, 47, -1, 41, 41, 94, 22, 47, -1, -1, 91, -1, -1, 48, -1, -1, 11, -1, -1, -1, -1, 39, 22, 67, -1, 22, -1, -1, -1, 10, 44, -1, 53, 49, 65, 0, 11, 3, -1, 48, -1, 19, 48, 91, 0, 15, 80, -1, -1, 53, 63, -1, 3, -1, 53, 25, 3, 3, 30, -1, -1, -1, -1, 7, -1, 1, 1, -1, 1, 44, 72, -1, 3, 90, -1, 1, 1, 47, 51, 18, 48, 38, -1, -1, 59, -1, 27, -1, -1, 7, -1, 47, -1, 7, 89, -1, -1, 45, 91, -1, -1, -1, -1, 7, -1, 7, -1, 7, 25, -1, 91, 62, 15, 10, 7, -1, -1, -1, 39, -1, 41, -1, 37, -1, 53, 4, -1, 48, 59, 40, -1, 39, -1, 9, 14, 45, 58, -1, -1, 40, 87, 40, 3, 15, 74, -1, 41, -1, -1, 40, 21, 3, 13, 39, 1, -1, 91, -1, -1, -1, 1, 0, 53, 40, 21, 40, 87, -1, 8, 89, 38, -1, 53, -1, -1, -1, -1, 56, -1, -1, -1, -1, -1, -1, -1, 63, -1, 6, 25, 32, 14, 89, 89, -1, 10, 6, -1, 66, -1, -1, 23, 49, 73, 10, 13, 45, 6, -1, -1, -1, -1, -1, 45, -1, -1, -1, -1, -1, 4, -1, -1, 89, 29, 90, -1, 13, 34, -1, 8, -1, -1, -1, 8, -1, 5, -1, -1, 49, 8, 49, 8, -1, 8, 3, 9, 53, 50, -1, -1, -1, 23, 74, -1, -1, 22, -1, 61, -1, 83, -1, 18, 47, 10, 9, -1, -1, -1, 32, 50, 8, -1, 27, 49, -1, 49, 47, 8, -1, 8, 47, 8, -1, -1, 32, 12, 13, 8, 53, -1, 49, -1, -1, 8, 53, -1, -1, -1, -1, 49, 6, -1, -1, 90, 60, -1, -1, -1, -1, -1, 66, 23, -1, -1, -1, -1, -1, 89, 89, 85, -1, 86, 9, -1, 9, 9, 9, 23, -1, 60, 9, -1, 9, 99, -1, -1, -1, 32, -1, 99, 99, -1, 9, 72, 8, -1, 9, 27, -1, -1, -1, -1, 24, -1, 53, 32, 85, -1, -1, -1, -1, 66, -1, 29, 74, -1, -1, 53, -1, 74, -1, 9, 32, 9, -1, 30, 53, 53, 14, 95, 14, 14, 74, -1, 87, 0, -1, 23, 27, -1, 49, 60, 60, -1, -1, 10, 60, 49, -1, -1, -1, -1, 29, 8, 3, -1, 27, -1, -1, 66, -1, -1, 22, 53, 25, 60, -1, -1, -1, -1, -1, -1, -1, -1, -1, -1, 5, -1, 89, 8, 32, 29, 4, 53, 11, -1, -1, 29, -1, -1, 53, -1, -1, -1, -1, 58, 74, -1, -1, 66, 60, -1, 97, -1, 66, 70, -1, 15, 32, -1, -1, -1, 97, 8, -1, 66, -1, -1, 53, 66, 25, 53, -1, -1, 8, 55, -1, -1, -1, 56, -1, -1, -1, -1, 29, 89, 9, -1, -1, -1, 29, 16, 16, 47, 29, -1, -1, -1, 53, -1, 89, -1, -1, 53, 50, 32, -1, 27, -1, 70, -1, -1, -1, 8, 97, -1, -1, 64, -1, 21, -1, -1, 8, 9, -1, -1, 27, -1, -1, -1, 22, -1, 36, -1, -1, -1, 16, 32, 95, -1, 6, -1, 16, -1, 16, 95, -1, 71, 95, 95, 89, -1, 82, 9, -1, 19, 6, 79, 22, -1, 36, 79, 0, -1, -1, 8, -1, 67, 93, 66, -1, 9, 55, -1, 58, 16, 60, 32, -1, 22, 13, 32, 97, 89, -1, -1, 25, -1, 4, 50, 66, 8, -1, -1, -1, -1, -1, -1, 9, 89, -1, -1, -1, 9, 61, -1, -1, 22, -1, -1, -1, 79, -1, -1, 36, -1, -1, -1, -1, 36, 53, 9, 33, 76, 68, 9, -1, 59, -1, 6, 63, 53, 22, -1, -1, -1, -1, -1, 33, -1, -1, 4, -1, 83, -1, 9, -1, -1, -1, 16, -1, -1, -1, -1, 72, -1, 89, 22, -1, -1, 73, -1, -1, -1, 66, -1, -1, -1, 53, -1, 89, 22, -1, 29, 72, 53, -1, 69, 16, 22, -1, -1, -1, -1, -1, -1, 48, 22, -1, -1, -1, 67, 22, -1, 22, 29, 86, 12, -1, -1, 74, 22, -1, 12, 22, -1, 58, 1, -1, -1, 74, -1, 1, 72, 72, 32, -1, -1, 73, 69, 72, 75, 27, -1, 66, -1, -1, -1, 52, 22, -1, -1, -1, -1, -1, 68, 4, 22, 87, -1, -1, -1, -1, -1, -1, -1, 74, -1, 72, -1, 60, -1, 22, 80, -1, -1, 38, -1, 22, -1, 22, -1, -1, -1, -1, -1, 93, -1, -1, -1, -1, 64, -1, -1, 33, -1, 58, -1, 53, -1, -1, -1, -1, -1, 73, 68, 95, 23, -1, 54, -1, 70, 70, 16, -1, 70, 73, -1, 49, -1, -1, 18, -1, -1, 45, -1, -1, -1, -1, 66, -1, 6, 6, 6, 66, -1, 6, 4, -1, 6, -1, 32, -1, 47, 6, 6, 6, -1, -1, 6, 0, -1, 53, -1, -1, -1, -1, -1, 72, -1, -1, -1, -1, -1, -1, 89, 73, 4, 32, -1, -1, 38, 8, 89, 29, 8, 16, -1, 35, -1, 11, -1, 5, -1, -1, 73, 40, 29, 86, -1, -1, 72, -1, -1, -1, -1, -1, -1, -1, -1, -1, 16, -1, -1, 67, -1, -1, 8, -1, -1, 32, 9, -1, -1, 32, 32, 16, 33, -1, 53, -1, -1, 66, 16, -1, 43, 10, 40, -1, 14, -1, -1, 71, 89, 0, 36, -1, -1, 95, 16, -1, 5, 79, 22, -1, -1, -1, 74, 0, 89, 23, -1, -1, 33, -1, -1, -1, -1, -1, 14, -1, -1, 9, -1, 16, -1, -1, -1, 15, 30, -1, -1, -1, 23, 30, 8, -1, -1, 79, 89, -1, 9, -1, 16, -1, 73, 9, -1, 89, 89, -1, 86, 3, -1, -1, -1, -1, -1, 86, -1, -1, -1, 89, 88, 3, -1, 0, -1, -1, 49, 66, 36, 32, -1, -1, -1, -1, -1, -1, 18, -1, -1, 58, 9, 80, -1, -1, -1, 32, -1, -1, 53, -1, -1, 35, 91, -1, 9, 72, 70, 25, 43, -1, -1, -1, -1, -1, 23, 8, 77, -1, -1, 36, 36, 66, 69, 9, -1, 73, 9, -1, -1, 22, 66, 22, -1, -1, -1, 67, 60, 60, -1, 60, -1, 27, 23, -1, 61, -1, 27, -1, -1, -1, 9, 72, -1, 9, 9, 89, 14, 8, 8, 70, -1, 81, -1, 29, -1, 89, 89, 14, 14, 36, -1, 97, 76, 24, -1, -1, -1, -1, -1, 34, -1, 2, 2, 16, 60, -1, 74, -1, 49, 16, 14, 16, 2, -1, 61, 74, 60, 60, 1, -1, 90, 89, 85, 33, 32, -1, -1, -1, -1, 90, 90, 90, 90, 90, -1, -1, -1, 49, -1, -1, -1, 53, 90, 49, 49, 49, 89, 10, 6, -1, 61, 90, 90, 90, 90, 49, 65, 15, 90, 74, -1, 53, 10, -1, -1, 41, -1, 16, 16, -1, -1, 90, 90, 90, 56, 90, -1, 90, 74, -1, 86, -1, 11, 22, 90, 87, -1, -1, 14, -1, 50, 40, 37, 56, -1, 90, 90, 90, 90, 90, 90, -1, -1, -1, -1, 90, -1, 90, 4, -1, 60, -1, 90, -1, -1, 12, -1, 22, 12, 47, -1, 52, 90, -1, 90, 27, -1, -1, -1, -1, -1, -1, -1, 41, -1, -1, -1, 49, -1, 32, 49, 13, -1, 49, 52, 37, -1, -1, -1, -1, -1, 56, -1, -1, -1, 49, -1, -1, -1, -1, 49, 53, 3, -1, 74, 74, 66, -1, 32, 53, -1, -1, 22, 22, -1, -1, -1, 22, 90, -1, 16, -1, -1, 22, 94, 14, -1, 53, 76, -1, 41, -1, -1, -1, 22, -1, 27, 81, 22, 66, 22, 16, 49, -1, 16, 22, -1, -1, 16, 22, -1, -1, 32, 22, 61, -1, 64, 31, -1, 60, 21, 27, 23, -1, -1, 74, 70, 67, 82, 29, 4, -1, 22, -1, 49, 47, -1, 49, 49, 49, -1, -1, 13, 49, 73, -1, 23, -1, 73, -1, 14, -1, -1, 4, -1, 7, 61, -1, 60, -1, -1, -1, -1, -1, 60, 27, -1, 32, 60, 60, 53, 4, 61, -1, -1, 66, 25, -1, -1, 86, -1, 86, 49, 60, 8, -1, -1, 3, 3, 55, -1, -1, -1, -1, 38, -1, -1, -1, 49, -1, -1, -1, 60, 66, 2, 47, 4, 66, 45, 32, -1, -1, 33, 60, -1, -1, -1, 59, 22, 37, 23, 14, -1, -1, 33, 67, 12, -1, -1, 45, -1, 37, -1, 19, -1, -1, 66, -1, -1, -1, 28, 10, 60, 34, -1, -1, -1, 53, 18, 44, 60, 60, -1, -1, -1, -1, -1, -1, 60, -1, -1, -1, 25, -1, 60, 60, -1, 32, 53, 66, -1, 49, 32, -1, -1, 8, -1, 5, 32, 73, 36, 49, 60, 66, -1, -1, 66, 81, 66, 23, -1, 89, -1, 26, 32, -1, 53, -1, 86, 66, 66, -1, -1, 49, 27, 27, -1, -1, -1, 89, -1, -1, 24, 14, 46, -1, 45, -1, 86, 89, -1, -1, 3, -1, -1, 73, -1, -1, -1, -1, -1, -1, -1, 56, -1, 66, 69, -1, 77, -1, 3, 56, 74, 35, -1, 32, -1, 49, -1, -1, 45, -1, -1, 32, -1, 52, -1, -1, -1, -1, -1, -1, -1, -1, 49, 66, -1, -1, 66, -1, -1, 29, -1, -1, -1, 73, -1, -1, -1, 16, 73, -1, -1, 73, -1, 66, 23, 8, -1, -1, 4, -1, -1, -1, 73, 89, 61, 72, -1, 8, -1, -1, -1, 66, -1, 60, 24, -1, 1, -1, 32, -1, 49, -1, -1, 66, 21, 66, 83, -1, -1, -1, -1, -1, 40, -1, 16, -1, -1, 21, -1, 66, -1, -1, 16, 45, -1, 66, 32, -1, 53, 56, -1, -1, 74, 97, -1, 9, 66, -1, 32, -1, 49, 40, -1, 23, 64, -1, -1, 18, 59, -1, -1, -1, -1, -1, 72, 95, -1, 90, -1, 23, 16, -1, -1, -1, 63, -1, -1, -1, 9, -1, 33, -1, -1, 33, 49, -1, 66, -1, -1, 16, -1, 94, -1, 33, -1, 6, -1, -1, 16, -1, -1, -1, -1, -1, 52, 16, 7, -1, -1, 53, -1, -1, -1, -1, 16, 70, -1, 25, -1, -1, 66, 74, -1, -1, 49, -1, 16, -1, -1, -1, -1, 36, 43, 66, -1, 8, 37, -1, 29, -1, -1, -1, 27, 53, 25, 36, -1, 4, -1, -1, -1, 38, -1, -1, 27, 77, -1, 60, -1, 49, -1, -1, -1, 95, 33, -1, -1, -1, -1, 87, 60, -1, 60, 29, 85, -1, 11, 73, -1, 87, 14, -1, 56, -1, -1, 49, 38, 38, -1, -1, 67, 59, -1, -1, -1, 53, 23, 60, -1, 90, 65, 79, -1, -1, -1, -1, 80, 3, -1, 65, 60, -1, -1, -1, -1, -1, -1, -1, -1, -1, 59, -1, -1, 60, -1, 60, 23, 59, -1, 60, 81, 59, 39, 62, 1, -1, 65, -1, 77, -1, -1, -1, 32, 34, 43, -1, 14, -1, 60, -1, -1, -1, 14, 23, -1, 60, -1, 60, -1, -1, -1, 59, -1, -1, 14, 67, -1, 4, 60, 66, 60, 59, -1, -1, 49, -1, -1, -1, -1, -1, 60, 72, 5, -1, -1, -1, 30, -1, -1, -1, -1, -1, -1, 16, 19, -1, -1, -1, -1, 80, -1, -1, 60, -1, -1, -1, -1, 66, 25, 16, 16, -1, -1, -1, -1, -1, -1, -1, -1, -1, 63, 24, -1, -1, 23, -1, 73, 76, -1, 19, -1, 56, 27, 4, 0, 32, 85, -1, -1, -1, 23, 40, 5, -1, -1, -1, 23, 59, -1, -1, 19, -1, 0, 3, -1, 6, -1, -1, 33, -1, -1, 33, -1, -1, 4, 1, 73, 95, 6, -1, -1, -1, -1, -1, -1, -1, -1, -1, -1, 73, -1, 5, -1, 65, 73, -1, -1, -1, 66, -1, 67, 29, -1, 49, -1, -1, -1, -1, 14, -1, -1, -1, 74, -1, -1, 14, -1, 3, -1, 27, 14, -1, -1, -1, -1, -1, -1, -1, 32, 40, -1, -1, -1, -1, 83, 62, 16, -1, -1, -1, 53, 66, 33, -1, 87, -1, 66, 14, -1, -1, 24, 4, -1, -1, 5, -1, -1, -1, -1, 73, -1, 16, 16, -1, 85, -1, 70, 85, 27, -1, -1, -1, 10, -1, 37, 56, 90, -1, 59, -1, -1, -1, 90, 85, -1, -1, -1, -1, 18, 32, 14, 23, 53, 18, -1, 66, -1, -1, -1, -1, 27, 66, -1, 66, 1, 0, -1, 28, 89, 85, 30, -1, -1, -1, 10, 33, 72, -1, 16, 74, -1, -1, -1, 5, 56, -1, 0, 27, 32, 27, -1, -1, 86, 16, 14, 16, 8, -1, 4, 54, 16, 60, -1, -1, 49, -1, 49, 93, -1, 49, 11, -1, 9, 27, 27, -1, -1, -1, -1, 66, 28, 14, 0, 27, 54, -1, 68, -1, 63, -1, 27, 93, 36, -1, -1, 81, 29, 34, -1, -1, -1, -1, -1, 66, 10, -1, 49, -1, -1, 49, -1, -1, 32, -1, -1, 32, -1, -1, 49, 32, 12, 12, -1, -1, -1, 60, -1, 13, -1, 67, 32, 6, -1, -1, 66, -1, 66, 47, 87, 87, -1, 6, 10, 70, -1, -1, 37, -1, -1, -1, 8, -1, 95, 83, 49, 14, 63, -1, -1, 70, -1, -1, -1, -1, -1, -1, -1, 42, 36, 21, -1, -1, -1, -1, -1, -1, -1, -1, -1, -1, -1, -1, -1, -1, -1, -1, 63, -1, -1, -1, -1, 93, -1, 32, -1, 32, 16, 38, 23, -1, 4, -1, 19, -1, 4, 4, 4, 4, 16, -1, 49, -1, 4, -1, -1, -1, -1, 11, 9, -1, -1, 76, 55, 27, 32, 32, -1, 33, -1, -1, 32, -1, 32, 38, -1, -1, 14, 53, -1, 76, -1, -1, 14, -1, -1, 76, 19, 23, 66, -1, 16, 86, 60, 60, -1, -1, -1, -1, 25, -1, 60, -1, 30, -1, 67, -1, -1, 7, 64, -1, -1, -1, 73, 3, 54, 3, -1, 61, 73, -1, 73, 73, 61, -1, -1, -1, -1, 7, 7, -1, -1, -1, 74, 23, 86, 23, -1, 43, 62, 73, 73, 60, 27, 29, 66, 26, 10, -1, -1, 15, 93, -1, -1, -1, 72, 63, -1, -1, -1, 41, 32, 74, 25, -1, -1, -1, -1, -1, 65, -1, 53, 66, -1, 90, -1, -1, 14, 14, -1, -1, -1, -1, -1, -1, -1, 66, 60, 11, -1, 4, -1, 65, 14, 27, -1, 2, 67, 23, 82, 10, -1, 16, -1, 45, 45, 49, -1, 4, -1, 82, -1, -1, 73, -1, -1, 74, 66, 33, -1, 66, -1, 67, 83, -1, 45, 3, 23, -1, -1, 93, 3, 45, -1, 63, 3, -1, -1, 67, -1, -1, 27, 3, 25, -1, -1, -1, -1, 54, 45, 45, 8, 8, -1, -1, -1, 16, -1, 95, -1, 81, 66, -1, 87, -1, -1, 63, -1, 68, 25, -1, -1, 32, 32, -1, -1, 82, 29, 16, -1, -1, 10, 49, 10, -1, 3, 3, 53, -1, 60, -1, 45, 45, -1, 59, 45, -1, -1, -1, 74, -1, 38, 32, 21, -1, -1, 27, -1, 12, 21, 53, 32, -1, -1, 14, 66, 49, -1, -1, 66, 16, -1, -1, 3, -1, -1, 66, -1, -1, 53, -1, -1, -1, 27, 53, 10, 71, 16, -1, -1, -1, 38, -1, 4, 70, -1, 73, -1, -1, 94, 4, -1, -1, -1, 0, 49, -1, -1, 5, 79, -1, -1, -1, 12, 56, 56, 49, 81, 56, -1, -1, 93, -1, -1, -1, 42, -1, 49, -1, 81, 81, 8, 50, -1, -1, 81, 44, 2, -1, -1, 9, 2, -1, 2, -1, -1, 49, -1, -1, -1, -1, 4, -1, -1, 4, -1, 73, -1, 53, 88, -1, -1, 11, 13, -1, 49, 83, 83, -1, -1, -1, 72, -1, -1, 64, -1, 32, -1, 23, -1, -1, -1, -1, -1, -1, -1, 32, -1, -1, 12, -1, -1, -1, -1, 75, -1, -1, -1, -1, 61, -1, -1, 75, 50, -1, -1, 50, -1, 73, 38, -1, -1, -1, 68, -1, 73, 7, 7, -1, -1, 2, -1, -1, 82, -1, 16, -1, 63, -1, 27, -1, 29, -1, -1, -1, 27, 50, -1, 4, -1, -1, -1, 63, -1, -1, 16, 31, -1, 70, -1, -1, 13, -1, -1, -1, -1, -1, -1, -1, 60, 60, -1, -1, 34, -1, 5, 72, 60, -1, 44, 95, 60, 40, -1, 13, 60, 60, 88, 60, -1, -1, -1, 49, -1, -1, -1, 38, -1, -1, -1, -1, -1, 27, -1, 48, 60, 60, 65, -1, 60, 95, -1, 70, -1, -1, 10, -1, 28, 64, 53, 60, -1, 70, -1, 60, -1, 66, 74, -1, 66, 1, -1, -1, 71, 66, 66, -1, 61, 36, 56, 8, -1, 33, -1, 19, 33, 0, -1, -1, -1, -1, -1, 10, -1, -1, -1, -1, -1, -1, 12, 53, 40, -1, -1, 44, -1, 14, -1, -1, -1, -1, 44, -1, 44, 66, 66, 8, 10, 48, 63, 11, 29, 21, -1, -1, -1, -1, -1, 74, 74, -1, 63, -1, 9, 63, 33, -1, -1, -1, -1, -1, -1, 63, 29, 10, -1, 16, 29, -1, -1, 53, 29, 32, -1, -1, -1, -1, 74, -1, -1, -1, 16, -1, 66, -1, 13, 32, 15, -1, 19, 19, 13, 60, -1, -1, -1, -1, -1, -1, -1, 5, 56, 15, -1, 19, -1, -1, -1, 25, 8, 66, -1, -1, -1, -1, 36, -1, -1, -1, -1, -1, 10, -1, 56, 21, -1, -1, -1, -1, 83, 82, -1, -1, 82, -1, -1, 61, -1, -1, -1, 61, -1, -1, -1, 10, -1, -1, 16, 6, 66, 14, -1, 15, -1, -1, 59, -1, 61, 12, -1, 66, 93, 0, -1, 80, 66, -1, -1, -1, -1, -1, 32, -1, 81, 53, -1, -1, 67, -1, -1, 28, -1, 69, -1, 83, -1, 44, 29, 24, -1, -1, -1, -1, -1, -1, -1, 23, -1, -1, 43, -1, 20, 27, -1, 56, -1, -1, 29, -1, 93, -1, -1, -1, -1, -1, 76, 61, -1, 67, -1, 27, -1, 61, 73, 53, -1, -1, -1, 36, -1, -1, 49, -1, -1, 33, -1, -1, -1, -1, -1, 74, -1, -1, 60, -1, 66, -1, 53, 22, 72, 44, 4, 53, 24, -1, -1, -1, 22, 12, 12, 33, 28, 52, -1, -1, -1, 44, 44, 71, -1, -1, -1, -1, 23, -1, 56, -1, 11, -1, 62, 0, -1, 44, -1, 83, 81, 47, -1, 70, -1, -1, -1, 6, -1, -1, 44, 36, -1, -1, -1, 44, -1, -1, -1, 4, -1, 65, 12, -1, -1, -1, -1, 23, 27, -1, -1, -1, 14, 10, 12, -1, -1, -1, -1, -1, -1, -1, -1, 44, -1, 6, -1, 6, -1, 73, -1, -1, 24, -1, 44, -1, -1, -1, 85, -1, 37, -1, -1, -1, -1, -1, 66, -1, 74, 61, -1, 62, -1, 83, 63, 11, 42, -1, 71, 29, -1, -1, -1, -1, 32, -1, -1, 13, 41, 23, -1, 63, 67, 67, -1, -1, -1, 33, -1, -1, 10, 35, -1, -1, 61, -1, 14, 16, -1, -1, 7, -1, 66, -1, -1, 32, 44, -1, 61, 32, -1, -1, 28, -1, -1, -1, -1, 67, -1, 63, -1, 27, 44, 27, -1, 61, 33, -1, 29, -1, -1, -1, 35, -1, -1, -1, 44, 4, -1, -1, -1, -1, -1, -1, -1, -1, 61, 13, -1, 61, -1, -1, 61, 61, -1, -1, -1, 4, -1, 32, 73, -1, -1, -1, 4, 27, -1, -1, 33, -1, -1, -1, -1, -1, -1, 13, 13, 27, -1, -1, -1, 14, -1, -1, 53, -1, -1, 64, 5, -1, -1, -1, 66, -1, 49, -1, 73, 82, -1, -1, -1, -1, 14, -1, 36, -1, 74, -1, 35, 0, 19, -1, -1, -1, 36, -1, 65, -1, 10, -1, 36, 7, 7, 65, 41, -1, -1, -1, 6, -1, -1, -1, 65, -1, -1, -1, -1, 66, 66, 44, 83, -1, 15, -1, -1, -1, -1, 28, -1, 83, 76, -1, 11, 32, 36, 4, -1, -1, -1, 65, 56, 56, -1, 90, 63, 56, 56, 56, 56, -1, 56, -1, -1, -1, -1, 56, -1, -1, -1, 99, 12, 23, -1, -1, -1, -1, -1, -1, 1, 6, -1, 27, -1, -1, 59, 33, 28, 53, -1, -1, 22, -1, -1, 36, -1, -1, -1, -1, -1, -1, 53, -1, 33, 44, 82, 14, -1, -1, 29, 8, 66, 13, -1, 4, -1, 66, 74, 9, -1, -1, 36, -1, 15, 21, 93, 32, 29, -1, -1, -1, 66, -1, 44, -1, -1, 22, 53, -1, 21, -1, -1, 35, -1, -1, -1, 15, -1, 23, 36, -1, 69, 57, 4, 44, -1, 81, 4, -1, 14, -1, -1, 49, -1, 36, -1, -1, -1, -1, 29, -1, -1, 83, 50, -1, -1, 12, 36, 63, 44, 36, -1, -1, -1, 27, -1, 56, -1, -1, -1, 90, 39, -1, -1, 50, -1, 66, 90, -1, 63, 8, 27, -1, 90, 53, -1, 67, -1, 23, -1, -1, 3, -1, -1, -1, -1, -1, -1, -1, 66, 28, 49, -1, -1, 29, -1, 27, 63, -1, -1, 53, -1, 29, -1, -1, -1, -1, -1, 66, 29, -1, -1, -1, 24, -1, -1, 27, 87, -1, -1, -1, -1, 23, 12, 29, 50, -1, 50, 50, -1, -1, -1, 71, -1, 12, -1, -1, -1, 74, 75, -1, 13, -1, 56, 27, -1, -1, -1, -1, -1, -1, -1, -1, -1, -1, -1, -1, -1, -1, -1, -1, -1, -1, -1, -1, -1, -1, 44, 4, -1, -1, -1, 23, -1, 6, 67, -1, 56, -1, 36, 83, 82, 44, 91, -1, -1, 71, 34, 38, 39, -1, -1, 36, -1, 4, -1, -1, 27, -1, 8, 56, -1, -1, 36, 36, -1, 36, -1, -1, -1, 58, 36, -1, -1, -1, 70, 93, 70, 67, 36, 44, -1, -1, -1, 50, 1, -1, -1, -1, -1, 83, -1, 36, -1, -1, 50, 14, -1, 72, 72, -1, 14, 53, -1, 29, 70, -1, 25, -1, 4, 56, 56, 63, -1, -1, -1, -1, 44, 65, 23, -1, -1, 74, -1, 50, -1, -1, -1, -1, -1, -1, -1, 7, 66, 72, -1, 58, 55, 44, -1, 65, -1, 43, -1, -1, -1, 56, 10, 53, 74, 72, -1, -1, -1, 82, -1, -1, -1, -1, 74, -1, -1, -1, -1, -1, -1, -1, -1, -1, 27, -1, -1, -1, -1, -1, 48, -1, 27, -1, 27, -1, -1, -1, 85, -1, 56, 33, -1, -1, 73, -1, 56, -1, 40, 40, -1, 29, -1, 20, 56, -1, 20, -1, 72, 56, -1, 23, -1, 49, -1, -1, -1, 83, -1, -1, -1, -1, -1, 11, -1, -1, 66, 74, -1, -1, -1, 66, 4, 5, -1, -1, -1, 11, 19, 27, -1, 29, 86, 0, 66, -1, -1, -1, 66, -1, 75, -1, 27, -1, -1, 66, 66, 48, 10, -1, 23, 44, 5, 4, 39, 10, 34, -1, 20, -1, 93, -1, 37, 8, -1, 4, 19, -1, -1, 81, 48, 27, -1, -1, -1, -1, -1, -1, -1, -1, 70, -1, -1, 94, 53, -1, 52, -1, 76, -1, -1, -1, 25, -1, 60, -1, -1, -1, -1, 38, -1, -1, -1, 23, -1, 27, 43, -1, -1, -1, -1, 14, 14, 23, -1, -1, 56, 56, -1, 59, 3, 24, -1, 28, 28, 28, 28, 8, 23, 9, -1, -1, 29, -1, -1, 31, 67, -1, 2, 67, -1, 74, 27, 23, 2, -1, 0, -1, 15, -1, -1, 1, 19, 86, -1, -1, 0, -1, 16, -1, 90, -1, -1, 48, -1, 53, 48, 53, -1, 53, -1, 10, 53, 10, 41, 0, 24, 91, -1, 59, -1, -1, 29, -1, 23, -1, -1, -1, 94, 8, 23, -1, -1, 11, 0, -1, -1, 24, -1, 67, 11, 27, 83, 83, 10, 47, -1, 4, 33, -1, -1, -1, -1, -1, 61, -1, -1, 24, -1, 27, 66, -1, -1, 8, -1, 19, 67, 19, -1, 39, 39, 39, 23, -1, -1, 19, 0, 19, 19, 23, 29, 19, 0, 45, 19, 15, -1, 0, -1, 48, -1, -1, -1, -1, -1, -1, -1, -1, 39, 39, 39, -1, 34, 0, -1, -1, -1, -1, -1, -1, 36, -1, 66, 1, -1, 66, -1, 15, 63, -1, 73, 87, -1, -1, -1, -1, -1, 67, -1, -1, 36, -1, 66, -1, 45, 12, -1, 24, 34, 14, 73, 30, -1, -1, -1, -1, -1, -1, -1, 10, -1, 4, 45, -1, 20, -1, 94, 2, 63, -1, -1, 23, -1, -1, 0, 14, -1, 30, 10, 73, 8, 22, 9, -1, -1, -1, 65, -1, 63, 65, 48, 33, 27, -1, -1, -1, 73, 14, 48, 15, 39, 34, 34, 48, -1, 25, 82, -1, -1, 14, 86, 11, 34, -1, -1, -1, -1, 28, -1, 58, -1, 23, 25, -1, 63, 57, 25, -1, 53, 27, -1, 67, -1, -1, 27, 38, -1, -1, -1, 41, 52, -1, 12, 63, 25, -1, 10, 4, 0, 25, 25, -1, -1, -1, -1, 87, 68, 15, -1, 41, -1, 27, 33, 27, 9, -1, 33, -1, -1, 4, 67, 25, -1, -1, -1, -1, 15, -1, 27, 27, 25, 53, -1, 25, 25, 38, 27, -1, 25, -1, 31, 52, 40, 1, 14, 29, 15, 39, -1, -1, 22, 89, -1, 3, -1, 23, 83, 3, 94, 58, 9, 23, -1, -1, 63, -1, -1, 1, -1, -1, -1, -1, -1, 13, 15, 52, 27, 24, 67, 1, -1, 18, 18, -1, -1, -1, 18, 66, -1, -1, 18, -1, -1, -1, 81, -1, 13, 67, -1, -1, -1, -1, 75, 38, -1, -1, 15, 52, -1, -1, 52, -1, 61, 2, -1, -1, 15, -1, -1, -1, 65, -1, 16, -1, -1, 32, 3, -1, 11, 75, 14, 53, -1, 26, 89, -1, -1, -1, 39, 39, -1, 27, -1, 48, 27, 23, -1, 15, 15, 18, -1, -1, 63, 29, 77, -1, -1, 14, -1, -1, 55, -1, 12, 24, -1, 52, 52, -1, 83, -1, -1, -1, 16, 36, 47, 24, -1, 13, -1, 41, -1, -1, -1, 63, 33, 6, -1, 13, -1, 67, 16, 1, 27, -1, -1, 10, -1, 48, 36, -1, -1, -1, -1, -1, -1, -1, -1, -1, -1, -1, -1, -1, 83, 61, -1, -1, 15, -1, 24, -1, -1, -1, 14, 66, 34, -1, -1, -1, 12, -1, -1, 39, -1, -1, 23, -1, -1, 85, -1, 30, -1, -1, -1, -1, -1, 33, -1, -1, -1, -1, 67, 23, -1, 23, 1, -1, -1, -1, -1, 24, 67, 33, -1, 48, -1, 29, 39, 90, 22, 10, 12, -1, 27, 48, 24, -1, -1, 51, 18, -1, 23, 18, -1, -1, -1, -1, -1, -1, 83, 9, 76, 45, -1, -1, 16, 15, -1, 23, 2, -1, 86, -1, 48, -1, -1, 37, 53, -1, 29, -1, -1, -1, 15, -1, -1, 29, 83, -1, 37, 61, 14, 74, -1, -1, 14, -1, 61, 1, -1, 34, 39, 10, 2, 2, -1, -1, -1, -1, -1, -1, 63, -1, -1, -1, -1, 9, -1, 29, -1, 25, -1, -1, 1, -1, -1, -1, 33, -1, 93, 24, 49, 93, 23, -1, -1, -1, -1, -1, -1, 23, -1, 48, 33, 8, 9, -1, 48, -1, -1, -1, -1, 42, -1, 49, -1, -1, 23, -1, -1, -1, -1, -1, -1, -1, -1, -1, 1, 22, -1, -1, 33, -1, 61, -1, 1, 14, 73, 14, 10, 63, -1, -1, -1, 14, -1, 49, -1, 48, -1, -1, -1, 93, 86, -1, -1, 15, -1, 49, 13, -1, -1, -1, -1, 23, -1, 49, 25, 25, 25, 34, -1, 69, 68, -1, 23, 12, 12, 13, 8, 51, 24, -1, -1, -1, 47, 83, -1, -1, 1, -1, -1, 66, 34, 1, 10, 25, -1, -1, 39, 11, -1, 53, -1, -1, 20, -1, 27, 29, 49, 32, 25, -1, -1, 93, 25, -1, 55, 8, -1, -1, -1, 29, 67, 29, -1, 0, -1, 23, 16, 13, -1, 10, -1, -1, 36, -1, -1, 41, -1, -1, 4, -1, 66, 0, -1, -1, -1, -1, -1, -1, -1, 51, -1, -1, 33, -1, 37, -1, 4, 10, 13, -1, -1, 41, 34, 25, -1, -1, 66, -1, 55, -1, -1, 66, -1, 0, -1, -1, -1, -1, -1, -1, -1, -1, 12, 48, -1, -1, 10, -1, 82, 59, -1, -1, -1, -1, 94, -1, 59, -1, -1, -1, -1, 27, 23, 23, 10, -1, -1, 23, -1, -1, 31, -1, 48, -1, 44, 48, 48, -1, -1, 27, -1, -1, -1, 10, 48, 37, -1, 76, 86, 1, -1, 1, 22, -1, -1, -1, -1, -1, -1, -1, 81, -1, -1, -1, -1, -1, 44, 44, 66, 6, 1, -1, -1, -1, 69, 1, -1, 76, 33, 14, -1, 12, 1, 15, 10, -1, 0, 90, 58, -1, -1, 48, -1, -1, 44, -1, 45, -1, -1, 39, -1, -1, -1, -1, -1, 48, -1, 52, -1, -1, -1, -1, -1, -1, -1, -1, -1, 48, 40, -1, -1, 44, 23, -1, -1, -1, -1, 1, -1, -1, 27, 1, 63, -1, 51, 51, 51, 0, 1, -1, -1, -1, 48, -1, 4, 8, 30, 8, -1, -1, -1, 0, 19, 14, 75, -1, -1, 13, -1, 41, 13, -1, -1, 74, 25, -1, 8, -1, 1, 1, 35, -1, -1, 48, 10, -1, -1, -1, -1, 10, -1, -1, 32, 13, -1, 67, 98, 29, 40, -1, 1, 64, -1, -1, -1, 73, 24, -1, 48, -1, -1, 2, -1, 83, 80, -1, -1, 13, 79, 0, -1, -1, -1, 94, -1, -1, -1, 55, 69, -1, 59, 18, -1, 29, -1, 10, -1, -1, -1, 56, 44, 78, 21, 11, 48, -1, 7, 16, 48, -1, 8, 2, 33, -1, 8, -1, -1, -1, 1, -1, 6, -1, 1, -1, -1, -1, -1, 38, -1, -1, 22, 2, 1, 15, -1, -1, -1, 14, 15, 15, -1, -1, -1, -1, -1, 1, -1, 1, -1, -1, -1, -1, 29, -1, -1, 39, -1, 8, 37, -1, 67, -1, 49, -1, 13, 86, 7, -1, 1, -1, -1, -1, 2, -1, -1, 8, -1, 74, 44, 2, 19, 67, 1, -1, -1, -1, 2, 75, -1, 2, 76, 34, 10, -1, -1, -1, -1, 90, -1, -1, 10, 14, -1, -1, 53, 15, -1, 8, 23, -1, 32, -1, 74, -1, 52, -1, -1, 18, -1, -1, -1, 4, -1, 33, -1, -1, -1, 58, -1, -1, 53, 82, -1, -1, 23, -1, 66, 70, -1, -1, 11, 66, 59, -1, -1, -1, -1, -1, -1, -1, -1, -1, -1, -1, -1, -1, 32, 65, -1, 84, -1, -1, 22, 22, 67, 82, 55, -1, 15, 1, 1, 37, 37, -1, 82, -1, -1, -1, -1, -1, 27, -1, -1, 48, 23, 90, 48, 10, -1, 16, 1, 48, 53, -1, 9, -1, -1, -1, 22, 29, 18, -1, -1, -1, -1, -1, -1, 22, -1, -1, 10, -1, -1, -1, -1, -1, -1, -1, -1, 14, -1, -1, -1, -1, 49, 0, -1, -1, 27, -1, 27, -1, -1, -1, 2, 4, -1, -1, -1, 74, -1, -1, -1, 10, 10, -1, -1, -1, 28, -1, -1, 28, 1, -1, -1, 33, -1, 90, -1, -1, 12, -1, 41, -1, 16, -1, -1, -1, 82, 24, 45, -1, 23, -1, 67, -1, 67, -1, -1, 53, -1, 1, -1, -1, 48, 90, 53, -1, -1, -1, 8, -1, 10, 3, -1, 33, -1, 15, -1, -1, -1, 14, 54, -1, -1, 66, 45, 61, 15, -1, -1, -1, 54, -1, -1, 28, 53, -1, 53, 29, 70, -1, 48, -1, 18, -1, 49, -1, 70, -1, -1, -1, -1, -1, 1, 10, -1, -1, -1, 27, 48, -1, -1, -1, 66, 48, 14, 54, -1, 14, -1, 38, 67, 67, 49, -1, -1, -1, 24, 89, -1, 31, -1, -1, -1, 27, 8, 15, -1, -1, 67, 67, 67, 90, -1, 24, -1, 27, -1, -1, -1, -1, -1, -1, 23, -1, -1, -1, -1, -1, 16, -1, 48, -1, -1, 87, -1, -1, -1, 64, -1, -1, -1, -1, -1, -1, 27, 66, -1, 18, 8, 27, -1, -1, -1, -1, -1, -1, 29, -1, 4, 1, -1, 10, 29, 1, 48, 10, 60, 15, 60, -1, -1, 48, -1, -1, 74, -1, -1, 10, 8, 48, -1, -1, 60, 70, 74, 43, -1, -1, -1, -1, -1, 8, 90, -1, -1, 80, -1, -1, -1, -1, -1, 70, 27, -1, 27, 27, -1, -1, 70, 70, -1, 29, 70, -1, 41, 1, 1, 70, 1, 70, -1, -1, -1, -1, -1, 93, -1, 70, -1, -1, -1, -1, -1, 70, -1, 44, -1, -1, -1, 74, 70, -1, -1, 70, 70, 1, 27, 41, -1, -1, -1, 30, -1, -1, -1, -1, -1, -1, -1, 62, 41, 4, -1, -1, 8, 1, -1, 14, -1, 12, -1, -1, -1, 53, 90, -1, -1, -1, 30, 27, -1, -1, 63, -1, -1, 85, 66, -1, -1, -1, 85, 16, -1, 85, -1, -1, -1, -1, -1, 16, 21, 73, -1, 73, 86, -1, 15, -1, 39, 74, 74, 49, -1, -1, 33, 28, 67, -1, -1, 33, -1, -1, -1, 90, 27, 27, 28, 40, 16, 29, -1, 41, -1, -1, 67, -1, -1, -1, -1, -1, -1, -1, -1, 63, 63, 10, 44, -1, -1, 53, -1, 59, -1, 20, -1, -1, 90, -1, -1, 18, -1, 80, -1, 3, 14, 29, -1, 37, 94, -1, 82, 10, -1, 27, -1, -1, 29, 27, 87, 47, 48, -1, 47, -1, 15, 47, -1, -1, 18, -1, 59, 80, 82, 1, 8, 24, -1, -1, 82, 22, 89, -1, -1, 4, -1, 14, -1, -1, 39, 39, 39, -1, -1, 82, 83, -1, 82, -1, -1, 68, -1, 38, -1, -1, -1, -1, -1, -1, 82, 67, -1, 48, 82, 53, 33, 12, 10, 34, -1, 34, -1, -1, 10, -1, -1, 41, 82, 10, 27, 27, -1, 82, 82, -1, -1, -1, -1, -1, -1, -1, 23, -1, -1, -1, -1, 53, -1, 48, -1, 67, -1, -1, 48, -1, -1, -1, 67, -1, -1, -1, -1, 11, 14, 10, -1, 39, 39, -1, 41, 11, 3, 82, 82, 10, -1, 1, -1, -1, -1, 61, 4, -1, 14, -1, 66, 15, 29, -1, 82, 0, -1, 67, 44, -1, -1, 37, -1, 15, 15, 11, -1, -1, 14, 0, 0, -1, -1, 0, 76, 25, 14, -1, 82, -1, 76, 21, 34, 39, 39, 52, 67, -1, -1, 27, 44, 21, 55, -1, 27, 47, -1, 1, -1, 22, -1, -1, -1, -1, -1, 30, -1, -1, 23, 60, 37, -1, -1, 23, -1, 64, 1, -1, 18, -1, -1, 48, 63, 87, -1, 39, 39, 34, 12, 28, -1, -1, 1, -1, -1, -1, 48, 33, -1, 66, -1, -1, 23, -1, 48, -1, -1, 67, -1, -1, 27, 48, 97, 29, -1, 27, 27, 10, 53, -1, 27, -1, 23, -1, 27, -1, 10, -1, 10, 27, 97, -1, -1, -1, -1, 10, 74, 10, 48, 39, 10, 10, 97, -1, 14, 7, -1, 14, 10, -1, 90, -1, -1, 7, -1, -1, -1, -1, -1, 33, -1, 0, -1, 13, 1, -1, -1, -1, 1, -1, -1, 29, -1, 25, 63, 39, 39, 39, -1, 39, 27, 23, 1, 15, 7, 27, 1, 48, 83, -1, 48, 67, -1, -1, 13, -1, -1, 26, -1, -1, 38, 29, -1, -1, -1, -1, -1, 27, -1, -1, 4, -1, 39, 39, -1, -1, -1, -1, 27, 80, 10, -1, 4, -1, 41, -1, 15, 7, 48, -1, -1, -1, -1, 0, 68, 1, 22, 77, 63, -1, -1, -1, 39, 39, 39, 38, 63, 1, 13, 82, 67, 22, -1, 27, -1, -1, -1, -1, -1, -1, -1, 60, 48, -1, 1, -1, 7, 4, 39, -1, 39, -1, -1, -1, -1, 48, -1, -1, -1, -1, -1, -1, 38, -1, -1, 1, 67, 15, 1, 14, 30, -1, -1, 4, 1, -1, 1, 67, 52, 39, 34, -1, 39, -1, -1, 12, 30, -1, -1, 1, -1, -1, 4, -1, -1, -1, 48, -1, -1, -1, -1, 15, -1, -1, -1, 27, 48, -1, 48, -1, -1, -1, 15, -1, -1, 56, -1, 56, -1, 34, -1, -1, 99, 99, -1, -1, 37, 15, -1, -1, 47, -1, -1, 30, -1, 66, 27, -1, -1, 34, -1, -1, 11, -1, 87, -1, 1, -1, -1, -1, -1, 1, 10, 39, 39, 39, 39, -1, 39, 10, -1, -1, 8, 66, -1, -1, -1, 14, -1, -1, 76, 66, -1, -1, -1, 62, 53, 55, 66, 1, 56, 53, 7, 10, -1, -1, -1, -1, 15, 15, 70, -1, 62, 62, -1, -1, 56, 82, 62, 62, -1, 39, 39, 39, 16, 0, -1, 90, 0, -1, -1, 53, -1, -1, -1, -1, -1, 27, 62, 62, 62, 64, 67, -1, -1, -1, 64, 96, 15, -1, -1, -1, -1, 10, 39, 39, 39, -1, 64, 14, -1, -1, 48, 74, -1, -1, 8, 18, -1, 39, -1, 13, -1, -1, 39, 34, 39, 67, 7, 40, 80, 7, -1, -1, -1, 15, 40, 99, -1, 94, 48, -1, -1, -1, 7, -1, 37, -1, 33, 57, -1, 18, 16, 77, -1, 18, -1, -1, 57, -1, -1, 77, -1, -1, 7, -1, -1, 7, 77, -1, -1, 77, 66, 7, 40, 29, -1, -1, -1, -1, 38, 77, 77, -1, 40, 48, -1, -1, 18, 37, 1, 64, 48, 52, -1, -1, 77, 20, 4, 33, -1, 22, 40, 41, -1, 12, -1, -1, 12, -1, -1, 92, -1, 27, 28, -1, -1, 23, 62, 40, 52, -1, 7, 15, 15, 15, 15, -1, -1, 0, 22, 39, -1, 12, -1, 7, 52, 11, -1, 94, 15, 39, -1, 39, -1, 52, 53, -1, -1, -1, 95, 29, 77, 33, -1, -1, 77, -1, -1, -1, 39, 34, 7, -1, 28, -1, 48, -1, -1, 38, 10, -1, -1, -1, -1, -1, 27, -1, 59, 77, 38, -1, -1, -1, 58, -1, -1, 22, 28, 28, 93, 57, 77, 77, 77, 74, 77, -1, 62, 77, 18, -1, 7, -1, 77, 7, -1, 62, -1, -1, 77, 77, -1, 1, 7, -1, 32, -1, 77, 87, -1, -1, 7, 57, 77, 53, -1, -1, 59, 77, 7, -1, 7, 13, 7, -1, 77, -1, 77, 57, 13, 57, 77, 7, 15, -1, 77, -1, -1, -1, -1, -1, -1, -1, -1, -1, -1, 27, 7, -1, 29, 7, 99, 77, 18, -1, 90, 77, -1, 7, 27, 7, 4, 29, -1, 95, -1, -1, 93, 14, -1, 34, 39, -1, -1, -1, 14, -1, 39, -1, 39, 39, 11, 4, -1, 7, 7, 1, 95, 14, 1, -1, 75, 39, 39, 39, 1, 15, -1, 39, 4, 57, 1, -1, 39, 39, 39, -1, 76, -1, 7, -1, 72, -1, 81, 77, 18, 18, -1, 18, -1, 57, -1, 44, 14, 7, 7, -1, 62, 18, 72, -1, -1, 7, 11, 18, 18, -1, -1, 57, 57, 57, 77, 59, 8, -1, 7, -1, 95, 7, -1, -1, 77, 7, 13, 57, 7, -1, 7, -1, 91, 7, 57, 7, 13, 77, -1, 7, 77, -1, 14, 4, 57, 7, 23, 52, 7, -1, -1, 10, 39, 39, 7, -1, -1, -1, -1, 25, 66, -1, 13, 7, 1, -1, 38, -1, -1, -1, -1, -1, -1, -1, 48, 10, 48, -1, 27, 23, -1, 1, 27, 10, 10, 87, 57, -1, 48, -1, 13, -1, -1, -1, -1, -1, -1, -1, 1, 39, 39, 39, -1, 15, 37, -1, -1, -1, -1, -1, 29, -1, -1, 48, -1, -1, 39, 39, 39, 55, -1, 77, -1, 53, 77, -1, -1, 66, -1, 10, 39, 41, 1, 80, -1, -1, -1, 79, -1, 93, -1, -1, -1, -1, -1, 18, -1, 0, -1, -1, 87, 59, -1, 91, -1, 18, 62, 62, -1, 1, 10, 27, 6, 62, 13, 7, -1, 7, 9, 99, 51, 13, 77, 62, 74, 90, 0, 32, 57, -1, 77, -1, -1, -1, 7, 64, 77, -1, -1, 57, -1, -1, -1, -1, 77, -1, -1, -1, -1, 89, -1, 18, 77, -1, 64, -1, 11, -1, 40, 45, 9, 13, -1, 38, 67, -1, -1, -1, -1, -1, -1, -1, -1, 77, -1, 63, 77, -1, -1, -1, -1, 90, 77, 87, 7, 27, -1, -1, -1, 7, 57, -1, -1, 77, 4, -1, 24, 7, 7, 40, 93, -1, 28, -1, -1, 14, 1, 23, 7, 7, 99, -1, -1, 77, 7, -1, -1, 14, 37, 3, -1, -1, -1, -1, 1, -1, -1, 48, 33, 30, 95, -1, -1, -1, -1, -1, -1, -1, -1, 10, -1, -1, 10, 0, -1, -1, 66, -1, -1, 37, 66, 23, -1, 99, -1, -1, 66, 25, -1, -1, 27, -1, -1, 80, 11, 51, -1, -1, 99, 99, 99, 99, 53, -1, 39, 12, 14, 87, 12, 90, 53, -1, -1, -1, -1, -1, 39, 39, 39, -1, 0, -1, -1, -1, 91, 76, -1, -1, 56, -1, 14, -1, 55, 51, -1, 66, 29, -1, 14, -1, 99, -1, -1, 7, -1, 59, 65, -1, -1, 29, -1, 1, -1, 0, 57, 37, -1, 99, -1, 66, 57, 57, 72, -1, -1, -1, -1, -1, 14, 14, 64, -1, 57, 57, -1, 14, 18, 7, 14, 7, 57, 57, 57, 18, 7, -1, 18, 7, -1, 18, -1, 77, 18, 77, 67, 77, -1, 57, -1, 53, -1, 7, 14, -1, 11, -1, 11, 18, 57, 11, 55, -1, 77, -1, 57, -1, 18, 77, 77, -1, 57, -1, 7, -1, 77, 77, 77, -1, -1, 7, 18, -1, 14, -1, 18, 0, 7, 87, -1, 10, 25, 37, 40, -1, 7, 27, -1, 59, 99, -1, 14, 7, 99, -1, 14, 7, 99, -1, 99, -1, -1, 48, 14, -1, 77, 77, 7, -1, 77, -1, -1, 7, 1, 56, 99, -1, 11, -1, 40, 14, 4, -1, -1, 23, -1, 7, -1, 93, 12, 7, -1, 28, -1, -1, -1, -1, -1, -1, -1, -1, 28, -1, 7, -1, 66, -1, 48, 7, 39, 18, -1, -1, -1, -1, -1, -1, 14, -1, 6, 6, 10, -1, 4, -1, 57, 55, -1, 15, 29, 15, 57, 95, -1, 66, -1, 18, -1, 41, 81, -1, 57, 99, 81, -1, -1, -1, -1, 57, -1, 49, 48, 4, -1, -1, 57, 57, 57, 57, 57, 57, 57, 57, 57, 57, -1, -1, -1, -1, 95, -1, 66, -1, -1, -1, -1, -1, 29, 7, 7, -1, -1, -1, -1, -1, 7, 7, 7, -1, 7, -1, -1, -1, 87, 7, -1, 87, -1, 65, 7, 7, 27, -1, -1, 9, -1, 77, -1, 77, -1, -1, 14, -1, 56, 66, -1, 39, 39, 14, 13, 7, 63, 29, 67, 8, 48, -1, -1, 27, 65, -1, 38, -1, 48, -1, 48, 67, 16, 8, -1, -1, -1, 65, -1, 65, -1, 65, 77, 53, 77, 10, -1, -1, -1, 65, 67, -1, -1, -1, -1, -1, 77, -1, 77, -1, 77, 94, 77, 69, 7, 16, 48, -1, 40, 77, 69, 69, 69, -1, -1, -1, 90, -1, 25, -1, -1, 15, 40, 87, 74, -1, -1, -1, -1, -1, 67, -1, -1, 29, -1, 27, -1, -1, -1, -1, -1, -1, -1, 74, 48, 48, 67, -1, -1, -1, -1, -1, 48, 48, 48, 24, -1, 6, -1, 69, 30, 14, 14, 69, 9, 69, 55, -1, 72, -1, -1, 14, 13, -1, 77, 93, -1, -1, -1, 95, -1, -1, -1, -1, -1, 57, -1, -1, 38, -1, 95, 95, 95, 30, -1, 3, 49, -1, -1, -1, -1, -1, 12, -1, -1, 53, -1, -1, -1, 74, 57, 1, 22, 62, 62, -1, -1, 13, 14, -1, 57, -1, -1, -1, 22, 95, -1, 62, 95, -1, 18, -1, 77, 57, 21, -1, -1, 87, -1, 77, -1, -1, 95, -1, 57, 57, 57, 90, 57, -1, 77, 95, -1, -1, -1, 57, 77, -1, 7, 7, 63, 40, -1, -1, 7, 57, -1, -1, 57, -1, 57, 49, -1, -1, -1, -1, 77, -1, 93, -1, -1, 77, -1, -1, 87, 57, 7, -1, 18, 77, 90, -1, 57, 7, -1, 57, 57, 57, 77, 90, 7, 77, -1, 57, -1, 62, 62, -1, -1, 59, 7, 20, 14, 7, -1, 25, 14, -1, -1, 0, 7, 7, -1, 7, 11, -1, -1, -1, -1, 57, 62, 7, 57, 57, -1, 57, -1, 77, -1, 77, 62, 59, -1, -1, -1, -1, -1, -1, 7, 57, 36, -1, 57, 57, 7, -1, -1, 18, -1, 62, 57, 93, -1, -1, 7, -1, -1, -1, -1, 57, 77, 57, 95, -1, -1, 77, 57, 77, 7, -1, -1, 77, 77, -1, 18, 1, 57, 7, 57, 7, -1, 57, -1, 57, 95, 95, 57, 57, 77, -1, 57, 57, 62, 57, 49, -1, 0, 62, -1, 57, -1, 57, 13, -1, 57, -1, -1, 77, 57, 38, 18, 12, 57, 37, 62, 57, 57, 57, -1, 57, 6, -1, 7, 77, 18, 81, 57, 38, -1, -1, 62, 18, 7, 93, 77, -1, 13, -1, 57, 7, -1, 77, -1, 62, -1, 7, 57, 57, 57, 57, -1, 77, -1, 57, 62, 7, -1, -1, 47, 62, 7, -1, 7, -1, 69, -1, 7, -1, -1, -1, 77, 81, 7, 77, -1, 62, -1, 77, 7, 7, -1, -1, 37, 57, 52, -1, -1, -1, -1, 18, -1, 57, -1, 93, 7, 44, 77, -1, -1, 80, -1, -1, 21, 87, 57, 14, 57, 7, 18, -1, 7, -1, -1, -1, -1, -1, 13, 27, -1, -1, 22, 7, 7, -1, -1, 59, 63, -1, -1, -1, 7, 7, 24, -1, 59, 48, 4, 67, 65, 99, -1, -1, -1, -1, 62, -1, -1, -1, 62, -1, 27, 77, 62, 48, -1, 13, 7, 11, 62, 28, 13, 48, 28, 41, 29, 29, 41, -1, -1, -1, 27, 27, 23, 7, 77, 87, 4, -1, 12, 27, -1, 83, -1, 91, 11, -1, 1, 67, 47, -1, 43, 14, -1, -1, 23, 82, 55, -1, 88, -1, 45, 45, -1, -1, 80, 47, -1, -1, -1, 9, 9, -1, -1, 45, -1, -1, -1, 52, -1, -1, 8, 5, 5, 10, 5, 29, 10, 29, -1, 9, 5, 2, 85, 2, 73, -1, 73, 52, 30, -1, 8, 85, 30, -1, 6, -1, 36, -1, 75, 30, 98, 5, 98, 68, 27, 87, 10, 5, -1, -1, 24, 43, -1, -1, 98, 35, 64, -1, 25, -1, -1, -1, 7, -1, 85, 35, 35, 85, 30, 55, 30, 61, -1, 75, 30, 61, -1, -1, 86, -1, 42, 30, -1, -1, 59, 98, -1, 2, -1, 5, -1, 54, 54, 54, 75, 54, 6, 35, 35, 15, 56, 42, -1, 85, 30, -1, -1, -1, 67, 27, 30, -1, -1, -1, 68, -1, -1, -1, 98, -1, -1, -1, 8, 85, -1, 35, 24, -1, -1, 56, 5, 5, 5, 5, -1, -1, 29, 5, 5, 8, 8, 5, 5, 56, -1, 47, 4, 72, 38, -1, 20, -1, 68, 6, -1, -1, -1, -1, -1, -1, 98, 6, -1, 72, -1, 69, -1, 20, 75, -1, 28, -1, 6, 42, 24, -1, -1, 5, 5, 60, -1, -1, -1, -1, 37, -1, -1, 33, 61, 79, -1, 73, 18, 64, -1, -1, 74, 74, 5, 1, -1, -1, -1, 83, 85, 73, 32, 56, -1, 89, 76, -1, -1, -1, 30, 10, -1, 86, -1, 85, -1, -1, -1, 30, -1, 12, -1, -1, 30, 30, 33, 8, -1, -1, 30, -1, 30, 33, 89, 30, -1, -1, 3, -1, 80, -1, 56, 21, -1, 30, -1, 30, 33, -1, -1, -1, 3, 18, 58, 53, 17, 8, 8, -1, -1, -1, -1, -1, 21, 3, -1, 30, -1, 21, 21, 21, -1, 26, -1, -1, 30, 21, -1, 8, 52, 3, -1, -1, -1, -1, 30, 73, -1, -1, -1, -1, -1, 21, 32, 30, -1, -1, 86, 3, -1, 27, -1, 30, 86, -1, -1, 55, 3, 8, 30, 21, 9, -1, 8, 3, 16, -1, -1, 30, -1, 89, 86, 30, -1, 30, -1, -1, 21, -1, 5, 3, -1, -1, -1, 30, 3, -1, -1, 3, 61, -1, 5, 3, -1, 3, 3, 3, 3, 3, 74, 3, 3, -1, -1, -1, -1, -1, 3, 21, 30, -1, 33, -1, -1, 30, -1, -1, -1, 5, -1, -1, 9, -1, -1, -1, -1, 33, 30, -1, -1, -1, -1, 82, -1, -1, -1, -1, 21, -1, 8, -1, -1, 58, -1, 9, -1, 32, 30, -1, 8, -1, -1, 30, -1, -1, -1, -1, 8, 21, -1, -1, -1, -1, -1, 60, 6, 3, 3, 3, 8, 8, 60, 73, -1, 74, 8, 86, 9, -1, -1, 14, 60, -1, 60, 49, -1, 33, 60, 83, -1, -1, -1, 3, 54, 9, -1, 39, -1, 9, 9, 60, -1, -1, 33, -1, -1, -1, 45, -1, -1, -1, 60, 8, -1, 8, -1, 33, -1, 8, -1, -1, 8, -1, 33, 45, -1, 54, 33, 54, 8, 8, 8, 8, 9, 33, 8, 60, 8, 76, -1, -1, -1, -1, 60, -1, 20, 8, 20, 20, 8, -1, -1, -1, 60, 71, 58, 67, 3, 21, 30, -1, -1, -1, -1, -1, 21, -1, 33, 58, -1, -1, 74, 9, 5, 5, -1, 5, 13, -1, -1, 5, -1, -1, 21, 8, 18, 3, -1, 30, 21, 32, 8, 21, -1, 32, -1, -1, 11, -1, -1, -1, 5, -1, -1, 24, -1, -1, 8, -1, -1, -1, -1, 30, -1, -1, 21, 21, 9, 69, 5, 5, -1, 55, 81, -1, 58, 9, 6, -1, -1, 86, 40, -1, 8, 30, -1, -1, 19, -1, 74, -1, 3, 61, -1, -1, 3, 83, -1, 86, 14, 30, -1, -1, 30, 5, 56, -1, 6, 8, -1, 30, -1, 5, 5, -1, -1, 8, -1, -1, 5, 11, 8, -1, -1, -1, 60, -1, 13, -1, 60, 70, -1, 60, -1, 54, 74, 31, 74, -1, -1, -1, -1, -1, -1, -1, 8, 8, 54, 8, 8, -1, -1, -1, 33, 8, 3, 3, 3, 21, 21, 8, 20, -1, 8, -1, -1, 60, 60, 55, 8, 66, -1, -1, 5, -1, -1, 29, 8, -1, 73, 34, -1, -1, -1, -1, 32, -1, -1, 27, 45, 17, -1, 73, -1, 64, -1, -1, 30, 5, -1, -1, 3, 73, -1, -1, 6, 10, -1, 49, 21, -1, -1, -1, 43, 82, -1, 5, 26, 9, 9, 10, 71, 8, -1, 75, 53, -1, -1, 8, -1, 75, -1, 4, -1, 10, 10, -1, 23, 0, -1, 60, 70, 3, -1, 85, -1, 60, 30, 30, 85, -1, 83, 30, -1, -1, -1, 66, -1, 79, -1, -1, 60, 60, -1, -1, 13, 85, -1, 30, -1, 9, -1, 36, 8, -1, 8, -1, -1, 8, 86, 68, 72, 30, -1, 85, -1, -1, 8, 68, 18, 30, 60, -1, 73, -1, -1, 8, 60, -1, 45, 60, 49, 60, -1, 49, -1, 8, 59, 60, -1, 8, 60, 58, 60, -1, -1, -1, 60, 60, 58, 49, -1, -1, 9, 43, -1, 8, -1, -1, -1, 8, 54, 8, 75, 34, 28, 8, 60, 32, -1, -1, -1, -1, -1, -1, -1, 1, 30, 10, -1, -1, -1, 30, 31, -1, -1, -1, -1, 30, 87, 16, -1, 29, 89, -1, -1, 58, -1, 30, -1, 8, 30, 8, -1, -1, 9, 73, 58, 16, -1, -1, 9, 71, -1, -1, 72, -1, -1, 72, 80, -1, 20, 8, -1, 95, 70, 78, 8, -1, -1, 4, 72, -1, -1, -1, 1, 86, -1, -1, -1, 14, 16, 12, 19, 71, 49, 87, 85, -1, -1, -1, 85, 16, -1, -1, 74, -1, 86, -1, 80, 19, 19, 19, -1, 83, 85, 53, 68, 30, -1, 91, -1, -1, -1, 16, -1, -1, 8, -1, -1, 8, 18, 25, 73, -1, 21, 85, 14, 85, -1, 33, -1, 6, 70, -1, 32, 8, 32, 32, -1, -1, 8, 8, -1, 4, 87, 90, 32, -1, 74, 30, 83, 66, 70, 16, -1, -1, 61, 30, -1, -1, -1, 83, 22, 2, 18, 86, -1, -1, 83, 2, 43, -1, -1, 73, -1, -1, 8, -1, 13, -1, 5, -1, -1, 43, 21, -1, 73, 30, -1, 83, -1, 1, 49, -1, 16, 85, -1, -1, -1, 83, -1, 76, 45, 15, 56, 49, -1, 72, 58, 56, -1, 49, 10, 12, 30, -1, 53, 3, 33, -1, -1, 8, 8, 13, -1, -1, -1, -1, 8, -1, -1, 30, -1, 28, -1, 85, 73, 72, 13, -1, -1, -1, 32, 68, 30, 74, 16, 8, 8, 21, 8, -1, -1, 13, -1, 8, -1, 8, -1, -1, -1, 8, 24, 8, -1, 8, 13, 32, -1, 85, -1, -1, -1, -1, 32, -1, 53, 72, -1, -1, -1, 30, -1, 8, -1, -1, -1, 22, -1, 71, -1, -1, 65, -1, 66, 11, -1, 74, 8, -1, 8, -1, 58, -1, 15, 83, -1, -1, -1, -1, 49, -1, -1, 87, 85, 4, 6, -1, -1, -1, 83, 33, -1, -1, 14, -1, 3, 13, 53, 74, 30, 74, 74, 14, 33, 43, -1, -1, 3, -1, 9, 53, -1, 61, 6, 6, -1, -1, -1, -1, 7, -1, 13, 33, 94, 95, 29, -1, -1, 14, -1, 85, 33, -1, 13, 13, -1, 9, -1, 54, 89, -1, -1, -1, -1, -1, 14, -1, -1, -1, -1, -1, 53, -1, -1, -1, 16, 72, 6, 26, -1, -1, -1, 29, 29, -1, -1, -1, -1, -1, -1, -1, -1, -1, -1, -1, 86, 8, -1, 19, 29, 29, 19, 53, 19, 25, -1, 30, -1, -1, 6, -1, -1, -1, -1, 8, 22, 22, 27, 8, -1, 23, 58, -1, 8, 89, -1, 13, 13, 53, 13, -1, 13, 13, -1, 13, 33, -1, 13, -1, 33, 13, -1, 13, -1, 33, 13, 13, 13, -1, 8, -1, -1, 9, -1, 30, -1, 64, -1, 30, -1, -1, 71, -1, -1, -1, -1, 14, 43, 80, 43, 33, 30, 80, -1, 22, 22, 22, -1, -1, -1, 31, -1, 30, -1, 9, -1, 9, 8, 86, -1, -1, 8, 70, -1, 70, 70, 30, 33, 43, 43, -1, -1, -1, 8, -1, -1, -1, 19, 45, 0, 29, -1, 96, 96, 56, -1, -1, 8, 68, -1, 33, 50, -1, 45, -1, 30, 30, -1, 8, -1, 85, -1, 89, 60, 33, 8, 71, -1, -1, -1, 30, -1, 8, -1, -1, -1, -1, 6, 6, -1, 8, 30, 84, 74, -1, 8, -1, 8, 9, 50, 12, 9, 9, 45, 85, 45, 33, 13, -1, -1, -1, 54, 83, -1, 66, -1, -1, 96, 13, -1, -1, 33, -1, 75, 71, -1, 32, -1, 30, 26, 24, 9, 9, 35, -1, 8, 8, -1, -1, -1, 9, 13, 13, 13, -1, -1, 9, -1, 8, -1, 30, 30, 65, -1, 35, -1, 65, -1, -1, -1, -1, 33, -1, 89, -1, 58, 53, -1, -1, -1, 8, -1, -1, 53, 8, -1, -1, 9, 32, 8, -1, -1, -1, -1, 70, -1, 65, -1, -1, -1, -1, -1, -1, -1, 53, 8, -1, 4, -1, 9, -1, 61, 8, 8, -1, 65, -1, -1, 21, -1, -1, 9, 90, 86, 85, 58, -1, -1, 53, 13, 13, 29, 45, 45, 10, 73, 91, -1, 11, -1, 33, 73, 10, -1, -1, -1, 91, -1, -1, 83, -1, 45, 18, -1, -1, -1, -1, -1, 13, -1, 53, 53, 35, -1, 18, 53, 70, 70, -1, -1, 24, 13, -1, -1, -1, -1, 70, -1, 65, 65, -1, 8, 85, 65, 81, -1, -1, -1, -1, 29, 8, -1, 8, 8, 10, 10, 10, 8, -1, 72, 68, 9, 8, 32, 32, 10, 20, 20, 20, 45, 8, 33, 8, 55, 55, 12, 33, 89, 74, 20, 89, 89, 16, 33, 34, -1, -1, 33, -1, -1, 58, -1, -1, 53, -1, 61, -1, 72, -1, -1, 6, 13, 13, 32, 37, 58, -1, 68, 69, 72, 8, 29, 53, 29, 29, 89, -1, 8, 8, 8, 64, -1, 29, 12, 8, 12, -1, 8, 8, 21, 8, -1, 45, 16, 16, -1, -1, -1, 18, 28, -1, -1, -1, 8, -1, 18, 10, -1, -1, 23, 9, -1, -1, -1, -1, 64, 13, 31, 8, -1, -1, -1, -1, 74, -1, 83, -1, 8, -1, 83, -1, -1, -1, -1, -1, 58, -1, 55, 72, 10, -1, -1, -1, 29, -1, 33, 45, 20, -1, 8, 22, -1, 34, -1, -1, 9, 30, -1, 34, 2, -1, -1, 9, 9, 8, 8, -1, -1, -1, 88, 23, -1, -1, 70, -1, 65, -1, 34, 8, -1, 32, -1, 8, 8, 50, -1, 32, 8, 8, -1, 8, -1, 15, -1, -1, -1, -1, -1, -1, -1, 8, -1, -1, -1, -1, 15, 8, 76, 50, -1, 73, 15, -1, 5, -1, 15, 8, 58, 70, -1, -1, -1, -1, 58, 83, -1, -1, -1, 8, 29, -1, -1, -1, 74, 74, 8, 16, 8, 16, -1, -1, -1, 12, 28, 50, 8, 2, 9, 8, 8, 69, 37, 8, -1, -1, -1, -1, 89, 58, 89, -1, 68, -1, -1, 19, 68, 83, 58, 8, 73, -1, 97, -1, 30, -1, -1, 90, -1, 16, 36, 68, 85, 69, -1, -1, 30, -1, 47, -1, 83, -1, -1, -1, 55, -1, -1, -1, -1, -1, 37, -1, -1, 9, 13, 74, -1, 69, -1, 9, 72, -1, 69, 65, -1, 68, -1, 71, 89, -1, -1, -1, -1, 89, -1, -1, 80, 8, 14, -1, -1, 30, -1, 52, 65, -1, 68, 81, 21, 72, -1, 8, -1, -1, -1, -1, -1, 8, 29, -1, 23, -1, -1, 18, -1, -1, 32, 74, 4, -1, 68, -1, 85, 85, 85, 85, -1, 16, 53, 8, 8, 96, 0, -1, 45, -1, 8, 8, 45, 6, 8, 70, -1, -1, -1, 75, -1, -1, -1, 8, -1, -1, 93, 15, 56, 8, 6, 73, 75, -1, 18, -1, -1, 56, 33, -1, -1, 15, -1, 81, -1, -1, -1, -1, 3, -1, 8, 8, 8, -1, 20, 8, -1, 20, -1, -1, 8, 27, -1, -1, -1, 8, 68, -1, -1, 8, -1, 16, 68, 61, 61, 45, -1, 20, 20, 61, 8, 83, -1, -1, -1, -1, -1, -1, -1, -1, -1, -1, 35, -1, 45, -1, 61, -1, -1, -1, 6, -1, -1, 34, -1, -1, -1, -1, -1, 14, 10, 53, -1, -1, -1, -1, 29, 65, -1, 81, 8, -1, -1, -1, -1, 65, 65, -1, 84, -1, -1, 53, -1, 33, 65, 73, -1, -1, -1, 36, -1, 55, 8, 8, 6, 45, 61, 45, 30, -1, -1, 8, 83, 4, -1, -1, 30, 9, -1, -1, 8, 8, 58, 61, 9, 33, 70, 8, 8, -1, 8, 8, 15, -1, 15, 29, 89, 29, -1, 29, -1, 10, -1, -1, 9, 9, 8, -1, -1, -1, 9, 20, -1, 53, -1, -1, 8, -1, 8, -1, -1, 4, -1, 89, 8, -1, 95, -1, 5, -1, -1, -1, 87, 10, 16, -1, 16, 16, 53, -1, -1, -1, 81, 4, -1, 53, -1, -1, 67, 67, 4, -1, 93, 16, -1, -1, 16, 52, 18, -1, -1, 8, -1, -1, -1, 8, 8, -1, -1, 8, -1, -1, -1, 21, -1, 95, 95, 80, -1, -1, -1, -1, 18, -1, -1, -1, -1, -1, -1, -1, 32, 49, -1, 6, -1, -1, -1, 23, -1, -1, -1, -1, 1, 19, -1, 4, -1, 6, 32, -1, 64, 54, 98, 29, -1, 65, -1, 65, 65, 65, 65, 65, 6, 53, 65, 65, -1, -1, 89, 89, 8, 8, 85, -1, -1, -1, -1, -1, 8, 8, 10, 85, -1, -1, 29, 54, -1, 8, 8, -1, -1, 68, -1, -1, 14, -1, -1, 32, 16, -1, -1, 16, 8, -1, -1, -1, 16, 16, -1, 67, -1, 5, -1, 8, 30, 65, 65, 50, -1, 65, 65, 65, -1, 8, -1, -1, 8, 5, -1, 33, 27, -1, -1, 8, -1, -1, 0, 16, 30, -1, 16, 16, 16, -1, -1, -1, -1, 89, 97, 97, 74, 74, 89, 73, 16, -1, 89, -1, 8, -1, -1, -1, -1, 8, 16, 30, 89, 89, -1, -1, 73, -1, 89, -1, 10, -1, 31, -1, -1, -1, 5, 89, 8, 97, -1, -1, 16, 53, 53, 89, 73, 3, -1, -1, 16, 4, -1, -1, 73, 81, -1, 44, 19, 33, 19, 85, -1, 85, -1, 85, 4, 74, -1, -1, -1, -1, 6, 11, -1, 29, 33, 97, 89, 74, -1, -1, -1, 73, 86, -1, 97, 72, 97, -1, -1, -1, -1, -1, -1, 74, -1, 79, 89, 89, -1, 89, 53, -1, -1, -1, 89, 89, -1, 89, 38, 97, 97, -1, 18, -1, -1, -1, 89, -1, 89, 16, -1, 33, 4, 79, 83, 70, 27, 74, 79, -1, -1, -1, -1, 53, -1, -1, 68, -1, -1, 87, -1, 53, 97, -1, -1, 97, 13, -1, -1, 8, 8, 97, -1, -1, 53, 89, 89, 21, 74, -1, -1, 66, -1, 79, 40, -1, -1, -1, 63, -1, 68, 29, 4, 33, 68, 89, -1, 5, 5, -1, 68, 53, 53, 14, 79, 89, 89, 83, 89, 68, 83, 4, -1, -1, -1, -1, 64, -1, -1, 73, 5, 5, 53, -1, -1, -1, 27, 83, 32, 66, -1, -1, -1, 27, 54, -1, 60, -1, -1, -1, -1, -1, 74, -1, 74, -1, -1, -1, 53, -1, 14, -1, 96, 18, -1, -1, -1, 79, 14, -1, -1, 70, 79, -1, 53, -1, -1, 73, -1, 6, -1, -1, -1, 33, -1, 61, 14, 33, 89, 85, -1, -1, 89, -1, -1, 14, 89, 37, -1, -1, 89, 63, -1, -1, -1, 70, 25, -1, 85, -1, 89, -1, 42, -1, -1, -1, -1, 95, 95, 33, 97, -1, -1, -1, -1, 12, -1, 3, 53, 29, -1, 85, 68, -1, -1, -1, 89, -1, -1, -1, 95, 60, 29, -1, 53, -1, -1, -1, -1, -1, -1, -1, 70, -1, 48, 60, -1, 8, -1, -1, 96, -1, -1, -1, 16, 9, 34, 49, 5, 4, 9, 47, 96, -1, 16, 45, 8, -1, -1, 97, 6, -1, -1, -1, -1, 4, 9, -1, -1, -1, 97, 20, 33, -1, -1, 9, 25, 8, 32, -1, -1, 6, 72, -1, -1, 6, -1, 28, 40, -1, 63, 97, -1, 33, -1, 86, 49, 9, -1, 49, 97, 89, 97, -1, 85, 89, 9, -1, -1, -1, -1, 53, -1, 72, 9, 9, 33, 80, -1, -1, 6, 80, 0, -1, 95, -1, -1, 16, 66, 73, -1, -1, -1, -1, -1, -1, -1, -1, -1, 95, 95, -1, 21, 64, -1, -1, -1, -1, 27, 32, 44, 83, -1, -1, 1, -1, -1, 97, -1, 3, -1, -1, 68, -1, -1, 97, -1, 3, 3, 3, 95, -1, 97, 68, 8, 33, -1, 95, 86, 15, 60, -1, 8, -1, 95, 60, 97, -1, 10, -1, 37, 60, -1, 3, 11, -1, -1, 8, 10, 16, -1, 77, 74, 44, 47, 89, 89, 16, 70, 89, 89, 95, -1, -1, 72, -1, -1, 90, 3, 5, 39, -1, 56, -1, 89, 30, -1, 86, -1, 45, 12, 49, 86, -1, -1, 4, 37, 6, -1, -1, 84, 86, -1, -1, -1, 89, -1, 6, 86, -1, -1, -1, 86, -1, -1, 86, 9, 94, -1, -1, -1, 8, -1, -1, 73, 89, 33, -1, 73, 54, 86, -1, -1, -1, 89, -1, -1, 49, 19, -1, -1, 4, -1, 70, -1, 53, 3, -1, -1, 89, 85, 29, 4, 85, 32, 3, 1, 74, 74, 74, -1, -1, 45, 86, 49, 38, 33, 19, -1, 3, 3, -1, 48, -1, 58, 49, -1, 85, 3, -1, 37, 49, -1, -1, -1, 3, 3, -1, -1, -1, 90, -1, -1, 20, 18, -1, -1, 16, 19, 49, 89, -1, -1, -1, -1, 65, -1, -1, -1, 89, -1, 27, 27, -1, -1, 45, -1, 14, 68, -1, 68, 85, -1, 10, 89, -1, -1, 4, 53, 20, 58, 20, 89, -1, -1, 68, -1, -1, -1, 20, -1, 8, 49, 35, -1, -1, -1, 3, 93, -1, 90, -1, 80, -1, 3, 49, -1, -1, -1, -1, 49, 49, 3, 14, 49, 49, 49, -1, 89, -1, -1, 33, 86, -1, 30, -1, 89, -1, 3, 20, -1, 14, 49, 29, 45, 8, 68, -1, 0, 29, 85, 71, -1, 49, 76, 76, 49, 10, 49, 49, -1, -1, 97, 49, -1, 35, 35, -1, -1, -1, -1, -1, 49, 49, -1, -1, -1, -1, 38, -1, 49, -1, 12, -1, 30, 45, -1, 28, -1, 49, 49, -1, -1, 49, -1, 53, 89, 34, 29, 49, 49, 60, 49, 49, -1, 49, 97, 60, -1, -1, 60, 49, -1, 83, -1, -1, 49, -1, 60, 53, -1, 53, 23, -1, -1, 72, 97, 89, 68, -1, -1, -1, 24, -1, -1, 32, 93, -1, 80, -1, 41, -1, -1, -1, 5, -1, 97, -1, 97, 97, -1, -1, -1, -1, 33, 95, 14, 45, 8, 49, -1, -1, 89, -1, 49, -1, -1, 18, -1, 3, 5, -1, -1, -1, -1, -1, -1, -1, 97, 97, 97, 49, -1, -1, 97, -1, -1, -1, 49, 49, -1, -1, 49, 14, 97, -1, -1, 97, -1, -1, -1, 30, 5, 5, 11, 49, 49, 97, 30, -1, 97, -1, 30, -1, -1, 16, -1, -1, -1, 30, 74, 30, 49, 80, -1, 29, 45, -1, 30, -1, 97, 49, 49, -1, -1, 97, 75, 74, 33, -1, -1, -1, -1, -1, 53, 53, 20, 45, -1, 52, 3, 90, 30, -1, 14, 58, 68, 68, -1, 49, -1, 30, 53, 4, 66, 30, 8, 32, 68, 74, 89, 53, 49, 49, -1, -1, -1, -1, 49, 13, 95, 93, 30, 5, -1, 8, 16, 89, 30, 94, -1, 53, 60, -1, 30, -1, 53, 97, -1, -1, -1, 49, 30, 97, 49, 20, 59, 60, 49, 60, 33, -1, -1, 49, 60, 60, -1, -1, 53, 60, 8, 25, -1, -1, 97, -1, -1, 20, -1, -1, -1, -1, -1, -1, 49, 45, -1, 45, 23, -1, 83, 16, 45, 45, -1, -1, -1, 73, -1, 6, -1, 50, 53, 3, 83, -1, 53, -1, -1, -1, 3, 3, -1, -1, 5, 97, 97, 43, -1, -1, -1, 97, -1, 97, 49, 33, -1, -1, 28, -1, 94, -1, -1, -1, -1, -1, -1, -1, -1, -1, -1, 86, 86, 12, 3, 9, -1, -1, -1, 14, 16, -1, 61, 24, 94, 86, 86, 74, 45, 86, 24, 49, -1, 86, 49, -1, 74, 25, -1, -1, 53, -1, 14, 87, 60, -1, 60, -1, -1, -1, -1, 49, -1, 60, -1, -1, 0, -1, 16, -1, -1, 97, -1, 49, -1, 86, 56, -1, 21, 44, 60, 3, -1, -1, 52, -1, -1, 95, -1, 23, -1, -1, -1, 60, -1, 86, -1, -1, -1, -1, -1, -1, -1, 97, 97, -1, -1, -1, -1, 97, 3, 97, 97, -1, 97, 97, 5, 97, 97, 97, 95, 73, -1, -1, -1, -1, 85, -1, -1, 45, -1, 32, -1, -1, 83, 30, -1, -1, -1, -1, 16, -1, 60, 60, 3, 12, -1, -1, 12, -1, -1, -1, 74, 38, -1, 83, 8, -1, -1, -1, 30, 61, 70, 97, -1, -1, 8, 89, 60, -1, 68, 89, 61, 66, 59, -1, 73, 89, 83, -1, 83, 89, -1, 61, -1, 60, -1, -1, 97, 1, 49, 61, -1, -1, 22, 14, 18, 25, -1, 60, 97, -1, 30, 32, -1, -1, 97, 97, -1, -1, 14, -1, 60, 60, -1, -1, 60, 60, 89, -1, 16, 45, 60, 27, -1, -1, 73, 32, 74, 29, -1, -1, -1, -1, -1, 53, -1, -1, -1, -1, 97, 49, 66, 66, 16, 60, 87, -1, -1, 29, -1, -1, -1, -1, -1, 89, -1, -1, 60, -1, 97, -1, -1, -1, -1, -1, 3, 68, -1, 27, 53, 97, -1, -1, 66, -1, -1, 49, 18, -1, 74, -1, -1, 89, -1, 87, 87, -1, -1, -1, -1, -1, 10, 35, 97, -1, 14, -1, -1, -1, 73, -1, -1, 60, 73, 97, -1, -1, -1, -1, 25, 73, -1, -1, 12, -1, -1, 6, -1, 49, 12, 27, -1, 32, 49, 32, 66, -1, 32, 3, 8, -1, -1, 1, 8, -1, 60, 66, -1, -1, -1, 97, -1, 74, -1, -1, -1, 72, -1, -1, 89, -1, 53, -1, 29, 89, 47, 70, -1, -1, -1, -1, -1, 53, -1, -1, -1, 32, -1, 89, -1, 85, 73, 53, -1, -1, -1, -1, -1, -1, 97, 64, -1, -1, -1, -1, 32, 6, 93, -1, -1, 10, -1, 97, -1, -1, 90, -1, 14, 20, 67, 60, 45, 9, -1, 82, 47, -1, -1, 97, -1, -1, 12, -1, 79, 97, -1, 74, 12, 12, 12, -1, 12, 12, -1, 9, 65, -1, 73, -1, -1, 38, -1, -1, -1, 66, -1, -1, 73, 73, 43, -1, -1, 47, -1, -1, -1, -1, -1, -1, -1, -1, -1, -1, 97, -1, 89, -1, -1, -1, 32, -1, 82, 66, -1, -1, -1, 29, -1, -1, -1, -1, -1, -1, -1, 4, 14, 95, 32, -1, -1, 89, 6, 37, 13, 71, 60, 6, -1, -1, 4, -1, 30, -1, 45, 74, 73, -1, -1, -1, 36, -1, -1, 60, -1, -1, 73, 16, 34, -1, 32, 53, -1, -1, 6, -1, 38, 66, 74, 73, 73, -1, 95, -1, 8, -1, 74, 20, 73, 9, -1, 97, 36, -1, 3, 16, 87, 15, -1, 38, -1, -1, -1, -1, 8, -1, 21, 73, -1, -1, -1, 86, -1, -1, -1, -1, 27, -1, -1, 2, -1, 73, -1, -1, 15, 31, 73, -1, -1, -1, -1, 9, 8, 9, -1, 53, 8, -1, 8, 74, -1, 9, 9, -1, 73, 63, -1, 9, 73, 73, 45, -1, 8, -1, 9, -1, 49, 73, 74, -1, -1, 10, 73, -1, -1, -1, -1, 83, -1, -1, 4, 4, 83, 83, 4, 82, 83, -1, -1, -1, 82, 66, -1, 6, 54, 82, 82, 82, -1, 12, 32, 40, 83, -1, 42, 31, 36, 71, 9, -1, 9, 31, 71, 3, 47, 47, 54, -1, 21, 29, 88, -1, 21, 21, 3, 54, 42, -1, 54, 54, -1, 52, 50, 40, 54, 33, 87, 31, 36, 54, 83, 54, -1, 29, 54, 3, -1, -1, 54, 88, -1, 83, 88, 81, 11, 54, 74, -1, 72, -1, -1, -1, -1, -1, -1, 54, 40, 54, -1, -1, 88, 64, 71, 37, 64, -1, -1, 39, -1, 54, 88, 19, -1, 6, 29, 29, 63, 88, 29, 92, 43, 70, 6, 54, 3, -1, 64, -1, 36, 36, 61, -1, 14, 70, 70, 29, 88, 73, -1, -1, 30, 86, 75, -1, 29, -1, -1, 18, 61, 61, -1, 61, 61, 22, 55, -1, -1, 30, -1, 69, 54, 29, 29, 21, 20, 21, 21, 20, 21, -1, 21, 21, 18, 72, 21, 54, 54, 54, 98, 54, 8, -1, 50, 70, 47, 47, 49, 96, 33, -1, 88, 2, -1, -1, 28, 21, 54, -1, 9, 9, 54, -1, 28, 54, 31, 42, -1, -1, -1, 31, 54, 11, 20, 21, 50, 88, 88, -1, -1, -1, 18, 26, 88, 54, 70, -1, 54, 43, 29, 29, 6, 70, 34, -1, -1, -1, -1, 9, 15, -1, -1, 0, 38, 3, 64, -1, 33, 33, -1, 54, 64, 31, 64, 88, 8, 26, 2, 2, -1, 18, 75, 26, 54, 12, -1, 2, -1, -1, 8, -1, -1, -1, -1, 54, -1, 6, 54, 54, 9, 2, 13, -1, -1, 54, 54, 13, 34, 2, 85, 19, 23, -1, 0, -1, -1, -1, 83, -1, -1, 4, 2, 17, 34, -1, 54, 29, 98, 42, -1, 19, 96, -1, -1, -1, 42, -1, -1, -1, 42, 42, 61, -1, 64, 71, 71, -1, -1, -1, -1, -1, -1, -1, 42, 2, 2, -1, 5, -1, -1, 18, 42, 42, 42, -1, -1, -1, 42, 3, -1, -1, -1, -1, 54, 88, 42, -1, 13, -1, 42, 42, -1, -1, 83, -1, -1, 42, -1, 55, 75, 61, -1, -1, 21, 75, -1, 96, -1, -1, -1, 9, -1, 21, -1, -1, -1, -1, -1, 21, -1, -1, 54, 98, -1, 96, 50, 50, 37, 17, 9, -1, 98, 47, 84, 58, 64, -1, 20, -1, -1, -1, -1, 72, 54, 3, 79, 92, -1, 50, 58, 54, 72, 9, -1, 84, 88, 88, 47, 9, -1, 35, 54, -1, 6, 78, 8, 10, 71, -1, -1, -1, 43, 46, 3, -1, -1, 61, -1, -1, -1, 3, -1, -1, 43, -1, 47, 31, 43, 61, 54, 19, 43, 33, -1, 33, 18, 54, -1, -1, 3, 3, -1, -1, -1, 29, 83, 54, -1, 17, -1, 18, -1, 16, -1, 33, -1, 54, 29, 46, 71, 29, 26, 88, -1, -1, -1, -1, 54, -1, -1, 26, 54, -1, -1, -1, -1, 71, 54, 75, 8, 3, 71, 9, 88, 34, -1, -1, 54, 22, 54, -1, 44, -1, 54, 54, 54, 7, -1, 9, -1, 43, 71, 43, 54, -1, 49, 49, 4, 26, -1, -1, -1, 54, -1, 8, 26, 21, 54, 21, 21, 76, 39, 0, 12, 3, 6, 96, 30, 88, -1, -1, -1, 88, -1, 63, -1, 54, 12, 88, -1, 87, 58, 3, -1, 3, 3, 82, -1, -1, 82, 88, -1, -1, 97, -1, 3, 6, 3, -1, -1, -1, 54, -1, 6, 17, 95, 97, -1, 4, 6, 14, 54, 16, 89, 12, 6, 6, 26, -1, -1, 54, 88, -1, 36, -1, -1, 22, 70, 58, 50, 26, 87, 26, 26, 10, 42, 45, 12, 54, 10, -1, 82, -1, 1, -1, -1, 5, 42, 14, 17, -1, 3, 58, 35, 45, -1, -1, -1, 88, -1, 19, -1, -1, -1, 18, -1, 70, -1, 6, 97, -1, -1, -1, -1, -1, 33, 72, 37, 80, -1, 97, -1, 17, -1, -1, 32, 32, 6, 26, -1, -1, -1, 6, -1, -1, 18, 17, -1, -1, 6, -1, -1, 97, -1, -1, -1, 71, -1, 63, -1, -1, 88, 17, 97, -1, 31, 97, -1, 17, -1, 97, 54, -1, 54, 85, -1, -1, -1, -1, -1, 29, 29, 29, -1, 68, -1, 96, 72, -1, 42, -1, 29, 26, -1, 42, 29, -1, -1, -1, 17, 26, -1, -1, -1, 51, 97, 26, 26, 26, -1, 24, -1, 26, 30, -1, 26, 52, -1, -1, -1, 26, 26, 42, 26, -1, 42, 18, -1, 26, -1, 29, 3, 27, -1, 3, -1, -1, -1, 49, 29, -1, 43, 19, 42, 3, -1, 29, 42, 42, 96, 96, -1, 3, 29, 52, 29, -1, -1, 96, 96, 29, 52, 3, 90, 4, 8, -1, 25, 62, 4, -1, -1, 44, -1, 56, -1, -1, -1, 49, 56, -1, 55, 55, -1, 47, 47, -1, 64, 19, 42, -1, 29, -1, 31, -1, -1, 72, 61, 18, 40, -1, -1, 9, -1, 9, 9, 28, 85, -1, 58, -1, 72, 17, 17, -1, -1, 12, 76, 8, 8, 2, 54, 17, 54, 96, 11, -1, 17, -1, 4, -1, -1, -1, 17, 17, 12, 4, 54, -1, 52, -1, 17, 67, -1, -1, -1, 96, 76, 64, 17, 75, 54, -1, -1, -1, -1, 17, 17, 54, 76, 50, 42, 76, -1, 84, 34, 42, 42, 42, 42, 61, 4, -1, 31, 97, -1, 97, 18, -1, 88, 26, 97, 83, 98, -1, 97, 97, -1, 85, -1, 49, 17, 42, 13, -1, -1, 73, 64, 68, 45, 45, 17, 35, 97, 17, -1, 22, 17, -1, 17, 10, 58, -1, 71, -1, 17, -1, 17, 17, 17, 17, -1, -1, -1, 98, -1, -1, -1, 17, 64, 52, -1, 35, -1, 35, -1, 35, -1, 35, -1, -1, 61, -1, -1, 36, -1, 33, 33, 6, -1, -1, 4, 30, 64, 61, 6, 36, 64, 36, -1, -1, -1, -1, 0, -1, 37, -1, 29, 64, 61, -1, -1, -1, -1, 98, -1, 9, 72, 1, 40, 13, -1, -1, 6, -1, -1, -1, 76, 30, 61, 86, 98, 61, 29, 33, 42, -1, 29, 12, -1, 29, -1, 29, 68, -1, -1, -1, 3, 3, 34, 26, 72, 72, -1, -1, 58, 86, 15, -1, 68, 39, 75, 42, 32, 11, 52, -1, -1, 52, 13, -1, 29, 32, 21, 42, 3, 64, 6, 6, 61, 20, 64, 64, 79, 66, 66, -1, 66, -1, 42, -1, 33, 42, -1, 42, -1, 9, -1, 17, -1, 31, -1, 88, -1, 28, -1, -1, 61, 61, 30, 43, 31, 31, 24, 50, -1, 61, -1, 6, 31, 88, 68, -1, 3, 52, 42, 2, -1, 52, 3, 3, -1, -1, -1, -1, 28, 28, -1, 58, -1, 98, 98, -1, -1, 28, 28, 3, 58, -1, 61, -1, -1, -1, 43, 58, -1, -1, -1, -1, 8, -1, 61, 61, -1, -1, 73, -1, -1, -1, 33, 68, -1, -1, 86, -1, 34, 43, -1, 3, 58, 21, 36, -1, -1, 12, -1, -1, -1, 60, -1, 52, -1, -1, -1, 6, -1, 3, 6, -1, -1, -1, -1, 84, -1, -1, -1, -1, -1, 21, 43, 21, -1, -1, -1, 21, 64, 64, -1, 4, 31, -1, -1, 83, -1, 18, -1, 58, 36, -1, -1, -1, 3, 76, 3, -1, -1, 32, 6, 43, -1, -1, -1, 88, 33, -1, 88, 88, -1, -1, 18, -1, -1, 42, 72, 64, 58, 58, 58, 58, -1, 96, 18, 18, -1, -1, 75, 88, -1, 2, 54, 8, -1, 9, 36, 69, -1, -1, 42, 98, 8, 11, 58, 21, -1, -1, 3, 33, 43, -1, 71, -1, -1, -1, 34, 42, 71, -1, 6, -1, -1, -1, -1, 71, 42, 4, 96, -1, -1, 18, 64, 2, 34, 96, -1, 84, -1, -1, 42, 42, 88, -1, 25, -1, -1, -1, -1, 61, -1, 6, 61, -1, -1, 5, -1, 61, 47, -1, 6, -1, 5, 93, 96, 83, 34, 75, -1, 69, -1, 42, 84, 84, -1, 29, 29, -1, -1, 58, 28, -1, 6, -1, 29, -1, 3, -1, -1, 96, 12, -1, 5, -1, 58, 3, 70, -1, -1, -1, 5, 58, 58, 78, 43, -1, 43, -1, -1, -1, 3, -1, 43, 3, 43, 40, -1, 58, -1, -1, 37, 83, 3, -1, -1, 21, 21, -1, -1, -1, -1, -1, -1, -1, -1, -1, -1, -1, -1, 18, 96, 2, -1, -1, 54, 3, 18, 96, -1, 3, 5, -1, -1, 64, 3, -1, 64, 32, 54, -1, 64, 30, 56, 56, 36, -1, 31, 6, 43, 5, 85, 92, 43, 69, -1, 4, -1, -1, 86, 61, 75, -1, 75, -1, 8, 52, 6, 37, -1, 84, 72, 11, -1, -1, -1, -1, -1, -1, -1, -1, -1, -1, 32, 36, 21, -1, -1, 28, 40, 68, -1, 61, 55, 55, 70, 55, 6, -1, 52, 58, 61, -1, 98, -1, 20, 52, 52, 69, 9, 58, -1, 52, -1, 53, 33, -1, 24, 33, 8, 96, -1, 33, -1, -1, -1, 43, 4, -1, -1, 43, 96, 61, 61, 42, 61, 6, 54, 3, 21, -1, 36, -1, 36, 36, -1, -1, -1, -1, 96, 75, 84, 34, -1, 33, 96, -1, 18, 9, -1, -1, -1, 58, 61, -1, -1, -1, 55, 96, -1, 18, -1, 55, 61, 33, -1, -1, 26, -1, -1, 69, -1, 64, 96, 31, -1, 43, -1, 43, -1, -1, -1, 37, 16, 23, -1, -1, 64, 2, -1, 21, -1, 40, -1, -1, 43, 44, -1, -1, -1, -1, -1, 20, 64, 64, -1, 21, 21, 63, 31, 64, -1, 43, -1, 43, 96, -1, -1, 21, 37, -1, -1, 3, -1, -1, -1, -1, -1, 75, 3, -1, 58, 96, 3, 68, 3, 3, 14, 3, 6, -1, -1, 96, -1, -1, -1, 21, -1, 87, 28, 52, 75, -1, -1, 3, 35, -1, 16, 6, 73, -1, 42, 16, 10, 58, -1, 18, -1, 50, 50, -1, 87, 50, 87, -1, 45, -1, 64, 58, 58, 18, 31, 20, 52, 52, 58, -1, 6, 34, 18, -1, 3, 37, 12, 37, -1, -1, 74, 32, 45, -1, 3, 9, -1, -1, 54, 73, -1, 25, 58, 13, 42, -1, 9, 68, 84, 25, -1, 61, 53, -1, -1, 53, 5, -1, 50, 16, -1, -1, -1, 32, 50, 6, 22, -1, -1, -1, 45, 5, 47, 2, 64, 43, 42, 75, 84, 43, 31, 96, 37, 42, 16, 98, -1, 42, -1, 63, 20, 83, 42, 9, 20, -1, 61, 34, -1, 64, 75, -1, 10, -1, 98, 96, -1, 42, 71, -1, 43, -1, 18, 21, 3, 3, 33, -1, 21, 3, 3, -1, -1, 84, -1, 83, 53, 68, 96, 21, -1, -1, 2, 3, 54, 54, 3, -1, 35, 61, 18, 3, 6, -1, 43, 84, -1, 6, 43, 28, 3, 35, 43, -1, 98, -1, -1, 14, 3, 61, 75, 12, 28, 3, 64, 3, 72, -1, 72, 58, 34, 61, -1, 85, -1, 37, -1, 32, 21, -1, -1, 40, 96, -1, 68, 42, -1, -1, 58, 96, -1, 85, 85, 25, 16, 54, 73, 86, 80, -1, 83, 40, -1, -1, 3, -1, 3, 40, -1, 88, 58, 36, 68, 3, -1, 61, 3, -1, 3, 3, 43, 3, -1, -1, 75, 39, 75, 75, -1, -1, 43, 71, -1, -1, -1, -1, 43, 71, 43, 33, -1, -1, -1, -1, 43, 40, -1, 22, 21, 35, -1, -1, 88, 19, 49, -1, 16, 66, -1, 0, 43, 6, -1, -1, -1, 40, 54, 28, -1, 6, -1, 14, -1, 71, -1, 69, 88, -1, -1, -1, 76, 98, 98, 42, -1, -1, -1, -1, 68, 24, 73, 6, 6, -1, 14, -1, 6, 30, 3, -1, 6, 32, -1, 88, 25, 56, 3, 30, 68, 68, -1, 43, -1, -1, 43, 6, 3, 26, -1, -1, 61, 98, 68, 96, 68, -1, 10, -1, 42, -1, -1, -1, 42, 0, -1, -1, 11, 42, 42, -1, 12, 50, -1, -1, 20, 20, 20, 13, -1, -1, 64, 64, 98, -1, 17, 17, -1, -1, -1, -1, 71, 68, 58, 98, 71, 43, 43, 9, -1, 16, -1, 16, -1, 32, -1, 16, -1, 20, 20, 16, 20, 52, 52, 33, -1, 20, 52, 58, -1, -1, 9, 33, 31, 6, 82, 10, 4, 82, -1, -1, 98, -1, -1, -1, 52, -1, -1, 42, -1, 8, 98, -1, 35, 20, 52, 9, 58, -1, 16, 58, 50, -1, -1, -1, -1, 16, 61, -1, -1, 5, 61, 98, 10, -1, -1, 5, 76, 16, 14, 14, 45, -1, -1, -1, -1, -1, 83, -1, 20, 5, 5, 12, 69, -1, 68, 12, 68, -1, -1, -1, 73, -1, 5, -1, -1, -1, -1, -1, -1, 87, 83, 39, 83, -1, -1, -1, -1, 87, 4, -1, 4, 83, -1, 13, 61, 0, -1, -1, -1, -1, 28, -1, 3, -1, -1, -1, -1, -1, -1, -1, -1, -1, 18, 11, 59, -1, -1, -1, -1, 72, -1, -1, -1, 9, 35, 4, -1, 71, -1, -1, 72, 3, -1, 8, -1, 43, -1, 94, -1, 70, -1, -1, 4, -1, -1, 5, -1, 43, 31, -1, -1, 71, -1, 28, 28, 21, -1, 95, 10, -1, 21, -1, -1, 67, -1, -1, -1, 43, -1, -1, 43, -1, 47, -1, 71, 16, -1, 70, -1, -1, -1, -1, -1, -1, 71, 28, 6, 6, 58, 3, 3, 38, 3, -1, 3, -1, 71, 28, 6, -1, 21, 68, -1, -1, -1, 28, 54, -1, 3, 3, 56, 2, 42, -1, 5, 22, 69, 83, 33, 63, 63, -1, 50, -1, -1, 50, -1, 9, 9, 12, 12, -1, 32, -1, 43, -1, 50, 50, 50, 2, -1, 21, 18, 56, 56, 56, 50, 6, -1, -1, -1, 44, -1, 50, 76, -1, 76, 50, -1, 18, 47, 12, 42, -1, 55, -1, -1, 31, -1, -1, 34, 34, 50, 9, -1, -1, -1, -1, -1, -1, -1, -1, 72, 9, -1, 98, -1, -1, -1, 9, -1, 87, -1, -1, 12, 0, 9, -1, 71, 20, 50, -1, -1, -1, 9, 87, -1, -1, -1, -1, 12, 87, -1, 50, 29, -1, 50, -1, -1, -1, 29, 98, 98, 50, 22, 9, -1, 50, -1, 50, 9, 13, 9, -1, -1, 9, -1, 6, -1, 9, 45, -1, -1, 58, 74, 58, -1, -1, -1, 43, 71, -1, -1, 59, 31, 21, 21, 34, -1, 50, 31, 50, 3, -1, -1, 21, -1, -1, -1, -1, 17, 71, 21, 6, 21, -1, -1, 98, 98, 3, 3, 98, 98, 98, 75, 42, 42, 2, 2, 87, -1, -1, -1, 98, -1, 21, 20, 20, 78, 78, 45, -1, -1, 50, -1, 21, 21, 78, -1, 2, -1, -1, 50, -1, 12, 56, 21, -1, -1, -1, 98, -1, 21, 21, 64, -1, -1, -1, 64, -1, -1, -1, 98, 96, 20, -1, 29, 21, -1, 98, 98, 20, 98, 78, 61, -1, -1, -1, -1, 78, 78, -1, -1, 71, 20, 2, 11, -1, -1, 64, 32, 23, 53, 84, 61, -1, -1, 2, 2, 2, 2, 2, -1, -1, 50, 2, 34, 2, 2, 18, -1, 56, 10, 24, 78, 50, 43, 2, 2, 2, 2, 63, 68, 68, -1, 29, -1, -1, 45, -1, 45, 45, -1, -1, -1, 78, -1, -1, -1, 10, 69, 22, 22, -1, 22, -1, -1, 2, 43, 78, 28, -1, 22, 47, -1, 28, 45, -1, -1, 88, 18, 21, 2, 28, -1, -1, -1, 78, -1, -1, -1, 70, 9, 78, 78, 56, -1, -1, 52, -1, 96, -1, -1, 56, -1, -1, 22, 56, 50, -1, -1, -1, 50, -1, 40, -1, -1, 20, 47, 18, -1, 6, 40, 20, -1, -1, -1, -1, 20, 22, -1, 33, -1, -1, 64, -1, -1, -1, -1, -1, -1, 56, 78, -1, 61, -1, 40, -1, -1, 8, -1, -1, 50, -1, -1, 64, 35, 64, 35, 61, 61, 64, 18, -1, -1, -1, -1, 24, 75, 29, -1, -1, 84, -1, -1, -1, -1, -1, 42, -1, -1, -1, 33, -1, -1, 96, -1, 84, 70, -1, 69, 5, 34, 34, -1, 61, 96, 61, 61, 95, 95, 95, 5, 68, 64, 61, 95, 98, 20, 96, 5, 24, -1, 5, -1, -1, -1, 5, -1, 73, -1, -1, 5, -1, -1, 20, 20, 78, 8, -1, -1, 68, 5, -1, -1, -1, -1, -1, 10, 26, -1, 23, -1, -1, -1, -1, -1, 63, 10, -1, -1, -1, 86, -1, 86, 83, -1, -1, 40, -1, 70, 18, -1, -1, -1, 26, -1, -1, 85, 85, -1, 73, 86, -1, -1, 73, -1, -1, 85, 73, -1, -1, -1, -1, 5, -1, -1, -1, 74, 20, 31, -1, 3, -1, -1, -1, -1, 85, -1, 86, -1, -1, -1, -1, -1, -1, 58, 86, 50, -1, -1, 30, -1, 42, 70, -1, -1, 35, 35, -1, -1, -1, 58, -1, -1, 50, -1, 18, 88, 18, -1, 56, 26, 26, -1, 88, 31, -1, 26, 26, 26, 26, 26, 18, 26, 26, 26, 26, -1, -1, 6, 6, -1, -1, 50, -1, 6, 6, -1, -1, 71, 4, 11, -1, 72, 69, 17, -1, 73, 26, -1, 25, 23, 35, 14, -1, 41, 64, 56, -1, 71, -1, 68, 35, -1, 50, 70, -1, -1, -1, 26, 26, 26, -1, 26, -1, -1, -1, 50, 26, -1, 6, -1, -1, 86, -1, -1, 44, 58, -1, -1, -1, 44, 88, 34, 75, 26, 97, -1, 26, 72, -1, -1, 72, 97, 73, -1, 5, 97, -1, 32, 84, 50, 14, 56, -1, 56, 26, -1, 70, 35, 50, 29, 5, -1, -1, -1, -1, -1, -1, -1, -1, -1, 1, 10, -1, 35, 75, 97, -1, -1, 26, 75, 5, -1, -1, -1, 42, 56, -1, -1, 58, -1, 68, -1, -1, 26, 50, 56, -1, -1, 64, -1, -1, -1, 50, 50, 70, 3, -1, 97, 97, 44, 65, 50, -1, 16, -1, 87, -1, 49, 71, -1, 20, -1, -1, -1, 56, -1, 65, 65, 65, -1, -1, 86, 86, -1, 9, -1, -1, -1, 36, 19, 16, 16, 18, -1, 62, 9, 85, 73, 9, -1, 26, -1, 9, 9, 64, -1, -1, 34, 18, 17, -1, 5, 63, 9, 17, 17, 17, -1, 89, 73, 86, -1, -1, 26, -1, -1, -1, 5, 17, 17, 17, 14, 73, 20, 73, -1, -1, 61, -1, -1, 86, 22, -1, 42, 35, -1, 85, 45, -1, 20, 29, -1, -1, 20, 75, 3, 74, -1, 33, 26, 88, 78, 23, 20, 20, 18, 20, 20, 71, 56, 20, -1, -1, 88, 6, 26, 85, -1, 31, 49, -1, -1, 45, 18, -1, -1, 45, 47, 85, 85, 68, 56, 45, 45, 45, 46, -1, -1, -1, -1, 73, 64, 20, 20, 30, 26, 2, 20, 75, 88, -1, 71, 14, 88, 14, 26, 35, 25, 4, 31, -1, 32, -1, -1, 22, -1, 96, 96, 42, 20, 42, 42, -1, 26, 1, 42, 15, 3, 4, -1, 85, -1, 61, -1, -1, 71, -1, -1, -1, -1, 20, 83, -1, 33, -1, -1, 42, -1, 79, 26, 88, -1, 50, 50, 84, 31, 79, -1, 42, 31, 54, 42, 42, 20, 96, 82, -1, 17, 35, 64, 2, 2, -1, 71, -1, -1, -1, -1, -1, 3, -1, 78, 34, -1, 88, -1, -1, 56, 43, 17, 78, -1, 72, -1, 50, -1, 26, 26, 26, -1, -1, -1, -1, -1, 18, 97, 6, 13, 4, 17, -1, -1, 17, -1, 19, 2, 97, 97, -1, 24, 21, 17, -1, -1, 17, 43, 17, -1, 78, 46, 20, 21, -1, -1, -1, -1, 47, 1, -1, 20, 21, -1, 43, 17, 17, 17, 63, 17, 17, 67, 31, -1, 21, 24, 24, 21, -1, 31, 63, 42, 42, 26, 31, 2, 2, 23, 23, -1, -1, 35, -1, -1, 2, 31, -1, 26, -1, -1, 50, 21, 26, 10, 85, 26, -1, -1, -1, 52, 31, 6, 42, -1, 24, 6, 96, -1, -1, -1, 37, 26, 31, -1, 6, -1, 22, -1, -1, 21, -1, 98, 98, 20, 26, -1, -1, 20, -1, 17, 70, 9, -1, 21, -1, -1, -1, 31, 31, -1, 13, 15, -1, 43, 71, 78, 34, 33, -1, 34, 79, -1, 45, -1, 71, -1, 71, -1, -1, -1, -1, 32, -1, 27, -1, 97, -1, 49, 26, 70, -1, 78, -1, 71, -1, -1, 43, 44, 88, 6, 70, -1, 63, -1, 71, 70, 70, 2, 42, -1, -1, 71, 88, -1, 18, -1, 36, -1, 43, -1, -1, 71, -1, -1, 21, 34, 37, 21, -1, -1, -1, -1, 34, 88, 13, -1, -1, 74, 18, -1, -1, -1, -1, 56, 15, 13, 32, -1, 88, 10, -1, 88, -1, 21, 21, -1, 20, 78, -1, 47, -1, 3, 83, 17, 86, 42, 2, 42, 6, 21, 71, 4, 78, 31, 31, -1, -1, 18, -1, -1, 13, -1, 5, 16, 88, 17, -1, 78, 20, 78, 78, -1, 33, -1, 30, 26, -1, 50, -1, 21, 69, -1, -1, 20, 18, -1, 71, 71, 21, 21, -1, -1, 78, -1, -1, -1, 78, -1, -1, -1, 78, 78, 55, 31, -1, 21, 2, -1, 70, 59, -1, 71, 71, -1, -1, -1, -1, 33, 33, 31, 75, 21, -1, -1, -1, -1, -1, -1, 21, 64, 21, 21, 43, -1, 9, 63, 68, 18, 6, 6, 6, 31, 24, -1, -1, -1, 34, 47, -1, -1, -1, -1, 11, 50, 37, -1, -1, -1, 50, -1, 84, 78, -1, -1, 78, 71, 9, 95, -1, -1, -1, 78, -1, 7, -1, -1, 61, 26, 79, -1, 15, 42, -1, -1, -1, -1, 95, 95, -1, -1, -1, 78, 71, 71, 13, -1, 21, 21, 21, 21, 45, 13, 0, 8, 34, 26, 26, -1, -1, -1, 26, -1, -1, 43, -1, 86, -1, 35, -1, -1, -1, -1, 37, -1, -1, -1, 82, 95, 50, 50, -1, 95, -1, 31, 43, 43, 95, -1, 6, -1, -1, 34, 34, -1, 54, 86, 86, 82, -1, 2, 34, -1, -1, 47, -1, -1, -1, -1, -1, -1, -1, 36, -1, 75, -1, -1, 37, -1, 89, -1, -1, -1, 28, 89, 23, 26, 23, -1, -1, 42, -1, -1, 31, -1, 53, -1, -1, 21, -1, 43, -1, 78, 78, -1, 85, 88, 71, 50, -1, 26, 6, 26, 69, -1, 50, 27, -1, -1, 33, 20, 98, 20, 71, 50, 22, -1, -1, 98, 96, -1, 78, 78, 78, -1, 6, -1, 6, 50, 31, 36, -1, 36, -1, -1, -1, -1, -1, 26, 31, -1, -1, 31, -1, 26, -1, 31, 78, 32, 43, 78, -1, 42, -1, 46, 22, -1, 89, 9, 10, 86, 59, 2, 34, -1, 96, 96, 34, 23, -1, -1, 4, -1, -1, -1, 2, 34, 34, -1, 70, 34, 64, -1, 61, -1, 43, 33, 85, 31, -1, 34, 34, -1, 23, -1, 12, 12, 42, -1, -1, 71, 71, 71, -1, 82, 43, 47, -1, 71, -1, 71, 71, -1, -1, -1, -1, -1, -1, -1, 26, -1, -1, 34, 31, -1, 72, -1, 43, 42, -1, 96, -1, -1, 6, 50, 3, 9, -1, 26, -1, -1, 31, 43, 54, -1, 42, 96, -1, -1, -1, -1, 31, -1, -1, 96, -1, 16, -1, -1, 42, -1, 68, -1, -1, -1, 96, 37, -1, -1, -1, 42, -1, 43, -1, 5, 70, 43, 71, 43, 88, -1, -1, 68, 26, 96, 42, -1, 32, 96, 68, 96, 96, -1, 96, -1, -1, -1, 96, 96, 50, -1, 34, -1, 3, 96, 56, 96, 20, -1, -1, 66, 96, 96, 20, 61, 3, -1, 42, 20, 96, 96, -1, 20, 82, -1, -1, -1, 43, 55, 43, 20, -1, 43, 83, -1, -1, -1, -1, 98, 50, -1, -1, 47, 84, -1, -1, 61, 61, -1, -1, 36, -1, -1, 36, 71, -1, 82, 42, -1, -1, 34, 20, -1, 35, 96, 56, 20, -1, 16, -1, 16, -1, -1, -1, 22, 20, -1, -1, -1, -1, 54, -1, -1, -1, 39, -1, -1, 78, -1, -1, -1, -1, -1, -1, -1, 58, 86, 96, 26, -1, -1, -1, 20, 50, -1, -1, -1, 18, 50, -1, 37, -1, 61, 20, -1, -1, -1, -1, 34, -1, 34, -1, 30, -1, -1, 78, -1, -1, -1, 30, 12, -1, -1, -1, 79, 71, 26, -1, 26, -1, 34, 50, -1, 50, 43, -1, 49, 47, 8, -1, 72, -1, 10, -1, 75, -1, -1, 32, -1, 98, 34, -1, -1, 34, 84, 50, -1, -1, -1, -1, 50, -1, -1, 22, -1, 13, -1, 20, 34, 85, 54, 50, 50, 46, -1, 75, -1, 73, -1, -1, 50, -1, -1, 85, 85, 73, -1, -1, -1, -1, 49, -1, 50, -1, 19, 18, -1, -1, 19, -1, 50, 50, 97, 50, -1, -1, 5, -1, 21, -1, -1, -1, -1, -1, 50, 21, 50, -1, 6, 43, -1, 31, 42, 34, 42, 42, 78, 36, -1, 21, -1, -1, 50, 96, 36, -1, -1, 78, 50, -1, -1, 68, -1, 37, 21, 31, 43, -1, -1, 6, -1, -1, -1, -1, 26, 37, -1, 42, 84, 37, -1, 42, 42, -1, 31, -1, -1, 42, 42, 42, 21, 42, -1, 42, 42, -1, -1, -1, 20, -1, -1, 34, 19, 34, 11, 96, 96, 34, 34, 34, 34, 38, 42, 34, 34, 34, 96, -1, 68, 64, 64, -1, 37, 34, 34, 63, 34, 34, 34, 42, 42, 42, 96, 54, 75, 75, 33, -1, 29, 21, 42, -1, -1, 20, -1, 18, -1, 17, 61, 61, -1, -1, -1, -1, -1, 73, -1, 69, 24, 24, 71, 21, -1, 28, 22, 23, -1, -1, -1, 50, 30, 42, -1, -1, -1, 31, 8, 26, 20, 31, -1, 33, -1, 34, 46, 34, 2, -1, 10, 3, -1, 78, 78, -1, 78, 78, -1, 34, 34, 34, 43, 43, 70, 2, -1, 43, 21, 21, 3, 64, 34, 3, 95, 43, 34, -1, 42, 21, -1, 72, -1, -1, 43, -1, -1, 68, -1, 58, 58, 72, -1, 20, 20, 20, -1, 71, -1, -1, 71, 42, -1, -1, 54, 61, 61, 61, -1, -1, 71, -1, 61, 43, 42, 71, -1, -1, -1, 42, -1, 43, -1, -1, 42, 94, 50, -1, 42, 82, -1, 34, 69, -1, 33, -1, 42, 35, 71, -1, -1, -1, 64, -1, 42, 50, 42, 42, 21, 2, 71, 16, 79, 71, -1, -1, 49, 69, -1, 58, 2, 71, 18, 24, -1, 43, 71, -1, 71, -1, -1, -1, -1, 2, -1, 21, 21, 21, 42, 2, 63, -1, -1, 71, 71, -1, -1, -1, 43, -1, 18, -1, 61, 84, -1, 31, 83, 72, -1, -1, 21, 36, 71, 61, 28, -1, 2, -1, 28, 69, 71, 71, -1, -1, -1, 23, 96, 28, 2, 2, 2, -1, 23, 36, 53, -1, 85, -1, 2, 19, -1, -1, 2, -1, 55, 55, 9, 82, 2, 2, -1, -1, 82, 42, 6, 3, 3, 85, 42, 9, 63, -1, -1, -1, -1, -1, 42, -1, -1, 34, 6, -1, 82, 82, 21, -1, -1, 82, 3, -1, -1, 21, 83, -1, -1, -1, 29, 86, 2, 73, 22, -1, -1, 50, 76, 70, 10, 75, 50, 53, 61, 64, 78, -1, 78, 2, 22, -1, -1, -1, 37, 5, -1, 52, 42, 64, 37, 64, 96, -1, 2, 43, 24, 6, 39, 50, 29, 42, -1, 42, -1, -1, -1, -1, -1, 30, -1, -1, 42, -1, -1, -1, 43, -1, 3, -1, 43, 96, 13, 2, -1, 42, 42, 21, -1, 90, 16, 49, -1, 34, 18, -1, 18, 4, 18, 26, 26, 27, 5, -1, -1, 5, 56, -1, 98, 71, 78, 42, -1, 42, 42, 21, -1, 21, -1, -1, 18, -1, 73, 30, -1, -1, -1, -1, -1, -1, 42, -1, 71, 42, 71, -1, 84, 8, -1, -1, -1, 21, 76, 72, 98, 98, 98, -1, -1, 68, -1, 76, 42, -1, 0, 15, 55, 21, 42, 36, 76, -1, 9, -1, 18, 18, 54, 50, 50, 42, -1, 42, 54, 54, 76, 42, 54, 2, -1, 96, -1, 21, -1, 21, 9, 21, 21, -1, 61, -1, 21, 39, 21, 21, 12, -1, 83, -1, 54, -1, -1, 98, 26, 9, -1, -1, 90, -1, 54, 3, -1, -1, 43, -1, -1, 42, 43, 64, 2, 2, 64, 69, 20, 68, 50, 2, 37, 9, -1, 9, 2, -1, -1, -1, 98, 1, -1, -1, -1, 34, 72, -1, 75, -1, 6, 2, 6, 56, 32, -1, 64, -1, -1, -1, 12, 96, 12, -1, 70, 56, 70, 38, 32, 98, -1, -1, 26, 47, -1, 12, 70, 56, 76, 50, 56, 76, 56, 50, 47, 76, 12, 12, 83, 75, 85, 12, 98, 98, 12, 76, 76, 42, 42, 42, 76, 61, 34, 36, -1, 31, 22, 26, 61, 43, -1, -1, -1, -1, 72, -1, 3, 68, 76, 76, 43, 98, 49, -1, -1, 24, 76, -1, -1, 43, -1, 78, 78, 78, 20, -1, 34, 76, 69, 21, 78, 21, -1, -1, 21, 43, -1, 21, 88, -1, 64, 14, 72, 96, 45, 98, 64, 54, 83, -1, 49, 34, -1, 31, 98, -1, 64, 64, 12, 76, -1, 12, 98, 31, 43, -1, 23, 69, 20, 69, 34, 32, 98, -1, -1, -1, -1, -1, 34, 42, 42, 23, 42, 2, -1, 2, 72, 42, -1, -1, -1, 75, 42, -1, -1, 68, 18, 84, 2, 2, -1, -1, -1, -1, 42, 76, 62, -1, 76, 24, 76, -1, 84, 56, 45, 34, -1, 34, 34, 6, -1, -1, -1, 34, -1, -1, 65, 34, -1, 68, 31, 75, 3, 88, 31, 75, 34, 69, 29, -1, 73, -1, -1, -1, 12, -1, -1, -1, 26, -1, 88, -1, -1, -1, -1, 16, 92, 43, 71, 21, -1, 76, 75, -1, 69, -1, 18, -1, -1, -1, 76, 42, -1, -1, 86, 70, -1, 37, 68, -1, -1, 69, -1, 69, 69, -1, 18, -1, 43, -1, 43, -1, -1, -1, -1, -1, -1, -1, 88, 54, -1, 5, 43, 22, 31, -1, 43, -1, -1, 30, -1, -1, 70, 43, -1, -1, -1, -1, -1, 43, 76, 43, 36, 43, -1, 46, -1, -1, -1, 43, 76, -1, -1, 50, -1, 72, 76, 69, -1, -1, -1, -1, 76, -1, 49, -1, 83, 72, 23, -1, 12, 6, 50, -1, 76, 21, 24, -1, 43, -1, 75, 76, -1, 61, 21, 50, -1, 42, 4, 14, 28, 42, 42, 21, 88, 37, -1, 71, 50, 50, 38, -1, 54, 26, 76, 92, -1, -1, 37, 72, 71, 71, -1, 43, 32, 64, -1, 75, 71, 32, -1, 76, 73, 76, -1, 14, 98, 31, -1, 50, 76, 9, -1, 12, -1, 76, -1, -1, 96, -1, -1, 61, 96, 96, -1, -1, -1, 72, 31, -1, 21, 98, 76, 21, 21, 92, -1, 98, 87, 50, -1, 50, -1, 3, 75, -1, -1, 83, -1, 4, 50, 87, -1, 24, -1, -1, 68, -1, 28, 83, 85, 87, -1, 12, -1, 45, 12, 9, -1, 36, -1, -1, 4, 64, -1, 50, 24, 13, -1, -1, -1, 12, 76, 83, 76, 54, 66, 83, 76, -1, 42, 6, 76, -1, 83, 76, -1, -1, 42, -1, 76, 87, -1, 76, -1, 50, -1, -1, 28, -1, -1, -1, 54, 24, 75, -1, 31, 71, 28, 54, 96, 33, -1, -1, 20, 71, -1, 12, 61, -1, 33, -1, -1, -1, 8, 82, -1, 72, -1, 55, 9, 8, 8, 11, -1, 81, -1, -1, 46, 46, 46, 8, 78, 35, -1, -1, 88, 44, 46, 46, 8, 46, 8, -1, 71, 63, 46, -1, -1, -1, 88, 25, -1, -1, 61, 61, 61, 69, 61, -1, -1, 61, -1, -1, 49, -1, -1, 46, 49, 35, -1, -1, 19, 60, 60, 60, 46, -1, 46, 2, -1, -1, -1, 46, 2, 23, 46, -1, -1, 36, 46, 32, 32, 46, 46, 21, 46, -1, 52, -1, -1, -1, 35, -1, -1, 15, 64, 70, -1, 37, 29, 63, -1, 76, 46, -1, -1, 76, -1, 46, 46, 5, -1, 46, 47, 13, 2, 2, -1, 88, 46, 70, 46, 35, 35, -1, 11, -1, 44, 37, 72, 82, -1, 14, 19, 14, 81, 63, 6, 46, 26, -1, -1, 6, 55, -1, 46, 52, 96, 83, 52, 85, -1, 73, 72, 0, 92, 43, -1, 34, 46, -1, 21, 21, -1, -1, 0, 44, 35, 31, 69, -1, 69, -1, 83, -1, 52, 70, 6, 92, 46, 8, 46, 0, 36, 35, 12, 96, 11, -1, -1, 46, -1, -1, -1, 46, 42, 42, 37, -1, 98, 46, -1, 31, 8, -1, 31, 92, 2, -1, 46, -1, -1, 26, -1, 56, 55, 72, 72, 54, -1, -1, 88, 36, 92, -1, 32, 8, 49, 46, 46, 46, 46, 96, -1, -1, 90, 96, 96, 19, -1, -1, 96, -1, 19, -1, 8, 46, 13, 46, 4, -1, 36, 47, 47, 88, -1, 49, 89, 55, 46, 40, -1, 12, 61, 18, 46, 46, 88, 88, 8, 46, -1, 98, 98, -1, 35, -1, 46, -1, 69, 0, 44, -1, 95, 46, 35, -1, 46, -1, 87, -1, -1, -1, -1, -1, 69, -1, -1, 8, 92, 46, 35, 76, 3, 3, -1, -1, 71, 92, 10, 46, 92, 92, -1, 82, -1, -1, 0, -1, 20, -1, 37, 92, -1, -1, -1, 78, 46, -1, -1, 66, -1, 36, -1, 8, 63, -1, -1, 61, 8, 46, -1, 10, 0, 85, 34, 46, -1, -1, 3, 16, 42, -1, 18, 35, -1, 33, 35, 35, 69, 83, 21, 98, 88, -1, 43, 8, 46, -1, -1, 35, 35, 35, 72, 17, 46, 8, 8, 46, 46, 31, 2, 88, 46, 22, 35, 37, 0, -1, -1, 46, 8, -1, 92, -1, 35, 13, 46, 76, 46, 76, -1, -1, -1, 24, -1, -1, -1, -1, 46, -1, 46, 43, 92, -1, -1, 92, 92, 61, -1, 2, 92, -1, -1, -1, -1, 82, 22, -1, 56, 92, -1, 33, 22, -1, 27, 0, 11, -1, 4, 6, -1, 44, 70, -1, 25, 32, -1, 92, 69, -1, 22, 22, 34, 16, 14, -1, 92, 23, 29, 88, -1, -1, 49, -1, 69, 46, 0, -1, -1, -1, 6, -1, 6, 35, -1, 20, 9, 9, 68, 88, -1, 46, 29, 11, 73, -1, 37, -1, -1, 32, -1, -1, -1, 79, -1, 79, 56, 56, 56, 46, -1, 35, 76, -1, -1, -1, 37, 22, 46, 0, -1, 98, 27, 88, 92, 32, -1, 43, 92, 59, 35, -1, 26, -1, -1, 11, -1, -1, 35, 70, -1, -1, 92, -1, 35, 6, -1, 36, -1, 32, -1, -1, -1, -1, -1, 94, -1, 95, 95, 95, 70, -1, 36, 70, 92, 92, -1, 35, 35, 22, 92, 46, -1, 35, 79, 79, 79, 79, 79, 79, 79, 79, 88, -1, 35, 35, 35, -1, 9, -1, -1, 3, 69, 46, 24, 25, -1, 33, 19, 79, 79, 68, 8, 46, 69, 46, 31, -1, 31, 0, 2, 37, 70, 38, -1, -1, -1, -1, 37, -1, 35, 46, 19, -1, 24, 73, 35, 35, 94, -1, 52, -1, -1, 92, -1, 46, -1, -1, 8, 31, -1, 46, 69, 8, 31, 8, 88, -1, 9, -1, 35, 92, 34, 22, 36, -1, -1, -1, 46, -1, 92, -1, 4, 9, 15, 19, 9, -1, -1, 36, -1, -1, -1, -1, 35, 35, -1, 3, -1, -1, -1, -1, 8, 43, 0, -1, 21, -1, 21, 3, 17, 70, 22, 0, 92, 46, -1, 4, 5, 29, -1, 19, -1, 30, -1, -1, -1, 9, -1, -1, 46, 92, 9, -1, -1, 31, 0, 35, 69, 12, 70, -1, 85, -1, 35, 46, 35, -1, 92, -1, -1, 94, 66, 35, -1, 35, 35, 69, 35, -1, -1, -1, 10, -1, 8, 32, 29, 46, 21, 46, 8, -1, 33, -1, 38, 35, 92, 22, -1, 6, 36, 92, 18, 46, 30, 46, 92, 92, 55, -1, -1, -1, 43, -1, 53, -1, 30, 43, -1, -1, 32, 16, 22, 46, 70, 23, 44, 97, 92, 35, -1, -1, 8, -1, 46, 92, 35, -1, 98, -1, 92, 9, 9, -1, -1, -1, -1, 6, 35, 97, -1, 97, -1, 34, -1, -1, 35, 69, 69, 13, 36, -1, -1, 92, 13, 21, 89, -1, 8, 8, -1, -1, -1, 36, 23, 56, 22, 46, -1, 32, 46, 46, -1, 92, -1, 37, 78, 30, -1, -1, -1, -1, 24, -1, -1, -1, -1, 92, -1, 46, 35, -1, 12, -1, -1, 9, -1, 9, 22, 46, 46, 83, 69, 20, -1, -1, -1, 9, -1, -1, -1, 92, 35, -1, -1, 9, 46, 46, -1, 92, 2, 2, 2, -1, 47, -1, 69, 9, 9, 9, -1, -1, 72, 35, -1, 35, 9, 51, 36, -1, 35, 2, 2, -1, 92, 35, -1, 46, 2, 15, -1, -1, 35, 98, -1, 72, -1, 36, 11, 36, 14, 35, 36, -1, 17, 35, 2, 35, 75, -1, 33, -1, -1, -1, -1, -1, 9, 2, -1, -1, -1, 9, 9, 69, -1, -1, -1, 9, 46, -1, 92, 92, -1, 46, -1, 76, 76, -1, 8, -1, -1, 92, -1, 31, 35, 31, -1, -1, 35, -1, 13, 9, -1, 43, -1, 11, 92, 78, 69, -1, 35, 35, 87, -1, -1, -1, 35, -1, 71, 79, 71, -1, -1, 92, 9, 9, 9, 9, -1, 25, 92, 46, 9, 9, -1, -1, 35, -1, 32, -1, 92, 20, 9, -1, -1, 9, 9, -1, -1, 2, -1, 46, -1, 30, -1, -1, 52, 73, 35, 40, 24, 69, 2, 69, 50, 35, 36, 92, -1, -1, -1, 21, -1, 46, -1, 92, 36, -1, 43, 92, -1, 35, 19, 92, 19, 92, 22, 92, -1, -1, 43, -1, 46, 35, 30, -1, -1, -1, -1, 92, 0, 98, -1, -1, 11, -1, -1, 92, 92, 75, 24, 43, 92, 35, 24, 6, 10, 10, 35, 58, 35, 24, 92, 69, 58, 24, 46, 43, -1, 5, 32, 35, 6, 92, 92, -1, 22, 25, 22, 10, -1, 43, 34, -1, -1, 26, -1, -1, 92, 35, 92, 46, 8, 46, 6, 8, -1, -1, 46, 92, 12, 5, 35, 69, 76, 46, 35, 35, 92, 46, 31, -1, 92, 43, 32, -1, 10, 88, 6, 38, 19, -1, 98, -1, 75, 28, -1, 6, 96, 46, 32, 36, 92, 43, 43, 2, -1, -1, 92, 92, 2, 69, -1, 35, 46, 46, 8, 21, 23, -1, 46, 70, 35, -1, 92, -1, 52, 63, 24, -1, -1, -1, -1, -1, -1, -1, -1, -1, 52, 92, 46, 52, 69, 92, 92, 43, 46, -1, -1, 36, 52, 43, 92, 35, 92, 92, 92, 92, 92, 43, -1, 70, 35, -1, 43, 50, 26, -1, 92, 92, -1, 46, 46, -1, 14, 36, 25, 88, 13, -1, 45, -1, -1, -1, 43, 25, -1, -1, -1, -1, 46, 52, -1, 19, 19, 44, 40, 44, -1, -1, -1, -1, -1, 52, 19, 24, 43, 19, 37, 68, 18, 92, 49, 32, 23, 6, 92, -1, 86, 43, 43, 11, 83, 20, 83, 20, 20, -1, 31, 69, 5, 6, 6, 43, 24, -1, 71, -1, 24, 31, -1, 36, 43, 6, -1, 22, 23, -1, 35, 79, 31, -1, 68, 3, 69, -1, 6, 12, 46, 19, 31, 47, -1, -1, 3, 98, 82, 84, 46, -1, -1, 70, 11, 25, 69, 73, 35, -1, 6, 25, 56, 20, 6, -1, 4, -1, 40, -1, 6, 20, -1, 6, 37, 64, 49, 12, 64, 35, 78, -1, -1, 20, 20, 20, 31, 2, -1, 20, 20, 78, 78, -1, -1, -1, -1, -1, 12, -1, 60, -1, -1, 20, 20, 16, 20, 20, 35, 64, 83, 11, 9, 4, -1, 55, 33, 32, 95, -1, -1, -1, -1, -1, 34, -1, 46, 20, 46, 21, -1, 56, 78, 46, 35, -1, 2, 31, 38, 19, 12, 12, 50, 42, 2, 47, -1, -1, -1, -1, 32, 8, 31, 31, 2, 37, 18, 32, -1, -1, 30, 30, 26, 26, 16, 30, 12, 98, 40, 30, 32, 32, 30, -1, -1, 10, 30, 30, 30, 17, 30, 30, 61, -1, 31, 6, 36, -1, 1, 15, -1, -1, 70, -1, -1, 32, -1, -1, 5, 30, -1, 46, -1, 32, 6, -1, 22, 30, 12, 21, -1, -1, -1, 6, 80, 31, 75, 37, 81, 43, -1, 6, 20, -1, -1, 2, -1, 12, -1, 6, 2, -1, 17, 63, -1, -1, -1, 22, 18, -1, 31, 76, 76, 20, 20, 31, 2, 16, -1, -1, 17, 17, -1, -1, 55, 26, 3, -1, -1, -1, -1, -1, -1, 13, -1, 71, -1, 26, -1, -1, 84, -1, -1, 34, 2, 2, 2, 34, 2, 2, -1, 71, 55, 21, -1, 30, -1, 4, 79, -1, 78, 79, -1, 31, 34, 2, 2, -1, -1, -1, -1, -1, -1, -1, -1, 6, 6, -1, 45, -1, -1, 75, 21, 34, -1, -1, -1, 54, 2, 20, 4, 17, -1, 17, 87, 7, 21, 20, -1, 2, 2, -1, 21, -1, -1, 82, 2, 70, -1, -1, 83, 21, 37, -1, 12, 20, 72, -1, 21, -1, 3, 38, 11, -1, 17, 95, 21, -1, 30, 52, 21, 24, -1, 31, 34, 31, 21, 21, 21, 41, 28, -1, 72, -1, 31, -1, 43, -1, -1, -1, 6, -1, -1, 33, -1, 12, 97, 97, 31, -1, -1, -1, -1, -1, 2, 59, -1, -1, 66, -1, 52, -1, -1, -1, 30, 22, 31, 44, 97, -1, 35, 96, -1, 96, -1, 4, 44, 4, 96, 96, -1, -1, 96, -1, 81, -1, 37, 88, 68, -1, 95, 72, 96, -1, 45, 37, 47, -1, -1, -1, -1, 47, 47, -1, -1, -1, -1, 6, 4, -1, 31, -1, -1, 79, -1, 54, -1, -1, 36, 17, -1, 32, 19, 72, 11, -1, 72, -1, 49, -1, -1, 2, 2, 2, 2, -1, 2, 2, 2, 2, -1, 31, -1, 31, 31, 32, -1, 28, 31, 32, 47, 26, 37, 30, 22, -1, -1, 31, 31, 19, 61, 16, 31, 13, 39, 54, 96, -1, 96, 14, 31, 31, -1, 31, 31, 6, 31, 31, 55, 71, 38, 55, 55, 96, 96, 89, 8, 6, 19, 95, 32, 25, 33, 6, 90, 27, 40, -1, 96, -1, 49, -1, -1, 31, 31, 50, 21, -1, -1, 21, -1, 6, -1, 55, -1, -1, 33, 32, 6, -1, 74, -1, -1, 72, -1, -1, -1, 19, -1, 6, 36, 79, -1, 73, -1, 0, -1, -1, -1, 64, 55, 26, 71, -1, -1, 73, 86, 3, 2, 40, -1, 34, 24, 6, 55, -1, 34, 31, -1, 55, 69, -1, -1, 12, 90, 2, 2, 2, 31, 31, 2, 31, -1, 2, 31, -1, 94, 16, -1, 5, 5, -1, 70, -1, 70, 86, 69, 75, 72, 6, -1, 2, 2, 6, 2, -1, 25, 2, 6, -1, 26, -1, 0, 70, -1, 19, -1, -1, -1, -1, -1, 24, -1, 71, 2, -1, -1, -1, 42, 42, -1, -1, -1, 76, 69, 6, 70, -1, 98, 98, 98, 18, -1, 82, 31, 31, 31, 70, 34, -1, -1, -1, -1, -1, 56, -1, -1, -1, 70, -1, -1, 2, 61, 31, 31, -1, -1, -1, 70, 13, 42, 42, -1, -1, 5, -1, -1, 5, -1, 19, 53, 2, 2, -1, 5, -1, 13, 80, 19, 74, 25, 58, 17, -1, 2, 2, 2, -1, 6, -1, -1, -1, -1, -1, -1, -1, 18, -1, 18, -1, -1, -1, 94, -1, 2, 34, 79, -1, -1, 26, -1, -1, 42, 42, 42, 13, 86, -1, -1, -1, 2, 2, 34, 2, 20, 73, -1, 2, 98, -1, 33, -1, 19, 35, 60, 61, -1, 45, 31, 31, -1, 20, 20, -1, 20, 20, 70, 13, 3, 27, -1, -1, -1, 20, -1, 35, 81, 5, 98, -1, -1, -1, -1, 2, -1, 0, -1, 34, -1, 2, 50, -1, -1, 13, 13, -1, -1, 82, 26, -1, 33, -1, 35, 31, 12, -1, 31, 72, -1, 13, -1, -1, 69, -1, -1, 98, 98, 13, 13, 13, -1, 13, 8, -1, 13, 24, 35, 43, -1, 13, -1, 78, 19, 0, -1, -1, 78, 78, 13, 50, -1, -1, -1, 24, -1, 12, 13, -1, 56, 10, -1, -1, 2, 31, 2, 2, -1, 32, -1, 22, 78, 64, -1, -1, 52, -1, -1, 28, 62, 62, 32, 31, 46, 78, 19, 19, 19, 19, -1, -1, 46, 78, -1, -1, 78, 78, -1, 16, 78, 40, 78, 16, 78, -1, -1, 78, 78, 88, 78, -1, 98, -1, 49, -1, 78, 28, 38, 64, -1, -1, -1, 2, 56, 2, 96, -1, -1, 78, 78, 12, -1, 22, -1, -1, -1, 21, 78, -1, 6, -1, -1, 31, 31, 31, 6, 50, 50, 55, 55, 55, 33, 69, -1, 50, -1, 81, 31, 75, 42, -1, 31, -1, -1, 79, -1, 9, -1, 31, 31, 31, 31, 86, 33, -1, -1, 6, -1, -1, 6, -1, 22, 98, 98, 18, -1, -1, 82, -1, 20, -1, 97, -1, -1, -1, -1, 70, 83, -1, 54, 46, -1, 4, 32, 9, 73, -1, -1, -1, 13, -1, -1, -1, 73, -1, 55, 35, 13, -1, -1, -1, 55, 31, 33, 50, 55, -1, -1, 13, 32, 46, -1, -1, -1, 55, 55, 2, 86, 2, 31, 5, 55, -1, -1, -1, 0, 93, 4, 8, 13, 55, 17, 32, -1, -1, 21, 32, 21, 78, -1, 86, 88, 70, 26, 85, 85, 98, -1, 10, -1, 45, 34, 37, -1, 68, 75, 81, 4, 19, -1, -1, -1, -1, 59, -1, 31, -1, -1, 17, 58, -1, -1, 6, 6, 85, 88, 82, 2, 68, 78, 78, -1, -1, -1, -1, 54, 75, -1, 85, -1, -1, 6, 6, 68, -1, -1, 19, -1, 85, 26, -1, -1, 58, -1, 20, 82, 69, 13, -1, 71, 29, 20, -1, -1, 10, 29, 52, 96, 3, 20, 34, 5, 23, -1, 20, -1, 8, -1, 34, -1, 96, 96, 78, 81, -1, -1, -1, -1, 6, -1, 70, 50, 35, 71, 6, 37, 3, 54, 24, -1, 38, 64, 50, 4, 31, 31, 72, 47, -1, 75, 18, 81, 4, -1, 64, 40, 95, 64, -1, -1, 64, -1, 64, -1, 20, 88, 82, 56, -1, 50, 50, 71, 20, -1, -1, 2, 88, 31, 64, 82, -1, 20, 0, 64, 18, 98, 98, 10, 98, 64, 78, 64, -1, 60, -1, 79, 79, 16, -1, 42, 18, -1, 79, -1, 79, 42, 42, 42, 42, 54, 88, 88, 88, 33, 42, 31, 32, 42, 2, 2, 2, 42, 2, 78, 2, 2, 19, 42, -1, -1, 88, 96, -1, 42, -1, 20, 20, 19, 10, 34, 64, -1, 6, 50, -1, -1, -1, -1, 6, 71, -1, 96, 46, -1, 50, 42, 50, -1, 82, 49, 37, -1, 13, 37, -1, 13, 50, 16, 50, 68, 70, 69, 26, 64, -1, 18, -1, -1, 82, 82, 88, 48, 31, 31, 31, 31, 31, 82, 9, 34, -1, 50, 82, 50, 82, 82, 31, 81, 22, 40, 88, 88, 50, 50, 82, 9, 34, 82, 43, -1, 75, 88, 88, 45, 30, 16, 21, 78, -1, 5, 21, 78, 29, -1, 52, 50, -1, -1, -1, 18, 98, 40, 42, -1, 96, 31, 46, 21, -1, -1, 50, -1, 32, -1, -1, -1, 73, 96, 15, 46, 46, 4, 46, -1, 55, 40, -1, -1, -1, 46, -1, 76, 76, 6, -1, 31, -1, -1, 31, -1, -1, -1, 6, 79, 25, -1, 73, 26, 74, 2, -1, 32, 31, -1, 43, 43, -1, 6, 58, 35, 64, 16, 53, 18, 49, 13, 18, -1, 82, -1, 82, 4, 24, -1, -1, -1, 96, -1, 96, 35, 20, 46, 5, -1, 43, 21, 35, -1, 24, -1, 24, 19, -1, 0, 34, 19, -1, 96, -1, 32, -1, -1, 32, -1, -1, -1, 32, -1, -1, 31, -1, 45, 34, 31, 31, 31, 1, 56, 69, -1, 78, 78, 22, 49, -1, 37, -1, -1, -1, 6, 2, -1, -1, 60, 43, 36, 78, 78, -1, 59, 34, -1, 56, 56, 6, -1, -1, 62, 62, 70, 56, 56, 8, 2, -1, 56, 6, -1, -1, -1, -1, -1, 83, -1, 50, -1, -1, 8, -1, 8, 2, 10, -1, -1, -1, -1, -1, 94, 61, 72, -1, 61, -1, 70, -1, -1, 56, 61, -1, -1, -1, -1, 18, -1, 5, 24, 53, -1, 63, 12, 19, 53, -1, 56, 43, -1, -1, -1, 6, 2, 19, 79, -1, 73, 79, -1, 98, -1, 46, 56, 35, -1, -1, 12, -1, 56, 50, 64, 69, 4, 33, 25, 34, 56, 45, 2, -1, 78, -1, -1, 36, -1, -1, 21, -1, 56, 45, 56, 50, 37, 78, 34, -1, 50, -1, -1, 78, 21, 43, 78, -1, 78, 43, 69, -1, 62, 46, -1, -1, -1, 42, 42, 42, 17, 17, 17, 4, -1, 90, 42, 13, 24, 13, 55, -1, 61, -1, 46, 6, 10, 37, -1, -1, -1, -1, -1, -1, 42, -1, 42, 69, -1, 3, -1, -1, 92, 34, -1, 78, 20, 29, 42, 42, 96, 61, 78, 46, 78, 59, 70, 31, 68, 8, -1, -1, 71, 78, -1, 61, -1, 17, -1, -1, 36, 98, 35, 3, -1, 50, -1, 44, 64, -1, -1, -1, 8, -1, -1, 78, -1, 78, 12, 12, -1, -1, -1, 78, -1, 26, 78, 78, 78, 98, -1, -1, -1, 78, 98, 26, 56, -1, -1, 86, 18, 73, 86, 26, -1, -1, -1, 56, -1, -1, 31, -1, -1, -1, 6, -1, 6, 6, 34, 37, -1, -1, 16, 82, -1, 31, 31, 16, 6, 78, -1, 3, 20, -1, -1, 20, -1, -1, 38, 22, 37, 61, 88, -1, -1, 21, 6, 21, 24, 71, 33, -1, 50, 50, -1, 50, 79, 50, 30, 79, 82, 6, -1, -1, -1, -1, 84, 84, 84, 55, 42, 61, 2, 61, 2, 2, 2, 2, -1, 2, 2, 2, -1, 64, -1, 31, 4, -1, -1, -1, 2, 2, 2, 55, -1, -1, 2, -1, 90, 2, 2, 2, 2, -1, -1, -1, -1, -1, 71, 2, 50, 78, 78, -1, -1, -1, 2, 2, 72, -1, 59, -1, -1, 40, -1, 78, 34, 2, 78, 5, 34, 2, -1, -1, 61, 2, 2, -1, 2, -1, 31, 2, 34, 2, 34, 88, 2, 34, 2, 2, 2, -1, 2, 34, 2, 2, 34, 2, 34, 2, 2, 2, 35, 21, 21, -1, -1, 45, 56, 33, -1, 73, -1, 3, 2, 17, 19, -1, -1, -1, 28, 71, -1, -1, -1, -1, 2, 2, -1, -1, -1, 78, -1, 46, -1, 37, 50, 64, 37, 42, -1, 97, -1, -1, -1, 46, -1, -1, 55, 55, 98, -1, -1, 92, -1, 78, 78, 2, 2, 52, -1, 52, -1, 59, -1, 70, -1, 42, -1, 59, 90, 29, 83, -1, 17, 59, 59, -1, -1, 26, 42, -1, 83, 75, 75, -1, 50, 78, 49, -1, -1, 4, 4, 54, 76, -1, -1, 56, 19, -1, 78, 43, -1, 52, 31, -1, -1, -1, -1, 70, 78, -1, -1, -1, 35, -1, 70, 70, -1, -1, 24, -1, 19, -1, -1, -1, -1, -1, -1, 42, 56, 37, 56, 31, 2, 96, -1, 50, 56, -1, -1, 78, 35, -1, -1, -1, -1, -1, 72, 50, -1, -1, 20, 20, -1, -1, -1, -1, 15, -1, 72, 3, 3, 25, 19, 31, 84, -1, 31, -1, -1, 27, 21, 16, 49, 71, 86, 16, 11, -1, 78, 78, 78, 85, 22, -1, 18, 80, 61, 61, 36, -1, 78, -1, -1, 78, 56, 56, -1, 71, 88, 68, -1, 38, 0, 40, -1, 59, -1, -1, 70, -1, 31, 35, -1, -1, -1, 52, -1, 18, -1, 78, -1, -1, -1, -1, -1, -1, 26, 37, 46, -1, 4, 46, -1, 75, 52, 78, -1, 72, 47, 72, 21, 19, -1, -1, 75, 43, 78, -1, 24, 78, -1, -1, -1, -1, 78, -1, -1, 78, -1, 78, 43, 14, 78, 64, 78, 68, 69, -1, -1, 47, -1, 50, 71, -1, -1, -1, -1, -1, 78, -1, -1, 78, -1, -1, -1, 9, -1, 86, -1, -1, 50, -1, 44, 35, -1, 8, 50, -1, 10, 2, -1, 8, -1, 37, -1, -1, 31, 76, 50, 76, -1, -1, -1, 15, 70, 36, 73, 78, 42, 42, 50, -1, 36, 12, 12, -1, 50, 71, -1, 50, -1, 50, -1, 24, 78, 75, 94, -1, 72, 50, -1, 24, -1, -1, 50, 37, -1, -1, 55, -1, 50, 50, 43, 33, 23, 40, 96, 55, 55, 61, -1, 29, -1, 34, 37, 66, 56, 37, 35, -1, -1, 43, 56, -1, 98, 98, -1, -1, 50, 56, -1, 93, -1, -1, 43, 71, -1, -1, 35, 78, 0, -1, -1, 19, 25, 12, -1, -1, 12, -1, -1, -1, -1, 75, 12, 56, 56, 56, 78, 98, 50, 50, -1, 35, 43, 2, -1, 83, 50, 28, 3, -1, -1, 50, 56, 74, 78, 38, 78, 97, 97, -1, 97, -1, 58, -1, 3, 3, -1, 78, 3, -1, 50, 78, -1, -1, -1, -1, 56, 50, -1, -1, -1, 35, 78, 31, 16, 56, 6, 56, 50, 33, 61, 49, 33, 73, 85, 86, 50, 3, 84, -1, 92, -1, 56, 6, 86, 78, 64, -1, 2, 43, -1, 6, 55, -1, -1, -1, 37, 71, 55, 43, 43, 43, 78, 33, -1, -1, 42, 98, 93, 9, 9, 31, -1, 58, 55, -1, 21, 86, 9, -1, 28, 85, -1, -1, 52, 5, 5, -1, -1, -1, -1, 31, 93, 6, -1, 50, -1, -1, 17, 31, 78, 6, 24, 32, 31, 28, 33, 24, 28, 70, 69, -1, 70, 79, -1, -1, 35, -1, 71, 71, 71, 43, -1, -1, -1, 28, 71, -1, -1, -1, 35, 17, -1, 96, -1, 52, 78, -1, -1, 55, 72, 36, -1, -1, -1, -1, 50, 20, 34, -1, 50, 34, -1, 35, 52, 78, -1, -1, 21, -1, -1, -1, 40, 33, -1, 46, 8, 75, 69, 69, -1, 79, -1, -1, 40, 55, -1, 72, 24, -1, 54, -1, 20, 87, 69, 12, -1, -1, 12, 78, -1, -1, 34, 98, 18, 78, -1, 43, 61, 75, -1, 31, 43, 69, -1, 90, 12, 78, -1, 78, 60, 50, 46, 75, 55, 50, -1, -1, 69, 8, 3, 95, 61, 99, 74, 69, -1, 17, -1, 1, -1, -1, 13, 6, 6, 69, -1, 35, 42, 17, 17, -1, -1, 35, 23, -1, -1, 69, 42, 11, -1, -1, -1, -1, 78, 78, 19, -1, 22, 14, 15, 34, 2, -1, 42, -1, -1, -1, -1, 78, 42, 64, -1, 90, 96, 42, 42, 42, 28, 78, 64, -1, 42, 96, 76, -1, 2, 42, 2, -1, -1, -1, -1, -1, 50, 50, -1, 42, 84, -1, 12, 2, 2, 42, -1, 32, -1, 42, 2, 42, 64, 2, -1, -1, 56, -1, 56, 22, 98, 98, -1, 6, 43, -1, -1, 49, 12, -1, -1, -1, -1, -1, -1, 21, 6, 6, -1, 21, -1, -1, -1, -1, -1, 88, 69, 21, -1, 56, 56, 56, 56, -1, -1, -1, 21, 43, 20, 78, 75, -1, 6, 70, 32, 98, 2, -1, 9, 9, 70, 2, 12, -1, 5, 74, -1, -1, -1, 21, 21, -1, -1, 31, 43, -1, -1, 19, 12, -1, 14, -1, 84, 82, -1, 35, -1, -1, -1, 9, 48, -1, -1, -1, -1, 87, -1, 12, -1, 43, -1, 65, -1, -1, -1, -1, 42, 42, -1, -1, 23, 71, 43, 92, 43, 43, 4, 61, 61, -1, 69, -1, 35, -1, -1, 14, 18, 63, 12, 98, 50, 15, 16, -1, -1, 15, -1, 33, 85, 31, 9, 9, 69, 71, -1, 71, -1, -1, -1, 82, 2, -1, -1, -1, 2, 2, 2, 12, 12, 12, 22, 56, 56, 88, -1, 82, -1, -1, 42, 42, 9, 56, 31, -1, 64, 40, 52, -1, -1, -1, -1, -1, 12, -1, -1, 96, -1, 5, 69, -1, 71, -1, -1, 12, 12, -1, -1, 50, 50, 21, 50, -1, -1, 6, -1, 12, 42, 42, 78, 31, -1, 22, -1, -1, -1, 12, 56, 12, 12, -1, -1, 11, 71, 71, -1, 31, 6, 50, 56, 71, -1, 50, -1, -1, 50, -1, 8, 2, -1, -1, -1, 31, 29, -1, 25, -1, 18, 25, 10, 6, 12, -1, -1, 8, 76, 8, 40, 31, 68, 56, 6, -1, 52, 64, -1, -1, -1, -1, 38, -1, 33, 50, 78, -1, 87, 8, 12, 71, -1, -1, 95, 50, 12, -1, 37, 8, -1, -1, 50, -1, 28, 75, 21, 58, -1, -1, -1, 6, 87, 85, 87, 50, 84, 71, 50, -1, 65, 65, -1, -1, -1, 33, 50, 50, -1, 12, 76, 50, 50, -1, 24, 87, 50, 87, 21, 43, 78, 21, -1, 21, 70, 3, -1, 12, -1, 50, 83, 45, -1, 12, -1, 4, 33, -1, -1, -1, -1, 32, 6, 70, -1, 71, 95, 95, -1, 4, 37, 2, 34, 31, 9, -1, -1, -1, -1, 50, 9, 55, 12, 50, 50, -1, 75, -1, 3, 70, 59, 50, -1, 87, 35, 50, -1, -1, 22, 21, 3, 46, -1, 66, 2, 19, 2, 87, -1, -1, 50, -1, 45, -1, 98, 84, 42, -1, 84, -1, -1, 50, -1, 50, 4, 4, 22, -1, 50, 45, 88, 82, 46, -1, -1, 46, 32, 46, -1, 82, 36, 61, 34, 24]\n",
            "45355\n",
            "45355\n"
          ],
          "name": "stdout"
        }
      ]
    },
    {
      "cell_type": "markdown",
      "metadata": {
        "id": "0ua80usww-rj"
      },
      "source": [
        "We can then extract most frequent topics:"
      ]
    },
    {
      "cell_type": "code",
      "metadata": {
        "id": "VUNsYrCETNar",
        "colab": {
          "base_uri": "https://localhost:8080/",
          "height": 363
        },
        "outputId": "aff2270d-771c-4dda-9659-6629eafe781e"
      },
      "source": [
        "freq = topic_model.get_topic_info(); freq.head(10)"
      ],
      "execution_count": 5,
      "outputs": [
        {
          "output_type": "execute_result",
          "data": {
            "text/html": [
              "<div>\n",
              "<style scoped>\n",
              "    .dataframe tbody tr th:only-of-type {\n",
              "        vertical-align: middle;\n",
              "    }\n",
              "\n",
              "    .dataframe tbody tr th {\n",
              "        vertical-align: top;\n",
              "    }\n",
              "\n",
              "    .dataframe thead th {\n",
              "        text-align: right;\n",
              "    }\n",
              "</style>\n",
              "<table border=\"1\" class=\"dataframe\">\n",
              "  <thead>\n",
              "    <tr style=\"text-align: right;\">\n",
              "      <th></th>\n",
              "      <th>Topic</th>\n",
              "      <th>Count</th>\n",
              "      <th>Name</th>\n",
              "    </tr>\n",
              "  </thead>\n",
              "  <tbody>\n",
              "    <tr>\n",
              "      <th>0</th>\n",
              "      <td>-1</td>\n",
              "      <td>17890</td>\n",
              "      <td>-1_donald_president_his_who</td>\n",
              "    </tr>\n",
              "    <tr>\n",
              "      <th>1</th>\n",
              "      <td>0</td>\n",
              "      <td>735</td>\n",
              "      <td>0_friends_dinner_dining_foxandfriends</td>\n",
              "    </tr>\n",
              "    <tr>\n",
              "      <th>2</th>\n",
              "      <td>1</td>\n",
              "      <td>652</td>\n",
              "      <td>1_hotel_tower_building_hotels</td>\n",
              "    </tr>\n",
              "    <tr>\n",
              "      <th>3</th>\n",
              "      <td>2</td>\n",
              "      <td>626</td>\n",
              "      <td>2_china_chinese_tariffs_trade</td>\n",
              "    </tr>\n",
              "    <tr>\n",
              "      <th>4</th>\n",
              "      <td>3</td>\n",
              "      <td>609</td>\n",
              "      <td>3_obamacare_repeal_replace_insurance</td>\n",
              "    </tr>\n",
              "    <tr>\n",
              "      <th>5</th>\n",
              "      <td>4</td>\n",
              "      <td>606</td>\n",
              "      <td>4_apple_hair_thank_iphone</td>\n",
              "    </tr>\n",
              "    <tr>\n",
              "      <th>6</th>\n",
              "      <td>5</td>\n",
              "      <td>565</td>\n",
              "      <td>5_election_ballots_votes_voting</td>\n",
              "    </tr>\n",
              "    <tr>\n",
              "      <th>7</th>\n",
              "      <td>6</td>\n",
              "      <td>478</td>\n",
              "      <td>6_media_news_schneiderman_corrupt</td>\n",
              "    </tr>\n",
              "    <tr>\n",
              "      <th>8</th>\n",
              "      <td>7</td>\n",
              "      <td>449</td>\n",
              "      <td>7_apprentice_nbc_episode_show</td>\n",
              "    </tr>\n",
              "    <tr>\n",
              "      <th>9</th>\n",
              "      <td>8</td>\n",
              "      <td>444</td>\n",
              "      <td>8_hillary_she_clinton_nancy</td>\n",
              "    </tr>\n",
              "  </tbody>\n",
              "</table>\n",
              "</div>"
            ],
            "text/plain": [
              "   Topic  Count                                   Name\n",
              "0     -1  17890            -1_donald_president_his_who\n",
              "1      0    735  0_friends_dinner_dining_foxandfriends\n",
              "2      1    652          1_hotel_tower_building_hotels\n",
              "3      2    626          2_china_chinese_tariffs_trade\n",
              "4      3    609   3_obamacare_repeal_replace_insurance\n",
              "5      4    606              4_apple_hair_thank_iphone\n",
              "6      5    565        5_election_ballots_votes_voting\n",
              "7      6    478      6_media_news_schneiderman_corrupt\n",
              "8      7    449          7_apprentice_nbc_episode_show\n",
              "9      8    444            8_hillary_she_clinton_nancy"
            ]
          },
          "metadata": {
            "tags": []
          },
          "execution_count": 5
        }
      ]
    },
    {
      "cell_type": "markdown",
      "metadata": {
        "id": "dJdtc7UOUm0v"
      },
      "source": [
        "-1 refers to all outliers and should typically be ignored. Next, let's take a look at a frequent topic that were generated:"
      ]
    },
    {
      "cell_type": "code",
      "metadata": {
        "id": "7McsixbJT6c_",
        "colab": {
          "base_uri": "https://localhost:8080/"
        },
        "outputId": "c3f10be2-b82c-4ead-db00-dfb373460677"
      },
      "source": [
        "topic_nr = freq.iloc[3][\"Topic\"]  # We select a frequent topic\n",
        "topic_model.get_topic(topic_nr)   # You can select a topic number as shown above"
      ],
      "execution_count": 6,
      "outputs": [
        {
          "output_type": "execute_result",
          "data": {
            "text/plain": [
              "[('china', 0.08807177487020215),\n",
              " ('chinese', 0.021903633634302234),\n",
              " ('tariffs', 0.017727043065327998),\n",
              " ('trade', 0.016156080909646105),\n",
              " ('currency', 0.012854019813040417),\n",
              " ('xi', 0.01075487401268281),\n",
              " ('dollars', 0.010321892927429636),\n",
              " ('countries', 0.005804333211716007),\n",
              " ('usa', 0.00578858532445865),\n",
              " ('goods', 0.0056448792770774385)]"
            ]
          },
          "metadata": {
            "tags": []
          },
          "execution_count": 6
        }
      ]
    },
    {
      "cell_type": "markdown",
      "metadata": {
        "id": "3NbUMNuSUquk"
      },
      "source": [
        "We can visualize the basic topics that were created with the Intertopic Distance Map. "
      ]
    },
    {
      "cell_type": "code",
      "metadata": {
        "id": "AQxSW8IMUpxj",
        "colab": {
          "base_uri": "https://localhost:8080/",
          "height": 667
        },
        "outputId": "f438ab0d-209c-4d44-a5ca-e90574c307f8"
      },
      "source": [
        "fig = topic_model.visualize_topics(); fig"
      ],
      "execution_count": 7,
      "outputs": [
        {
          "output_type": "display_data",
          "data": {
            "text/html": [
              "<html>\n",
              "<head><meta charset=\"utf-8\" /></head>\n",
              "<body>\n",
              "    <div>            <script src=\"https://cdnjs.cloudflare.com/ajax/libs/mathjax/2.7.5/MathJax.js?config=TeX-AMS-MML_SVG\"></script><script type=\"text/javascript\">if (window.MathJax) {MathJax.Hub.Config({SVG: {font: \"STIX-Web\"}});}</script>                <script type=\"text/javascript\">window.PlotlyConfig = {MathJaxConfig: 'local'};</script>\n",
              "        <script src=\"https://cdn.plot.ly/plotly-latest.min.js\"></script>                <div id=\"8af51ae0-9977-4796-a013-472487515d63\" class=\"plotly-graph-div\" style=\"height:650px; width:650px;\"></div>            <script type=\"text/javascript\">                                    window.PLOTLYENV=window.PLOTLYENV || {};                                    if (document.getElementById(\"8af51ae0-9977-4796-a013-472487515d63\")) {                    Plotly.newPlot(                        \"8af51ae0-9977-4796-a013-472487515d63\",                        [{\"customdata\": [[2.1817831993103027, -0.3830605149269104, 0, \"friends | dinner | dining | foxandfriends | enjoy\", 735], [9.046188354492188, 9.504546165466309, 1, \"hotel | tower | building | hotels | nyc\", 652], [2.3988406658172607, -1.1521294116973877, 2, \"china | chinese | tariffs | trade | currency\", 626], [-8.292703628540039, -4.582449436187744, 3, \"obamacare | repeal | replace | insurance | medicare\", 609], [-3.791698932647705, 3.812089204788208, 4, \"apple | hair | thank | iphone | wig\", 606], [-4.053366184234619, 3.541428565979004, 5, \"election | ballots | votes | voting | voter\", 565], [-4.021600246429443, -9.195212364196777, 6, \"media | news | schneiderman | corrupt | bloomberg\", 478], [5.972006797790527, -4.319005012512207, 7, \"apprentice | nbc | episode | show | tonight\", 449], [-3.816035270690918, 3.7900140285491943, 8, \"hillary | she | clinton | nancy | pelosi\", 444], [5.9603400230407715, 23.20104217529297, 9, \"isis | iraq | syria | turkey | afghanistan\", 437], [-4.1008076667785645, -9.141397476196289, 10, \"job | pence | businessman | reilly | mr\", 433], [-1.8370518684387207, 1.151780366897583, 11, \"ivanka | albert | derek | pete | contract\", 412], [-4.090848445892334, 11.371975898742676, 12, \"estate | build | transit | bus | built\", 402], [-3.5619797706604004, 2.1874306201934814, 13, \"racist | african | black | mandela | cummings\", 399], [2.1831271648406982, -0.37798434495925903, 14, \"speech | wwehof | pm | wwe | hall\", 393], [9.103062629699707, 9.447840690612793, 15, \"golf | scotland | club | ferry | ireland\", 388], [-2.7164597511291504, -10.627175331115723, 16, \"interview | interviewed | discussing | pm | larry\", 381], [-3.7894978523254395, 11.890623092651367, 17, \"ebola | coronavirus | vaccine | hurricane | virus\", 377], [13.663430213928223, 0.9369168281555176, 18, \"melania | she | her | lady | woman\", 366], [-8.483834266662598, -3.782231092453003, 19, \"thank | rnc | nursedebi | btosiridesigns | metalchick\", 351], [-4.533822059631348, 4.216669082641602, 20, \"court | judge | judges | sue | lawsuit\", 342], [-5.015044212341309, 4.035668849945068, 21, \"fbi | mccabe | snowden | flynn | clinton\", 332], [-3.2461585998535156, 2.5129218101501465, 22, \"book | read | books | signing | copy\", 326], [-3.172689914703369, 10.925803184509277, 23, \"luck | dream | hope | wishes | mr\", 323], [-3.496119737625122, 2.27860689163208, 24, \"corrupt | antifa | wins | corruption | political\", 319], [-1.5576261281967163, 0.8499315977096558, 25, \"brady | winston | tom | thomas | quarterback\", 318], [13.707347869873047, 0.8928140997886658, 26, \"endorsement | congressman | amendment | vets | military\", 310], [-3.181155204772949, 2.7005233764648438, 27, \"president | vote | rand | donald | rush\", 306], [-8.122518539428711, -4.7733941078186035, 28, \"debt | bankrupt | bills | bankruptcy | trillion\", 306], [-2.964359760284424, 2.474031925201416, 29, \"luther | armstrong | roy | senate | mitch\", 305], [9.346896171569824, 9.204388618469238, 30, \"carolina | miami | tickets | tomorrow | renovations\", 296], [-8.405389785766602, -4.196239948272705, 31, \"economy | fed | reserve | rates | inflation\", 292], [-3.112581491470337, -10.20077896118164, 32, \"rating | poll | polls | republican | ratings\", 290], [-2.588669776916504, 10.658510208129883, 33, \"america | hard | draintheswamp | bigleaguetruth | positively\", 290], [2.312455654144287, -1.3821645975112915, 34, \"trade | tariffs | negotiation | farmers | deal\", 289], [-3.0465617179870605, 2.684149980545044, 35, \"democrats | louisiana | republicans | party | dems\", 288], [-4.386762619018555, -9.026118278503418, 36, \"magazine | news | fake | macy | vanity\", 288], [-1.8567110300064087, 1.173596739768982, 37, \"congratulations | win | winning | congrats | champions\", 284], [-1.6246377229690552, 0.91961669921875, 38, \"song | miller | autism | father | danny\", 282], [7.4119873046875, 3.814622163772583, 39, \"entrepreneurs | entrepreneur | business | focus | success\", 280], [-2.9590635299682617, 2.8394408226013184, 40, \"warming | climate | freezing | cold | coldest\", 275], [7.378522872924805, 3.9184603691101074, 41, \"passion | focus | goals | achievement | motivation\", 275], [2.4227616786956787, -0.7690173387527466, 42, \"korea | kim | jong | japan | nuclear\", 271], [-4.6804351806640625, 4.393494606018066, 43, \"russia | collusion | putin | russian | hoax\", 270], [-4.306809902191162, -8.1733980178833, 44, \"true | agree | truth | honesty | honest\", 267], [2.313685655593872, -1.4443846940994263, 45, \"money | charity | mexico | funding | campaign\", 263], [-4.106598377227783, 3.520130157470703, 46, \"impeachment | hoax | impeach | democrats | impeached\", 253], [-2.517503499984741, 10.678752899169922, 47, \"birthday | christmas | easter | thanksgiving | anniversary\", 251], [-2.641911268234253, 3.154141664505005, 48, \"run | president | vote | running | runs\", 248], [-3.001721143722534, -10.314943313598633, 49, \"rubio | marco | cruz | bush | kag\", 247], [-3.9671013355255127, 11.332891464233398, 50, \"border | immigration | democrats | borders | illegal\", 243], [5.9889068603515625, 23.229585647583008, 51, \"wind | turbines | bird | birds | windmills\", 240], [-3.250182867050171, 2.8048081398010254, 52, \"lombardi | swamp | drain | ban | quit\", 236], [-4.80700159072876, 11.089964866638184, 53, \"makeamericagreatagain | president | makeamericasafeagain | fan | foresta\", 233], [-8.204150199890137, -4.670201778411865, 54, \"tax | cuts | taxes | cut | reform\", 232], [5.930843830108643, 23.171525955200195, 55, \"israel | egypt | arab | muslim | saudi\", 230], [-3.903763771057129, 11.333039283752441, 56, \"mexico | venezuela | cuban | mexican | hispanics\", 224], [6.225136756896973, -4.571984767913818, 57, \"team | watching | thegarybusey | show | season\", 224], [-3.7959203720092773, 11.83737850189209, 58, \"testing | cases | ventilators | safe | healthcare\", 222], [-4.1563568115234375, -9.163297653198242, 59, \"twitter | tweets | tweet | followers | tweeting\", 220], [-2.7800698280334473, -10.55649471282959, 60, \"debate | debates | polls | drudge | poll\", 218], [22.403522491455078, 16.58979034423828, 61, \"veterans | heroes | honor | war | memorial\", 216], [6.12962532043457, -4.47651481628418, 62, \"oscars | season | emmys | returns | seth\", 211], [-2.760136365890503, 3.082005023956299, 63, \"schumer | omarosa | chuck | president | cryin\", 201], [22.403522491455078, 16.589792251586914, 64, \"honor | marine | prayers | medal | military\", 201], [-4.113894939422607, -9.295526504516602, 65, \"goofy | pervert | pocahontas | judd | clown\", 200], [-2.9165947437286377, -10.400186538696289, 66, \"poll | gop | donald | polls | presidential\", 197], [-3.0608580112457275, 10.650077819824219, 67, \"need | needs | leader | role | mr\", 196], [2.415452241897583, -0.5272762775421143, 68, \"conference | press | meeting | white | join\", 192], [-3.979978322982788, 11.542357444763184, 69, \"gun | harassment | guns | shootings | shooting\", 190], [-4.212606906890869, -8.57045841217041, 70, \"cnn | rt | news | msnbc | nbc\", 190], [-5.118066787719727, 4.091888427734375, 71, \"dossier | fbi | enforcement | spy | fisa\", 189], [5.8274431228637695, 23.068119049072266, 72, \"condolences | prayers | apologize | victims | apology\", 186], [9.542074203491211, 9.009265899658203, 73, \"crowd | rally | crowds | florida | people\", 185], [-3.170182466506958, 2.952019214630127, 74, \"vote | america | campaign | votetrump | election\", 184], [-8.455282211303711, -4.293543815612793, 75, \"jobs | unemployment | lowest | jobless | labor\", 182], [-4.449803352355957, 11.353639602661133, 76, \"daca | amnesty | sanctuary | amendment | liberty\", 180], [6.133378982543945, -4.480250835418701, 77, \"celebrityapprentice | celebrity | season | show | tv\", 179], [-4.729836463928223, 3.9570913314819336, 78, \"mueller | collusion | obstruction | cohen | democrats\", 178], [-4.168619632720947, 11.479459762573242, 79, \"mayor | york | portland | anarchists | city\", 175], [-2.1701111793518066, 1.5394660234451294, 80, \"obama | president | barack | bush | worst\", 173], [13.62004566192627, 0.9802203178405762, 81, \"greta | emily | gretawire | ann | kelly\", 172], [5.846559524536133, 23.08722686767578, 82, \"iran | nuclear | iranian | sanctions | iranians\", 171], [-2.9539034366607666, 10.761598587036133, 83, \"america | again | americafirst | country | nation\", 170], [-8.640244483947754, -4.360219955444336, 84, \"gas | opec | fracking | oil | coal\", 168], [-2.878199338912964, 10.79542350769043, 85, \"tennessee | michigan | wisconsin | nashville | florida\", 168], [9.537490844726562, 9.013686180114746, 86, \"ohio | michigan | hampshire | state | detroit\", 166], [-4.705042362213135, 11.187253952026367, 87, \"shutdown | sleep | morning | monday | democrats\", 159], [-8.461820602416992, -3.962036371231079, 88, \"stock | market | record | high | dow\", 159], [9.518431663513184, 9.032503128051758, 89, \"pennsylvania | indiana | iowa | trumptrain | illinois\", 158], [6.197873115539551, -4.544865131378174, 90, \"snl | show | nbcsnl | watch | watching\", 155], [-1.4501312971115112, 0.7437494993209839, 91, \"ties | shirts | macy | tie | suits\", 150], [-4.672998428344727, 4.488866806030273, 92, \"whistleblower | shifty | congress | corrupt | testify\", 149], [-4.261637210845947, -8.27009391784668, 93, \"haters | losers | loser | hate | jealous\", 149], [7.357087135314941, 3.827758550643921, 94, \"think | schools | school | education | learn\", 147], [-3.0941507816314697, -10.219382286071777, 95, \"fired | rosie | she | her | donnell\", 145], [2.4559383392333984, -0.8155592679977417, 96, \"nato | germany | europe | pay | countries\", 143], [-2.7900025844573975, 2.254265546798706, 97, \"cruz | texas | rico | puerto | dallas\", 141], [-4.570334434509277, 4.253735542297363, 98, \"secretary | pleased | director | kelly | chief\", 141], [2.048922538757324, -0.29532817006111145, 99, \"miss | pageant | missuniverse | contestants | vegas\", 138]], \"hovertemplate\": \"<b>Topic %{customdata[2]}</b><br>Words: %{customdata[3]}<br>Size: %{customdata[4]}\", \"legendgroup\": \"\", \"marker\": {\"color\": \"#B0BEC5\", \"line\": {\"color\": \"DarkSlateGrey\", \"width\": 2}, \"size\": [735, 652, 626, 609, 606, 565, 478, 449, 444, 437, 433, 412, 402, 399, 393, 388, 381, 377, 366, 351, 342, 332, 326, 323, 319, 318, 310, 306, 306, 305, 296, 292, 290, 290, 289, 288, 288, 284, 282, 280, 275, 275, 271, 270, 267, 263, 253, 251, 248, 247, 243, 240, 236, 233, 232, 230, 224, 224, 222, 220, 218, 216, 211, 201, 201, 200, 197, 196, 192, 190, 190, 189, 186, 185, 184, 182, 180, 179, 178, 175, 173, 172, 171, 170, 168, 168, 166, 159, 159, 158, 155, 150, 149, 149, 147, 145, 143, 141, 141, 138], \"sizemode\": \"area\", \"sizeref\": 0.459375, \"symbol\": \"circle\"}, \"mode\": \"markers\", \"name\": \"\", \"orientation\": \"v\", \"showlegend\": false, \"type\": \"scatter\", \"x\": [2.1817831993103027, 9.046188354492188, 2.3988406658172607, -8.292703628540039, -3.791698932647705, -4.053366184234619, -4.021600246429443, 5.972006797790527, -3.816035270690918, 5.9603400230407715, -4.1008076667785645, -1.8370518684387207, -4.090848445892334, -3.5619797706604004, 2.1831271648406982, 9.103062629699707, -2.7164597511291504, -3.7894978523254395, 13.663430213928223, -8.483834266662598, -4.533822059631348, -5.015044212341309, -3.2461585998535156, -3.172689914703369, -3.496119737625122, -1.5576261281967163, 13.707347869873047, -3.181155204772949, -8.122518539428711, -2.964359760284424, 9.346896171569824, -8.405389785766602, -3.112581491470337, -2.588669776916504, 2.312455654144287, -3.0465617179870605, -4.386762619018555, -1.8567110300064087, -1.6246377229690552, 7.4119873046875, -2.9590635299682617, 7.378522872924805, 2.4227616786956787, -4.6804351806640625, -4.306809902191162, 2.313685655593872, -4.106598377227783, -2.517503499984741, -2.641911268234253, -3.001721143722534, -3.9671013355255127, 5.9889068603515625, -3.250182867050171, -4.80700159072876, -8.204150199890137, 5.930843830108643, -3.903763771057129, 6.225136756896973, -3.7959203720092773, -4.1563568115234375, -2.7800698280334473, 22.403522491455078, 6.12962532043457, -2.760136365890503, 22.403522491455078, -4.113894939422607, -2.9165947437286377, -3.0608580112457275, 2.415452241897583, -3.979978322982788, -4.212606906890869, -5.118066787719727, 5.8274431228637695, 9.542074203491211, -3.170182466506958, -8.455282211303711, -4.449803352355957, 6.133378982543945, -4.729836463928223, -4.168619632720947, -2.1701111793518066, 13.62004566192627, 5.846559524536133, -2.9539034366607666, -8.640244483947754, -2.878199338912964, 9.537490844726562, -4.705042362213135, -8.461820602416992, 9.518431663513184, 6.197873115539551, -1.4501312971115112, -4.672998428344727, -4.261637210845947, 7.357087135314941, -3.0941507816314697, 2.4559383392333984, -2.7900025844573975, -4.570334434509277, 2.048922538757324], \"xaxis\": \"x\", \"y\": [-0.3830605149269104, 9.504546165466309, -1.1521294116973877, -4.582449436187744, 3.812089204788208, 3.541428565979004, -9.195212364196777, -4.319005012512207, 3.7900140285491943, 23.20104217529297, -9.141397476196289, 1.151780366897583, 11.371975898742676, 2.1874306201934814, -0.37798434495925903, 9.447840690612793, -10.627175331115723, 11.890623092651367, 0.9369168281555176, -3.782231092453003, 4.216669082641602, 4.035668849945068, 2.5129218101501465, 10.925803184509277, 2.27860689163208, 0.8499315977096558, 0.8928140997886658, 2.7005233764648438, -4.7733941078186035, 2.474031925201416, 9.204388618469238, -4.196239948272705, -10.20077896118164, 10.658510208129883, -1.3821645975112915, 2.684149980545044, -9.026118278503418, 1.173596739768982, 0.91961669921875, 3.814622163772583, 2.8394408226013184, 3.9184603691101074, -0.7690173387527466, 4.393494606018066, -8.1733980178833, -1.4443846940994263, 3.520130157470703, 10.678752899169922, 3.154141664505005, -10.314943313598633, 11.332891464233398, 23.229585647583008, 2.8048081398010254, 11.089964866638184, -4.670201778411865, 23.171525955200195, 11.333039283752441, -4.571984767913818, 11.83737850189209, -9.163297653198242, -10.55649471282959, 16.58979034423828, -4.47651481628418, 3.082005023956299, 16.589792251586914, -9.295526504516602, -10.400186538696289, 10.650077819824219, -0.5272762775421143, 11.542357444763184, -8.57045841217041, 4.091888427734375, 23.068119049072266, 9.009265899658203, 2.952019214630127, -4.293543815612793, 11.353639602661133, -4.480250835418701, 3.9570913314819336, 11.479459762573242, 1.5394660234451294, 0.9802203178405762, 23.08722686767578, 10.761598587036133, -4.360219955444336, 10.79542350769043, 9.013686180114746, 11.187253952026367, -3.962036371231079, 9.032503128051758, -4.544865131378174, 0.7437494993209839, 4.488866806030273, -8.27009391784668, 3.827758550643921, -10.219382286071777, -0.8155592679977417, 2.254265546798706, 4.253735542297363, -0.29532817006111145], \"yaxis\": \"y\"}],                        {\"annotations\": [{\"showarrow\": false, \"text\": \"D1\", \"x\": -9.936281156539916, \"y\": 7.246385931968688, \"yshift\": 10}, {\"showarrow\": false, \"text\": \"D2\", \"x\": 7.913884854316711, \"xshift\": 10, \"y\": 26.714023494720458}], \"height\": 650, \"hoverlabel\": {\"bgcolor\": \"white\", \"font\": {\"family\": \"Rockwell\", \"size\": 16}}, \"legend\": {\"itemsizing\": \"constant\", \"tracegroupgap\": 0}, \"margin\": {\"t\": 60}, \"shapes\": [{\"line\": {\"color\": \"#CFD8DC\", \"width\": 2}, \"type\": \"line\", \"x0\": 7.913884854316711, \"x1\": 7.913884854316711, \"y0\": -12.221251630783081, \"y1\": 26.714023494720458}, {\"line\": {\"color\": \"#9E9E9E\", \"width\": 2}, \"type\": \"line\", \"x0\": -9.936281156539916, \"x1\": 25.76405086517334, \"y0\": 7.246385931968688, \"y1\": 7.246385931968688}], \"sliders\": [{\"active\": 0, \"pad\": {\"t\": 50}, \"steps\": [{\"args\": [{\"marker.color\": [[\"red\", \"#B0BEC5\", \"#B0BEC5\", \"#B0BEC5\", \"#B0BEC5\", \"#B0BEC5\", \"#B0BEC5\", \"#B0BEC5\", \"#B0BEC5\", \"#B0BEC5\", \"#B0BEC5\", \"#B0BEC5\", \"#B0BEC5\", \"#B0BEC5\", \"#B0BEC5\", \"#B0BEC5\", \"#B0BEC5\", \"#B0BEC5\", \"#B0BEC5\", \"#B0BEC5\", \"#B0BEC5\", \"#B0BEC5\", \"#B0BEC5\", \"#B0BEC5\", \"#B0BEC5\", \"#B0BEC5\", \"#B0BEC5\", \"#B0BEC5\", \"#B0BEC5\", \"#B0BEC5\", \"#B0BEC5\", \"#B0BEC5\", \"#B0BEC5\", \"#B0BEC5\", \"#B0BEC5\", \"#B0BEC5\", \"#B0BEC5\", \"#B0BEC5\", \"#B0BEC5\", \"#B0BEC5\", \"#B0BEC5\", \"#B0BEC5\", \"#B0BEC5\", \"#B0BEC5\", \"#B0BEC5\", \"#B0BEC5\", \"#B0BEC5\", \"#B0BEC5\", \"#B0BEC5\", \"#B0BEC5\", \"#B0BEC5\", \"#B0BEC5\", \"#B0BEC5\", \"#B0BEC5\", \"#B0BEC5\", \"#B0BEC5\", \"#B0BEC5\", \"#B0BEC5\", \"#B0BEC5\", \"#B0BEC5\", \"#B0BEC5\", \"#B0BEC5\", \"#B0BEC5\", \"#B0BEC5\", \"#B0BEC5\", \"#B0BEC5\", \"#B0BEC5\", \"#B0BEC5\", \"#B0BEC5\", \"#B0BEC5\", \"#B0BEC5\", \"#B0BEC5\", \"#B0BEC5\", \"#B0BEC5\", \"#B0BEC5\", \"#B0BEC5\", \"#B0BEC5\", \"#B0BEC5\", \"#B0BEC5\", \"#B0BEC5\", \"#B0BEC5\", \"#B0BEC5\", \"#B0BEC5\", \"#B0BEC5\", \"#B0BEC5\", \"#B0BEC5\", \"#B0BEC5\", \"#B0BEC5\", \"#B0BEC5\", \"#B0BEC5\", \"#B0BEC5\", \"#B0BEC5\", \"#B0BEC5\", \"#B0BEC5\", \"#B0BEC5\", \"#B0BEC5\", \"#B0BEC5\", \"#B0BEC5\", \"#B0BEC5\", \"#B0BEC5\"]]}], \"label\": \"Topic 0\", \"method\": \"update\"}, {\"args\": [{\"marker.color\": [[\"#B0BEC5\", \"red\", \"#B0BEC5\", \"#B0BEC5\", \"#B0BEC5\", \"#B0BEC5\", \"#B0BEC5\", \"#B0BEC5\", \"#B0BEC5\", \"#B0BEC5\", \"#B0BEC5\", \"#B0BEC5\", \"#B0BEC5\", \"#B0BEC5\", \"#B0BEC5\", \"#B0BEC5\", \"#B0BEC5\", \"#B0BEC5\", \"#B0BEC5\", \"#B0BEC5\", \"#B0BEC5\", \"#B0BEC5\", \"#B0BEC5\", \"#B0BEC5\", \"#B0BEC5\", \"#B0BEC5\", \"#B0BEC5\", \"#B0BEC5\", \"#B0BEC5\", \"#B0BEC5\", \"#B0BEC5\", \"#B0BEC5\", \"#B0BEC5\", \"#B0BEC5\", \"#B0BEC5\", \"#B0BEC5\", \"#B0BEC5\", \"#B0BEC5\", \"#B0BEC5\", \"#B0BEC5\", \"#B0BEC5\", \"#B0BEC5\", \"#B0BEC5\", \"#B0BEC5\", \"#B0BEC5\", \"#B0BEC5\", \"#B0BEC5\", \"#B0BEC5\", \"#B0BEC5\", \"#B0BEC5\", \"#B0BEC5\", \"#B0BEC5\", \"#B0BEC5\", \"#B0BEC5\", \"#B0BEC5\", \"#B0BEC5\", \"#B0BEC5\", \"#B0BEC5\", \"#B0BEC5\", \"#B0BEC5\", \"#B0BEC5\", \"#B0BEC5\", \"#B0BEC5\", \"#B0BEC5\", \"#B0BEC5\", \"#B0BEC5\", \"#B0BEC5\", \"#B0BEC5\", \"#B0BEC5\", \"#B0BEC5\", \"#B0BEC5\", \"#B0BEC5\", \"#B0BEC5\", \"#B0BEC5\", \"#B0BEC5\", \"#B0BEC5\", \"#B0BEC5\", \"#B0BEC5\", \"#B0BEC5\", \"#B0BEC5\", \"#B0BEC5\", \"#B0BEC5\", \"#B0BEC5\", \"#B0BEC5\", \"#B0BEC5\", \"#B0BEC5\", \"#B0BEC5\", \"#B0BEC5\", \"#B0BEC5\", \"#B0BEC5\", \"#B0BEC5\", \"#B0BEC5\", \"#B0BEC5\", \"#B0BEC5\", \"#B0BEC5\", \"#B0BEC5\", \"#B0BEC5\", \"#B0BEC5\", \"#B0BEC5\", \"#B0BEC5\"]]}], \"label\": \"Topic 1\", \"method\": \"update\"}, {\"args\": [{\"marker.color\": [[\"#B0BEC5\", \"#B0BEC5\", \"red\", \"#B0BEC5\", \"#B0BEC5\", \"#B0BEC5\", \"#B0BEC5\", \"#B0BEC5\", \"#B0BEC5\", \"#B0BEC5\", \"#B0BEC5\", \"#B0BEC5\", \"#B0BEC5\", \"#B0BEC5\", \"#B0BEC5\", \"#B0BEC5\", \"#B0BEC5\", \"#B0BEC5\", \"#B0BEC5\", \"#B0BEC5\", \"#B0BEC5\", \"#B0BEC5\", \"#B0BEC5\", \"#B0BEC5\", \"#B0BEC5\", \"#B0BEC5\", \"#B0BEC5\", \"#B0BEC5\", \"#B0BEC5\", \"#B0BEC5\", \"#B0BEC5\", \"#B0BEC5\", \"#B0BEC5\", \"#B0BEC5\", \"#B0BEC5\", \"#B0BEC5\", \"#B0BEC5\", \"#B0BEC5\", \"#B0BEC5\", \"#B0BEC5\", \"#B0BEC5\", \"#B0BEC5\", \"#B0BEC5\", \"#B0BEC5\", \"#B0BEC5\", \"#B0BEC5\", \"#B0BEC5\", \"#B0BEC5\", \"#B0BEC5\", \"#B0BEC5\", \"#B0BEC5\", \"#B0BEC5\", \"#B0BEC5\", \"#B0BEC5\", \"#B0BEC5\", \"#B0BEC5\", \"#B0BEC5\", \"#B0BEC5\", \"#B0BEC5\", \"#B0BEC5\", \"#B0BEC5\", \"#B0BEC5\", \"#B0BEC5\", \"#B0BEC5\", \"#B0BEC5\", \"#B0BEC5\", \"#B0BEC5\", \"#B0BEC5\", \"#B0BEC5\", \"#B0BEC5\", \"#B0BEC5\", \"#B0BEC5\", \"#B0BEC5\", \"#B0BEC5\", \"#B0BEC5\", \"#B0BEC5\", \"#B0BEC5\", \"#B0BEC5\", \"#B0BEC5\", \"#B0BEC5\", \"#B0BEC5\", \"#B0BEC5\", \"#B0BEC5\", \"#B0BEC5\", \"#B0BEC5\", \"#B0BEC5\", \"#B0BEC5\", \"#B0BEC5\", \"#B0BEC5\", \"#B0BEC5\", \"#B0BEC5\", \"#B0BEC5\", \"#B0BEC5\", \"#B0BEC5\", \"#B0BEC5\", \"#B0BEC5\", \"#B0BEC5\", \"#B0BEC5\", \"#B0BEC5\", \"#B0BEC5\"]]}], \"label\": \"Topic 2\", \"method\": \"update\"}, {\"args\": [{\"marker.color\": [[\"#B0BEC5\", \"#B0BEC5\", \"#B0BEC5\", \"red\", \"#B0BEC5\", \"#B0BEC5\", \"#B0BEC5\", \"#B0BEC5\", \"#B0BEC5\", \"#B0BEC5\", \"#B0BEC5\", \"#B0BEC5\", \"#B0BEC5\", \"#B0BEC5\", \"#B0BEC5\", \"#B0BEC5\", \"#B0BEC5\", \"#B0BEC5\", \"#B0BEC5\", \"#B0BEC5\", \"#B0BEC5\", \"#B0BEC5\", \"#B0BEC5\", \"#B0BEC5\", \"#B0BEC5\", \"#B0BEC5\", \"#B0BEC5\", \"#B0BEC5\", \"#B0BEC5\", \"#B0BEC5\", \"#B0BEC5\", \"#B0BEC5\", \"#B0BEC5\", \"#B0BEC5\", \"#B0BEC5\", \"#B0BEC5\", \"#B0BEC5\", \"#B0BEC5\", \"#B0BEC5\", \"#B0BEC5\", \"#B0BEC5\", \"#B0BEC5\", \"#B0BEC5\", \"#B0BEC5\", \"#B0BEC5\", \"#B0BEC5\", \"#B0BEC5\", \"#B0BEC5\", \"#B0BEC5\", \"#B0BEC5\", \"#B0BEC5\", \"#B0BEC5\", \"#B0BEC5\", \"#B0BEC5\", \"#B0BEC5\", \"#B0BEC5\", \"#B0BEC5\", \"#B0BEC5\", \"#B0BEC5\", \"#B0BEC5\", \"#B0BEC5\", \"#B0BEC5\", \"#B0BEC5\", \"#B0BEC5\", \"#B0BEC5\", \"#B0BEC5\", \"#B0BEC5\", \"#B0BEC5\", \"#B0BEC5\", \"#B0BEC5\", \"#B0BEC5\", \"#B0BEC5\", \"#B0BEC5\", \"#B0BEC5\", \"#B0BEC5\", \"#B0BEC5\", \"#B0BEC5\", \"#B0BEC5\", \"#B0BEC5\", \"#B0BEC5\", \"#B0BEC5\", \"#B0BEC5\", \"#B0BEC5\", \"#B0BEC5\", \"#B0BEC5\", \"#B0BEC5\", \"#B0BEC5\", \"#B0BEC5\", \"#B0BEC5\", \"#B0BEC5\", \"#B0BEC5\", \"#B0BEC5\", \"#B0BEC5\", \"#B0BEC5\", \"#B0BEC5\", \"#B0BEC5\", \"#B0BEC5\", \"#B0BEC5\", \"#B0BEC5\", \"#B0BEC5\"]]}], \"label\": \"Topic 3\", \"method\": \"update\"}, {\"args\": [{\"marker.color\": [[\"#B0BEC5\", \"#B0BEC5\", \"#B0BEC5\", \"#B0BEC5\", \"red\", \"#B0BEC5\", \"#B0BEC5\", \"#B0BEC5\", \"#B0BEC5\", \"#B0BEC5\", \"#B0BEC5\", \"#B0BEC5\", \"#B0BEC5\", \"#B0BEC5\", \"#B0BEC5\", \"#B0BEC5\", \"#B0BEC5\", \"#B0BEC5\", \"#B0BEC5\", \"#B0BEC5\", \"#B0BEC5\", \"#B0BEC5\", \"#B0BEC5\", \"#B0BEC5\", \"#B0BEC5\", \"#B0BEC5\", \"#B0BEC5\", \"#B0BEC5\", \"#B0BEC5\", \"#B0BEC5\", \"#B0BEC5\", \"#B0BEC5\", \"#B0BEC5\", \"#B0BEC5\", \"#B0BEC5\", \"#B0BEC5\", \"#B0BEC5\", \"#B0BEC5\", \"#B0BEC5\", \"#B0BEC5\", \"#B0BEC5\", \"#B0BEC5\", \"#B0BEC5\", \"#B0BEC5\", \"#B0BEC5\", \"#B0BEC5\", \"#B0BEC5\", \"#B0BEC5\", \"#B0BEC5\", \"#B0BEC5\", \"#B0BEC5\", \"#B0BEC5\", \"#B0BEC5\", \"#B0BEC5\", \"#B0BEC5\", \"#B0BEC5\", \"#B0BEC5\", \"#B0BEC5\", \"#B0BEC5\", \"#B0BEC5\", \"#B0BEC5\", \"#B0BEC5\", \"#B0BEC5\", \"#B0BEC5\", \"#B0BEC5\", \"#B0BEC5\", \"#B0BEC5\", \"#B0BEC5\", \"#B0BEC5\", \"#B0BEC5\", \"#B0BEC5\", \"#B0BEC5\", \"#B0BEC5\", \"#B0BEC5\", \"#B0BEC5\", \"#B0BEC5\", \"#B0BEC5\", \"#B0BEC5\", \"#B0BEC5\", \"#B0BEC5\", \"#B0BEC5\", \"#B0BEC5\", \"#B0BEC5\", \"#B0BEC5\", \"#B0BEC5\", \"#B0BEC5\", \"#B0BEC5\", \"#B0BEC5\", \"#B0BEC5\", \"#B0BEC5\", \"#B0BEC5\", \"#B0BEC5\", \"#B0BEC5\", \"#B0BEC5\", \"#B0BEC5\", \"#B0BEC5\", \"#B0BEC5\", \"#B0BEC5\", \"#B0BEC5\", \"#B0BEC5\"]]}], \"label\": \"Topic 4\", \"method\": \"update\"}, {\"args\": [{\"marker.color\": [[\"#B0BEC5\", \"#B0BEC5\", \"#B0BEC5\", \"#B0BEC5\", \"#B0BEC5\", \"red\", \"#B0BEC5\", \"#B0BEC5\", \"#B0BEC5\", \"#B0BEC5\", \"#B0BEC5\", \"#B0BEC5\", \"#B0BEC5\", \"#B0BEC5\", \"#B0BEC5\", \"#B0BEC5\", \"#B0BEC5\", \"#B0BEC5\", \"#B0BEC5\", \"#B0BEC5\", \"#B0BEC5\", \"#B0BEC5\", \"#B0BEC5\", \"#B0BEC5\", \"#B0BEC5\", \"#B0BEC5\", \"#B0BEC5\", \"#B0BEC5\", \"#B0BEC5\", \"#B0BEC5\", \"#B0BEC5\", \"#B0BEC5\", \"#B0BEC5\", \"#B0BEC5\", \"#B0BEC5\", \"#B0BEC5\", \"#B0BEC5\", \"#B0BEC5\", \"#B0BEC5\", \"#B0BEC5\", \"#B0BEC5\", \"#B0BEC5\", \"#B0BEC5\", \"#B0BEC5\", \"#B0BEC5\", \"#B0BEC5\", \"#B0BEC5\", \"#B0BEC5\", \"#B0BEC5\", \"#B0BEC5\", \"#B0BEC5\", \"#B0BEC5\", \"#B0BEC5\", \"#B0BEC5\", \"#B0BEC5\", \"#B0BEC5\", \"#B0BEC5\", \"#B0BEC5\", \"#B0BEC5\", \"#B0BEC5\", \"#B0BEC5\", \"#B0BEC5\", \"#B0BEC5\", \"#B0BEC5\", \"#B0BEC5\", \"#B0BEC5\", \"#B0BEC5\", \"#B0BEC5\", \"#B0BEC5\", \"#B0BEC5\", \"#B0BEC5\", \"#B0BEC5\", \"#B0BEC5\", \"#B0BEC5\", \"#B0BEC5\", \"#B0BEC5\", \"#B0BEC5\", \"#B0BEC5\", \"#B0BEC5\", \"#B0BEC5\", \"#B0BEC5\", \"#B0BEC5\", \"#B0BEC5\", \"#B0BEC5\", \"#B0BEC5\", \"#B0BEC5\", \"#B0BEC5\", \"#B0BEC5\", \"#B0BEC5\", \"#B0BEC5\", \"#B0BEC5\", \"#B0BEC5\", \"#B0BEC5\", \"#B0BEC5\", \"#B0BEC5\", \"#B0BEC5\", \"#B0BEC5\", \"#B0BEC5\", \"#B0BEC5\", \"#B0BEC5\"]]}], \"label\": \"Topic 5\", \"method\": \"update\"}, {\"args\": [{\"marker.color\": [[\"#B0BEC5\", \"#B0BEC5\", \"#B0BEC5\", \"#B0BEC5\", \"#B0BEC5\", \"#B0BEC5\", \"red\", \"#B0BEC5\", \"#B0BEC5\", \"#B0BEC5\", \"#B0BEC5\", \"#B0BEC5\", \"#B0BEC5\", \"#B0BEC5\", \"#B0BEC5\", \"#B0BEC5\", \"#B0BEC5\", \"#B0BEC5\", \"#B0BEC5\", \"#B0BEC5\", \"#B0BEC5\", \"#B0BEC5\", \"#B0BEC5\", \"#B0BEC5\", \"#B0BEC5\", \"#B0BEC5\", \"#B0BEC5\", \"#B0BEC5\", \"#B0BEC5\", \"#B0BEC5\", \"#B0BEC5\", \"#B0BEC5\", \"#B0BEC5\", \"#B0BEC5\", \"#B0BEC5\", \"#B0BEC5\", \"#B0BEC5\", \"#B0BEC5\", \"#B0BEC5\", \"#B0BEC5\", \"#B0BEC5\", \"#B0BEC5\", \"#B0BEC5\", \"#B0BEC5\", \"#B0BEC5\", \"#B0BEC5\", \"#B0BEC5\", \"#B0BEC5\", \"#B0BEC5\", \"#B0BEC5\", \"#B0BEC5\", \"#B0BEC5\", \"#B0BEC5\", \"#B0BEC5\", \"#B0BEC5\", \"#B0BEC5\", \"#B0BEC5\", \"#B0BEC5\", \"#B0BEC5\", \"#B0BEC5\", \"#B0BEC5\", \"#B0BEC5\", \"#B0BEC5\", \"#B0BEC5\", \"#B0BEC5\", \"#B0BEC5\", \"#B0BEC5\", \"#B0BEC5\", \"#B0BEC5\", \"#B0BEC5\", \"#B0BEC5\", \"#B0BEC5\", \"#B0BEC5\", \"#B0BEC5\", \"#B0BEC5\", \"#B0BEC5\", \"#B0BEC5\", \"#B0BEC5\", \"#B0BEC5\", \"#B0BEC5\", \"#B0BEC5\", \"#B0BEC5\", \"#B0BEC5\", \"#B0BEC5\", \"#B0BEC5\", \"#B0BEC5\", \"#B0BEC5\", \"#B0BEC5\", \"#B0BEC5\", \"#B0BEC5\", \"#B0BEC5\", \"#B0BEC5\", \"#B0BEC5\", \"#B0BEC5\", \"#B0BEC5\", \"#B0BEC5\", \"#B0BEC5\", \"#B0BEC5\", \"#B0BEC5\", \"#B0BEC5\"]]}], \"label\": \"Topic 6\", \"method\": \"update\"}, {\"args\": [{\"marker.color\": [[\"#B0BEC5\", \"#B0BEC5\", \"#B0BEC5\", \"#B0BEC5\", \"#B0BEC5\", \"#B0BEC5\", \"#B0BEC5\", \"red\", \"#B0BEC5\", \"#B0BEC5\", \"#B0BEC5\", \"#B0BEC5\", \"#B0BEC5\", \"#B0BEC5\", \"#B0BEC5\", \"#B0BEC5\", \"#B0BEC5\", \"#B0BEC5\", \"#B0BEC5\", \"#B0BEC5\", \"#B0BEC5\", \"#B0BEC5\", \"#B0BEC5\", \"#B0BEC5\", \"#B0BEC5\", \"#B0BEC5\", \"#B0BEC5\", \"#B0BEC5\", \"#B0BEC5\", \"#B0BEC5\", \"#B0BEC5\", \"#B0BEC5\", \"#B0BEC5\", \"#B0BEC5\", \"#B0BEC5\", \"#B0BEC5\", \"#B0BEC5\", \"#B0BEC5\", \"#B0BEC5\", \"#B0BEC5\", \"#B0BEC5\", \"#B0BEC5\", \"#B0BEC5\", \"#B0BEC5\", \"#B0BEC5\", \"#B0BEC5\", \"#B0BEC5\", \"#B0BEC5\", \"#B0BEC5\", \"#B0BEC5\", \"#B0BEC5\", \"#B0BEC5\", \"#B0BEC5\", \"#B0BEC5\", \"#B0BEC5\", \"#B0BEC5\", \"#B0BEC5\", \"#B0BEC5\", \"#B0BEC5\", \"#B0BEC5\", \"#B0BEC5\", \"#B0BEC5\", \"#B0BEC5\", \"#B0BEC5\", \"#B0BEC5\", \"#B0BEC5\", \"#B0BEC5\", \"#B0BEC5\", \"#B0BEC5\", \"#B0BEC5\", \"#B0BEC5\", \"#B0BEC5\", \"#B0BEC5\", \"#B0BEC5\", \"#B0BEC5\", \"#B0BEC5\", \"#B0BEC5\", \"#B0BEC5\", \"#B0BEC5\", \"#B0BEC5\", \"#B0BEC5\", \"#B0BEC5\", \"#B0BEC5\", \"#B0BEC5\", \"#B0BEC5\", \"#B0BEC5\", \"#B0BEC5\", \"#B0BEC5\", \"#B0BEC5\", \"#B0BEC5\", \"#B0BEC5\", \"#B0BEC5\", \"#B0BEC5\", \"#B0BEC5\", \"#B0BEC5\", \"#B0BEC5\", \"#B0BEC5\", \"#B0BEC5\", \"#B0BEC5\", \"#B0BEC5\"]]}], \"label\": \"Topic 7\", \"method\": \"update\"}, {\"args\": [{\"marker.color\": [[\"#B0BEC5\", \"#B0BEC5\", \"#B0BEC5\", \"#B0BEC5\", \"#B0BEC5\", \"#B0BEC5\", \"#B0BEC5\", \"#B0BEC5\", \"red\", \"#B0BEC5\", \"#B0BEC5\", \"#B0BEC5\", \"#B0BEC5\", \"#B0BEC5\", \"#B0BEC5\", \"#B0BEC5\", \"#B0BEC5\", \"#B0BEC5\", \"#B0BEC5\", \"#B0BEC5\", \"#B0BEC5\", \"#B0BEC5\", \"#B0BEC5\", \"#B0BEC5\", \"#B0BEC5\", \"#B0BEC5\", \"#B0BEC5\", \"#B0BEC5\", \"#B0BEC5\", \"#B0BEC5\", \"#B0BEC5\", \"#B0BEC5\", \"#B0BEC5\", \"#B0BEC5\", \"#B0BEC5\", \"#B0BEC5\", \"#B0BEC5\", \"#B0BEC5\", \"#B0BEC5\", \"#B0BEC5\", \"#B0BEC5\", \"#B0BEC5\", \"#B0BEC5\", \"#B0BEC5\", \"#B0BEC5\", \"#B0BEC5\", \"#B0BEC5\", \"#B0BEC5\", \"#B0BEC5\", \"#B0BEC5\", \"#B0BEC5\", \"#B0BEC5\", \"#B0BEC5\", \"#B0BEC5\", \"#B0BEC5\", \"#B0BEC5\", \"#B0BEC5\", \"#B0BEC5\", \"#B0BEC5\", \"#B0BEC5\", \"#B0BEC5\", \"#B0BEC5\", \"#B0BEC5\", \"#B0BEC5\", \"#B0BEC5\", \"#B0BEC5\", \"#B0BEC5\", \"#B0BEC5\", \"#B0BEC5\", \"#B0BEC5\", \"#B0BEC5\", \"#B0BEC5\", \"#B0BEC5\", \"#B0BEC5\", \"#B0BEC5\", \"#B0BEC5\", \"#B0BEC5\", \"#B0BEC5\", \"#B0BEC5\", \"#B0BEC5\", \"#B0BEC5\", \"#B0BEC5\", \"#B0BEC5\", \"#B0BEC5\", \"#B0BEC5\", \"#B0BEC5\", \"#B0BEC5\", \"#B0BEC5\", \"#B0BEC5\", \"#B0BEC5\", \"#B0BEC5\", \"#B0BEC5\", \"#B0BEC5\", \"#B0BEC5\", \"#B0BEC5\", \"#B0BEC5\", \"#B0BEC5\", \"#B0BEC5\", \"#B0BEC5\", \"#B0BEC5\"]]}], \"label\": \"Topic 8\", \"method\": \"update\"}, {\"args\": [{\"marker.color\": [[\"#B0BEC5\", \"#B0BEC5\", \"#B0BEC5\", \"#B0BEC5\", \"#B0BEC5\", \"#B0BEC5\", \"#B0BEC5\", \"#B0BEC5\", \"#B0BEC5\", \"red\", \"#B0BEC5\", \"#B0BEC5\", \"#B0BEC5\", \"#B0BEC5\", \"#B0BEC5\", \"#B0BEC5\", \"#B0BEC5\", \"#B0BEC5\", \"#B0BEC5\", \"#B0BEC5\", \"#B0BEC5\", \"#B0BEC5\", \"#B0BEC5\", \"#B0BEC5\", \"#B0BEC5\", \"#B0BEC5\", \"#B0BEC5\", \"#B0BEC5\", \"#B0BEC5\", \"#B0BEC5\", \"#B0BEC5\", \"#B0BEC5\", \"#B0BEC5\", \"#B0BEC5\", \"#B0BEC5\", \"#B0BEC5\", \"#B0BEC5\", \"#B0BEC5\", \"#B0BEC5\", \"#B0BEC5\", \"#B0BEC5\", \"#B0BEC5\", \"#B0BEC5\", \"#B0BEC5\", \"#B0BEC5\", \"#B0BEC5\", \"#B0BEC5\", \"#B0BEC5\", \"#B0BEC5\", \"#B0BEC5\", \"#B0BEC5\", \"#B0BEC5\", \"#B0BEC5\", \"#B0BEC5\", \"#B0BEC5\", \"#B0BEC5\", \"#B0BEC5\", \"#B0BEC5\", \"#B0BEC5\", \"#B0BEC5\", \"#B0BEC5\", \"#B0BEC5\", \"#B0BEC5\", \"#B0BEC5\", \"#B0BEC5\", \"#B0BEC5\", \"#B0BEC5\", \"#B0BEC5\", \"#B0BEC5\", \"#B0BEC5\", \"#B0BEC5\", \"#B0BEC5\", \"#B0BEC5\", \"#B0BEC5\", \"#B0BEC5\", \"#B0BEC5\", \"#B0BEC5\", \"#B0BEC5\", \"#B0BEC5\", \"#B0BEC5\", \"#B0BEC5\", \"#B0BEC5\", \"#B0BEC5\", \"#B0BEC5\", \"#B0BEC5\", \"#B0BEC5\", \"#B0BEC5\", \"#B0BEC5\", \"#B0BEC5\", \"#B0BEC5\", \"#B0BEC5\", \"#B0BEC5\", \"#B0BEC5\", \"#B0BEC5\", \"#B0BEC5\", \"#B0BEC5\", \"#B0BEC5\", \"#B0BEC5\", \"#B0BEC5\", \"#B0BEC5\"]]}], \"label\": \"Topic 9\", \"method\": \"update\"}, {\"args\": [{\"marker.color\": [[\"#B0BEC5\", \"#B0BEC5\", \"#B0BEC5\", \"#B0BEC5\", \"#B0BEC5\", \"#B0BEC5\", \"#B0BEC5\", \"#B0BEC5\", \"#B0BEC5\", \"#B0BEC5\", \"red\", \"#B0BEC5\", \"#B0BEC5\", \"#B0BEC5\", \"#B0BEC5\", \"#B0BEC5\", \"#B0BEC5\", \"#B0BEC5\", \"#B0BEC5\", \"#B0BEC5\", \"#B0BEC5\", \"#B0BEC5\", \"#B0BEC5\", \"#B0BEC5\", \"#B0BEC5\", \"#B0BEC5\", \"#B0BEC5\", \"#B0BEC5\", \"#B0BEC5\", \"#B0BEC5\", \"#B0BEC5\", \"#B0BEC5\", \"#B0BEC5\", \"#B0BEC5\", \"#B0BEC5\", \"#B0BEC5\", \"#B0BEC5\", \"#B0BEC5\", \"#B0BEC5\", \"#B0BEC5\", \"#B0BEC5\", \"#B0BEC5\", \"#B0BEC5\", \"#B0BEC5\", \"#B0BEC5\", \"#B0BEC5\", \"#B0BEC5\", \"#B0BEC5\", \"#B0BEC5\", \"#B0BEC5\", \"#B0BEC5\", \"#B0BEC5\", \"#B0BEC5\", \"#B0BEC5\", \"#B0BEC5\", \"#B0BEC5\", \"#B0BEC5\", \"#B0BEC5\", \"#B0BEC5\", \"#B0BEC5\", \"#B0BEC5\", \"#B0BEC5\", \"#B0BEC5\", \"#B0BEC5\", \"#B0BEC5\", \"#B0BEC5\", \"#B0BEC5\", \"#B0BEC5\", \"#B0BEC5\", \"#B0BEC5\", \"#B0BEC5\", \"#B0BEC5\", \"#B0BEC5\", \"#B0BEC5\", \"#B0BEC5\", \"#B0BEC5\", \"#B0BEC5\", \"#B0BEC5\", \"#B0BEC5\", \"#B0BEC5\", \"#B0BEC5\", \"#B0BEC5\", \"#B0BEC5\", \"#B0BEC5\", \"#B0BEC5\", \"#B0BEC5\", \"#B0BEC5\", \"#B0BEC5\", \"#B0BEC5\", \"#B0BEC5\", \"#B0BEC5\", \"#B0BEC5\", \"#B0BEC5\", \"#B0BEC5\", \"#B0BEC5\", \"#B0BEC5\", \"#B0BEC5\", \"#B0BEC5\", \"#B0BEC5\", \"#B0BEC5\"]]}], \"label\": \"Topic 10\", \"method\": \"update\"}, {\"args\": [{\"marker.color\": [[\"#B0BEC5\", \"#B0BEC5\", \"#B0BEC5\", \"#B0BEC5\", \"#B0BEC5\", \"#B0BEC5\", \"#B0BEC5\", \"#B0BEC5\", \"#B0BEC5\", \"#B0BEC5\", \"#B0BEC5\", \"red\", \"#B0BEC5\", \"#B0BEC5\", \"#B0BEC5\", \"#B0BEC5\", \"#B0BEC5\", \"#B0BEC5\", \"#B0BEC5\", \"#B0BEC5\", \"#B0BEC5\", \"#B0BEC5\", \"#B0BEC5\", \"#B0BEC5\", \"#B0BEC5\", \"#B0BEC5\", \"#B0BEC5\", \"#B0BEC5\", \"#B0BEC5\", \"#B0BEC5\", \"#B0BEC5\", \"#B0BEC5\", \"#B0BEC5\", \"#B0BEC5\", \"#B0BEC5\", \"#B0BEC5\", \"#B0BEC5\", \"#B0BEC5\", \"#B0BEC5\", \"#B0BEC5\", \"#B0BEC5\", \"#B0BEC5\", \"#B0BEC5\", \"#B0BEC5\", \"#B0BEC5\", \"#B0BEC5\", \"#B0BEC5\", \"#B0BEC5\", \"#B0BEC5\", \"#B0BEC5\", \"#B0BEC5\", \"#B0BEC5\", \"#B0BEC5\", \"#B0BEC5\", \"#B0BEC5\", \"#B0BEC5\", \"#B0BEC5\", \"#B0BEC5\", \"#B0BEC5\", \"#B0BEC5\", \"#B0BEC5\", \"#B0BEC5\", \"#B0BEC5\", \"#B0BEC5\", \"#B0BEC5\", \"#B0BEC5\", \"#B0BEC5\", \"#B0BEC5\", \"#B0BEC5\", \"#B0BEC5\", \"#B0BEC5\", \"#B0BEC5\", \"#B0BEC5\", \"#B0BEC5\", \"#B0BEC5\", \"#B0BEC5\", \"#B0BEC5\", \"#B0BEC5\", \"#B0BEC5\", \"#B0BEC5\", \"#B0BEC5\", \"#B0BEC5\", \"#B0BEC5\", \"#B0BEC5\", \"#B0BEC5\", \"#B0BEC5\", \"#B0BEC5\", \"#B0BEC5\", \"#B0BEC5\", \"#B0BEC5\", \"#B0BEC5\", \"#B0BEC5\", \"#B0BEC5\", \"#B0BEC5\", \"#B0BEC5\", \"#B0BEC5\", \"#B0BEC5\", \"#B0BEC5\", \"#B0BEC5\", \"#B0BEC5\"]]}], \"label\": \"Topic 11\", \"method\": \"update\"}, {\"args\": [{\"marker.color\": [[\"#B0BEC5\", \"#B0BEC5\", \"#B0BEC5\", \"#B0BEC5\", \"#B0BEC5\", \"#B0BEC5\", \"#B0BEC5\", \"#B0BEC5\", \"#B0BEC5\", \"#B0BEC5\", \"#B0BEC5\", \"#B0BEC5\", \"red\", \"#B0BEC5\", \"#B0BEC5\", \"#B0BEC5\", \"#B0BEC5\", \"#B0BEC5\", \"#B0BEC5\", \"#B0BEC5\", \"#B0BEC5\", \"#B0BEC5\", \"#B0BEC5\", \"#B0BEC5\", \"#B0BEC5\", \"#B0BEC5\", \"#B0BEC5\", \"#B0BEC5\", \"#B0BEC5\", \"#B0BEC5\", \"#B0BEC5\", \"#B0BEC5\", \"#B0BEC5\", \"#B0BEC5\", \"#B0BEC5\", \"#B0BEC5\", \"#B0BEC5\", \"#B0BEC5\", \"#B0BEC5\", \"#B0BEC5\", \"#B0BEC5\", \"#B0BEC5\", \"#B0BEC5\", \"#B0BEC5\", \"#B0BEC5\", \"#B0BEC5\", \"#B0BEC5\", \"#B0BEC5\", \"#B0BEC5\", \"#B0BEC5\", \"#B0BEC5\", \"#B0BEC5\", \"#B0BEC5\", \"#B0BEC5\", \"#B0BEC5\", \"#B0BEC5\", \"#B0BEC5\", \"#B0BEC5\", \"#B0BEC5\", \"#B0BEC5\", \"#B0BEC5\", \"#B0BEC5\", \"#B0BEC5\", \"#B0BEC5\", \"#B0BEC5\", \"#B0BEC5\", \"#B0BEC5\", \"#B0BEC5\", \"#B0BEC5\", \"#B0BEC5\", \"#B0BEC5\", \"#B0BEC5\", \"#B0BEC5\", \"#B0BEC5\", \"#B0BEC5\", \"#B0BEC5\", \"#B0BEC5\", \"#B0BEC5\", \"#B0BEC5\", \"#B0BEC5\", \"#B0BEC5\", \"#B0BEC5\", \"#B0BEC5\", \"#B0BEC5\", \"#B0BEC5\", \"#B0BEC5\", \"#B0BEC5\", \"#B0BEC5\", \"#B0BEC5\", \"#B0BEC5\", \"#B0BEC5\", \"#B0BEC5\", \"#B0BEC5\", \"#B0BEC5\", \"#B0BEC5\", \"#B0BEC5\", \"#B0BEC5\", \"#B0BEC5\", \"#B0BEC5\", \"#B0BEC5\"]]}], \"label\": \"Topic 12\", \"method\": \"update\"}, {\"args\": [{\"marker.color\": [[\"#B0BEC5\", \"#B0BEC5\", \"#B0BEC5\", \"#B0BEC5\", \"#B0BEC5\", \"#B0BEC5\", \"#B0BEC5\", \"#B0BEC5\", \"#B0BEC5\", \"#B0BEC5\", \"#B0BEC5\", \"#B0BEC5\", \"#B0BEC5\", \"red\", \"#B0BEC5\", \"#B0BEC5\", \"#B0BEC5\", \"#B0BEC5\", \"#B0BEC5\", \"#B0BEC5\", \"#B0BEC5\", \"#B0BEC5\", \"#B0BEC5\", \"#B0BEC5\", \"#B0BEC5\", \"#B0BEC5\", \"#B0BEC5\", \"#B0BEC5\", \"#B0BEC5\", \"#B0BEC5\", \"#B0BEC5\", \"#B0BEC5\", \"#B0BEC5\", \"#B0BEC5\", \"#B0BEC5\", \"#B0BEC5\", \"#B0BEC5\", \"#B0BEC5\", \"#B0BEC5\", \"#B0BEC5\", \"#B0BEC5\", \"#B0BEC5\", \"#B0BEC5\", \"#B0BEC5\", \"#B0BEC5\", \"#B0BEC5\", \"#B0BEC5\", \"#B0BEC5\", \"#B0BEC5\", \"#B0BEC5\", \"#B0BEC5\", \"#B0BEC5\", \"#B0BEC5\", \"#B0BEC5\", \"#B0BEC5\", \"#B0BEC5\", \"#B0BEC5\", \"#B0BEC5\", \"#B0BEC5\", \"#B0BEC5\", \"#B0BEC5\", \"#B0BEC5\", \"#B0BEC5\", \"#B0BEC5\", \"#B0BEC5\", \"#B0BEC5\", \"#B0BEC5\", \"#B0BEC5\", \"#B0BEC5\", \"#B0BEC5\", \"#B0BEC5\", \"#B0BEC5\", \"#B0BEC5\", \"#B0BEC5\", \"#B0BEC5\", \"#B0BEC5\", \"#B0BEC5\", \"#B0BEC5\", \"#B0BEC5\", \"#B0BEC5\", \"#B0BEC5\", \"#B0BEC5\", \"#B0BEC5\", \"#B0BEC5\", \"#B0BEC5\", \"#B0BEC5\", \"#B0BEC5\", \"#B0BEC5\", \"#B0BEC5\", \"#B0BEC5\", \"#B0BEC5\", \"#B0BEC5\", \"#B0BEC5\", \"#B0BEC5\", \"#B0BEC5\", \"#B0BEC5\", \"#B0BEC5\", \"#B0BEC5\", \"#B0BEC5\", \"#B0BEC5\"]]}], \"label\": \"Topic 13\", \"method\": \"update\"}, {\"args\": [{\"marker.color\": [[\"#B0BEC5\", \"#B0BEC5\", \"#B0BEC5\", \"#B0BEC5\", \"#B0BEC5\", \"#B0BEC5\", \"#B0BEC5\", \"#B0BEC5\", \"#B0BEC5\", \"#B0BEC5\", \"#B0BEC5\", \"#B0BEC5\", \"#B0BEC5\", \"#B0BEC5\", \"red\", \"#B0BEC5\", \"#B0BEC5\", \"#B0BEC5\", \"#B0BEC5\", \"#B0BEC5\", \"#B0BEC5\", \"#B0BEC5\", \"#B0BEC5\", \"#B0BEC5\", \"#B0BEC5\", \"#B0BEC5\", \"#B0BEC5\", \"#B0BEC5\", \"#B0BEC5\", \"#B0BEC5\", \"#B0BEC5\", \"#B0BEC5\", \"#B0BEC5\", \"#B0BEC5\", \"#B0BEC5\", \"#B0BEC5\", \"#B0BEC5\", \"#B0BEC5\", \"#B0BEC5\", \"#B0BEC5\", \"#B0BEC5\", \"#B0BEC5\", \"#B0BEC5\", \"#B0BEC5\", \"#B0BEC5\", \"#B0BEC5\", \"#B0BEC5\", \"#B0BEC5\", \"#B0BEC5\", \"#B0BEC5\", \"#B0BEC5\", \"#B0BEC5\", \"#B0BEC5\", \"#B0BEC5\", \"#B0BEC5\", \"#B0BEC5\", \"#B0BEC5\", \"#B0BEC5\", \"#B0BEC5\", \"#B0BEC5\", \"#B0BEC5\", \"#B0BEC5\", \"#B0BEC5\", \"#B0BEC5\", \"#B0BEC5\", \"#B0BEC5\", \"#B0BEC5\", \"#B0BEC5\", \"#B0BEC5\", \"#B0BEC5\", \"#B0BEC5\", \"#B0BEC5\", \"#B0BEC5\", \"#B0BEC5\", \"#B0BEC5\", \"#B0BEC5\", \"#B0BEC5\", \"#B0BEC5\", \"#B0BEC5\", \"#B0BEC5\", \"#B0BEC5\", \"#B0BEC5\", \"#B0BEC5\", \"#B0BEC5\", \"#B0BEC5\", \"#B0BEC5\", \"#B0BEC5\", \"#B0BEC5\", \"#B0BEC5\", \"#B0BEC5\", \"#B0BEC5\", \"#B0BEC5\", \"#B0BEC5\", \"#B0BEC5\", \"#B0BEC5\", \"#B0BEC5\", \"#B0BEC5\", \"#B0BEC5\", \"#B0BEC5\", \"#B0BEC5\"]]}], \"label\": \"Topic 14\", \"method\": \"update\"}, {\"args\": [{\"marker.color\": [[\"#B0BEC5\", \"#B0BEC5\", \"#B0BEC5\", \"#B0BEC5\", \"#B0BEC5\", \"#B0BEC5\", \"#B0BEC5\", \"#B0BEC5\", \"#B0BEC5\", \"#B0BEC5\", \"#B0BEC5\", \"#B0BEC5\", \"#B0BEC5\", \"#B0BEC5\", \"#B0BEC5\", \"red\", \"#B0BEC5\", \"#B0BEC5\", \"#B0BEC5\", \"#B0BEC5\", \"#B0BEC5\", \"#B0BEC5\", \"#B0BEC5\", \"#B0BEC5\", \"#B0BEC5\", \"#B0BEC5\", \"#B0BEC5\", \"#B0BEC5\", \"#B0BEC5\", \"#B0BEC5\", \"#B0BEC5\", \"#B0BEC5\", \"#B0BEC5\", \"#B0BEC5\", \"#B0BEC5\", \"#B0BEC5\", \"#B0BEC5\", \"#B0BEC5\", \"#B0BEC5\", \"#B0BEC5\", \"#B0BEC5\", \"#B0BEC5\", \"#B0BEC5\", \"#B0BEC5\", \"#B0BEC5\", \"#B0BEC5\", \"#B0BEC5\", \"#B0BEC5\", \"#B0BEC5\", \"#B0BEC5\", \"#B0BEC5\", \"#B0BEC5\", \"#B0BEC5\", \"#B0BEC5\", \"#B0BEC5\", \"#B0BEC5\", \"#B0BEC5\", \"#B0BEC5\", \"#B0BEC5\", \"#B0BEC5\", \"#B0BEC5\", \"#B0BEC5\", \"#B0BEC5\", \"#B0BEC5\", \"#B0BEC5\", \"#B0BEC5\", \"#B0BEC5\", \"#B0BEC5\", \"#B0BEC5\", \"#B0BEC5\", \"#B0BEC5\", \"#B0BEC5\", \"#B0BEC5\", \"#B0BEC5\", \"#B0BEC5\", \"#B0BEC5\", \"#B0BEC5\", \"#B0BEC5\", \"#B0BEC5\", \"#B0BEC5\", \"#B0BEC5\", \"#B0BEC5\", \"#B0BEC5\", \"#B0BEC5\", \"#B0BEC5\", \"#B0BEC5\", \"#B0BEC5\", \"#B0BEC5\", \"#B0BEC5\", \"#B0BEC5\", \"#B0BEC5\", \"#B0BEC5\", \"#B0BEC5\", \"#B0BEC5\", \"#B0BEC5\", \"#B0BEC5\", \"#B0BEC5\", \"#B0BEC5\", \"#B0BEC5\", \"#B0BEC5\"]]}], \"label\": \"Topic 15\", \"method\": \"update\"}, {\"args\": [{\"marker.color\": [[\"#B0BEC5\", \"#B0BEC5\", \"#B0BEC5\", \"#B0BEC5\", \"#B0BEC5\", \"#B0BEC5\", \"#B0BEC5\", \"#B0BEC5\", \"#B0BEC5\", \"#B0BEC5\", \"#B0BEC5\", \"#B0BEC5\", \"#B0BEC5\", \"#B0BEC5\", \"#B0BEC5\", \"#B0BEC5\", \"red\", \"#B0BEC5\", \"#B0BEC5\", \"#B0BEC5\", \"#B0BEC5\", \"#B0BEC5\", \"#B0BEC5\", \"#B0BEC5\", \"#B0BEC5\", \"#B0BEC5\", \"#B0BEC5\", \"#B0BEC5\", \"#B0BEC5\", \"#B0BEC5\", \"#B0BEC5\", \"#B0BEC5\", \"#B0BEC5\", \"#B0BEC5\", \"#B0BEC5\", \"#B0BEC5\", \"#B0BEC5\", \"#B0BEC5\", \"#B0BEC5\", \"#B0BEC5\", \"#B0BEC5\", \"#B0BEC5\", \"#B0BEC5\", \"#B0BEC5\", \"#B0BEC5\", \"#B0BEC5\", \"#B0BEC5\", \"#B0BEC5\", \"#B0BEC5\", \"#B0BEC5\", \"#B0BEC5\", \"#B0BEC5\", \"#B0BEC5\", \"#B0BEC5\", \"#B0BEC5\", \"#B0BEC5\", \"#B0BEC5\", \"#B0BEC5\", \"#B0BEC5\", \"#B0BEC5\", \"#B0BEC5\", \"#B0BEC5\", \"#B0BEC5\", \"#B0BEC5\", \"#B0BEC5\", \"#B0BEC5\", \"#B0BEC5\", \"#B0BEC5\", \"#B0BEC5\", \"#B0BEC5\", \"#B0BEC5\", \"#B0BEC5\", \"#B0BEC5\", \"#B0BEC5\", \"#B0BEC5\", \"#B0BEC5\", \"#B0BEC5\", \"#B0BEC5\", \"#B0BEC5\", \"#B0BEC5\", \"#B0BEC5\", \"#B0BEC5\", \"#B0BEC5\", \"#B0BEC5\", \"#B0BEC5\", \"#B0BEC5\", \"#B0BEC5\", \"#B0BEC5\", \"#B0BEC5\", \"#B0BEC5\", \"#B0BEC5\", \"#B0BEC5\", \"#B0BEC5\", \"#B0BEC5\", \"#B0BEC5\", \"#B0BEC5\", \"#B0BEC5\", \"#B0BEC5\", \"#B0BEC5\", \"#B0BEC5\"]]}], \"label\": \"Topic 16\", \"method\": \"update\"}, {\"args\": [{\"marker.color\": [[\"#B0BEC5\", \"#B0BEC5\", \"#B0BEC5\", \"#B0BEC5\", \"#B0BEC5\", \"#B0BEC5\", \"#B0BEC5\", \"#B0BEC5\", \"#B0BEC5\", \"#B0BEC5\", \"#B0BEC5\", \"#B0BEC5\", \"#B0BEC5\", \"#B0BEC5\", \"#B0BEC5\", \"#B0BEC5\", \"#B0BEC5\", \"red\", \"#B0BEC5\", \"#B0BEC5\", \"#B0BEC5\", \"#B0BEC5\", \"#B0BEC5\", \"#B0BEC5\", \"#B0BEC5\", \"#B0BEC5\", \"#B0BEC5\", \"#B0BEC5\", \"#B0BEC5\", \"#B0BEC5\", \"#B0BEC5\", \"#B0BEC5\", \"#B0BEC5\", \"#B0BEC5\", \"#B0BEC5\", \"#B0BEC5\", \"#B0BEC5\", \"#B0BEC5\", \"#B0BEC5\", \"#B0BEC5\", \"#B0BEC5\", \"#B0BEC5\", \"#B0BEC5\", \"#B0BEC5\", \"#B0BEC5\", \"#B0BEC5\", \"#B0BEC5\", \"#B0BEC5\", \"#B0BEC5\", \"#B0BEC5\", \"#B0BEC5\", \"#B0BEC5\", \"#B0BEC5\", \"#B0BEC5\", \"#B0BEC5\", \"#B0BEC5\", \"#B0BEC5\", \"#B0BEC5\", \"#B0BEC5\", \"#B0BEC5\", \"#B0BEC5\", \"#B0BEC5\", \"#B0BEC5\", \"#B0BEC5\", \"#B0BEC5\", \"#B0BEC5\", \"#B0BEC5\", \"#B0BEC5\", \"#B0BEC5\", \"#B0BEC5\", \"#B0BEC5\", \"#B0BEC5\", \"#B0BEC5\", \"#B0BEC5\", \"#B0BEC5\", \"#B0BEC5\", \"#B0BEC5\", \"#B0BEC5\", \"#B0BEC5\", \"#B0BEC5\", \"#B0BEC5\", \"#B0BEC5\", \"#B0BEC5\", \"#B0BEC5\", \"#B0BEC5\", \"#B0BEC5\", \"#B0BEC5\", \"#B0BEC5\", \"#B0BEC5\", \"#B0BEC5\", \"#B0BEC5\", \"#B0BEC5\", \"#B0BEC5\", \"#B0BEC5\", \"#B0BEC5\", \"#B0BEC5\", \"#B0BEC5\", \"#B0BEC5\", \"#B0BEC5\", \"#B0BEC5\"]]}], \"label\": \"Topic 17\", \"method\": \"update\"}, {\"args\": [{\"marker.color\": [[\"#B0BEC5\", \"#B0BEC5\", \"#B0BEC5\", \"#B0BEC5\", \"#B0BEC5\", \"#B0BEC5\", \"#B0BEC5\", \"#B0BEC5\", \"#B0BEC5\", \"#B0BEC5\", \"#B0BEC5\", \"#B0BEC5\", \"#B0BEC5\", \"#B0BEC5\", \"#B0BEC5\", \"#B0BEC5\", \"#B0BEC5\", \"#B0BEC5\", \"red\", \"#B0BEC5\", \"#B0BEC5\", \"#B0BEC5\", \"#B0BEC5\", \"#B0BEC5\", \"#B0BEC5\", \"#B0BEC5\", \"#B0BEC5\", \"#B0BEC5\", \"#B0BEC5\", \"#B0BEC5\", \"#B0BEC5\", \"#B0BEC5\", \"#B0BEC5\", \"#B0BEC5\", \"#B0BEC5\", \"#B0BEC5\", \"#B0BEC5\", \"#B0BEC5\", \"#B0BEC5\", \"#B0BEC5\", \"#B0BEC5\", \"#B0BEC5\", \"#B0BEC5\", \"#B0BEC5\", \"#B0BEC5\", \"#B0BEC5\", \"#B0BEC5\", \"#B0BEC5\", \"#B0BEC5\", \"#B0BEC5\", \"#B0BEC5\", \"#B0BEC5\", \"#B0BEC5\", \"#B0BEC5\", \"#B0BEC5\", \"#B0BEC5\", \"#B0BEC5\", \"#B0BEC5\", \"#B0BEC5\", \"#B0BEC5\", \"#B0BEC5\", \"#B0BEC5\", \"#B0BEC5\", \"#B0BEC5\", \"#B0BEC5\", \"#B0BEC5\", \"#B0BEC5\", \"#B0BEC5\", \"#B0BEC5\", \"#B0BEC5\", \"#B0BEC5\", \"#B0BEC5\", \"#B0BEC5\", \"#B0BEC5\", \"#B0BEC5\", \"#B0BEC5\", \"#B0BEC5\", \"#B0BEC5\", \"#B0BEC5\", \"#B0BEC5\", \"#B0BEC5\", \"#B0BEC5\", \"#B0BEC5\", \"#B0BEC5\", \"#B0BEC5\", \"#B0BEC5\", \"#B0BEC5\", \"#B0BEC5\", \"#B0BEC5\", \"#B0BEC5\", \"#B0BEC5\", \"#B0BEC5\", \"#B0BEC5\", \"#B0BEC5\", \"#B0BEC5\", \"#B0BEC5\", \"#B0BEC5\", \"#B0BEC5\", \"#B0BEC5\", \"#B0BEC5\"]]}], \"label\": \"Topic 18\", \"method\": \"update\"}, {\"args\": [{\"marker.color\": [[\"#B0BEC5\", \"#B0BEC5\", \"#B0BEC5\", \"#B0BEC5\", \"#B0BEC5\", \"#B0BEC5\", \"#B0BEC5\", \"#B0BEC5\", \"#B0BEC5\", \"#B0BEC5\", \"#B0BEC5\", \"#B0BEC5\", \"#B0BEC5\", \"#B0BEC5\", \"#B0BEC5\", \"#B0BEC5\", \"#B0BEC5\", \"#B0BEC5\", \"#B0BEC5\", \"red\", \"#B0BEC5\", \"#B0BEC5\", \"#B0BEC5\", \"#B0BEC5\", \"#B0BEC5\", \"#B0BEC5\", \"#B0BEC5\", \"#B0BEC5\", \"#B0BEC5\", \"#B0BEC5\", \"#B0BEC5\", \"#B0BEC5\", \"#B0BEC5\", \"#B0BEC5\", \"#B0BEC5\", \"#B0BEC5\", \"#B0BEC5\", \"#B0BEC5\", \"#B0BEC5\", \"#B0BEC5\", \"#B0BEC5\", \"#B0BEC5\", \"#B0BEC5\", \"#B0BEC5\", \"#B0BEC5\", \"#B0BEC5\", \"#B0BEC5\", \"#B0BEC5\", \"#B0BEC5\", \"#B0BEC5\", \"#B0BEC5\", \"#B0BEC5\", \"#B0BEC5\", \"#B0BEC5\", \"#B0BEC5\", \"#B0BEC5\", \"#B0BEC5\", \"#B0BEC5\", \"#B0BEC5\", \"#B0BEC5\", \"#B0BEC5\", \"#B0BEC5\", \"#B0BEC5\", \"#B0BEC5\", \"#B0BEC5\", \"#B0BEC5\", \"#B0BEC5\", \"#B0BEC5\", \"#B0BEC5\", \"#B0BEC5\", \"#B0BEC5\", \"#B0BEC5\", \"#B0BEC5\", \"#B0BEC5\", \"#B0BEC5\", \"#B0BEC5\", \"#B0BEC5\", \"#B0BEC5\", \"#B0BEC5\", \"#B0BEC5\", \"#B0BEC5\", \"#B0BEC5\", \"#B0BEC5\", \"#B0BEC5\", \"#B0BEC5\", \"#B0BEC5\", \"#B0BEC5\", \"#B0BEC5\", \"#B0BEC5\", \"#B0BEC5\", \"#B0BEC5\", \"#B0BEC5\", \"#B0BEC5\", \"#B0BEC5\", \"#B0BEC5\", \"#B0BEC5\", \"#B0BEC5\", \"#B0BEC5\", \"#B0BEC5\", \"#B0BEC5\"]]}], \"label\": \"Topic 19\", \"method\": \"update\"}, {\"args\": [{\"marker.color\": [[\"#B0BEC5\", \"#B0BEC5\", \"#B0BEC5\", \"#B0BEC5\", \"#B0BEC5\", \"#B0BEC5\", \"#B0BEC5\", \"#B0BEC5\", \"#B0BEC5\", \"#B0BEC5\", \"#B0BEC5\", \"#B0BEC5\", \"#B0BEC5\", \"#B0BEC5\", \"#B0BEC5\", \"#B0BEC5\", \"#B0BEC5\", \"#B0BEC5\", \"#B0BEC5\", \"#B0BEC5\", \"red\", \"#B0BEC5\", \"#B0BEC5\", \"#B0BEC5\", \"#B0BEC5\", \"#B0BEC5\", \"#B0BEC5\", \"#B0BEC5\", \"#B0BEC5\", \"#B0BEC5\", \"#B0BEC5\", \"#B0BEC5\", \"#B0BEC5\", \"#B0BEC5\", \"#B0BEC5\", \"#B0BEC5\", \"#B0BEC5\", \"#B0BEC5\", \"#B0BEC5\", \"#B0BEC5\", \"#B0BEC5\", \"#B0BEC5\", \"#B0BEC5\", \"#B0BEC5\", \"#B0BEC5\", \"#B0BEC5\", \"#B0BEC5\", \"#B0BEC5\", \"#B0BEC5\", \"#B0BEC5\", \"#B0BEC5\", \"#B0BEC5\", \"#B0BEC5\", \"#B0BEC5\", \"#B0BEC5\", \"#B0BEC5\", \"#B0BEC5\", \"#B0BEC5\", \"#B0BEC5\", \"#B0BEC5\", \"#B0BEC5\", \"#B0BEC5\", \"#B0BEC5\", \"#B0BEC5\", \"#B0BEC5\", \"#B0BEC5\", \"#B0BEC5\", \"#B0BEC5\", \"#B0BEC5\", \"#B0BEC5\", \"#B0BEC5\", \"#B0BEC5\", \"#B0BEC5\", \"#B0BEC5\", \"#B0BEC5\", \"#B0BEC5\", \"#B0BEC5\", \"#B0BEC5\", \"#B0BEC5\", \"#B0BEC5\", \"#B0BEC5\", \"#B0BEC5\", \"#B0BEC5\", \"#B0BEC5\", \"#B0BEC5\", \"#B0BEC5\", \"#B0BEC5\", \"#B0BEC5\", \"#B0BEC5\", \"#B0BEC5\", \"#B0BEC5\", \"#B0BEC5\", \"#B0BEC5\", \"#B0BEC5\", \"#B0BEC5\", \"#B0BEC5\", \"#B0BEC5\", \"#B0BEC5\", \"#B0BEC5\", \"#B0BEC5\"]]}], \"label\": \"Topic 20\", \"method\": \"update\"}, {\"args\": [{\"marker.color\": [[\"#B0BEC5\", \"#B0BEC5\", \"#B0BEC5\", \"#B0BEC5\", \"#B0BEC5\", \"#B0BEC5\", \"#B0BEC5\", \"#B0BEC5\", \"#B0BEC5\", \"#B0BEC5\", \"#B0BEC5\", \"#B0BEC5\", \"#B0BEC5\", \"#B0BEC5\", \"#B0BEC5\", \"#B0BEC5\", \"#B0BEC5\", \"#B0BEC5\", \"#B0BEC5\", \"#B0BEC5\", \"#B0BEC5\", \"red\", \"#B0BEC5\", \"#B0BEC5\", \"#B0BEC5\", \"#B0BEC5\", \"#B0BEC5\", \"#B0BEC5\", \"#B0BEC5\", \"#B0BEC5\", \"#B0BEC5\", \"#B0BEC5\", \"#B0BEC5\", \"#B0BEC5\", \"#B0BEC5\", \"#B0BEC5\", \"#B0BEC5\", \"#B0BEC5\", \"#B0BEC5\", \"#B0BEC5\", \"#B0BEC5\", \"#B0BEC5\", \"#B0BEC5\", \"#B0BEC5\", \"#B0BEC5\", \"#B0BEC5\", \"#B0BEC5\", \"#B0BEC5\", \"#B0BEC5\", \"#B0BEC5\", \"#B0BEC5\", \"#B0BEC5\", \"#B0BEC5\", \"#B0BEC5\", \"#B0BEC5\", \"#B0BEC5\", \"#B0BEC5\", \"#B0BEC5\", \"#B0BEC5\", \"#B0BEC5\", \"#B0BEC5\", \"#B0BEC5\", \"#B0BEC5\", \"#B0BEC5\", \"#B0BEC5\", \"#B0BEC5\", \"#B0BEC5\", \"#B0BEC5\", \"#B0BEC5\", \"#B0BEC5\", \"#B0BEC5\", \"#B0BEC5\", \"#B0BEC5\", \"#B0BEC5\", \"#B0BEC5\", \"#B0BEC5\", \"#B0BEC5\", \"#B0BEC5\", \"#B0BEC5\", \"#B0BEC5\", \"#B0BEC5\", \"#B0BEC5\", \"#B0BEC5\", \"#B0BEC5\", \"#B0BEC5\", \"#B0BEC5\", \"#B0BEC5\", \"#B0BEC5\", \"#B0BEC5\", \"#B0BEC5\", \"#B0BEC5\", \"#B0BEC5\", \"#B0BEC5\", \"#B0BEC5\", \"#B0BEC5\", \"#B0BEC5\", \"#B0BEC5\", \"#B0BEC5\", \"#B0BEC5\", \"#B0BEC5\"]]}], \"label\": \"Topic 21\", \"method\": \"update\"}, {\"args\": [{\"marker.color\": [[\"#B0BEC5\", \"#B0BEC5\", \"#B0BEC5\", \"#B0BEC5\", \"#B0BEC5\", \"#B0BEC5\", \"#B0BEC5\", \"#B0BEC5\", \"#B0BEC5\", \"#B0BEC5\", \"#B0BEC5\", \"#B0BEC5\", \"#B0BEC5\", \"#B0BEC5\", \"#B0BEC5\", \"#B0BEC5\", \"#B0BEC5\", \"#B0BEC5\", \"#B0BEC5\", \"#B0BEC5\", \"#B0BEC5\", \"#B0BEC5\", \"red\", \"#B0BEC5\", \"#B0BEC5\", \"#B0BEC5\", \"#B0BEC5\", \"#B0BEC5\", \"#B0BEC5\", \"#B0BEC5\", \"#B0BEC5\", \"#B0BEC5\", \"#B0BEC5\", \"#B0BEC5\", \"#B0BEC5\", \"#B0BEC5\", \"#B0BEC5\", \"#B0BEC5\", \"#B0BEC5\", \"#B0BEC5\", \"#B0BEC5\", \"#B0BEC5\", \"#B0BEC5\", \"#B0BEC5\", \"#B0BEC5\", \"#B0BEC5\", \"#B0BEC5\", \"#B0BEC5\", \"#B0BEC5\", \"#B0BEC5\", \"#B0BEC5\", \"#B0BEC5\", \"#B0BEC5\", \"#B0BEC5\", \"#B0BEC5\", \"#B0BEC5\", \"#B0BEC5\", \"#B0BEC5\", \"#B0BEC5\", \"#B0BEC5\", \"#B0BEC5\", \"#B0BEC5\", \"#B0BEC5\", \"#B0BEC5\", \"#B0BEC5\", \"#B0BEC5\", \"#B0BEC5\", \"#B0BEC5\", \"#B0BEC5\", \"#B0BEC5\", \"#B0BEC5\", \"#B0BEC5\", \"#B0BEC5\", \"#B0BEC5\", \"#B0BEC5\", \"#B0BEC5\", \"#B0BEC5\", \"#B0BEC5\", \"#B0BEC5\", \"#B0BEC5\", \"#B0BEC5\", \"#B0BEC5\", \"#B0BEC5\", \"#B0BEC5\", \"#B0BEC5\", \"#B0BEC5\", \"#B0BEC5\", \"#B0BEC5\", \"#B0BEC5\", \"#B0BEC5\", \"#B0BEC5\", \"#B0BEC5\", \"#B0BEC5\", \"#B0BEC5\", \"#B0BEC5\", \"#B0BEC5\", \"#B0BEC5\", \"#B0BEC5\", \"#B0BEC5\", \"#B0BEC5\"]]}], \"label\": \"Topic 22\", \"method\": \"update\"}, {\"args\": [{\"marker.color\": [[\"#B0BEC5\", \"#B0BEC5\", \"#B0BEC5\", \"#B0BEC5\", \"#B0BEC5\", \"#B0BEC5\", \"#B0BEC5\", \"#B0BEC5\", \"#B0BEC5\", \"#B0BEC5\", \"#B0BEC5\", \"#B0BEC5\", \"#B0BEC5\", \"#B0BEC5\", \"#B0BEC5\", \"#B0BEC5\", \"#B0BEC5\", \"#B0BEC5\", \"#B0BEC5\", \"#B0BEC5\", \"#B0BEC5\", \"#B0BEC5\", \"#B0BEC5\", \"red\", \"#B0BEC5\", \"#B0BEC5\", \"#B0BEC5\", \"#B0BEC5\", \"#B0BEC5\", \"#B0BEC5\", \"#B0BEC5\", \"#B0BEC5\", \"#B0BEC5\", \"#B0BEC5\", \"#B0BEC5\", \"#B0BEC5\", \"#B0BEC5\", \"#B0BEC5\", \"#B0BEC5\", \"#B0BEC5\", \"#B0BEC5\", \"#B0BEC5\", \"#B0BEC5\", \"#B0BEC5\", \"#B0BEC5\", \"#B0BEC5\", \"#B0BEC5\", \"#B0BEC5\", \"#B0BEC5\", \"#B0BEC5\", \"#B0BEC5\", \"#B0BEC5\", \"#B0BEC5\", \"#B0BEC5\", \"#B0BEC5\", \"#B0BEC5\", \"#B0BEC5\", \"#B0BEC5\", \"#B0BEC5\", \"#B0BEC5\", \"#B0BEC5\", \"#B0BEC5\", \"#B0BEC5\", \"#B0BEC5\", \"#B0BEC5\", \"#B0BEC5\", \"#B0BEC5\", \"#B0BEC5\", \"#B0BEC5\", \"#B0BEC5\", \"#B0BEC5\", \"#B0BEC5\", \"#B0BEC5\", \"#B0BEC5\", \"#B0BEC5\", \"#B0BEC5\", \"#B0BEC5\", \"#B0BEC5\", \"#B0BEC5\", \"#B0BEC5\", \"#B0BEC5\", \"#B0BEC5\", \"#B0BEC5\", \"#B0BEC5\", \"#B0BEC5\", \"#B0BEC5\", \"#B0BEC5\", \"#B0BEC5\", \"#B0BEC5\", \"#B0BEC5\", \"#B0BEC5\", \"#B0BEC5\", \"#B0BEC5\", \"#B0BEC5\", \"#B0BEC5\", \"#B0BEC5\", \"#B0BEC5\", \"#B0BEC5\", \"#B0BEC5\", \"#B0BEC5\"]]}], \"label\": \"Topic 23\", \"method\": \"update\"}, {\"args\": [{\"marker.color\": [[\"#B0BEC5\", \"#B0BEC5\", \"#B0BEC5\", \"#B0BEC5\", \"#B0BEC5\", \"#B0BEC5\", \"#B0BEC5\", \"#B0BEC5\", \"#B0BEC5\", \"#B0BEC5\", \"#B0BEC5\", \"#B0BEC5\", \"#B0BEC5\", \"#B0BEC5\", \"#B0BEC5\", \"#B0BEC5\", \"#B0BEC5\", \"#B0BEC5\", \"#B0BEC5\", \"#B0BEC5\", \"#B0BEC5\", \"#B0BEC5\", \"#B0BEC5\", \"#B0BEC5\", \"red\", \"#B0BEC5\", \"#B0BEC5\", \"#B0BEC5\", \"#B0BEC5\", \"#B0BEC5\", \"#B0BEC5\", \"#B0BEC5\", \"#B0BEC5\", \"#B0BEC5\", \"#B0BEC5\", \"#B0BEC5\", \"#B0BEC5\", \"#B0BEC5\", \"#B0BEC5\", \"#B0BEC5\", \"#B0BEC5\", \"#B0BEC5\", \"#B0BEC5\", \"#B0BEC5\", \"#B0BEC5\", \"#B0BEC5\", \"#B0BEC5\", \"#B0BEC5\", \"#B0BEC5\", \"#B0BEC5\", \"#B0BEC5\", \"#B0BEC5\", \"#B0BEC5\", \"#B0BEC5\", \"#B0BEC5\", \"#B0BEC5\", \"#B0BEC5\", \"#B0BEC5\", \"#B0BEC5\", \"#B0BEC5\", \"#B0BEC5\", \"#B0BEC5\", \"#B0BEC5\", \"#B0BEC5\", \"#B0BEC5\", \"#B0BEC5\", \"#B0BEC5\", \"#B0BEC5\", \"#B0BEC5\", \"#B0BEC5\", \"#B0BEC5\", \"#B0BEC5\", \"#B0BEC5\", \"#B0BEC5\", \"#B0BEC5\", \"#B0BEC5\", \"#B0BEC5\", \"#B0BEC5\", \"#B0BEC5\", \"#B0BEC5\", \"#B0BEC5\", \"#B0BEC5\", \"#B0BEC5\", \"#B0BEC5\", \"#B0BEC5\", \"#B0BEC5\", \"#B0BEC5\", \"#B0BEC5\", \"#B0BEC5\", \"#B0BEC5\", \"#B0BEC5\", \"#B0BEC5\", \"#B0BEC5\", \"#B0BEC5\", \"#B0BEC5\", \"#B0BEC5\", \"#B0BEC5\", \"#B0BEC5\", \"#B0BEC5\", \"#B0BEC5\"]]}], \"label\": \"Topic 24\", \"method\": \"update\"}, {\"args\": [{\"marker.color\": [[\"#B0BEC5\", \"#B0BEC5\", \"#B0BEC5\", \"#B0BEC5\", \"#B0BEC5\", \"#B0BEC5\", \"#B0BEC5\", \"#B0BEC5\", \"#B0BEC5\", \"#B0BEC5\", \"#B0BEC5\", \"#B0BEC5\", \"#B0BEC5\", \"#B0BEC5\", \"#B0BEC5\", \"#B0BEC5\", \"#B0BEC5\", \"#B0BEC5\", \"#B0BEC5\", \"#B0BEC5\", \"#B0BEC5\", \"#B0BEC5\", \"#B0BEC5\", \"#B0BEC5\", \"#B0BEC5\", \"red\", \"#B0BEC5\", \"#B0BEC5\", \"#B0BEC5\", \"#B0BEC5\", \"#B0BEC5\", \"#B0BEC5\", \"#B0BEC5\", \"#B0BEC5\", \"#B0BEC5\", \"#B0BEC5\", \"#B0BEC5\", \"#B0BEC5\", \"#B0BEC5\", \"#B0BEC5\", \"#B0BEC5\", \"#B0BEC5\", \"#B0BEC5\", \"#B0BEC5\", \"#B0BEC5\", \"#B0BEC5\", \"#B0BEC5\", \"#B0BEC5\", \"#B0BEC5\", \"#B0BEC5\", \"#B0BEC5\", \"#B0BEC5\", \"#B0BEC5\", \"#B0BEC5\", \"#B0BEC5\", \"#B0BEC5\", \"#B0BEC5\", \"#B0BEC5\", \"#B0BEC5\", \"#B0BEC5\", \"#B0BEC5\", \"#B0BEC5\", \"#B0BEC5\", \"#B0BEC5\", \"#B0BEC5\", \"#B0BEC5\", \"#B0BEC5\", \"#B0BEC5\", \"#B0BEC5\", \"#B0BEC5\", \"#B0BEC5\", \"#B0BEC5\", \"#B0BEC5\", \"#B0BEC5\", \"#B0BEC5\", \"#B0BEC5\", \"#B0BEC5\", \"#B0BEC5\", \"#B0BEC5\", \"#B0BEC5\", \"#B0BEC5\", \"#B0BEC5\", \"#B0BEC5\", \"#B0BEC5\", \"#B0BEC5\", \"#B0BEC5\", \"#B0BEC5\", \"#B0BEC5\", \"#B0BEC5\", \"#B0BEC5\", \"#B0BEC5\", \"#B0BEC5\", \"#B0BEC5\", \"#B0BEC5\", \"#B0BEC5\", \"#B0BEC5\", \"#B0BEC5\", \"#B0BEC5\", \"#B0BEC5\", \"#B0BEC5\"]]}], \"label\": \"Topic 25\", \"method\": \"update\"}, {\"args\": [{\"marker.color\": [[\"#B0BEC5\", \"#B0BEC5\", \"#B0BEC5\", \"#B0BEC5\", \"#B0BEC5\", \"#B0BEC5\", \"#B0BEC5\", \"#B0BEC5\", \"#B0BEC5\", \"#B0BEC5\", \"#B0BEC5\", \"#B0BEC5\", \"#B0BEC5\", \"#B0BEC5\", \"#B0BEC5\", \"#B0BEC5\", \"#B0BEC5\", \"#B0BEC5\", \"#B0BEC5\", \"#B0BEC5\", \"#B0BEC5\", \"#B0BEC5\", \"#B0BEC5\", \"#B0BEC5\", \"#B0BEC5\", \"#B0BEC5\", \"red\", \"#B0BEC5\", \"#B0BEC5\", \"#B0BEC5\", \"#B0BEC5\", \"#B0BEC5\", \"#B0BEC5\", \"#B0BEC5\", \"#B0BEC5\", \"#B0BEC5\", \"#B0BEC5\", \"#B0BEC5\", \"#B0BEC5\", \"#B0BEC5\", \"#B0BEC5\", \"#B0BEC5\", \"#B0BEC5\", \"#B0BEC5\", \"#B0BEC5\", \"#B0BEC5\", \"#B0BEC5\", \"#B0BEC5\", \"#B0BEC5\", \"#B0BEC5\", \"#B0BEC5\", \"#B0BEC5\", \"#B0BEC5\", \"#B0BEC5\", \"#B0BEC5\", \"#B0BEC5\", \"#B0BEC5\", \"#B0BEC5\", \"#B0BEC5\", \"#B0BEC5\", \"#B0BEC5\", \"#B0BEC5\", \"#B0BEC5\", \"#B0BEC5\", \"#B0BEC5\", \"#B0BEC5\", \"#B0BEC5\", \"#B0BEC5\", \"#B0BEC5\", \"#B0BEC5\", \"#B0BEC5\", \"#B0BEC5\", \"#B0BEC5\", \"#B0BEC5\", \"#B0BEC5\", \"#B0BEC5\", \"#B0BEC5\", \"#B0BEC5\", \"#B0BEC5\", \"#B0BEC5\", \"#B0BEC5\", \"#B0BEC5\", \"#B0BEC5\", \"#B0BEC5\", \"#B0BEC5\", \"#B0BEC5\", \"#B0BEC5\", \"#B0BEC5\", \"#B0BEC5\", \"#B0BEC5\", \"#B0BEC5\", \"#B0BEC5\", \"#B0BEC5\", \"#B0BEC5\", \"#B0BEC5\", \"#B0BEC5\", \"#B0BEC5\", \"#B0BEC5\", \"#B0BEC5\", \"#B0BEC5\"]]}], \"label\": \"Topic 26\", \"method\": \"update\"}, {\"args\": [{\"marker.color\": [[\"#B0BEC5\", \"#B0BEC5\", \"#B0BEC5\", \"#B0BEC5\", \"#B0BEC5\", \"#B0BEC5\", \"#B0BEC5\", \"#B0BEC5\", \"#B0BEC5\", \"#B0BEC5\", \"#B0BEC5\", \"#B0BEC5\", \"#B0BEC5\", \"#B0BEC5\", \"#B0BEC5\", \"#B0BEC5\", \"#B0BEC5\", \"#B0BEC5\", \"#B0BEC5\", \"#B0BEC5\", \"#B0BEC5\", \"#B0BEC5\", \"#B0BEC5\", \"#B0BEC5\", \"#B0BEC5\", \"#B0BEC5\", \"#B0BEC5\", \"red\", \"#B0BEC5\", \"#B0BEC5\", \"#B0BEC5\", \"#B0BEC5\", \"#B0BEC5\", \"#B0BEC5\", \"#B0BEC5\", \"#B0BEC5\", \"#B0BEC5\", \"#B0BEC5\", \"#B0BEC5\", \"#B0BEC5\", \"#B0BEC5\", \"#B0BEC5\", \"#B0BEC5\", \"#B0BEC5\", \"#B0BEC5\", \"#B0BEC5\", \"#B0BEC5\", \"#B0BEC5\", \"#B0BEC5\", \"#B0BEC5\", \"#B0BEC5\", \"#B0BEC5\", \"#B0BEC5\", \"#B0BEC5\", \"#B0BEC5\", \"#B0BEC5\", \"#B0BEC5\", \"#B0BEC5\", \"#B0BEC5\", \"#B0BEC5\", \"#B0BEC5\", \"#B0BEC5\", \"#B0BEC5\", \"#B0BEC5\", \"#B0BEC5\", \"#B0BEC5\", \"#B0BEC5\", \"#B0BEC5\", \"#B0BEC5\", \"#B0BEC5\", \"#B0BEC5\", \"#B0BEC5\", \"#B0BEC5\", \"#B0BEC5\", \"#B0BEC5\", \"#B0BEC5\", \"#B0BEC5\", \"#B0BEC5\", \"#B0BEC5\", \"#B0BEC5\", \"#B0BEC5\", \"#B0BEC5\", \"#B0BEC5\", \"#B0BEC5\", \"#B0BEC5\", \"#B0BEC5\", \"#B0BEC5\", \"#B0BEC5\", \"#B0BEC5\", \"#B0BEC5\", \"#B0BEC5\", \"#B0BEC5\", \"#B0BEC5\", \"#B0BEC5\", \"#B0BEC5\", \"#B0BEC5\", \"#B0BEC5\", \"#B0BEC5\", \"#B0BEC5\", \"#B0BEC5\"]]}], \"label\": \"Topic 27\", \"method\": \"update\"}, {\"args\": [{\"marker.color\": [[\"#B0BEC5\", \"#B0BEC5\", \"#B0BEC5\", \"#B0BEC5\", \"#B0BEC5\", \"#B0BEC5\", \"#B0BEC5\", \"#B0BEC5\", \"#B0BEC5\", \"#B0BEC5\", \"#B0BEC5\", \"#B0BEC5\", \"#B0BEC5\", \"#B0BEC5\", \"#B0BEC5\", \"#B0BEC5\", \"#B0BEC5\", \"#B0BEC5\", \"#B0BEC5\", \"#B0BEC5\", \"#B0BEC5\", \"#B0BEC5\", \"#B0BEC5\", \"#B0BEC5\", \"#B0BEC5\", \"#B0BEC5\", \"#B0BEC5\", \"#B0BEC5\", \"red\", \"#B0BEC5\", \"#B0BEC5\", \"#B0BEC5\", \"#B0BEC5\", \"#B0BEC5\", \"#B0BEC5\", \"#B0BEC5\", \"#B0BEC5\", \"#B0BEC5\", \"#B0BEC5\", \"#B0BEC5\", \"#B0BEC5\", \"#B0BEC5\", \"#B0BEC5\", \"#B0BEC5\", \"#B0BEC5\", \"#B0BEC5\", \"#B0BEC5\", \"#B0BEC5\", \"#B0BEC5\", \"#B0BEC5\", \"#B0BEC5\", \"#B0BEC5\", \"#B0BEC5\", \"#B0BEC5\", \"#B0BEC5\", \"#B0BEC5\", \"#B0BEC5\", \"#B0BEC5\", \"#B0BEC5\", \"#B0BEC5\", \"#B0BEC5\", \"#B0BEC5\", \"#B0BEC5\", \"#B0BEC5\", \"#B0BEC5\", \"#B0BEC5\", \"#B0BEC5\", \"#B0BEC5\", \"#B0BEC5\", \"#B0BEC5\", \"#B0BEC5\", \"#B0BEC5\", \"#B0BEC5\", \"#B0BEC5\", \"#B0BEC5\", \"#B0BEC5\", \"#B0BEC5\", \"#B0BEC5\", \"#B0BEC5\", \"#B0BEC5\", \"#B0BEC5\", \"#B0BEC5\", \"#B0BEC5\", \"#B0BEC5\", \"#B0BEC5\", \"#B0BEC5\", \"#B0BEC5\", \"#B0BEC5\", \"#B0BEC5\", \"#B0BEC5\", \"#B0BEC5\", \"#B0BEC5\", \"#B0BEC5\", \"#B0BEC5\", \"#B0BEC5\", \"#B0BEC5\", \"#B0BEC5\", \"#B0BEC5\", \"#B0BEC5\", \"#B0BEC5\"]]}], \"label\": \"Topic 28\", \"method\": \"update\"}, {\"args\": [{\"marker.color\": [[\"#B0BEC5\", \"#B0BEC5\", \"#B0BEC5\", \"#B0BEC5\", \"#B0BEC5\", \"#B0BEC5\", \"#B0BEC5\", \"#B0BEC5\", \"#B0BEC5\", \"#B0BEC5\", \"#B0BEC5\", \"#B0BEC5\", \"#B0BEC5\", \"#B0BEC5\", \"#B0BEC5\", \"#B0BEC5\", \"#B0BEC5\", \"#B0BEC5\", \"#B0BEC5\", \"#B0BEC5\", \"#B0BEC5\", \"#B0BEC5\", \"#B0BEC5\", \"#B0BEC5\", \"#B0BEC5\", \"#B0BEC5\", \"#B0BEC5\", \"#B0BEC5\", \"#B0BEC5\", \"red\", \"#B0BEC5\", \"#B0BEC5\", \"#B0BEC5\", \"#B0BEC5\", \"#B0BEC5\", \"#B0BEC5\", \"#B0BEC5\", \"#B0BEC5\", \"#B0BEC5\", \"#B0BEC5\", \"#B0BEC5\", \"#B0BEC5\", \"#B0BEC5\", \"#B0BEC5\", \"#B0BEC5\", \"#B0BEC5\", \"#B0BEC5\", \"#B0BEC5\", \"#B0BEC5\", \"#B0BEC5\", \"#B0BEC5\", \"#B0BEC5\", \"#B0BEC5\", \"#B0BEC5\", \"#B0BEC5\", \"#B0BEC5\", \"#B0BEC5\", \"#B0BEC5\", \"#B0BEC5\", \"#B0BEC5\", \"#B0BEC5\", \"#B0BEC5\", \"#B0BEC5\", \"#B0BEC5\", \"#B0BEC5\", \"#B0BEC5\", \"#B0BEC5\", \"#B0BEC5\", \"#B0BEC5\", \"#B0BEC5\", \"#B0BEC5\", \"#B0BEC5\", \"#B0BEC5\", \"#B0BEC5\", \"#B0BEC5\", \"#B0BEC5\", \"#B0BEC5\", \"#B0BEC5\", \"#B0BEC5\", \"#B0BEC5\", \"#B0BEC5\", \"#B0BEC5\", \"#B0BEC5\", \"#B0BEC5\", \"#B0BEC5\", \"#B0BEC5\", \"#B0BEC5\", \"#B0BEC5\", \"#B0BEC5\", \"#B0BEC5\", \"#B0BEC5\", \"#B0BEC5\", \"#B0BEC5\", \"#B0BEC5\", \"#B0BEC5\", \"#B0BEC5\", \"#B0BEC5\", \"#B0BEC5\", \"#B0BEC5\", \"#B0BEC5\"]]}], \"label\": \"Topic 29\", \"method\": \"update\"}, {\"args\": [{\"marker.color\": [[\"#B0BEC5\", \"#B0BEC5\", \"#B0BEC5\", \"#B0BEC5\", \"#B0BEC5\", \"#B0BEC5\", \"#B0BEC5\", \"#B0BEC5\", \"#B0BEC5\", \"#B0BEC5\", \"#B0BEC5\", \"#B0BEC5\", \"#B0BEC5\", \"#B0BEC5\", \"#B0BEC5\", \"#B0BEC5\", \"#B0BEC5\", \"#B0BEC5\", \"#B0BEC5\", \"#B0BEC5\", \"#B0BEC5\", \"#B0BEC5\", \"#B0BEC5\", \"#B0BEC5\", \"#B0BEC5\", \"#B0BEC5\", \"#B0BEC5\", \"#B0BEC5\", \"#B0BEC5\", \"#B0BEC5\", \"red\", \"#B0BEC5\", \"#B0BEC5\", \"#B0BEC5\", \"#B0BEC5\", \"#B0BEC5\", \"#B0BEC5\", \"#B0BEC5\", \"#B0BEC5\", \"#B0BEC5\", \"#B0BEC5\", \"#B0BEC5\", \"#B0BEC5\", \"#B0BEC5\", \"#B0BEC5\", \"#B0BEC5\", \"#B0BEC5\", \"#B0BEC5\", \"#B0BEC5\", \"#B0BEC5\", \"#B0BEC5\", \"#B0BEC5\", \"#B0BEC5\", \"#B0BEC5\", \"#B0BEC5\", \"#B0BEC5\", \"#B0BEC5\", \"#B0BEC5\", \"#B0BEC5\", \"#B0BEC5\", \"#B0BEC5\", \"#B0BEC5\", \"#B0BEC5\", \"#B0BEC5\", \"#B0BEC5\", \"#B0BEC5\", \"#B0BEC5\", \"#B0BEC5\", \"#B0BEC5\", \"#B0BEC5\", \"#B0BEC5\", \"#B0BEC5\", \"#B0BEC5\", \"#B0BEC5\", \"#B0BEC5\", \"#B0BEC5\", \"#B0BEC5\", \"#B0BEC5\", \"#B0BEC5\", \"#B0BEC5\", \"#B0BEC5\", \"#B0BEC5\", \"#B0BEC5\", \"#B0BEC5\", \"#B0BEC5\", \"#B0BEC5\", \"#B0BEC5\", \"#B0BEC5\", \"#B0BEC5\", \"#B0BEC5\", \"#B0BEC5\", \"#B0BEC5\", \"#B0BEC5\", \"#B0BEC5\", \"#B0BEC5\", \"#B0BEC5\", \"#B0BEC5\", \"#B0BEC5\", \"#B0BEC5\", \"#B0BEC5\"]]}], \"label\": \"Topic 30\", \"method\": \"update\"}, {\"args\": [{\"marker.color\": [[\"#B0BEC5\", \"#B0BEC5\", \"#B0BEC5\", \"#B0BEC5\", \"#B0BEC5\", \"#B0BEC5\", \"#B0BEC5\", \"#B0BEC5\", \"#B0BEC5\", \"#B0BEC5\", \"#B0BEC5\", \"#B0BEC5\", \"#B0BEC5\", \"#B0BEC5\", \"#B0BEC5\", \"#B0BEC5\", \"#B0BEC5\", \"#B0BEC5\", \"#B0BEC5\", \"#B0BEC5\", \"#B0BEC5\", \"#B0BEC5\", \"#B0BEC5\", \"#B0BEC5\", \"#B0BEC5\", \"#B0BEC5\", \"#B0BEC5\", \"#B0BEC5\", \"#B0BEC5\", \"#B0BEC5\", \"#B0BEC5\", \"red\", \"#B0BEC5\", \"#B0BEC5\", \"#B0BEC5\", \"#B0BEC5\", \"#B0BEC5\", \"#B0BEC5\", \"#B0BEC5\", \"#B0BEC5\", \"#B0BEC5\", \"#B0BEC5\", \"#B0BEC5\", \"#B0BEC5\", \"#B0BEC5\", \"#B0BEC5\", \"#B0BEC5\", \"#B0BEC5\", \"#B0BEC5\", \"#B0BEC5\", \"#B0BEC5\", \"#B0BEC5\", \"#B0BEC5\", \"#B0BEC5\", \"#B0BEC5\", \"#B0BEC5\", \"#B0BEC5\", \"#B0BEC5\", \"#B0BEC5\", \"#B0BEC5\", \"#B0BEC5\", \"#B0BEC5\", \"#B0BEC5\", \"#B0BEC5\", \"#B0BEC5\", \"#B0BEC5\", \"#B0BEC5\", \"#B0BEC5\", \"#B0BEC5\", \"#B0BEC5\", \"#B0BEC5\", \"#B0BEC5\", \"#B0BEC5\", \"#B0BEC5\", \"#B0BEC5\", \"#B0BEC5\", \"#B0BEC5\", \"#B0BEC5\", \"#B0BEC5\", \"#B0BEC5\", \"#B0BEC5\", \"#B0BEC5\", \"#B0BEC5\", \"#B0BEC5\", \"#B0BEC5\", \"#B0BEC5\", \"#B0BEC5\", \"#B0BEC5\", \"#B0BEC5\", \"#B0BEC5\", \"#B0BEC5\", \"#B0BEC5\", \"#B0BEC5\", \"#B0BEC5\", \"#B0BEC5\", \"#B0BEC5\", \"#B0BEC5\", \"#B0BEC5\", \"#B0BEC5\", \"#B0BEC5\"]]}], \"label\": \"Topic 31\", \"method\": \"update\"}, {\"args\": [{\"marker.color\": [[\"#B0BEC5\", \"#B0BEC5\", \"#B0BEC5\", \"#B0BEC5\", \"#B0BEC5\", \"#B0BEC5\", \"#B0BEC5\", \"#B0BEC5\", \"#B0BEC5\", \"#B0BEC5\", \"#B0BEC5\", \"#B0BEC5\", \"#B0BEC5\", \"#B0BEC5\", \"#B0BEC5\", \"#B0BEC5\", \"#B0BEC5\", \"#B0BEC5\", \"#B0BEC5\", \"#B0BEC5\", \"#B0BEC5\", \"#B0BEC5\", \"#B0BEC5\", \"#B0BEC5\", \"#B0BEC5\", \"#B0BEC5\", \"#B0BEC5\", \"#B0BEC5\", \"#B0BEC5\", \"#B0BEC5\", \"#B0BEC5\", \"#B0BEC5\", \"red\", \"#B0BEC5\", \"#B0BEC5\", \"#B0BEC5\", \"#B0BEC5\", \"#B0BEC5\", \"#B0BEC5\", \"#B0BEC5\", \"#B0BEC5\", \"#B0BEC5\", \"#B0BEC5\", \"#B0BEC5\", \"#B0BEC5\", \"#B0BEC5\", \"#B0BEC5\", \"#B0BEC5\", \"#B0BEC5\", \"#B0BEC5\", \"#B0BEC5\", \"#B0BEC5\", \"#B0BEC5\", \"#B0BEC5\", \"#B0BEC5\", \"#B0BEC5\", \"#B0BEC5\", \"#B0BEC5\", \"#B0BEC5\", \"#B0BEC5\", \"#B0BEC5\", \"#B0BEC5\", \"#B0BEC5\", \"#B0BEC5\", \"#B0BEC5\", \"#B0BEC5\", \"#B0BEC5\", \"#B0BEC5\", \"#B0BEC5\", \"#B0BEC5\", \"#B0BEC5\", \"#B0BEC5\", \"#B0BEC5\", \"#B0BEC5\", \"#B0BEC5\", \"#B0BEC5\", \"#B0BEC5\", \"#B0BEC5\", \"#B0BEC5\", \"#B0BEC5\", \"#B0BEC5\", \"#B0BEC5\", \"#B0BEC5\", \"#B0BEC5\", \"#B0BEC5\", \"#B0BEC5\", \"#B0BEC5\", \"#B0BEC5\", \"#B0BEC5\", \"#B0BEC5\", \"#B0BEC5\", \"#B0BEC5\", \"#B0BEC5\", \"#B0BEC5\", \"#B0BEC5\", \"#B0BEC5\", \"#B0BEC5\", \"#B0BEC5\", \"#B0BEC5\", \"#B0BEC5\"]]}], \"label\": \"Topic 32\", \"method\": \"update\"}, {\"args\": [{\"marker.color\": [[\"#B0BEC5\", \"#B0BEC5\", \"#B0BEC5\", \"#B0BEC5\", \"#B0BEC5\", \"#B0BEC5\", \"#B0BEC5\", \"#B0BEC5\", \"#B0BEC5\", \"#B0BEC5\", \"#B0BEC5\", \"#B0BEC5\", \"#B0BEC5\", \"#B0BEC5\", \"#B0BEC5\", \"#B0BEC5\", \"#B0BEC5\", \"#B0BEC5\", \"#B0BEC5\", \"#B0BEC5\", \"#B0BEC5\", \"#B0BEC5\", \"#B0BEC5\", \"#B0BEC5\", \"#B0BEC5\", \"#B0BEC5\", \"#B0BEC5\", \"#B0BEC5\", \"#B0BEC5\", \"#B0BEC5\", \"#B0BEC5\", \"#B0BEC5\", \"#B0BEC5\", \"red\", \"#B0BEC5\", \"#B0BEC5\", \"#B0BEC5\", \"#B0BEC5\", \"#B0BEC5\", \"#B0BEC5\", \"#B0BEC5\", \"#B0BEC5\", \"#B0BEC5\", \"#B0BEC5\", \"#B0BEC5\", \"#B0BEC5\", \"#B0BEC5\", \"#B0BEC5\", \"#B0BEC5\", \"#B0BEC5\", \"#B0BEC5\", \"#B0BEC5\", \"#B0BEC5\", \"#B0BEC5\", \"#B0BEC5\", \"#B0BEC5\", \"#B0BEC5\", \"#B0BEC5\", \"#B0BEC5\", \"#B0BEC5\", \"#B0BEC5\", \"#B0BEC5\", \"#B0BEC5\", \"#B0BEC5\", \"#B0BEC5\", \"#B0BEC5\", \"#B0BEC5\", \"#B0BEC5\", \"#B0BEC5\", \"#B0BEC5\", \"#B0BEC5\", \"#B0BEC5\", \"#B0BEC5\", \"#B0BEC5\", \"#B0BEC5\", \"#B0BEC5\", \"#B0BEC5\", \"#B0BEC5\", \"#B0BEC5\", \"#B0BEC5\", \"#B0BEC5\", \"#B0BEC5\", \"#B0BEC5\", \"#B0BEC5\", \"#B0BEC5\", \"#B0BEC5\", \"#B0BEC5\", \"#B0BEC5\", \"#B0BEC5\", \"#B0BEC5\", \"#B0BEC5\", \"#B0BEC5\", \"#B0BEC5\", \"#B0BEC5\", \"#B0BEC5\", \"#B0BEC5\", \"#B0BEC5\", \"#B0BEC5\", \"#B0BEC5\", \"#B0BEC5\"]]}], \"label\": \"Topic 33\", \"method\": \"update\"}, {\"args\": [{\"marker.color\": [[\"#B0BEC5\", \"#B0BEC5\", \"#B0BEC5\", \"#B0BEC5\", \"#B0BEC5\", \"#B0BEC5\", \"#B0BEC5\", \"#B0BEC5\", \"#B0BEC5\", \"#B0BEC5\", \"#B0BEC5\", \"#B0BEC5\", \"#B0BEC5\", \"#B0BEC5\", \"#B0BEC5\", \"#B0BEC5\", \"#B0BEC5\", \"#B0BEC5\", \"#B0BEC5\", \"#B0BEC5\", \"#B0BEC5\", \"#B0BEC5\", \"#B0BEC5\", \"#B0BEC5\", \"#B0BEC5\", \"#B0BEC5\", \"#B0BEC5\", \"#B0BEC5\", \"#B0BEC5\", \"#B0BEC5\", \"#B0BEC5\", \"#B0BEC5\", \"#B0BEC5\", \"#B0BEC5\", \"red\", \"#B0BEC5\", \"#B0BEC5\", \"#B0BEC5\", \"#B0BEC5\", \"#B0BEC5\", \"#B0BEC5\", \"#B0BEC5\", \"#B0BEC5\", \"#B0BEC5\", \"#B0BEC5\", \"#B0BEC5\", \"#B0BEC5\", \"#B0BEC5\", \"#B0BEC5\", \"#B0BEC5\", \"#B0BEC5\", \"#B0BEC5\", \"#B0BEC5\", \"#B0BEC5\", \"#B0BEC5\", \"#B0BEC5\", \"#B0BEC5\", \"#B0BEC5\", \"#B0BEC5\", \"#B0BEC5\", \"#B0BEC5\", \"#B0BEC5\", \"#B0BEC5\", \"#B0BEC5\", \"#B0BEC5\", \"#B0BEC5\", \"#B0BEC5\", \"#B0BEC5\", \"#B0BEC5\", \"#B0BEC5\", \"#B0BEC5\", \"#B0BEC5\", \"#B0BEC5\", \"#B0BEC5\", \"#B0BEC5\", \"#B0BEC5\", \"#B0BEC5\", \"#B0BEC5\", \"#B0BEC5\", \"#B0BEC5\", \"#B0BEC5\", \"#B0BEC5\", \"#B0BEC5\", \"#B0BEC5\", \"#B0BEC5\", \"#B0BEC5\", \"#B0BEC5\", \"#B0BEC5\", \"#B0BEC5\", \"#B0BEC5\", \"#B0BEC5\", \"#B0BEC5\", \"#B0BEC5\", \"#B0BEC5\", \"#B0BEC5\", \"#B0BEC5\", \"#B0BEC5\", \"#B0BEC5\", \"#B0BEC5\", \"#B0BEC5\"]]}], \"label\": \"Topic 34\", \"method\": \"update\"}, {\"args\": [{\"marker.color\": [[\"#B0BEC5\", \"#B0BEC5\", \"#B0BEC5\", \"#B0BEC5\", \"#B0BEC5\", \"#B0BEC5\", \"#B0BEC5\", \"#B0BEC5\", \"#B0BEC5\", \"#B0BEC5\", \"#B0BEC5\", \"#B0BEC5\", \"#B0BEC5\", \"#B0BEC5\", \"#B0BEC5\", \"#B0BEC5\", \"#B0BEC5\", \"#B0BEC5\", \"#B0BEC5\", \"#B0BEC5\", \"#B0BEC5\", \"#B0BEC5\", \"#B0BEC5\", \"#B0BEC5\", \"#B0BEC5\", \"#B0BEC5\", \"#B0BEC5\", \"#B0BEC5\", \"#B0BEC5\", \"#B0BEC5\", \"#B0BEC5\", \"#B0BEC5\", \"#B0BEC5\", \"#B0BEC5\", \"#B0BEC5\", \"red\", \"#B0BEC5\", \"#B0BEC5\", \"#B0BEC5\", \"#B0BEC5\", \"#B0BEC5\", \"#B0BEC5\", \"#B0BEC5\", \"#B0BEC5\", \"#B0BEC5\", \"#B0BEC5\", \"#B0BEC5\", \"#B0BEC5\", \"#B0BEC5\", \"#B0BEC5\", \"#B0BEC5\", \"#B0BEC5\", \"#B0BEC5\", \"#B0BEC5\", \"#B0BEC5\", \"#B0BEC5\", \"#B0BEC5\", \"#B0BEC5\", \"#B0BEC5\", \"#B0BEC5\", \"#B0BEC5\", \"#B0BEC5\", \"#B0BEC5\", \"#B0BEC5\", \"#B0BEC5\", \"#B0BEC5\", \"#B0BEC5\", \"#B0BEC5\", \"#B0BEC5\", \"#B0BEC5\", \"#B0BEC5\", \"#B0BEC5\", \"#B0BEC5\", \"#B0BEC5\", \"#B0BEC5\", \"#B0BEC5\", \"#B0BEC5\", \"#B0BEC5\", \"#B0BEC5\", \"#B0BEC5\", \"#B0BEC5\", \"#B0BEC5\", \"#B0BEC5\", \"#B0BEC5\", \"#B0BEC5\", \"#B0BEC5\", \"#B0BEC5\", \"#B0BEC5\", \"#B0BEC5\", \"#B0BEC5\", \"#B0BEC5\", \"#B0BEC5\", \"#B0BEC5\", \"#B0BEC5\", \"#B0BEC5\", \"#B0BEC5\", \"#B0BEC5\", \"#B0BEC5\", \"#B0BEC5\", \"#B0BEC5\"]]}], \"label\": \"Topic 35\", \"method\": \"update\"}, {\"args\": [{\"marker.color\": [[\"#B0BEC5\", \"#B0BEC5\", \"#B0BEC5\", \"#B0BEC5\", \"#B0BEC5\", \"#B0BEC5\", \"#B0BEC5\", \"#B0BEC5\", \"#B0BEC5\", \"#B0BEC5\", \"#B0BEC5\", \"#B0BEC5\", \"#B0BEC5\", \"#B0BEC5\", \"#B0BEC5\", \"#B0BEC5\", \"#B0BEC5\", \"#B0BEC5\", \"#B0BEC5\", \"#B0BEC5\", \"#B0BEC5\", \"#B0BEC5\", \"#B0BEC5\", \"#B0BEC5\", \"#B0BEC5\", \"#B0BEC5\", \"#B0BEC5\", \"#B0BEC5\", \"#B0BEC5\", \"#B0BEC5\", \"#B0BEC5\", \"#B0BEC5\", \"#B0BEC5\", \"#B0BEC5\", \"#B0BEC5\", \"#B0BEC5\", \"red\", \"#B0BEC5\", \"#B0BEC5\", \"#B0BEC5\", \"#B0BEC5\", \"#B0BEC5\", \"#B0BEC5\", \"#B0BEC5\", \"#B0BEC5\", \"#B0BEC5\", \"#B0BEC5\", \"#B0BEC5\", \"#B0BEC5\", \"#B0BEC5\", \"#B0BEC5\", \"#B0BEC5\", \"#B0BEC5\", \"#B0BEC5\", \"#B0BEC5\", \"#B0BEC5\", \"#B0BEC5\", \"#B0BEC5\", \"#B0BEC5\", \"#B0BEC5\", \"#B0BEC5\", \"#B0BEC5\", \"#B0BEC5\", \"#B0BEC5\", \"#B0BEC5\", \"#B0BEC5\", \"#B0BEC5\", \"#B0BEC5\", \"#B0BEC5\", \"#B0BEC5\", \"#B0BEC5\", \"#B0BEC5\", \"#B0BEC5\", \"#B0BEC5\", \"#B0BEC5\", \"#B0BEC5\", \"#B0BEC5\", \"#B0BEC5\", \"#B0BEC5\", \"#B0BEC5\", \"#B0BEC5\", \"#B0BEC5\", \"#B0BEC5\", \"#B0BEC5\", \"#B0BEC5\", \"#B0BEC5\", \"#B0BEC5\", \"#B0BEC5\", \"#B0BEC5\", \"#B0BEC5\", \"#B0BEC5\", \"#B0BEC5\", \"#B0BEC5\", \"#B0BEC5\", \"#B0BEC5\", \"#B0BEC5\", \"#B0BEC5\", \"#B0BEC5\", \"#B0BEC5\", \"#B0BEC5\"]]}], \"label\": \"Topic 36\", \"method\": \"update\"}, {\"args\": [{\"marker.color\": [[\"#B0BEC5\", \"#B0BEC5\", \"#B0BEC5\", \"#B0BEC5\", \"#B0BEC5\", \"#B0BEC5\", \"#B0BEC5\", \"#B0BEC5\", \"#B0BEC5\", \"#B0BEC5\", \"#B0BEC5\", \"#B0BEC5\", \"#B0BEC5\", \"#B0BEC5\", \"#B0BEC5\", \"#B0BEC5\", \"#B0BEC5\", \"#B0BEC5\", \"#B0BEC5\", \"#B0BEC5\", \"#B0BEC5\", \"#B0BEC5\", \"#B0BEC5\", \"#B0BEC5\", \"#B0BEC5\", \"#B0BEC5\", \"#B0BEC5\", \"#B0BEC5\", \"#B0BEC5\", \"#B0BEC5\", \"#B0BEC5\", \"#B0BEC5\", \"#B0BEC5\", \"#B0BEC5\", \"#B0BEC5\", \"#B0BEC5\", \"#B0BEC5\", \"red\", \"#B0BEC5\", \"#B0BEC5\", \"#B0BEC5\", \"#B0BEC5\", \"#B0BEC5\", \"#B0BEC5\", \"#B0BEC5\", \"#B0BEC5\", \"#B0BEC5\", \"#B0BEC5\", \"#B0BEC5\", \"#B0BEC5\", \"#B0BEC5\", \"#B0BEC5\", \"#B0BEC5\", \"#B0BEC5\", \"#B0BEC5\", \"#B0BEC5\", \"#B0BEC5\", \"#B0BEC5\", \"#B0BEC5\", \"#B0BEC5\", \"#B0BEC5\", \"#B0BEC5\", \"#B0BEC5\", \"#B0BEC5\", \"#B0BEC5\", \"#B0BEC5\", \"#B0BEC5\", \"#B0BEC5\", \"#B0BEC5\", \"#B0BEC5\", \"#B0BEC5\", \"#B0BEC5\", \"#B0BEC5\", \"#B0BEC5\", \"#B0BEC5\", \"#B0BEC5\", \"#B0BEC5\", \"#B0BEC5\", \"#B0BEC5\", \"#B0BEC5\", \"#B0BEC5\", \"#B0BEC5\", \"#B0BEC5\", \"#B0BEC5\", \"#B0BEC5\", \"#B0BEC5\", \"#B0BEC5\", \"#B0BEC5\", \"#B0BEC5\", \"#B0BEC5\", \"#B0BEC5\", \"#B0BEC5\", \"#B0BEC5\", \"#B0BEC5\", \"#B0BEC5\", \"#B0BEC5\", \"#B0BEC5\", \"#B0BEC5\", \"#B0BEC5\", \"#B0BEC5\"]]}], \"label\": \"Topic 37\", \"method\": \"update\"}, {\"args\": [{\"marker.color\": [[\"#B0BEC5\", \"#B0BEC5\", \"#B0BEC5\", \"#B0BEC5\", \"#B0BEC5\", \"#B0BEC5\", \"#B0BEC5\", \"#B0BEC5\", \"#B0BEC5\", \"#B0BEC5\", \"#B0BEC5\", \"#B0BEC5\", \"#B0BEC5\", \"#B0BEC5\", \"#B0BEC5\", \"#B0BEC5\", \"#B0BEC5\", \"#B0BEC5\", \"#B0BEC5\", \"#B0BEC5\", \"#B0BEC5\", \"#B0BEC5\", \"#B0BEC5\", \"#B0BEC5\", \"#B0BEC5\", \"#B0BEC5\", \"#B0BEC5\", \"#B0BEC5\", \"#B0BEC5\", \"#B0BEC5\", \"#B0BEC5\", \"#B0BEC5\", \"#B0BEC5\", \"#B0BEC5\", \"#B0BEC5\", \"#B0BEC5\", \"#B0BEC5\", \"#B0BEC5\", \"red\", \"#B0BEC5\", \"#B0BEC5\", \"#B0BEC5\", \"#B0BEC5\", \"#B0BEC5\", \"#B0BEC5\", \"#B0BEC5\", \"#B0BEC5\", \"#B0BEC5\", \"#B0BEC5\", \"#B0BEC5\", \"#B0BEC5\", \"#B0BEC5\", \"#B0BEC5\", \"#B0BEC5\", \"#B0BEC5\", \"#B0BEC5\", \"#B0BEC5\", \"#B0BEC5\", \"#B0BEC5\", \"#B0BEC5\", \"#B0BEC5\", \"#B0BEC5\", \"#B0BEC5\", \"#B0BEC5\", \"#B0BEC5\", \"#B0BEC5\", \"#B0BEC5\", \"#B0BEC5\", \"#B0BEC5\", \"#B0BEC5\", \"#B0BEC5\", \"#B0BEC5\", \"#B0BEC5\", \"#B0BEC5\", \"#B0BEC5\", \"#B0BEC5\", \"#B0BEC5\", \"#B0BEC5\", \"#B0BEC5\", \"#B0BEC5\", \"#B0BEC5\", \"#B0BEC5\", \"#B0BEC5\", \"#B0BEC5\", \"#B0BEC5\", \"#B0BEC5\", \"#B0BEC5\", \"#B0BEC5\", \"#B0BEC5\", \"#B0BEC5\", \"#B0BEC5\", \"#B0BEC5\", \"#B0BEC5\", \"#B0BEC5\", \"#B0BEC5\", \"#B0BEC5\", \"#B0BEC5\", \"#B0BEC5\", \"#B0BEC5\", \"#B0BEC5\"]]}], \"label\": \"Topic 38\", \"method\": \"update\"}, {\"args\": [{\"marker.color\": [[\"#B0BEC5\", \"#B0BEC5\", \"#B0BEC5\", \"#B0BEC5\", \"#B0BEC5\", \"#B0BEC5\", \"#B0BEC5\", \"#B0BEC5\", \"#B0BEC5\", \"#B0BEC5\", \"#B0BEC5\", \"#B0BEC5\", \"#B0BEC5\", \"#B0BEC5\", \"#B0BEC5\", \"#B0BEC5\", \"#B0BEC5\", \"#B0BEC5\", \"#B0BEC5\", \"#B0BEC5\", \"#B0BEC5\", \"#B0BEC5\", \"#B0BEC5\", \"#B0BEC5\", \"#B0BEC5\", \"#B0BEC5\", \"#B0BEC5\", \"#B0BEC5\", \"#B0BEC5\", \"#B0BEC5\", \"#B0BEC5\", \"#B0BEC5\", \"#B0BEC5\", \"#B0BEC5\", \"#B0BEC5\", \"#B0BEC5\", \"#B0BEC5\", \"#B0BEC5\", \"#B0BEC5\", \"red\", \"#B0BEC5\", \"#B0BEC5\", \"#B0BEC5\", \"#B0BEC5\", \"#B0BEC5\", \"#B0BEC5\", \"#B0BEC5\", \"#B0BEC5\", \"#B0BEC5\", \"#B0BEC5\", \"#B0BEC5\", \"#B0BEC5\", \"#B0BEC5\", \"#B0BEC5\", \"#B0BEC5\", \"#B0BEC5\", \"#B0BEC5\", \"#B0BEC5\", \"#B0BEC5\", \"#B0BEC5\", \"#B0BEC5\", \"#B0BEC5\", \"#B0BEC5\", \"#B0BEC5\", \"#B0BEC5\", \"#B0BEC5\", \"#B0BEC5\", \"#B0BEC5\", \"#B0BEC5\", \"#B0BEC5\", \"#B0BEC5\", \"#B0BEC5\", \"#B0BEC5\", \"#B0BEC5\", \"#B0BEC5\", \"#B0BEC5\", \"#B0BEC5\", \"#B0BEC5\", \"#B0BEC5\", \"#B0BEC5\", \"#B0BEC5\", \"#B0BEC5\", \"#B0BEC5\", \"#B0BEC5\", \"#B0BEC5\", \"#B0BEC5\", \"#B0BEC5\", \"#B0BEC5\", \"#B0BEC5\", \"#B0BEC5\", \"#B0BEC5\", \"#B0BEC5\", \"#B0BEC5\", \"#B0BEC5\", \"#B0BEC5\", \"#B0BEC5\", \"#B0BEC5\", \"#B0BEC5\", \"#B0BEC5\", \"#B0BEC5\"]]}], \"label\": \"Topic 39\", \"method\": \"update\"}, {\"args\": [{\"marker.color\": [[\"#B0BEC5\", \"#B0BEC5\", \"#B0BEC5\", \"#B0BEC5\", \"#B0BEC5\", \"#B0BEC5\", \"#B0BEC5\", \"#B0BEC5\", \"#B0BEC5\", \"#B0BEC5\", \"#B0BEC5\", \"#B0BEC5\", \"#B0BEC5\", \"#B0BEC5\", \"#B0BEC5\", \"#B0BEC5\", \"#B0BEC5\", \"#B0BEC5\", \"#B0BEC5\", \"#B0BEC5\", \"#B0BEC5\", \"#B0BEC5\", \"#B0BEC5\", \"#B0BEC5\", \"#B0BEC5\", \"#B0BEC5\", \"#B0BEC5\", \"#B0BEC5\", \"#B0BEC5\", \"#B0BEC5\", \"#B0BEC5\", \"#B0BEC5\", \"#B0BEC5\", \"#B0BEC5\", \"#B0BEC5\", \"#B0BEC5\", \"#B0BEC5\", \"#B0BEC5\", \"#B0BEC5\", \"#B0BEC5\", \"red\", \"#B0BEC5\", \"#B0BEC5\", \"#B0BEC5\", \"#B0BEC5\", \"#B0BEC5\", \"#B0BEC5\", \"#B0BEC5\", \"#B0BEC5\", \"#B0BEC5\", \"#B0BEC5\", \"#B0BEC5\", \"#B0BEC5\", \"#B0BEC5\", \"#B0BEC5\", \"#B0BEC5\", \"#B0BEC5\", \"#B0BEC5\", \"#B0BEC5\", \"#B0BEC5\", \"#B0BEC5\", \"#B0BEC5\", \"#B0BEC5\", \"#B0BEC5\", \"#B0BEC5\", \"#B0BEC5\", \"#B0BEC5\", \"#B0BEC5\", \"#B0BEC5\", \"#B0BEC5\", \"#B0BEC5\", \"#B0BEC5\", \"#B0BEC5\", \"#B0BEC5\", \"#B0BEC5\", \"#B0BEC5\", \"#B0BEC5\", \"#B0BEC5\", \"#B0BEC5\", \"#B0BEC5\", \"#B0BEC5\", \"#B0BEC5\", \"#B0BEC5\", \"#B0BEC5\", \"#B0BEC5\", \"#B0BEC5\", \"#B0BEC5\", \"#B0BEC5\", \"#B0BEC5\", \"#B0BEC5\", \"#B0BEC5\", \"#B0BEC5\", \"#B0BEC5\", \"#B0BEC5\", \"#B0BEC5\", \"#B0BEC5\", \"#B0BEC5\", \"#B0BEC5\", \"#B0BEC5\", \"#B0BEC5\"]]}], \"label\": \"Topic 40\", \"method\": \"update\"}, {\"args\": [{\"marker.color\": [[\"#B0BEC5\", \"#B0BEC5\", \"#B0BEC5\", \"#B0BEC5\", \"#B0BEC5\", \"#B0BEC5\", \"#B0BEC5\", \"#B0BEC5\", \"#B0BEC5\", \"#B0BEC5\", \"#B0BEC5\", \"#B0BEC5\", \"#B0BEC5\", \"#B0BEC5\", \"#B0BEC5\", \"#B0BEC5\", \"#B0BEC5\", \"#B0BEC5\", \"#B0BEC5\", \"#B0BEC5\", \"#B0BEC5\", \"#B0BEC5\", \"#B0BEC5\", \"#B0BEC5\", \"#B0BEC5\", \"#B0BEC5\", \"#B0BEC5\", \"#B0BEC5\", \"#B0BEC5\", \"#B0BEC5\", \"#B0BEC5\", \"#B0BEC5\", \"#B0BEC5\", \"#B0BEC5\", \"#B0BEC5\", \"#B0BEC5\", \"#B0BEC5\", \"#B0BEC5\", \"#B0BEC5\", \"#B0BEC5\", \"#B0BEC5\", \"red\", \"#B0BEC5\", \"#B0BEC5\", \"#B0BEC5\", \"#B0BEC5\", \"#B0BEC5\", \"#B0BEC5\", \"#B0BEC5\", \"#B0BEC5\", \"#B0BEC5\", \"#B0BEC5\", \"#B0BEC5\", \"#B0BEC5\", \"#B0BEC5\", \"#B0BEC5\", \"#B0BEC5\", \"#B0BEC5\", \"#B0BEC5\", \"#B0BEC5\", \"#B0BEC5\", \"#B0BEC5\", \"#B0BEC5\", \"#B0BEC5\", \"#B0BEC5\", \"#B0BEC5\", \"#B0BEC5\", \"#B0BEC5\", \"#B0BEC5\", \"#B0BEC5\", \"#B0BEC5\", \"#B0BEC5\", \"#B0BEC5\", \"#B0BEC5\", \"#B0BEC5\", \"#B0BEC5\", \"#B0BEC5\", \"#B0BEC5\", \"#B0BEC5\", \"#B0BEC5\", \"#B0BEC5\", \"#B0BEC5\", \"#B0BEC5\", \"#B0BEC5\", \"#B0BEC5\", \"#B0BEC5\", \"#B0BEC5\", \"#B0BEC5\", \"#B0BEC5\", \"#B0BEC5\", \"#B0BEC5\", \"#B0BEC5\", \"#B0BEC5\", \"#B0BEC5\", \"#B0BEC5\", \"#B0BEC5\", \"#B0BEC5\", \"#B0BEC5\", \"#B0BEC5\", \"#B0BEC5\"]]}], \"label\": \"Topic 41\", \"method\": \"update\"}, {\"args\": [{\"marker.color\": [[\"#B0BEC5\", \"#B0BEC5\", \"#B0BEC5\", \"#B0BEC5\", \"#B0BEC5\", \"#B0BEC5\", \"#B0BEC5\", \"#B0BEC5\", \"#B0BEC5\", \"#B0BEC5\", \"#B0BEC5\", \"#B0BEC5\", \"#B0BEC5\", \"#B0BEC5\", \"#B0BEC5\", \"#B0BEC5\", \"#B0BEC5\", \"#B0BEC5\", \"#B0BEC5\", \"#B0BEC5\", \"#B0BEC5\", \"#B0BEC5\", \"#B0BEC5\", \"#B0BEC5\", \"#B0BEC5\", \"#B0BEC5\", \"#B0BEC5\", \"#B0BEC5\", \"#B0BEC5\", \"#B0BEC5\", \"#B0BEC5\", \"#B0BEC5\", \"#B0BEC5\", \"#B0BEC5\", \"#B0BEC5\", \"#B0BEC5\", \"#B0BEC5\", \"#B0BEC5\", \"#B0BEC5\", \"#B0BEC5\", \"#B0BEC5\", \"#B0BEC5\", \"red\", \"#B0BEC5\", \"#B0BEC5\", \"#B0BEC5\", \"#B0BEC5\", \"#B0BEC5\", \"#B0BEC5\", \"#B0BEC5\", \"#B0BEC5\", \"#B0BEC5\", \"#B0BEC5\", \"#B0BEC5\", \"#B0BEC5\", \"#B0BEC5\", \"#B0BEC5\", \"#B0BEC5\", \"#B0BEC5\", \"#B0BEC5\", \"#B0BEC5\", \"#B0BEC5\", \"#B0BEC5\", \"#B0BEC5\", \"#B0BEC5\", \"#B0BEC5\", \"#B0BEC5\", \"#B0BEC5\", \"#B0BEC5\", \"#B0BEC5\", \"#B0BEC5\", \"#B0BEC5\", \"#B0BEC5\", \"#B0BEC5\", \"#B0BEC5\", \"#B0BEC5\", \"#B0BEC5\", \"#B0BEC5\", \"#B0BEC5\", \"#B0BEC5\", \"#B0BEC5\", \"#B0BEC5\", \"#B0BEC5\", \"#B0BEC5\", \"#B0BEC5\", \"#B0BEC5\", \"#B0BEC5\", \"#B0BEC5\", \"#B0BEC5\", \"#B0BEC5\", \"#B0BEC5\", \"#B0BEC5\", \"#B0BEC5\", \"#B0BEC5\", \"#B0BEC5\", \"#B0BEC5\", \"#B0BEC5\", \"#B0BEC5\", \"#B0BEC5\", \"#B0BEC5\"]]}], \"label\": \"Topic 42\", \"method\": \"update\"}, {\"args\": [{\"marker.color\": [[\"#B0BEC5\", \"#B0BEC5\", \"#B0BEC5\", \"#B0BEC5\", \"#B0BEC5\", \"#B0BEC5\", \"#B0BEC5\", \"#B0BEC5\", \"#B0BEC5\", \"#B0BEC5\", \"#B0BEC5\", \"#B0BEC5\", \"#B0BEC5\", \"#B0BEC5\", \"#B0BEC5\", \"#B0BEC5\", \"#B0BEC5\", \"#B0BEC5\", \"#B0BEC5\", \"#B0BEC5\", \"#B0BEC5\", \"#B0BEC5\", \"#B0BEC5\", \"#B0BEC5\", \"#B0BEC5\", \"#B0BEC5\", \"#B0BEC5\", \"#B0BEC5\", \"#B0BEC5\", \"#B0BEC5\", \"#B0BEC5\", \"#B0BEC5\", \"#B0BEC5\", \"#B0BEC5\", \"#B0BEC5\", \"#B0BEC5\", \"#B0BEC5\", \"#B0BEC5\", \"#B0BEC5\", \"#B0BEC5\", \"#B0BEC5\", \"#B0BEC5\", \"#B0BEC5\", \"red\", \"#B0BEC5\", \"#B0BEC5\", \"#B0BEC5\", \"#B0BEC5\", \"#B0BEC5\", \"#B0BEC5\", \"#B0BEC5\", \"#B0BEC5\", \"#B0BEC5\", \"#B0BEC5\", \"#B0BEC5\", \"#B0BEC5\", \"#B0BEC5\", \"#B0BEC5\", \"#B0BEC5\", \"#B0BEC5\", \"#B0BEC5\", \"#B0BEC5\", \"#B0BEC5\", \"#B0BEC5\", \"#B0BEC5\", \"#B0BEC5\", \"#B0BEC5\", \"#B0BEC5\", \"#B0BEC5\", \"#B0BEC5\", \"#B0BEC5\", \"#B0BEC5\", \"#B0BEC5\", \"#B0BEC5\", \"#B0BEC5\", \"#B0BEC5\", \"#B0BEC5\", \"#B0BEC5\", \"#B0BEC5\", \"#B0BEC5\", \"#B0BEC5\", \"#B0BEC5\", \"#B0BEC5\", \"#B0BEC5\", \"#B0BEC5\", \"#B0BEC5\", \"#B0BEC5\", \"#B0BEC5\", \"#B0BEC5\", \"#B0BEC5\", \"#B0BEC5\", \"#B0BEC5\", \"#B0BEC5\", \"#B0BEC5\", \"#B0BEC5\", \"#B0BEC5\", \"#B0BEC5\", \"#B0BEC5\", \"#B0BEC5\", \"#B0BEC5\"]]}], \"label\": \"Topic 43\", \"method\": \"update\"}, {\"args\": [{\"marker.color\": [[\"#B0BEC5\", \"#B0BEC5\", \"#B0BEC5\", \"#B0BEC5\", \"#B0BEC5\", \"#B0BEC5\", \"#B0BEC5\", \"#B0BEC5\", \"#B0BEC5\", \"#B0BEC5\", \"#B0BEC5\", \"#B0BEC5\", \"#B0BEC5\", \"#B0BEC5\", \"#B0BEC5\", \"#B0BEC5\", \"#B0BEC5\", \"#B0BEC5\", \"#B0BEC5\", \"#B0BEC5\", \"#B0BEC5\", \"#B0BEC5\", \"#B0BEC5\", \"#B0BEC5\", \"#B0BEC5\", \"#B0BEC5\", \"#B0BEC5\", \"#B0BEC5\", \"#B0BEC5\", \"#B0BEC5\", \"#B0BEC5\", \"#B0BEC5\", \"#B0BEC5\", \"#B0BEC5\", \"#B0BEC5\", \"#B0BEC5\", \"#B0BEC5\", \"#B0BEC5\", \"#B0BEC5\", \"#B0BEC5\", \"#B0BEC5\", \"#B0BEC5\", \"#B0BEC5\", \"#B0BEC5\", \"red\", \"#B0BEC5\", \"#B0BEC5\", \"#B0BEC5\", \"#B0BEC5\", \"#B0BEC5\", \"#B0BEC5\", \"#B0BEC5\", \"#B0BEC5\", \"#B0BEC5\", \"#B0BEC5\", \"#B0BEC5\", \"#B0BEC5\", \"#B0BEC5\", \"#B0BEC5\", \"#B0BEC5\", \"#B0BEC5\", \"#B0BEC5\", \"#B0BEC5\", \"#B0BEC5\", \"#B0BEC5\", \"#B0BEC5\", \"#B0BEC5\", \"#B0BEC5\", \"#B0BEC5\", \"#B0BEC5\", \"#B0BEC5\", \"#B0BEC5\", \"#B0BEC5\", \"#B0BEC5\", \"#B0BEC5\", \"#B0BEC5\", \"#B0BEC5\", \"#B0BEC5\", \"#B0BEC5\", \"#B0BEC5\", \"#B0BEC5\", \"#B0BEC5\", \"#B0BEC5\", \"#B0BEC5\", \"#B0BEC5\", \"#B0BEC5\", \"#B0BEC5\", \"#B0BEC5\", \"#B0BEC5\", \"#B0BEC5\", \"#B0BEC5\", \"#B0BEC5\", \"#B0BEC5\", \"#B0BEC5\", \"#B0BEC5\", \"#B0BEC5\", \"#B0BEC5\", \"#B0BEC5\", \"#B0BEC5\", \"#B0BEC5\"]]}], \"label\": \"Topic 44\", \"method\": \"update\"}, {\"args\": [{\"marker.color\": [[\"#B0BEC5\", \"#B0BEC5\", \"#B0BEC5\", \"#B0BEC5\", \"#B0BEC5\", \"#B0BEC5\", \"#B0BEC5\", \"#B0BEC5\", \"#B0BEC5\", \"#B0BEC5\", \"#B0BEC5\", \"#B0BEC5\", \"#B0BEC5\", \"#B0BEC5\", \"#B0BEC5\", \"#B0BEC5\", \"#B0BEC5\", \"#B0BEC5\", \"#B0BEC5\", \"#B0BEC5\", \"#B0BEC5\", \"#B0BEC5\", \"#B0BEC5\", \"#B0BEC5\", \"#B0BEC5\", \"#B0BEC5\", \"#B0BEC5\", \"#B0BEC5\", \"#B0BEC5\", \"#B0BEC5\", \"#B0BEC5\", \"#B0BEC5\", \"#B0BEC5\", \"#B0BEC5\", \"#B0BEC5\", \"#B0BEC5\", \"#B0BEC5\", \"#B0BEC5\", \"#B0BEC5\", \"#B0BEC5\", \"#B0BEC5\", \"#B0BEC5\", \"#B0BEC5\", \"#B0BEC5\", \"#B0BEC5\", \"red\", \"#B0BEC5\", \"#B0BEC5\", \"#B0BEC5\", \"#B0BEC5\", \"#B0BEC5\", \"#B0BEC5\", \"#B0BEC5\", \"#B0BEC5\", \"#B0BEC5\", \"#B0BEC5\", \"#B0BEC5\", \"#B0BEC5\", \"#B0BEC5\", \"#B0BEC5\", \"#B0BEC5\", \"#B0BEC5\", \"#B0BEC5\", \"#B0BEC5\", \"#B0BEC5\", \"#B0BEC5\", \"#B0BEC5\", \"#B0BEC5\", \"#B0BEC5\", \"#B0BEC5\", \"#B0BEC5\", \"#B0BEC5\", \"#B0BEC5\", \"#B0BEC5\", \"#B0BEC5\", \"#B0BEC5\", \"#B0BEC5\", \"#B0BEC5\", \"#B0BEC5\", \"#B0BEC5\", \"#B0BEC5\", \"#B0BEC5\", \"#B0BEC5\", \"#B0BEC5\", \"#B0BEC5\", \"#B0BEC5\", \"#B0BEC5\", \"#B0BEC5\", \"#B0BEC5\", \"#B0BEC5\", \"#B0BEC5\", \"#B0BEC5\", \"#B0BEC5\", \"#B0BEC5\", \"#B0BEC5\", \"#B0BEC5\", \"#B0BEC5\", \"#B0BEC5\", \"#B0BEC5\", \"#B0BEC5\"]]}], \"label\": \"Topic 45\", \"method\": \"update\"}, {\"args\": [{\"marker.color\": [[\"#B0BEC5\", \"#B0BEC5\", \"#B0BEC5\", \"#B0BEC5\", \"#B0BEC5\", \"#B0BEC5\", \"#B0BEC5\", \"#B0BEC5\", \"#B0BEC5\", \"#B0BEC5\", \"#B0BEC5\", \"#B0BEC5\", \"#B0BEC5\", \"#B0BEC5\", \"#B0BEC5\", \"#B0BEC5\", \"#B0BEC5\", \"#B0BEC5\", \"#B0BEC5\", \"#B0BEC5\", \"#B0BEC5\", \"#B0BEC5\", \"#B0BEC5\", \"#B0BEC5\", \"#B0BEC5\", \"#B0BEC5\", \"#B0BEC5\", \"#B0BEC5\", \"#B0BEC5\", \"#B0BEC5\", \"#B0BEC5\", \"#B0BEC5\", \"#B0BEC5\", \"#B0BEC5\", \"#B0BEC5\", \"#B0BEC5\", \"#B0BEC5\", \"#B0BEC5\", \"#B0BEC5\", \"#B0BEC5\", \"#B0BEC5\", \"#B0BEC5\", \"#B0BEC5\", \"#B0BEC5\", \"#B0BEC5\", \"#B0BEC5\", \"red\", \"#B0BEC5\", \"#B0BEC5\", \"#B0BEC5\", \"#B0BEC5\", \"#B0BEC5\", \"#B0BEC5\", \"#B0BEC5\", \"#B0BEC5\", \"#B0BEC5\", \"#B0BEC5\", \"#B0BEC5\", \"#B0BEC5\", \"#B0BEC5\", \"#B0BEC5\", \"#B0BEC5\", \"#B0BEC5\", \"#B0BEC5\", \"#B0BEC5\", \"#B0BEC5\", \"#B0BEC5\", \"#B0BEC5\", \"#B0BEC5\", \"#B0BEC5\", \"#B0BEC5\", \"#B0BEC5\", \"#B0BEC5\", \"#B0BEC5\", \"#B0BEC5\", \"#B0BEC5\", \"#B0BEC5\", \"#B0BEC5\", \"#B0BEC5\", \"#B0BEC5\", \"#B0BEC5\", \"#B0BEC5\", \"#B0BEC5\", \"#B0BEC5\", \"#B0BEC5\", \"#B0BEC5\", \"#B0BEC5\", \"#B0BEC5\", \"#B0BEC5\", \"#B0BEC5\", \"#B0BEC5\", \"#B0BEC5\", \"#B0BEC5\", \"#B0BEC5\", \"#B0BEC5\", \"#B0BEC5\", \"#B0BEC5\", \"#B0BEC5\", \"#B0BEC5\", \"#B0BEC5\"]]}], \"label\": \"Topic 46\", \"method\": \"update\"}, {\"args\": [{\"marker.color\": [[\"#B0BEC5\", \"#B0BEC5\", \"#B0BEC5\", \"#B0BEC5\", \"#B0BEC5\", \"#B0BEC5\", \"#B0BEC5\", \"#B0BEC5\", \"#B0BEC5\", \"#B0BEC5\", \"#B0BEC5\", \"#B0BEC5\", \"#B0BEC5\", \"#B0BEC5\", \"#B0BEC5\", \"#B0BEC5\", \"#B0BEC5\", \"#B0BEC5\", \"#B0BEC5\", \"#B0BEC5\", \"#B0BEC5\", \"#B0BEC5\", \"#B0BEC5\", \"#B0BEC5\", \"#B0BEC5\", \"#B0BEC5\", \"#B0BEC5\", \"#B0BEC5\", \"#B0BEC5\", \"#B0BEC5\", \"#B0BEC5\", \"#B0BEC5\", \"#B0BEC5\", \"#B0BEC5\", \"#B0BEC5\", \"#B0BEC5\", \"#B0BEC5\", \"#B0BEC5\", \"#B0BEC5\", \"#B0BEC5\", \"#B0BEC5\", \"#B0BEC5\", \"#B0BEC5\", \"#B0BEC5\", \"#B0BEC5\", \"#B0BEC5\", \"#B0BEC5\", \"red\", \"#B0BEC5\", \"#B0BEC5\", \"#B0BEC5\", \"#B0BEC5\", \"#B0BEC5\", \"#B0BEC5\", \"#B0BEC5\", \"#B0BEC5\", \"#B0BEC5\", \"#B0BEC5\", \"#B0BEC5\", \"#B0BEC5\", \"#B0BEC5\", \"#B0BEC5\", \"#B0BEC5\", \"#B0BEC5\", \"#B0BEC5\", \"#B0BEC5\", \"#B0BEC5\", \"#B0BEC5\", \"#B0BEC5\", \"#B0BEC5\", \"#B0BEC5\", \"#B0BEC5\", \"#B0BEC5\", \"#B0BEC5\", \"#B0BEC5\", \"#B0BEC5\", \"#B0BEC5\", \"#B0BEC5\", \"#B0BEC5\", \"#B0BEC5\", \"#B0BEC5\", \"#B0BEC5\", \"#B0BEC5\", \"#B0BEC5\", \"#B0BEC5\", \"#B0BEC5\", \"#B0BEC5\", \"#B0BEC5\", \"#B0BEC5\", \"#B0BEC5\", \"#B0BEC5\", \"#B0BEC5\", \"#B0BEC5\", \"#B0BEC5\", \"#B0BEC5\", \"#B0BEC5\", \"#B0BEC5\", \"#B0BEC5\", \"#B0BEC5\", \"#B0BEC5\"]]}], \"label\": \"Topic 47\", \"method\": \"update\"}, {\"args\": [{\"marker.color\": [[\"#B0BEC5\", \"#B0BEC5\", \"#B0BEC5\", \"#B0BEC5\", \"#B0BEC5\", \"#B0BEC5\", \"#B0BEC5\", \"#B0BEC5\", \"#B0BEC5\", \"#B0BEC5\", \"#B0BEC5\", \"#B0BEC5\", \"#B0BEC5\", \"#B0BEC5\", \"#B0BEC5\", \"#B0BEC5\", \"#B0BEC5\", \"#B0BEC5\", \"#B0BEC5\", \"#B0BEC5\", \"#B0BEC5\", \"#B0BEC5\", \"#B0BEC5\", \"#B0BEC5\", \"#B0BEC5\", \"#B0BEC5\", \"#B0BEC5\", \"#B0BEC5\", \"#B0BEC5\", \"#B0BEC5\", \"#B0BEC5\", \"#B0BEC5\", \"#B0BEC5\", \"#B0BEC5\", \"#B0BEC5\", \"#B0BEC5\", \"#B0BEC5\", \"#B0BEC5\", \"#B0BEC5\", \"#B0BEC5\", \"#B0BEC5\", \"#B0BEC5\", \"#B0BEC5\", \"#B0BEC5\", \"#B0BEC5\", \"#B0BEC5\", \"#B0BEC5\", \"#B0BEC5\", \"red\", \"#B0BEC5\", \"#B0BEC5\", \"#B0BEC5\", \"#B0BEC5\", \"#B0BEC5\", \"#B0BEC5\", \"#B0BEC5\", \"#B0BEC5\", \"#B0BEC5\", \"#B0BEC5\", \"#B0BEC5\", \"#B0BEC5\", \"#B0BEC5\", \"#B0BEC5\", \"#B0BEC5\", \"#B0BEC5\", \"#B0BEC5\", \"#B0BEC5\", \"#B0BEC5\", \"#B0BEC5\", \"#B0BEC5\", \"#B0BEC5\", \"#B0BEC5\", \"#B0BEC5\", \"#B0BEC5\", \"#B0BEC5\", \"#B0BEC5\", \"#B0BEC5\", \"#B0BEC5\", \"#B0BEC5\", \"#B0BEC5\", \"#B0BEC5\", \"#B0BEC5\", \"#B0BEC5\", \"#B0BEC5\", \"#B0BEC5\", \"#B0BEC5\", \"#B0BEC5\", \"#B0BEC5\", \"#B0BEC5\", \"#B0BEC5\", \"#B0BEC5\", \"#B0BEC5\", \"#B0BEC5\", \"#B0BEC5\", \"#B0BEC5\", \"#B0BEC5\", \"#B0BEC5\", \"#B0BEC5\", \"#B0BEC5\", \"#B0BEC5\"]]}], \"label\": \"Topic 48\", \"method\": \"update\"}, {\"args\": [{\"marker.color\": [[\"#B0BEC5\", \"#B0BEC5\", \"#B0BEC5\", \"#B0BEC5\", \"#B0BEC5\", \"#B0BEC5\", \"#B0BEC5\", \"#B0BEC5\", \"#B0BEC5\", \"#B0BEC5\", \"#B0BEC5\", \"#B0BEC5\", \"#B0BEC5\", \"#B0BEC5\", \"#B0BEC5\", \"#B0BEC5\", \"#B0BEC5\", \"#B0BEC5\", \"#B0BEC5\", \"#B0BEC5\", \"#B0BEC5\", \"#B0BEC5\", \"#B0BEC5\", \"#B0BEC5\", \"#B0BEC5\", \"#B0BEC5\", \"#B0BEC5\", \"#B0BEC5\", \"#B0BEC5\", \"#B0BEC5\", \"#B0BEC5\", \"#B0BEC5\", \"#B0BEC5\", \"#B0BEC5\", \"#B0BEC5\", \"#B0BEC5\", \"#B0BEC5\", \"#B0BEC5\", \"#B0BEC5\", \"#B0BEC5\", \"#B0BEC5\", \"#B0BEC5\", \"#B0BEC5\", \"#B0BEC5\", \"#B0BEC5\", \"#B0BEC5\", \"#B0BEC5\", \"#B0BEC5\", \"#B0BEC5\", \"red\", \"#B0BEC5\", \"#B0BEC5\", \"#B0BEC5\", \"#B0BEC5\", \"#B0BEC5\", \"#B0BEC5\", \"#B0BEC5\", \"#B0BEC5\", \"#B0BEC5\", \"#B0BEC5\", \"#B0BEC5\", \"#B0BEC5\", \"#B0BEC5\", \"#B0BEC5\", \"#B0BEC5\", \"#B0BEC5\", \"#B0BEC5\", \"#B0BEC5\", \"#B0BEC5\", \"#B0BEC5\", \"#B0BEC5\", \"#B0BEC5\", \"#B0BEC5\", \"#B0BEC5\", \"#B0BEC5\", \"#B0BEC5\", \"#B0BEC5\", \"#B0BEC5\", \"#B0BEC5\", \"#B0BEC5\", \"#B0BEC5\", \"#B0BEC5\", \"#B0BEC5\", \"#B0BEC5\", \"#B0BEC5\", \"#B0BEC5\", \"#B0BEC5\", \"#B0BEC5\", \"#B0BEC5\", \"#B0BEC5\", \"#B0BEC5\", \"#B0BEC5\", \"#B0BEC5\", \"#B0BEC5\", \"#B0BEC5\", \"#B0BEC5\", \"#B0BEC5\", \"#B0BEC5\", \"#B0BEC5\", \"#B0BEC5\"]]}], \"label\": \"Topic 49\", \"method\": \"update\"}, {\"args\": [{\"marker.color\": [[\"#B0BEC5\", \"#B0BEC5\", \"#B0BEC5\", \"#B0BEC5\", \"#B0BEC5\", \"#B0BEC5\", \"#B0BEC5\", \"#B0BEC5\", \"#B0BEC5\", \"#B0BEC5\", \"#B0BEC5\", \"#B0BEC5\", \"#B0BEC5\", \"#B0BEC5\", \"#B0BEC5\", \"#B0BEC5\", \"#B0BEC5\", \"#B0BEC5\", \"#B0BEC5\", \"#B0BEC5\", \"#B0BEC5\", \"#B0BEC5\", \"#B0BEC5\", \"#B0BEC5\", \"#B0BEC5\", \"#B0BEC5\", \"#B0BEC5\", \"#B0BEC5\", \"#B0BEC5\", \"#B0BEC5\", \"#B0BEC5\", \"#B0BEC5\", \"#B0BEC5\", \"#B0BEC5\", \"#B0BEC5\", \"#B0BEC5\", \"#B0BEC5\", \"#B0BEC5\", \"#B0BEC5\", \"#B0BEC5\", \"#B0BEC5\", \"#B0BEC5\", \"#B0BEC5\", \"#B0BEC5\", \"#B0BEC5\", \"#B0BEC5\", \"#B0BEC5\", \"#B0BEC5\", \"#B0BEC5\", \"#B0BEC5\", \"red\", \"#B0BEC5\", \"#B0BEC5\", \"#B0BEC5\", \"#B0BEC5\", \"#B0BEC5\", \"#B0BEC5\", \"#B0BEC5\", \"#B0BEC5\", \"#B0BEC5\", \"#B0BEC5\", \"#B0BEC5\", \"#B0BEC5\", \"#B0BEC5\", \"#B0BEC5\", \"#B0BEC5\", \"#B0BEC5\", \"#B0BEC5\", \"#B0BEC5\", \"#B0BEC5\", \"#B0BEC5\", \"#B0BEC5\", \"#B0BEC5\", \"#B0BEC5\", \"#B0BEC5\", \"#B0BEC5\", \"#B0BEC5\", \"#B0BEC5\", \"#B0BEC5\", \"#B0BEC5\", \"#B0BEC5\", \"#B0BEC5\", \"#B0BEC5\", \"#B0BEC5\", \"#B0BEC5\", \"#B0BEC5\", \"#B0BEC5\", \"#B0BEC5\", \"#B0BEC5\", \"#B0BEC5\", \"#B0BEC5\", \"#B0BEC5\", \"#B0BEC5\", \"#B0BEC5\", \"#B0BEC5\", \"#B0BEC5\", \"#B0BEC5\", \"#B0BEC5\", \"#B0BEC5\", \"#B0BEC5\"]]}], \"label\": \"Topic 50\", \"method\": \"update\"}, {\"args\": [{\"marker.color\": [[\"#B0BEC5\", \"#B0BEC5\", \"#B0BEC5\", \"#B0BEC5\", \"#B0BEC5\", \"#B0BEC5\", \"#B0BEC5\", \"#B0BEC5\", \"#B0BEC5\", \"#B0BEC5\", \"#B0BEC5\", \"#B0BEC5\", \"#B0BEC5\", \"#B0BEC5\", \"#B0BEC5\", \"#B0BEC5\", \"#B0BEC5\", \"#B0BEC5\", \"#B0BEC5\", \"#B0BEC5\", \"#B0BEC5\", \"#B0BEC5\", \"#B0BEC5\", \"#B0BEC5\", \"#B0BEC5\", \"#B0BEC5\", \"#B0BEC5\", \"#B0BEC5\", \"#B0BEC5\", \"#B0BEC5\", \"#B0BEC5\", \"#B0BEC5\", \"#B0BEC5\", \"#B0BEC5\", \"#B0BEC5\", \"#B0BEC5\", \"#B0BEC5\", \"#B0BEC5\", \"#B0BEC5\", \"#B0BEC5\", \"#B0BEC5\", \"#B0BEC5\", \"#B0BEC5\", \"#B0BEC5\", \"#B0BEC5\", \"#B0BEC5\", \"#B0BEC5\", \"#B0BEC5\", \"#B0BEC5\", \"#B0BEC5\", \"#B0BEC5\", \"red\", \"#B0BEC5\", \"#B0BEC5\", \"#B0BEC5\", \"#B0BEC5\", \"#B0BEC5\", \"#B0BEC5\", \"#B0BEC5\", \"#B0BEC5\", \"#B0BEC5\", \"#B0BEC5\", \"#B0BEC5\", \"#B0BEC5\", \"#B0BEC5\", \"#B0BEC5\", \"#B0BEC5\", \"#B0BEC5\", \"#B0BEC5\", \"#B0BEC5\", \"#B0BEC5\", \"#B0BEC5\", \"#B0BEC5\", \"#B0BEC5\", \"#B0BEC5\", \"#B0BEC5\", \"#B0BEC5\", \"#B0BEC5\", \"#B0BEC5\", \"#B0BEC5\", \"#B0BEC5\", \"#B0BEC5\", \"#B0BEC5\", \"#B0BEC5\", \"#B0BEC5\", \"#B0BEC5\", \"#B0BEC5\", \"#B0BEC5\", \"#B0BEC5\", \"#B0BEC5\", \"#B0BEC5\", \"#B0BEC5\", \"#B0BEC5\", \"#B0BEC5\", \"#B0BEC5\", \"#B0BEC5\", \"#B0BEC5\", \"#B0BEC5\", \"#B0BEC5\", \"#B0BEC5\"]]}], \"label\": \"Topic 51\", \"method\": \"update\"}, {\"args\": [{\"marker.color\": [[\"#B0BEC5\", \"#B0BEC5\", \"#B0BEC5\", \"#B0BEC5\", \"#B0BEC5\", \"#B0BEC5\", \"#B0BEC5\", \"#B0BEC5\", \"#B0BEC5\", \"#B0BEC5\", \"#B0BEC5\", \"#B0BEC5\", \"#B0BEC5\", \"#B0BEC5\", \"#B0BEC5\", \"#B0BEC5\", \"#B0BEC5\", \"#B0BEC5\", \"#B0BEC5\", \"#B0BEC5\", \"#B0BEC5\", \"#B0BEC5\", \"#B0BEC5\", \"#B0BEC5\", \"#B0BEC5\", \"#B0BEC5\", \"#B0BEC5\", \"#B0BEC5\", \"#B0BEC5\", \"#B0BEC5\", \"#B0BEC5\", \"#B0BEC5\", \"#B0BEC5\", \"#B0BEC5\", \"#B0BEC5\", \"#B0BEC5\", \"#B0BEC5\", \"#B0BEC5\", \"#B0BEC5\", \"#B0BEC5\", \"#B0BEC5\", \"#B0BEC5\", \"#B0BEC5\", \"#B0BEC5\", \"#B0BEC5\", \"#B0BEC5\", \"#B0BEC5\", \"#B0BEC5\", \"#B0BEC5\", \"#B0BEC5\", \"#B0BEC5\", \"#B0BEC5\", \"red\", \"#B0BEC5\", \"#B0BEC5\", \"#B0BEC5\", \"#B0BEC5\", \"#B0BEC5\", \"#B0BEC5\", \"#B0BEC5\", \"#B0BEC5\", \"#B0BEC5\", \"#B0BEC5\", \"#B0BEC5\", \"#B0BEC5\", \"#B0BEC5\", \"#B0BEC5\", \"#B0BEC5\", \"#B0BEC5\", \"#B0BEC5\", \"#B0BEC5\", \"#B0BEC5\", \"#B0BEC5\", \"#B0BEC5\", \"#B0BEC5\", \"#B0BEC5\", \"#B0BEC5\", \"#B0BEC5\", \"#B0BEC5\", \"#B0BEC5\", \"#B0BEC5\", \"#B0BEC5\", \"#B0BEC5\", \"#B0BEC5\", \"#B0BEC5\", \"#B0BEC5\", \"#B0BEC5\", \"#B0BEC5\", \"#B0BEC5\", \"#B0BEC5\", \"#B0BEC5\", \"#B0BEC5\", \"#B0BEC5\", \"#B0BEC5\", \"#B0BEC5\", \"#B0BEC5\", \"#B0BEC5\", \"#B0BEC5\", \"#B0BEC5\", \"#B0BEC5\"]]}], \"label\": \"Topic 52\", \"method\": \"update\"}, {\"args\": [{\"marker.color\": [[\"#B0BEC5\", \"#B0BEC5\", \"#B0BEC5\", \"#B0BEC5\", \"#B0BEC5\", \"#B0BEC5\", \"#B0BEC5\", \"#B0BEC5\", \"#B0BEC5\", \"#B0BEC5\", \"#B0BEC5\", \"#B0BEC5\", \"#B0BEC5\", \"#B0BEC5\", \"#B0BEC5\", \"#B0BEC5\", \"#B0BEC5\", \"#B0BEC5\", \"#B0BEC5\", \"#B0BEC5\", \"#B0BEC5\", \"#B0BEC5\", \"#B0BEC5\", \"#B0BEC5\", \"#B0BEC5\", \"#B0BEC5\", \"#B0BEC5\", \"#B0BEC5\", \"#B0BEC5\", \"#B0BEC5\", \"#B0BEC5\", \"#B0BEC5\", \"#B0BEC5\", \"#B0BEC5\", \"#B0BEC5\", \"#B0BEC5\", \"#B0BEC5\", \"#B0BEC5\", \"#B0BEC5\", \"#B0BEC5\", \"#B0BEC5\", \"#B0BEC5\", \"#B0BEC5\", \"#B0BEC5\", \"#B0BEC5\", \"#B0BEC5\", \"#B0BEC5\", \"#B0BEC5\", \"#B0BEC5\", \"#B0BEC5\", \"#B0BEC5\", \"#B0BEC5\", \"#B0BEC5\", \"red\", \"#B0BEC5\", \"#B0BEC5\", \"#B0BEC5\", \"#B0BEC5\", \"#B0BEC5\", \"#B0BEC5\", \"#B0BEC5\", \"#B0BEC5\", \"#B0BEC5\", \"#B0BEC5\", \"#B0BEC5\", \"#B0BEC5\", \"#B0BEC5\", \"#B0BEC5\", \"#B0BEC5\", \"#B0BEC5\", \"#B0BEC5\", \"#B0BEC5\", \"#B0BEC5\", \"#B0BEC5\", \"#B0BEC5\", \"#B0BEC5\", \"#B0BEC5\", \"#B0BEC5\", \"#B0BEC5\", \"#B0BEC5\", \"#B0BEC5\", \"#B0BEC5\", \"#B0BEC5\", \"#B0BEC5\", \"#B0BEC5\", \"#B0BEC5\", \"#B0BEC5\", \"#B0BEC5\", \"#B0BEC5\", \"#B0BEC5\", \"#B0BEC5\", \"#B0BEC5\", \"#B0BEC5\", \"#B0BEC5\", \"#B0BEC5\", \"#B0BEC5\", \"#B0BEC5\", \"#B0BEC5\", \"#B0BEC5\", \"#B0BEC5\"]]}], \"label\": \"Topic 53\", \"method\": \"update\"}, {\"args\": [{\"marker.color\": [[\"#B0BEC5\", \"#B0BEC5\", \"#B0BEC5\", \"#B0BEC5\", \"#B0BEC5\", \"#B0BEC5\", \"#B0BEC5\", \"#B0BEC5\", \"#B0BEC5\", \"#B0BEC5\", \"#B0BEC5\", \"#B0BEC5\", \"#B0BEC5\", \"#B0BEC5\", \"#B0BEC5\", \"#B0BEC5\", \"#B0BEC5\", \"#B0BEC5\", \"#B0BEC5\", \"#B0BEC5\", \"#B0BEC5\", \"#B0BEC5\", \"#B0BEC5\", \"#B0BEC5\", \"#B0BEC5\", \"#B0BEC5\", \"#B0BEC5\", \"#B0BEC5\", \"#B0BEC5\", \"#B0BEC5\", \"#B0BEC5\", \"#B0BEC5\", \"#B0BEC5\", \"#B0BEC5\", \"#B0BEC5\", \"#B0BEC5\", \"#B0BEC5\", \"#B0BEC5\", \"#B0BEC5\", \"#B0BEC5\", \"#B0BEC5\", \"#B0BEC5\", \"#B0BEC5\", \"#B0BEC5\", \"#B0BEC5\", \"#B0BEC5\", \"#B0BEC5\", \"#B0BEC5\", \"#B0BEC5\", \"#B0BEC5\", \"#B0BEC5\", \"#B0BEC5\", \"#B0BEC5\", \"#B0BEC5\", \"red\", \"#B0BEC5\", \"#B0BEC5\", \"#B0BEC5\", \"#B0BEC5\", \"#B0BEC5\", \"#B0BEC5\", \"#B0BEC5\", \"#B0BEC5\", \"#B0BEC5\", \"#B0BEC5\", \"#B0BEC5\", \"#B0BEC5\", \"#B0BEC5\", \"#B0BEC5\", \"#B0BEC5\", \"#B0BEC5\", \"#B0BEC5\", \"#B0BEC5\", \"#B0BEC5\", \"#B0BEC5\", \"#B0BEC5\", \"#B0BEC5\", \"#B0BEC5\", \"#B0BEC5\", \"#B0BEC5\", \"#B0BEC5\", \"#B0BEC5\", \"#B0BEC5\", \"#B0BEC5\", \"#B0BEC5\", \"#B0BEC5\", \"#B0BEC5\", \"#B0BEC5\", \"#B0BEC5\", \"#B0BEC5\", \"#B0BEC5\", \"#B0BEC5\", \"#B0BEC5\", \"#B0BEC5\", \"#B0BEC5\", \"#B0BEC5\", \"#B0BEC5\", \"#B0BEC5\", \"#B0BEC5\", \"#B0BEC5\"]]}], \"label\": \"Topic 54\", \"method\": \"update\"}, {\"args\": [{\"marker.color\": [[\"#B0BEC5\", \"#B0BEC5\", \"#B0BEC5\", \"#B0BEC5\", \"#B0BEC5\", \"#B0BEC5\", \"#B0BEC5\", \"#B0BEC5\", \"#B0BEC5\", \"#B0BEC5\", \"#B0BEC5\", \"#B0BEC5\", \"#B0BEC5\", \"#B0BEC5\", \"#B0BEC5\", \"#B0BEC5\", \"#B0BEC5\", \"#B0BEC5\", \"#B0BEC5\", \"#B0BEC5\", \"#B0BEC5\", \"#B0BEC5\", \"#B0BEC5\", \"#B0BEC5\", \"#B0BEC5\", \"#B0BEC5\", \"#B0BEC5\", \"#B0BEC5\", \"#B0BEC5\", \"#B0BEC5\", \"#B0BEC5\", \"#B0BEC5\", \"#B0BEC5\", \"#B0BEC5\", \"#B0BEC5\", \"#B0BEC5\", \"#B0BEC5\", \"#B0BEC5\", \"#B0BEC5\", \"#B0BEC5\", \"#B0BEC5\", \"#B0BEC5\", \"#B0BEC5\", \"#B0BEC5\", \"#B0BEC5\", \"#B0BEC5\", \"#B0BEC5\", \"#B0BEC5\", \"#B0BEC5\", \"#B0BEC5\", \"#B0BEC5\", \"#B0BEC5\", \"#B0BEC5\", \"#B0BEC5\", \"#B0BEC5\", \"red\", \"#B0BEC5\", \"#B0BEC5\", \"#B0BEC5\", \"#B0BEC5\", \"#B0BEC5\", \"#B0BEC5\", \"#B0BEC5\", \"#B0BEC5\", \"#B0BEC5\", \"#B0BEC5\", \"#B0BEC5\", \"#B0BEC5\", \"#B0BEC5\", \"#B0BEC5\", \"#B0BEC5\", \"#B0BEC5\", \"#B0BEC5\", \"#B0BEC5\", \"#B0BEC5\", \"#B0BEC5\", \"#B0BEC5\", \"#B0BEC5\", \"#B0BEC5\", \"#B0BEC5\", \"#B0BEC5\", \"#B0BEC5\", \"#B0BEC5\", \"#B0BEC5\", \"#B0BEC5\", \"#B0BEC5\", \"#B0BEC5\", \"#B0BEC5\", \"#B0BEC5\", \"#B0BEC5\", \"#B0BEC5\", \"#B0BEC5\", \"#B0BEC5\", \"#B0BEC5\", \"#B0BEC5\", \"#B0BEC5\", \"#B0BEC5\", \"#B0BEC5\", \"#B0BEC5\", \"#B0BEC5\"]]}], \"label\": \"Topic 55\", \"method\": \"update\"}, {\"args\": [{\"marker.color\": [[\"#B0BEC5\", \"#B0BEC5\", \"#B0BEC5\", \"#B0BEC5\", \"#B0BEC5\", \"#B0BEC5\", \"#B0BEC5\", \"#B0BEC5\", \"#B0BEC5\", \"#B0BEC5\", \"#B0BEC5\", \"#B0BEC5\", \"#B0BEC5\", \"#B0BEC5\", \"#B0BEC5\", \"#B0BEC5\", \"#B0BEC5\", \"#B0BEC5\", \"#B0BEC5\", \"#B0BEC5\", \"#B0BEC5\", \"#B0BEC5\", \"#B0BEC5\", \"#B0BEC5\", \"#B0BEC5\", \"#B0BEC5\", \"#B0BEC5\", \"#B0BEC5\", \"#B0BEC5\", \"#B0BEC5\", \"#B0BEC5\", \"#B0BEC5\", \"#B0BEC5\", \"#B0BEC5\", \"#B0BEC5\", \"#B0BEC5\", \"#B0BEC5\", \"#B0BEC5\", \"#B0BEC5\", \"#B0BEC5\", \"#B0BEC5\", \"#B0BEC5\", \"#B0BEC5\", \"#B0BEC5\", \"#B0BEC5\", \"#B0BEC5\", \"#B0BEC5\", \"#B0BEC5\", \"#B0BEC5\", \"#B0BEC5\", \"#B0BEC5\", \"#B0BEC5\", \"#B0BEC5\", \"#B0BEC5\", \"#B0BEC5\", \"#B0BEC5\", \"red\", \"#B0BEC5\", \"#B0BEC5\", \"#B0BEC5\", \"#B0BEC5\", \"#B0BEC5\", \"#B0BEC5\", \"#B0BEC5\", \"#B0BEC5\", \"#B0BEC5\", \"#B0BEC5\", \"#B0BEC5\", \"#B0BEC5\", \"#B0BEC5\", \"#B0BEC5\", \"#B0BEC5\", \"#B0BEC5\", \"#B0BEC5\", \"#B0BEC5\", \"#B0BEC5\", \"#B0BEC5\", \"#B0BEC5\", \"#B0BEC5\", \"#B0BEC5\", \"#B0BEC5\", \"#B0BEC5\", \"#B0BEC5\", \"#B0BEC5\", \"#B0BEC5\", \"#B0BEC5\", \"#B0BEC5\", \"#B0BEC5\", \"#B0BEC5\", \"#B0BEC5\", \"#B0BEC5\", \"#B0BEC5\", \"#B0BEC5\", \"#B0BEC5\", \"#B0BEC5\", \"#B0BEC5\", \"#B0BEC5\", \"#B0BEC5\", \"#B0BEC5\", \"#B0BEC5\"]]}], \"label\": \"Topic 56\", \"method\": \"update\"}, {\"args\": [{\"marker.color\": [[\"#B0BEC5\", \"#B0BEC5\", \"#B0BEC5\", \"#B0BEC5\", \"#B0BEC5\", \"#B0BEC5\", \"#B0BEC5\", \"#B0BEC5\", \"#B0BEC5\", \"#B0BEC5\", \"#B0BEC5\", \"#B0BEC5\", \"#B0BEC5\", \"#B0BEC5\", \"#B0BEC5\", \"#B0BEC5\", \"#B0BEC5\", \"#B0BEC5\", \"#B0BEC5\", \"#B0BEC5\", \"#B0BEC5\", \"#B0BEC5\", \"#B0BEC5\", \"#B0BEC5\", \"#B0BEC5\", \"#B0BEC5\", \"#B0BEC5\", \"#B0BEC5\", \"#B0BEC5\", \"#B0BEC5\", \"#B0BEC5\", \"#B0BEC5\", \"#B0BEC5\", \"#B0BEC5\", \"#B0BEC5\", \"#B0BEC5\", \"#B0BEC5\", \"#B0BEC5\", \"#B0BEC5\", \"#B0BEC5\", \"#B0BEC5\", \"#B0BEC5\", \"#B0BEC5\", \"#B0BEC5\", \"#B0BEC5\", \"#B0BEC5\", \"#B0BEC5\", \"#B0BEC5\", \"#B0BEC5\", \"#B0BEC5\", \"#B0BEC5\", \"#B0BEC5\", \"#B0BEC5\", \"#B0BEC5\", \"#B0BEC5\", \"#B0BEC5\", \"#B0BEC5\", \"red\", \"#B0BEC5\", \"#B0BEC5\", \"#B0BEC5\", \"#B0BEC5\", \"#B0BEC5\", \"#B0BEC5\", \"#B0BEC5\", \"#B0BEC5\", \"#B0BEC5\", \"#B0BEC5\", \"#B0BEC5\", \"#B0BEC5\", \"#B0BEC5\", \"#B0BEC5\", \"#B0BEC5\", \"#B0BEC5\", \"#B0BEC5\", \"#B0BEC5\", \"#B0BEC5\", \"#B0BEC5\", \"#B0BEC5\", \"#B0BEC5\", \"#B0BEC5\", \"#B0BEC5\", \"#B0BEC5\", \"#B0BEC5\", \"#B0BEC5\", \"#B0BEC5\", \"#B0BEC5\", \"#B0BEC5\", \"#B0BEC5\", \"#B0BEC5\", \"#B0BEC5\", \"#B0BEC5\", \"#B0BEC5\", \"#B0BEC5\", \"#B0BEC5\", \"#B0BEC5\", \"#B0BEC5\", \"#B0BEC5\", \"#B0BEC5\", \"#B0BEC5\"]]}], \"label\": \"Topic 57\", \"method\": \"update\"}, {\"args\": [{\"marker.color\": [[\"#B0BEC5\", \"#B0BEC5\", \"#B0BEC5\", \"#B0BEC5\", \"#B0BEC5\", \"#B0BEC5\", \"#B0BEC5\", \"#B0BEC5\", \"#B0BEC5\", \"#B0BEC5\", \"#B0BEC5\", \"#B0BEC5\", \"#B0BEC5\", \"#B0BEC5\", \"#B0BEC5\", \"#B0BEC5\", \"#B0BEC5\", \"#B0BEC5\", \"#B0BEC5\", \"#B0BEC5\", \"#B0BEC5\", \"#B0BEC5\", \"#B0BEC5\", \"#B0BEC5\", \"#B0BEC5\", \"#B0BEC5\", \"#B0BEC5\", \"#B0BEC5\", \"#B0BEC5\", \"#B0BEC5\", \"#B0BEC5\", \"#B0BEC5\", \"#B0BEC5\", \"#B0BEC5\", \"#B0BEC5\", \"#B0BEC5\", \"#B0BEC5\", \"#B0BEC5\", \"#B0BEC5\", \"#B0BEC5\", \"#B0BEC5\", \"#B0BEC5\", \"#B0BEC5\", \"#B0BEC5\", \"#B0BEC5\", \"#B0BEC5\", \"#B0BEC5\", \"#B0BEC5\", \"#B0BEC5\", \"#B0BEC5\", \"#B0BEC5\", \"#B0BEC5\", \"#B0BEC5\", \"#B0BEC5\", \"#B0BEC5\", \"#B0BEC5\", \"#B0BEC5\", \"#B0BEC5\", \"red\", \"#B0BEC5\", \"#B0BEC5\", \"#B0BEC5\", \"#B0BEC5\", \"#B0BEC5\", \"#B0BEC5\", \"#B0BEC5\", \"#B0BEC5\", \"#B0BEC5\", \"#B0BEC5\", \"#B0BEC5\", \"#B0BEC5\", \"#B0BEC5\", \"#B0BEC5\", \"#B0BEC5\", \"#B0BEC5\", \"#B0BEC5\", \"#B0BEC5\", \"#B0BEC5\", \"#B0BEC5\", \"#B0BEC5\", \"#B0BEC5\", \"#B0BEC5\", \"#B0BEC5\", \"#B0BEC5\", \"#B0BEC5\", \"#B0BEC5\", \"#B0BEC5\", \"#B0BEC5\", \"#B0BEC5\", \"#B0BEC5\", \"#B0BEC5\", \"#B0BEC5\", \"#B0BEC5\", \"#B0BEC5\", \"#B0BEC5\", \"#B0BEC5\", \"#B0BEC5\", \"#B0BEC5\", \"#B0BEC5\", \"#B0BEC5\"]]}], \"label\": \"Topic 58\", \"method\": \"update\"}, {\"args\": [{\"marker.color\": [[\"#B0BEC5\", \"#B0BEC5\", \"#B0BEC5\", \"#B0BEC5\", \"#B0BEC5\", \"#B0BEC5\", \"#B0BEC5\", \"#B0BEC5\", \"#B0BEC5\", \"#B0BEC5\", \"#B0BEC5\", \"#B0BEC5\", \"#B0BEC5\", \"#B0BEC5\", \"#B0BEC5\", \"#B0BEC5\", \"#B0BEC5\", \"#B0BEC5\", \"#B0BEC5\", \"#B0BEC5\", \"#B0BEC5\", \"#B0BEC5\", \"#B0BEC5\", \"#B0BEC5\", \"#B0BEC5\", \"#B0BEC5\", \"#B0BEC5\", \"#B0BEC5\", \"#B0BEC5\", \"#B0BEC5\", \"#B0BEC5\", \"#B0BEC5\", \"#B0BEC5\", \"#B0BEC5\", \"#B0BEC5\", \"#B0BEC5\", \"#B0BEC5\", \"#B0BEC5\", \"#B0BEC5\", \"#B0BEC5\", \"#B0BEC5\", \"#B0BEC5\", \"#B0BEC5\", \"#B0BEC5\", \"#B0BEC5\", \"#B0BEC5\", \"#B0BEC5\", \"#B0BEC5\", \"#B0BEC5\", \"#B0BEC5\", \"#B0BEC5\", \"#B0BEC5\", \"#B0BEC5\", \"#B0BEC5\", \"#B0BEC5\", \"#B0BEC5\", \"#B0BEC5\", \"#B0BEC5\", \"#B0BEC5\", \"red\", \"#B0BEC5\", \"#B0BEC5\", \"#B0BEC5\", \"#B0BEC5\", \"#B0BEC5\", \"#B0BEC5\", \"#B0BEC5\", \"#B0BEC5\", \"#B0BEC5\", \"#B0BEC5\", \"#B0BEC5\", \"#B0BEC5\", \"#B0BEC5\", \"#B0BEC5\", \"#B0BEC5\", \"#B0BEC5\", \"#B0BEC5\", \"#B0BEC5\", \"#B0BEC5\", \"#B0BEC5\", \"#B0BEC5\", \"#B0BEC5\", \"#B0BEC5\", \"#B0BEC5\", \"#B0BEC5\", \"#B0BEC5\", \"#B0BEC5\", \"#B0BEC5\", \"#B0BEC5\", \"#B0BEC5\", \"#B0BEC5\", \"#B0BEC5\", \"#B0BEC5\", \"#B0BEC5\", \"#B0BEC5\", \"#B0BEC5\", \"#B0BEC5\", \"#B0BEC5\", \"#B0BEC5\", \"#B0BEC5\"]]}], \"label\": \"Topic 59\", \"method\": \"update\"}, {\"args\": [{\"marker.color\": [[\"#B0BEC5\", \"#B0BEC5\", \"#B0BEC5\", \"#B0BEC5\", \"#B0BEC5\", \"#B0BEC5\", \"#B0BEC5\", \"#B0BEC5\", \"#B0BEC5\", \"#B0BEC5\", \"#B0BEC5\", \"#B0BEC5\", \"#B0BEC5\", \"#B0BEC5\", \"#B0BEC5\", \"#B0BEC5\", \"#B0BEC5\", \"#B0BEC5\", \"#B0BEC5\", \"#B0BEC5\", \"#B0BEC5\", \"#B0BEC5\", \"#B0BEC5\", \"#B0BEC5\", \"#B0BEC5\", \"#B0BEC5\", \"#B0BEC5\", \"#B0BEC5\", \"#B0BEC5\", \"#B0BEC5\", \"#B0BEC5\", \"#B0BEC5\", \"#B0BEC5\", \"#B0BEC5\", \"#B0BEC5\", \"#B0BEC5\", \"#B0BEC5\", \"#B0BEC5\", \"#B0BEC5\", \"#B0BEC5\", \"#B0BEC5\", \"#B0BEC5\", \"#B0BEC5\", \"#B0BEC5\", \"#B0BEC5\", \"#B0BEC5\", \"#B0BEC5\", \"#B0BEC5\", \"#B0BEC5\", \"#B0BEC5\", \"#B0BEC5\", \"#B0BEC5\", \"#B0BEC5\", \"#B0BEC5\", \"#B0BEC5\", \"#B0BEC5\", \"#B0BEC5\", \"#B0BEC5\", \"#B0BEC5\", \"#B0BEC5\", \"red\", \"#B0BEC5\", \"#B0BEC5\", \"#B0BEC5\", \"#B0BEC5\", \"#B0BEC5\", \"#B0BEC5\", \"#B0BEC5\", \"#B0BEC5\", \"#B0BEC5\", \"#B0BEC5\", \"#B0BEC5\", \"#B0BEC5\", \"#B0BEC5\", \"#B0BEC5\", \"#B0BEC5\", \"#B0BEC5\", \"#B0BEC5\", \"#B0BEC5\", \"#B0BEC5\", \"#B0BEC5\", \"#B0BEC5\", \"#B0BEC5\", \"#B0BEC5\", \"#B0BEC5\", \"#B0BEC5\", \"#B0BEC5\", \"#B0BEC5\", \"#B0BEC5\", \"#B0BEC5\", \"#B0BEC5\", \"#B0BEC5\", \"#B0BEC5\", \"#B0BEC5\", \"#B0BEC5\", \"#B0BEC5\", \"#B0BEC5\", \"#B0BEC5\", \"#B0BEC5\", \"#B0BEC5\"]]}], \"label\": \"Topic 60\", \"method\": \"update\"}, {\"args\": [{\"marker.color\": [[\"#B0BEC5\", \"#B0BEC5\", \"#B0BEC5\", \"#B0BEC5\", \"#B0BEC5\", \"#B0BEC5\", \"#B0BEC5\", \"#B0BEC5\", \"#B0BEC5\", \"#B0BEC5\", \"#B0BEC5\", \"#B0BEC5\", \"#B0BEC5\", \"#B0BEC5\", \"#B0BEC5\", \"#B0BEC5\", \"#B0BEC5\", \"#B0BEC5\", \"#B0BEC5\", \"#B0BEC5\", \"#B0BEC5\", \"#B0BEC5\", \"#B0BEC5\", \"#B0BEC5\", \"#B0BEC5\", \"#B0BEC5\", \"#B0BEC5\", \"#B0BEC5\", \"#B0BEC5\", \"#B0BEC5\", \"#B0BEC5\", \"#B0BEC5\", \"#B0BEC5\", \"#B0BEC5\", \"#B0BEC5\", \"#B0BEC5\", \"#B0BEC5\", \"#B0BEC5\", \"#B0BEC5\", \"#B0BEC5\", \"#B0BEC5\", \"#B0BEC5\", \"#B0BEC5\", \"#B0BEC5\", \"#B0BEC5\", \"#B0BEC5\", \"#B0BEC5\", \"#B0BEC5\", \"#B0BEC5\", \"#B0BEC5\", \"#B0BEC5\", \"#B0BEC5\", \"#B0BEC5\", \"#B0BEC5\", \"#B0BEC5\", \"#B0BEC5\", \"#B0BEC5\", \"#B0BEC5\", \"#B0BEC5\", \"#B0BEC5\", \"#B0BEC5\", \"red\", \"#B0BEC5\", \"#B0BEC5\", \"#B0BEC5\", \"#B0BEC5\", \"#B0BEC5\", \"#B0BEC5\", \"#B0BEC5\", \"#B0BEC5\", \"#B0BEC5\", \"#B0BEC5\", \"#B0BEC5\", \"#B0BEC5\", \"#B0BEC5\", \"#B0BEC5\", \"#B0BEC5\", \"#B0BEC5\", \"#B0BEC5\", \"#B0BEC5\", \"#B0BEC5\", \"#B0BEC5\", \"#B0BEC5\", \"#B0BEC5\", \"#B0BEC5\", \"#B0BEC5\", \"#B0BEC5\", \"#B0BEC5\", \"#B0BEC5\", \"#B0BEC5\", \"#B0BEC5\", \"#B0BEC5\", \"#B0BEC5\", \"#B0BEC5\", \"#B0BEC5\", \"#B0BEC5\", \"#B0BEC5\", \"#B0BEC5\", \"#B0BEC5\", \"#B0BEC5\"]]}], \"label\": \"Topic 61\", \"method\": \"update\"}, {\"args\": [{\"marker.color\": [[\"#B0BEC5\", \"#B0BEC5\", \"#B0BEC5\", \"#B0BEC5\", \"#B0BEC5\", \"#B0BEC5\", \"#B0BEC5\", \"#B0BEC5\", \"#B0BEC5\", \"#B0BEC5\", \"#B0BEC5\", \"#B0BEC5\", \"#B0BEC5\", \"#B0BEC5\", \"#B0BEC5\", \"#B0BEC5\", \"#B0BEC5\", \"#B0BEC5\", \"#B0BEC5\", \"#B0BEC5\", \"#B0BEC5\", \"#B0BEC5\", \"#B0BEC5\", \"#B0BEC5\", \"#B0BEC5\", \"#B0BEC5\", \"#B0BEC5\", \"#B0BEC5\", \"#B0BEC5\", \"#B0BEC5\", \"#B0BEC5\", \"#B0BEC5\", \"#B0BEC5\", \"#B0BEC5\", \"#B0BEC5\", \"#B0BEC5\", \"#B0BEC5\", \"#B0BEC5\", \"#B0BEC5\", \"#B0BEC5\", \"#B0BEC5\", \"#B0BEC5\", \"#B0BEC5\", \"#B0BEC5\", \"#B0BEC5\", \"#B0BEC5\", \"#B0BEC5\", \"#B0BEC5\", \"#B0BEC5\", \"#B0BEC5\", \"#B0BEC5\", \"#B0BEC5\", \"#B0BEC5\", \"#B0BEC5\", \"#B0BEC5\", \"#B0BEC5\", \"#B0BEC5\", \"#B0BEC5\", \"#B0BEC5\", \"#B0BEC5\", \"#B0BEC5\", \"#B0BEC5\", \"red\", \"#B0BEC5\", \"#B0BEC5\", \"#B0BEC5\", \"#B0BEC5\", \"#B0BEC5\", \"#B0BEC5\", \"#B0BEC5\", \"#B0BEC5\", \"#B0BEC5\", \"#B0BEC5\", \"#B0BEC5\", \"#B0BEC5\", \"#B0BEC5\", \"#B0BEC5\", \"#B0BEC5\", \"#B0BEC5\", \"#B0BEC5\", \"#B0BEC5\", \"#B0BEC5\", \"#B0BEC5\", \"#B0BEC5\", \"#B0BEC5\", \"#B0BEC5\", \"#B0BEC5\", \"#B0BEC5\", \"#B0BEC5\", \"#B0BEC5\", \"#B0BEC5\", \"#B0BEC5\", \"#B0BEC5\", \"#B0BEC5\", \"#B0BEC5\", \"#B0BEC5\", \"#B0BEC5\", \"#B0BEC5\", \"#B0BEC5\", \"#B0BEC5\"]]}], \"label\": \"Topic 62\", \"method\": \"update\"}, {\"args\": [{\"marker.color\": [[\"#B0BEC5\", \"#B0BEC5\", \"#B0BEC5\", \"#B0BEC5\", \"#B0BEC5\", \"#B0BEC5\", \"#B0BEC5\", \"#B0BEC5\", \"#B0BEC5\", \"#B0BEC5\", \"#B0BEC5\", \"#B0BEC5\", \"#B0BEC5\", \"#B0BEC5\", \"#B0BEC5\", \"#B0BEC5\", \"#B0BEC5\", \"#B0BEC5\", \"#B0BEC5\", \"#B0BEC5\", \"#B0BEC5\", \"#B0BEC5\", \"#B0BEC5\", \"#B0BEC5\", \"#B0BEC5\", \"#B0BEC5\", \"#B0BEC5\", \"#B0BEC5\", \"#B0BEC5\", \"#B0BEC5\", \"#B0BEC5\", \"#B0BEC5\", \"#B0BEC5\", \"#B0BEC5\", \"#B0BEC5\", \"#B0BEC5\", \"#B0BEC5\", \"#B0BEC5\", \"#B0BEC5\", \"#B0BEC5\", \"#B0BEC5\", \"#B0BEC5\", \"#B0BEC5\", \"#B0BEC5\", \"#B0BEC5\", \"#B0BEC5\", \"#B0BEC5\", \"#B0BEC5\", \"#B0BEC5\", \"#B0BEC5\", \"#B0BEC5\", \"#B0BEC5\", \"#B0BEC5\", \"#B0BEC5\", \"#B0BEC5\", \"#B0BEC5\", \"#B0BEC5\", \"#B0BEC5\", \"#B0BEC5\", \"#B0BEC5\", \"#B0BEC5\", \"#B0BEC5\", \"#B0BEC5\", \"red\", \"#B0BEC5\", \"#B0BEC5\", \"#B0BEC5\", \"#B0BEC5\", \"#B0BEC5\", \"#B0BEC5\", \"#B0BEC5\", \"#B0BEC5\", \"#B0BEC5\", \"#B0BEC5\", \"#B0BEC5\", \"#B0BEC5\", \"#B0BEC5\", \"#B0BEC5\", \"#B0BEC5\", \"#B0BEC5\", \"#B0BEC5\", \"#B0BEC5\", \"#B0BEC5\", \"#B0BEC5\", \"#B0BEC5\", \"#B0BEC5\", \"#B0BEC5\", \"#B0BEC5\", \"#B0BEC5\", \"#B0BEC5\", \"#B0BEC5\", \"#B0BEC5\", \"#B0BEC5\", \"#B0BEC5\", \"#B0BEC5\", \"#B0BEC5\", \"#B0BEC5\", \"#B0BEC5\", \"#B0BEC5\", \"#B0BEC5\"]]}], \"label\": \"Topic 63\", \"method\": \"update\"}, {\"args\": [{\"marker.color\": [[\"#B0BEC5\", \"#B0BEC5\", \"#B0BEC5\", \"#B0BEC5\", \"#B0BEC5\", \"#B0BEC5\", \"#B0BEC5\", \"#B0BEC5\", \"#B0BEC5\", \"#B0BEC5\", \"#B0BEC5\", \"#B0BEC5\", \"#B0BEC5\", \"#B0BEC5\", \"#B0BEC5\", \"#B0BEC5\", \"#B0BEC5\", \"#B0BEC5\", \"#B0BEC5\", \"#B0BEC5\", \"#B0BEC5\", \"#B0BEC5\", \"#B0BEC5\", \"#B0BEC5\", \"#B0BEC5\", \"#B0BEC5\", \"#B0BEC5\", \"#B0BEC5\", \"#B0BEC5\", \"#B0BEC5\", \"#B0BEC5\", \"#B0BEC5\", \"#B0BEC5\", \"#B0BEC5\", \"#B0BEC5\", \"#B0BEC5\", \"#B0BEC5\", \"#B0BEC5\", \"#B0BEC5\", \"#B0BEC5\", \"#B0BEC5\", \"#B0BEC5\", \"#B0BEC5\", \"#B0BEC5\", \"#B0BEC5\", \"#B0BEC5\", \"#B0BEC5\", \"#B0BEC5\", \"#B0BEC5\", \"#B0BEC5\", \"#B0BEC5\", \"#B0BEC5\", \"#B0BEC5\", \"#B0BEC5\", \"#B0BEC5\", \"#B0BEC5\", \"#B0BEC5\", \"#B0BEC5\", \"#B0BEC5\", \"#B0BEC5\", \"#B0BEC5\", \"#B0BEC5\", \"#B0BEC5\", \"#B0BEC5\", \"red\", \"#B0BEC5\", \"#B0BEC5\", \"#B0BEC5\", \"#B0BEC5\", \"#B0BEC5\", \"#B0BEC5\", \"#B0BEC5\", \"#B0BEC5\", \"#B0BEC5\", \"#B0BEC5\", \"#B0BEC5\", \"#B0BEC5\", \"#B0BEC5\", \"#B0BEC5\", \"#B0BEC5\", \"#B0BEC5\", \"#B0BEC5\", \"#B0BEC5\", \"#B0BEC5\", \"#B0BEC5\", \"#B0BEC5\", \"#B0BEC5\", \"#B0BEC5\", \"#B0BEC5\", \"#B0BEC5\", \"#B0BEC5\", \"#B0BEC5\", \"#B0BEC5\", \"#B0BEC5\", \"#B0BEC5\", \"#B0BEC5\", \"#B0BEC5\", \"#B0BEC5\", \"#B0BEC5\", \"#B0BEC5\"]]}], \"label\": \"Topic 64\", \"method\": \"update\"}, {\"args\": [{\"marker.color\": [[\"#B0BEC5\", \"#B0BEC5\", \"#B0BEC5\", \"#B0BEC5\", \"#B0BEC5\", \"#B0BEC5\", \"#B0BEC5\", \"#B0BEC5\", \"#B0BEC5\", \"#B0BEC5\", \"#B0BEC5\", \"#B0BEC5\", \"#B0BEC5\", \"#B0BEC5\", \"#B0BEC5\", \"#B0BEC5\", \"#B0BEC5\", \"#B0BEC5\", \"#B0BEC5\", \"#B0BEC5\", \"#B0BEC5\", \"#B0BEC5\", \"#B0BEC5\", \"#B0BEC5\", \"#B0BEC5\", \"#B0BEC5\", \"#B0BEC5\", \"#B0BEC5\", \"#B0BEC5\", \"#B0BEC5\", \"#B0BEC5\", \"#B0BEC5\", \"#B0BEC5\", \"#B0BEC5\", \"#B0BEC5\", \"#B0BEC5\", \"#B0BEC5\", \"#B0BEC5\", \"#B0BEC5\", \"#B0BEC5\", \"#B0BEC5\", \"#B0BEC5\", \"#B0BEC5\", \"#B0BEC5\", \"#B0BEC5\", \"#B0BEC5\", \"#B0BEC5\", \"#B0BEC5\", \"#B0BEC5\", \"#B0BEC5\", \"#B0BEC5\", \"#B0BEC5\", \"#B0BEC5\", \"#B0BEC5\", \"#B0BEC5\", \"#B0BEC5\", \"#B0BEC5\", \"#B0BEC5\", \"#B0BEC5\", \"#B0BEC5\", \"#B0BEC5\", \"#B0BEC5\", \"#B0BEC5\", \"#B0BEC5\", \"#B0BEC5\", \"red\", \"#B0BEC5\", \"#B0BEC5\", \"#B0BEC5\", \"#B0BEC5\", \"#B0BEC5\", \"#B0BEC5\", \"#B0BEC5\", \"#B0BEC5\", \"#B0BEC5\", \"#B0BEC5\", \"#B0BEC5\", \"#B0BEC5\", \"#B0BEC5\", \"#B0BEC5\", \"#B0BEC5\", \"#B0BEC5\", \"#B0BEC5\", \"#B0BEC5\", \"#B0BEC5\", \"#B0BEC5\", \"#B0BEC5\", \"#B0BEC5\", \"#B0BEC5\", \"#B0BEC5\", \"#B0BEC5\", \"#B0BEC5\", \"#B0BEC5\", \"#B0BEC5\", \"#B0BEC5\", \"#B0BEC5\", \"#B0BEC5\", \"#B0BEC5\", \"#B0BEC5\", \"#B0BEC5\"]]}], \"label\": \"Topic 65\", \"method\": \"update\"}, {\"args\": [{\"marker.color\": [[\"#B0BEC5\", \"#B0BEC5\", \"#B0BEC5\", \"#B0BEC5\", \"#B0BEC5\", \"#B0BEC5\", \"#B0BEC5\", \"#B0BEC5\", \"#B0BEC5\", \"#B0BEC5\", \"#B0BEC5\", \"#B0BEC5\", \"#B0BEC5\", \"#B0BEC5\", \"#B0BEC5\", \"#B0BEC5\", \"#B0BEC5\", \"#B0BEC5\", \"#B0BEC5\", \"#B0BEC5\", \"#B0BEC5\", \"#B0BEC5\", \"#B0BEC5\", \"#B0BEC5\", \"#B0BEC5\", \"#B0BEC5\", \"#B0BEC5\", \"#B0BEC5\", \"#B0BEC5\", \"#B0BEC5\", \"#B0BEC5\", \"#B0BEC5\", \"#B0BEC5\", \"#B0BEC5\", \"#B0BEC5\", \"#B0BEC5\", \"#B0BEC5\", \"#B0BEC5\", \"#B0BEC5\", \"#B0BEC5\", \"#B0BEC5\", \"#B0BEC5\", \"#B0BEC5\", \"#B0BEC5\", \"#B0BEC5\", \"#B0BEC5\", \"#B0BEC5\", \"#B0BEC5\", \"#B0BEC5\", \"#B0BEC5\", \"#B0BEC5\", \"#B0BEC5\", \"#B0BEC5\", \"#B0BEC5\", \"#B0BEC5\", \"#B0BEC5\", \"#B0BEC5\", \"#B0BEC5\", \"#B0BEC5\", \"#B0BEC5\", \"#B0BEC5\", \"#B0BEC5\", \"#B0BEC5\", \"#B0BEC5\", \"#B0BEC5\", \"#B0BEC5\", \"red\", \"#B0BEC5\", \"#B0BEC5\", \"#B0BEC5\", \"#B0BEC5\", \"#B0BEC5\", \"#B0BEC5\", \"#B0BEC5\", \"#B0BEC5\", \"#B0BEC5\", \"#B0BEC5\", \"#B0BEC5\", \"#B0BEC5\", \"#B0BEC5\", \"#B0BEC5\", \"#B0BEC5\", \"#B0BEC5\", \"#B0BEC5\", \"#B0BEC5\", \"#B0BEC5\", \"#B0BEC5\", \"#B0BEC5\", \"#B0BEC5\", \"#B0BEC5\", \"#B0BEC5\", \"#B0BEC5\", \"#B0BEC5\", \"#B0BEC5\", \"#B0BEC5\", \"#B0BEC5\", \"#B0BEC5\", \"#B0BEC5\", \"#B0BEC5\", \"#B0BEC5\"]]}], \"label\": \"Topic 66\", \"method\": \"update\"}, {\"args\": [{\"marker.color\": [[\"#B0BEC5\", \"#B0BEC5\", \"#B0BEC5\", \"#B0BEC5\", \"#B0BEC5\", \"#B0BEC5\", \"#B0BEC5\", \"#B0BEC5\", \"#B0BEC5\", \"#B0BEC5\", \"#B0BEC5\", \"#B0BEC5\", \"#B0BEC5\", \"#B0BEC5\", \"#B0BEC5\", \"#B0BEC5\", \"#B0BEC5\", \"#B0BEC5\", \"#B0BEC5\", \"#B0BEC5\", \"#B0BEC5\", \"#B0BEC5\", \"#B0BEC5\", \"#B0BEC5\", \"#B0BEC5\", \"#B0BEC5\", \"#B0BEC5\", \"#B0BEC5\", \"#B0BEC5\", \"#B0BEC5\", \"#B0BEC5\", \"#B0BEC5\", \"#B0BEC5\", \"#B0BEC5\", \"#B0BEC5\", \"#B0BEC5\", \"#B0BEC5\", \"#B0BEC5\", \"#B0BEC5\", \"#B0BEC5\", \"#B0BEC5\", \"#B0BEC5\", \"#B0BEC5\", \"#B0BEC5\", \"#B0BEC5\", \"#B0BEC5\", \"#B0BEC5\", \"#B0BEC5\", \"#B0BEC5\", \"#B0BEC5\", \"#B0BEC5\", \"#B0BEC5\", \"#B0BEC5\", \"#B0BEC5\", \"#B0BEC5\", \"#B0BEC5\", \"#B0BEC5\", \"#B0BEC5\", \"#B0BEC5\", \"#B0BEC5\", \"#B0BEC5\", \"#B0BEC5\", \"#B0BEC5\", \"#B0BEC5\", \"#B0BEC5\", \"#B0BEC5\", \"#B0BEC5\", \"red\", \"#B0BEC5\", \"#B0BEC5\", \"#B0BEC5\", \"#B0BEC5\", \"#B0BEC5\", \"#B0BEC5\", \"#B0BEC5\", \"#B0BEC5\", \"#B0BEC5\", \"#B0BEC5\", \"#B0BEC5\", \"#B0BEC5\", \"#B0BEC5\", \"#B0BEC5\", \"#B0BEC5\", \"#B0BEC5\", \"#B0BEC5\", \"#B0BEC5\", \"#B0BEC5\", \"#B0BEC5\", \"#B0BEC5\", \"#B0BEC5\", \"#B0BEC5\", \"#B0BEC5\", \"#B0BEC5\", \"#B0BEC5\", \"#B0BEC5\", \"#B0BEC5\", \"#B0BEC5\", \"#B0BEC5\", \"#B0BEC5\", \"#B0BEC5\"]]}], \"label\": \"Topic 67\", \"method\": \"update\"}, {\"args\": [{\"marker.color\": [[\"#B0BEC5\", \"#B0BEC5\", \"#B0BEC5\", \"#B0BEC5\", \"#B0BEC5\", \"#B0BEC5\", \"#B0BEC5\", \"#B0BEC5\", \"#B0BEC5\", \"#B0BEC5\", \"#B0BEC5\", \"#B0BEC5\", \"#B0BEC5\", \"#B0BEC5\", \"#B0BEC5\", \"#B0BEC5\", \"#B0BEC5\", \"#B0BEC5\", \"#B0BEC5\", \"#B0BEC5\", \"#B0BEC5\", \"#B0BEC5\", \"#B0BEC5\", \"#B0BEC5\", \"#B0BEC5\", \"#B0BEC5\", \"#B0BEC5\", \"#B0BEC5\", \"#B0BEC5\", \"#B0BEC5\", \"#B0BEC5\", \"#B0BEC5\", \"#B0BEC5\", \"#B0BEC5\", \"#B0BEC5\", \"#B0BEC5\", \"#B0BEC5\", \"#B0BEC5\", \"#B0BEC5\", \"#B0BEC5\", \"#B0BEC5\", \"#B0BEC5\", \"#B0BEC5\", \"#B0BEC5\", \"#B0BEC5\", \"#B0BEC5\", \"#B0BEC5\", \"#B0BEC5\", \"#B0BEC5\", \"#B0BEC5\", \"#B0BEC5\", \"#B0BEC5\", \"#B0BEC5\", \"#B0BEC5\", \"#B0BEC5\", \"#B0BEC5\", \"#B0BEC5\", \"#B0BEC5\", \"#B0BEC5\", \"#B0BEC5\", \"#B0BEC5\", \"#B0BEC5\", \"#B0BEC5\", \"#B0BEC5\", \"#B0BEC5\", \"#B0BEC5\", \"#B0BEC5\", \"#B0BEC5\", \"red\", \"#B0BEC5\", \"#B0BEC5\", \"#B0BEC5\", \"#B0BEC5\", \"#B0BEC5\", \"#B0BEC5\", \"#B0BEC5\", \"#B0BEC5\", \"#B0BEC5\", \"#B0BEC5\", \"#B0BEC5\", \"#B0BEC5\", \"#B0BEC5\", \"#B0BEC5\", \"#B0BEC5\", \"#B0BEC5\", \"#B0BEC5\", \"#B0BEC5\", \"#B0BEC5\", \"#B0BEC5\", \"#B0BEC5\", \"#B0BEC5\", \"#B0BEC5\", \"#B0BEC5\", \"#B0BEC5\", \"#B0BEC5\", \"#B0BEC5\", \"#B0BEC5\", \"#B0BEC5\", \"#B0BEC5\", \"#B0BEC5\"]]}], \"label\": \"Topic 68\", \"method\": \"update\"}, {\"args\": [{\"marker.color\": [[\"#B0BEC5\", \"#B0BEC5\", \"#B0BEC5\", \"#B0BEC5\", \"#B0BEC5\", \"#B0BEC5\", \"#B0BEC5\", \"#B0BEC5\", \"#B0BEC5\", \"#B0BEC5\", \"#B0BEC5\", \"#B0BEC5\", \"#B0BEC5\", \"#B0BEC5\", \"#B0BEC5\", \"#B0BEC5\", \"#B0BEC5\", \"#B0BEC5\", \"#B0BEC5\", \"#B0BEC5\", \"#B0BEC5\", \"#B0BEC5\", \"#B0BEC5\", \"#B0BEC5\", \"#B0BEC5\", \"#B0BEC5\", \"#B0BEC5\", \"#B0BEC5\", \"#B0BEC5\", \"#B0BEC5\", \"#B0BEC5\", \"#B0BEC5\", \"#B0BEC5\", \"#B0BEC5\", \"#B0BEC5\", \"#B0BEC5\", \"#B0BEC5\", \"#B0BEC5\", \"#B0BEC5\", \"#B0BEC5\", \"#B0BEC5\", \"#B0BEC5\", \"#B0BEC5\", \"#B0BEC5\", \"#B0BEC5\", \"#B0BEC5\", \"#B0BEC5\", \"#B0BEC5\", \"#B0BEC5\", \"#B0BEC5\", \"#B0BEC5\", \"#B0BEC5\", \"#B0BEC5\", \"#B0BEC5\", \"#B0BEC5\", \"#B0BEC5\", \"#B0BEC5\", \"#B0BEC5\", \"#B0BEC5\", \"#B0BEC5\", \"#B0BEC5\", \"#B0BEC5\", \"#B0BEC5\", \"#B0BEC5\", \"#B0BEC5\", \"#B0BEC5\", \"#B0BEC5\", \"#B0BEC5\", \"#B0BEC5\", \"red\", \"#B0BEC5\", \"#B0BEC5\", \"#B0BEC5\", \"#B0BEC5\", \"#B0BEC5\", \"#B0BEC5\", \"#B0BEC5\", \"#B0BEC5\", \"#B0BEC5\", \"#B0BEC5\", \"#B0BEC5\", \"#B0BEC5\", \"#B0BEC5\", \"#B0BEC5\", \"#B0BEC5\", \"#B0BEC5\", \"#B0BEC5\", \"#B0BEC5\", \"#B0BEC5\", \"#B0BEC5\", \"#B0BEC5\", \"#B0BEC5\", \"#B0BEC5\", \"#B0BEC5\", \"#B0BEC5\", \"#B0BEC5\", \"#B0BEC5\", \"#B0BEC5\", \"#B0BEC5\", \"#B0BEC5\"]]}], \"label\": \"Topic 69\", \"method\": \"update\"}, {\"args\": [{\"marker.color\": [[\"#B0BEC5\", \"#B0BEC5\", \"#B0BEC5\", \"#B0BEC5\", \"#B0BEC5\", \"#B0BEC5\", \"#B0BEC5\", \"#B0BEC5\", \"#B0BEC5\", \"#B0BEC5\", \"#B0BEC5\", \"#B0BEC5\", \"#B0BEC5\", \"#B0BEC5\", \"#B0BEC5\", \"#B0BEC5\", \"#B0BEC5\", \"#B0BEC5\", \"#B0BEC5\", \"#B0BEC5\", \"#B0BEC5\", \"#B0BEC5\", \"#B0BEC5\", \"#B0BEC5\", \"#B0BEC5\", \"#B0BEC5\", \"#B0BEC5\", \"#B0BEC5\", \"#B0BEC5\", \"#B0BEC5\", \"#B0BEC5\", \"#B0BEC5\", \"#B0BEC5\", \"#B0BEC5\", \"#B0BEC5\", \"#B0BEC5\", \"#B0BEC5\", \"#B0BEC5\", \"#B0BEC5\", \"#B0BEC5\", \"#B0BEC5\", \"#B0BEC5\", \"#B0BEC5\", \"#B0BEC5\", \"#B0BEC5\", \"#B0BEC5\", \"#B0BEC5\", \"#B0BEC5\", \"#B0BEC5\", \"#B0BEC5\", \"#B0BEC5\", \"#B0BEC5\", \"#B0BEC5\", \"#B0BEC5\", \"#B0BEC5\", \"#B0BEC5\", \"#B0BEC5\", \"#B0BEC5\", \"#B0BEC5\", \"#B0BEC5\", \"#B0BEC5\", \"#B0BEC5\", \"#B0BEC5\", \"#B0BEC5\", \"#B0BEC5\", \"#B0BEC5\", \"#B0BEC5\", \"#B0BEC5\", \"#B0BEC5\", \"#B0BEC5\", \"red\", \"#B0BEC5\", \"#B0BEC5\", \"#B0BEC5\", \"#B0BEC5\", \"#B0BEC5\", \"#B0BEC5\", \"#B0BEC5\", \"#B0BEC5\", \"#B0BEC5\", \"#B0BEC5\", \"#B0BEC5\", \"#B0BEC5\", \"#B0BEC5\", \"#B0BEC5\", \"#B0BEC5\", \"#B0BEC5\", \"#B0BEC5\", \"#B0BEC5\", \"#B0BEC5\", \"#B0BEC5\", \"#B0BEC5\", \"#B0BEC5\", \"#B0BEC5\", \"#B0BEC5\", \"#B0BEC5\", \"#B0BEC5\", \"#B0BEC5\", \"#B0BEC5\", \"#B0BEC5\"]]}], \"label\": \"Topic 70\", \"method\": \"update\"}, {\"args\": [{\"marker.color\": [[\"#B0BEC5\", \"#B0BEC5\", \"#B0BEC5\", \"#B0BEC5\", \"#B0BEC5\", \"#B0BEC5\", \"#B0BEC5\", \"#B0BEC5\", \"#B0BEC5\", \"#B0BEC5\", \"#B0BEC5\", \"#B0BEC5\", \"#B0BEC5\", \"#B0BEC5\", \"#B0BEC5\", \"#B0BEC5\", \"#B0BEC5\", \"#B0BEC5\", \"#B0BEC5\", \"#B0BEC5\", \"#B0BEC5\", \"#B0BEC5\", \"#B0BEC5\", \"#B0BEC5\", \"#B0BEC5\", \"#B0BEC5\", \"#B0BEC5\", \"#B0BEC5\", \"#B0BEC5\", \"#B0BEC5\", \"#B0BEC5\", \"#B0BEC5\", \"#B0BEC5\", \"#B0BEC5\", \"#B0BEC5\", \"#B0BEC5\", \"#B0BEC5\", \"#B0BEC5\", \"#B0BEC5\", \"#B0BEC5\", \"#B0BEC5\", \"#B0BEC5\", \"#B0BEC5\", \"#B0BEC5\", \"#B0BEC5\", \"#B0BEC5\", \"#B0BEC5\", \"#B0BEC5\", \"#B0BEC5\", \"#B0BEC5\", \"#B0BEC5\", \"#B0BEC5\", \"#B0BEC5\", \"#B0BEC5\", \"#B0BEC5\", \"#B0BEC5\", \"#B0BEC5\", \"#B0BEC5\", \"#B0BEC5\", \"#B0BEC5\", \"#B0BEC5\", \"#B0BEC5\", \"#B0BEC5\", \"#B0BEC5\", \"#B0BEC5\", \"#B0BEC5\", \"#B0BEC5\", \"#B0BEC5\", \"#B0BEC5\", \"#B0BEC5\", \"#B0BEC5\", \"red\", \"#B0BEC5\", \"#B0BEC5\", \"#B0BEC5\", \"#B0BEC5\", \"#B0BEC5\", \"#B0BEC5\", \"#B0BEC5\", \"#B0BEC5\", \"#B0BEC5\", \"#B0BEC5\", \"#B0BEC5\", \"#B0BEC5\", \"#B0BEC5\", \"#B0BEC5\", \"#B0BEC5\", \"#B0BEC5\", \"#B0BEC5\", \"#B0BEC5\", \"#B0BEC5\", \"#B0BEC5\", \"#B0BEC5\", \"#B0BEC5\", \"#B0BEC5\", \"#B0BEC5\", \"#B0BEC5\", \"#B0BEC5\", \"#B0BEC5\", \"#B0BEC5\"]]}], \"label\": \"Topic 71\", \"method\": \"update\"}, {\"args\": [{\"marker.color\": [[\"#B0BEC5\", \"#B0BEC5\", \"#B0BEC5\", \"#B0BEC5\", \"#B0BEC5\", \"#B0BEC5\", \"#B0BEC5\", \"#B0BEC5\", \"#B0BEC5\", \"#B0BEC5\", \"#B0BEC5\", \"#B0BEC5\", \"#B0BEC5\", \"#B0BEC5\", \"#B0BEC5\", \"#B0BEC5\", \"#B0BEC5\", \"#B0BEC5\", \"#B0BEC5\", \"#B0BEC5\", \"#B0BEC5\", \"#B0BEC5\", \"#B0BEC5\", \"#B0BEC5\", \"#B0BEC5\", \"#B0BEC5\", \"#B0BEC5\", \"#B0BEC5\", \"#B0BEC5\", \"#B0BEC5\", \"#B0BEC5\", \"#B0BEC5\", \"#B0BEC5\", \"#B0BEC5\", \"#B0BEC5\", \"#B0BEC5\", \"#B0BEC5\", \"#B0BEC5\", \"#B0BEC5\", \"#B0BEC5\", \"#B0BEC5\", \"#B0BEC5\", \"#B0BEC5\", \"#B0BEC5\", \"#B0BEC5\", \"#B0BEC5\", \"#B0BEC5\", \"#B0BEC5\", \"#B0BEC5\", \"#B0BEC5\", \"#B0BEC5\", \"#B0BEC5\", \"#B0BEC5\", \"#B0BEC5\", \"#B0BEC5\", \"#B0BEC5\", \"#B0BEC5\", \"#B0BEC5\", \"#B0BEC5\", \"#B0BEC5\", \"#B0BEC5\", \"#B0BEC5\", \"#B0BEC5\", \"#B0BEC5\", \"#B0BEC5\", \"#B0BEC5\", \"#B0BEC5\", \"#B0BEC5\", \"#B0BEC5\", \"#B0BEC5\", \"#B0BEC5\", \"#B0BEC5\", \"red\", \"#B0BEC5\", \"#B0BEC5\", \"#B0BEC5\", \"#B0BEC5\", \"#B0BEC5\", \"#B0BEC5\", \"#B0BEC5\", \"#B0BEC5\", \"#B0BEC5\", \"#B0BEC5\", \"#B0BEC5\", \"#B0BEC5\", \"#B0BEC5\", \"#B0BEC5\", \"#B0BEC5\", \"#B0BEC5\", \"#B0BEC5\", \"#B0BEC5\", \"#B0BEC5\", \"#B0BEC5\", \"#B0BEC5\", \"#B0BEC5\", \"#B0BEC5\", \"#B0BEC5\", \"#B0BEC5\", \"#B0BEC5\", \"#B0BEC5\"]]}], \"label\": \"Topic 72\", \"method\": \"update\"}, {\"args\": [{\"marker.color\": [[\"#B0BEC5\", \"#B0BEC5\", \"#B0BEC5\", \"#B0BEC5\", \"#B0BEC5\", \"#B0BEC5\", \"#B0BEC5\", \"#B0BEC5\", \"#B0BEC5\", \"#B0BEC5\", \"#B0BEC5\", \"#B0BEC5\", \"#B0BEC5\", \"#B0BEC5\", \"#B0BEC5\", \"#B0BEC5\", \"#B0BEC5\", \"#B0BEC5\", \"#B0BEC5\", \"#B0BEC5\", \"#B0BEC5\", \"#B0BEC5\", \"#B0BEC5\", \"#B0BEC5\", \"#B0BEC5\", \"#B0BEC5\", \"#B0BEC5\", \"#B0BEC5\", \"#B0BEC5\", \"#B0BEC5\", \"#B0BEC5\", \"#B0BEC5\", \"#B0BEC5\", \"#B0BEC5\", \"#B0BEC5\", \"#B0BEC5\", \"#B0BEC5\", \"#B0BEC5\", \"#B0BEC5\", \"#B0BEC5\", \"#B0BEC5\", \"#B0BEC5\", \"#B0BEC5\", \"#B0BEC5\", \"#B0BEC5\", \"#B0BEC5\", \"#B0BEC5\", \"#B0BEC5\", \"#B0BEC5\", \"#B0BEC5\", \"#B0BEC5\", \"#B0BEC5\", \"#B0BEC5\", \"#B0BEC5\", \"#B0BEC5\", \"#B0BEC5\", \"#B0BEC5\", \"#B0BEC5\", \"#B0BEC5\", \"#B0BEC5\", \"#B0BEC5\", \"#B0BEC5\", \"#B0BEC5\", \"#B0BEC5\", \"#B0BEC5\", \"#B0BEC5\", \"#B0BEC5\", \"#B0BEC5\", \"#B0BEC5\", \"#B0BEC5\", \"#B0BEC5\", \"#B0BEC5\", \"#B0BEC5\", \"red\", \"#B0BEC5\", \"#B0BEC5\", \"#B0BEC5\", \"#B0BEC5\", \"#B0BEC5\", \"#B0BEC5\", \"#B0BEC5\", \"#B0BEC5\", \"#B0BEC5\", \"#B0BEC5\", \"#B0BEC5\", \"#B0BEC5\", \"#B0BEC5\", \"#B0BEC5\", \"#B0BEC5\", \"#B0BEC5\", \"#B0BEC5\", \"#B0BEC5\", \"#B0BEC5\", \"#B0BEC5\", \"#B0BEC5\", \"#B0BEC5\", \"#B0BEC5\", \"#B0BEC5\", \"#B0BEC5\", \"#B0BEC5\"]]}], \"label\": \"Topic 73\", \"method\": \"update\"}, {\"args\": [{\"marker.color\": [[\"#B0BEC5\", \"#B0BEC5\", \"#B0BEC5\", \"#B0BEC5\", \"#B0BEC5\", \"#B0BEC5\", \"#B0BEC5\", \"#B0BEC5\", \"#B0BEC5\", \"#B0BEC5\", \"#B0BEC5\", \"#B0BEC5\", \"#B0BEC5\", \"#B0BEC5\", \"#B0BEC5\", \"#B0BEC5\", \"#B0BEC5\", \"#B0BEC5\", \"#B0BEC5\", \"#B0BEC5\", \"#B0BEC5\", \"#B0BEC5\", \"#B0BEC5\", \"#B0BEC5\", \"#B0BEC5\", \"#B0BEC5\", \"#B0BEC5\", \"#B0BEC5\", \"#B0BEC5\", \"#B0BEC5\", \"#B0BEC5\", \"#B0BEC5\", \"#B0BEC5\", \"#B0BEC5\", \"#B0BEC5\", \"#B0BEC5\", \"#B0BEC5\", \"#B0BEC5\", \"#B0BEC5\", \"#B0BEC5\", \"#B0BEC5\", \"#B0BEC5\", \"#B0BEC5\", \"#B0BEC5\", \"#B0BEC5\", \"#B0BEC5\", \"#B0BEC5\", \"#B0BEC5\", \"#B0BEC5\", \"#B0BEC5\", \"#B0BEC5\", \"#B0BEC5\", \"#B0BEC5\", \"#B0BEC5\", \"#B0BEC5\", \"#B0BEC5\", \"#B0BEC5\", \"#B0BEC5\", \"#B0BEC5\", \"#B0BEC5\", \"#B0BEC5\", \"#B0BEC5\", \"#B0BEC5\", \"#B0BEC5\", \"#B0BEC5\", \"#B0BEC5\", \"#B0BEC5\", \"#B0BEC5\", \"#B0BEC5\", \"#B0BEC5\", \"#B0BEC5\", \"#B0BEC5\", \"#B0BEC5\", \"#B0BEC5\", \"red\", \"#B0BEC5\", \"#B0BEC5\", \"#B0BEC5\", \"#B0BEC5\", \"#B0BEC5\", \"#B0BEC5\", \"#B0BEC5\", \"#B0BEC5\", \"#B0BEC5\", \"#B0BEC5\", \"#B0BEC5\", \"#B0BEC5\", \"#B0BEC5\", \"#B0BEC5\", \"#B0BEC5\", \"#B0BEC5\", \"#B0BEC5\", \"#B0BEC5\", \"#B0BEC5\", \"#B0BEC5\", \"#B0BEC5\", \"#B0BEC5\", \"#B0BEC5\", \"#B0BEC5\", \"#B0BEC5\"]]}], \"label\": \"Topic 74\", \"method\": \"update\"}, {\"args\": [{\"marker.color\": [[\"#B0BEC5\", \"#B0BEC5\", \"#B0BEC5\", \"#B0BEC5\", \"#B0BEC5\", \"#B0BEC5\", \"#B0BEC5\", \"#B0BEC5\", \"#B0BEC5\", \"#B0BEC5\", \"#B0BEC5\", \"#B0BEC5\", \"#B0BEC5\", \"#B0BEC5\", \"#B0BEC5\", \"#B0BEC5\", \"#B0BEC5\", \"#B0BEC5\", \"#B0BEC5\", \"#B0BEC5\", \"#B0BEC5\", \"#B0BEC5\", \"#B0BEC5\", \"#B0BEC5\", \"#B0BEC5\", \"#B0BEC5\", \"#B0BEC5\", \"#B0BEC5\", \"#B0BEC5\", \"#B0BEC5\", \"#B0BEC5\", \"#B0BEC5\", \"#B0BEC5\", \"#B0BEC5\", \"#B0BEC5\", \"#B0BEC5\", \"#B0BEC5\", \"#B0BEC5\", \"#B0BEC5\", \"#B0BEC5\", \"#B0BEC5\", \"#B0BEC5\", \"#B0BEC5\", \"#B0BEC5\", \"#B0BEC5\", \"#B0BEC5\", \"#B0BEC5\", \"#B0BEC5\", \"#B0BEC5\", \"#B0BEC5\", \"#B0BEC5\", \"#B0BEC5\", \"#B0BEC5\", \"#B0BEC5\", \"#B0BEC5\", \"#B0BEC5\", \"#B0BEC5\", \"#B0BEC5\", \"#B0BEC5\", \"#B0BEC5\", \"#B0BEC5\", \"#B0BEC5\", \"#B0BEC5\", \"#B0BEC5\", \"#B0BEC5\", \"#B0BEC5\", \"#B0BEC5\", \"#B0BEC5\", \"#B0BEC5\", \"#B0BEC5\", \"#B0BEC5\", \"#B0BEC5\", \"#B0BEC5\", \"#B0BEC5\", \"#B0BEC5\", \"red\", \"#B0BEC5\", \"#B0BEC5\", \"#B0BEC5\", \"#B0BEC5\", \"#B0BEC5\", \"#B0BEC5\", \"#B0BEC5\", \"#B0BEC5\", \"#B0BEC5\", \"#B0BEC5\", \"#B0BEC5\", \"#B0BEC5\", \"#B0BEC5\", \"#B0BEC5\", \"#B0BEC5\", \"#B0BEC5\", \"#B0BEC5\", \"#B0BEC5\", \"#B0BEC5\", \"#B0BEC5\", \"#B0BEC5\", \"#B0BEC5\", \"#B0BEC5\", \"#B0BEC5\"]]}], \"label\": \"Topic 75\", \"method\": \"update\"}, {\"args\": [{\"marker.color\": [[\"#B0BEC5\", \"#B0BEC5\", \"#B0BEC5\", \"#B0BEC5\", \"#B0BEC5\", \"#B0BEC5\", \"#B0BEC5\", \"#B0BEC5\", \"#B0BEC5\", \"#B0BEC5\", \"#B0BEC5\", \"#B0BEC5\", \"#B0BEC5\", \"#B0BEC5\", \"#B0BEC5\", \"#B0BEC5\", \"#B0BEC5\", \"#B0BEC5\", \"#B0BEC5\", \"#B0BEC5\", \"#B0BEC5\", \"#B0BEC5\", \"#B0BEC5\", \"#B0BEC5\", \"#B0BEC5\", \"#B0BEC5\", \"#B0BEC5\", \"#B0BEC5\", \"#B0BEC5\", \"#B0BEC5\", \"#B0BEC5\", \"#B0BEC5\", \"#B0BEC5\", \"#B0BEC5\", \"#B0BEC5\", \"#B0BEC5\", \"#B0BEC5\", \"#B0BEC5\", \"#B0BEC5\", \"#B0BEC5\", \"#B0BEC5\", \"#B0BEC5\", \"#B0BEC5\", \"#B0BEC5\", \"#B0BEC5\", \"#B0BEC5\", \"#B0BEC5\", \"#B0BEC5\", \"#B0BEC5\", \"#B0BEC5\", \"#B0BEC5\", \"#B0BEC5\", \"#B0BEC5\", \"#B0BEC5\", \"#B0BEC5\", \"#B0BEC5\", \"#B0BEC5\", \"#B0BEC5\", \"#B0BEC5\", \"#B0BEC5\", \"#B0BEC5\", \"#B0BEC5\", \"#B0BEC5\", \"#B0BEC5\", \"#B0BEC5\", \"#B0BEC5\", \"#B0BEC5\", \"#B0BEC5\", \"#B0BEC5\", \"#B0BEC5\", \"#B0BEC5\", \"#B0BEC5\", \"#B0BEC5\", \"#B0BEC5\", \"#B0BEC5\", \"#B0BEC5\", \"red\", \"#B0BEC5\", \"#B0BEC5\", \"#B0BEC5\", \"#B0BEC5\", \"#B0BEC5\", \"#B0BEC5\", \"#B0BEC5\", \"#B0BEC5\", \"#B0BEC5\", \"#B0BEC5\", \"#B0BEC5\", \"#B0BEC5\", \"#B0BEC5\", \"#B0BEC5\", \"#B0BEC5\", \"#B0BEC5\", \"#B0BEC5\", \"#B0BEC5\", \"#B0BEC5\", \"#B0BEC5\", \"#B0BEC5\", \"#B0BEC5\", \"#B0BEC5\"]]}], \"label\": \"Topic 76\", \"method\": \"update\"}, {\"args\": [{\"marker.color\": [[\"#B0BEC5\", \"#B0BEC5\", \"#B0BEC5\", \"#B0BEC5\", \"#B0BEC5\", \"#B0BEC5\", \"#B0BEC5\", \"#B0BEC5\", \"#B0BEC5\", \"#B0BEC5\", \"#B0BEC5\", \"#B0BEC5\", \"#B0BEC5\", \"#B0BEC5\", \"#B0BEC5\", \"#B0BEC5\", \"#B0BEC5\", \"#B0BEC5\", \"#B0BEC5\", \"#B0BEC5\", \"#B0BEC5\", \"#B0BEC5\", \"#B0BEC5\", \"#B0BEC5\", \"#B0BEC5\", \"#B0BEC5\", \"#B0BEC5\", \"#B0BEC5\", \"#B0BEC5\", \"#B0BEC5\", \"#B0BEC5\", \"#B0BEC5\", \"#B0BEC5\", \"#B0BEC5\", \"#B0BEC5\", \"#B0BEC5\", \"#B0BEC5\", \"#B0BEC5\", \"#B0BEC5\", \"#B0BEC5\", \"#B0BEC5\", \"#B0BEC5\", \"#B0BEC5\", \"#B0BEC5\", \"#B0BEC5\", \"#B0BEC5\", \"#B0BEC5\", \"#B0BEC5\", \"#B0BEC5\", \"#B0BEC5\", \"#B0BEC5\", \"#B0BEC5\", \"#B0BEC5\", \"#B0BEC5\", \"#B0BEC5\", \"#B0BEC5\", \"#B0BEC5\", \"#B0BEC5\", \"#B0BEC5\", \"#B0BEC5\", \"#B0BEC5\", \"#B0BEC5\", \"#B0BEC5\", \"#B0BEC5\", \"#B0BEC5\", \"#B0BEC5\", \"#B0BEC5\", \"#B0BEC5\", \"#B0BEC5\", \"#B0BEC5\", \"#B0BEC5\", \"#B0BEC5\", \"#B0BEC5\", \"#B0BEC5\", \"#B0BEC5\", \"#B0BEC5\", \"#B0BEC5\", \"red\", \"#B0BEC5\", \"#B0BEC5\", \"#B0BEC5\", \"#B0BEC5\", \"#B0BEC5\", \"#B0BEC5\", \"#B0BEC5\", \"#B0BEC5\", \"#B0BEC5\", \"#B0BEC5\", \"#B0BEC5\", \"#B0BEC5\", \"#B0BEC5\", \"#B0BEC5\", \"#B0BEC5\", \"#B0BEC5\", \"#B0BEC5\", \"#B0BEC5\", \"#B0BEC5\", \"#B0BEC5\", \"#B0BEC5\", \"#B0BEC5\"]]}], \"label\": \"Topic 77\", \"method\": \"update\"}, {\"args\": [{\"marker.color\": [[\"#B0BEC5\", \"#B0BEC5\", \"#B0BEC5\", \"#B0BEC5\", \"#B0BEC5\", \"#B0BEC5\", \"#B0BEC5\", \"#B0BEC5\", \"#B0BEC5\", \"#B0BEC5\", \"#B0BEC5\", \"#B0BEC5\", \"#B0BEC5\", \"#B0BEC5\", \"#B0BEC5\", \"#B0BEC5\", \"#B0BEC5\", \"#B0BEC5\", \"#B0BEC5\", \"#B0BEC5\", \"#B0BEC5\", \"#B0BEC5\", \"#B0BEC5\", \"#B0BEC5\", \"#B0BEC5\", \"#B0BEC5\", \"#B0BEC5\", \"#B0BEC5\", \"#B0BEC5\", \"#B0BEC5\", \"#B0BEC5\", \"#B0BEC5\", \"#B0BEC5\", \"#B0BEC5\", \"#B0BEC5\", \"#B0BEC5\", \"#B0BEC5\", \"#B0BEC5\", \"#B0BEC5\", \"#B0BEC5\", \"#B0BEC5\", \"#B0BEC5\", \"#B0BEC5\", \"#B0BEC5\", \"#B0BEC5\", \"#B0BEC5\", \"#B0BEC5\", \"#B0BEC5\", \"#B0BEC5\", \"#B0BEC5\", \"#B0BEC5\", \"#B0BEC5\", \"#B0BEC5\", \"#B0BEC5\", \"#B0BEC5\", \"#B0BEC5\", \"#B0BEC5\", \"#B0BEC5\", \"#B0BEC5\", \"#B0BEC5\", \"#B0BEC5\", \"#B0BEC5\", \"#B0BEC5\", \"#B0BEC5\", \"#B0BEC5\", \"#B0BEC5\", \"#B0BEC5\", \"#B0BEC5\", \"#B0BEC5\", \"#B0BEC5\", \"#B0BEC5\", \"#B0BEC5\", \"#B0BEC5\", \"#B0BEC5\", \"#B0BEC5\", \"#B0BEC5\", \"#B0BEC5\", \"#B0BEC5\", \"red\", \"#B0BEC5\", \"#B0BEC5\", \"#B0BEC5\", \"#B0BEC5\", \"#B0BEC5\", \"#B0BEC5\", \"#B0BEC5\", \"#B0BEC5\", \"#B0BEC5\", \"#B0BEC5\", \"#B0BEC5\", \"#B0BEC5\", \"#B0BEC5\", \"#B0BEC5\", \"#B0BEC5\", \"#B0BEC5\", \"#B0BEC5\", \"#B0BEC5\", \"#B0BEC5\", \"#B0BEC5\", \"#B0BEC5\"]]}], \"label\": \"Topic 78\", \"method\": \"update\"}, {\"args\": [{\"marker.color\": [[\"#B0BEC5\", \"#B0BEC5\", \"#B0BEC5\", \"#B0BEC5\", \"#B0BEC5\", \"#B0BEC5\", \"#B0BEC5\", \"#B0BEC5\", \"#B0BEC5\", \"#B0BEC5\", \"#B0BEC5\", \"#B0BEC5\", \"#B0BEC5\", \"#B0BEC5\", \"#B0BEC5\", \"#B0BEC5\", \"#B0BEC5\", \"#B0BEC5\", \"#B0BEC5\", \"#B0BEC5\", \"#B0BEC5\", \"#B0BEC5\", \"#B0BEC5\", \"#B0BEC5\", \"#B0BEC5\", \"#B0BEC5\", \"#B0BEC5\", \"#B0BEC5\", \"#B0BEC5\", \"#B0BEC5\", \"#B0BEC5\", \"#B0BEC5\", \"#B0BEC5\", \"#B0BEC5\", \"#B0BEC5\", \"#B0BEC5\", \"#B0BEC5\", \"#B0BEC5\", \"#B0BEC5\", \"#B0BEC5\", \"#B0BEC5\", \"#B0BEC5\", \"#B0BEC5\", \"#B0BEC5\", \"#B0BEC5\", \"#B0BEC5\", \"#B0BEC5\", \"#B0BEC5\", \"#B0BEC5\", \"#B0BEC5\", \"#B0BEC5\", \"#B0BEC5\", \"#B0BEC5\", \"#B0BEC5\", \"#B0BEC5\", \"#B0BEC5\", \"#B0BEC5\", \"#B0BEC5\", \"#B0BEC5\", \"#B0BEC5\", \"#B0BEC5\", \"#B0BEC5\", \"#B0BEC5\", \"#B0BEC5\", \"#B0BEC5\", \"#B0BEC5\", \"#B0BEC5\", \"#B0BEC5\", \"#B0BEC5\", \"#B0BEC5\", \"#B0BEC5\", \"#B0BEC5\", \"#B0BEC5\", \"#B0BEC5\", \"#B0BEC5\", \"#B0BEC5\", \"#B0BEC5\", \"#B0BEC5\", \"#B0BEC5\", \"red\", \"#B0BEC5\", \"#B0BEC5\", \"#B0BEC5\", \"#B0BEC5\", \"#B0BEC5\", \"#B0BEC5\", \"#B0BEC5\", \"#B0BEC5\", \"#B0BEC5\", \"#B0BEC5\", \"#B0BEC5\", \"#B0BEC5\", \"#B0BEC5\", \"#B0BEC5\", \"#B0BEC5\", \"#B0BEC5\", \"#B0BEC5\", \"#B0BEC5\", \"#B0BEC5\", \"#B0BEC5\"]]}], \"label\": \"Topic 79\", \"method\": \"update\"}, {\"args\": [{\"marker.color\": [[\"#B0BEC5\", \"#B0BEC5\", \"#B0BEC5\", \"#B0BEC5\", \"#B0BEC5\", \"#B0BEC5\", \"#B0BEC5\", \"#B0BEC5\", \"#B0BEC5\", \"#B0BEC5\", \"#B0BEC5\", \"#B0BEC5\", \"#B0BEC5\", \"#B0BEC5\", \"#B0BEC5\", \"#B0BEC5\", \"#B0BEC5\", \"#B0BEC5\", \"#B0BEC5\", \"#B0BEC5\", \"#B0BEC5\", \"#B0BEC5\", \"#B0BEC5\", \"#B0BEC5\", \"#B0BEC5\", \"#B0BEC5\", \"#B0BEC5\", \"#B0BEC5\", \"#B0BEC5\", \"#B0BEC5\", \"#B0BEC5\", \"#B0BEC5\", \"#B0BEC5\", \"#B0BEC5\", \"#B0BEC5\", \"#B0BEC5\", \"#B0BEC5\", \"#B0BEC5\", \"#B0BEC5\", \"#B0BEC5\", \"#B0BEC5\", \"#B0BEC5\", \"#B0BEC5\", \"#B0BEC5\", \"#B0BEC5\", \"#B0BEC5\", \"#B0BEC5\", \"#B0BEC5\", \"#B0BEC5\", \"#B0BEC5\", \"#B0BEC5\", \"#B0BEC5\", \"#B0BEC5\", \"#B0BEC5\", \"#B0BEC5\", \"#B0BEC5\", \"#B0BEC5\", \"#B0BEC5\", \"#B0BEC5\", \"#B0BEC5\", \"#B0BEC5\", \"#B0BEC5\", \"#B0BEC5\", \"#B0BEC5\", \"#B0BEC5\", \"#B0BEC5\", \"#B0BEC5\", \"#B0BEC5\", \"#B0BEC5\", \"#B0BEC5\", \"#B0BEC5\", \"#B0BEC5\", \"#B0BEC5\", \"#B0BEC5\", \"#B0BEC5\", \"#B0BEC5\", \"#B0BEC5\", \"#B0BEC5\", \"#B0BEC5\", \"#B0BEC5\", \"red\", \"#B0BEC5\", \"#B0BEC5\", \"#B0BEC5\", \"#B0BEC5\", \"#B0BEC5\", \"#B0BEC5\", \"#B0BEC5\", \"#B0BEC5\", \"#B0BEC5\", \"#B0BEC5\", \"#B0BEC5\", \"#B0BEC5\", \"#B0BEC5\", \"#B0BEC5\", \"#B0BEC5\", \"#B0BEC5\", \"#B0BEC5\", \"#B0BEC5\", \"#B0BEC5\"]]}], \"label\": \"Topic 80\", \"method\": \"update\"}, {\"args\": [{\"marker.color\": [[\"#B0BEC5\", \"#B0BEC5\", \"#B0BEC5\", \"#B0BEC5\", \"#B0BEC5\", \"#B0BEC5\", \"#B0BEC5\", \"#B0BEC5\", \"#B0BEC5\", \"#B0BEC5\", \"#B0BEC5\", \"#B0BEC5\", \"#B0BEC5\", \"#B0BEC5\", \"#B0BEC5\", \"#B0BEC5\", \"#B0BEC5\", \"#B0BEC5\", \"#B0BEC5\", \"#B0BEC5\", \"#B0BEC5\", \"#B0BEC5\", \"#B0BEC5\", \"#B0BEC5\", \"#B0BEC5\", \"#B0BEC5\", \"#B0BEC5\", \"#B0BEC5\", \"#B0BEC5\", \"#B0BEC5\", \"#B0BEC5\", \"#B0BEC5\", \"#B0BEC5\", \"#B0BEC5\", \"#B0BEC5\", \"#B0BEC5\", \"#B0BEC5\", \"#B0BEC5\", \"#B0BEC5\", \"#B0BEC5\", \"#B0BEC5\", \"#B0BEC5\", \"#B0BEC5\", \"#B0BEC5\", \"#B0BEC5\", \"#B0BEC5\", \"#B0BEC5\", \"#B0BEC5\", \"#B0BEC5\", \"#B0BEC5\", \"#B0BEC5\", \"#B0BEC5\", \"#B0BEC5\", \"#B0BEC5\", \"#B0BEC5\", \"#B0BEC5\", \"#B0BEC5\", \"#B0BEC5\", \"#B0BEC5\", \"#B0BEC5\", \"#B0BEC5\", \"#B0BEC5\", \"#B0BEC5\", \"#B0BEC5\", \"#B0BEC5\", \"#B0BEC5\", \"#B0BEC5\", \"#B0BEC5\", \"#B0BEC5\", \"#B0BEC5\", \"#B0BEC5\", \"#B0BEC5\", \"#B0BEC5\", \"#B0BEC5\", \"#B0BEC5\", \"#B0BEC5\", \"#B0BEC5\", \"#B0BEC5\", \"#B0BEC5\", \"#B0BEC5\", \"#B0BEC5\", \"red\", \"#B0BEC5\", \"#B0BEC5\", \"#B0BEC5\", \"#B0BEC5\", \"#B0BEC5\", \"#B0BEC5\", \"#B0BEC5\", \"#B0BEC5\", \"#B0BEC5\", \"#B0BEC5\", \"#B0BEC5\", \"#B0BEC5\", \"#B0BEC5\", \"#B0BEC5\", \"#B0BEC5\", \"#B0BEC5\", \"#B0BEC5\", \"#B0BEC5\"]]}], \"label\": \"Topic 81\", \"method\": \"update\"}, {\"args\": [{\"marker.color\": [[\"#B0BEC5\", \"#B0BEC5\", \"#B0BEC5\", \"#B0BEC5\", \"#B0BEC5\", \"#B0BEC5\", \"#B0BEC5\", \"#B0BEC5\", \"#B0BEC5\", \"#B0BEC5\", \"#B0BEC5\", \"#B0BEC5\", \"#B0BEC5\", \"#B0BEC5\", \"#B0BEC5\", \"#B0BEC5\", \"#B0BEC5\", \"#B0BEC5\", \"#B0BEC5\", \"#B0BEC5\", \"#B0BEC5\", \"#B0BEC5\", \"#B0BEC5\", \"#B0BEC5\", \"#B0BEC5\", \"#B0BEC5\", \"#B0BEC5\", \"#B0BEC5\", \"#B0BEC5\", \"#B0BEC5\", \"#B0BEC5\", \"#B0BEC5\", \"#B0BEC5\", \"#B0BEC5\", \"#B0BEC5\", \"#B0BEC5\", \"#B0BEC5\", \"#B0BEC5\", \"#B0BEC5\", \"#B0BEC5\", \"#B0BEC5\", \"#B0BEC5\", \"#B0BEC5\", \"#B0BEC5\", \"#B0BEC5\", \"#B0BEC5\", \"#B0BEC5\", \"#B0BEC5\", \"#B0BEC5\", \"#B0BEC5\", \"#B0BEC5\", \"#B0BEC5\", \"#B0BEC5\", \"#B0BEC5\", \"#B0BEC5\", \"#B0BEC5\", \"#B0BEC5\", \"#B0BEC5\", \"#B0BEC5\", \"#B0BEC5\", \"#B0BEC5\", \"#B0BEC5\", \"#B0BEC5\", \"#B0BEC5\", \"#B0BEC5\", \"#B0BEC5\", \"#B0BEC5\", \"#B0BEC5\", \"#B0BEC5\", \"#B0BEC5\", \"#B0BEC5\", \"#B0BEC5\", \"#B0BEC5\", \"#B0BEC5\", \"#B0BEC5\", \"#B0BEC5\", \"#B0BEC5\", \"#B0BEC5\", \"#B0BEC5\", \"#B0BEC5\", \"#B0BEC5\", \"#B0BEC5\", \"red\", \"#B0BEC5\", \"#B0BEC5\", \"#B0BEC5\", \"#B0BEC5\", \"#B0BEC5\", \"#B0BEC5\", \"#B0BEC5\", \"#B0BEC5\", \"#B0BEC5\", \"#B0BEC5\", \"#B0BEC5\", \"#B0BEC5\", \"#B0BEC5\", \"#B0BEC5\", \"#B0BEC5\", \"#B0BEC5\", \"#B0BEC5\"]]}], \"label\": \"Topic 82\", \"method\": \"update\"}, {\"args\": [{\"marker.color\": [[\"#B0BEC5\", \"#B0BEC5\", \"#B0BEC5\", \"#B0BEC5\", \"#B0BEC5\", \"#B0BEC5\", \"#B0BEC5\", \"#B0BEC5\", \"#B0BEC5\", \"#B0BEC5\", \"#B0BEC5\", \"#B0BEC5\", \"#B0BEC5\", \"#B0BEC5\", \"#B0BEC5\", \"#B0BEC5\", \"#B0BEC5\", \"#B0BEC5\", \"#B0BEC5\", \"#B0BEC5\", \"#B0BEC5\", \"#B0BEC5\", \"#B0BEC5\", \"#B0BEC5\", \"#B0BEC5\", \"#B0BEC5\", \"#B0BEC5\", \"#B0BEC5\", \"#B0BEC5\", \"#B0BEC5\", \"#B0BEC5\", \"#B0BEC5\", \"#B0BEC5\", \"#B0BEC5\", \"#B0BEC5\", \"#B0BEC5\", \"#B0BEC5\", \"#B0BEC5\", \"#B0BEC5\", \"#B0BEC5\", \"#B0BEC5\", \"#B0BEC5\", \"#B0BEC5\", \"#B0BEC5\", \"#B0BEC5\", \"#B0BEC5\", \"#B0BEC5\", \"#B0BEC5\", \"#B0BEC5\", \"#B0BEC5\", \"#B0BEC5\", \"#B0BEC5\", \"#B0BEC5\", \"#B0BEC5\", \"#B0BEC5\", \"#B0BEC5\", \"#B0BEC5\", \"#B0BEC5\", \"#B0BEC5\", \"#B0BEC5\", \"#B0BEC5\", \"#B0BEC5\", \"#B0BEC5\", \"#B0BEC5\", \"#B0BEC5\", \"#B0BEC5\", \"#B0BEC5\", \"#B0BEC5\", \"#B0BEC5\", \"#B0BEC5\", \"#B0BEC5\", \"#B0BEC5\", \"#B0BEC5\", \"#B0BEC5\", \"#B0BEC5\", \"#B0BEC5\", \"#B0BEC5\", \"#B0BEC5\", \"#B0BEC5\", \"#B0BEC5\", \"#B0BEC5\", \"#B0BEC5\", \"#B0BEC5\", \"red\", \"#B0BEC5\", \"#B0BEC5\", \"#B0BEC5\", \"#B0BEC5\", \"#B0BEC5\", \"#B0BEC5\", \"#B0BEC5\", \"#B0BEC5\", \"#B0BEC5\", \"#B0BEC5\", \"#B0BEC5\", \"#B0BEC5\", \"#B0BEC5\", \"#B0BEC5\", \"#B0BEC5\", \"#B0BEC5\"]]}], \"label\": \"Topic 83\", \"method\": \"update\"}, {\"args\": [{\"marker.color\": [[\"#B0BEC5\", \"#B0BEC5\", \"#B0BEC5\", \"#B0BEC5\", \"#B0BEC5\", \"#B0BEC5\", \"#B0BEC5\", \"#B0BEC5\", \"#B0BEC5\", \"#B0BEC5\", \"#B0BEC5\", \"#B0BEC5\", \"#B0BEC5\", \"#B0BEC5\", \"#B0BEC5\", \"#B0BEC5\", \"#B0BEC5\", \"#B0BEC5\", \"#B0BEC5\", \"#B0BEC5\", \"#B0BEC5\", \"#B0BEC5\", \"#B0BEC5\", \"#B0BEC5\", \"#B0BEC5\", \"#B0BEC5\", \"#B0BEC5\", \"#B0BEC5\", \"#B0BEC5\", \"#B0BEC5\", \"#B0BEC5\", \"#B0BEC5\", \"#B0BEC5\", \"#B0BEC5\", \"#B0BEC5\", \"#B0BEC5\", \"#B0BEC5\", \"#B0BEC5\", \"#B0BEC5\", \"#B0BEC5\", \"#B0BEC5\", \"#B0BEC5\", \"#B0BEC5\", \"#B0BEC5\", \"#B0BEC5\", \"#B0BEC5\", \"#B0BEC5\", \"#B0BEC5\", \"#B0BEC5\", \"#B0BEC5\", \"#B0BEC5\", \"#B0BEC5\", \"#B0BEC5\", \"#B0BEC5\", \"#B0BEC5\", \"#B0BEC5\", \"#B0BEC5\", \"#B0BEC5\", \"#B0BEC5\", \"#B0BEC5\", \"#B0BEC5\", \"#B0BEC5\", \"#B0BEC5\", \"#B0BEC5\", \"#B0BEC5\", \"#B0BEC5\", \"#B0BEC5\", \"#B0BEC5\", \"#B0BEC5\", \"#B0BEC5\", \"#B0BEC5\", \"#B0BEC5\", \"#B0BEC5\", \"#B0BEC5\", \"#B0BEC5\", \"#B0BEC5\", \"#B0BEC5\", \"#B0BEC5\", \"#B0BEC5\", \"#B0BEC5\", \"#B0BEC5\", \"#B0BEC5\", \"#B0BEC5\", \"#B0BEC5\", \"red\", \"#B0BEC5\", \"#B0BEC5\", \"#B0BEC5\", \"#B0BEC5\", \"#B0BEC5\", \"#B0BEC5\", \"#B0BEC5\", \"#B0BEC5\", \"#B0BEC5\", \"#B0BEC5\", \"#B0BEC5\", \"#B0BEC5\", \"#B0BEC5\", \"#B0BEC5\", \"#B0BEC5\"]]}], \"label\": \"Topic 84\", \"method\": \"update\"}, {\"args\": [{\"marker.color\": [[\"#B0BEC5\", \"#B0BEC5\", \"#B0BEC5\", \"#B0BEC5\", \"#B0BEC5\", \"#B0BEC5\", \"#B0BEC5\", \"#B0BEC5\", \"#B0BEC5\", \"#B0BEC5\", \"#B0BEC5\", \"#B0BEC5\", \"#B0BEC5\", \"#B0BEC5\", \"#B0BEC5\", \"#B0BEC5\", \"#B0BEC5\", \"#B0BEC5\", \"#B0BEC5\", \"#B0BEC5\", \"#B0BEC5\", \"#B0BEC5\", \"#B0BEC5\", \"#B0BEC5\", \"#B0BEC5\", \"#B0BEC5\", \"#B0BEC5\", \"#B0BEC5\", \"#B0BEC5\", \"#B0BEC5\", \"#B0BEC5\", \"#B0BEC5\", \"#B0BEC5\", \"#B0BEC5\", \"#B0BEC5\", \"#B0BEC5\", \"#B0BEC5\", \"#B0BEC5\", \"#B0BEC5\", \"#B0BEC5\", \"#B0BEC5\", \"#B0BEC5\", \"#B0BEC5\", \"#B0BEC5\", \"#B0BEC5\", \"#B0BEC5\", \"#B0BEC5\", \"#B0BEC5\", \"#B0BEC5\", \"#B0BEC5\", \"#B0BEC5\", \"#B0BEC5\", \"#B0BEC5\", \"#B0BEC5\", \"#B0BEC5\", \"#B0BEC5\", \"#B0BEC5\", \"#B0BEC5\", \"#B0BEC5\", \"#B0BEC5\", \"#B0BEC5\", \"#B0BEC5\", \"#B0BEC5\", \"#B0BEC5\", \"#B0BEC5\", \"#B0BEC5\", \"#B0BEC5\", \"#B0BEC5\", \"#B0BEC5\", \"#B0BEC5\", \"#B0BEC5\", \"#B0BEC5\", \"#B0BEC5\", \"#B0BEC5\", \"#B0BEC5\", \"#B0BEC5\", \"#B0BEC5\", \"#B0BEC5\", \"#B0BEC5\", \"#B0BEC5\", \"#B0BEC5\", \"#B0BEC5\", \"#B0BEC5\", \"#B0BEC5\", \"#B0BEC5\", \"red\", \"#B0BEC5\", \"#B0BEC5\", \"#B0BEC5\", \"#B0BEC5\", \"#B0BEC5\", \"#B0BEC5\", \"#B0BEC5\", \"#B0BEC5\", \"#B0BEC5\", \"#B0BEC5\", \"#B0BEC5\", \"#B0BEC5\", \"#B0BEC5\", \"#B0BEC5\"]]}], \"label\": \"Topic 85\", \"method\": \"update\"}, {\"args\": [{\"marker.color\": [[\"#B0BEC5\", \"#B0BEC5\", \"#B0BEC5\", \"#B0BEC5\", \"#B0BEC5\", \"#B0BEC5\", \"#B0BEC5\", \"#B0BEC5\", \"#B0BEC5\", \"#B0BEC5\", \"#B0BEC5\", \"#B0BEC5\", \"#B0BEC5\", \"#B0BEC5\", \"#B0BEC5\", \"#B0BEC5\", \"#B0BEC5\", \"#B0BEC5\", \"#B0BEC5\", \"#B0BEC5\", \"#B0BEC5\", \"#B0BEC5\", \"#B0BEC5\", \"#B0BEC5\", \"#B0BEC5\", \"#B0BEC5\", \"#B0BEC5\", \"#B0BEC5\", \"#B0BEC5\", \"#B0BEC5\", \"#B0BEC5\", \"#B0BEC5\", \"#B0BEC5\", \"#B0BEC5\", \"#B0BEC5\", \"#B0BEC5\", \"#B0BEC5\", \"#B0BEC5\", \"#B0BEC5\", \"#B0BEC5\", \"#B0BEC5\", \"#B0BEC5\", \"#B0BEC5\", \"#B0BEC5\", \"#B0BEC5\", \"#B0BEC5\", \"#B0BEC5\", \"#B0BEC5\", \"#B0BEC5\", \"#B0BEC5\", \"#B0BEC5\", \"#B0BEC5\", \"#B0BEC5\", \"#B0BEC5\", \"#B0BEC5\", \"#B0BEC5\", \"#B0BEC5\", \"#B0BEC5\", \"#B0BEC5\", \"#B0BEC5\", \"#B0BEC5\", \"#B0BEC5\", \"#B0BEC5\", \"#B0BEC5\", \"#B0BEC5\", \"#B0BEC5\", \"#B0BEC5\", \"#B0BEC5\", \"#B0BEC5\", \"#B0BEC5\", \"#B0BEC5\", \"#B0BEC5\", \"#B0BEC5\", \"#B0BEC5\", \"#B0BEC5\", \"#B0BEC5\", \"#B0BEC5\", \"#B0BEC5\", \"#B0BEC5\", \"#B0BEC5\", \"#B0BEC5\", \"#B0BEC5\", \"#B0BEC5\", \"#B0BEC5\", \"#B0BEC5\", \"#B0BEC5\", \"red\", \"#B0BEC5\", \"#B0BEC5\", \"#B0BEC5\", \"#B0BEC5\", \"#B0BEC5\", \"#B0BEC5\", \"#B0BEC5\", \"#B0BEC5\", \"#B0BEC5\", \"#B0BEC5\", \"#B0BEC5\", \"#B0BEC5\", \"#B0BEC5\"]]}], \"label\": \"Topic 86\", \"method\": \"update\"}, {\"args\": [{\"marker.color\": [[\"#B0BEC5\", \"#B0BEC5\", \"#B0BEC5\", \"#B0BEC5\", \"#B0BEC5\", \"#B0BEC5\", \"#B0BEC5\", \"#B0BEC5\", \"#B0BEC5\", \"#B0BEC5\", \"#B0BEC5\", \"#B0BEC5\", \"#B0BEC5\", \"#B0BEC5\", \"#B0BEC5\", \"#B0BEC5\", \"#B0BEC5\", \"#B0BEC5\", \"#B0BEC5\", \"#B0BEC5\", \"#B0BEC5\", \"#B0BEC5\", \"#B0BEC5\", \"#B0BEC5\", \"#B0BEC5\", \"#B0BEC5\", \"#B0BEC5\", \"#B0BEC5\", \"#B0BEC5\", \"#B0BEC5\", \"#B0BEC5\", \"#B0BEC5\", \"#B0BEC5\", \"#B0BEC5\", \"#B0BEC5\", \"#B0BEC5\", \"#B0BEC5\", \"#B0BEC5\", \"#B0BEC5\", \"#B0BEC5\", \"#B0BEC5\", \"#B0BEC5\", \"#B0BEC5\", \"#B0BEC5\", \"#B0BEC5\", \"#B0BEC5\", \"#B0BEC5\", \"#B0BEC5\", \"#B0BEC5\", \"#B0BEC5\", \"#B0BEC5\", \"#B0BEC5\", \"#B0BEC5\", \"#B0BEC5\", \"#B0BEC5\", \"#B0BEC5\", \"#B0BEC5\", \"#B0BEC5\", \"#B0BEC5\", \"#B0BEC5\", \"#B0BEC5\", \"#B0BEC5\", \"#B0BEC5\", \"#B0BEC5\", \"#B0BEC5\", \"#B0BEC5\", \"#B0BEC5\", \"#B0BEC5\", \"#B0BEC5\", \"#B0BEC5\", \"#B0BEC5\", \"#B0BEC5\", \"#B0BEC5\", \"#B0BEC5\", \"#B0BEC5\", \"#B0BEC5\", \"#B0BEC5\", \"#B0BEC5\", \"#B0BEC5\", \"#B0BEC5\", \"#B0BEC5\", \"#B0BEC5\", \"#B0BEC5\", \"#B0BEC5\", \"#B0BEC5\", \"#B0BEC5\", \"#B0BEC5\", \"red\", \"#B0BEC5\", \"#B0BEC5\", \"#B0BEC5\", \"#B0BEC5\", \"#B0BEC5\", \"#B0BEC5\", \"#B0BEC5\", \"#B0BEC5\", \"#B0BEC5\", \"#B0BEC5\", \"#B0BEC5\", \"#B0BEC5\"]]}], \"label\": \"Topic 87\", \"method\": \"update\"}, {\"args\": [{\"marker.color\": [[\"#B0BEC5\", \"#B0BEC5\", \"#B0BEC5\", \"#B0BEC5\", \"#B0BEC5\", \"#B0BEC5\", \"#B0BEC5\", \"#B0BEC5\", \"#B0BEC5\", \"#B0BEC5\", \"#B0BEC5\", \"#B0BEC5\", \"#B0BEC5\", \"#B0BEC5\", \"#B0BEC5\", \"#B0BEC5\", \"#B0BEC5\", \"#B0BEC5\", \"#B0BEC5\", \"#B0BEC5\", \"#B0BEC5\", \"#B0BEC5\", \"#B0BEC5\", \"#B0BEC5\", \"#B0BEC5\", \"#B0BEC5\", \"#B0BEC5\", \"#B0BEC5\", \"#B0BEC5\", \"#B0BEC5\", \"#B0BEC5\", \"#B0BEC5\", \"#B0BEC5\", \"#B0BEC5\", \"#B0BEC5\", \"#B0BEC5\", \"#B0BEC5\", \"#B0BEC5\", \"#B0BEC5\", \"#B0BEC5\", \"#B0BEC5\", \"#B0BEC5\", \"#B0BEC5\", \"#B0BEC5\", \"#B0BEC5\", \"#B0BEC5\", \"#B0BEC5\", \"#B0BEC5\", \"#B0BEC5\", \"#B0BEC5\", \"#B0BEC5\", \"#B0BEC5\", \"#B0BEC5\", \"#B0BEC5\", \"#B0BEC5\", \"#B0BEC5\", \"#B0BEC5\", \"#B0BEC5\", \"#B0BEC5\", \"#B0BEC5\", \"#B0BEC5\", \"#B0BEC5\", \"#B0BEC5\", \"#B0BEC5\", \"#B0BEC5\", \"#B0BEC5\", \"#B0BEC5\", \"#B0BEC5\", \"#B0BEC5\", \"#B0BEC5\", \"#B0BEC5\", \"#B0BEC5\", \"#B0BEC5\", \"#B0BEC5\", \"#B0BEC5\", \"#B0BEC5\", \"#B0BEC5\", \"#B0BEC5\", \"#B0BEC5\", \"#B0BEC5\", \"#B0BEC5\", \"#B0BEC5\", \"#B0BEC5\", \"#B0BEC5\", \"#B0BEC5\", \"#B0BEC5\", \"#B0BEC5\", \"#B0BEC5\", \"red\", \"#B0BEC5\", \"#B0BEC5\", \"#B0BEC5\", \"#B0BEC5\", \"#B0BEC5\", \"#B0BEC5\", \"#B0BEC5\", \"#B0BEC5\", \"#B0BEC5\", \"#B0BEC5\", \"#B0BEC5\"]]}], \"label\": \"Topic 88\", \"method\": \"update\"}, {\"args\": [{\"marker.color\": [[\"#B0BEC5\", \"#B0BEC5\", \"#B0BEC5\", \"#B0BEC5\", \"#B0BEC5\", \"#B0BEC5\", \"#B0BEC5\", \"#B0BEC5\", \"#B0BEC5\", \"#B0BEC5\", \"#B0BEC5\", \"#B0BEC5\", \"#B0BEC5\", \"#B0BEC5\", \"#B0BEC5\", \"#B0BEC5\", \"#B0BEC5\", \"#B0BEC5\", \"#B0BEC5\", \"#B0BEC5\", \"#B0BEC5\", \"#B0BEC5\", \"#B0BEC5\", \"#B0BEC5\", \"#B0BEC5\", \"#B0BEC5\", \"#B0BEC5\", \"#B0BEC5\", \"#B0BEC5\", \"#B0BEC5\", \"#B0BEC5\", \"#B0BEC5\", \"#B0BEC5\", \"#B0BEC5\", \"#B0BEC5\", \"#B0BEC5\", \"#B0BEC5\", \"#B0BEC5\", \"#B0BEC5\", \"#B0BEC5\", \"#B0BEC5\", \"#B0BEC5\", \"#B0BEC5\", \"#B0BEC5\", \"#B0BEC5\", \"#B0BEC5\", \"#B0BEC5\", \"#B0BEC5\", \"#B0BEC5\", \"#B0BEC5\", \"#B0BEC5\", \"#B0BEC5\", \"#B0BEC5\", \"#B0BEC5\", \"#B0BEC5\", \"#B0BEC5\", \"#B0BEC5\", \"#B0BEC5\", \"#B0BEC5\", \"#B0BEC5\", \"#B0BEC5\", \"#B0BEC5\", \"#B0BEC5\", \"#B0BEC5\", \"#B0BEC5\", \"#B0BEC5\", \"#B0BEC5\", \"#B0BEC5\", \"#B0BEC5\", \"#B0BEC5\", \"#B0BEC5\", \"#B0BEC5\", \"#B0BEC5\", \"#B0BEC5\", \"#B0BEC5\", \"#B0BEC5\", \"#B0BEC5\", \"#B0BEC5\", \"#B0BEC5\", \"#B0BEC5\", \"#B0BEC5\", \"#B0BEC5\", \"#B0BEC5\", \"#B0BEC5\", \"#B0BEC5\", \"#B0BEC5\", \"#B0BEC5\", \"#B0BEC5\", \"#B0BEC5\", \"red\", \"#B0BEC5\", \"#B0BEC5\", \"#B0BEC5\", \"#B0BEC5\", \"#B0BEC5\", \"#B0BEC5\", \"#B0BEC5\", \"#B0BEC5\", \"#B0BEC5\", \"#B0BEC5\"]]}], \"label\": \"Topic 89\", \"method\": \"update\"}, {\"args\": [{\"marker.color\": [[\"#B0BEC5\", \"#B0BEC5\", \"#B0BEC5\", \"#B0BEC5\", \"#B0BEC5\", \"#B0BEC5\", \"#B0BEC5\", \"#B0BEC5\", \"#B0BEC5\", \"#B0BEC5\", \"#B0BEC5\", \"#B0BEC5\", \"#B0BEC5\", \"#B0BEC5\", \"#B0BEC5\", \"#B0BEC5\", \"#B0BEC5\", \"#B0BEC5\", \"#B0BEC5\", \"#B0BEC5\", \"#B0BEC5\", \"#B0BEC5\", \"#B0BEC5\", \"#B0BEC5\", \"#B0BEC5\", \"#B0BEC5\", \"#B0BEC5\", \"#B0BEC5\", \"#B0BEC5\", \"#B0BEC5\", \"#B0BEC5\", \"#B0BEC5\", \"#B0BEC5\", \"#B0BEC5\", \"#B0BEC5\", \"#B0BEC5\", \"#B0BEC5\", \"#B0BEC5\", \"#B0BEC5\", \"#B0BEC5\", \"#B0BEC5\", \"#B0BEC5\", \"#B0BEC5\", \"#B0BEC5\", \"#B0BEC5\", \"#B0BEC5\", \"#B0BEC5\", \"#B0BEC5\", \"#B0BEC5\", \"#B0BEC5\", \"#B0BEC5\", \"#B0BEC5\", \"#B0BEC5\", \"#B0BEC5\", \"#B0BEC5\", \"#B0BEC5\", \"#B0BEC5\", \"#B0BEC5\", \"#B0BEC5\", \"#B0BEC5\", \"#B0BEC5\", \"#B0BEC5\", \"#B0BEC5\", \"#B0BEC5\", \"#B0BEC5\", \"#B0BEC5\", \"#B0BEC5\", \"#B0BEC5\", \"#B0BEC5\", \"#B0BEC5\", \"#B0BEC5\", \"#B0BEC5\", \"#B0BEC5\", \"#B0BEC5\", \"#B0BEC5\", \"#B0BEC5\", \"#B0BEC5\", \"#B0BEC5\", \"#B0BEC5\", \"#B0BEC5\", \"#B0BEC5\", \"#B0BEC5\", \"#B0BEC5\", \"#B0BEC5\", \"#B0BEC5\", \"#B0BEC5\", \"#B0BEC5\", \"#B0BEC5\", \"#B0BEC5\", \"#B0BEC5\", \"red\", \"#B0BEC5\", \"#B0BEC5\", \"#B0BEC5\", \"#B0BEC5\", \"#B0BEC5\", \"#B0BEC5\", \"#B0BEC5\", \"#B0BEC5\", \"#B0BEC5\"]]}], \"label\": \"Topic 90\", \"method\": \"update\"}, {\"args\": [{\"marker.color\": [[\"#B0BEC5\", \"#B0BEC5\", \"#B0BEC5\", \"#B0BEC5\", \"#B0BEC5\", \"#B0BEC5\", \"#B0BEC5\", \"#B0BEC5\", \"#B0BEC5\", \"#B0BEC5\", \"#B0BEC5\", \"#B0BEC5\", \"#B0BEC5\", \"#B0BEC5\", \"#B0BEC5\", \"#B0BEC5\", \"#B0BEC5\", \"#B0BEC5\", \"#B0BEC5\", \"#B0BEC5\", \"#B0BEC5\", \"#B0BEC5\", \"#B0BEC5\", \"#B0BEC5\", \"#B0BEC5\", \"#B0BEC5\", \"#B0BEC5\", \"#B0BEC5\", \"#B0BEC5\", \"#B0BEC5\", \"#B0BEC5\", \"#B0BEC5\", \"#B0BEC5\", \"#B0BEC5\", \"#B0BEC5\", \"#B0BEC5\", \"#B0BEC5\", \"#B0BEC5\", \"#B0BEC5\", \"#B0BEC5\", \"#B0BEC5\", \"#B0BEC5\", \"#B0BEC5\", \"#B0BEC5\", \"#B0BEC5\", \"#B0BEC5\", \"#B0BEC5\", \"#B0BEC5\", \"#B0BEC5\", \"#B0BEC5\", \"#B0BEC5\", \"#B0BEC5\", \"#B0BEC5\", \"#B0BEC5\", \"#B0BEC5\", \"#B0BEC5\", \"#B0BEC5\", \"#B0BEC5\", \"#B0BEC5\", \"#B0BEC5\", \"#B0BEC5\", \"#B0BEC5\", \"#B0BEC5\", \"#B0BEC5\", \"#B0BEC5\", \"#B0BEC5\", \"#B0BEC5\", \"#B0BEC5\", \"#B0BEC5\", \"#B0BEC5\", \"#B0BEC5\", \"#B0BEC5\", \"#B0BEC5\", \"#B0BEC5\", \"#B0BEC5\", \"#B0BEC5\", \"#B0BEC5\", \"#B0BEC5\", \"#B0BEC5\", \"#B0BEC5\", \"#B0BEC5\", \"#B0BEC5\", \"#B0BEC5\", \"#B0BEC5\", \"#B0BEC5\", \"#B0BEC5\", \"#B0BEC5\", \"#B0BEC5\", \"#B0BEC5\", \"#B0BEC5\", \"#B0BEC5\", \"red\", \"#B0BEC5\", \"#B0BEC5\", \"#B0BEC5\", \"#B0BEC5\", \"#B0BEC5\", \"#B0BEC5\", \"#B0BEC5\", \"#B0BEC5\"]]}], \"label\": \"Topic 91\", \"method\": \"update\"}, {\"args\": [{\"marker.color\": [[\"#B0BEC5\", \"#B0BEC5\", \"#B0BEC5\", \"#B0BEC5\", \"#B0BEC5\", \"#B0BEC5\", \"#B0BEC5\", \"#B0BEC5\", \"#B0BEC5\", \"#B0BEC5\", \"#B0BEC5\", \"#B0BEC5\", \"#B0BEC5\", \"#B0BEC5\", \"#B0BEC5\", \"#B0BEC5\", \"#B0BEC5\", \"#B0BEC5\", \"#B0BEC5\", \"#B0BEC5\", \"#B0BEC5\", \"#B0BEC5\", \"#B0BEC5\", \"#B0BEC5\", \"#B0BEC5\", \"#B0BEC5\", \"#B0BEC5\", \"#B0BEC5\", \"#B0BEC5\", \"#B0BEC5\", \"#B0BEC5\", \"#B0BEC5\", \"#B0BEC5\", \"#B0BEC5\", \"#B0BEC5\", \"#B0BEC5\", \"#B0BEC5\", \"#B0BEC5\", \"#B0BEC5\", \"#B0BEC5\", \"#B0BEC5\", \"#B0BEC5\", \"#B0BEC5\", \"#B0BEC5\", \"#B0BEC5\", \"#B0BEC5\", \"#B0BEC5\", \"#B0BEC5\", \"#B0BEC5\", \"#B0BEC5\", \"#B0BEC5\", \"#B0BEC5\", \"#B0BEC5\", \"#B0BEC5\", \"#B0BEC5\", \"#B0BEC5\", \"#B0BEC5\", \"#B0BEC5\", \"#B0BEC5\", \"#B0BEC5\", \"#B0BEC5\", \"#B0BEC5\", \"#B0BEC5\", \"#B0BEC5\", \"#B0BEC5\", \"#B0BEC5\", \"#B0BEC5\", \"#B0BEC5\", \"#B0BEC5\", \"#B0BEC5\", \"#B0BEC5\", \"#B0BEC5\", \"#B0BEC5\", \"#B0BEC5\", \"#B0BEC5\", \"#B0BEC5\", \"#B0BEC5\", \"#B0BEC5\", \"#B0BEC5\", \"#B0BEC5\", \"#B0BEC5\", \"#B0BEC5\", \"#B0BEC5\", \"#B0BEC5\", \"#B0BEC5\", \"#B0BEC5\", \"#B0BEC5\", \"#B0BEC5\", \"#B0BEC5\", \"#B0BEC5\", \"#B0BEC5\", \"#B0BEC5\", \"red\", \"#B0BEC5\", \"#B0BEC5\", \"#B0BEC5\", \"#B0BEC5\", \"#B0BEC5\", \"#B0BEC5\", \"#B0BEC5\"]]}], \"label\": \"Topic 92\", \"method\": \"update\"}, {\"args\": [{\"marker.color\": [[\"#B0BEC5\", \"#B0BEC5\", \"#B0BEC5\", \"#B0BEC5\", \"#B0BEC5\", \"#B0BEC5\", \"#B0BEC5\", \"#B0BEC5\", \"#B0BEC5\", \"#B0BEC5\", \"#B0BEC5\", \"#B0BEC5\", \"#B0BEC5\", \"#B0BEC5\", \"#B0BEC5\", \"#B0BEC5\", \"#B0BEC5\", \"#B0BEC5\", \"#B0BEC5\", \"#B0BEC5\", \"#B0BEC5\", \"#B0BEC5\", \"#B0BEC5\", \"#B0BEC5\", \"#B0BEC5\", \"#B0BEC5\", \"#B0BEC5\", \"#B0BEC5\", \"#B0BEC5\", \"#B0BEC5\", \"#B0BEC5\", \"#B0BEC5\", \"#B0BEC5\", \"#B0BEC5\", \"#B0BEC5\", \"#B0BEC5\", \"#B0BEC5\", \"#B0BEC5\", \"#B0BEC5\", \"#B0BEC5\", \"#B0BEC5\", \"#B0BEC5\", \"#B0BEC5\", \"#B0BEC5\", \"#B0BEC5\", \"#B0BEC5\", \"#B0BEC5\", \"#B0BEC5\", \"#B0BEC5\", \"#B0BEC5\", \"#B0BEC5\", \"#B0BEC5\", \"#B0BEC5\", \"#B0BEC5\", \"#B0BEC5\", \"#B0BEC5\", \"#B0BEC5\", \"#B0BEC5\", \"#B0BEC5\", \"#B0BEC5\", \"#B0BEC5\", \"#B0BEC5\", \"#B0BEC5\", \"#B0BEC5\", \"#B0BEC5\", \"#B0BEC5\", \"#B0BEC5\", \"#B0BEC5\", \"#B0BEC5\", \"#B0BEC5\", \"#B0BEC5\", \"#B0BEC5\", \"#B0BEC5\", \"#B0BEC5\", \"#B0BEC5\", \"#B0BEC5\", \"#B0BEC5\", \"#B0BEC5\", \"#B0BEC5\", \"#B0BEC5\", \"#B0BEC5\", \"#B0BEC5\", \"#B0BEC5\", \"#B0BEC5\", \"#B0BEC5\", \"#B0BEC5\", \"#B0BEC5\", \"#B0BEC5\", \"#B0BEC5\", \"#B0BEC5\", \"#B0BEC5\", \"#B0BEC5\", \"#B0BEC5\", \"red\", \"#B0BEC5\", \"#B0BEC5\", \"#B0BEC5\", \"#B0BEC5\", \"#B0BEC5\", \"#B0BEC5\"]]}], \"label\": \"Topic 93\", \"method\": \"update\"}, {\"args\": [{\"marker.color\": [[\"#B0BEC5\", \"#B0BEC5\", \"#B0BEC5\", \"#B0BEC5\", \"#B0BEC5\", \"#B0BEC5\", \"#B0BEC5\", \"#B0BEC5\", \"#B0BEC5\", \"#B0BEC5\", \"#B0BEC5\", \"#B0BEC5\", \"#B0BEC5\", \"#B0BEC5\", \"#B0BEC5\", \"#B0BEC5\", \"#B0BEC5\", \"#B0BEC5\", \"#B0BEC5\", \"#B0BEC5\", \"#B0BEC5\", \"#B0BEC5\", \"#B0BEC5\", \"#B0BEC5\", \"#B0BEC5\", \"#B0BEC5\", \"#B0BEC5\", \"#B0BEC5\", \"#B0BEC5\", \"#B0BEC5\", \"#B0BEC5\", \"#B0BEC5\", \"#B0BEC5\", \"#B0BEC5\", \"#B0BEC5\", \"#B0BEC5\", \"#B0BEC5\", \"#B0BEC5\", \"#B0BEC5\", \"#B0BEC5\", \"#B0BEC5\", \"#B0BEC5\", \"#B0BEC5\", \"#B0BEC5\", \"#B0BEC5\", \"#B0BEC5\", \"#B0BEC5\", \"#B0BEC5\", \"#B0BEC5\", \"#B0BEC5\", \"#B0BEC5\", \"#B0BEC5\", \"#B0BEC5\", \"#B0BEC5\", \"#B0BEC5\", \"#B0BEC5\", \"#B0BEC5\", \"#B0BEC5\", \"#B0BEC5\", \"#B0BEC5\", \"#B0BEC5\", \"#B0BEC5\", \"#B0BEC5\", \"#B0BEC5\", \"#B0BEC5\", \"#B0BEC5\", \"#B0BEC5\", \"#B0BEC5\", \"#B0BEC5\", \"#B0BEC5\", \"#B0BEC5\", \"#B0BEC5\", \"#B0BEC5\", \"#B0BEC5\", \"#B0BEC5\", \"#B0BEC5\", \"#B0BEC5\", \"#B0BEC5\", \"#B0BEC5\", \"#B0BEC5\", \"#B0BEC5\", \"#B0BEC5\", \"#B0BEC5\", \"#B0BEC5\", \"#B0BEC5\", \"#B0BEC5\", \"#B0BEC5\", \"#B0BEC5\", \"#B0BEC5\", \"#B0BEC5\", \"#B0BEC5\", \"#B0BEC5\", \"#B0BEC5\", \"#B0BEC5\", \"red\", \"#B0BEC5\", \"#B0BEC5\", \"#B0BEC5\", \"#B0BEC5\", \"#B0BEC5\"]]}], \"label\": \"Topic 94\", \"method\": \"update\"}, {\"args\": [{\"marker.color\": [[\"#B0BEC5\", \"#B0BEC5\", \"#B0BEC5\", \"#B0BEC5\", \"#B0BEC5\", \"#B0BEC5\", \"#B0BEC5\", \"#B0BEC5\", \"#B0BEC5\", \"#B0BEC5\", \"#B0BEC5\", \"#B0BEC5\", \"#B0BEC5\", \"#B0BEC5\", \"#B0BEC5\", \"#B0BEC5\", \"#B0BEC5\", \"#B0BEC5\", \"#B0BEC5\", \"#B0BEC5\", \"#B0BEC5\", \"#B0BEC5\", \"#B0BEC5\", \"#B0BEC5\", \"#B0BEC5\", \"#B0BEC5\", \"#B0BEC5\", \"#B0BEC5\", \"#B0BEC5\", \"#B0BEC5\", \"#B0BEC5\", \"#B0BEC5\", \"#B0BEC5\", \"#B0BEC5\", \"#B0BEC5\", \"#B0BEC5\", \"#B0BEC5\", \"#B0BEC5\", \"#B0BEC5\", \"#B0BEC5\", \"#B0BEC5\", \"#B0BEC5\", \"#B0BEC5\", \"#B0BEC5\", \"#B0BEC5\", \"#B0BEC5\", \"#B0BEC5\", \"#B0BEC5\", \"#B0BEC5\", \"#B0BEC5\", \"#B0BEC5\", \"#B0BEC5\", \"#B0BEC5\", \"#B0BEC5\", \"#B0BEC5\", \"#B0BEC5\", \"#B0BEC5\", \"#B0BEC5\", \"#B0BEC5\", \"#B0BEC5\", \"#B0BEC5\", \"#B0BEC5\", \"#B0BEC5\", \"#B0BEC5\", \"#B0BEC5\", \"#B0BEC5\", \"#B0BEC5\", \"#B0BEC5\", \"#B0BEC5\", \"#B0BEC5\", \"#B0BEC5\", \"#B0BEC5\", \"#B0BEC5\", \"#B0BEC5\", \"#B0BEC5\", \"#B0BEC5\", \"#B0BEC5\", \"#B0BEC5\", \"#B0BEC5\", \"#B0BEC5\", \"#B0BEC5\", \"#B0BEC5\", \"#B0BEC5\", \"#B0BEC5\", \"#B0BEC5\", \"#B0BEC5\", \"#B0BEC5\", \"#B0BEC5\", \"#B0BEC5\", \"#B0BEC5\", \"#B0BEC5\", \"#B0BEC5\", \"#B0BEC5\", \"#B0BEC5\", \"#B0BEC5\", \"red\", \"#B0BEC5\", \"#B0BEC5\", \"#B0BEC5\", \"#B0BEC5\"]]}], \"label\": \"Topic 95\", \"method\": \"update\"}, {\"args\": [{\"marker.color\": [[\"#B0BEC5\", \"#B0BEC5\", \"#B0BEC5\", \"#B0BEC5\", \"#B0BEC5\", \"#B0BEC5\", \"#B0BEC5\", \"#B0BEC5\", \"#B0BEC5\", \"#B0BEC5\", \"#B0BEC5\", \"#B0BEC5\", \"#B0BEC5\", \"#B0BEC5\", \"#B0BEC5\", \"#B0BEC5\", \"#B0BEC5\", \"#B0BEC5\", \"#B0BEC5\", \"#B0BEC5\", \"#B0BEC5\", \"#B0BEC5\", \"#B0BEC5\", \"#B0BEC5\", \"#B0BEC5\", \"#B0BEC5\", \"#B0BEC5\", \"#B0BEC5\", \"#B0BEC5\", \"#B0BEC5\", \"#B0BEC5\", \"#B0BEC5\", \"#B0BEC5\", \"#B0BEC5\", \"#B0BEC5\", \"#B0BEC5\", \"#B0BEC5\", \"#B0BEC5\", \"#B0BEC5\", \"#B0BEC5\", \"#B0BEC5\", \"#B0BEC5\", \"#B0BEC5\", \"#B0BEC5\", \"#B0BEC5\", \"#B0BEC5\", \"#B0BEC5\", \"#B0BEC5\", \"#B0BEC5\", \"#B0BEC5\", \"#B0BEC5\", \"#B0BEC5\", \"#B0BEC5\", \"#B0BEC5\", \"#B0BEC5\", \"#B0BEC5\", \"#B0BEC5\", \"#B0BEC5\", \"#B0BEC5\", \"#B0BEC5\", \"#B0BEC5\", \"#B0BEC5\", \"#B0BEC5\", \"#B0BEC5\", \"#B0BEC5\", \"#B0BEC5\", \"#B0BEC5\", \"#B0BEC5\", \"#B0BEC5\", \"#B0BEC5\", \"#B0BEC5\", \"#B0BEC5\", \"#B0BEC5\", \"#B0BEC5\", \"#B0BEC5\", \"#B0BEC5\", \"#B0BEC5\", \"#B0BEC5\", \"#B0BEC5\", \"#B0BEC5\", \"#B0BEC5\", \"#B0BEC5\", \"#B0BEC5\", \"#B0BEC5\", \"#B0BEC5\", \"#B0BEC5\", \"#B0BEC5\", \"#B0BEC5\", \"#B0BEC5\", \"#B0BEC5\", \"#B0BEC5\", \"#B0BEC5\", \"#B0BEC5\", \"#B0BEC5\", \"#B0BEC5\", \"#B0BEC5\", \"red\", \"#B0BEC5\", \"#B0BEC5\", \"#B0BEC5\"]]}], \"label\": \"Topic 96\", \"method\": \"update\"}, {\"args\": [{\"marker.color\": [[\"#B0BEC5\", \"#B0BEC5\", \"#B0BEC5\", \"#B0BEC5\", \"#B0BEC5\", \"#B0BEC5\", \"#B0BEC5\", \"#B0BEC5\", \"#B0BEC5\", \"#B0BEC5\", \"#B0BEC5\", \"#B0BEC5\", \"#B0BEC5\", \"#B0BEC5\", \"#B0BEC5\", \"#B0BEC5\", \"#B0BEC5\", \"#B0BEC5\", \"#B0BEC5\", \"#B0BEC5\", \"#B0BEC5\", \"#B0BEC5\", \"#B0BEC5\", \"#B0BEC5\", \"#B0BEC5\", \"#B0BEC5\", \"#B0BEC5\", \"#B0BEC5\", \"#B0BEC5\", \"#B0BEC5\", \"#B0BEC5\", \"#B0BEC5\", \"#B0BEC5\", \"#B0BEC5\", \"#B0BEC5\", \"#B0BEC5\", \"#B0BEC5\", \"#B0BEC5\", \"#B0BEC5\", \"#B0BEC5\", \"#B0BEC5\", \"#B0BEC5\", \"#B0BEC5\", \"#B0BEC5\", \"#B0BEC5\", \"#B0BEC5\", \"#B0BEC5\", \"#B0BEC5\", \"#B0BEC5\", \"#B0BEC5\", \"#B0BEC5\", \"#B0BEC5\", \"#B0BEC5\", \"#B0BEC5\", \"#B0BEC5\", \"#B0BEC5\", \"#B0BEC5\", \"#B0BEC5\", \"#B0BEC5\", \"#B0BEC5\", \"#B0BEC5\", \"#B0BEC5\", \"#B0BEC5\", \"#B0BEC5\", \"#B0BEC5\", \"#B0BEC5\", \"#B0BEC5\", \"#B0BEC5\", \"#B0BEC5\", \"#B0BEC5\", \"#B0BEC5\", \"#B0BEC5\", \"#B0BEC5\", \"#B0BEC5\", \"#B0BEC5\", \"#B0BEC5\", \"#B0BEC5\", \"#B0BEC5\", \"#B0BEC5\", \"#B0BEC5\", \"#B0BEC5\", \"#B0BEC5\", \"#B0BEC5\", \"#B0BEC5\", \"#B0BEC5\", \"#B0BEC5\", \"#B0BEC5\", \"#B0BEC5\", \"#B0BEC5\", \"#B0BEC5\", \"#B0BEC5\", \"#B0BEC5\", \"#B0BEC5\", \"#B0BEC5\", \"#B0BEC5\", \"#B0BEC5\", \"#B0BEC5\", \"red\", \"#B0BEC5\", \"#B0BEC5\"]]}], \"label\": \"Topic 97\", \"method\": \"update\"}, {\"args\": [{\"marker.color\": [[\"#B0BEC5\", \"#B0BEC5\", \"#B0BEC5\", \"#B0BEC5\", \"#B0BEC5\", \"#B0BEC5\", \"#B0BEC5\", \"#B0BEC5\", \"#B0BEC5\", \"#B0BEC5\", \"#B0BEC5\", \"#B0BEC5\", \"#B0BEC5\", \"#B0BEC5\", \"#B0BEC5\", \"#B0BEC5\", \"#B0BEC5\", \"#B0BEC5\", \"#B0BEC5\", \"#B0BEC5\", \"#B0BEC5\", \"#B0BEC5\", \"#B0BEC5\", \"#B0BEC5\", \"#B0BEC5\", \"#B0BEC5\", \"#B0BEC5\", \"#B0BEC5\", \"#B0BEC5\", \"#B0BEC5\", \"#B0BEC5\", \"#B0BEC5\", \"#B0BEC5\", \"#B0BEC5\", \"#B0BEC5\", \"#B0BEC5\", \"#B0BEC5\", \"#B0BEC5\", \"#B0BEC5\", \"#B0BEC5\", \"#B0BEC5\", \"#B0BEC5\", \"#B0BEC5\", \"#B0BEC5\", \"#B0BEC5\", \"#B0BEC5\", \"#B0BEC5\", \"#B0BEC5\", \"#B0BEC5\", \"#B0BEC5\", \"#B0BEC5\", \"#B0BEC5\", \"#B0BEC5\", \"#B0BEC5\", \"#B0BEC5\", \"#B0BEC5\", \"#B0BEC5\", \"#B0BEC5\", \"#B0BEC5\", \"#B0BEC5\", \"#B0BEC5\", \"#B0BEC5\", \"#B0BEC5\", \"#B0BEC5\", \"#B0BEC5\", \"#B0BEC5\", \"#B0BEC5\", \"#B0BEC5\", \"#B0BEC5\", \"#B0BEC5\", \"#B0BEC5\", \"#B0BEC5\", \"#B0BEC5\", \"#B0BEC5\", \"#B0BEC5\", \"#B0BEC5\", \"#B0BEC5\", \"#B0BEC5\", \"#B0BEC5\", \"#B0BEC5\", \"#B0BEC5\", \"#B0BEC5\", \"#B0BEC5\", \"#B0BEC5\", \"#B0BEC5\", \"#B0BEC5\", \"#B0BEC5\", \"#B0BEC5\", \"#B0BEC5\", \"#B0BEC5\", \"#B0BEC5\", \"#B0BEC5\", \"#B0BEC5\", \"#B0BEC5\", \"#B0BEC5\", \"#B0BEC5\", \"#B0BEC5\", \"#B0BEC5\", \"red\", \"#B0BEC5\"]]}], \"label\": \"Topic 98\", \"method\": \"update\"}, {\"args\": [{\"marker.color\": [[\"#B0BEC5\", \"#B0BEC5\", \"#B0BEC5\", \"#B0BEC5\", \"#B0BEC5\", \"#B0BEC5\", \"#B0BEC5\", \"#B0BEC5\", \"#B0BEC5\", \"#B0BEC5\", \"#B0BEC5\", \"#B0BEC5\", \"#B0BEC5\", \"#B0BEC5\", \"#B0BEC5\", \"#B0BEC5\", \"#B0BEC5\", \"#B0BEC5\", \"#B0BEC5\", \"#B0BEC5\", \"#B0BEC5\", \"#B0BEC5\", \"#B0BEC5\", \"#B0BEC5\", \"#B0BEC5\", \"#B0BEC5\", \"#B0BEC5\", \"#B0BEC5\", \"#B0BEC5\", \"#B0BEC5\", \"#B0BEC5\", \"#B0BEC5\", \"#B0BEC5\", \"#B0BEC5\", \"#B0BEC5\", \"#B0BEC5\", \"#B0BEC5\", \"#B0BEC5\", \"#B0BEC5\", \"#B0BEC5\", \"#B0BEC5\", \"#B0BEC5\", \"#B0BEC5\", \"#B0BEC5\", \"#B0BEC5\", \"#B0BEC5\", \"#B0BEC5\", \"#B0BEC5\", \"#B0BEC5\", \"#B0BEC5\", \"#B0BEC5\", \"#B0BEC5\", \"#B0BEC5\", \"#B0BEC5\", \"#B0BEC5\", \"#B0BEC5\", \"#B0BEC5\", \"#B0BEC5\", \"#B0BEC5\", \"#B0BEC5\", \"#B0BEC5\", \"#B0BEC5\", \"#B0BEC5\", \"#B0BEC5\", \"#B0BEC5\", \"#B0BEC5\", \"#B0BEC5\", \"#B0BEC5\", \"#B0BEC5\", \"#B0BEC5\", \"#B0BEC5\", \"#B0BEC5\", \"#B0BEC5\", \"#B0BEC5\", \"#B0BEC5\", \"#B0BEC5\", \"#B0BEC5\", \"#B0BEC5\", \"#B0BEC5\", \"#B0BEC5\", \"#B0BEC5\", \"#B0BEC5\", \"#B0BEC5\", \"#B0BEC5\", \"#B0BEC5\", \"#B0BEC5\", \"#B0BEC5\", \"#B0BEC5\", \"#B0BEC5\", \"#B0BEC5\", \"#B0BEC5\", \"#B0BEC5\", \"#B0BEC5\", \"#B0BEC5\", \"#B0BEC5\", \"#B0BEC5\", \"#B0BEC5\", \"#B0BEC5\", \"#B0BEC5\", \"red\"]]}], \"label\": \"Topic 99\", \"method\": \"update\"}]}], \"template\": {\"data\": {\"bar\": [{\"error_x\": {\"color\": \"rgb(36,36,36)\"}, \"error_y\": {\"color\": \"rgb(36,36,36)\"}, \"marker\": {\"line\": {\"color\": \"white\", \"width\": 0.5}}, \"type\": \"bar\"}], \"barpolar\": [{\"marker\": {\"line\": {\"color\": \"white\", \"width\": 0.5}}, \"type\": \"barpolar\"}], \"carpet\": [{\"aaxis\": {\"endlinecolor\": \"rgb(36,36,36)\", \"gridcolor\": \"white\", \"linecolor\": \"white\", \"minorgridcolor\": \"white\", \"startlinecolor\": \"rgb(36,36,36)\"}, \"baxis\": {\"endlinecolor\": \"rgb(36,36,36)\", \"gridcolor\": \"white\", \"linecolor\": \"white\", \"minorgridcolor\": \"white\", \"startlinecolor\": \"rgb(36,36,36)\"}, \"type\": \"carpet\"}], \"choropleth\": [{\"colorbar\": {\"outlinewidth\": 1, \"tickcolor\": \"rgb(36,36,36)\", \"ticks\": \"outside\"}, \"type\": \"choropleth\"}], \"contour\": [{\"colorbar\": {\"outlinewidth\": 1, \"tickcolor\": \"rgb(36,36,36)\", \"ticks\": \"outside\"}, \"colorscale\": [[0.0, \"#440154\"], [0.1111111111111111, \"#482878\"], [0.2222222222222222, \"#3e4989\"], [0.3333333333333333, \"#31688e\"], [0.4444444444444444, \"#26828e\"], [0.5555555555555556, \"#1f9e89\"], [0.6666666666666666, \"#35b779\"], [0.7777777777777778, \"#6ece58\"], [0.8888888888888888, \"#b5de2b\"], [1.0, \"#fde725\"]], \"type\": \"contour\"}], \"contourcarpet\": [{\"colorbar\": {\"outlinewidth\": 1, \"tickcolor\": \"rgb(36,36,36)\", \"ticks\": \"outside\"}, \"type\": \"contourcarpet\"}], \"heatmap\": [{\"colorbar\": {\"outlinewidth\": 1, \"tickcolor\": \"rgb(36,36,36)\", \"ticks\": \"outside\"}, \"colorscale\": [[0.0, \"#440154\"], [0.1111111111111111, \"#482878\"], [0.2222222222222222, \"#3e4989\"], [0.3333333333333333, \"#31688e\"], [0.4444444444444444, \"#26828e\"], [0.5555555555555556, \"#1f9e89\"], [0.6666666666666666, \"#35b779\"], [0.7777777777777778, \"#6ece58\"], [0.8888888888888888, \"#b5de2b\"], [1.0, \"#fde725\"]], \"type\": \"heatmap\"}], \"heatmapgl\": [{\"colorbar\": {\"outlinewidth\": 1, \"tickcolor\": \"rgb(36,36,36)\", \"ticks\": \"outside\"}, \"colorscale\": [[0.0, \"#440154\"], [0.1111111111111111, \"#482878\"], [0.2222222222222222, \"#3e4989\"], [0.3333333333333333, \"#31688e\"], [0.4444444444444444, \"#26828e\"], [0.5555555555555556, \"#1f9e89\"], [0.6666666666666666, \"#35b779\"], [0.7777777777777778, \"#6ece58\"], [0.8888888888888888, \"#b5de2b\"], [1.0, \"#fde725\"]], \"type\": \"heatmapgl\"}], \"histogram\": [{\"marker\": {\"line\": {\"color\": \"white\", \"width\": 0.6}}, \"type\": \"histogram\"}], \"histogram2d\": [{\"colorbar\": {\"outlinewidth\": 1, \"tickcolor\": \"rgb(36,36,36)\", \"ticks\": \"outside\"}, \"colorscale\": [[0.0, \"#440154\"], [0.1111111111111111, \"#482878\"], [0.2222222222222222, \"#3e4989\"], [0.3333333333333333, \"#31688e\"], [0.4444444444444444, \"#26828e\"], [0.5555555555555556, \"#1f9e89\"], [0.6666666666666666, \"#35b779\"], [0.7777777777777778, \"#6ece58\"], [0.8888888888888888, \"#b5de2b\"], [1.0, \"#fde725\"]], \"type\": \"histogram2d\"}], \"histogram2dcontour\": [{\"colorbar\": {\"outlinewidth\": 1, \"tickcolor\": \"rgb(36,36,36)\", \"ticks\": \"outside\"}, \"colorscale\": [[0.0, \"#440154\"], [0.1111111111111111, \"#482878\"], [0.2222222222222222, \"#3e4989\"], [0.3333333333333333, \"#31688e\"], [0.4444444444444444, \"#26828e\"], [0.5555555555555556, \"#1f9e89\"], [0.6666666666666666, \"#35b779\"], [0.7777777777777778, \"#6ece58\"], [0.8888888888888888, \"#b5de2b\"], [1.0, \"#fde725\"]], \"type\": \"histogram2dcontour\"}], \"mesh3d\": [{\"colorbar\": {\"outlinewidth\": 1, \"tickcolor\": \"rgb(36,36,36)\", \"ticks\": \"outside\"}, \"type\": \"mesh3d\"}], \"parcoords\": [{\"line\": {\"colorbar\": {\"outlinewidth\": 1, \"tickcolor\": \"rgb(36,36,36)\", \"ticks\": \"outside\"}}, \"type\": \"parcoords\"}], \"pie\": [{\"automargin\": true, \"type\": \"pie\"}], \"scatter\": [{\"marker\": {\"colorbar\": {\"outlinewidth\": 1, \"tickcolor\": \"rgb(36,36,36)\", \"ticks\": \"outside\"}}, \"type\": \"scatter\"}], \"scatter3d\": [{\"line\": {\"colorbar\": {\"outlinewidth\": 1, \"tickcolor\": \"rgb(36,36,36)\", \"ticks\": \"outside\"}}, \"marker\": {\"colorbar\": {\"outlinewidth\": 1, \"tickcolor\": \"rgb(36,36,36)\", \"ticks\": \"outside\"}}, \"type\": \"scatter3d\"}], \"scattercarpet\": [{\"marker\": {\"colorbar\": {\"outlinewidth\": 1, \"tickcolor\": \"rgb(36,36,36)\", \"ticks\": \"outside\"}}, \"type\": \"scattercarpet\"}], \"scattergeo\": [{\"marker\": {\"colorbar\": {\"outlinewidth\": 1, \"tickcolor\": \"rgb(36,36,36)\", \"ticks\": \"outside\"}}, \"type\": \"scattergeo\"}], \"scattergl\": [{\"marker\": {\"colorbar\": {\"outlinewidth\": 1, \"tickcolor\": \"rgb(36,36,36)\", \"ticks\": \"outside\"}}, \"type\": \"scattergl\"}], \"scattermapbox\": [{\"marker\": {\"colorbar\": {\"outlinewidth\": 1, \"tickcolor\": \"rgb(36,36,36)\", \"ticks\": \"outside\"}}, \"type\": \"scattermapbox\"}], \"scatterpolar\": [{\"marker\": {\"colorbar\": {\"outlinewidth\": 1, \"tickcolor\": \"rgb(36,36,36)\", \"ticks\": \"outside\"}}, \"type\": \"scatterpolar\"}], \"scatterpolargl\": [{\"marker\": {\"colorbar\": {\"outlinewidth\": 1, \"tickcolor\": \"rgb(36,36,36)\", \"ticks\": \"outside\"}}, \"type\": \"scatterpolargl\"}], \"scatterternary\": [{\"marker\": {\"colorbar\": {\"outlinewidth\": 1, \"tickcolor\": \"rgb(36,36,36)\", \"ticks\": \"outside\"}}, \"type\": \"scatterternary\"}], \"surface\": [{\"colorbar\": {\"outlinewidth\": 1, \"tickcolor\": \"rgb(36,36,36)\", \"ticks\": \"outside\"}, \"colorscale\": [[0.0, \"#440154\"], [0.1111111111111111, \"#482878\"], [0.2222222222222222, \"#3e4989\"], [0.3333333333333333, \"#31688e\"], [0.4444444444444444, \"#26828e\"], [0.5555555555555556, \"#1f9e89\"], [0.6666666666666666, \"#35b779\"], [0.7777777777777778, \"#6ece58\"], [0.8888888888888888, \"#b5de2b\"], [1.0, \"#fde725\"]], \"type\": \"surface\"}], \"table\": [{\"cells\": {\"fill\": {\"color\": \"rgb(237,237,237)\"}, \"line\": {\"color\": \"white\"}}, \"header\": {\"fill\": {\"color\": \"rgb(217,217,217)\"}, \"line\": {\"color\": \"white\"}}, \"type\": \"table\"}]}, \"layout\": {\"annotationdefaults\": {\"arrowhead\": 0, \"arrowwidth\": 1}, \"autotypenumbers\": \"strict\", \"coloraxis\": {\"colorbar\": {\"outlinewidth\": 1, \"tickcolor\": \"rgb(36,36,36)\", \"ticks\": \"outside\"}}, \"colorscale\": {\"diverging\": [[0.0, \"rgb(103,0,31)\"], [0.1, \"rgb(178,24,43)\"], [0.2, \"rgb(214,96,77)\"], [0.3, \"rgb(244,165,130)\"], [0.4, \"rgb(253,219,199)\"], [0.5, \"rgb(247,247,247)\"], [0.6, \"rgb(209,229,240)\"], [0.7, \"rgb(146,197,222)\"], [0.8, \"rgb(67,147,195)\"], [0.9, \"rgb(33,102,172)\"], [1.0, \"rgb(5,48,97)\"]], \"sequential\": [[0.0, \"#440154\"], [0.1111111111111111, \"#482878\"], [0.2222222222222222, \"#3e4989\"], [0.3333333333333333, \"#31688e\"], [0.4444444444444444, \"#26828e\"], [0.5555555555555556, \"#1f9e89\"], [0.6666666666666666, \"#35b779\"], [0.7777777777777778, \"#6ece58\"], [0.8888888888888888, \"#b5de2b\"], [1.0, \"#fde725\"]], \"sequentialminus\": [[0.0, \"#440154\"], [0.1111111111111111, \"#482878\"], [0.2222222222222222, \"#3e4989\"], [0.3333333333333333, \"#31688e\"], [0.4444444444444444, \"#26828e\"], [0.5555555555555556, \"#1f9e89\"], [0.6666666666666666, \"#35b779\"], [0.7777777777777778, \"#6ece58\"], [0.8888888888888888, \"#b5de2b\"], [1.0, \"#fde725\"]]}, \"colorway\": [\"#1F77B4\", \"#FF7F0E\", \"#2CA02C\", \"#D62728\", \"#9467BD\", \"#8C564B\", \"#E377C2\", \"#7F7F7F\", \"#BCBD22\", \"#17BECF\"], \"font\": {\"color\": \"rgb(36,36,36)\"}, \"geo\": {\"bgcolor\": \"white\", \"lakecolor\": \"white\", \"landcolor\": \"white\", \"showlakes\": true, \"showland\": true, \"subunitcolor\": \"white\"}, \"hoverlabel\": {\"align\": \"left\"}, \"hovermode\": \"closest\", \"mapbox\": {\"style\": \"light\"}, \"paper_bgcolor\": \"white\", \"plot_bgcolor\": \"white\", \"polar\": {\"angularaxis\": {\"gridcolor\": \"rgb(232,232,232)\", \"linecolor\": \"rgb(36,36,36)\", \"showgrid\": false, \"showline\": true, \"ticks\": \"outside\"}, \"bgcolor\": \"white\", \"radialaxis\": {\"gridcolor\": \"rgb(232,232,232)\", \"linecolor\": \"rgb(36,36,36)\", \"showgrid\": false, \"showline\": true, \"ticks\": \"outside\"}}, \"scene\": {\"xaxis\": {\"backgroundcolor\": \"white\", \"gridcolor\": \"rgb(232,232,232)\", \"gridwidth\": 2, \"linecolor\": \"rgb(36,36,36)\", \"showbackground\": true, \"showgrid\": false, \"showline\": true, \"ticks\": \"outside\", \"zeroline\": false, \"zerolinecolor\": \"rgb(36,36,36)\"}, \"yaxis\": {\"backgroundcolor\": \"white\", \"gridcolor\": \"rgb(232,232,232)\", \"gridwidth\": 2, \"linecolor\": \"rgb(36,36,36)\", \"showbackground\": true, \"showgrid\": false, \"showline\": true, \"ticks\": \"outside\", \"zeroline\": false, \"zerolinecolor\": \"rgb(36,36,36)\"}, \"zaxis\": {\"backgroundcolor\": \"white\", \"gridcolor\": \"rgb(232,232,232)\", \"gridwidth\": 2, \"linecolor\": \"rgb(36,36,36)\", \"showbackground\": true, \"showgrid\": false, \"showline\": true, \"ticks\": \"outside\", \"zeroline\": false, \"zerolinecolor\": \"rgb(36,36,36)\"}}, \"shapedefaults\": {\"fillcolor\": \"black\", \"line\": {\"width\": 0}, \"opacity\": 0.3}, \"ternary\": {\"aaxis\": {\"gridcolor\": \"rgb(232,232,232)\", \"linecolor\": \"rgb(36,36,36)\", \"showgrid\": false, \"showline\": true, \"ticks\": \"outside\"}, \"baxis\": {\"gridcolor\": \"rgb(232,232,232)\", \"linecolor\": \"rgb(36,36,36)\", \"showgrid\": false, \"showline\": true, \"ticks\": \"outside\"}, \"bgcolor\": \"white\", \"caxis\": {\"gridcolor\": \"rgb(232,232,232)\", \"linecolor\": \"rgb(36,36,36)\", \"showgrid\": false, \"showline\": true, \"ticks\": \"outside\"}}, \"title\": {\"x\": 0.05}, \"xaxis\": {\"automargin\": true, \"gridcolor\": \"rgb(232,232,232)\", \"linecolor\": \"rgb(36,36,36)\", \"showgrid\": false, \"showline\": true, \"ticks\": \"outside\", \"title\": {\"standoff\": 15}, \"zeroline\": false, \"zerolinecolor\": \"rgb(36,36,36)\"}, \"yaxis\": {\"automargin\": true, \"gridcolor\": \"rgb(232,232,232)\", \"linecolor\": \"rgb(36,36,36)\", \"showgrid\": false, \"showline\": true, \"ticks\": \"outside\", \"title\": {\"standoff\": 15}, \"zeroline\": false, \"zerolinecolor\": \"rgb(36,36,36)\"}}}, \"title\": {\"font\": {\"color\": \"Black\", \"size\": 22}, \"text\": \"<b>Intertopic Distance Map\", \"x\": 0.5, \"xanchor\": \"center\", \"y\": 0.95, \"yanchor\": \"top\"}, \"width\": 650, \"xaxis\": {\"anchor\": \"y\", \"domain\": [0.0, 1.0], \"range\": [-9.936281156539916, 25.76405086517334], \"title\": {\"text\": \"\"}, \"visible\": false}, \"yaxis\": {\"anchor\": \"x\", \"domain\": [0.0, 1.0], \"range\": [-12.221251630783081, 26.714023494720458], \"title\": {\"text\": \"\"}, \"visible\": false}},                        {\"responsive\": true}                    ).then(function(){\n",
              "                            \n",
              "var gd = document.getElementById('8af51ae0-9977-4796-a013-472487515d63');\n",
              "var x = new MutationObserver(function (mutations, observer) {{\n",
              "        var display = window.getComputedStyle(gd).display;\n",
              "        if (!display || display === 'none') {{\n",
              "            console.log([gd, 'removed!']);\n",
              "            Plotly.purge(gd);\n",
              "            observer.disconnect();\n",
              "        }}\n",
              "}});\n",
              "\n",
              "// Listen for the removal of the full notebook cells\n",
              "var notebookContainer = gd.closest('#notebook-container');\n",
              "if (notebookContainer) {{\n",
              "    x.observe(notebookContainer, {childList: true});\n",
              "}}\n",
              "\n",
              "// Listen for the clearing of the current output cell\n",
              "var outputEl = gd.closest('.output');\n",
              "if (outputEl) {{\n",
              "    x.observe(outputEl, {childList: true});\n",
              "}}\n",
              "\n",
              "                        })                };                            </script>        </div>\n",
              "</body>\n",
              "</html>"
            ]
          },
          "metadata": {
            "tags": []
          }
        }
      ]
    },
    {
      "cell_type": "markdown",
      "metadata": {
        "id": "WDZ0Ec4BKvZm"
      },
      "source": [
        "\n",
        "\n",
        "# Silhouette Score\n",
        "\n",
        "We will now move to your part, in which you will need to implement Silhouette score. A way to evaluate the quality of the clusters.\n",
        "\n",
        "(source: wikipedia) The Silhouette score is a measure of how similar an object is to its own cluster (cohesion) compared to other clusters (separation). The silhouette ranges from −1 to +1, where a high value indicates that the object is well matched to its own cluster and poorly matched to neighboring clusters. If most objects have a high value, then the clustering configuration is appropriate. If many points have a low or negative value, then the clustering configuration may have too many or too few clusters. \n",
        "\n",
        "The silhouette can be calculated with any distance metric, such as the Euclidean distance or the Manhattan distance. \n",
        "\n",
        "The score can be calculated using the following:\n",
        "\n",
        "\n",
        "\n"
      ]
    },
    {
      "cell_type": "markdown",
      "metadata": {
        "id": "uqRgJXwzNsKi"
      },
      "source": [
        "![Untitled.png](data:image/png;base64,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)"
      ]
    },
    {
      "cell_type": "markdown",
      "metadata": {
        "id": "bYk0qOzvAbX4"
      },
      "source": [
        "After calculating the score for each data point we can derive the score for the entire dataset by simply taking the mean."
      ]
    },
    {
      "cell_type": "markdown",
      "metadata": {
        "id": "kXiHnOomC5WR"
      },
      "source": [
        "# EX 1"
      ]
    },
    {
      "cell_type": "markdown",
      "metadata": {
        "id": "-6fddBt8A1Od"
      },
      "source": [
        "Implement the score (for the entire dataset). Then claculate the score  coresponding to 5 instances of the topic modelling, each time calculated with a different number of topics  (nr_topics parameter in fit_transform) from the following values (50,100,150,250,500)\n",
        "\n",
        "\n",
        "**Note thay you need to decide a few things on your own, e.g. which distance to use?**"
      ]
    },
    {
      "cell_type": "code",
      "metadata": {
        "id": "ijM3KfOvM02M"
      },
      "source": [
        "import numpy as np\n",
        "from scipy.spatial import distance"
      ],
      "execution_count": 8,
      "outputs": []
    },
    {
      "cell_type": "code",
      "metadata": {
        "id": "XwTQqOPZDYql"
      },
      "source": [
        "# Implement the score (for the entire dataset)\n",
        "\n",
        "# Mean Silhouette Coefficient of all samples\n",
        "def silhouette_score(X, labels):\n",
        "    return np.mean(silhouette_samples(X, labels))\n",
        "\n",
        "# Silhouette Coefficient for each sample\n",
        "def silhouette_samples(X, labels):\n",
        "    n = labels.shape[0]\n",
        "    A = intra_cluster_distance(X, labels, n)\n",
        "    B = nearest_cluster_distance(X, labels, n)\n",
        "    sil_samples = (B - A) / np.maximum(A, B)\n",
        "    return np.nan_to_num(sil_samples)\n",
        "\n",
        "# Mean intra-cluster distance for sample i\n",
        "def intra_cluster_distance(X, labels, n):\n",
        "    A = np.zeros(n) \n",
        "\n",
        "    for i in range(n):\n",
        "      curr_embed = X[i].reshape(1, -1)\n",
        "      curr_label = labels[i]\n",
        "      Xi = np.delete(X, i, 0)\n",
        "      labels_i = np.delete(labels, i, 0)\n",
        "      indices = np.where(labels_i == curr_label)[0]\n",
        "    \n",
        "      if len(indices) == 0:\n",
        "          return 0.\n",
        "      \n",
        "      A[i] = np.mean(distance.cdist(curr_embed, Xi[indices],'cosine'))\n",
        "      \n",
        "    return A\n",
        "\n",
        "# Mean nearest-cluster distance for sample i\n",
        "def nearest_cluster_distance(X, labels, n):\n",
        "    B = np.zeros(n)\n",
        "    labels_set = np.unique(labels)\n",
        "\n",
        "    for i in range(n):\n",
        "      label = labels[i]\n",
        "      indices = np.where(labels != label)[0]\n",
        "      distances = np.zeros((len(indices),2))\n",
        "      distances[:,0] = distance.cdist(X[i].reshape(1, -1), X[indices],'cosine')\n",
        "      distances[:,1] = labels[indices]\n",
        "      means = []\n",
        "\n",
        "      for cur_label in labels_set:\n",
        "        \n",
        "        if cur_label != label:\n",
        "          tmp = distances[np.where(distances[:,1] == cur_label)]\n",
        "          means.append(np.mean(tmp[:,0]))\n",
        "      \n",
        "      B[i] = np.min(means)\n",
        "    \n",
        "    return B"
      ],
      "execution_count": 11,
      "outputs": []
    },
    {
      "cell_type": "code",
      "metadata": {
        "id": "Dh9WjWCsH-fI",
        "colab": {
          "base_uri": "https://localhost:8080/",
          "height": 611,
          "referenced_widgets": [
            "9afe2bbb89a5425ca5ed913df0e33081",
            "bc1d22972c0446f1b1abeb8f487d2d99",
            "f38d01bd212e425cb0bfb95684631bf2",
            "8be84fd59e4a47cca8d28d6896ed06ac",
            "ed2d8a2d357b4eafa16b4dcf85f48637",
            "9a53c74865594a0db51751c3e1ea0848",
            "03e440acc1f14f69929cf194e34e8467",
            "3364ce1dad744af1b78305058c87b913",
            "da7fcba722a847439a0df77b430341a3",
            "47474b641239496ea837402a4d7516e0",
            "ddccf1f653c14d5a9286d80458660fc1",
            "f6770a6766d44738ab3c1b69446c87be",
            "9bce77bd9e1a4d44a6f4efbcfae09460",
            "600789cdfb564c76a4e37a6c24fcaee7",
            "1c0a6d633cb141619205123b64c95d9a",
            "854d57786a294978982f406417d7a878",
            "9576ee6890ad422f93e8d89b01177b46",
            "c80d9f0397cb4278a98a4122b28334ea",
            "9dc768d312264296a347052fc44262fa",
            "cb8a6a651d194c1eb951f38618602273",
            "d661d7897ddf477da4ef48dee32fb5db",
            "dac94bc2f09044c098aa1316cfff2ca1",
            "f228e93c582040ba8d72c9e0e25de807",
            "b4803fa668674330a765fc4301841ada",
            "85dd781b8be446dfa4f8841bc9595125",
            "5e7642ba0b0441c2ab69e2e787d03d25",
            "b8d6ac02df184233a51e6e554d2f2c93",
            "5c9eed546c7c486ebb9cbb3b50ad6d2c",
            "5a86f27160fa40f7b2ecefcb5d6d3f9d",
            "10b393ef63054100be1fac2ab0961d2a",
            "381f6d438d4647368124b38e5277f6bc",
            "dbcbc6f758f64f5b962321c10b7d82eb",
            "3994e7e53fd24a5f842bbac302d42a30",
            "f527ff1e42c94d72bc96cce0e991996b",
            "db7e0a31f97d4d3f8c4b979b5172baf1",
            "7da7a38fd1554c19ac83400aed4992c3",
            "72cb26959de6408a9255239f5b7bc5aa",
            "5814bb7997c64e48bb69f9510aae7b4b",
            "d78fb282bf82428aaa77f7a4830b1437",
            "c50c9a15a2d64e3796488be0dfc4328b"
          ]
        },
        "outputId": "12c7f7cc-f562-4141-9021-443b7baf5f59"
      },
      "source": [
        "# Calculate the score coresponding to 5 instances of the topic modelling, each time calculated with a different number of topics (nr_topics parameter in fit_transform) from the following values\n",
        "# (50,100,150,250,500)\n",
        "\n",
        "embeddings=topic_model._extract_embeddings(tweets)\n",
        "sil_scores= {}\n",
        "\n",
        "for n_topics in [50,100,150,250,500]:\n",
        "    topic_model = BERTopic(nr_topics=n_topics ,verbose=True)\n",
        "    topics, _ = topic_model.fit_transform(tweets)\n",
        "    topics = np.array(topics)\n",
        "    real_topics_indices = np.where(topics != -1)[0]\n",
        "    sil_scores[n_topics] = silhouette_score(embeddings[real_topics_indices], topics[real_topics_indices])"
      ],
      "execution_count": 12,
      "outputs": [
        {
          "output_type": "display_data",
          "data": {
            "application/vnd.jupyter.widget-view+json": {
              "model_id": "9afe2bbb89a5425ca5ed913df0e33081",
              "version_minor": 0,
              "version_major": 2
            },
            "text/plain": [
              "HBox(children=(FloatProgress(value=0.0, description='Batches', max=1418.0, style=ProgressStyle(description_wid…"
            ]
          },
          "metadata": {
            "tags": []
          }
        },
        {
          "output_type": "stream",
          "text": [
            "2021-06-20 09:46:32,949 - BERTopic - Transformed documents to Embeddings\n"
          ],
          "name": "stderr"
        },
        {
          "output_type": "stream",
          "text": [
            "\n"
          ],
          "name": "stdout"
        },
        {
          "output_type": "stream",
          "text": [
            "2021-06-20 09:47:10,019 - BERTopic - Reduced dimensionality with UMAP\n",
            "2021-06-20 09:47:13,986 - BERTopic - Clustered UMAP embeddings with HDBSCAN\n",
            "2021-06-20 09:47:34,114 - BERTopic - Reduced number of topics from 570 to 51\n"
          ],
          "name": "stderr"
        },
        {
          "output_type": "display_data",
          "data": {
            "application/vnd.jupyter.widget-view+json": {
              "model_id": "da7fcba722a847439a0df77b430341a3",
              "version_minor": 0,
              "version_major": 2
            },
            "text/plain": [
              "HBox(children=(FloatProgress(value=0.0, description='Batches', max=1418.0, style=ProgressStyle(description_wid…"
            ]
          },
          "metadata": {
            "tags": []
          }
        },
        {
          "output_type": "stream",
          "text": [
            "2021-06-20 10:10:01,094 - BERTopic - Transformed documents to Embeddings\n"
          ],
          "name": "stderr"
        },
        {
          "output_type": "stream",
          "text": [
            "\n"
          ],
          "name": "stdout"
        },
        {
          "output_type": "stream",
          "text": [
            "2021-06-20 10:10:35,895 - BERTopic - Reduced dimensionality with UMAP\n",
            "2021-06-20 10:10:39,791 - BERTopic - Clustered UMAP embeddings with HDBSCAN\n",
            "2021-06-20 10:11:01,403 - BERTopic - Reduced number of topics from 584 to 101\n"
          ],
          "name": "stderr"
        },
        {
          "output_type": "display_data",
          "data": {
            "application/vnd.jupyter.widget-view+json": {
              "model_id": "9576ee6890ad422f93e8d89b01177b46",
              "version_minor": 0,
              "version_major": 2
            },
            "text/plain": [
              "HBox(children=(FloatProgress(value=0.0, description='Batches', max=1418.0, style=ProgressStyle(description_wid…"
            ]
          },
          "metadata": {
            "tags": []
          }
        },
        {
          "output_type": "stream",
          "text": [
            "2021-06-20 10:35:35,859 - BERTopic - Transformed documents to Embeddings\n"
          ],
          "name": "stderr"
        },
        {
          "output_type": "stream",
          "text": [
            "\n"
          ],
          "name": "stdout"
        },
        {
          "output_type": "stream",
          "text": [
            "2021-06-20 10:36:12,391 - BERTopic - Reduced dimensionality with UMAP\n",
            "2021-06-20 10:36:16,187 - BERTopic - Clustered UMAP embeddings with HDBSCAN\n",
            "2021-06-20 10:36:37,654 - BERTopic - Reduced number of topics from 567 to 151\n"
          ],
          "name": "stderr"
        },
        {
          "output_type": "display_data",
          "data": {
            "application/vnd.jupyter.widget-view+json": {
              "model_id": "85dd781b8be446dfa4f8841bc9595125",
              "version_minor": 0,
              "version_major": 2
            },
            "text/plain": [
              "HBox(children=(FloatProgress(value=0.0, description='Batches', max=1418.0, style=ProgressStyle(description_wid…"
            ]
          },
          "metadata": {
            "tags": []
          }
        },
        {
          "output_type": "stream",
          "text": [
            "2021-06-20 11:02:38,947 - BERTopic - Transformed documents to Embeddings\n"
          ],
          "name": "stderr"
        },
        {
          "output_type": "stream",
          "text": [
            "\n"
          ],
          "name": "stdout"
        },
        {
          "output_type": "stream",
          "text": [
            "2021-06-20 11:03:16,039 - BERTopic - Reduced dimensionality with UMAP\n",
            "2021-06-20 11:03:19,881 - BERTopic - Clustered UMAP embeddings with HDBSCAN\n",
            "2021-06-20 11:03:43,722 - BERTopic - Reduced number of topics from 584 to 251\n"
          ],
          "name": "stderr"
        },
        {
          "output_type": "display_data",
          "data": {
            "application/vnd.jupyter.widget-view+json": {
              "model_id": "3994e7e53fd24a5f842bbac302d42a30",
              "version_minor": 0,
              "version_major": 2
            },
            "text/plain": [
              "HBox(children=(FloatProgress(value=0.0, description='Batches', max=1418.0, style=ProgressStyle(description_wid…"
            ]
          },
          "metadata": {
            "tags": []
          }
        },
        {
          "output_type": "stream",
          "text": [
            "2021-06-20 11:31:10,544 - BERTopic - Transformed documents to Embeddings\n"
          ],
          "name": "stderr"
        },
        {
          "output_type": "stream",
          "text": [
            "\n"
          ],
          "name": "stdout"
        },
        {
          "output_type": "stream",
          "text": [
            "2021-06-20 11:31:46,200 - BERTopic - Reduced dimensionality with UMAP\n",
            "2021-06-20 11:31:50,258 - BERTopic - Clustered UMAP embeddings with HDBSCAN\n",
            "2021-06-20 11:32:16,913 - BERTopic - Reduced number of topics from 584 to 501\n"
          ],
          "name": "stderr"
        }
      ]
    },
    {
      "cell_type": "code",
      "metadata": {
        "id": "crO_ADclcL8D",
        "colab": {
          "base_uri": "https://localhost:8080/"
        },
        "outputId": "374f62d9-ab3c-49fc-c9e5-52673ae7ca33"
      },
      "source": [
        "sil_scores"
      ],
      "execution_count": 13,
      "outputs": [
        {
          "output_type": "execute_result",
          "data": {
            "text/plain": [
              "{50: 0.018528535324222783,\n",
              " 100: 0.01959213437208318,\n",
              " 150: 0.03603807386599446,\n",
              " 250: 0.04372181905637114,\n",
              " 500: 0.06953413537615033}"
            ]
          },
          "metadata": {
            "tags": []
          },
          "execution_count": 13
        }
      ]
    },
    {
      "cell_type": "markdown",
      "metadata": {
        "id": "nhKp2WdsUjcF"
      },
      "source": [
        "We can see that the Silhouette score gets (a little bit) better with more topics."
      ]
    },
    {
      "cell_type": "markdown",
      "metadata": {
        "id": "_cYD21vzB3TI"
      },
      "source": [
        "## Good Luck"
      ]
    }
  ]
}
